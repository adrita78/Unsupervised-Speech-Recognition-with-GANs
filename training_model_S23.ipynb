{
  "cells": [
    {
      "cell_type": "markdown",
      "metadata": {
        "id": "me7MaEVG66Pb"
      },
      "source": [
        "# HW5: Unsupervised Speech Recognition (USR)"
      ],
      "id": "me7MaEVG66Pb"
    },
    {
      "cell_type": "markdown",
      "metadata": {
        "id": "CdBewqEe7Xjs"
      },
      "source": [
        "Welcome to HW5 in Introduction to Deep Learning 11685. You will be working on Unsupervised Speech Recognition with GANs in this HW. You will be reimplementing and further improving on the model given in the USR paper by Facebook AI.<br>\n",
        "Link: https://arxiv.org/abs/2105.11084\n"
      ],
      "id": "CdBewqEe7Xjs"
    },
    {
      "cell_type": "markdown",
      "metadata": {
        "id": "vih9ZiCQ7skd"
      },
      "source": [
        "# Installations"
      ],
      "id": "vih9ZiCQ7skd"
    },
    {
      "cell_type": "code",
      "execution_count": null,
      "metadata": {
        "colab": {
          "base_uri": "https://localhost:8080/"
        },
        "id": "DgYdpT-l7v_C",
        "outputId": "bf50b179-2f21-4ee3-8344-ad7cbaf8cb48"
      },
      "outputs": [
        {
          "output_type": "stream",
          "name": "stdout",
          "text": [
            "Collecting git+https://github.com/pytorch/fairseq\n",
            "  Cloning https://github.com/pytorch/fairseq to /tmp/pip-req-build-hdhuxh03\n",
            "  Running command git clone --filter=blob:none --quiet https://github.com/pytorch/fairseq /tmp/pip-req-build-hdhuxh03\n",
            "  Resolved https://github.com/pytorch/fairseq to commit da8fb630880d529ab47e53381c30ddc8ad235216\n",
            "  Running command git submodule update --init --recursive -q\n",
            "  Installing build dependencies ... \u001b[?25l\u001b[?25hdone\n",
            "  Getting requirements to build wheel ... \u001b[?25l\u001b[?25hdone\n",
            "  Preparing metadata (pyproject.toml) ... \u001b[?25l\u001b[?25hdone\n",
            "Requirement already satisfied: cffi in /usr/local/lib/python3.10/dist-packages (from fairseq==0.12.2) (1.15.1)\n",
            "Requirement already satisfied: cython in /usr/local/lib/python3.10/dist-packages (from fairseq==0.12.2) (3.0.2)\n",
            "Collecting hydra-core<1.1,>=1.0.7 (from fairseq==0.12.2)\n",
            "  Downloading hydra_core-1.0.7-py3-none-any.whl (123 kB)\n",
            "\u001b[2K     \u001b[90m━━━━━━━━━━━━━━━━━━━━━━━━━━━━━━━━━━━━━\u001b[0m \u001b[32m123.8/123.8 kB\u001b[0m \u001b[31m488.2 kB/s\u001b[0m eta \u001b[36m0:00:00\u001b[0m\n",
            "\u001b[?25hCollecting omegaconf<2.1 (from fairseq==0.12.2)\n",
            "  Downloading omegaconf-2.0.6-py3-none-any.whl (36 kB)\n",
            "Requirement already satisfied: numpy>=1.21.3 in /usr/local/lib/python3.10/dist-packages (from fairseq==0.12.2) (1.23.5)\n",
            "Requirement already satisfied: regex in /usr/local/lib/python3.10/dist-packages (from fairseq==0.12.2) (2023.6.3)\n",
            "Collecting sacrebleu>=1.4.12 (from fairseq==0.12.2)\n",
            "  Downloading sacrebleu-2.3.2-py3-none-any.whl (119 kB)\n",
            "\u001b[2K     \u001b[90m━━━━━━━━━━━━━━━━━━━━━━━━━━━━━━━━━━━━━\u001b[0m \u001b[32m119.7/119.7 kB\u001b[0m \u001b[31m602.8 kB/s\u001b[0m eta \u001b[36m0:00:00\u001b[0m\n",
            "\u001b[?25hRequirement already satisfied: torch>=1.13 in /usr/local/lib/python3.10/dist-packages (from fairseq==0.12.2) (2.0.1+cu118)\n",
            "Requirement already satisfied: tqdm in /usr/local/lib/python3.10/dist-packages (from fairseq==0.12.2) (4.66.1)\n",
            "Collecting bitarray (from fairseq==0.12.2)\n",
            "  Downloading bitarray-2.8.3-cp310-cp310-manylinux_2_17_x86_64.manylinux2014_x86_64.whl (287 kB)\n",
            "\u001b[2K     \u001b[90m━━━━━━━━━━━━━━━━━━━━━━━━━━━━━━━━━━━━━━\u001b[0m \u001b[32m287.4/287.4 kB\u001b[0m \u001b[31m11.0 MB/s\u001b[0m eta \u001b[36m0:00:00\u001b[0m\n",
            "\u001b[?25hRequirement already satisfied: torchaudio>=0.8.0 in /usr/local/lib/python3.10/dist-packages (from fairseq==0.12.2) (2.0.2+cu118)\n",
            "Requirement already satisfied: scikit-learn in /usr/local/lib/python3.10/dist-packages (from fairseq==0.12.2) (1.2.2)\n",
            "Requirement already satisfied: packaging in /usr/local/lib/python3.10/dist-packages (from fairseq==0.12.2) (23.1)\n",
            "Collecting antlr4-python3-runtime==4.8 (from hydra-core<1.1,>=1.0.7->fairseq==0.12.2)\n",
            "  Downloading antlr4-python3-runtime-4.8.tar.gz (112 kB)\n",
            "\u001b[2K     \u001b[90m━━━━━━━━━━━━━━━━━━━━━━━━━━━━━━━━━━━━━━━\u001b[0m \u001b[32m112.4/112.4 kB\u001b[0m \u001b[31m9.8 MB/s\u001b[0m eta \u001b[36m0:00:00\u001b[0m\n",
            "\u001b[?25h  Preparing metadata (setup.py) ... \u001b[?25l\u001b[?25hdone\n",
            "Requirement already satisfied: PyYAML>=5.1.* in /usr/local/lib/python3.10/dist-packages (from omegaconf<2.1->fairseq==0.12.2) (6.0.1)\n",
            "Requirement already satisfied: typing-extensions in /usr/local/lib/python3.10/dist-packages (from omegaconf<2.1->fairseq==0.12.2) (4.5.0)\n",
            "Collecting portalocker (from sacrebleu>=1.4.12->fairseq==0.12.2)\n",
            "  Downloading portalocker-2.8.2-py3-none-any.whl (17 kB)\n",
            "Requirement already satisfied: tabulate>=0.8.9 in /usr/local/lib/python3.10/dist-packages (from sacrebleu>=1.4.12->fairseq==0.12.2) (0.9.0)\n",
            "Collecting colorama (from sacrebleu>=1.4.12->fairseq==0.12.2)\n",
            "  Downloading colorama-0.4.6-py2.py3-none-any.whl (25 kB)\n",
            "Requirement already satisfied: lxml in /usr/local/lib/python3.10/dist-packages (from sacrebleu>=1.4.12->fairseq==0.12.2) (4.9.3)\n",
            "Requirement already satisfied: filelock in /usr/local/lib/python3.10/dist-packages (from torch>=1.13->fairseq==0.12.2) (3.12.2)\n",
            "Requirement already satisfied: sympy in /usr/local/lib/python3.10/dist-packages (from torch>=1.13->fairseq==0.12.2) (1.12)\n",
            "Requirement already satisfied: networkx in /usr/local/lib/python3.10/dist-packages (from torch>=1.13->fairseq==0.12.2) (3.1)\n",
            "Requirement already satisfied: jinja2 in /usr/local/lib/python3.10/dist-packages (from torch>=1.13->fairseq==0.12.2) (3.1.2)\n",
            "Requirement already satisfied: triton==2.0.0 in /usr/local/lib/python3.10/dist-packages (from torch>=1.13->fairseq==0.12.2) (2.0.0)\n",
            "Requirement already satisfied: cmake in /usr/local/lib/python3.10/dist-packages (from triton==2.0.0->torch>=1.13->fairseq==0.12.2) (3.27.4.1)\n",
            "Requirement already satisfied: lit in /usr/local/lib/python3.10/dist-packages (from triton==2.0.0->torch>=1.13->fairseq==0.12.2) (16.0.6)\n",
            "Requirement already satisfied: pycparser in /usr/local/lib/python3.10/dist-packages (from cffi->fairseq==0.12.2) (2.21)\n",
            "Requirement already satisfied: scipy>=1.3.2 in /usr/local/lib/python3.10/dist-packages (from scikit-learn->fairseq==0.12.2) (1.11.2)\n",
            "Requirement already satisfied: joblib>=1.1.1 in /usr/local/lib/python3.10/dist-packages (from scikit-learn->fairseq==0.12.2) (1.3.2)\n",
            "Requirement already satisfied: threadpoolctl>=2.0.0 in /usr/local/lib/python3.10/dist-packages (from scikit-learn->fairseq==0.12.2) (3.2.0)\n",
            "Requirement already satisfied: MarkupSafe>=2.0 in /usr/local/lib/python3.10/dist-packages (from jinja2->torch>=1.13->fairseq==0.12.2) (2.1.3)\n",
            "Requirement already satisfied: mpmath>=0.19 in /usr/local/lib/python3.10/dist-packages (from sympy->torch>=1.13->fairseq==0.12.2) (1.3.0)\n",
            "Building wheels for collected packages: fairseq, antlr4-python3-runtime\n",
            "  Building wheel for fairseq (pyproject.toml) ... \u001b[?25l\u001b[?25hdone\n",
            "  Created wheel for fairseq: filename=fairseq-0.12.2-cp310-cp310-linux_x86_64.whl size=19974562 sha256=9b0eb73d4a3a7ffdcd88bf7376edde649e9ed1b7a4713d1b50e12c696651c528\n",
            "  Stored in directory: /tmp/pip-ephem-wheel-cache-1ddvums0/wheels/94/32/b4/a0f93f3344524353f9fb792b7be28b77456e31c39b01306efa\n",
            "  Building wheel for antlr4-python3-runtime (setup.py) ... \u001b[?25l\u001b[?25hdone\n",
            "  Created wheel for antlr4-python3-runtime: filename=antlr4_python3_runtime-4.8-py3-none-any.whl size=141209 sha256=03c100c32de43ad34efe6474f90be4dd069ca33fc0ec4f87a6cb1cbae7f13b27\n",
            "  Stored in directory: /root/.cache/pip/wheels/a7/20/bd/e1477d664f22d99989fd28ee1a43d6633dddb5cb9e801350d5\n",
            "Successfully built fairseq antlr4-python3-runtime\n",
            "Installing collected packages: bitarray, antlr4-python3-runtime, portalocker, omegaconf, colorama, sacrebleu, hydra-core, fairseq\n",
            "Successfully installed antlr4-python3-runtime-4.8 bitarray-2.8.3 colorama-0.4.6 fairseq-0.12.2 hydra-core-1.0.7 omegaconf-2.0.6 portalocker-2.8.2 sacrebleu-2.3.2\n",
            "Collecting torchsummaryX\n",
            "  Downloading torchsummaryX-1.3.0-py3-none-any.whl (3.6 kB)\n",
            "Requirement already satisfied: torch in /usr/local/lib/python3.10/dist-packages (from torchsummaryX) (2.0.1+cu118)\n",
            "Requirement already satisfied: numpy in /usr/local/lib/python3.10/dist-packages (from torchsummaryX) (1.23.5)\n",
            "Requirement already satisfied: pandas in /usr/local/lib/python3.10/dist-packages (from torchsummaryX) (1.5.3)\n",
            "Requirement already satisfied: python-dateutil>=2.8.1 in /usr/local/lib/python3.10/dist-packages (from pandas->torchsummaryX) (2.8.2)\n",
            "Requirement already satisfied: pytz>=2020.1 in /usr/local/lib/python3.10/dist-packages (from pandas->torchsummaryX) (2023.3.post1)\n",
            "Requirement already satisfied: filelock in /usr/local/lib/python3.10/dist-packages (from torch->torchsummaryX) (3.12.2)\n",
            "Requirement already satisfied: typing-extensions in /usr/local/lib/python3.10/dist-packages (from torch->torchsummaryX) (4.5.0)\n",
            "Requirement already satisfied: sympy in /usr/local/lib/python3.10/dist-packages (from torch->torchsummaryX) (1.12)\n",
            "Requirement already satisfied: networkx in /usr/local/lib/python3.10/dist-packages (from torch->torchsummaryX) (3.1)\n",
            "Requirement already satisfied: jinja2 in /usr/local/lib/python3.10/dist-packages (from torch->torchsummaryX) (3.1.2)\n",
            "Requirement already satisfied: triton==2.0.0 in /usr/local/lib/python3.10/dist-packages (from torch->torchsummaryX) (2.0.0)\n",
            "Requirement already satisfied: cmake in /usr/local/lib/python3.10/dist-packages (from triton==2.0.0->torch->torchsummaryX) (3.27.4.1)\n",
            "Requirement already satisfied: lit in /usr/local/lib/python3.10/dist-packages (from triton==2.0.0->torch->torchsummaryX) (16.0.6)\n",
            "Requirement already satisfied: six>=1.5 in /usr/local/lib/python3.10/dist-packages (from python-dateutil>=2.8.1->pandas->torchsummaryX) (1.16.0)\n",
            "Requirement already satisfied: MarkupSafe>=2.0 in /usr/local/lib/python3.10/dist-packages (from jinja2->torch->torchsummaryX) (2.1.3)\n",
            "Requirement already satisfied: mpmath>=0.19 in /usr/local/lib/python3.10/dist-packages (from sympy->torch->torchsummaryX) (1.3.0)\n",
            "Installing collected packages: torchsummaryX\n",
            "Successfully installed torchsummaryX-1.3.0\n",
            "Collecting wandb\n",
            "  Downloading wandb-0.16.0-py3-none-any.whl (2.1 MB)\n",
            "\u001b[2K     \u001b[90m━━━━━━━━━━━━━━━━━━━━━━━━━━━━━━━━━━━━━━━━\u001b[0m \u001b[32m2.1/2.1 MB\u001b[0m \u001b[31m14.3 MB/s\u001b[0m eta \u001b[36m0:00:00\u001b[0m\n",
            "\u001b[?25hRequirement already satisfied: Click!=8.0.0,>=7.1 in /usr/local/lib/python3.10/dist-packages (from wandb) (8.1.7)\n",
            "Collecting GitPython!=3.1.29,>=1.0.0 (from wandb)\n",
            "  Downloading GitPython-3.1.40-py3-none-any.whl (190 kB)\n",
            "\u001b[2K     \u001b[90m━━━━━━━━━━━━━━━━━━━━━━━━━━━━━━━━━━━━━━\u001b[0m \u001b[32m190.6/190.6 kB\u001b[0m \u001b[31m18.4 MB/s\u001b[0m eta \u001b[36m0:00:00\u001b[0m\n",
            "\u001b[?25hRequirement already satisfied: requests<3,>=2.0.0 in /usr/local/lib/python3.10/dist-packages (from wandb) (2.31.0)\n",
            "Requirement already satisfied: psutil>=5.0.0 in /usr/local/lib/python3.10/dist-packages (from wandb) (5.9.5)\n",
            "Collecting sentry-sdk>=1.0.0 (from wandb)\n",
            "  Downloading sentry_sdk-1.35.0-py2.py3-none-any.whl (248 kB)\n",
            "\u001b[2K     \u001b[90m━━━━━━━━━━━━━━━━━━━━━━━━━━━━━━━━━━━━━━\u001b[0m \u001b[32m248.6/248.6 kB\u001b[0m \u001b[31m22.0 MB/s\u001b[0m eta \u001b[36m0:00:00\u001b[0m\n",
            "\u001b[?25hCollecting docker-pycreds>=0.4.0 (from wandb)\n",
            "  Downloading docker_pycreds-0.4.0-py2.py3-none-any.whl (9.0 kB)\n",
            "Requirement already satisfied: PyYAML in /usr/local/lib/python3.10/dist-packages (from wandb) (6.0.1)\n",
            "Collecting setproctitle (from wandb)\n",
            "  Downloading setproctitle-1.3.3-cp310-cp310-manylinux_2_5_x86_64.manylinux1_x86_64.manylinux_2_17_x86_64.manylinux2014_x86_64.whl (30 kB)\n",
            "Requirement already satisfied: setuptools in /usr/local/lib/python3.10/dist-packages (from wandb) (67.7.2)\n",
            "Requirement already satisfied: appdirs>=1.4.3 in /usr/local/lib/python3.10/dist-packages (from wandb) (1.4.4)\n",
            "Requirement already satisfied: protobuf!=4.21.0,<5,>=3.19.0 in /usr/local/lib/python3.10/dist-packages (from wandb) (3.20.3)\n",
            "Requirement already satisfied: six>=1.4.0 in /usr/local/lib/python3.10/dist-packages (from docker-pycreds>=0.4.0->wandb) (1.16.0)\n",
            "Collecting gitdb<5,>=4.0.1 (from GitPython!=3.1.29,>=1.0.0->wandb)\n",
            "  Downloading gitdb-4.0.11-py3-none-any.whl (62 kB)\n",
            "\u001b[2K     \u001b[90m━━━━━━━━━━━━━━━━━━━━━━━━━━━━━━━━━━━━━━━━\u001b[0m \u001b[32m62.7/62.7 kB\u001b[0m \u001b[31m15.9 MB/s\u001b[0m eta \u001b[36m0:00:00\u001b[0m\n",
            "\u001b[?25hRequirement already satisfied: charset-normalizer<4,>=2 in /usr/local/lib/python3.10/dist-packages (from requests<3,>=2.0.0->wandb) (3.2.0)\n",
            "Requirement already satisfied: idna<4,>=2.5 in /usr/local/lib/python3.10/dist-packages (from requests<3,>=2.0.0->wandb) (3.4)\n",
            "Requirement already satisfied: urllib3<3,>=1.21.1 in /usr/local/lib/python3.10/dist-packages (from requests<3,>=2.0.0->wandb) (2.0.4)\n",
            "Requirement already satisfied: certifi>=2017.4.17 in /usr/local/lib/python3.10/dist-packages (from requests<3,>=2.0.0->wandb) (2023.7.22)\n",
            "Collecting smmap<6,>=3.0.1 (from gitdb<5,>=4.0.1->GitPython!=3.1.29,>=1.0.0->wandb)\n",
            "  Downloading smmap-5.0.1-py3-none-any.whl (24 kB)\n",
            "Installing collected packages: smmap, setproctitle, sentry-sdk, docker-pycreds, gitdb, GitPython, wandb\n",
            "Successfully installed GitPython-3.1.40 docker-pycreds-0.4.0 gitdb-4.0.11 sentry-sdk-1.35.0 setproctitle-1.3.3 smmap-5.0.1 wandb-0.16.0\n",
            "Requirement already satisfied: scikit-learn in /usr/local/lib/python3.10/dist-packages (1.2.2)\n",
            "Requirement already satisfied: numpy>=1.17.3 in /usr/local/lib/python3.10/dist-packages (from scikit-learn) (1.23.5)\n",
            "Requirement already satisfied: scipy>=1.3.2 in /usr/local/lib/python3.10/dist-packages (from scikit-learn) (1.11.2)\n",
            "Requirement already satisfied: joblib>=1.1.1 in /usr/local/lib/python3.10/dist-packages (from scikit-learn) (1.3.2)\n",
            "Requirement already satisfied: threadpoolctl>=2.0.0 in /usr/local/lib/python3.10/dist-packages (from scikit-learn) (3.2.0)\n",
            "Requirement already satisfied: matplotlib in /usr/local/lib/python3.10/dist-packages (3.7.1)\n",
            "Requirement already satisfied: contourpy>=1.0.1 in /usr/local/lib/python3.10/dist-packages (from matplotlib) (1.1.0)\n",
            "Requirement already satisfied: cycler>=0.10 in /usr/local/lib/python3.10/dist-packages (from matplotlib) (0.11.0)\n",
            "Requirement already satisfied: fonttools>=4.22.0 in /usr/local/lib/python3.10/dist-packages (from matplotlib) (4.42.1)\n",
            "Requirement already satisfied: kiwisolver>=1.0.1 in /usr/local/lib/python3.10/dist-packages (from matplotlib) (1.4.5)\n",
            "Requirement already satisfied: numpy>=1.20 in /usr/local/lib/python3.10/dist-packages (from matplotlib) (1.23.5)\n",
            "Requirement already satisfied: packaging>=20.0 in /usr/local/lib/python3.10/dist-packages (from matplotlib) (23.1)\n",
            "Requirement already satisfied: pillow>=6.2.0 in /usr/local/lib/python3.10/dist-packages (from matplotlib) (9.4.0)\n",
            "Requirement already satisfied: pyparsing>=2.3.1 in /usr/local/lib/python3.10/dist-packages (from matplotlib) (3.1.1)\n",
            "Requirement already satisfied: python-dateutil>=2.7 in /usr/local/lib/python3.10/dist-packages (from matplotlib) (2.8.2)\n",
            "Requirement already satisfied: six>=1.5 in /usr/local/lib/python3.10/dist-packages (from python-dateutil>=2.7->matplotlib) (1.16.0)\n",
            "Requirement already satisfied: tqdm in /usr/local/lib/python3.10/dist-packages (4.66.1)\n",
            "Requirement already satisfied: torch in /usr/local/lib/python3.10/dist-packages (2.0.1+cu118)\n",
            "Requirement already satisfied: torchvision in /usr/local/lib/python3.10/dist-packages (0.15.2+cu118)\n",
            "Requirement already satisfied: filelock in /usr/local/lib/python3.10/dist-packages (from torch) (3.12.2)\n",
            "Requirement already satisfied: typing-extensions in /usr/local/lib/python3.10/dist-packages (from torch) (4.5.0)\n",
            "Requirement already satisfied: sympy in /usr/local/lib/python3.10/dist-packages (from torch) (1.12)\n",
            "Requirement already satisfied: networkx in /usr/local/lib/python3.10/dist-packages (from torch) (3.1)\n",
            "Requirement already satisfied: jinja2 in /usr/local/lib/python3.10/dist-packages (from torch) (3.1.2)\n",
            "Requirement already satisfied: triton==2.0.0 in /usr/local/lib/python3.10/dist-packages (from torch) (2.0.0)\n",
            "Requirement already satisfied: cmake in /usr/local/lib/python3.10/dist-packages (from triton==2.0.0->torch) (3.27.4.1)\n",
            "Requirement already satisfied: lit in /usr/local/lib/python3.10/dist-packages (from triton==2.0.0->torch) (16.0.6)\n",
            "Requirement already satisfied: numpy in /usr/local/lib/python3.10/dist-packages (from torchvision) (1.23.5)\n",
            "Requirement already satisfied: requests in /usr/local/lib/python3.10/dist-packages (from torchvision) (2.31.0)\n",
            "Requirement already satisfied: pillow!=8.3.*,>=5.3.0 in /usr/local/lib/python3.10/dist-packages (from torchvision) (9.4.0)\n",
            "Requirement already satisfied: MarkupSafe>=2.0 in /usr/local/lib/python3.10/dist-packages (from jinja2->torch) (2.1.3)\n",
            "Requirement already satisfied: charset-normalizer<4,>=2 in /usr/local/lib/python3.10/dist-packages (from requests->torchvision) (3.2.0)\n",
            "Requirement already satisfied: idna<4,>=2.5 in /usr/local/lib/python3.10/dist-packages (from requests->torchvision) (3.4)\n",
            "Requirement already satisfied: urllib3<3,>=1.21.1 in /usr/local/lib/python3.10/dist-packages (from requests->torchvision) (2.0.4)\n",
            "Requirement already satisfied: certifi>=2017.4.17 in /usr/local/lib/python3.10/dist-packages (from requests->torchvision) (2023.7.22)\n",
            "Requirement already satisfied: mpmath>=0.19 in /usr/local/lib/python3.10/dist-packages (from sympy->torch) (1.3.0)\n",
            "Requirement already satisfied: fairseq in /usr/local/lib/python3.10/dist-packages (0.12.2)\n",
            "Requirement already satisfied: cffi in /usr/local/lib/python3.10/dist-packages (from fairseq) (1.15.1)\n",
            "Requirement already satisfied: cython in /usr/local/lib/python3.10/dist-packages (from fairseq) (3.0.2)\n",
            "Requirement already satisfied: hydra-core<1.1,>=1.0.7 in /usr/local/lib/python3.10/dist-packages (from fairseq) (1.0.7)\n",
            "Requirement already satisfied: omegaconf<2.1 in /usr/local/lib/python3.10/dist-packages (from fairseq) (2.0.6)\n",
            "Requirement already satisfied: numpy>=1.21.3 in /usr/local/lib/python3.10/dist-packages (from fairseq) (1.23.5)\n",
            "Requirement already satisfied: regex in /usr/local/lib/python3.10/dist-packages (from fairseq) (2023.6.3)\n",
            "Requirement already satisfied: sacrebleu>=1.4.12 in /usr/local/lib/python3.10/dist-packages (from fairseq) (2.3.2)\n",
            "Requirement already satisfied: torch>=1.13 in /usr/local/lib/python3.10/dist-packages (from fairseq) (2.0.1+cu118)\n",
            "Requirement already satisfied: tqdm in /usr/local/lib/python3.10/dist-packages (from fairseq) (4.66.1)\n",
            "Requirement already satisfied: bitarray in /usr/local/lib/python3.10/dist-packages (from fairseq) (2.8.3)\n",
            "Requirement already satisfied: torchaudio>=0.8.0 in /usr/local/lib/python3.10/dist-packages (from fairseq) (2.0.2+cu118)\n",
            "Requirement already satisfied: scikit-learn in /usr/local/lib/python3.10/dist-packages (from fairseq) (1.2.2)\n",
            "Requirement already satisfied: packaging in /usr/local/lib/python3.10/dist-packages (from fairseq) (23.1)\n",
            "Requirement already satisfied: antlr4-python3-runtime==4.8 in /usr/local/lib/python3.10/dist-packages (from hydra-core<1.1,>=1.0.7->fairseq) (4.8)\n",
            "Requirement already satisfied: PyYAML>=5.1.* in /usr/local/lib/python3.10/dist-packages (from omegaconf<2.1->fairseq) (6.0.1)\n",
            "Requirement already satisfied: typing-extensions in /usr/local/lib/python3.10/dist-packages (from omegaconf<2.1->fairseq) (4.5.0)\n",
            "Requirement already satisfied: portalocker in /usr/local/lib/python3.10/dist-packages (from sacrebleu>=1.4.12->fairseq) (2.8.2)\n",
            "Requirement already satisfied: tabulate>=0.8.9 in /usr/local/lib/python3.10/dist-packages (from sacrebleu>=1.4.12->fairseq) (0.9.0)\n",
            "Requirement already satisfied: colorama in /usr/local/lib/python3.10/dist-packages (from sacrebleu>=1.4.12->fairseq) (0.4.6)\n",
            "Requirement already satisfied: lxml in /usr/local/lib/python3.10/dist-packages (from sacrebleu>=1.4.12->fairseq) (4.9.3)\n",
            "Requirement already satisfied: filelock in /usr/local/lib/python3.10/dist-packages (from torch>=1.13->fairseq) (3.12.2)\n",
            "Requirement already satisfied: sympy in /usr/local/lib/python3.10/dist-packages (from torch>=1.13->fairseq) (1.12)\n",
            "Requirement already satisfied: networkx in /usr/local/lib/python3.10/dist-packages (from torch>=1.13->fairseq) (3.1)\n",
            "Requirement already satisfied: jinja2 in /usr/local/lib/python3.10/dist-packages (from torch>=1.13->fairseq) (3.1.2)\n",
            "Requirement already satisfied: triton==2.0.0 in /usr/local/lib/python3.10/dist-packages (from torch>=1.13->fairseq) (2.0.0)\n",
            "Requirement already satisfied: cmake in /usr/local/lib/python3.10/dist-packages (from triton==2.0.0->torch>=1.13->fairseq) (3.27.4.1)\n",
            "Requirement already satisfied: lit in /usr/local/lib/python3.10/dist-packages (from triton==2.0.0->torch>=1.13->fairseq) (16.0.6)\n",
            "Requirement already satisfied: pycparser in /usr/local/lib/python3.10/dist-packages (from cffi->fairseq) (2.21)\n",
            "Requirement already satisfied: scipy>=1.3.2 in /usr/local/lib/python3.10/dist-packages (from scikit-learn->fairseq) (1.11.2)\n",
            "Requirement already satisfied: joblib>=1.1.1 in /usr/local/lib/python3.10/dist-packages (from scikit-learn->fairseq) (1.3.2)\n",
            "Requirement already satisfied: threadpoolctl>=2.0.0 in /usr/local/lib/python3.10/dist-packages (from scikit-learn->fairseq) (3.2.0)\n",
            "Requirement already satisfied: MarkupSafe>=2.0 in /usr/local/lib/python3.10/dist-packages (from jinja2->torch>=1.13->fairseq) (2.1.3)\n",
            "Requirement already satisfied: mpmath>=0.19 in /usr/local/lib/python3.10/dist-packages (from sympy->torch>=1.13->fairseq) (1.3.0)\n",
            "Collecting tensorboardX\n",
            "  Downloading tensorboardX-2.6.2.2-py2.py3-none-any.whl (101 kB)\n",
            "\u001b[2K     \u001b[90m━━━━━━━━━━━━━━━━━━━━━━━━━━━━━━━━━━━━━━━\u001b[0m \u001b[32m101.7/101.7 kB\u001b[0m \u001b[31m2.8 MB/s\u001b[0m eta \u001b[36m0:00:00\u001b[0m\n",
            "\u001b[?25hRequirement already satisfied: numpy in /usr/local/lib/python3.10/dist-packages (from tensorboardX) (1.23.5)\n",
            "Requirement already satisfied: packaging in /usr/local/lib/python3.10/dist-packages (from tensorboardX) (23.1)\n",
            "Requirement already satisfied: protobuf>=3.20 in /usr/local/lib/python3.10/dist-packages (from tensorboardX) (3.20.3)\n",
            "Installing collected packages: tensorboardX\n",
            "Successfully installed tensorboardX-2.6.2.2\n"
          ]
        }
      ],
      "source": [
        "! pip install git+https://github.com/pytorch/fairseq # need to install fairseq\n",
        "# You can install other libraries such as torchsummaryX, wandb and so on\n",
        "! pip install torchsummaryX\n",
        "! pip install wandb\n",
        "! pip install -q torchsummaryX wandb --quiet\n",
        "! pip install scikit-learn\n",
        "! pip install matplotlib\n",
        "! pip install tqdm\n",
        "! pip install torch torchvision\n",
        "! pip install fairseq\n",
        "! pip install tensorboardX"
      ],
      "id": "DgYdpT-l7v_C"
    },
    {
      "cell_type": "markdown",
      "metadata": {
        "id": "o52Nmb_976iy"
      },
      "source": [
        "# Kaggle"
      ],
      "id": "o52Nmb_976iy"
    },
    {
      "cell_type": "code",
      "execution_count": null,
      "metadata": {
        "colab": {
          "base_uri": "https://localhost:8080/"
        },
        "id": "twxcI5cX78YN",
        "outputId": "141515b3-ff1b-4a79-bac8-946467f587d6"
      },
      "outputs": [
        {
          "output_type": "stream",
          "name": "stdout",
          "text": [
            "Collecting kaggle==1.5.8\n",
            "  Downloading kaggle-1.5.8.tar.gz (59 kB)\n",
            "\u001b[?25l     \u001b[90m━━━━━━━━━━━━━━━━━━━━━━━━━━━━━━━━━━━━━━━━\u001b[0m \u001b[32m0.0/59.2 kB\u001b[0m \u001b[31m?\u001b[0m eta \u001b[36m-:--:--\u001b[0m\r\u001b[2K     \u001b[90m━━━━━━━━━━━━━━━━━━━━━━━━━━━━━━━━━━━━━━━━\u001b[0m \u001b[32m59.2/59.2 kB\u001b[0m \u001b[31m2.3 MB/s\u001b[0m eta \u001b[36m0:00:00\u001b[0m\n",
            "\u001b[?25h  Preparing metadata (setup.py) ... \u001b[?25l\u001b[?25hdone\n",
            "Building wheels for collected packages: kaggle\n",
            "  Building wheel for kaggle (setup.py) ... \u001b[?25l\u001b[?25hdone\n",
            "  Created wheel for kaggle: filename=kaggle-1.5.8-py3-none-any.whl size=73249 sha256=d952caec15c28779622a4ae8c2fb32841e2799f647281a6bf246c3191fc93ae0\n",
            "  Stored in directory: /root/.cache/pip/wheels/0b/76/ca/e58f8afa83166a0e68f0d5cd2e7f99d260bdc40e35da080eee\n",
            "Successfully built kaggle\n",
            "Installing collected packages: kaggle\n",
            "  Attempting uninstall: kaggle\n",
            "    Found existing installation: kaggle 1.5.16\n",
            "    Uninstalling kaggle-1.5.16:\n",
            "      Successfully uninstalled kaggle-1.5.16\n",
            "Successfully installed kaggle-1.5.8\n"
          ]
        }
      ],
      "source": [
        "!pip install --upgrade --force-reinstall --no-deps kaggle==1.5.8\n",
        "!mkdir /root/.kaggle/\n",
        "\n",
        "with open(\"/root/.kaggle/kaggle.json\", \"w+\") as f:\n",
        "    f.write('{\"username\":\"adritadas\",\"key\":\"4d8e5e73b5126973227f2e938ba1249f\"}') # TODO: Put your kaggle username & key here\n",
        "\n",
        "!chmod 600 /root/.kaggle/kaggle.json"
      ],
      "id": "twxcI5cX78YN"
    },
    {
      "cell_type": "code",
      "execution_count": null,
      "metadata": {
        "colab": {
          "base_uri": "https://localhost:8080/"
        },
        "id": "xvhE7WH48ZuK",
        "outputId": "83797314-f73f-4a79-f534-9b5099ebaa86"
      },
      "outputs": [
        {
          "output_type": "stream",
          "name": "stdout",
          "text": [
            "Downloading 11-685-s23-hw5.zip to /content\n",
            "100% 4.85G/4.85G [00:58<00:00, 122MB/s]\n",
            "100% 4.85G/4.85G [00:58<00:00, 89.6MB/s]\n"
          ]
        }
      ],
      "source": [
        "!kaggle competitions download -c 11-685-s23-hw5\n",
        "!mkdir '/content/data'\n",
        "\n",
        "!unzip -qo '/content/11-685-s23-hw5.zip' -d '/content/data'"
      ],
      "id": "xvhE7WH48ZuK"
    },
    {
      "cell_type": "code",
      "source": [
        "!mkdir '/content/hw5_s23'"
      ],
      "metadata": {
        "id": "bgmf72cIM3vL"
      },
      "id": "bgmf72cIM3vL",
      "execution_count": null,
      "outputs": []
    },
    {
      "cell_type": "markdown",
      "metadata": {
        "id": "OmEqwUmr8bIR"
      },
      "source": [
        "# Imports"
      ],
      "id": "OmEqwUmr8bIR"
    },
    {
      "cell_type": "code",
      "execution_count": null,
      "metadata": {
        "colab": {
          "base_uri": "https://localhost:8080/"
        },
        "id": "dd2e63a8-73fe-44ba-952f-6a9b6d1a7150",
        "outputId": "87383969-c258-4779-cb91-1f9b228e8ac8"
      },
      "outputs": [
        {
          "output_type": "stream",
          "name": "stdout",
          "text": [
            "GPU:  Tesla V100-SXM2-16GB\n",
            "Device:  cuda:0\n"
          ]
        }
      ],
      "source": [
        "import torch\n",
        "from torch import nn, optim\n",
        "from torch.utils import data\n",
        "from torch.nn.utils.rnn import *\n",
        "\n",
        "import numpy as np\n",
        "from tqdm import tqdm\n",
        "import sys\n",
        "import json\n",
        "\n",
        "# add any other imports that you want\n",
        "\n",
        "has_cuda = torch.cuda.is_available()\n",
        "if has_cuda:\n",
        "  print(\"GPU: \", torch.cuda.get_device_name(0))\n",
        "device = torch.device(\"cuda:0\" if has_cuda else \"cpu\")\n",
        "print(\"Device: \", device)"
      ],
      "id": "dd2e63a8-73fe-44ba-952f-6a9b6d1a7150"
    },
    {
      "cell_type": "code",
      "execution_count": null,
      "metadata": {
        "colab": {
          "base_uri": "https://localhost:8080/"
        },
        "id": "uki_6a_i8nDg",
        "outputId": "e0e8b903-bc9f-4e9d-e0e7-0921a828e0d6"
      },
      "outputs": [
        {
          "output_type": "stream",
          "name": "stdout",
          "text": [
            "/content/hw5_s23\n",
            "GPU:  Tesla V100-SXM2-16GB\n"
          ]
        }
      ],
      "source": [
        "# TODO\n",
        "%cd /content/hw5_s23\n",
        "from model import Wav2vec_U\n",
        "\n",
        "from task import UnpairedAudioText\n"
      ],
      "id": "uki_6a_i8nDg"
    },
    {
      "cell_type": "markdown",
      "metadata": {
        "id": "x8t4UM6G802b"
      },
      "source": [
        "# Dataset and DataLoaders"
      ],
      "id": "x8t4UM6G802b"
    },
    {
      "cell_type": "markdown",
      "metadata": {
        "id": "WahsDNk29slr"
      },
      "source": [
        "You have TODOs which need to be completed in `task/unpaired_audio_text.py` before you run these cells. You just need to replace the paths. You can use the original code base as a reference.\n",
        "\n"
      ],
      "id": "WahsDNk29slr"
    },
    {
      "cell_type": "code",
      "execution_count": null,
      "metadata": {
        "colab": {
          "base_uri": "https://localhost:8080/"
        },
        "id": "9cf0e76a-be23-4898-85fc-b8c20c0e9b7d",
        "outputId": "4de06d12-84b9-431c-f7a7-4aa5b0e66004"
      },
      "outputs": [
        {
          "name": "stdout",
          "output_type": "stream",
          "text": [
            "2023-08-11 04:42:48.001087: I tensorflow/core/platform/cpu_feature_guard.cc:182] This TensorFlow binary is optimized to use available CPU instructions in performance-critical operations.\n",
            "To enable the following instructions: AVX2 FMA, in other operations, rebuild TensorFlow with the appropriate compiler flags.\n",
            "2023-08-11 04:42:51.982915: W tensorflow/compiler/tf2tensorrt/utils/py_utils.cc:38] TF-TRT Warning: Could not find TensorRT\n",
            "2023-08-11 04:43:08.761829: I tensorflow/core/platform/cpu_feature_guard.cc:182] This TensorFlow binary is optimized to use available CPU instructions in performance-critical operations.\n",
            "To enable the following instructions: AVX2 FMA, in other operations, rebuild TensorFlow with the appropriate compiler flags.\n",
            "2023-08-11 04:43:09.672217: W tensorflow/compiler/tf2tensorrt/utils/py_utils.cc:38] TF-TRT Warning: Could not find TensorRT\n"
          ]
        }
      ],
      "source": [
        "#from task import UnpairedAudioText\n",
        "#task = UnpairedAudioText()\n",
        "!python /content/drive/MyDrive/hw5_handout_S23/dataset/extracted_features_dataset.py\n",
        "!python /content/drive/MyDrive/hw5_handout_S23/dataset/random_input_dataset.py"
      ],
      "id": "9cf0e76a-be23-4898-85fc-b8c20c0e9b7d"
    },
    {
      "cell_type": "code",
      "execution_count": null,
      "metadata": {
        "id": "kCTrRE0-UxhP"
      },
      "outputs": [],
      "source": [
        "import torch\n",
        "from torch.utils import data\n",
        "\n",
        "task = UnpairedAudioText()"
      ],
      "id": "kCTrRE0-UxhP"
    },
    {
      "cell_type": "code",
      "execution_count": null,
      "metadata": {
        "id": "48b5c5b4-f26f-4748-ae21-609a26b0f35a"
      },
      "outputs": [],
      "source": [
        "train_dataloader_args = dict(batch_size= 16, #feel free to change these values\n",
        "                             #num_workers=2,\n",
        "                            ) if has_cuda else dict(batch_size= 16)\n",
        "train_dataloader_args[\"shuffle\"] = True\n",
        "train_dataloader_args[\"collate_fn\"] = task.datasets[\"train\"].collater\n",
        "\n",
        "validation_dataloader_args = train_dataloader_args.copy()\n",
        "validation_dataloader_args[\"shuffle\"] = False\n",
        "validation_dataloader_args[\"collate_fn\"] = task.datasets[\"valid\"].collater\n",
        "\n",
        "train_dataloader = data.DataLoader(task.datasets[\"train\"], **train_dataloader_args)\n",
        "validation_dataloader = data.DataLoader(task.datasets[\"valid\"], **validation_dataloader_args)"
      ],
      "id": "48b5c5b4-f26f-4748-ae21-609a26b0f35a"
    },
    {
      "cell_type": "markdown",
      "metadata": {
        "id": "XVawLoVc-X8J"
      },
      "source": [
        "# Model and Training Configurations"
      ],
      "id": "XVawLoVc-X8J"
    },
    {
      "cell_type": "markdown",
      "metadata": {
        "id": "PrUXnHLM-fjp"
      },
      "source": [
        "You need to complete the TODOs in `model/wav2vec_u.py` before you run this cell. You can use the original codebase as a refernce to complete this.\n",
        "Original Codebase: https://github.com/pytorch/fairseq/blob/main/examples/wav2vec/unsupervised/\n"
      ],
      "id": "PrUXnHLM-fjp"
    },
    {
      "cell_type": "code",
      "execution_count": null,
      "metadata": {
        "id": "V8RbjGlPTnCm",
        "colab": {
          "base_uri": "https://localhost:8080/"
        },
        "outputId": "89073210-35a7-4ff2-a079-43ad82f8c15a"
      },
      "outputs": [
        {
          "output_type": "stream",
          "name": "stdout",
          "text": [
            "python3: can't open file '/content/drive/MyDrive/hw5_handout_S23/model/wav2vec_u.py': [Errno 2] No such file or directory\n"
          ]
        }
      ],
      "source": [
        "!python /content/drive/MyDrive/hw5_handout_S23/model/wav2vec_u.py"
      ],
      "id": "V8RbjGlPTnCm"
    },
    {
      "cell_type": "code",
      "execution_count": null,
      "metadata": {
        "colab": {
          "base_uri": "https://localhost:8080/"
        },
        "id": "11242dfc-d46b-4c96-b49a-474d4ce21415",
        "outputId": "948b39bb-9eed-4086-e88b-7eb3dc002c64"
      },
      "outputs": [
        {
          "output_type": "stream",
          "name": "stdout",
          "text": [
            "Wav2vec_U(\n",
            "  (discriminator): Discriminator(\n",
            "    (net): Sequential(\n",
            "      (0): Conv1d(66, 384, kernel_size=(6,), stride=(1,), padding=(5,))\n",
            "      (1): SamePad()\n",
            "      (2): Dropout(p=0.3, inplace=False)\n",
            "      (3): Sequential(\n",
            "        (0): Conv1d(384, 384, kernel_size=(6,), stride=(1,), padding=(5,))\n",
            "        (1): SamePad()\n",
            "        (2): Dropout(p=0.3, inplace=False)\n",
            "        (3): GELU(approximate='none')\n",
            "      )\n",
            "      (4): Conv1d(384, 1, kernel_size=(6,), stride=(1,), padding=(5,))\n",
            "      (5): SamePad()\n",
            "    )\n",
            "  )\n",
            "  (segmenter): JoinSegmenter()\n",
            "  (generator): Generator(\n",
            "    (dropout): Dropout(p=0.1, inplace=False)\n",
            "    (proj): Sequential(\n",
            "      (0): TransposeLast()\n",
            "      (1): Conv1d(512, 66, kernel_size=(4,), stride=(1,), padding=(2,), bias=False)\n",
            "      (2): TransposeLast()\n",
            "    )\n",
            "  )\n",
            ")\n"
          ]
        }
      ],
      "source": [
        "from model import Wav2vec_U\n",
        "\n",
        "model = Wav2vec_U(task.target_dictionary).to(device)\n",
        "print(model)"
      ],
      "id": "11242dfc-d46b-4c96-b49a-474d4ce21415"
    },
    {
      "cell_type": "markdown",
      "metadata": {
        "id": "gvYhE31qF09H"
      },
      "source": [
        "For a GAN, you need optimizers for both the discriminator and the generator. Configure the optimizers according to fairseq's configuration given in the link:\n",
        "https://github.com/pytorch/fairseq/blob/main/examples/wav2vec/unsupervised/config/gan/w2vu.yaml\n"
      ],
      "id": "gvYhE31qF09H"
    },
    {
      "cell_type": "code",
      "execution_count": null,
      "metadata": {
        "id": "LmbpQajcAzvD",
        "colab": {
          "base_uri": "https://localhost:8080/"
        },
        "outputId": "78f07585-5963-4cac-fbca-8b9082ec170f"
      },
      "outputs": [
        {
          "output_type": "stream",
          "name": "stdout",
          "text": [
            "Collecting apex\n",
            "  Downloading apex-0.9.10dev.tar.gz (36 kB)\n",
            "  Preparing metadata (setup.py) ... \u001b[?25l\u001b[?25hdone\n",
            "Collecting cryptacular (from apex)\n",
            "  Downloading cryptacular-1.6.2.tar.gz (75 kB)\n",
            "\u001b[2K     \u001b[90m━━━━━━━━━━━━━━━━━━━━━━━━━━━━━━━━━━━━━━━━\u001b[0m \u001b[32m75.8/75.8 kB\u001b[0m \u001b[31m5.9 MB/s\u001b[0m eta \u001b[36m0:00:00\u001b[0m\n",
            "\u001b[?25h  Installing build dependencies ... \u001b[?25l\u001b[?25hcanceled\n",
            "\u001b[31mERROR: Operation cancelled by user\u001b[0m\u001b[31m\n",
            "\u001b[0m"
          ]
        }
      ],
      "source": [
        "!pip install apex"
      ],
      "id": "LmbpQajcAzvD"
    },
    {
      "cell_type": "code",
      "execution_count": null,
      "metadata": {
        "id": "Tvfe-A5AAIpV"
      },
      "outputs": [],
      "source": [
        "import torch.optim as optim\n",
        "import itertools\n",
        "\n",
        "# Assuming you have defined your model and its parameters as 'model', 'generator', and 'segmenter'\n",
        "# Assuming you have specified the learning rate, weight decay, and betas as desired\n",
        "\n",
        "# Create separate optimizers for discriminator, generator, and segmenter\n",
        "\n",
        "from itertools import chain\n",
        "\n",
        "num_epochs = 2000\n",
        "epoch_start = 1\n",
        "\n",
        "if epoch_start == 1:\n",
        "\n",
        "  discriminator_optimizer = optim.Adam(model.discriminator.parameters(), lr=0.0005, weight_decay=0.0001, betas=(0.5, 0.98), eps= 1e-6)\n",
        "  generator_optimizer = optim.Adam(\n",
        "    itertools.chain(model.generator.parameters(), model.segmenter.parameters()),\n",
        "    lr=0.0004, weight_decay=0, betas=(0.5, 0.98), eps = 1e-6\n",
        ")\n",
        "\n",
        "# Create the optimizer dictionary\n",
        "optimizer = {\n",
        "    \"discriminator\": discriminator_optimizer,\n",
        "    \"generator\": generator_optimizer\n",
        "}\n"
      ],
      "id": "Tvfe-A5AAIpV"
    },
    {
      "cell_type": "markdown",
      "metadata": {
        "id": "6pJtsdZqFBBt"
      },
      "source": [
        "A bunch of TODOs in the next cell. <br><br>\n",
        "Tip: Instead of completing whole `run_model` function and the debugging while running the experiment section, you can create a new cell and code your own sanity check. It may help you to understand what is returned from the dataloader, what needs to be pushed to the device, how model is called and what `loss_stats` are."
      ],
      "id": "6pJtsdZqFBBt"
    },
    {
      "cell_type": "code",
      "execution_count": null,
      "metadata": {
        "id": "899ce50f-c973-46b1-b9c2-6a49bfbf0fab"
      },
      "outputs": [],
      "source": [
        "# Hint: You may find pdb to be a great tool in helping you understand returned values\n",
        "# from the dataloader and the model. Usage:\n",
        "# import pdb\n",
        "# pdb.set_trace()\n",
        "\n",
        "def run_model(model, dataloader):\n",
        "    cumulative_stats = dict()\n",
        "    #num_updates = 0\n",
        "\n",
        "    for data in tqdm(dataloader, desc=\"Train\" if model.training else \"Eval \"):\n",
        "        #print(\"Net Input:\", net_input)\n",
        "        net_input = data['net_input']\n",
        "        #print\n",
        "        # What are the keys and values obtained from the data loader?\n",
        "        # TODO: move all tensors to GPU\n",
        "        # Tip: Checking what is inside net_input might help\n",
        "        net_input = {k: v.to(device) for k,v in net_input.items()}\n",
        "\n",
        "        if model.training:\n",
        "            #num_updates += 1\n",
        "            # TODO: We are training the model. Might need to do something with the optimizer?\n",
        "            # Remember that you are training a GAN. Both optimizers won't be used at the same time.\n",
        "            # You may have to write an if statement or something similar to use the specific optimizer.\n",
        "            # You may have to use the discrim_step() attribute in the Wav2vec_U class\n",
        "            if model.discrim_step(model.update_num):\n",
        "                optimizer[\"discriminator\"].zero_grad()\n",
        "\n",
        "            else:\n",
        "                optimizer[\"generator\"].zero_grad()\n",
        "\n",
        "\n",
        "\n",
        "            loss_stats = model(**net_input) # forward pass\n",
        "\n",
        "\n",
        "            total_loss = 0.0\n",
        "\n",
        "            for loss_name, loss_value in loss_stats[\"losses\"].items():\n",
        "                if loss_value is not None:\n",
        "                    total_loss += loss_value\n",
        "\n",
        "\n",
        "            # TODO: accumulate losses into total_loss for backprop during training\n",
        "            # loss_stats[\"losses\"] is a dictionary containing various loss components\n",
        "            # some losses can be None if it's not used\n",
        "\n",
        "\n",
        "            total_loss /= net_input[\"features\"].size(0) # average by batch\n",
        "\n",
        "\n",
        "            group = model.get_groups_for_update()\n",
        "            # Look at what the get_groups_for_update() function does in the Wav2vec_U class\n",
        "            # Can you try to think how you can use discrim_step() previously?\n",
        "\n",
        "            # TODO: backprop loss and run the corresponding optimizer (Tip: See what 'group' is)\n",
        "\n",
        "            total_loss.backward()\n",
        "            optimizer[group].step()\n",
        "\n",
        "        else:\n",
        "            # validation\n",
        "            loss_stats = task.valid_step(data, model)\n",
        "            #print(loss_stats)\n",
        "\n",
        "\n",
        "        # accumulate batch stats\n",
        "        for k, v in loss_stats.items():\n",
        "            if type(v) is dict:\n",
        "                 # flatten inner dictionary\n",
        "                key_value_pairs = [(k + \"_\" + kn, vn) for kn, vn in v.items()]\n",
        "            else:\n",
        "                key_value_pairs = [(k, v)]\n",
        "\n",
        "          # TODO: accmulate all statistics into cumulative_stats, a dictionary\n",
        "          # NOTE: you should convert any returned tensors to either values or numpy arrays\n",
        "          # cumulative_stats shouldn't have nested dictionaries\n",
        "\n",
        "            for key, value in key_value_pairs:\n",
        "              if value is None :\n",
        "                continue\n",
        "              if isinstance(value, torch.Tensor):\n",
        "                value = value.detach().cpu().numpy()\n",
        "\n",
        "              if key not in cumulative_stats.keys():\n",
        "                cumulative_stats[key] = value\n",
        "\n",
        "              else:\n",
        "                cumulative_stats[key] += value\n",
        "\n",
        "    # average stats over the dataset\n",
        "    # Note that some metrics are already averaged over batch, so the result won't make sense\n",
        "    # You can fix them if needed\n",
        "    for k, v in cumulative_stats.items():\n",
        "        v = v / len(dataloader.dataset)\n",
        "        if type(v) is np.ndarray:\n",
        "            v = v.tolist()\n",
        "        cumulative_stats[k] = v\n",
        "\n",
        "    return cumulative_stats"
      ],
      "id": "899ce50f-c973-46b1-b9c2-6a49bfbf0fab"
    },
    {
      "cell_type": "code",
      "source": [
        "import wandb\n",
        "import sys\n",
        "wandb.login(key=\"e2fbcbd28e7f2e0bdeb1ab36f90d65664c335bd7\")"
      ],
      "metadata": {
        "id": "qSaf5TsqkLAp"
      },
      "id": "qSaf5TsqkLAp",
      "execution_count": null,
      "outputs": []
    },
    {
      "cell_type": "code",
      "source": [
        "run = wandb.init(\n",
        "    name    = \"homework-5\", ### Wandb creates random run names if you skip this field, we recommend you give useful names\n",
        "    reinit  = True, ### Allows reinitalizing runs when you re-run this cell\n",
        "    #id     = \"y28t31uz\", ### Insert specific run id here if you want to resume a previous run\n",
        "    #resume = \"must\", ### You need this to resume previous runs, but comment out reinit = True when using this\n",
        "    project = \"hw5\", ### Project should be created in your wandb account\n",
        "    #config  = config ### Wandb Config for your run\n",
        ")"
      ],
      "metadata": {
        "colab": {
          "base_uri": "https://localhost:8080/",
          "height": 327,
          "referenced_widgets": [
            "e060be62de994161a29ac8a97069d429"
          ]
        },
        "id": "6mTaNMgHkVlV",
        "outputId": "f5cf0655-82ea-413e-d5a8-500806a76aec"
      },
      "id": "6mTaNMgHkVlV",
      "execution_count": null,
      "outputs": [
        {
          "output_type": "display_data",
          "data": {
            "text/plain": [
              "<IPython.core.display.HTML object>"
            ],
            "text/html": [
              "Finishing last run (ID:w2yov8j0) before initializing another..."
            ]
          },
          "metadata": {}
        },
        {
          "output_type": "display_data",
          "data": {
            "text/plain": [
              "VBox(children=(Label(value='0.001 MB of 0.001 MB uploaded\\r'), FloatProgress(value=1.0, max=1.0)))"
            ],
            "application/vnd.jupyter.widget-view+json": {
              "version_major": 2,
              "version_minor": 0,
              "model_id": "e060be62de994161a29ac8a97069d429"
            }
          },
          "metadata": {}
        },
        {
          "output_type": "display_data",
          "data": {
            "text/plain": [
              "<IPython.core.display.HTML object>"
            ],
            "text/html": [
              "<style>\n",
              "    table.wandb td:nth-child(1) { padding: 0 10px; text-align: left ; width: auto;} td:nth-child(2) {text-align: left ; width: 100%}\n",
              "    .wandb-row { display: flex; flex-direction: row; flex-wrap: wrap; justify-content: flex-start; width: 100% }\n",
              "    .wandb-col { display: flex; flex-direction: column; flex-basis: 100%; flex: 1; padding: 10px; }\n",
              "    </style>\n",
              "<div class=\"wandb-row\"><div class=\"wandb-col\"><h3>Run history:</h3><br/><table class=\"wandb\"><tr><td>edit_distance</td><td>▃█▅▅▂█▆▅▃▆▆▅▅▅▇▇▄▆▅▄▆▅▇▆▃▆▂▅▇▃▃▁▆▅▄▅▃▃▃▇</td></tr></table><br/></div><div class=\"wandb-col\"><h3>Run summary:</h3><br/><table class=\"wandb\"><tr><td>edit_distance</td><td>108.433</td></tr></table><br/></div></div>"
            ]
          },
          "metadata": {}
        },
        {
          "output_type": "display_data",
          "data": {
            "text/plain": [
              "<IPython.core.display.HTML object>"
            ],
            "text/html": [
              " View run <strong style=\"color:#cdcd00\">homework-5</strong> at: <a href='https://wandb.ai/iw/hw5/runs/w2yov8j0' target=\"_blank\">https://wandb.ai/iw/hw5/runs/w2yov8j0</a><br/>Synced 5 W&B file(s), 0 media file(s), 0 artifact file(s) and 0 other file(s)"
            ]
          },
          "metadata": {}
        },
        {
          "output_type": "display_data",
          "data": {
            "text/plain": [
              "<IPython.core.display.HTML object>"
            ],
            "text/html": [
              "Find logs at: <code>./wandb/run-20231120_000006-w2yov8j0/logs</code>"
            ]
          },
          "metadata": {}
        },
        {
          "output_type": "display_data",
          "data": {
            "text/plain": [
              "<IPython.core.display.HTML object>"
            ],
            "text/html": [
              "Successfully finished last run (ID:w2yov8j0). Initializing new run:<br/>"
            ]
          },
          "metadata": {}
        },
        {
          "output_type": "display_data",
          "data": {
            "text/plain": [
              "<IPython.core.display.HTML object>"
            ],
            "text/html": [
              "Tracking run with wandb version 0.16.0"
            ]
          },
          "metadata": {}
        },
        {
          "output_type": "display_data",
          "data": {
            "text/plain": [
              "<IPython.core.display.HTML object>"
            ],
            "text/html": [
              "Run data is saved locally in <code>/content/hw5_s23/wandb/run-20231124_225145-i6h3tt49</code>"
            ]
          },
          "metadata": {}
        },
        {
          "output_type": "display_data",
          "data": {
            "text/plain": [
              "<IPython.core.display.HTML object>"
            ],
            "text/html": [
              "Syncing run <strong><a href='https://wandb.ai/iw/hw5/runs/i6h3tt49' target=\"_blank\">homework-5</a></strong> to <a href='https://wandb.ai/iw/hw5' target=\"_blank\">Weights & Biases</a> (<a href='https://wandb.me/run' target=\"_blank\">docs</a>)<br/>"
            ]
          },
          "metadata": {}
        },
        {
          "output_type": "display_data",
          "data": {
            "text/plain": [
              "<IPython.core.display.HTML object>"
            ],
            "text/html": [
              " View project at <a href='https://wandb.ai/iw/hw5' target=\"_blank\">https://wandb.ai/iw/hw5</a>"
            ]
          },
          "metadata": {}
        },
        {
          "output_type": "display_data",
          "data": {
            "text/plain": [
              "<IPython.core.display.HTML object>"
            ],
            "text/html": [
              " View run at <a href='https://wandb.ai/iw/hw5/runs/i6h3tt49' target=\"_blank\">https://wandb.ai/iw/hw5/runs/i6h3tt49</a>"
            ]
          },
          "metadata": {}
        }
      ]
    },
    {
      "cell_type": "markdown",
      "metadata": {
        "id": "-P7cxaSNGi8w"
      },
      "source": [
        "# Experiments"
      ],
      "id": "-P7cxaSNGi8w"
    },
    {
      "cell_type": "code",
      "execution_count": null,
      "metadata": {
        "colab": {
          "base_uri": "https://localhost:8080/",
          "height": 1000,
          "referenced_widgets": [
            "bedf92f179254b228c45718a1a4d62cb",
            "1250f2379b7143e0a51dc7eb686f126e",
            "6148d8e43f6b40c3b963a3652d407620",
            "352c08d13a514b7588d6b987320efc85",
            "2edd67ed6b0845939bdd70ca23376897",
            "dbd6020756c941139b2a45cec5e55db1",
            "376afa6efd2f49a2846ed7a16af09421",
            "09f30f53e21248b799090d8549b556e0"
          ]
        },
        "id": "09a4fe6c-a9e4-4c6e-9483-4fc4e1f5d3f9",
        "outputId": "5a430afe-6002-473b-ce5e-9cef7469b57e"
      },
      "outputs": [
        {
          "output_type": "stream",
          "name": "stderr",
          "text": [
            "Training for 2000 epochs\n",
            "Epoch 1\n",
            "Train: 100%|██████████| 813/813 [00:32<00:00, 24.73it/s]\n",
            "Eval : 100%|██████████| 63/63 [00:01<00:00, 32.15it/s]\n",
            "Epoch 2\n"
          ]
        },
        {
          "output_type": "stream",
          "name": "stdout",
          "text": [
            "131.081\n"
          ]
        },
        {
          "output_type": "stream",
          "name": "stderr",
          "text": [
            "Train: 100%|██████████| 813/813 [00:23<00:00, 34.65it/s]\n",
            "Eval : 100%|██████████| 63/63 [00:01<00:00, 35.49it/s]\n",
            "Epoch 3\n"
          ]
        },
        {
          "output_type": "stream",
          "name": "stdout",
          "text": [
            "103.632\n"
          ]
        },
        {
          "output_type": "stream",
          "name": "stderr",
          "text": [
            "Train: 100%|██████████| 813/813 [00:29<00:00, 27.78it/s]\n",
            "Eval : 100%|██████████| 63/63 [00:01<00:00, 35.83it/s]\n",
            "Epoch 4\n"
          ]
        },
        {
          "output_type": "stream",
          "name": "stdout",
          "text": [
            "103.632\n"
          ]
        },
        {
          "output_type": "stream",
          "name": "stderr",
          "text": [
            "Train: 100%|██████████| 813/813 [00:23<00:00, 34.58it/s]\n",
            "Eval : 100%|██████████| 63/63 [00:01<00:00, 34.81it/s]\n",
            "Epoch 5\n"
          ]
        },
        {
          "output_type": "stream",
          "name": "stdout",
          "text": [
            "108.861\n"
          ]
        },
        {
          "output_type": "stream",
          "name": "stderr",
          "text": [
            "Train: 100%|██████████| 813/813 [00:29<00:00, 27.65it/s]\n",
            "Eval : 100%|██████████| 63/63 [00:01<00:00, 35.06it/s]\n",
            "Epoch 6\n"
          ]
        },
        {
          "output_type": "stream",
          "name": "stdout",
          "text": [
            "108.861\n"
          ]
        },
        {
          "output_type": "stream",
          "name": "stderr",
          "text": [
            "Train: 100%|██████████| 813/813 [00:23<00:00, 34.77it/s]\n",
            "Eval : 100%|██████████| 63/63 [00:01<00:00, 35.91it/s]\n",
            "Epoch 7\n"
          ]
        },
        {
          "output_type": "stream",
          "name": "stdout",
          "text": [
            "106.561\n"
          ]
        },
        {
          "output_type": "stream",
          "name": "stderr",
          "text": [
            "Train: 100%|██████████| 813/813 [00:29<00:00, 27.66it/s]\n",
            "Eval : 100%|██████████| 63/63 [00:01<00:00, 36.15it/s]\n",
            "Epoch 8\n"
          ]
        },
        {
          "output_type": "stream",
          "name": "stdout",
          "text": [
            "106.561\n"
          ]
        },
        {
          "output_type": "stream",
          "name": "stderr",
          "text": [
            "Train: 100%|██████████| 813/813 [00:23<00:00, 34.55it/s]\n",
            "Eval : 100%|██████████| 63/63 [00:01<00:00, 35.63it/s]\n",
            "Epoch 9\n"
          ]
        },
        {
          "output_type": "stream",
          "name": "stdout",
          "text": [
            "109.167\n"
          ]
        },
        {
          "output_type": "stream",
          "name": "stderr",
          "text": [
            "Train: 100%|██████████| 813/813 [00:29<00:00, 27.41it/s]\n",
            "Eval : 100%|██████████| 63/63 [00:01<00:00, 35.93it/s]\n",
            "Epoch 10\n"
          ]
        },
        {
          "output_type": "stream",
          "name": "stdout",
          "text": [
            "109.167\n"
          ]
        },
        {
          "output_type": "stream",
          "name": "stderr",
          "text": [
            "Train: 100%|██████████| 813/813 [00:23<00:00, 34.80it/s]\n",
            "Eval : 100%|██████████| 63/63 [00:01<00:00, 35.72it/s]\n",
            "Epoch 11\n"
          ]
        },
        {
          "output_type": "stream",
          "name": "stdout",
          "text": [
            "106.671\n"
          ]
        },
        {
          "output_type": "stream",
          "name": "stderr",
          "text": [
            "Train: 100%|██████████| 813/813 [00:29<00:00, 27.88it/s]\n",
            "Eval : 100%|██████████| 63/63 [00:01<00:00, 35.76it/s]\n",
            "Epoch 12\n"
          ]
        },
        {
          "output_type": "stream",
          "name": "stdout",
          "text": [
            "106.671\n"
          ]
        },
        {
          "output_type": "stream",
          "name": "stderr",
          "text": [
            "Train: 100%|██████████| 813/813 [00:23<00:00, 34.78it/s]\n",
            "Eval : 100%|██████████| 63/63 [00:01<00:00, 35.71it/s]\n",
            "Epoch 13\n"
          ]
        },
        {
          "output_type": "stream",
          "name": "stdout",
          "text": [
            "108.539\n"
          ]
        },
        {
          "output_type": "stream",
          "name": "stderr",
          "text": [
            "Train: 100%|██████████| 813/813 [00:29<00:00, 27.65it/s]\n",
            "Eval : 100%|██████████| 63/63 [00:01<00:00, 35.01it/s]\n",
            "Epoch 14\n"
          ]
        },
        {
          "output_type": "stream",
          "name": "stdout",
          "text": [
            "108.539\n"
          ]
        },
        {
          "output_type": "stream",
          "name": "stderr",
          "text": [
            "Train: 100%|██████████| 813/813 [00:23<00:00, 34.80it/s]\n",
            "Eval : 100%|██████████| 63/63 [00:01<00:00, 34.55it/s]\n",
            "Epoch 15\n"
          ]
        },
        {
          "output_type": "stream",
          "name": "stdout",
          "text": [
            "108.067\n"
          ]
        },
        {
          "output_type": "stream",
          "name": "stderr",
          "text": [
            "Train: 100%|██████████| 813/813 [00:29<00:00, 27.62it/s]\n",
            "Eval : 100%|██████████| 63/63 [00:01<00:00, 33.90it/s]\n",
            "Epoch 16\n"
          ]
        },
        {
          "output_type": "stream",
          "name": "stdout",
          "text": [
            "108.067\n"
          ]
        },
        {
          "output_type": "stream",
          "name": "stderr",
          "text": [
            "Train: 100%|██████████| 813/813 [00:23<00:00, 34.99it/s]\n",
            "Eval : 100%|██████████| 63/63 [00:01<00:00, 35.48it/s]\n",
            "Epoch 17\n"
          ]
        },
        {
          "output_type": "stream",
          "name": "stdout",
          "text": [
            "109.186\n"
          ]
        },
        {
          "output_type": "stream",
          "name": "stderr",
          "text": [
            "Train: 100%|██████████| 813/813 [00:29<00:00, 27.78it/s]\n",
            "Eval : 100%|██████████| 63/63 [00:01<00:00, 35.23it/s]\n",
            "Epoch 18\n"
          ]
        },
        {
          "output_type": "stream",
          "name": "stdout",
          "text": [
            "109.186\n"
          ]
        },
        {
          "output_type": "stream",
          "name": "stderr",
          "text": [
            "Train: 100%|██████████| 813/813 [00:23<00:00, 34.61it/s]\n",
            "Eval : 100%|██████████| 63/63 [00:01<00:00, 35.37it/s]\n",
            "Epoch 19\n"
          ]
        },
        {
          "output_type": "stream",
          "name": "stdout",
          "text": [
            "107.196\n"
          ]
        },
        {
          "output_type": "stream",
          "name": "stderr",
          "text": [
            "Train: 100%|██████████| 813/813 [00:29<00:00, 27.63it/s]\n",
            "Eval : 100%|██████████| 63/63 [00:01<00:00, 35.62it/s]\n",
            "Epoch 20\n"
          ]
        },
        {
          "output_type": "stream",
          "name": "stdout",
          "text": [
            "107.196\n"
          ]
        },
        {
          "output_type": "stream",
          "name": "stderr",
          "text": [
            "Train: 100%|██████████| 813/813 [00:23<00:00, 34.85it/s]\n",
            "Eval : 100%|██████████| 63/63 [00:01<00:00, 35.31it/s]\n",
            "Epoch 21\n"
          ]
        },
        {
          "output_type": "stream",
          "name": "stdout",
          "text": [
            "109.075\n"
          ]
        },
        {
          "output_type": "stream",
          "name": "stderr",
          "text": [
            "Train: 100%|██████████| 813/813 [00:29<00:00, 27.69it/s]\n",
            "Eval : 100%|██████████| 63/63 [00:01<00:00, 35.62it/s]\n",
            "Epoch 22\n"
          ]
        },
        {
          "output_type": "stream",
          "name": "stdout",
          "text": [
            "109.075\n"
          ]
        },
        {
          "output_type": "stream",
          "name": "stderr",
          "text": [
            "Train: 100%|██████████| 813/813 [00:23<00:00, 34.67it/s]\n",
            "Eval : 100%|██████████| 63/63 [00:01<00:00, 35.76it/s]\n",
            "Epoch 23\n"
          ]
        },
        {
          "output_type": "stream",
          "name": "stdout",
          "text": [
            "106.912\n"
          ]
        },
        {
          "output_type": "stream",
          "name": "stderr",
          "text": [
            "Train: 100%|██████████| 813/813 [00:29<00:00, 27.73it/s]\n",
            "Eval : 100%|██████████| 63/63 [00:01<00:00, 35.95it/s]\n",
            "Epoch 24\n"
          ]
        },
        {
          "output_type": "stream",
          "name": "stdout",
          "text": [
            "106.912\n"
          ]
        },
        {
          "output_type": "stream",
          "name": "stderr",
          "text": [
            "Train: 100%|██████████| 813/813 [00:23<00:00, 34.58it/s]\n",
            "Eval : 100%|██████████| 63/63 [00:01<00:00, 36.32it/s]\n",
            "Epoch 25\n"
          ]
        },
        {
          "output_type": "stream",
          "name": "stdout",
          "text": [
            "108.852\n"
          ]
        },
        {
          "output_type": "stream",
          "name": "stderr",
          "text": [
            "Train: 100%|██████████| 813/813 [00:29<00:00, 27.81it/s]\n",
            "Eval : 100%|██████████| 63/63 [00:01<00:00, 36.51it/s]\n",
            "Epoch 26\n"
          ]
        },
        {
          "output_type": "stream",
          "name": "stdout",
          "text": [
            "108.852\n"
          ]
        },
        {
          "output_type": "stream",
          "name": "stderr",
          "text": [
            "Train: 100%|██████████| 813/813 [00:23<00:00, 34.86it/s]\n",
            "Eval : 100%|██████████| 63/63 [00:01<00:00, 35.53it/s]\n",
            "Epoch 27\n"
          ]
        },
        {
          "output_type": "stream",
          "name": "stdout",
          "text": [
            "106.935\n"
          ]
        },
        {
          "output_type": "stream",
          "name": "stderr",
          "text": [
            "Train: 100%|██████████| 813/813 [00:29<00:00, 27.64it/s]\n",
            "Eval : 100%|██████████| 63/63 [00:01<00:00, 35.54it/s]\n",
            "Epoch 28\n"
          ]
        },
        {
          "output_type": "stream",
          "name": "stdout",
          "text": [
            "106.935\n"
          ]
        },
        {
          "output_type": "stream",
          "name": "stderr",
          "text": [
            "Train: 100%|██████████| 813/813 [00:23<00:00, 34.76it/s]\n",
            "Eval : 100%|██████████| 63/63 [00:01<00:00, 35.77it/s]\n",
            "Epoch 29\n"
          ]
        },
        {
          "output_type": "stream",
          "name": "stdout",
          "text": [
            "109.282\n"
          ]
        },
        {
          "output_type": "stream",
          "name": "stderr",
          "text": [
            "Train: 100%|██████████| 813/813 [00:29<00:00, 27.61it/s]\n",
            "Eval : 100%|██████████| 63/63 [00:01<00:00, 34.42it/s]\n",
            "Epoch 30\n"
          ]
        },
        {
          "output_type": "stream",
          "name": "stdout",
          "text": [
            "109.282\n"
          ]
        },
        {
          "output_type": "stream",
          "name": "stderr",
          "text": [
            "Train: 100%|██████████| 813/813 [00:23<00:00, 34.96it/s]\n",
            "Eval : 100%|██████████| 63/63 [00:01<00:00, 34.70it/s]\n",
            "Epoch 31\n"
          ]
        },
        {
          "output_type": "stream",
          "name": "stdout",
          "text": [
            "107.048\n"
          ]
        },
        {
          "output_type": "stream",
          "name": "stderr",
          "text": [
            "Train: 100%|██████████| 813/813 [00:28<00:00, 28.14it/s]\n",
            "Eval : 100%|██████████| 63/63 [00:01<00:00, 36.02it/s]\n",
            "Epoch 32\n"
          ]
        },
        {
          "output_type": "stream",
          "name": "stdout",
          "text": [
            "107.048\n"
          ]
        },
        {
          "output_type": "stream",
          "name": "stderr",
          "text": [
            "Train: 100%|██████████| 813/813 [00:23<00:00, 34.79it/s]\n",
            "Eval : 100%|██████████| 63/63 [00:01<00:00, 35.06it/s]\n",
            "Epoch 33\n"
          ]
        },
        {
          "output_type": "stream",
          "name": "stdout",
          "text": [
            "108.658\n"
          ]
        },
        {
          "output_type": "stream",
          "name": "stderr",
          "text": [
            "Train: 100%|██████████| 813/813 [00:29<00:00, 27.70it/s]\n",
            "Eval : 100%|██████████| 63/63 [00:01<00:00, 36.00it/s]\n",
            "Epoch 34\n"
          ]
        },
        {
          "output_type": "stream",
          "name": "stdout",
          "text": [
            "108.658\n"
          ]
        },
        {
          "output_type": "stream",
          "name": "stderr",
          "text": [
            "Train: 100%|██████████| 813/813 [00:23<00:00, 35.10it/s]\n",
            "Eval : 100%|██████████| 63/63 [00:01<00:00, 36.01it/s]\n",
            "Epoch 35\n"
          ]
        },
        {
          "output_type": "stream",
          "name": "stdout",
          "text": [
            "107.945\n"
          ]
        },
        {
          "output_type": "stream",
          "name": "stderr",
          "text": [
            "Train: 100%|██████████| 813/813 [00:29<00:00, 27.98it/s]\n",
            "Eval : 100%|██████████| 63/63 [00:01<00:00, 35.57it/s]\n",
            "Epoch 36\n"
          ]
        },
        {
          "output_type": "stream",
          "name": "stdout",
          "text": [
            "107.945\n"
          ]
        },
        {
          "output_type": "stream",
          "name": "stderr",
          "text": [
            "Train: 100%|██████████| 813/813 [00:23<00:00, 34.87it/s]\n",
            "Eval : 100%|██████████| 63/63 [00:01<00:00, 36.34it/s]\n",
            "Epoch 37\n"
          ]
        },
        {
          "output_type": "stream",
          "name": "stdout",
          "text": [
            "108.549\n"
          ]
        },
        {
          "output_type": "stream",
          "name": "stderr",
          "text": [
            "Train: 100%|██████████| 813/813 [00:29<00:00, 27.78it/s]\n",
            "Eval : 100%|██████████| 63/63 [00:01<00:00, 35.91it/s]\n",
            "Epoch 38\n"
          ]
        },
        {
          "output_type": "stream",
          "name": "stdout",
          "text": [
            "108.549\n"
          ]
        },
        {
          "output_type": "stream",
          "name": "stderr",
          "text": [
            "Train: 100%|██████████| 813/813 [00:23<00:00, 35.04it/s]\n",
            "Eval : 100%|██████████| 63/63 [00:01<00:00, 36.21it/s]\n",
            "Epoch 39\n"
          ]
        },
        {
          "output_type": "stream",
          "name": "stdout",
          "text": [
            "107.981\n"
          ]
        },
        {
          "output_type": "stream",
          "name": "stderr",
          "text": [
            "Train: 100%|██████████| 813/813 [00:29<00:00, 27.78it/s]\n",
            "Eval : 100%|██████████| 63/63 [00:01<00:00, 36.05it/s]\n",
            "Epoch 40\n"
          ]
        },
        {
          "output_type": "stream",
          "name": "stdout",
          "text": [
            "107.981\n"
          ]
        },
        {
          "output_type": "stream",
          "name": "stderr",
          "text": [
            "Train: 100%|██████████| 813/813 [00:23<00:00, 34.76it/s]\n",
            "Eval : 100%|██████████| 63/63 [00:01<00:00, 34.89it/s]\n",
            "Epoch 41\n"
          ]
        },
        {
          "output_type": "stream",
          "name": "stdout",
          "text": [
            "107.782\n"
          ]
        },
        {
          "output_type": "stream",
          "name": "stderr",
          "text": [
            "Train: 100%|██████████| 813/813 [00:29<00:00, 27.65it/s]\n",
            "Eval : 100%|██████████| 63/63 [00:01<00:00, 35.79it/s]\n",
            "Epoch 42\n"
          ]
        },
        {
          "output_type": "stream",
          "name": "stdout",
          "text": [
            "107.782\n"
          ]
        },
        {
          "output_type": "stream",
          "name": "stderr",
          "text": [
            "Train: 100%|██████████| 813/813 [00:23<00:00, 35.33it/s]\n",
            "Eval : 100%|██████████| 63/63 [00:01<00:00, 34.38it/s]\n",
            "Epoch 43\n"
          ]
        },
        {
          "output_type": "stream",
          "name": "stdout",
          "text": [
            "107.57\n"
          ]
        },
        {
          "output_type": "stream",
          "name": "stderr",
          "text": [
            "Train: 100%|██████████| 813/813 [00:29<00:00, 27.75it/s]\n",
            "Eval : 100%|██████████| 63/63 [00:01<00:00, 35.30it/s]\n",
            "Epoch 44\n"
          ]
        },
        {
          "output_type": "stream",
          "name": "stdout",
          "text": [
            "107.57\n"
          ]
        },
        {
          "output_type": "stream",
          "name": "stderr",
          "text": [
            "Train: 100%|██████████| 813/813 [00:23<00:00, 34.75it/s]\n",
            "Eval : 100%|██████████| 63/63 [00:01<00:00, 35.20it/s]\n",
            "Epoch 45\n"
          ]
        },
        {
          "output_type": "stream",
          "name": "stdout",
          "text": [
            "109.287\n"
          ]
        },
        {
          "output_type": "stream",
          "name": "stderr",
          "text": [
            "Train: 100%|██████████| 813/813 [00:29<00:00, 27.39it/s]\n",
            "Eval : 100%|██████████| 63/63 [00:01<00:00, 36.00it/s]\n",
            "Epoch 46\n"
          ]
        },
        {
          "output_type": "stream",
          "name": "stdout",
          "text": [
            "109.287\n"
          ]
        },
        {
          "output_type": "stream",
          "name": "stderr",
          "text": [
            "Train: 100%|██████████| 813/813 [00:23<00:00, 34.92it/s]\n",
            "Eval : 100%|██████████| 63/63 [00:01<00:00, 35.63it/s]\n",
            "Epoch 47\n"
          ]
        },
        {
          "output_type": "stream",
          "name": "stdout",
          "text": [
            "107.343\n"
          ]
        },
        {
          "output_type": "stream",
          "name": "stderr",
          "text": [
            "Train: 100%|██████████| 813/813 [00:29<00:00, 27.65it/s]\n",
            "Eval : 100%|██████████| 63/63 [00:01<00:00, 34.35it/s]\n",
            "Epoch 48\n"
          ]
        },
        {
          "output_type": "stream",
          "name": "stdout",
          "text": [
            "107.343\n"
          ]
        },
        {
          "output_type": "stream",
          "name": "stderr",
          "text": [
            "Train: 100%|██████████| 813/813 [00:23<00:00, 34.69it/s]\n",
            "Eval : 100%|██████████| 63/63 [00:01<00:00, 35.76it/s]\n",
            "Epoch 49\n"
          ]
        },
        {
          "output_type": "stream",
          "name": "stdout",
          "text": [
            "108.756\n"
          ]
        },
        {
          "output_type": "stream",
          "name": "stderr",
          "text": [
            "Train: 100%|██████████| 813/813 [00:29<00:00, 27.67it/s]\n",
            "Eval : 100%|██████████| 63/63 [00:01<00:00, 35.77it/s]\n",
            "Epoch 50\n"
          ]
        },
        {
          "output_type": "stream",
          "name": "stdout",
          "text": [
            "108.756\n"
          ]
        },
        {
          "output_type": "stream",
          "name": "stderr",
          "text": [
            "Train: 100%|██████████| 813/813 [00:23<00:00, 34.95it/s]\n",
            "Eval : 100%|██████████| 63/63 [00:01<00:00, 35.51it/s]\n",
            "Epoch 51\n"
          ]
        },
        {
          "output_type": "stream",
          "name": "stdout",
          "text": [
            "107.789\n"
          ]
        },
        {
          "output_type": "stream",
          "name": "stderr",
          "text": [
            "Train: 100%|██████████| 813/813 [00:29<00:00, 27.71it/s]\n",
            "Eval : 100%|██████████| 63/63 [00:01<00:00, 35.83it/s]\n",
            "Epoch 52\n"
          ]
        },
        {
          "output_type": "stream",
          "name": "stdout",
          "text": [
            "107.789\n"
          ]
        },
        {
          "output_type": "stream",
          "name": "stderr",
          "text": [
            "Train: 100%|██████████| 813/813 [00:23<00:00, 34.55it/s]\n",
            "Eval : 100%|██████████| 63/63 [00:01<00:00, 35.56it/s]\n",
            "Epoch 53\n"
          ]
        },
        {
          "output_type": "stream",
          "name": "stdout",
          "text": [
            "108.652\n"
          ]
        },
        {
          "output_type": "stream",
          "name": "stderr",
          "text": [
            "Train: 100%|██████████| 813/813 [00:29<00:00, 27.48it/s]\n",
            "Eval : 100%|██████████| 63/63 [00:01<00:00, 34.90it/s]\n",
            "Epoch 54\n"
          ]
        },
        {
          "output_type": "stream",
          "name": "stdout",
          "text": [
            "108.652\n"
          ]
        },
        {
          "output_type": "stream",
          "name": "stderr",
          "text": [
            "Train: 100%|██████████| 813/813 [00:23<00:00, 34.86it/s]\n",
            "Eval : 100%|██████████| 63/63 [00:01<00:00, 35.03it/s]\n",
            "Epoch 55\n"
          ]
        },
        {
          "output_type": "stream",
          "name": "stdout",
          "text": [
            "107.405\n"
          ]
        },
        {
          "output_type": "stream",
          "name": "stderr",
          "text": [
            "Train: 100%|██████████| 813/813 [00:29<00:00, 27.58it/s]\n",
            "Eval : 100%|██████████| 63/63 [00:01<00:00, 35.63it/s]\n",
            "Epoch 56\n"
          ]
        },
        {
          "output_type": "stream",
          "name": "stdout",
          "text": [
            "107.405\n"
          ]
        },
        {
          "output_type": "stream",
          "name": "stderr",
          "text": [
            "Train: 100%|██████████| 813/813 [00:23<00:00, 34.87it/s]\n",
            "Eval : 100%|██████████| 63/63 [00:01<00:00, 35.45it/s]\n",
            "Epoch 57\n"
          ]
        },
        {
          "output_type": "stream",
          "name": "stdout",
          "text": [
            "108.422\n"
          ]
        },
        {
          "output_type": "stream",
          "name": "stderr",
          "text": [
            "Train: 100%|██████████| 813/813 [00:29<00:00, 27.93it/s]\n",
            "Eval : 100%|██████████| 63/63 [00:01<00:00, 35.20it/s]\n",
            "Epoch 58\n"
          ]
        },
        {
          "output_type": "stream",
          "name": "stdout",
          "text": [
            "108.422\n"
          ]
        },
        {
          "output_type": "stream",
          "name": "stderr",
          "text": [
            "Train: 100%|██████████| 813/813 [00:23<00:00, 34.91it/s]\n",
            "Eval : 100%|██████████| 63/63 [00:01<00:00, 35.39it/s]\n",
            "Epoch 59\n"
          ]
        },
        {
          "output_type": "stream",
          "name": "stdout",
          "text": [
            "108.542\n"
          ]
        },
        {
          "output_type": "stream",
          "name": "stderr",
          "text": [
            "Train: 100%|██████████| 813/813 [00:29<00:00, 27.78it/s]\n",
            "Eval : 100%|██████████| 63/63 [00:01<00:00, 35.34it/s]\n",
            "Epoch 60\n"
          ]
        },
        {
          "output_type": "stream",
          "name": "stdout",
          "text": [
            "108.542\n"
          ]
        },
        {
          "output_type": "stream",
          "name": "stderr",
          "text": [
            "Train: 100%|██████████| 813/813 [00:23<00:00, 34.86it/s]\n",
            "Eval : 100%|██████████| 63/63 [00:01<00:00, 35.16it/s]\n",
            "Epoch 61\n"
          ]
        },
        {
          "output_type": "stream",
          "name": "stdout",
          "text": [
            "108.038\n"
          ]
        },
        {
          "output_type": "stream",
          "name": "stderr",
          "text": [
            "Train: 100%|██████████| 813/813 [00:29<00:00, 27.96it/s]\n",
            "Eval : 100%|██████████| 63/63 [00:01<00:00, 36.08it/s]\n",
            "Epoch 62\n"
          ]
        },
        {
          "output_type": "stream",
          "name": "stdout",
          "text": [
            "108.038\n"
          ]
        },
        {
          "output_type": "stream",
          "name": "stderr",
          "text": [
            "Train: 100%|██████████| 813/813 [00:23<00:00, 34.76it/s]\n",
            "Eval : 100%|██████████| 63/63 [00:01<00:00, 34.54it/s]\n",
            "Epoch 63\n"
          ]
        },
        {
          "output_type": "stream",
          "name": "stdout",
          "text": [
            "109.019\n"
          ]
        },
        {
          "output_type": "stream",
          "name": "stderr",
          "text": [
            "Train: 100%|██████████| 813/813 [00:29<00:00, 27.71it/s]\n",
            "Eval : 100%|██████████| 63/63 [00:01<00:00, 36.48it/s]\n",
            "Epoch 64\n"
          ]
        },
        {
          "output_type": "stream",
          "name": "stdout",
          "text": [
            "109.019\n"
          ]
        },
        {
          "output_type": "stream",
          "name": "stderr",
          "text": [
            "Train: 100%|██████████| 813/813 [00:23<00:00, 34.92it/s]\n",
            "Eval : 100%|██████████| 63/63 [00:01<00:00, 35.45it/s]\n",
            "Epoch 65\n"
          ]
        },
        {
          "output_type": "stream",
          "name": "stdout",
          "text": [
            "107.832\n"
          ]
        },
        {
          "output_type": "stream",
          "name": "stderr",
          "text": [
            "Train: 100%|██████████| 813/813 [00:29<00:00, 27.84it/s]\n",
            "Eval : 100%|██████████| 63/63 [00:01<00:00, 35.48it/s]\n",
            "Epoch 66\n"
          ]
        },
        {
          "output_type": "stream",
          "name": "stdout",
          "text": [
            "107.832\n"
          ]
        },
        {
          "output_type": "stream",
          "name": "stderr",
          "text": [
            "Train: 100%|██████████| 813/813 [00:23<00:00, 34.97it/s]\n",
            "Eval : 100%|██████████| 63/63 [00:01<00:00, 36.14it/s]\n",
            "Epoch 67\n"
          ]
        },
        {
          "output_type": "stream",
          "name": "stdout",
          "text": [
            "108.853\n"
          ]
        },
        {
          "output_type": "stream",
          "name": "stderr",
          "text": [
            "Train: 100%|██████████| 813/813 [00:29<00:00, 27.66it/s]\n",
            "Eval : 100%|██████████| 63/63 [00:01<00:00, 35.23it/s]\n",
            "Epoch 68\n"
          ]
        },
        {
          "output_type": "stream",
          "name": "stdout",
          "text": [
            "108.853\n"
          ]
        },
        {
          "output_type": "stream",
          "name": "stderr",
          "text": [
            "Train: 100%|██████████| 813/813 [00:23<00:00, 35.01it/s]\n",
            "Eval : 100%|██████████| 63/63 [00:01<00:00, 35.33it/s]\n",
            "Epoch 69\n"
          ]
        },
        {
          "output_type": "stream",
          "name": "stdout",
          "text": [
            "107.651\n"
          ]
        },
        {
          "output_type": "stream",
          "name": "stderr",
          "text": [
            "Train: 100%|██████████| 813/813 [00:28<00:00, 28.06it/s]\n",
            "Eval : 100%|██████████| 63/63 [00:01<00:00, 35.63it/s]\n",
            "Epoch 70\n"
          ]
        },
        {
          "output_type": "stream",
          "name": "stdout",
          "text": [
            "107.651\n"
          ]
        },
        {
          "output_type": "stream",
          "name": "stderr",
          "text": [
            "Train: 100%|██████████| 813/813 [00:23<00:00, 34.70it/s]\n",
            "Eval : 100%|██████████| 63/63 [00:01<00:00, 35.58it/s]\n",
            "Epoch 71\n"
          ]
        },
        {
          "output_type": "stream",
          "name": "stdout",
          "text": [
            "107.795\n"
          ]
        },
        {
          "output_type": "stream",
          "name": "stderr",
          "text": [
            "Train: 100%|██████████| 813/813 [00:29<00:00, 27.67it/s]\n",
            "Eval : 100%|██████████| 63/63 [00:01<00:00, 35.56it/s]\n",
            "Epoch 72\n"
          ]
        },
        {
          "output_type": "stream",
          "name": "stdout",
          "text": [
            "107.795\n"
          ]
        },
        {
          "output_type": "stream",
          "name": "stderr",
          "text": [
            "Train: 100%|██████████| 813/813 [00:23<00:00, 34.98it/s]\n",
            "Eval : 100%|██████████| 63/63 [00:01<00:00, 35.23it/s]\n",
            "Epoch 73\n"
          ]
        },
        {
          "output_type": "stream",
          "name": "stdout",
          "text": [
            "107.598\n"
          ]
        },
        {
          "output_type": "stream",
          "name": "stderr",
          "text": [
            "Train: 100%|██████████| 813/813 [00:29<00:00, 27.63it/s]\n",
            "Eval : 100%|██████████| 63/63 [00:01<00:00, 35.38it/s]\n",
            "Epoch 74\n"
          ]
        },
        {
          "output_type": "stream",
          "name": "stdout",
          "text": [
            "107.598\n"
          ]
        },
        {
          "output_type": "stream",
          "name": "stderr",
          "text": [
            "Train: 100%|██████████| 813/813 [00:23<00:00, 34.77it/s]\n",
            "Eval : 100%|██████████| 63/63 [00:01<00:00, 35.81it/s]\n",
            "Epoch 75\n"
          ]
        },
        {
          "output_type": "stream",
          "name": "stdout",
          "text": [
            "107.629\n"
          ]
        },
        {
          "output_type": "stream",
          "name": "stderr",
          "text": [
            "Train: 100%|██████████| 813/813 [00:29<00:00, 27.56it/s]\n",
            "Eval : 100%|██████████| 63/63 [00:01<00:00, 35.41it/s]\n",
            "Epoch 76\n"
          ]
        },
        {
          "output_type": "stream",
          "name": "stdout",
          "text": [
            "107.629\n"
          ]
        },
        {
          "output_type": "stream",
          "name": "stderr",
          "text": [
            "Train: 100%|██████████| 813/813 [00:23<00:00, 34.83it/s]\n",
            "Eval : 100%|██████████| 63/63 [00:01<00:00, 36.21it/s]\n",
            "Epoch 77\n"
          ]
        },
        {
          "output_type": "stream",
          "name": "stdout",
          "text": [
            "107.431\n"
          ]
        },
        {
          "output_type": "stream",
          "name": "stderr",
          "text": [
            "Train: 100%|██████████| 813/813 [00:29<00:00, 27.59it/s]\n",
            "Eval : 100%|██████████| 63/63 [00:01<00:00, 34.30it/s]\n",
            "Epoch 78\n"
          ]
        },
        {
          "output_type": "stream",
          "name": "stdout",
          "text": [
            "107.431\n"
          ]
        },
        {
          "output_type": "stream",
          "name": "stderr",
          "text": [
            "Train: 100%|██████████| 813/813 [00:23<00:00, 34.64it/s]\n",
            "Eval : 100%|██████████| 63/63 [00:01<00:00, 35.02it/s]\n",
            "Epoch 79\n"
          ]
        },
        {
          "output_type": "stream",
          "name": "stdout",
          "text": [
            "108.429\n"
          ]
        },
        {
          "output_type": "stream",
          "name": "stderr",
          "text": [
            "Train: 100%|██████████| 813/813 [00:29<00:00, 27.65it/s]\n",
            "Eval : 100%|██████████| 63/63 [00:01<00:00, 34.59it/s]\n",
            "Epoch 80\n"
          ]
        },
        {
          "output_type": "stream",
          "name": "stdout",
          "text": [
            "108.429\n"
          ]
        },
        {
          "output_type": "stream",
          "name": "stderr",
          "text": [
            "Train: 100%|██████████| 813/813 [00:23<00:00, 34.90it/s]\n",
            "Eval : 100%|██████████| 63/63 [00:01<00:00, 35.52it/s]\n",
            "Epoch 81\n"
          ]
        },
        {
          "output_type": "stream",
          "name": "stdout",
          "text": [
            "107.56\n"
          ]
        },
        {
          "output_type": "stream",
          "name": "stderr",
          "text": [
            "Train: 100%|██████████| 813/813 [00:29<00:00, 27.78it/s]\n",
            "Eval : 100%|██████████| 63/63 [00:01<00:00, 35.99it/s]\n",
            "Epoch 82\n"
          ]
        },
        {
          "output_type": "stream",
          "name": "stdout",
          "text": [
            "107.56\n"
          ]
        },
        {
          "output_type": "stream",
          "name": "stderr",
          "text": [
            "Train: 100%|██████████| 813/813 [00:23<00:00, 34.82it/s]\n",
            "Eval : 100%|██████████| 63/63 [00:01<00:00, 35.47it/s]\n",
            "Epoch 83\n"
          ]
        },
        {
          "output_type": "stream",
          "name": "stdout",
          "text": [
            "108.74\n"
          ]
        },
        {
          "output_type": "stream",
          "name": "stderr",
          "text": [
            "Train: 100%|██████████| 813/813 [00:29<00:00, 27.73it/s]\n",
            "Eval : 100%|██████████| 63/63 [00:01<00:00, 35.33it/s]\n",
            "Epoch 84\n"
          ]
        },
        {
          "output_type": "stream",
          "name": "stdout",
          "text": [
            "108.74\n"
          ]
        },
        {
          "output_type": "stream",
          "name": "stderr",
          "text": [
            "Train: 100%|██████████| 813/813 [00:23<00:00, 34.52it/s]\n",
            "Eval : 100%|██████████| 63/63 [00:01<00:00, 35.80it/s]\n",
            "Epoch 85\n"
          ]
        },
        {
          "output_type": "stream",
          "name": "stdout",
          "text": [
            "108.277\n"
          ]
        },
        {
          "output_type": "stream",
          "name": "stderr",
          "text": [
            "Train: 100%|██████████| 813/813 [00:29<00:00, 27.92it/s]\n",
            "Eval : 100%|██████████| 63/63 [00:01<00:00, 35.83it/s]\n",
            "Epoch 86\n"
          ]
        },
        {
          "output_type": "stream",
          "name": "stdout",
          "text": [
            "108.277\n"
          ]
        },
        {
          "output_type": "stream",
          "name": "stderr",
          "text": [
            "Train: 100%|██████████| 813/813 [00:23<00:00, 34.51it/s]\n",
            "Eval : 100%|██████████| 63/63 [00:01<00:00, 35.85it/s]\n",
            "Epoch 87\n"
          ]
        },
        {
          "output_type": "stream",
          "name": "stdout",
          "text": [
            "108.545\n"
          ]
        },
        {
          "output_type": "stream",
          "name": "stderr",
          "text": [
            "Train: 100%|██████████| 813/813 [00:29<00:00, 27.66it/s]\n",
            "Eval : 100%|██████████| 63/63 [00:01<00:00, 35.79it/s]\n",
            "Epoch 88\n"
          ]
        },
        {
          "output_type": "stream",
          "name": "stdout",
          "text": [
            "108.545\n"
          ]
        },
        {
          "output_type": "stream",
          "name": "stderr",
          "text": [
            "Train: 100%|██████████| 813/813 [00:23<00:00, 34.78it/s]\n",
            "Eval : 100%|██████████| 63/63 [00:01<00:00, 35.61it/s]\n",
            "Epoch 89\n"
          ]
        },
        {
          "output_type": "stream",
          "name": "stdout",
          "text": [
            "108.07\n"
          ]
        },
        {
          "output_type": "stream",
          "name": "stderr",
          "text": [
            "Train: 100%|██████████| 813/813 [00:29<00:00, 28.01it/s]\n",
            "Eval : 100%|██████████| 63/63 [00:01<00:00, 35.29it/s]\n",
            "Epoch 90\n"
          ]
        },
        {
          "output_type": "stream",
          "name": "stdout",
          "text": [
            "108.07\n"
          ]
        },
        {
          "output_type": "stream",
          "name": "stderr",
          "text": [
            "Train: 100%|██████████| 813/813 [00:23<00:00, 34.87it/s]\n",
            "Eval : 100%|██████████| 63/63 [00:01<00:00, 35.70it/s]\n",
            "Epoch 91\n"
          ]
        },
        {
          "output_type": "stream",
          "name": "stdout",
          "text": [
            "108.455\n"
          ]
        },
        {
          "output_type": "stream",
          "name": "stderr",
          "text": [
            "Train: 100%|██████████| 813/813 [00:29<00:00, 27.91it/s]\n",
            "Eval : 100%|██████████| 63/63 [00:01<00:00, 36.04it/s]\n",
            "Epoch 92\n"
          ]
        },
        {
          "output_type": "stream",
          "name": "stdout",
          "text": [
            "108.455\n"
          ]
        },
        {
          "output_type": "stream",
          "name": "stderr",
          "text": [
            "Train: 100%|██████████| 813/813 [00:23<00:00, 34.71it/s]\n",
            "Eval : 100%|██████████| 63/63 [00:01<00:00, 35.90it/s]\n",
            "Epoch 93\n"
          ]
        },
        {
          "output_type": "stream",
          "name": "stdout",
          "text": [
            "108.249\n"
          ]
        },
        {
          "output_type": "stream",
          "name": "stderr",
          "text": [
            "Train: 100%|██████████| 813/813 [00:29<00:00, 27.93it/s]\n",
            "Eval : 100%|██████████| 63/63 [00:01<00:00, 35.45it/s]\n",
            "Epoch 94\n"
          ]
        },
        {
          "output_type": "stream",
          "name": "stdout",
          "text": [
            "108.249\n"
          ]
        },
        {
          "output_type": "stream",
          "name": "stderr",
          "text": [
            "Train: 100%|██████████| 813/813 [00:23<00:00, 34.82it/s]\n",
            "Eval : 100%|██████████| 63/63 [00:01<00:00, 34.69it/s]\n",
            "Epoch 95\n"
          ]
        },
        {
          "output_type": "stream",
          "name": "stdout",
          "text": [
            "108.649\n"
          ]
        },
        {
          "output_type": "stream",
          "name": "stderr",
          "text": [
            "Train: 100%|██████████| 813/813 [00:29<00:00, 27.91it/s]\n",
            "Eval : 100%|██████████| 63/63 [00:01<00:00, 34.96it/s]\n",
            "Epoch 96\n"
          ]
        },
        {
          "output_type": "stream",
          "name": "stdout",
          "text": [
            "108.649\n"
          ]
        },
        {
          "output_type": "stream",
          "name": "stderr",
          "text": [
            "Train: 100%|██████████| 813/813 [00:23<00:00, 34.84it/s]\n",
            "Eval : 100%|██████████| 63/63 [00:01<00:00, 35.49it/s]\n",
            "Epoch 97\n"
          ]
        },
        {
          "output_type": "stream",
          "name": "stdout",
          "text": [
            "107.677\n"
          ]
        },
        {
          "output_type": "stream",
          "name": "stderr",
          "text": [
            "Train: 100%|██████████| 813/813 [00:29<00:00, 27.72it/s]\n",
            "Eval : 100%|██████████| 63/63 [00:01<00:00, 36.06it/s]\n",
            "Epoch 98\n"
          ]
        },
        {
          "output_type": "stream",
          "name": "stdout",
          "text": [
            "107.677\n"
          ]
        },
        {
          "output_type": "stream",
          "name": "stderr",
          "text": [
            "Train: 100%|██████████| 813/813 [00:23<00:00, 35.15it/s]\n",
            "Eval : 100%|██████████| 63/63 [00:01<00:00, 35.75it/s]\n",
            "Epoch 99\n"
          ]
        },
        {
          "output_type": "stream",
          "name": "stdout",
          "text": [
            "108.23\n"
          ]
        },
        {
          "output_type": "stream",
          "name": "stderr",
          "text": [
            "Train: 100%|██████████| 813/813 [00:29<00:00, 27.73it/s]\n",
            "Eval : 100%|██████████| 63/63 [00:01<00:00, 35.31it/s]\n",
            "Epoch 100\n"
          ]
        },
        {
          "output_type": "stream",
          "name": "stdout",
          "text": [
            "108.23\n"
          ]
        },
        {
          "output_type": "stream",
          "name": "stderr",
          "text": [
            "Train: 100%|██████████| 813/813 [00:23<00:00, 34.85it/s]\n",
            "Eval : 100%|██████████| 63/63 [00:01<00:00, 35.56it/s]\n",
            "Epoch 101\n"
          ]
        },
        {
          "output_type": "stream",
          "name": "stdout",
          "text": [
            "108.762\n"
          ]
        },
        {
          "output_type": "stream",
          "name": "stderr",
          "text": [
            "Train: 100%|██████████| 813/813 [00:29<00:00, 27.53it/s]\n",
            "Eval : 100%|██████████| 63/63 [00:01<00:00, 35.04it/s]\n",
            "Epoch 102\n"
          ]
        },
        {
          "output_type": "stream",
          "name": "stdout",
          "text": [
            "108.762\n"
          ]
        },
        {
          "output_type": "stream",
          "name": "stderr",
          "text": [
            "Train: 100%|██████████| 813/813 [00:23<00:00, 34.62it/s]\n",
            "Eval : 100%|██████████| 63/63 [00:01<00:00, 35.01it/s]\n",
            "Epoch 103\n"
          ]
        },
        {
          "output_type": "stream",
          "name": "stdout",
          "text": [
            "109.169\n"
          ]
        },
        {
          "output_type": "stream",
          "name": "stderr",
          "text": [
            "Train: 100%|██████████| 813/813 [00:29<00:00, 27.44it/s]\n",
            "Eval : 100%|██████████| 63/63 [00:01<00:00, 35.07it/s]\n",
            "Epoch 104\n"
          ]
        },
        {
          "output_type": "stream",
          "name": "stdout",
          "text": [
            "109.169\n"
          ]
        },
        {
          "output_type": "stream",
          "name": "stderr",
          "text": [
            "Train: 100%|██████████| 813/813 [00:23<00:00, 34.60it/s]\n",
            "Eval : 100%|██████████| 63/63 [00:01<00:00, 35.78it/s]\n",
            "Epoch 105\n"
          ]
        },
        {
          "output_type": "stream",
          "name": "stdout",
          "text": [
            "108.59\n"
          ]
        },
        {
          "output_type": "stream",
          "name": "stderr",
          "text": [
            "Train: 100%|██████████| 813/813 [00:29<00:00, 27.45it/s]\n",
            "Eval : 100%|██████████| 63/63 [00:01<00:00, 36.04it/s]\n",
            "Epoch 106\n"
          ]
        },
        {
          "output_type": "stream",
          "name": "stdout",
          "text": [
            "108.59\n"
          ]
        },
        {
          "output_type": "stream",
          "name": "stderr",
          "text": [
            "Train: 100%|██████████| 813/813 [00:23<00:00, 34.72it/s]\n",
            "Eval : 100%|██████████| 63/63 [00:01<00:00, 35.72it/s]\n",
            "Epoch 107\n"
          ]
        },
        {
          "output_type": "stream",
          "name": "stdout",
          "text": [
            "109.042\n"
          ]
        },
        {
          "output_type": "stream",
          "name": "stderr",
          "text": [
            "Train: 100%|██████████| 813/813 [00:29<00:00, 27.68it/s]\n",
            "Eval : 100%|██████████| 63/63 [00:01<00:00, 35.93it/s]\n",
            "Epoch 108\n"
          ]
        },
        {
          "output_type": "stream",
          "name": "stdout",
          "text": [
            "109.042\n"
          ]
        },
        {
          "output_type": "stream",
          "name": "stderr",
          "text": [
            "Train: 100%|██████████| 813/813 [00:23<00:00, 34.79it/s]\n",
            "Eval : 100%|██████████| 63/63 [00:01<00:00, 35.38it/s]\n",
            "Epoch 109\n"
          ]
        },
        {
          "output_type": "stream",
          "name": "stdout",
          "text": [
            "108.861\n"
          ]
        },
        {
          "output_type": "stream",
          "name": "stderr",
          "text": [
            "Train: 100%|██████████| 813/813 [00:29<00:00, 27.60it/s]\n",
            "Eval : 100%|██████████| 63/63 [00:01<00:00, 35.64it/s]\n",
            "Epoch 110\n"
          ]
        },
        {
          "output_type": "stream",
          "name": "stdout",
          "text": [
            "108.861\n"
          ]
        },
        {
          "output_type": "stream",
          "name": "stderr",
          "text": [
            "Train: 100%|██████████| 813/813 [00:23<00:00, 34.58it/s]\n",
            "Eval : 100%|██████████| 63/63 [00:01<00:00, 35.89it/s]\n",
            "Epoch 111\n"
          ]
        },
        {
          "output_type": "stream",
          "name": "stdout",
          "text": [
            "107.65\n"
          ]
        },
        {
          "output_type": "stream",
          "name": "stderr",
          "text": [
            "Train: 100%|██████████| 813/813 [00:29<00:00, 27.66it/s]\n",
            "Eval : 100%|██████████| 63/63 [00:01<00:00, 35.43it/s]\n",
            "Epoch 112\n"
          ]
        },
        {
          "output_type": "stream",
          "name": "stdout",
          "text": [
            "107.65\n"
          ]
        },
        {
          "output_type": "stream",
          "name": "stderr",
          "text": [
            "Train: 100%|██████████| 813/813 [00:23<00:00, 34.99it/s]\n",
            "Eval : 100%|██████████| 63/63 [00:01<00:00, 35.78it/s]\n",
            "Epoch 113\n"
          ]
        },
        {
          "output_type": "stream",
          "name": "stdout",
          "text": [
            "109.309\n"
          ]
        },
        {
          "output_type": "stream",
          "name": "stderr",
          "text": [
            "Train: 100%|██████████| 813/813 [00:29<00:00, 27.71it/s]\n",
            "Eval : 100%|██████████| 63/63 [00:01<00:00, 35.15it/s]\n",
            "Epoch 114\n"
          ]
        },
        {
          "output_type": "stream",
          "name": "stdout",
          "text": [
            "109.309\n"
          ]
        },
        {
          "output_type": "stream",
          "name": "stderr",
          "text": [
            "Train: 100%|██████████| 813/813 [00:23<00:00, 34.70it/s]\n",
            "Eval : 100%|██████████| 63/63 [00:01<00:00, 35.67it/s]\n",
            "Epoch 115\n"
          ]
        },
        {
          "output_type": "stream",
          "name": "stdout",
          "text": [
            "107.434\n"
          ]
        },
        {
          "output_type": "stream",
          "name": "stderr",
          "text": [
            "Train: 100%|██████████| 813/813 [00:29<00:00, 27.52it/s]\n",
            "Eval : 100%|██████████| 63/63 [00:01<00:00, 35.42it/s]\n",
            "Epoch 116\n"
          ]
        },
        {
          "output_type": "stream",
          "name": "stdout",
          "text": [
            "107.434\n"
          ]
        },
        {
          "output_type": "stream",
          "name": "stderr",
          "text": [
            "Train: 100%|██████████| 813/813 [00:23<00:00, 34.40it/s]\n",
            "Eval : 100%|██████████| 63/63 [00:01<00:00, 35.44it/s]\n",
            "Epoch 117\n"
          ]
        },
        {
          "output_type": "stream",
          "name": "stdout",
          "text": [
            "109.327\n"
          ]
        },
        {
          "output_type": "stream",
          "name": "stderr",
          "text": [
            "Train: 100%|██████████| 813/813 [00:29<00:00, 27.42it/s]\n",
            "Eval : 100%|██████████| 63/63 [00:01<00:00, 35.34it/s]\n",
            "Epoch 118\n"
          ]
        },
        {
          "output_type": "stream",
          "name": "stdout",
          "text": [
            "109.327\n"
          ]
        },
        {
          "output_type": "stream",
          "name": "stderr",
          "text": [
            "Train: 100%|██████████| 813/813 [00:23<00:00, 34.67it/s]\n",
            "Eval : 100%|██████████| 63/63 [00:01<00:00, 35.30it/s]\n",
            "Epoch 119\n"
          ]
        },
        {
          "output_type": "stream",
          "name": "stdout",
          "text": [
            "107.922\n"
          ]
        },
        {
          "output_type": "stream",
          "name": "stderr",
          "text": [
            "Train: 100%|██████████| 813/813 [00:28<00:00, 28.04it/s]\n",
            "Eval : 100%|██████████| 63/63 [00:01<00:00, 35.72it/s]\n",
            "Epoch 120\n"
          ]
        },
        {
          "output_type": "stream",
          "name": "stdout",
          "text": [
            "107.922\n"
          ]
        },
        {
          "output_type": "stream",
          "name": "stderr",
          "text": [
            "Train: 100%|██████████| 813/813 [00:23<00:00, 34.45it/s]\n",
            "Eval : 100%|██████████| 63/63 [00:01<00:00, 35.48it/s]\n",
            "Epoch 121\n"
          ]
        },
        {
          "output_type": "stream",
          "name": "stdout",
          "text": [
            "109.516\n"
          ]
        },
        {
          "output_type": "stream",
          "name": "stderr",
          "text": [
            "Train: 100%|██████████| 813/813 [00:29<00:00, 27.55it/s]\n",
            "Eval : 100%|██████████| 63/63 [00:01<00:00, 34.54it/s]\n",
            "Epoch 122\n"
          ]
        },
        {
          "output_type": "stream",
          "name": "stdout",
          "text": [
            "109.516\n"
          ]
        },
        {
          "output_type": "stream",
          "name": "stderr",
          "text": [
            "Train: 100%|██████████| 813/813 [00:23<00:00, 34.69it/s]\n",
            "Eval : 100%|██████████| 63/63 [00:01<00:00, 35.59it/s]\n",
            "Epoch 123\n"
          ]
        },
        {
          "output_type": "stream",
          "name": "stdout",
          "text": [
            "108.092\n"
          ]
        },
        {
          "output_type": "stream",
          "name": "stderr",
          "text": [
            "Train: 100%|██████████| 813/813 [00:28<00:00, 28.06it/s]\n",
            "Eval : 100%|██████████| 63/63 [00:01<00:00, 35.56it/s]\n",
            "Epoch 124\n"
          ]
        },
        {
          "output_type": "stream",
          "name": "stdout",
          "text": [
            "108.092\n"
          ]
        },
        {
          "output_type": "stream",
          "name": "stderr",
          "text": [
            "Train: 100%|██████████| 813/813 [00:23<00:00, 34.70it/s]\n",
            "Eval : 100%|██████████| 63/63 [00:01<00:00, 34.22it/s]\n",
            "Epoch 125\n"
          ]
        },
        {
          "output_type": "stream",
          "name": "stdout",
          "text": [
            "110.512\n"
          ]
        },
        {
          "output_type": "stream",
          "name": "stderr",
          "text": [
            "Train: 100%|██████████| 813/813 [00:29<00:00, 27.63it/s]\n",
            "Eval : 100%|██████████| 63/63 [00:01<00:00, 35.02it/s]\n",
            "Epoch 126\n"
          ]
        },
        {
          "output_type": "stream",
          "name": "stdout",
          "text": [
            "110.512\n"
          ]
        },
        {
          "output_type": "stream",
          "name": "stderr",
          "text": [
            "Train: 100%|██████████| 813/813 [00:23<00:00, 35.00it/s]\n",
            "Eval : 100%|██████████| 63/63 [00:01<00:00, 35.78it/s]\n",
            "Epoch 127\n"
          ]
        },
        {
          "output_type": "stream",
          "name": "stdout",
          "text": [
            "107.825\n"
          ]
        },
        {
          "output_type": "stream",
          "name": "stderr",
          "text": [
            "Train: 100%|██████████| 813/813 [00:29<00:00, 27.97it/s]\n",
            "Eval : 100%|██████████| 63/63 [00:01<00:00, 35.97it/s]\n",
            "Epoch 128\n"
          ]
        },
        {
          "output_type": "stream",
          "name": "stdout",
          "text": [
            "107.825\n"
          ]
        },
        {
          "output_type": "stream",
          "name": "stderr",
          "text": [
            "Train: 100%|██████████| 813/813 [00:23<00:00, 34.64it/s]\n",
            "Eval : 100%|██████████| 63/63 [00:01<00:00, 35.75it/s]\n",
            "Epoch 129\n"
          ]
        },
        {
          "output_type": "stream",
          "name": "stdout",
          "text": [
            "108.767\n"
          ]
        },
        {
          "output_type": "stream",
          "name": "stderr",
          "text": [
            "Train: 100%|██████████| 813/813 [00:29<00:00, 27.49it/s]\n",
            "Eval : 100%|██████████| 63/63 [00:01<00:00, 36.25it/s]\n",
            "Epoch 130\n"
          ]
        },
        {
          "output_type": "stream",
          "name": "stdout",
          "text": [
            "108.767\n"
          ]
        },
        {
          "output_type": "stream",
          "name": "stderr",
          "text": [
            "Train: 100%|██████████| 813/813 [00:23<00:00, 35.00it/s]\n",
            "Eval : 100%|██████████| 63/63 [00:01<00:00, 36.18it/s]\n",
            "Epoch 131\n"
          ]
        },
        {
          "output_type": "stream",
          "name": "stdout",
          "text": [
            "107.816\n"
          ]
        },
        {
          "output_type": "stream",
          "name": "stderr",
          "text": [
            "Train: 100%|██████████| 813/813 [00:29<00:00, 27.75it/s]\n",
            "Eval : 100%|██████████| 63/63 [00:01<00:00, 35.82it/s]\n",
            "Epoch 132\n"
          ]
        },
        {
          "output_type": "stream",
          "name": "stdout",
          "text": [
            "107.816\n"
          ]
        },
        {
          "output_type": "stream",
          "name": "stderr",
          "text": [
            "Train: 100%|██████████| 813/813 [00:23<00:00, 34.80it/s]\n",
            "Eval : 100%|██████████| 63/63 [00:01<00:00, 36.34it/s]\n",
            "Epoch 133\n"
          ]
        },
        {
          "output_type": "stream",
          "name": "stdout",
          "text": [
            "108.007\n"
          ]
        },
        {
          "output_type": "stream",
          "name": "stderr",
          "text": [
            "Train: 100%|██████████| 813/813 [00:29<00:00, 27.41it/s]\n",
            "Eval : 100%|██████████| 63/63 [00:01<00:00, 35.54it/s]\n",
            "Epoch 134\n"
          ]
        },
        {
          "output_type": "stream",
          "name": "stdout",
          "text": [
            "108.007\n"
          ]
        },
        {
          "output_type": "stream",
          "name": "stderr",
          "text": [
            "Train: 100%|██████████| 813/813 [00:23<00:00, 35.24it/s]\n",
            "Eval : 100%|██████████| 63/63 [00:01<00:00, 35.29it/s]\n",
            "Epoch 135\n"
          ]
        },
        {
          "output_type": "stream",
          "name": "stdout",
          "text": [
            "107.702\n"
          ]
        },
        {
          "output_type": "stream",
          "name": "stderr",
          "text": [
            "Train: 100%|██████████| 813/813 [00:28<00:00, 28.07it/s]\n",
            "Eval : 100%|██████████| 63/63 [00:01<00:00, 35.78it/s]\n",
            "Epoch 136\n"
          ]
        },
        {
          "output_type": "stream",
          "name": "stdout",
          "text": [
            "107.702\n"
          ]
        },
        {
          "output_type": "stream",
          "name": "stderr",
          "text": [
            "Train: 100%|██████████| 813/813 [00:23<00:00, 35.03it/s]\n",
            "Eval : 100%|██████████| 63/63 [00:01<00:00, 35.62it/s]\n",
            "Epoch 137\n"
          ]
        },
        {
          "output_type": "stream",
          "name": "stdout",
          "text": [
            "109.568\n"
          ]
        },
        {
          "output_type": "stream",
          "name": "stderr",
          "text": [
            "Train: 100%|██████████| 813/813 [00:29<00:00, 27.67it/s]\n",
            "Eval : 100%|██████████| 63/63 [00:01<00:00, 35.44it/s]\n",
            "Epoch 138\n"
          ]
        },
        {
          "output_type": "stream",
          "name": "stdout",
          "text": [
            "109.568\n"
          ]
        },
        {
          "output_type": "stream",
          "name": "stderr",
          "text": [
            "Train: 100%|██████████| 813/813 [00:23<00:00, 35.33it/s]\n",
            "Eval : 100%|██████████| 63/63 [00:01<00:00, 35.73it/s]\n",
            "Epoch 139\n"
          ]
        },
        {
          "output_type": "stream",
          "name": "stdout",
          "text": [
            "107.866\n"
          ]
        },
        {
          "output_type": "stream",
          "name": "stderr",
          "text": [
            "Train: 100%|██████████| 813/813 [00:29<00:00, 27.78it/s]\n",
            "Eval : 100%|██████████| 63/63 [00:01<00:00, 35.60it/s]\n",
            "Epoch 140\n"
          ]
        },
        {
          "output_type": "stream",
          "name": "stdout",
          "text": [
            "107.866\n"
          ]
        },
        {
          "output_type": "stream",
          "name": "stderr",
          "text": [
            "Train: 100%|██████████| 813/813 [00:23<00:00, 34.96it/s]\n",
            "Eval : 100%|██████████| 63/63 [00:01<00:00, 35.56it/s]\n",
            "Epoch 141\n"
          ]
        },
        {
          "output_type": "stream",
          "name": "stdout",
          "text": [
            "108.682\n"
          ]
        },
        {
          "output_type": "stream",
          "name": "stderr",
          "text": [
            "Train: 100%|██████████| 813/813 [00:29<00:00, 27.58it/s]\n",
            "Eval : 100%|██████████| 63/63 [00:01<00:00, 35.34it/s]\n",
            "Epoch 142\n"
          ]
        },
        {
          "output_type": "stream",
          "name": "stdout",
          "text": [
            "108.682\n"
          ]
        },
        {
          "output_type": "stream",
          "name": "stderr",
          "text": [
            "Train: 100%|██████████| 813/813 [00:23<00:00, 34.93it/s]\n",
            "Eval : 100%|██████████| 63/63 [00:01<00:00, 35.55it/s]\n",
            "Epoch 143\n"
          ]
        },
        {
          "output_type": "stream",
          "name": "stdout",
          "text": [
            "107.35\n"
          ]
        },
        {
          "output_type": "stream",
          "name": "stderr",
          "text": [
            "Train: 100%|██████████| 813/813 [00:29<00:00, 27.95it/s]\n",
            "Eval : 100%|██████████| 63/63 [00:01<00:00, 36.25it/s]\n",
            "Epoch 144\n"
          ]
        },
        {
          "output_type": "stream",
          "name": "stdout",
          "text": [
            "107.35\n"
          ]
        },
        {
          "output_type": "stream",
          "name": "stderr",
          "text": [
            "Train: 100%|██████████| 813/813 [00:23<00:00, 34.83it/s]\n",
            "Eval : 100%|██████████| 63/63 [00:01<00:00, 36.22it/s]\n",
            "Epoch 145\n"
          ]
        },
        {
          "output_type": "stream",
          "name": "stdout",
          "text": [
            "108.99\n"
          ]
        },
        {
          "output_type": "stream",
          "name": "stderr",
          "text": [
            "Train: 100%|██████████| 813/813 [00:29<00:00, 27.71it/s]\n",
            "Eval : 100%|██████████| 63/63 [00:01<00:00, 35.40it/s]\n",
            "Epoch 146\n"
          ]
        },
        {
          "output_type": "stream",
          "name": "stdout",
          "text": [
            "108.99\n"
          ]
        },
        {
          "output_type": "stream",
          "name": "stderr",
          "text": [
            "Train: 100%|██████████| 813/813 [00:23<00:00, 34.18it/s]\n",
            "Eval : 100%|██████████| 63/63 [00:01<00:00, 35.90it/s]\n",
            "Epoch 147\n"
          ]
        },
        {
          "output_type": "stream",
          "name": "stdout",
          "text": [
            "107.191\n"
          ]
        },
        {
          "output_type": "stream",
          "name": "stderr",
          "text": [
            "Train: 100%|██████████| 813/813 [00:28<00:00, 28.17it/s]\n",
            "Eval : 100%|██████████| 63/63 [00:01<00:00, 36.25it/s]\n",
            "Epoch 148\n"
          ]
        },
        {
          "output_type": "stream",
          "name": "stdout",
          "text": [
            "107.191\n"
          ]
        },
        {
          "output_type": "stream",
          "name": "stderr",
          "text": [
            "Train: 100%|██████████| 813/813 [00:23<00:00, 34.48it/s]\n",
            "Eval : 100%|██████████| 63/63 [00:01<00:00, 36.50it/s]\n",
            "Epoch 149\n"
          ]
        },
        {
          "output_type": "stream",
          "name": "stdout",
          "text": [
            "109.436\n"
          ]
        },
        {
          "output_type": "stream",
          "name": "stderr",
          "text": [
            "Train: 100%|██████████| 813/813 [00:29<00:00, 27.73it/s]\n",
            "Eval : 100%|██████████| 63/63 [00:01<00:00, 35.93it/s]\n",
            "Epoch 150\n"
          ]
        },
        {
          "output_type": "stream",
          "name": "stdout",
          "text": [
            "109.436\n"
          ]
        },
        {
          "output_type": "stream",
          "name": "stderr",
          "text": [
            "Train: 100%|██████████| 813/813 [00:23<00:00, 34.70it/s]\n",
            "Eval : 100%|██████████| 63/63 [00:01<00:00, 35.37it/s]\n",
            "Epoch 151\n"
          ]
        },
        {
          "output_type": "stream",
          "name": "stdout",
          "text": [
            "107.732\n"
          ]
        },
        {
          "output_type": "stream",
          "name": "stderr",
          "text": [
            "Train: 100%|██████████| 813/813 [00:28<00:00, 28.17it/s]\n",
            "Eval : 100%|██████████| 63/63 [00:01<00:00, 35.79it/s]\n",
            "Epoch 152\n"
          ]
        },
        {
          "output_type": "stream",
          "name": "stdout",
          "text": [
            "107.732\n"
          ]
        },
        {
          "output_type": "stream",
          "name": "stderr",
          "text": [
            "Train: 100%|██████████| 813/813 [00:23<00:00, 34.82it/s]\n",
            "Eval : 100%|██████████| 63/63 [00:01<00:00, 35.44it/s]\n",
            "Epoch 153\n"
          ]
        },
        {
          "output_type": "stream",
          "name": "stdout",
          "text": [
            "108.615\n"
          ]
        },
        {
          "output_type": "stream",
          "name": "stderr",
          "text": [
            "Train: 100%|██████████| 813/813 [00:29<00:00, 27.77it/s]\n",
            "Eval : 100%|██████████| 63/63 [00:01<00:00, 35.71it/s]\n",
            "Epoch 154\n"
          ]
        },
        {
          "output_type": "stream",
          "name": "stdout",
          "text": [
            "108.615\n"
          ]
        },
        {
          "output_type": "stream",
          "name": "stderr",
          "text": [
            "Train: 100%|██████████| 813/813 [00:23<00:00, 34.98it/s]\n",
            "Eval : 100%|██████████| 63/63 [00:01<00:00, 36.16it/s]\n",
            "Epoch 155\n"
          ]
        },
        {
          "output_type": "stream",
          "name": "stdout",
          "text": [
            "107.916\n"
          ]
        },
        {
          "output_type": "stream",
          "name": "stderr",
          "text": [
            "Train: 100%|██████████| 813/813 [00:29<00:00, 27.97it/s]\n",
            "Eval : 100%|██████████| 63/63 [00:01<00:00, 35.52it/s]\n",
            "Epoch 156\n"
          ]
        },
        {
          "output_type": "stream",
          "name": "stdout",
          "text": [
            "107.916\n"
          ]
        },
        {
          "output_type": "stream",
          "name": "stderr",
          "text": [
            "Train: 100%|██████████| 813/813 [00:23<00:00, 34.58it/s]\n",
            "Eval : 100%|██████████| 63/63 [00:01<00:00, 35.91it/s]\n",
            "Epoch 157\n"
          ]
        },
        {
          "output_type": "stream",
          "name": "stdout",
          "text": [
            "109.418\n"
          ]
        },
        {
          "output_type": "stream",
          "name": "stderr",
          "text": [
            "Train: 100%|██████████| 813/813 [00:29<00:00, 27.50it/s]\n",
            "Eval : 100%|██████████| 63/63 [00:01<00:00, 35.67it/s]\n",
            "Epoch 158\n"
          ]
        },
        {
          "output_type": "stream",
          "name": "stdout",
          "text": [
            "109.418\n"
          ]
        },
        {
          "output_type": "stream",
          "name": "stderr",
          "text": [
            "Train: 100%|██████████| 813/813 [00:23<00:00, 35.29it/s]\n",
            "Eval : 100%|██████████| 63/63 [00:01<00:00, 35.21it/s]\n",
            "Epoch 159\n"
          ]
        },
        {
          "output_type": "stream",
          "name": "stdout",
          "text": [
            "107.708\n"
          ]
        },
        {
          "output_type": "stream",
          "name": "stderr",
          "text": [
            "Train: 100%|██████████| 813/813 [00:28<00:00, 28.08it/s]\n",
            "Eval : 100%|██████████| 63/63 [00:01<00:00, 36.25it/s]\n",
            "Epoch 160\n"
          ]
        },
        {
          "output_type": "stream",
          "name": "stdout",
          "text": [
            "107.708\n"
          ]
        },
        {
          "output_type": "stream",
          "name": "stderr",
          "text": [
            "Train: 100%|██████████| 813/813 [00:23<00:00, 35.01it/s]\n",
            "Eval : 100%|██████████| 63/63 [00:01<00:00, 35.66it/s]\n",
            "Epoch 161\n"
          ]
        },
        {
          "output_type": "stream",
          "name": "stdout",
          "text": [
            "108.868\n"
          ]
        },
        {
          "output_type": "stream",
          "name": "stderr",
          "text": [
            "Train: 100%|██████████| 813/813 [00:29<00:00, 27.93it/s]\n",
            "Eval : 100%|██████████| 63/63 [00:01<00:00, 35.97it/s]\n",
            "Epoch 162\n"
          ]
        },
        {
          "output_type": "stream",
          "name": "stdout",
          "text": [
            "108.868\n"
          ]
        },
        {
          "output_type": "stream",
          "name": "stderr",
          "text": [
            "Train: 100%|██████████| 813/813 [00:22<00:00, 35.63it/s]\n",
            "Eval : 100%|██████████| 63/63 [00:01<00:00, 35.99it/s]\n",
            "Epoch 163\n"
          ]
        },
        {
          "output_type": "stream",
          "name": "stdout",
          "text": [
            "107.294\n"
          ]
        },
        {
          "output_type": "stream",
          "name": "stderr",
          "text": [
            "Train: 100%|██████████| 813/813 [00:28<00:00, 28.35it/s]\n",
            "Eval : 100%|██████████| 63/63 [00:01<00:00, 36.54it/s]\n",
            "Epoch 164\n"
          ]
        },
        {
          "output_type": "stream",
          "name": "stdout",
          "text": [
            "107.294\n"
          ]
        },
        {
          "output_type": "stream",
          "name": "stderr",
          "text": [
            "Train: 100%|██████████| 813/813 [00:23<00:00, 35.28it/s]\n",
            "Eval : 100%|██████████| 63/63 [00:01<00:00, 36.06it/s]\n",
            "Epoch 165\n"
          ]
        },
        {
          "output_type": "stream",
          "name": "stdout",
          "text": [
            "109.624\n"
          ]
        },
        {
          "output_type": "stream",
          "name": "stderr",
          "text": [
            "Train: 100%|██████████| 813/813 [00:29<00:00, 27.98it/s]\n",
            "Eval : 100%|██████████| 63/63 [00:01<00:00, 35.89it/s]\n",
            "Epoch 166\n"
          ]
        },
        {
          "output_type": "stream",
          "name": "stdout",
          "text": [
            "109.624\n"
          ]
        },
        {
          "output_type": "stream",
          "name": "stderr",
          "text": [
            "Train: 100%|██████████| 813/813 [00:22<00:00, 35.98it/s]\n",
            "Eval : 100%|██████████| 63/63 [00:01<00:00, 36.94it/s]\n",
            "Epoch 167\n"
          ]
        },
        {
          "output_type": "stream",
          "name": "stdout",
          "text": [
            "108.031\n"
          ]
        },
        {
          "output_type": "stream",
          "name": "stderr",
          "text": [
            "Train: 100%|██████████| 813/813 [00:28<00:00, 28.70it/s]\n",
            "Eval : 100%|██████████| 63/63 [00:01<00:00, 36.98it/s]\n",
            "Epoch 168\n"
          ]
        },
        {
          "output_type": "stream",
          "name": "stdout",
          "text": [
            "108.031\n"
          ]
        },
        {
          "output_type": "stream",
          "name": "stderr",
          "text": [
            "Train: 100%|██████████| 813/813 [00:22<00:00, 35.46it/s]\n",
            "Eval : 100%|██████████| 63/63 [00:01<00:00, 36.44it/s]\n",
            "Epoch 169\n"
          ]
        },
        {
          "output_type": "stream",
          "name": "stdout",
          "text": [
            "108.206\n"
          ]
        },
        {
          "output_type": "stream",
          "name": "stderr",
          "text": [
            "Train: 100%|██████████| 813/813 [00:28<00:00, 28.30it/s]\n",
            "Eval : 100%|██████████| 63/63 [00:01<00:00, 36.66it/s]\n",
            "Epoch 170\n"
          ]
        },
        {
          "output_type": "stream",
          "name": "stdout",
          "text": [
            "108.206\n"
          ]
        },
        {
          "output_type": "stream",
          "name": "stderr",
          "text": [
            "Train: 100%|██████████| 813/813 [00:22<00:00, 35.57it/s]\n",
            "Eval : 100%|██████████| 63/63 [00:01<00:00, 35.56it/s]\n",
            "Epoch 171\n"
          ]
        },
        {
          "output_type": "stream",
          "name": "stdout",
          "text": [
            "107.494\n"
          ]
        },
        {
          "output_type": "stream",
          "name": "stderr",
          "text": [
            "Train: 100%|██████████| 813/813 [00:28<00:00, 28.33it/s]\n",
            "Eval : 100%|██████████| 63/63 [00:01<00:00, 35.86it/s]\n",
            "Epoch 172\n"
          ]
        },
        {
          "output_type": "stream",
          "name": "stdout",
          "text": [
            "107.494\n"
          ]
        },
        {
          "output_type": "stream",
          "name": "stderr",
          "text": [
            "Train: 100%|██████████| 813/813 [00:23<00:00, 35.21it/s]\n",
            "Eval : 100%|██████████| 63/63 [00:01<00:00, 36.51it/s]\n",
            "Epoch 173\n"
          ]
        },
        {
          "output_type": "stream",
          "name": "stdout",
          "text": [
            "110.179\n"
          ]
        },
        {
          "output_type": "stream",
          "name": "stderr",
          "text": [
            "Train: 100%|██████████| 813/813 [00:29<00:00, 27.86it/s]\n",
            "Eval : 100%|██████████| 63/63 [00:01<00:00, 35.10it/s]\n",
            "Epoch 174\n"
          ]
        },
        {
          "output_type": "stream",
          "name": "stdout",
          "text": [
            "110.179\n"
          ]
        },
        {
          "output_type": "stream",
          "name": "stderr",
          "text": [
            "Train: 100%|██████████| 813/813 [00:23<00:00, 35.24it/s]\n",
            "Eval : 100%|██████████| 63/63 [00:01<00:00, 36.63it/s]\n",
            "Epoch 175\n"
          ]
        },
        {
          "output_type": "stream",
          "name": "stdout",
          "text": [
            "107.981\n"
          ]
        },
        {
          "output_type": "stream",
          "name": "stderr",
          "text": [
            "Train: 100%|██████████| 813/813 [00:28<00:00, 28.60it/s]\n",
            "Eval : 100%|██████████| 63/63 [00:01<00:00, 36.72it/s]\n",
            "Epoch 176\n"
          ]
        },
        {
          "output_type": "stream",
          "name": "stdout",
          "text": [
            "107.981\n"
          ]
        },
        {
          "output_type": "stream",
          "name": "stderr",
          "text": [
            "Train: 100%|██████████| 813/813 [00:23<00:00, 35.34it/s]\n",
            "Eval : 100%|██████████| 63/63 [00:01<00:00, 36.19it/s]\n",
            "Epoch 177\n"
          ]
        },
        {
          "output_type": "stream",
          "name": "stdout",
          "text": [
            "109.541\n"
          ]
        },
        {
          "output_type": "stream",
          "name": "stderr",
          "text": [
            "Train: 100%|██████████| 813/813 [00:29<00:00, 27.95it/s]\n",
            "Eval : 100%|██████████| 63/63 [00:01<00:00, 36.62it/s]\n",
            "Epoch 178\n"
          ]
        },
        {
          "output_type": "stream",
          "name": "stdout",
          "text": [
            "109.541\n"
          ]
        },
        {
          "output_type": "stream",
          "name": "stderr",
          "text": [
            "Train: 100%|██████████| 813/813 [00:22<00:00, 35.49it/s]\n",
            "Eval : 100%|██████████| 63/63 [00:01<00:00, 36.79it/s]\n",
            "Epoch 179\n"
          ]
        },
        {
          "output_type": "stream",
          "name": "stdout",
          "text": [
            "107.834\n"
          ]
        },
        {
          "output_type": "stream",
          "name": "stderr",
          "text": [
            "Train: 100%|██████████| 813/813 [00:28<00:00, 28.40it/s]\n",
            "Eval : 100%|██████████| 63/63 [00:01<00:00, 35.70it/s]\n",
            "Epoch 180\n"
          ]
        },
        {
          "output_type": "stream",
          "name": "stdout",
          "text": [
            "107.834\n"
          ]
        },
        {
          "output_type": "stream",
          "name": "stderr",
          "text": [
            "Train: 100%|██████████| 813/813 [00:22<00:00, 35.46it/s]\n",
            "Eval : 100%|██████████| 63/63 [00:01<00:00, 36.55it/s]\n",
            "Epoch 181\n"
          ]
        },
        {
          "output_type": "stream",
          "name": "stdout",
          "text": [
            "108.084\n"
          ]
        },
        {
          "output_type": "stream",
          "name": "stderr",
          "text": [
            "Train: 100%|██████████| 813/813 [00:28<00:00, 28.27it/s]\n",
            "Eval : 100%|██████████| 63/63 [00:01<00:00, 36.42it/s]\n",
            "Epoch 182\n"
          ]
        },
        {
          "output_type": "stream",
          "name": "stdout",
          "text": [
            "108.084\n"
          ]
        },
        {
          "output_type": "stream",
          "name": "stderr",
          "text": [
            "Train: 100%|██████████| 813/813 [00:22<00:00, 35.76it/s]\n",
            "Eval : 100%|██████████| 63/63 [00:01<00:00, 36.06it/s]\n",
            "Epoch 183\n"
          ]
        },
        {
          "output_type": "stream",
          "name": "stdout",
          "text": [
            "108.0\n"
          ]
        },
        {
          "output_type": "stream",
          "name": "stderr",
          "text": [
            "Train: 100%|██████████| 813/813 [00:28<00:00, 28.43it/s]\n",
            "Eval : 100%|██████████| 63/63 [00:01<00:00, 36.94it/s]\n",
            "Epoch 184\n"
          ]
        },
        {
          "output_type": "stream",
          "name": "stdout",
          "text": [
            "108.0\n"
          ]
        },
        {
          "output_type": "stream",
          "name": "stderr",
          "text": [
            "Train: 100%|██████████| 813/813 [00:22<00:00, 35.48it/s]\n",
            "Eval : 100%|██████████| 63/63 [00:01<00:00, 34.70it/s]\n",
            "Epoch 185\n"
          ]
        },
        {
          "output_type": "stream",
          "name": "stdout",
          "text": [
            "109.552\n"
          ]
        },
        {
          "output_type": "stream",
          "name": "stderr",
          "text": [
            "Train: 100%|██████████| 813/813 [00:29<00:00, 27.95it/s]\n",
            "Eval : 100%|██████████| 63/63 [00:01<00:00, 36.28it/s]\n",
            "Epoch 186\n"
          ]
        },
        {
          "output_type": "stream",
          "name": "stdout",
          "text": [
            "109.552\n"
          ]
        },
        {
          "output_type": "stream",
          "name": "stderr",
          "text": [
            "Train: 100%|██████████| 813/813 [00:22<00:00, 35.75it/s]\n",
            "Eval : 100%|██████████| 63/63 [00:01<00:00, 36.58it/s]\n",
            "Epoch 187\n"
          ]
        },
        {
          "output_type": "stream",
          "name": "stdout",
          "text": [
            "108.613\n"
          ]
        },
        {
          "output_type": "stream",
          "name": "stderr",
          "text": [
            "Train: 100%|██████████| 813/813 [00:28<00:00, 28.49it/s]\n",
            "Eval : 100%|██████████| 63/63 [00:01<00:00, 35.90it/s]\n",
            "Epoch 188\n"
          ]
        },
        {
          "output_type": "stream",
          "name": "stdout",
          "text": [
            "108.613\n"
          ]
        },
        {
          "output_type": "stream",
          "name": "stderr",
          "text": [
            "Train: 100%|██████████| 813/813 [00:23<00:00, 35.33it/s]\n",
            "Eval : 100%|██████████| 63/63 [00:01<00:00, 36.69it/s]\n",
            "Epoch 189\n"
          ]
        },
        {
          "output_type": "stream",
          "name": "stdout",
          "text": [
            "109.249\n"
          ]
        },
        {
          "output_type": "stream",
          "name": "stderr",
          "text": [
            "Train: 100%|██████████| 813/813 [00:28<00:00, 28.08it/s]\n",
            "Eval : 100%|██████████| 63/63 [00:01<00:00, 36.73it/s]\n",
            "Epoch 190\n"
          ]
        },
        {
          "output_type": "stream",
          "name": "stdout",
          "text": [
            "109.249\n"
          ]
        },
        {
          "output_type": "stream",
          "name": "stderr",
          "text": [
            "Train: 100%|██████████| 813/813 [00:22<00:00, 35.55it/s]\n",
            "Eval : 100%|██████████| 63/63 [00:01<00:00, 35.56it/s]\n",
            "Epoch 191\n"
          ]
        },
        {
          "output_type": "stream",
          "name": "stdout",
          "text": [
            "107.859\n"
          ]
        },
        {
          "output_type": "stream",
          "name": "stderr",
          "text": [
            "Train: 100%|██████████| 813/813 [00:28<00:00, 28.53it/s]\n",
            "Eval : 100%|██████████| 63/63 [00:01<00:00, 35.43it/s]\n",
            "Epoch 192\n"
          ]
        },
        {
          "output_type": "stream",
          "name": "stdout",
          "text": [
            "107.859\n"
          ]
        },
        {
          "output_type": "stream",
          "name": "stderr",
          "text": [
            "Train: 100%|██████████| 813/813 [00:22<00:00, 35.40it/s]\n",
            "Eval : 100%|██████████| 63/63 [00:01<00:00, 36.73it/s]\n",
            "Epoch 193\n"
          ]
        },
        {
          "output_type": "stream",
          "name": "stdout",
          "text": [
            "109.698\n"
          ]
        },
        {
          "output_type": "stream",
          "name": "stderr",
          "text": [
            "Train: 100%|██████████| 813/813 [00:29<00:00, 28.01it/s]\n",
            "Eval : 100%|██████████| 63/63 [00:01<00:00, 36.19it/s]\n",
            "Epoch 194\n"
          ]
        },
        {
          "output_type": "stream",
          "name": "stdout",
          "text": [
            "109.698\n"
          ]
        },
        {
          "output_type": "stream",
          "name": "stderr",
          "text": [
            "Train: 100%|██████████| 813/813 [00:22<00:00, 35.54it/s]\n",
            "Eval : 100%|██████████| 63/63 [00:01<00:00, 36.95it/s]\n",
            "Epoch 195\n"
          ]
        },
        {
          "output_type": "stream",
          "name": "stdout",
          "text": [
            "108.519\n"
          ]
        },
        {
          "output_type": "stream",
          "name": "stderr",
          "text": [
            "Train: 100%|██████████| 813/813 [00:28<00:00, 28.45it/s]\n",
            "Eval : 100%|██████████| 63/63 [00:01<00:00, 36.10it/s]\n",
            "Epoch 196\n"
          ]
        },
        {
          "output_type": "stream",
          "name": "stdout",
          "text": [
            "108.519\n"
          ]
        },
        {
          "output_type": "stream",
          "name": "stderr",
          "text": [
            "Train: 100%|██████████| 813/813 [00:23<00:00, 35.31it/s]\n",
            "Eval : 100%|██████████| 63/63 [00:01<00:00, 36.34it/s]\n",
            "Epoch 197\n"
          ]
        },
        {
          "output_type": "stream",
          "name": "stdout",
          "text": [
            "108.526\n"
          ]
        },
        {
          "output_type": "stream",
          "name": "stderr",
          "text": [
            "Train: 100%|██████████| 813/813 [00:29<00:00, 28.02it/s]\n",
            "Eval : 100%|██████████| 63/63 [00:01<00:00, 36.12it/s]\n",
            "Epoch 198\n"
          ]
        },
        {
          "output_type": "stream",
          "name": "stdout",
          "text": [
            "108.526\n"
          ]
        },
        {
          "output_type": "stream",
          "name": "stderr",
          "text": [
            "Train: 100%|██████████| 813/813 [00:22<00:00, 35.73it/s]\n",
            "Eval : 100%|██████████| 63/63 [00:01<00:00, 35.53it/s]\n",
            "Epoch 199\n"
          ]
        },
        {
          "output_type": "stream",
          "name": "stdout",
          "text": [
            "107.967\n"
          ]
        },
        {
          "output_type": "stream",
          "name": "stderr",
          "text": [
            "Train: 100%|██████████| 813/813 [00:28<00:00, 28.46it/s]\n",
            "Eval : 100%|██████████| 63/63 [00:01<00:00, 36.68it/s]\n",
            "Epoch 200\n"
          ]
        },
        {
          "output_type": "stream",
          "name": "stdout",
          "text": [
            "107.967\n"
          ]
        },
        {
          "output_type": "stream",
          "name": "stderr",
          "text": [
            "Train: 100%|██████████| 813/813 [00:22<00:00, 35.48it/s]\n",
            "Eval : 100%|██████████| 63/63 [00:01<00:00, 36.58it/s]\n",
            "Epoch 201\n"
          ]
        },
        {
          "output_type": "stream",
          "name": "stdout",
          "text": [
            "108.54\n"
          ]
        },
        {
          "output_type": "stream",
          "name": "stderr",
          "text": [
            "Train: 100%|██████████| 813/813 [00:28<00:00, 28.40it/s]\n",
            "Eval : 100%|██████████| 63/63 [00:01<00:00, 36.84it/s]\n",
            "Epoch 202\n"
          ]
        },
        {
          "output_type": "stream",
          "name": "stdout",
          "text": [
            "108.54\n"
          ]
        },
        {
          "output_type": "stream",
          "name": "stderr",
          "text": [
            "Train: 100%|██████████| 813/813 [00:22<00:00, 35.38it/s]\n",
            "Eval : 100%|██████████| 63/63 [00:01<00:00, 36.17it/s]\n",
            "Epoch 203\n"
          ]
        },
        {
          "output_type": "stream",
          "name": "stdout",
          "text": [
            "108.019\n"
          ]
        },
        {
          "output_type": "stream",
          "name": "stderr",
          "text": [
            "Train: 100%|██████████| 813/813 [00:28<00:00, 28.32it/s]\n",
            "Eval : 100%|██████████| 63/63 [00:01<00:00, 36.16it/s]\n",
            "Epoch 204\n"
          ]
        },
        {
          "output_type": "stream",
          "name": "stdout",
          "text": [
            "108.019\n"
          ]
        },
        {
          "output_type": "stream",
          "name": "stderr",
          "text": [
            "Train: 100%|██████████| 813/813 [00:22<00:00, 35.50it/s]\n",
            "Eval : 100%|██████████| 63/63 [00:01<00:00, 35.91it/s]\n",
            "Epoch 205\n"
          ]
        },
        {
          "output_type": "stream",
          "name": "stdout",
          "text": [
            "108.016\n"
          ]
        },
        {
          "output_type": "stream",
          "name": "stderr",
          "text": [
            "Train: 100%|██████████| 813/813 [00:28<00:00, 28.21it/s]\n",
            "Eval : 100%|██████████| 63/63 [00:01<00:00, 36.43it/s]\n",
            "Epoch 206\n"
          ]
        },
        {
          "output_type": "stream",
          "name": "stdout",
          "text": [
            "108.016\n"
          ]
        },
        {
          "output_type": "stream",
          "name": "stderr",
          "text": [
            "Train: 100%|██████████| 813/813 [00:23<00:00, 35.19it/s]\n",
            "Eval : 100%|██████████| 63/63 [00:01<00:00, 35.95it/s]\n",
            "Epoch 207\n"
          ]
        },
        {
          "output_type": "stream",
          "name": "stdout",
          "text": [
            "108.625\n"
          ]
        },
        {
          "output_type": "stream",
          "name": "stderr",
          "text": [
            "Train: 100%|██████████| 813/813 [00:28<00:00, 28.38it/s]\n",
            "Eval : 100%|██████████| 63/63 [00:01<00:00, 36.57it/s]\n",
            "Epoch 208\n"
          ]
        },
        {
          "output_type": "stream",
          "name": "stdout",
          "text": [
            "108.625\n"
          ]
        },
        {
          "output_type": "stream",
          "name": "stderr",
          "text": [
            "Train: 100%|██████████| 813/813 [00:22<00:00, 35.62it/s]\n",
            "Eval : 100%|██████████| 63/63 [00:01<00:00, 36.01it/s]\n",
            "Epoch 209\n"
          ]
        },
        {
          "output_type": "stream",
          "name": "stdout",
          "text": [
            "108.256\n"
          ]
        },
        {
          "output_type": "stream",
          "name": "stderr",
          "text": [
            "Train: 100%|██████████| 813/813 [00:28<00:00, 28.18it/s]\n",
            "Eval : 100%|██████████| 63/63 [00:01<00:00, 35.23it/s]\n",
            "Epoch 210\n"
          ]
        },
        {
          "output_type": "stream",
          "name": "stdout",
          "text": [
            "108.256\n"
          ]
        },
        {
          "output_type": "stream",
          "name": "stderr",
          "text": [
            "Train: 100%|██████████| 813/813 [00:22<00:00, 35.45it/s]\n",
            "Eval : 100%|██████████| 63/63 [00:01<00:00, 36.23it/s]\n",
            "Epoch 211\n"
          ]
        },
        {
          "output_type": "stream",
          "name": "stdout",
          "text": [
            "107.759\n"
          ]
        },
        {
          "output_type": "stream",
          "name": "stderr",
          "text": [
            "Train: 100%|██████████| 813/813 [00:28<00:00, 28.30it/s]\n",
            "Eval : 100%|██████████| 63/63 [00:01<00:00, 35.82it/s]\n",
            "Epoch 212\n"
          ]
        },
        {
          "output_type": "stream",
          "name": "stdout",
          "text": [
            "107.759\n"
          ]
        },
        {
          "output_type": "stream",
          "name": "stderr",
          "text": [
            "Train: 100%|██████████| 813/813 [00:22<00:00, 35.39it/s]\n",
            "Eval : 100%|██████████| 63/63 [00:01<00:00, 36.62it/s]\n",
            "Epoch 213\n"
          ]
        },
        {
          "output_type": "stream",
          "name": "stdout",
          "text": [
            "108.341\n"
          ]
        },
        {
          "output_type": "stream",
          "name": "stderr",
          "text": [
            "Train: 100%|██████████| 813/813 [00:28<00:00, 28.24it/s]\n",
            "Eval : 100%|██████████| 63/63 [00:01<00:00, 36.40it/s]\n",
            "Epoch 214\n"
          ]
        },
        {
          "output_type": "stream",
          "name": "stdout",
          "text": [
            "108.341\n"
          ]
        },
        {
          "output_type": "stream",
          "name": "stderr",
          "text": [
            "Train: 100%|██████████| 813/813 [00:23<00:00, 34.02it/s]\n",
            "Eval : 100%|██████████| 63/63 [00:01<00:00, 35.91it/s]\n",
            "Epoch 215\n"
          ]
        },
        {
          "output_type": "stream",
          "name": "stdout",
          "text": [
            "108.289\n"
          ]
        },
        {
          "output_type": "stream",
          "name": "stderr",
          "text": [
            "Train: 100%|██████████| 813/813 [00:29<00:00, 27.40it/s]\n",
            "Eval : 100%|██████████| 63/63 [00:01<00:00, 36.42it/s]\n",
            "Epoch 216\n"
          ]
        },
        {
          "output_type": "stream",
          "name": "stdout",
          "text": [
            "108.289\n"
          ]
        },
        {
          "output_type": "stream",
          "name": "stderr",
          "text": [
            "Train: 100%|██████████| 813/813 [00:22<00:00, 35.39it/s]\n",
            "Eval : 100%|██████████| 63/63 [00:01<00:00, 36.20it/s]\n",
            "Epoch 217\n"
          ]
        },
        {
          "output_type": "stream",
          "name": "stdout",
          "text": [
            "108.1\n"
          ]
        },
        {
          "output_type": "stream",
          "name": "stderr",
          "text": [
            "Train: 100%|██████████| 813/813 [00:28<00:00, 28.15it/s]\n",
            "Eval : 100%|██████████| 63/63 [00:01<00:00, 35.18it/s]\n",
            "Epoch 218\n"
          ]
        },
        {
          "output_type": "stream",
          "name": "stdout",
          "text": [
            "108.1\n"
          ]
        },
        {
          "output_type": "stream",
          "name": "stderr",
          "text": [
            "Train: 100%|██████████| 813/813 [00:23<00:00, 35.04it/s]\n",
            "Eval : 100%|██████████| 63/63 [00:01<00:00, 36.22it/s]\n",
            "Epoch 219\n"
          ]
        },
        {
          "output_type": "stream",
          "name": "stdout",
          "text": [
            "107.571\n"
          ]
        },
        {
          "output_type": "stream",
          "name": "stderr",
          "text": [
            "Train: 100%|██████████| 813/813 [00:28<00:00, 28.24it/s]\n",
            "Eval : 100%|██████████| 63/63 [00:01<00:00, 36.16it/s]\n",
            "Epoch 220\n"
          ]
        },
        {
          "output_type": "stream",
          "name": "stdout",
          "text": [
            "107.571\n"
          ]
        },
        {
          "output_type": "stream",
          "name": "stderr",
          "text": [
            "Train: 100%|██████████| 813/813 [00:22<00:00, 35.39it/s]\n",
            "Eval : 100%|██████████| 63/63 [00:01<00:00, 34.39it/s]\n",
            "Epoch 221\n"
          ]
        },
        {
          "output_type": "stream",
          "name": "stdout",
          "text": [
            "108.465\n"
          ]
        },
        {
          "output_type": "stream",
          "name": "stderr",
          "text": [
            "Train: 100%|██████████| 813/813 [00:28<00:00, 28.16it/s]\n",
            "Eval : 100%|██████████| 63/63 [00:01<00:00, 36.31it/s]\n",
            "Epoch 222\n"
          ]
        },
        {
          "output_type": "stream",
          "name": "stdout",
          "text": [
            "108.465\n"
          ]
        },
        {
          "output_type": "stream",
          "name": "stderr",
          "text": [
            "Train: 100%|██████████| 813/813 [00:22<00:00, 35.69it/s]\n",
            "Eval : 100%|██████████| 63/63 [00:01<00:00, 35.85it/s]\n",
            "Epoch 223\n"
          ]
        },
        {
          "output_type": "stream",
          "name": "stdout",
          "text": [
            "107.808\n"
          ]
        },
        {
          "output_type": "stream",
          "name": "stderr",
          "text": [
            "Train: 100%|██████████| 813/813 [00:29<00:00, 28.01it/s]\n",
            "Eval : 100%|██████████| 63/63 [00:01<00:00, 35.94it/s]\n",
            "Epoch 224\n"
          ]
        },
        {
          "output_type": "stream",
          "name": "stdout",
          "text": [
            "107.808\n"
          ]
        },
        {
          "output_type": "stream",
          "name": "stderr",
          "text": [
            "Train: 100%|██████████| 813/813 [00:23<00:00, 34.99it/s]\n",
            "Eval : 100%|██████████| 63/63 [00:01<00:00, 35.86it/s]\n",
            "Epoch 225\n"
          ]
        },
        {
          "output_type": "stream",
          "name": "stdout",
          "text": [
            "108.057\n"
          ]
        },
        {
          "output_type": "stream",
          "name": "stderr",
          "text": [
            "Train: 100%|██████████| 813/813 [00:28<00:00, 28.06it/s]\n",
            "Eval : 100%|██████████| 63/63 [00:01<00:00, 36.33it/s]\n",
            "Epoch 226\n"
          ]
        },
        {
          "output_type": "stream",
          "name": "stdout",
          "text": [
            "108.057\n"
          ]
        },
        {
          "output_type": "stream",
          "name": "stderr",
          "text": [
            "Train: 100%|██████████| 813/813 [00:23<00:00, 35.20it/s]\n",
            "Eval : 100%|██████████| 63/63 [00:01<00:00, 35.61it/s]\n",
            "Epoch 227\n"
          ]
        },
        {
          "output_type": "stream",
          "name": "stdout",
          "text": [
            "107.358\n"
          ]
        },
        {
          "output_type": "stream",
          "name": "stderr",
          "text": [
            "Train: 100%|██████████| 813/813 [00:29<00:00, 27.86it/s]\n",
            "Eval : 100%|██████████| 63/63 [00:01<00:00, 36.46it/s]\n",
            "Epoch 228\n"
          ]
        },
        {
          "output_type": "stream",
          "name": "stdout",
          "text": [
            "107.358\n"
          ]
        },
        {
          "output_type": "stream",
          "name": "stderr",
          "text": [
            "Train: 100%|██████████| 813/813 [00:23<00:00, 34.31it/s]\n",
            "Eval : 100%|██████████| 63/63 [00:01<00:00, 35.57it/s]\n",
            "Epoch 229\n"
          ]
        },
        {
          "output_type": "stream",
          "name": "stdout",
          "text": [
            "108.155\n"
          ]
        },
        {
          "output_type": "stream",
          "name": "stderr",
          "text": [
            "Train: 100%|██████████| 813/813 [00:29<00:00, 27.52it/s]\n",
            "Eval : 100%|██████████| 63/63 [00:01<00:00, 36.64it/s]\n",
            "Epoch 230\n"
          ]
        },
        {
          "output_type": "stream",
          "name": "stdout",
          "text": [
            "108.155\n"
          ]
        },
        {
          "output_type": "stream",
          "name": "stderr",
          "text": [
            "Train: 100%|██████████| 813/813 [00:23<00:00, 34.64it/s]\n",
            "Eval : 100%|██████████| 63/63 [00:01<00:00, 36.51it/s]\n",
            "Epoch 231\n"
          ]
        },
        {
          "output_type": "stream",
          "name": "stdout",
          "text": [
            "107.278\n"
          ]
        },
        {
          "output_type": "stream",
          "name": "stderr",
          "text": [
            "Train: 100%|██████████| 813/813 [00:29<00:00, 27.57it/s]\n",
            "Eval : 100%|██████████| 63/63 [00:01<00:00, 36.62it/s]\n",
            "Epoch 232\n"
          ]
        },
        {
          "output_type": "stream",
          "name": "stdout",
          "text": [
            "107.278\n"
          ]
        },
        {
          "output_type": "stream",
          "name": "stderr",
          "text": [
            "Train: 100%|██████████| 813/813 [00:23<00:00, 34.82it/s]\n",
            "Eval : 100%|██████████| 63/63 [00:01<00:00, 35.66it/s]\n",
            "Epoch 233\n"
          ]
        },
        {
          "output_type": "stream",
          "name": "stdout",
          "text": [
            "108.392\n"
          ]
        },
        {
          "output_type": "stream",
          "name": "stderr",
          "text": [
            "Train: 100%|██████████| 813/813 [00:29<00:00, 27.57it/s]\n",
            "Eval : 100%|██████████| 63/63 [00:01<00:00, 34.60it/s]\n",
            "Epoch 234\n"
          ]
        },
        {
          "output_type": "stream",
          "name": "stdout",
          "text": [
            "108.392\n"
          ]
        },
        {
          "output_type": "stream",
          "name": "stderr",
          "text": [
            "Train: 100%|██████████| 813/813 [00:23<00:00, 34.80it/s]\n",
            "Eval : 100%|██████████| 63/63 [00:01<00:00, 36.08it/s]\n",
            "Epoch 235\n"
          ]
        },
        {
          "output_type": "stream",
          "name": "stdout",
          "text": [
            "108.411\n"
          ]
        },
        {
          "output_type": "stream",
          "name": "stderr",
          "text": [
            "Train: 100%|██████████| 813/813 [00:29<00:00, 27.70it/s]\n",
            "Eval : 100%|██████████| 63/63 [00:01<00:00, 34.40it/s]\n",
            "Epoch 236\n"
          ]
        },
        {
          "output_type": "stream",
          "name": "stdout",
          "text": [
            "108.411\n"
          ]
        },
        {
          "output_type": "stream",
          "name": "stderr",
          "text": [
            "Train: 100%|██████████| 813/813 [00:23<00:00, 34.11it/s]\n",
            "Eval : 100%|██████████| 63/63 [00:01<00:00, 35.10it/s]\n",
            "Epoch 237\n"
          ]
        },
        {
          "output_type": "stream",
          "name": "stdout",
          "text": [
            "108.557\n"
          ]
        },
        {
          "output_type": "stream",
          "name": "stderr",
          "text": [
            "Train: 100%|██████████| 813/813 [00:29<00:00, 27.22it/s]\n",
            "Eval : 100%|██████████| 63/63 [00:01<00:00, 35.00it/s]\n",
            "Epoch 238\n"
          ]
        },
        {
          "output_type": "stream",
          "name": "stdout",
          "text": [
            "108.557\n"
          ]
        },
        {
          "output_type": "stream",
          "name": "stderr",
          "text": [
            "Train: 100%|██████████| 813/813 [00:24<00:00, 33.65it/s]\n",
            "Eval : 100%|██████████| 63/63 [00:01<00:00, 34.50it/s]\n",
            "Epoch 239\n"
          ]
        },
        {
          "output_type": "stream",
          "name": "stdout",
          "text": [
            "107.609\n"
          ]
        },
        {
          "output_type": "stream",
          "name": "stderr",
          "text": [
            "Train: 100%|██████████| 813/813 [00:29<00:00, 27.79it/s]\n",
            "Eval : 100%|██████████| 63/63 [00:01<00:00, 35.48it/s]\n",
            "Epoch 240\n"
          ]
        },
        {
          "output_type": "stream",
          "name": "stdout",
          "text": [
            "107.609\n"
          ]
        },
        {
          "output_type": "stream",
          "name": "stderr",
          "text": [
            "Train: 100%|██████████| 813/813 [00:23<00:00, 34.67it/s]\n",
            "Eval : 100%|██████████| 63/63 [00:01<00:00, 32.25it/s]\n",
            "Epoch 241\n"
          ]
        },
        {
          "output_type": "stream",
          "name": "stdout",
          "text": [
            "108.343\n"
          ]
        },
        {
          "output_type": "stream",
          "name": "stderr",
          "text": [
            "Train: 100%|██████████| 813/813 [00:31<00:00, 26.20it/s]\n",
            "Eval : 100%|██████████| 63/63 [00:01<00:00, 32.82it/s]\n",
            "Epoch 242\n"
          ]
        },
        {
          "output_type": "stream",
          "name": "stdout",
          "text": [
            "108.343\n"
          ]
        },
        {
          "output_type": "stream",
          "name": "stderr",
          "text": [
            "Train: 100%|██████████| 813/813 [00:24<00:00, 33.66it/s]\n",
            "Eval : 100%|██████████| 63/63 [00:01<00:00, 35.34it/s]\n",
            "Epoch 243\n"
          ]
        },
        {
          "output_type": "stream",
          "name": "stdout",
          "text": [
            "108.074\n"
          ]
        },
        {
          "output_type": "stream",
          "name": "stderr",
          "text": [
            "Train: 100%|██████████| 813/813 [00:29<00:00, 27.88it/s]\n",
            "Eval : 100%|██████████| 63/63 [00:01<00:00, 36.17it/s]\n",
            "Epoch 244\n"
          ]
        },
        {
          "output_type": "stream",
          "name": "stdout",
          "text": [
            "108.074\n"
          ]
        },
        {
          "output_type": "stream",
          "name": "stderr",
          "text": [
            "Train: 100%|██████████| 813/813 [00:23<00:00, 34.72it/s]\n",
            "Eval : 100%|██████████| 63/63 [00:01<00:00, 36.11it/s]\n",
            "Epoch 245\n"
          ]
        },
        {
          "output_type": "stream",
          "name": "stdout",
          "text": [
            "108.517\n"
          ]
        },
        {
          "output_type": "stream",
          "name": "stderr",
          "text": [
            "Train: 100%|██████████| 813/813 [00:29<00:00, 27.68it/s]\n",
            "Eval : 100%|██████████| 63/63 [00:01<00:00, 34.73it/s]\n",
            "Epoch 246\n"
          ]
        },
        {
          "output_type": "stream",
          "name": "stdout",
          "text": [
            "108.517\n"
          ]
        },
        {
          "output_type": "stream",
          "name": "stderr",
          "text": [
            "Train: 100%|██████████| 813/813 [00:23<00:00, 34.52it/s]\n",
            "Eval : 100%|██████████| 63/63 [00:01<00:00, 35.55it/s]\n",
            "Epoch 247\n"
          ]
        },
        {
          "output_type": "stream",
          "name": "stdout",
          "text": [
            "108.042\n"
          ]
        },
        {
          "output_type": "stream",
          "name": "stderr",
          "text": [
            "Train: 100%|██████████| 813/813 [00:28<00:00, 28.13it/s]\n",
            "Eval : 100%|██████████| 63/63 [00:01<00:00, 35.01it/s]\n",
            "Epoch 248\n"
          ]
        },
        {
          "output_type": "stream",
          "name": "stdout",
          "text": [
            "108.042\n"
          ]
        },
        {
          "output_type": "stream",
          "name": "stderr",
          "text": [
            "Train: 100%|██████████| 813/813 [00:23<00:00, 34.70it/s]\n",
            "Eval : 100%|██████████| 63/63 [00:01<00:00, 35.22it/s]\n",
            "Epoch 249\n"
          ]
        },
        {
          "output_type": "stream",
          "name": "stdout",
          "text": [
            "109.067\n"
          ]
        },
        {
          "output_type": "stream",
          "name": "stderr",
          "text": [
            "Train: 100%|██████████| 813/813 [00:29<00:00, 27.68it/s]\n",
            "Eval : 100%|██████████| 63/63 [00:01<00:00, 36.08it/s]\n",
            "Epoch 250\n"
          ]
        },
        {
          "output_type": "stream",
          "name": "stdout",
          "text": [
            "109.067\n"
          ]
        },
        {
          "output_type": "stream",
          "name": "stderr",
          "text": [
            "Train: 100%|██████████| 813/813 [00:23<00:00, 35.17it/s]\n",
            "Eval : 100%|██████████| 63/63 [00:01<00:00, 34.52it/s]\n",
            "Epoch 251\n"
          ]
        },
        {
          "output_type": "stream",
          "name": "stdout",
          "text": [
            "107.603\n"
          ]
        },
        {
          "output_type": "stream",
          "name": "stderr",
          "text": [
            "Train: 100%|██████████| 813/813 [00:29<00:00, 27.80it/s]\n",
            "Eval : 100%|██████████| 63/63 [00:01<00:00, 36.57it/s]\n",
            "Epoch 252\n"
          ]
        },
        {
          "output_type": "stream",
          "name": "stdout",
          "text": [
            "107.603\n"
          ]
        },
        {
          "output_type": "stream",
          "name": "stderr",
          "text": [
            "Train: 100%|██████████| 813/813 [00:23<00:00, 34.98it/s]\n",
            "Eval : 100%|██████████| 63/63 [00:01<00:00, 36.19it/s]\n",
            "Epoch 253\n"
          ]
        },
        {
          "output_type": "stream",
          "name": "stdout",
          "text": [
            "108.541\n"
          ]
        },
        {
          "output_type": "stream",
          "name": "stderr",
          "text": [
            "Train: 100%|██████████| 813/813 [00:29<00:00, 27.61it/s]\n",
            "Eval : 100%|██████████| 63/63 [00:01<00:00, 36.46it/s]\n",
            "Epoch 254\n"
          ]
        },
        {
          "output_type": "stream",
          "name": "stdout",
          "text": [
            "108.541\n"
          ]
        },
        {
          "output_type": "stream",
          "name": "stderr",
          "text": [
            "Train: 100%|██████████| 813/813 [00:23<00:00, 35.15it/s]\n",
            "Eval : 100%|██████████| 63/63 [00:01<00:00, 36.69it/s]\n",
            "Epoch 255\n"
          ]
        },
        {
          "output_type": "stream",
          "name": "stdout",
          "text": [
            "106.763\n"
          ]
        },
        {
          "output_type": "stream",
          "name": "stderr",
          "text": [
            "Train: 100%|██████████| 813/813 [00:29<00:00, 27.55it/s]\n",
            "Eval : 100%|██████████| 63/63 [00:01<00:00, 35.14it/s]\n",
            "Epoch 256\n"
          ]
        },
        {
          "output_type": "stream",
          "name": "stdout",
          "text": [
            "106.763\n"
          ]
        },
        {
          "output_type": "stream",
          "name": "stderr",
          "text": [
            "Train: 100%|██████████| 813/813 [00:23<00:00, 34.90it/s]\n",
            "Eval : 100%|██████████| 63/63 [00:01<00:00, 35.37it/s]\n",
            "Epoch 257\n"
          ]
        },
        {
          "output_type": "stream",
          "name": "stdout",
          "text": [
            "110.434\n"
          ]
        },
        {
          "output_type": "stream",
          "name": "stderr",
          "text": [
            "Train: 100%|██████████| 813/813 [00:29<00:00, 27.48it/s]\n",
            "Eval : 100%|██████████| 63/63 [00:01<00:00, 35.86it/s]\n",
            "Epoch 258\n"
          ]
        },
        {
          "output_type": "stream",
          "name": "stdout",
          "text": [
            "110.434\n"
          ]
        },
        {
          "output_type": "stream",
          "name": "stderr",
          "text": [
            "Train: 100%|██████████| 813/813 [00:23<00:00, 34.83it/s]\n",
            "Eval : 100%|██████████| 63/63 [00:01<00:00, 34.88it/s]\n",
            "Epoch 259\n"
          ]
        },
        {
          "output_type": "stream",
          "name": "stdout",
          "text": [
            "107.383\n"
          ]
        },
        {
          "output_type": "stream",
          "name": "stderr",
          "text": [
            "Train: 100%|██████████| 813/813 [00:29<00:00, 27.65it/s]\n",
            "Eval : 100%|██████████| 63/63 [00:01<00:00, 35.17it/s]\n",
            "Epoch 260\n"
          ]
        },
        {
          "output_type": "stream",
          "name": "stdout",
          "text": [
            "107.383\n"
          ]
        },
        {
          "output_type": "stream",
          "name": "stderr",
          "text": [
            "Train: 100%|██████████| 813/813 [00:23<00:00, 34.99it/s]\n",
            "Eval : 100%|██████████| 63/63 [00:01<00:00, 35.49it/s]\n",
            "Epoch 261\n"
          ]
        },
        {
          "output_type": "stream",
          "name": "stdout",
          "text": [
            "110.198\n"
          ]
        },
        {
          "output_type": "stream",
          "name": "stderr",
          "text": [
            "Train: 100%|██████████| 813/813 [00:29<00:00, 27.46it/s]\n",
            "Eval : 100%|██████████| 63/63 [00:01<00:00, 36.16it/s]\n",
            "Epoch 262\n"
          ]
        },
        {
          "output_type": "stream",
          "name": "stdout",
          "text": [
            "110.198\n"
          ]
        },
        {
          "output_type": "stream",
          "name": "stderr",
          "text": [
            "Train: 100%|██████████| 813/813 [00:23<00:00, 34.95it/s]\n",
            "Eval : 100%|██████████| 63/63 [00:01<00:00, 35.24it/s]\n",
            "Epoch 263\n"
          ]
        },
        {
          "output_type": "stream",
          "name": "stdout",
          "text": [
            "107.603\n"
          ]
        },
        {
          "output_type": "stream",
          "name": "stderr",
          "text": [
            "Train: 100%|██████████| 813/813 [00:29<00:00, 27.82it/s]\n",
            "Eval : 100%|██████████| 63/63 [00:01<00:00, 35.77it/s]\n",
            "Epoch 264\n"
          ]
        },
        {
          "output_type": "stream",
          "name": "stdout",
          "text": [
            "107.603\n"
          ]
        },
        {
          "output_type": "stream",
          "name": "stderr",
          "text": [
            "Train: 100%|██████████| 813/813 [00:23<00:00, 34.53it/s]\n",
            "Eval : 100%|██████████| 63/63 [00:01<00:00, 36.16it/s]\n",
            "Epoch 265\n"
          ]
        },
        {
          "output_type": "stream",
          "name": "stdout",
          "text": [
            "109.875\n"
          ]
        },
        {
          "output_type": "stream",
          "name": "stderr",
          "text": [
            "Train: 100%|██████████| 813/813 [00:29<00:00, 27.58it/s]\n",
            "Eval : 100%|██████████| 63/63 [00:01<00:00, 34.65it/s]\n",
            "Epoch 266\n"
          ]
        },
        {
          "output_type": "stream",
          "name": "stdout",
          "text": [
            "109.875\n"
          ]
        },
        {
          "output_type": "stream",
          "name": "stderr",
          "text": [
            "Train: 100%|██████████| 813/813 [00:23<00:00, 34.81it/s]\n",
            "Eval : 100%|██████████| 63/63 [00:01<00:00, 36.05it/s]\n",
            "Epoch 267\n"
          ]
        },
        {
          "output_type": "stream",
          "name": "stdout",
          "text": [
            "107.969\n"
          ]
        },
        {
          "output_type": "stream",
          "name": "stderr",
          "text": [
            "Train: 100%|██████████| 813/813 [00:29<00:00, 27.93it/s]\n",
            "Eval : 100%|██████████| 63/63 [00:01<00:00, 34.71it/s]\n",
            "Epoch 268\n"
          ]
        },
        {
          "output_type": "stream",
          "name": "stdout",
          "text": [
            "107.969\n"
          ]
        },
        {
          "output_type": "stream",
          "name": "stderr",
          "text": [
            "Train: 100%|██████████| 813/813 [00:23<00:00, 34.50it/s]\n",
            "Eval : 100%|██████████| 63/63 [00:01<00:00, 35.19it/s]\n",
            "Epoch 269\n"
          ]
        },
        {
          "output_type": "stream",
          "name": "stdout",
          "text": [
            "108.612\n"
          ]
        },
        {
          "output_type": "stream",
          "name": "stderr",
          "text": [
            "Train: 100%|██████████| 813/813 [00:29<00:00, 27.75it/s]\n",
            "Eval : 100%|██████████| 63/63 [00:01<00:00, 35.90it/s]\n",
            "Epoch 270\n"
          ]
        },
        {
          "output_type": "stream",
          "name": "stdout",
          "text": [
            "108.612\n"
          ]
        },
        {
          "output_type": "stream",
          "name": "stderr",
          "text": [
            "Train: 100%|██████████| 813/813 [00:23<00:00, 34.24it/s]\n",
            "Eval : 100%|██████████| 63/63 [00:01<00:00, 34.32it/s]\n",
            "Epoch 271\n"
          ]
        },
        {
          "output_type": "stream",
          "name": "stdout",
          "text": [
            "107.696\n"
          ]
        },
        {
          "output_type": "stream",
          "name": "stderr",
          "text": [
            "Train: 100%|██████████| 813/813 [00:28<00:00, 28.09it/s]\n",
            "Eval : 100%|██████████| 63/63 [00:01<00:00, 35.90it/s]\n",
            "Epoch 272\n"
          ]
        },
        {
          "output_type": "stream",
          "name": "stdout",
          "text": [
            "107.696\n"
          ]
        },
        {
          "output_type": "stream",
          "name": "stderr",
          "text": [
            "Train: 100%|██████████| 813/813 [00:23<00:00, 34.57it/s]\n",
            "Eval : 100%|██████████| 63/63 [00:01<00:00, 35.57it/s]\n",
            "Epoch 273\n"
          ]
        },
        {
          "output_type": "stream",
          "name": "stdout",
          "text": [
            "107.998\n"
          ]
        },
        {
          "output_type": "stream",
          "name": "stderr",
          "text": [
            "Train: 100%|██████████| 813/813 [00:29<00:00, 27.50it/s]\n",
            "Eval : 100%|██████████| 63/63 [00:01<00:00, 36.18it/s]\n",
            "Epoch 274\n"
          ]
        },
        {
          "output_type": "stream",
          "name": "stdout",
          "text": [
            "107.998\n"
          ]
        },
        {
          "output_type": "stream",
          "name": "stderr",
          "text": [
            "Train: 100%|██████████| 813/813 [00:23<00:00, 34.84it/s]\n",
            "Eval : 100%|██████████| 63/63 [00:01<00:00, 35.12it/s]\n",
            "Epoch 275\n"
          ]
        },
        {
          "output_type": "stream",
          "name": "stdout",
          "text": [
            "108.341\n"
          ]
        },
        {
          "output_type": "stream",
          "name": "stderr",
          "text": [
            "Train: 100%|██████████| 813/813 [00:28<00:00, 28.20it/s]\n",
            "Eval : 100%|██████████| 63/63 [00:01<00:00, 36.11it/s]\n",
            "Epoch 276\n"
          ]
        },
        {
          "output_type": "stream",
          "name": "stdout",
          "text": [
            "108.341\n"
          ]
        },
        {
          "output_type": "stream",
          "name": "stderr",
          "text": [
            "Train: 100%|██████████| 813/813 [00:23<00:00, 34.69it/s]\n",
            "Eval : 100%|██████████| 63/63 [00:01<00:00, 35.18it/s]\n",
            "Epoch 277\n"
          ]
        },
        {
          "output_type": "stream",
          "name": "stdout",
          "text": [
            "109.622\n"
          ]
        },
        {
          "output_type": "stream",
          "name": "stderr",
          "text": [
            "Train: 100%|██████████| 813/813 [00:29<00:00, 27.48it/s]\n",
            "Eval : 100%|██████████| 63/63 [00:01<00:00, 35.70it/s]\n",
            "Epoch 278\n"
          ]
        },
        {
          "output_type": "stream",
          "name": "stdout",
          "text": [
            "109.622\n"
          ]
        },
        {
          "output_type": "stream",
          "name": "stderr",
          "text": [
            "Train: 100%|██████████| 813/813 [00:23<00:00, 34.81it/s]\n",
            "Eval : 100%|██████████| 63/63 [00:01<00:00, 35.07it/s]\n",
            "Epoch 279\n"
          ]
        },
        {
          "output_type": "stream",
          "name": "stdout",
          "text": [
            "107.56\n"
          ]
        },
        {
          "output_type": "stream",
          "name": "stderr",
          "text": [
            "Train: 100%|██████████| 813/813 [00:29<00:00, 27.77it/s]\n",
            "Eval : 100%|██████████| 63/63 [00:01<00:00, 35.98it/s]\n",
            "Epoch 280\n"
          ]
        },
        {
          "output_type": "stream",
          "name": "stdout",
          "text": [
            "107.56\n"
          ]
        },
        {
          "output_type": "stream",
          "name": "stderr",
          "text": [
            "Train: 100%|██████████| 813/813 [00:23<00:00, 34.90it/s]\n",
            "Eval : 100%|██████████| 63/63 [00:01<00:00, 35.41it/s]\n",
            "Epoch 281\n"
          ]
        },
        {
          "output_type": "stream",
          "name": "stdout",
          "text": [
            "108.692\n"
          ]
        },
        {
          "output_type": "stream",
          "name": "stderr",
          "text": [
            "Train: 100%|██████████| 813/813 [00:29<00:00, 27.37it/s]\n",
            "Eval : 100%|██████████| 63/63 [00:01<00:00, 36.47it/s]\n",
            "Epoch 282\n"
          ]
        },
        {
          "output_type": "stream",
          "name": "stdout",
          "text": [
            "108.692\n"
          ]
        },
        {
          "output_type": "stream",
          "name": "stderr",
          "text": [
            "Train: 100%|██████████| 813/813 [00:23<00:00, 34.88it/s]\n",
            "Eval : 100%|██████████| 63/63 [00:01<00:00, 35.94it/s]\n",
            "Epoch 283\n"
          ]
        },
        {
          "output_type": "stream",
          "name": "stdout",
          "text": [
            "107.616\n"
          ]
        },
        {
          "output_type": "stream",
          "name": "stderr",
          "text": [
            "Train: 100%|██████████| 813/813 [00:29<00:00, 27.64it/s]\n",
            "Eval : 100%|██████████| 63/63 [00:01<00:00, 35.73it/s]\n",
            "Epoch 284\n"
          ]
        },
        {
          "output_type": "stream",
          "name": "stdout",
          "text": [
            "107.616\n"
          ]
        },
        {
          "output_type": "stream",
          "name": "stderr",
          "text": [
            "Train: 100%|██████████| 813/813 [00:23<00:00, 35.14it/s]\n",
            "Eval : 100%|██████████| 63/63 [00:01<00:00, 36.40it/s]\n",
            "Epoch 285\n"
          ]
        },
        {
          "output_type": "stream",
          "name": "stdout",
          "text": [
            "107.59\n"
          ]
        },
        {
          "output_type": "stream",
          "name": "stderr",
          "text": [
            "Train: 100%|██████████| 813/813 [00:29<00:00, 27.75it/s]\n",
            "Eval : 100%|██████████| 63/63 [00:01<00:00, 36.48it/s]\n",
            "Epoch 286\n"
          ]
        },
        {
          "output_type": "stream",
          "name": "stdout",
          "text": [
            "107.59\n"
          ]
        },
        {
          "output_type": "stream",
          "name": "stderr",
          "text": [
            "Train: 100%|██████████| 813/813 [00:22<00:00, 35.46it/s]\n",
            "Eval : 100%|██████████| 63/63 [00:01<00:00, 35.73it/s]\n",
            "Epoch 287\n"
          ]
        },
        {
          "output_type": "stream",
          "name": "stdout",
          "text": [
            "107.798\n"
          ]
        },
        {
          "output_type": "stream",
          "name": "stderr",
          "text": [
            "Train: 100%|██████████| 813/813 [00:28<00:00, 28.05it/s]\n",
            "Eval : 100%|██████████| 63/63 [00:01<00:00, 35.41it/s]\n",
            "Epoch 288\n"
          ]
        },
        {
          "output_type": "stream",
          "name": "stdout",
          "text": [
            "107.798\n"
          ]
        },
        {
          "output_type": "stream",
          "name": "stderr",
          "text": [
            "Train: 100%|██████████| 813/813 [00:23<00:00, 34.74it/s]\n",
            "Eval : 100%|██████████| 63/63 [00:01<00:00, 35.29it/s]\n",
            "Epoch 289\n"
          ]
        },
        {
          "output_type": "stream",
          "name": "stdout",
          "text": [
            "110.471\n"
          ]
        },
        {
          "output_type": "stream",
          "name": "stderr",
          "text": [
            "Train: 100%|██████████| 813/813 [00:29<00:00, 27.37it/s]\n",
            "Eval : 100%|██████████| 63/63 [00:01<00:00, 35.28it/s]\n",
            "Epoch 290\n"
          ]
        },
        {
          "output_type": "stream",
          "name": "stdout",
          "text": [
            "110.471\n"
          ]
        },
        {
          "output_type": "stream",
          "name": "stderr",
          "text": [
            "Train: 100%|██████████| 813/813 [00:22<00:00, 35.50it/s]\n",
            "Eval : 100%|██████████| 63/63 [00:01<00:00, 36.08it/s]\n",
            "Epoch 291\n"
          ]
        },
        {
          "output_type": "stream",
          "name": "stdout",
          "text": [
            "107.419\n"
          ]
        },
        {
          "output_type": "stream",
          "name": "stderr",
          "text": [
            "Train: 100%|██████████| 813/813 [00:28<00:00, 28.30it/s]\n",
            "Eval : 100%|██████████| 63/63 [00:01<00:00, 34.98it/s]\n",
            "Epoch 292\n"
          ]
        },
        {
          "output_type": "stream",
          "name": "stdout",
          "text": [
            "107.419\n"
          ]
        },
        {
          "output_type": "stream",
          "name": "stderr",
          "text": [
            "Train: 100%|██████████| 813/813 [00:23<00:00, 34.59it/s]\n",
            "Eval : 100%|██████████| 63/63 [00:01<00:00, 35.29it/s]\n",
            "Epoch 293\n"
          ]
        },
        {
          "output_type": "stream",
          "name": "stdout",
          "text": [
            "108.748\n"
          ]
        },
        {
          "output_type": "stream",
          "name": "stderr",
          "text": [
            "Train: 100%|██████████| 813/813 [00:29<00:00, 27.55it/s]\n",
            "Eval : 100%|██████████| 63/63 [00:01<00:00, 36.53it/s]\n",
            "Epoch 294\n"
          ]
        },
        {
          "output_type": "stream",
          "name": "stdout",
          "text": [
            "108.748\n"
          ]
        },
        {
          "output_type": "stream",
          "name": "stderr",
          "text": [
            "Train: 100%|██████████| 813/813 [00:23<00:00, 34.81it/s]\n",
            "Eval : 100%|██████████| 63/63 [00:01<00:00, 35.34it/s]\n",
            "Epoch 295\n"
          ]
        },
        {
          "output_type": "stream",
          "name": "stdout",
          "text": [
            "107.628\n"
          ]
        },
        {
          "output_type": "stream",
          "name": "stderr",
          "text": [
            "Train: 100%|██████████| 813/813 [00:29<00:00, 28.02it/s]\n",
            "Eval : 100%|██████████| 63/63 [00:01<00:00, 34.84it/s]\n",
            "Epoch 296\n"
          ]
        },
        {
          "output_type": "stream",
          "name": "stdout",
          "text": [
            "107.628\n"
          ]
        },
        {
          "output_type": "stream",
          "name": "stderr",
          "text": [
            "Train: 100%|██████████| 813/813 [00:23<00:00, 34.45it/s]\n",
            "Eval : 100%|██████████| 63/63 [00:01<00:00, 35.95it/s]\n",
            "Epoch 297\n"
          ]
        },
        {
          "output_type": "stream",
          "name": "stdout",
          "text": [
            "107.353\n"
          ]
        },
        {
          "output_type": "stream",
          "name": "stderr",
          "text": [
            "Train: 100%|██████████| 813/813 [00:29<00:00, 27.97it/s]\n",
            "Eval : 100%|██████████| 63/63 [00:01<00:00, 35.74it/s]\n",
            "Epoch 298\n"
          ]
        },
        {
          "output_type": "stream",
          "name": "stdout",
          "text": [
            "107.353\n"
          ]
        },
        {
          "output_type": "stream",
          "name": "stderr",
          "text": [
            "Train: 100%|██████████| 813/813 [00:23<00:00, 35.13it/s]\n",
            "Eval : 100%|██████████| 63/63 [00:01<00:00, 36.53it/s]\n",
            "Epoch 299\n"
          ]
        },
        {
          "output_type": "stream",
          "name": "stdout",
          "text": [
            "107.772\n"
          ]
        },
        {
          "output_type": "stream",
          "name": "stderr",
          "text": [
            "Train: 100%|██████████| 813/813 [00:28<00:00, 28.47it/s]\n",
            "Eval : 100%|██████████| 63/63 [00:01<00:00, 36.40it/s]\n",
            "Epoch 300\n"
          ]
        },
        {
          "output_type": "stream",
          "name": "stdout",
          "text": [
            "107.772\n"
          ]
        },
        {
          "output_type": "stream",
          "name": "stderr",
          "text": [
            "Train: 100%|██████████| 813/813 [00:23<00:00, 34.78it/s]\n",
            "Eval : 100%|██████████| 63/63 [00:01<00:00, 35.98it/s]\n",
            "Epoch 301\n"
          ]
        },
        {
          "output_type": "stream",
          "name": "stdout",
          "text": [
            "108.608\n"
          ]
        },
        {
          "output_type": "stream",
          "name": "stderr",
          "text": [
            "Train: 100%|██████████| 813/813 [00:29<00:00, 27.89it/s]\n",
            "Eval : 100%|██████████| 63/63 [00:01<00:00, 36.47it/s]\n",
            "Epoch 302\n"
          ]
        },
        {
          "output_type": "stream",
          "name": "stdout",
          "text": [
            "108.608\n"
          ]
        },
        {
          "output_type": "stream",
          "name": "stderr",
          "text": [
            "Train: 100%|██████████| 813/813 [00:23<00:00, 35.00it/s]\n",
            "Eval : 100%|██████████| 63/63 [00:01<00:00, 35.39it/s]\n",
            "Epoch 303\n"
          ]
        },
        {
          "output_type": "stream",
          "name": "stdout",
          "text": [
            "107.676\n"
          ]
        },
        {
          "output_type": "stream",
          "name": "stderr",
          "text": [
            "Train: 100%|██████████| 813/813 [00:28<00:00, 28.28it/s]\n",
            "Eval : 100%|██████████| 63/63 [00:01<00:00, 36.71it/s]\n",
            "Epoch 304\n"
          ]
        },
        {
          "output_type": "stream",
          "name": "stdout",
          "text": [
            "107.676\n"
          ]
        },
        {
          "output_type": "stream",
          "name": "stderr",
          "text": [
            "Train: 100%|██████████| 813/813 [00:23<00:00, 34.94it/s]\n",
            "Eval : 100%|██████████| 63/63 [00:01<00:00, 34.99it/s]\n",
            "Epoch 305\n"
          ]
        },
        {
          "output_type": "stream",
          "name": "stdout",
          "text": [
            "107.455\n"
          ]
        },
        {
          "output_type": "stream",
          "name": "stderr",
          "text": [
            "Train: 100%|██████████| 813/813 [00:29<00:00, 27.68it/s]\n",
            "Eval : 100%|██████████| 63/63 [00:01<00:00, 35.49it/s]\n",
            "Epoch 306\n"
          ]
        },
        {
          "output_type": "stream",
          "name": "stdout",
          "text": [
            "107.455\n"
          ]
        },
        {
          "output_type": "stream",
          "name": "stderr",
          "text": [
            "Train: 100%|██████████| 813/813 [00:23<00:00, 34.83it/s]\n",
            "Eval : 100%|██████████| 63/63 [00:01<00:00, 36.74it/s]\n",
            "Epoch 307\n"
          ]
        },
        {
          "output_type": "stream",
          "name": "stdout",
          "text": [
            "107.758\n"
          ]
        },
        {
          "output_type": "stream",
          "name": "stderr",
          "text": [
            "Train: 100%|██████████| 813/813 [00:29<00:00, 27.78it/s]\n",
            "Eval : 100%|██████████| 63/63 [00:01<00:00, 36.02it/s]\n",
            "Epoch 308\n"
          ]
        },
        {
          "output_type": "stream",
          "name": "stdout",
          "text": [
            "107.758\n"
          ]
        },
        {
          "output_type": "stream",
          "name": "stderr",
          "text": [
            "Train: 100%|██████████| 813/813 [00:23<00:00, 35.15it/s]\n",
            "Eval : 100%|██████████| 63/63 [00:01<00:00, 35.28it/s]\n",
            "Epoch 309\n"
          ]
        },
        {
          "output_type": "stream",
          "name": "stdout",
          "text": [
            "107.256\n"
          ]
        },
        {
          "output_type": "stream",
          "name": "stderr",
          "text": [
            "Train: 100%|██████████| 813/813 [00:28<00:00, 28.13it/s]\n",
            "Eval : 100%|██████████| 63/63 [00:01<00:00, 35.73it/s]\n",
            "Epoch 310\n"
          ]
        },
        {
          "output_type": "stream",
          "name": "stdout",
          "text": [
            "107.256\n"
          ]
        },
        {
          "output_type": "stream",
          "name": "stderr",
          "text": [
            "Train: 100%|██████████| 813/813 [00:23<00:00, 35.15it/s]\n",
            "Eval : 100%|██████████| 63/63 [00:01<00:00, 35.40it/s]\n",
            "Epoch 311\n"
          ]
        },
        {
          "output_type": "stream",
          "name": "stdout",
          "text": [
            "108.275\n"
          ]
        },
        {
          "output_type": "stream",
          "name": "stderr",
          "text": [
            "Train: 100%|██████████| 813/813 [00:29<00:00, 27.74it/s]\n",
            "Eval : 100%|██████████| 63/63 [00:01<00:00, 36.31it/s]\n",
            "Epoch 312\n"
          ]
        },
        {
          "output_type": "stream",
          "name": "stdout",
          "text": [
            "108.275\n"
          ]
        },
        {
          "output_type": "stream",
          "name": "stderr",
          "text": [
            "Train: 100%|██████████| 813/813 [00:23<00:00, 35.06it/s]\n",
            "Eval : 100%|██████████| 63/63 [00:01<00:00, 35.13it/s]\n",
            "Epoch 313\n"
          ]
        },
        {
          "output_type": "stream",
          "name": "stdout",
          "text": [
            "107.987\n"
          ]
        },
        {
          "output_type": "stream",
          "name": "stderr",
          "text": [
            "Train: 100%|██████████| 813/813 [00:29<00:00, 27.68it/s]\n",
            "Eval : 100%|██████████| 63/63 [00:01<00:00, 35.93it/s]\n",
            "Epoch 314\n"
          ]
        },
        {
          "output_type": "stream",
          "name": "stdout",
          "text": [
            "107.987\n"
          ]
        },
        {
          "output_type": "stream",
          "name": "stderr",
          "text": [
            "Train: 100%|██████████| 813/813 [00:23<00:00, 35.10it/s]\n",
            "Eval : 100%|██████████| 63/63 [00:01<00:00, 36.99it/s]\n",
            "Epoch 315\n"
          ]
        },
        {
          "output_type": "stream",
          "name": "stdout",
          "text": [
            "106.168\n"
          ]
        },
        {
          "output_type": "stream",
          "name": "stderr",
          "text": [
            "Train: 100%|██████████| 813/813 [00:29<00:00, 27.86it/s]\n",
            "Eval : 100%|██████████| 63/63 [00:01<00:00, 35.33it/s]\n",
            "Epoch 316\n"
          ]
        },
        {
          "output_type": "stream",
          "name": "stdout",
          "text": [
            "106.168\n"
          ]
        },
        {
          "output_type": "stream",
          "name": "stderr",
          "text": [
            "Train: 100%|██████████| 813/813 [00:23<00:00, 34.94it/s]\n",
            "Eval : 100%|██████████| 63/63 [00:01<00:00, 35.33it/s]\n",
            "Epoch 317\n"
          ]
        },
        {
          "output_type": "stream",
          "name": "stdout",
          "text": [
            "107.202\n"
          ]
        },
        {
          "output_type": "stream",
          "name": "stderr",
          "text": [
            "Train: 100%|██████████| 813/813 [00:29<00:00, 27.77it/s]\n",
            "Eval : 100%|██████████| 63/63 [00:01<00:00, 34.65it/s]\n",
            "Epoch 318\n"
          ]
        },
        {
          "output_type": "stream",
          "name": "stdout",
          "text": [
            "107.202\n"
          ]
        },
        {
          "output_type": "stream",
          "name": "stderr",
          "text": [
            "Train: 100%|██████████| 813/813 [00:23<00:00, 35.12it/s]\n",
            "Eval : 100%|██████████| 63/63 [00:01<00:00, 35.23it/s]\n",
            "Epoch 319\n"
          ]
        },
        {
          "output_type": "stream",
          "name": "stdout",
          "text": [
            "108.284\n"
          ]
        },
        {
          "output_type": "stream",
          "name": "stderr",
          "text": [
            "Train: 100%|██████████| 813/813 [00:29<00:00, 27.91it/s]\n",
            "Eval : 100%|██████████| 63/63 [00:01<00:00, 36.39it/s]\n",
            "Epoch 320\n"
          ]
        },
        {
          "output_type": "stream",
          "name": "stdout",
          "text": [
            "108.284\n"
          ]
        },
        {
          "output_type": "stream",
          "name": "stderr",
          "text": [
            "Train: 100%|██████████| 813/813 [00:23<00:00, 34.96it/s]\n",
            "Eval : 100%|██████████| 63/63 [00:01<00:00, 36.13it/s]\n",
            "Epoch 321\n"
          ]
        },
        {
          "output_type": "stream",
          "name": "stdout",
          "text": [
            "107.766\n"
          ]
        },
        {
          "output_type": "stream",
          "name": "stderr",
          "text": [
            "Train: 100%|██████████| 813/813 [00:29<00:00, 27.87it/s]\n",
            "Eval : 100%|██████████| 63/63 [00:01<00:00, 35.68it/s]\n",
            "Epoch 322\n"
          ]
        },
        {
          "output_type": "stream",
          "name": "stdout",
          "text": [
            "107.766\n"
          ]
        },
        {
          "output_type": "stream",
          "name": "stderr",
          "text": [
            "Train: 100%|██████████| 813/813 [00:23<00:00, 34.70it/s]\n",
            "Eval : 100%|██████████| 63/63 [00:01<00:00, 35.92it/s]\n",
            "Epoch 323\n"
          ]
        },
        {
          "output_type": "stream",
          "name": "stdout",
          "text": [
            "108.784\n"
          ]
        },
        {
          "output_type": "stream",
          "name": "stderr",
          "text": [
            "Train: 100%|██████████| 813/813 [00:29<00:00, 27.62it/s]\n",
            "Eval : 100%|██████████| 63/63 [00:01<00:00, 36.11it/s]\n",
            "Epoch 324\n"
          ]
        },
        {
          "output_type": "stream",
          "name": "stdout",
          "text": [
            "108.784\n"
          ]
        },
        {
          "output_type": "stream",
          "name": "stderr",
          "text": [
            "Train: 100%|██████████| 813/813 [00:23<00:00, 34.53it/s]\n",
            "Eval : 100%|██████████| 63/63 [00:01<00:00, 36.38it/s]\n",
            "Epoch 325\n"
          ]
        },
        {
          "output_type": "stream",
          "name": "stdout",
          "text": [
            "107.851\n"
          ]
        },
        {
          "output_type": "stream",
          "name": "stderr",
          "text": [
            "Train: 100%|██████████| 813/813 [00:29<00:00, 27.91it/s]\n",
            "Eval : 100%|██████████| 63/63 [00:01<00:00, 35.24it/s]\n",
            "Epoch 326\n"
          ]
        },
        {
          "output_type": "stream",
          "name": "stdout",
          "text": [
            "107.851\n"
          ]
        },
        {
          "output_type": "stream",
          "name": "stderr",
          "text": [
            "Train: 100%|██████████| 813/813 [00:23<00:00, 34.46it/s]\n",
            "Eval : 100%|██████████| 63/63 [00:01<00:00, 36.31it/s]\n",
            "Epoch 327\n"
          ]
        },
        {
          "output_type": "stream",
          "name": "stdout",
          "text": [
            "108.633\n"
          ]
        },
        {
          "output_type": "stream",
          "name": "stderr",
          "text": [
            "Train: 100%|██████████| 813/813 [00:29<00:00, 27.77it/s]\n",
            "Eval : 100%|██████████| 63/63 [00:01<00:00, 35.49it/s]\n",
            "Epoch 328\n"
          ]
        },
        {
          "output_type": "stream",
          "name": "stdout",
          "text": [
            "108.633\n"
          ]
        },
        {
          "output_type": "stream",
          "name": "stderr",
          "text": [
            "Train: 100%|██████████| 813/813 [00:23<00:00, 34.53it/s]\n",
            "Eval : 100%|██████████| 63/63 [00:01<00:00, 35.69it/s]\n",
            "Epoch 329\n"
          ]
        },
        {
          "output_type": "stream",
          "name": "stdout",
          "text": [
            "107.857\n"
          ]
        },
        {
          "output_type": "stream",
          "name": "stderr",
          "text": [
            "Train: 100%|██████████| 813/813 [00:28<00:00, 28.12it/s]\n",
            "Eval : 100%|██████████| 63/63 [00:01<00:00, 35.88it/s]\n",
            "Epoch 330\n"
          ]
        },
        {
          "output_type": "stream",
          "name": "stdout",
          "text": [
            "107.857\n"
          ]
        },
        {
          "output_type": "stream",
          "name": "stderr",
          "text": [
            "Train: 100%|██████████| 813/813 [00:23<00:00, 34.59it/s]\n",
            "Eval : 100%|██████████| 63/63 [00:01<00:00, 34.98it/s]\n",
            "Epoch 331\n"
          ]
        },
        {
          "output_type": "stream",
          "name": "stdout",
          "text": [
            "108.168\n"
          ]
        },
        {
          "output_type": "stream",
          "name": "stderr",
          "text": [
            "Train: 100%|██████████| 813/813 [00:29<00:00, 27.59it/s]\n",
            "Eval : 100%|██████████| 63/63 [00:01<00:00, 36.42it/s]\n",
            "Epoch 332\n"
          ]
        },
        {
          "output_type": "stream",
          "name": "stdout",
          "text": [
            "108.168\n"
          ]
        },
        {
          "output_type": "stream",
          "name": "stderr",
          "text": [
            "Train: 100%|██████████| 813/813 [00:23<00:00, 35.13it/s]\n",
            "Eval : 100%|██████████| 63/63 [00:01<00:00, 36.34it/s]\n",
            "Epoch 333\n"
          ]
        },
        {
          "output_type": "stream",
          "name": "stdout",
          "text": [
            "107.587\n"
          ]
        },
        {
          "output_type": "stream",
          "name": "stderr",
          "text": [
            "Train: 100%|██████████| 813/813 [00:29<00:00, 27.93it/s]\n",
            "Eval : 100%|██████████| 63/63 [00:01<00:00, 35.62it/s]\n",
            "Epoch 334\n"
          ]
        },
        {
          "output_type": "stream",
          "name": "stdout",
          "text": [
            "107.587\n"
          ]
        },
        {
          "output_type": "stream",
          "name": "stderr",
          "text": [
            "Train: 100%|██████████| 813/813 [00:23<00:00, 34.89it/s]\n",
            "Eval : 100%|██████████| 63/63 [00:01<00:00, 35.40it/s]\n",
            "Epoch 335\n"
          ]
        },
        {
          "output_type": "stream",
          "name": "stdout",
          "text": [
            "107.554\n"
          ]
        },
        {
          "output_type": "stream",
          "name": "stderr",
          "text": [
            "Train: 100%|██████████| 813/813 [00:29<00:00, 27.92it/s]\n",
            "Eval : 100%|██████████| 63/63 [00:01<00:00, 34.57it/s]\n",
            "Epoch 336\n"
          ]
        },
        {
          "output_type": "stream",
          "name": "stdout",
          "text": [
            "107.554\n"
          ]
        },
        {
          "output_type": "stream",
          "name": "stderr",
          "text": [
            "Train: 100%|██████████| 813/813 [00:23<00:00, 34.99it/s]\n",
            "Eval : 100%|██████████| 63/63 [00:01<00:00, 37.04it/s]\n",
            "Epoch 337\n"
          ]
        },
        {
          "output_type": "stream",
          "name": "stdout",
          "text": [
            "108.604\n"
          ]
        },
        {
          "output_type": "stream",
          "name": "stderr",
          "text": [
            "Train: 100%|██████████| 813/813 [00:29<00:00, 27.85it/s]\n",
            "Eval : 100%|██████████| 63/63 [00:01<00:00, 35.80it/s]\n",
            "Epoch 338\n"
          ]
        },
        {
          "output_type": "stream",
          "name": "stdout",
          "text": [
            "108.604\n"
          ]
        },
        {
          "output_type": "stream",
          "name": "stderr",
          "text": [
            "Train: 100%|██████████| 813/813 [00:23<00:00, 34.93it/s]\n",
            "Eval : 100%|██████████| 63/63 [00:01<00:00, 34.04it/s]\n",
            "Epoch 339\n"
          ]
        },
        {
          "output_type": "stream",
          "name": "stdout",
          "text": [
            "107.542\n"
          ]
        },
        {
          "output_type": "stream",
          "name": "stderr",
          "text": [
            "Train: 100%|██████████| 813/813 [00:29<00:00, 27.45it/s]\n",
            "Eval : 100%|██████████| 63/63 [00:01<00:00, 36.14it/s]\n",
            "Epoch 340\n"
          ]
        },
        {
          "output_type": "stream",
          "name": "stdout",
          "text": [
            "107.542\n"
          ]
        },
        {
          "output_type": "stream",
          "name": "stderr",
          "text": [
            "Train: 100%|██████████| 813/813 [00:23<00:00, 34.97it/s]\n",
            "Eval : 100%|██████████| 63/63 [00:01<00:00, 34.94it/s]\n",
            "Epoch 341\n"
          ]
        },
        {
          "output_type": "stream",
          "name": "stdout",
          "text": [
            "108.183\n"
          ]
        },
        {
          "output_type": "stream",
          "name": "stderr",
          "text": [
            "Train: 100%|██████████| 813/813 [00:29<00:00, 27.44it/s]\n",
            "Eval : 100%|██████████| 63/63 [00:01<00:00, 35.23it/s]\n",
            "Epoch 342\n"
          ]
        },
        {
          "output_type": "stream",
          "name": "stdout",
          "text": [
            "108.183\n"
          ]
        },
        {
          "output_type": "stream",
          "name": "stderr",
          "text": [
            "Train: 100%|██████████| 813/813 [00:23<00:00, 34.48it/s]\n",
            "Eval : 100%|██████████| 63/63 [00:01<00:00, 35.19it/s]\n",
            "Epoch 343\n"
          ]
        },
        {
          "output_type": "stream",
          "name": "stdout",
          "text": [
            "107.614\n"
          ]
        },
        {
          "output_type": "stream",
          "name": "stderr",
          "text": [
            "Train: 100%|██████████| 813/813 [00:29<00:00, 27.35it/s]\n",
            "Eval : 100%|██████████| 63/63 [00:01<00:00, 36.13it/s]\n",
            "Epoch 344\n"
          ]
        },
        {
          "output_type": "stream",
          "name": "stdout",
          "text": [
            "107.614\n"
          ]
        },
        {
          "output_type": "stream",
          "name": "stderr",
          "text": [
            "Train: 100%|██████████| 813/813 [00:23<00:00, 34.81it/s]\n",
            "Eval : 100%|██████████| 63/63 [00:01<00:00, 35.96it/s]\n",
            "Epoch 345\n"
          ]
        },
        {
          "output_type": "stream",
          "name": "stdout",
          "text": [
            "107.905\n"
          ]
        },
        {
          "output_type": "stream",
          "name": "stderr",
          "text": [
            "Train: 100%|██████████| 813/813 [00:29<00:00, 27.52it/s]\n",
            "Eval : 100%|██████████| 63/63 [00:01<00:00, 35.12it/s]\n",
            "Epoch 346\n"
          ]
        },
        {
          "output_type": "stream",
          "name": "stdout",
          "text": [
            "107.905\n"
          ]
        },
        {
          "output_type": "stream",
          "name": "stderr",
          "text": [
            "Train: 100%|██████████| 813/813 [00:23<00:00, 35.05it/s]\n",
            "Eval : 100%|██████████| 63/63 [00:01<00:00, 35.74it/s]\n",
            "Epoch 347\n"
          ]
        },
        {
          "output_type": "stream",
          "name": "stdout",
          "text": [
            "107.428\n"
          ]
        },
        {
          "output_type": "stream",
          "name": "stderr",
          "text": [
            "Train: 100%|██████████| 813/813 [00:29<00:00, 27.85it/s]\n",
            "Eval : 100%|██████████| 63/63 [00:01<00:00, 35.63it/s]\n",
            "Epoch 348\n"
          ]
        },
        {
          "output_type": "stream",
          "name": "stdout",
          "text": [
            "107.428\n"
          ]
        },
        {
          "output_type": "stream",
          "name": "stderr",
          "text": [
            "Train: 100%|██████████| 813/813 [00:23<00:00, 34.76it/s]\n",
            "Eval : 100%|██████████| 63/63 [00:01<00:00, 34.42it/s]\n",
            "Epoch 349\n"
          ]
        },
        {
          "output_type": "stream",
          "name": "stdout",
          "text": [
            "107.322\n"
          ]
        },
        {
          "output_type": "stream",
          "name": "stderr",
          "text": [
            "Train: 100%|██████████| 813/813 [00:29<00:00, 27.94it/s]\n",
            "Eval : 100%|██████████| 63/63 [00:01<00:00, 35.91it/s]\n",
            "Epoch 350\n"
          ]
        },
        {
          "output_type": "stream",
          "name": "stdout",
          "text": [
            "107.322\n"
          ]
        },
        {
          "output_type": "stream",
          "name": "stderr",
          "text": [
            "Train: 100%|██████████| 813/813 [00:23<00:00, 34.68it/s]\n",
            "Eval : 100%|██████████| 63/63 [00:01<00:00, 35.45it/s]\n",
            "Epoch 351\n"
          ]
        },
        {
          "output_type": "stream",
          "name": "stdout",
          "text": [
            "108.506\n"
          ]
        },
        {
          "output_type": "stream",
          "name": "stderr",
          "text": [
            "Train: 100%|██████████| 813/813 [00:29<00:00, 27.68it/s]\n",
            "Eval : 100%|██████████| 63/63 [00:01<00:00, 35.58it/s]\n",
            "Epoch 352\n"
          ]
        },
        {
          "output_type": "stream",
          "name": "stdout",
          "text": [
            "108.506\n"
          ]
        },
        {
          "output_type": "stream",
          "name": "stderr",
          "text": [
            "Train: 100%|██████████| 813/813 [00:23<00:00, 34.99it/s]\n",
            "Eval : 100%|██████████| 63/63 [00:01<00:00, 35.94it/s]\n",
            "Epoch 353\n"
          ]
        },
        {
          "output_type": "stream",
          "name": "stdout",
          "text": [
            "108.643\n"
          ]
        },
        {
          "output_type": "stream",
          "name": "stderr",
          "text": [
            "Train: 100%|██████████| 813/813 [00:28<00:00, 28.20it/s]\n",
            "Eval : 100%|██████████| 63/63 [00:01<00:00, 34.64it/s]\n",
            "Epoch 354\n"
          ]
        },
        {
          "output_type": "stream",
          "name": "stdout",
          "text": [
            "108.643\n"
          ]
        },
        {
          "output_type": "stream",
          "name": "stderr",
          "text": [
            "Train: 100%|██████████| 813/813 [00:23<00:00, 34.80it/s]\n",
            "Eval : 100%|██████████| 63/63 [00:01<00:00, 36.40it/s]\n",
            "Epoch 355\n"
          ]
        },
        {
          "output_type": "stream",
          "name": "stdout",
          "text": [
            "108.226\n"
          ]
        },
        {
          "output_type": "stream",
          "name": "stderr",
          "text": [
            "Train: 100%|██████████| 813/813 [00:29<00:00, 27.99it/s]\n",
            "Eval : 100%|██████████| 63/63 [00:01<00:00, 36.11it/s]\n",
            "Epoch 356\n"
          ]
        },
        {
          "output_type": "stream",
          "name": "stdout",
          "text": [
            "108.226\n"
          ]
        },
        {
          "output_type": "stream",
          "name": "stderr",
          "text": [
            "Train: 100%|██████████| 813/813 [00:23<00:00, 34.84it/s]\n",
            "Eval : 100%|██████████| 63/63 [00:01<00:00, 36.21it/s]\n",
            "Epoch 357\n"
          ]
        },
        {
          "output_type": "stream",
          "name": "stdout",
          "text": [
            "108.464\n"
          ]
        },
        {
          "output_type": "stream",
          "name": "stderr",
          "text": [
            "Train: 100%|██████████| 813/813 [00:29<00:00, 28.02it/s]\n",
            "Eval : 100%|██████████| 63/63 [00:01<00:00, 36.02it/s]\n",
            "Epoch 358\n"
          ]
        },
        {
          "output_type": "stream",
          "name": "stdout",
          "text": [
            "108.464\n"
          ]
        },
        {
          "output_type": "stream",
          "name": "stderr",
          "text": [
            "Train: 100%|██████████| 813/813 [00:23<00:00, 34.66it/s]\n",
            "Eval : 100%|██████████| 63/63 [00:01<00:00, 35.77it/s]\n",
            "Epoch 359\n"
          ]
        },
        {
          "output_type": "stream",
          "name": "stdout",
          "text": [
            "108.355\n"
          ]
        },
        {
          "output_type": "stream",
          "name": "stderr",
          "text": [
            "Train: 100%|██████████| 813/813 [00:29<00:00, 27.76it/s]\n",
            "Eval : 100%|██████████| 63/63 [00:01<00:00, 36.81it/s]\n",
            "Epoch 360\n"
          ]
        },
        {
          "output_type": "stream",
          "name": "stdout",
          "text": [
            "108.355\n"
          ]
        },
        {
          "output_type": "stream",
          "name": "stderr",
          "text": [
            "Train: 100%|██████████| 813/813 [00:23<00:00, 34.95it/s]\n",
            "Eval : 100%|██████████| 63/63 [00:01<00:00, 35.46it/s]\n",
            "Epoch 361\n"
          ]
        },
        {
          "output_type": "stream",
          "name": "stdout",
          "text": [
            "107.962\n"
          ]
        },
        {
          "output_type": "stream",
          "name": "stderr",
          "text": [
            "Train: 100%|██████████| 813/813 [00:29<00:00, 27.82it/s]\n",
            "Eval : 100%|██████████| 63/63 [00:01<00:00, 36.32it/s]\n",
            "Epoch 362\n"
          ]
        },
        {
          "output_type": "stream",
          "name": "stdout",
          "text": [
            "107.962\n"
          ]
        },
        {
          "output_type": "stream",
          "name": "stderr",
          "text": [
            "Train: 100%|██████████| 813/813 [00:23<00:00, 34.89it/s]\n",
            "Eval : 100%|██████████| 63/63 [00:01<00:00, 36.40it/s]\n",
            "Epoch 363\n"
          ]
        },
        {
          "output_type": "stream",
          "name": "stdout",
          "text": [
            "108.076\n"
          ]
        },
        {
          "output_type": "stream",
          "name": "stderr",
          "text": [
            "Train: 100%|██████████| 813/813 [00:29<00:00, 27.70it/s]\n",
            "Eval : 100%|██████████| 63/63 [00:01<00:00, 36.23it/s]\n",
            "Epoch 364\n"
          ]
        },
        {
          "output_type": "stream",
          "name": "stdout",
          "text": [
            "108.076\n"
          ]
        },
        {
          "output_type": "stream",
          "name": "stderr",
          "text": [
            "Train: 100%|██████████| 813/813 [00:23<00:00, 34.77it/s]\n",
            "Eval : 100%|██████████| 63/63 [00:01<00:00, 34.97it/s]\n",
            "Epoch 365\n"
          ]
        },
        {
          "output_type": "stream",
          "name": "stdout",
          "text": [
            "108.682\n"
          ]
        },
        {
          "output_type": "stream",
          "name": "stderr",
          "text": [
            "Train: 100%|██████████| 813/813 [00:29<00:00, 27.71it/s]\n",
            "Eval : 100%|██████████| 63/63 [00:01<00:00, 35.02it/s]\n",
            "Epoch 366\n"
          ]
        },
        {
          "output_type": "stream",
          "name": "stdout",
          "text": [
            "108.682\n"
          ]
        },
        {
          "output_type": "stream",
          "name": "stderr",
          "text": [
            "Train: 100%|██████████| 813/813 [00:23<00:00, 35.07it/s]\n",
            "Eval : 100%|██████████| 63/63 [00:01<00:00, 35.83it/s]\n",
            "Epoch 367\n"
          ]
        },
        {
          "output_type": "stream",
          "name": "stdout",
          "text": [
            "108.424\n"
          ]
        },
        {
          "output_type": "stream",
          "name": "stderr",
          "text": [
            "Train: 100%|██████████| 813/813 [00:29<00:00, 27.66it/s]\n",
            "Eval : 100%|██████████| 63/63 [00:01<00:00, 35.87it/s]\n",
            "Epoch 368\n"
          ]
        },
        {
          "output_type": "stream",
          "name": "stdout",
          "text": [
            "108.424\n"
          ]
        },
        {
          "output_type": "stream",
          "name": "stderr",
          "text": [
            "Train: 100%|██████████| 813/813 [00:23<00:00, 35.07it/s]\n",
            "Eval : 100%|██████████| 63/63 [00:01<00:00, 36.40it/s]\n",
            "Epoch 369\n"
          ]
        },
        {
          "output_type": "stream",
          "name": "stdout",
          "text": [
            "108.174\n"
          ]
        },
        {
          "output_type": "stream",
          "name": "stderr",
          "text": [
            "Train: 100%|██████████| 813/813 [00:29<00:00, 27.86it/s]\n",
            "Eval : 100%|██████████| 63/63 [00:01<00:00, 35.98it/s]\n",
            "Epoch 370\n"
          ]
        },
        {
          "output_type": "stream",
          "name": "stdout",
          "text": [
            "108.174\n"
          ]
        },
        {
          "output_type": "stream",
          "name": "stderr",
          "text": [
            "Train: 100%|██████████| 813/813 [00:23<00:00, 35.21it/s]\n",
            "Eval : 100%|██████████| 63/63 [00:01<00:00, 35.43it/s]\n",
            "Epoch 371\n"
          ]
        },
        {
          "output_type": "stream",
          "name": "stdout",
          "text": [
            "107.648\n"
          ]
        },
        {
          "output_type": "stream",
          "name": "stderr",
          "text": [
            "Train: 100%|██████████| 813/813 [00:29<00:00, 27.85it/s]\n",
            "Eval : 100%|██████████| 63/63 [00:01<00:00, 36.20it/s]\n",
            "Epoch 372\n"
          ]
        },
        {
          "output_type": "stream",
          "name": "stdout",
          "text": [
            "107.648\n"
          ]
        },
        {
          "output_type": "stream",
          "name": "stderr",
          "text": [
            "Train: 100%|██████████| 813/813 [00:23<00:00, 35.00it/s]\n",
            "Eval : 100%|██████████| 63/63 [00:01<00:00, 35.83it/s]\n",
            "Epoch 373\n"
          ]
        },
        {
          "output_type": "stream",
          "name": "stdout",
          "text": [
            "107.392\n"
          ]
        },
        {
          "output_type": "stream",
          "name": "stderr",
          "text": [
            "Train: 100%|██████████| 813/813 [00:29<00:00, 27.86it/s]\n",
            "Eval : 100%|██████████| 63/63 [00:01<00:00, 36.59it/s]\n",
            "Epoch 374\n"
          ]
        },
        {
          "output_type": "stream",
          "name": "stdout",
          "text": [
            "107.392\n"
          ]
        },
        {
          "output_type": "stream",
          "name": "stderr",
          "text": [
            "Train: 100%|██████████| 813/813 [00:23<00:00, 35.05it/s]\n",
            "Eval : 100%|██████████| 63/63 [00:01<00:00, 36.42it/s]\n",
            "Epoch 375\n"
          ]
        },
        {
          "output_type": "stream",
          "name": "stdout",
          "text": [
            "107.815\n"
          ]
        },
        {
          "output_type": "stream",
          "name": "stderr",
          "text": [
            "Train: 100%|██████████| 813/813 [00:29<00:00, 27.79it/s]\n",
            "Eval : 100%|██████████| 63/63 [00:01<00:00, 36.00it/s]\n",
            "Epoch 376\n"
          ]
        },
        {
          "output_type": "stream",
          "name": "stdout",
          "text": [
            "107.815\n"
          ]
        },
        {
          "output_type": "stream",
          "name": "stderr",
          "text": [
            "Train: 100%|██████████| 813/813 [00:22<00:00, 35.40it/s]\n",
            "Eval : 100%|██████████| 63/63 [00:01<00:00, 36.22it/s]\n",
            "Epoch 377\n"
          ]
        },
        {
          "output_type": "stream",
          "name": "stdout",
          "text": [
            "107.964\n"
          ]
        },
        {
          "output_type": "stream",
          "name": "stderr",
          "text": [
            "Train: 100%|██████████| 813/813 [00:28<00:00, 28.06it/s]\n",
            "Eval : 100%|██████████| 63/63 [00:01<00:00, 35.46it/s]\n",
            "Epoch 378\n"
          ]
        },
        {
          "output_type": "stream",
          "name": "stdout",
          "text": [
            "107.964\n"
          ]
        },
        {
          "output_type": "stream",
          "name": "stderr",
          "text": [
            "Train: 100%|██████████| 813/813 [00:23<00:00, 34.83it/s]\n",
            "Eval : 100%|██████████| 63/63 [00:01<00:00, 35.27it/s]\n",
            "Epoch 379\n"
          ]
        },
        {
          "output_type": "stream",
          "name": "stdout",
          "text": [
            "108.279\n"
          ]
        },
        {
          "output_type": "stream",
          "name": "stderr",
          "text": [
            "Train: 100%|██████████| 813/813 [00:28<00:00, 28.11it/s]\n",
            "Eval : 100%|██████████| 63/63 [00:01<00:00, 35.31it/s]\n",
            "Epoch 380\n"
          ]
        },
        {
          "output_type": "stream",
          "name": "stdout",
          "text": [
            "108.279\n"
          ]
        },
        {
          "output_type": "stream",
          "name": "stderr",
          "text": [
            "Train: 100%|██████████| 813/813 [00:23<00:00, 34.85it/s]\n",
            "Eval : 100%|██████████| 63/63 [00:01<00:00, 35.03it/s]\n",
            "Epoch 381\n"
          ]
        },
        {
          "output_type": "stream",
          "name": "stdout",
          "text": [
            "108.217\n"
          ]
        },
        {
          "output_type": "stream",
          "name": "stderr",
          "text": [
            "Train: 100%|██████████| 813/813 [00:29<00:00, 27.93it/s]\n",
            "Eval : 100%|██████████| 63/63 [00:01<00:00, 36.53it/s]\n",
            "Epoch 382\n"
          ]
        },
        {
          "output_type": "stream",
          "name": "stdout",
          "text": [
            "108.217\n"
          ]
        },
        {
          "output_type": "stream",
          "name": "stderr",
          "text": [
            "Train: 100%|██████████| 813/813 [00:23<00:00, 34.91it/s]\n",
            "Eval : 100%|██████████| 63/63 [00:01<00:00, 35.34it/s]\n",
            "Epoch 383\n"
          ]
        },
        {
          "output_type": "stream",
          "name": "stdout",
          "text": [
            "109.53\n"
          ]
        },
        {
          "output_type": "stream",
          "name": "stderr",
          "text": [
            "Train: 100%|██████████| 813/813 [00:29<00:00, 27.56it/s]\n",
            "Eval : 100%|██████████| 63/63 [00:01<00:00, 35.03it/s]\n",
            "Epoch 384\n"
          ]
        },
        {
          "output_type": "stream",
          "name": "stdout",
          "text": [
            "109.53\n"
          ]
        },
        {
          "output_type": "stream",
          "name": "stderr",
          "text": [
            "Train: 100%|██████████| 813/813 [00:23<00:00, 35.08it/s]\n",
            "Eval : 100%|██████████| 63/63 [00:01<00:00, 36.23it/s]\n",
            "Epoch 385\n"
          ]
        },
        {
          "output_type": "stream",
          "name": "stdout",
          "text": [
            "107.018\n"
          ]
        },
        {
          "output_type": "stream",
          "name": "stderr",
          "text": [
            "Train: 100%|██████████| 813/813 [00:29<00:00, 27.88it/s]\n",
            "Eval : 100%|██████████| 63/63 [00:01<00:00, 35.44it/s]\n",
            "Epoch 386\n"
          ]
        },
        {
          "output_type": "stream",
          "name": "stdout",
          "text": [
            "107.018\n"
          ]
        },
        {
          "output_type": "stream",
          "name": "stderr",
          "text": [
            "Train: 100%|██████████| 813/813 [00:23<00:00, 34.95it/s]\n",
            "Eval : 100%|██████████| 63/63 [00:01<00:00, 35.42it/s]\n",
            "Epoch 387\n"
          ]
        },
        {
          "output_type": "stream",
          "name": "stdout",
          "text": [
            "108.958\n"
          ]
        },
        {
          "output_type": "stream",
          "name": "stderr",
          "text": [
            "Train: 100%|██████████| 813/813 [00:29<00:00, 27.79it/s]\n",
            "Eval : 100%|██████████| 63/63 [00:01<00:00, 35.05it/s]\n",
            "Epoch 388\n"
          ]
        },
        {
          "output_type": "stream",
          "name": "stdout",
          "text": [
            "108.958\n"
          ]
        },
        {
          "output_type": "stream",
          "name": "stderr",
          "text": [
            "Train: 100%|██████████| 813/813 [00:23<00:00, 35.10it/s]\n",
            "Eval : 100%|██████████| 63/63 [00:01<00:00, 36.39it/s]\n",
            "Epoch 389\n"
          ]
        },
        {
          "output_type": "stream",
          "name": "stdout",
          "text": [
            "107.3\n"
          ]
        },
        {
          "output_type": "stream",
          "name": "stderr",
          "text": [
            "Train: 100%|██████████| 813/813 [00:28<00:00, 28.20it/s]\n",
            "Eval : 100%|██████████| 63/63 [00:01<00:00, 36.70it/s]\n",
            "Epoch 390\n"
          ]
        },
        {
          "output_type": "stream",
          "name": "stdout",
          "text": [
            "107.3\n"
          ]
        },
        {
          "output_type": "stream",
          "name": "stderr",
          "text": [
            "Train: 100%|██████████| 813/813 [00:23<00:00, 34.95it/s]\n",
            "Eval : 100%|██████████| 63/63 [00:01<00:00, 35.68it/s]\n",
            "Epoch 391\n"
          ]
        },
        {
          "output_type": "stream",
          "name": "stdout",
          "text": [
            "108.334\n"
          ]
        },
        {
          "output_type": "stream",
          "name": "stderr",
          "text": [
            "Train: 100%|██████████| 813/813 [00:29<00:00, 27.72it/s]\n",
            "Eval : 100%|██████████| 63/63 [00:01<00:00, 36.25it/s]\n",
            "Epoch 392\n"
          ]
        },
        {
          "output_type": "stream",
          "name": "stdout",
          "text": [
            "108.334\n"
          ]
        },
        {
          "output_type": "stream",
          "name": "stderr",
          "text": [
            "Train: 100%|██████████| 813/813 [00:23<00:00, 35.13it/s]\n",
            "Eval : 100%|██████████| 63/63 [00:01<00:00, 36.11it/s]\n",
            "Epoch 393\n"
          ]
        },
        {
          "output_type": "stream",
          "name": "stdout",
          "text": [
            "108.03\n"
          ]
        },
        {
          "output_type": "stream",
          "name": "stderr",
          "text": [
            "Train: 100%|██████████| 813/813 [00:29<00:00, 27.60it/s]\n",
            "Eval : 100%|██████████| 63/63 [00:01<00:00, 36.45it/s]\n",
            "Epoch 394\n"
          ]
        },
        {
          "output_type": "stream",
          "name": "stdout",
          "text": [
            "108.03\n"
          ]
        },
        {
          "output_type": "stream",
          "name": "stderr",
          "text": [
            "Train: 100%|██████████| 813/813 [00:23<00:00, 35.00it/s]\n",
            "Eval : 100%|██████████| 63/63 [00:01<00:00, 36.66it/s]\n",
            "Epoch 395\n"
          ]
        },
        {
          "output_type": "stream",
          "name": "stdout",
          "text": [
            "108.133\n"
          ]
        },
        {
          "output_type": "stream",
          "name": "stderr",
          "text": [
            "Train: 100%|██████████| 813/813 [00:29<00:00, 27.93it/s]\n",
            "Eval : 100%|██████████| 63/63 [00:01<00:00, 35.45it/s]\n",
            "Epoch 396\n"
          ]
        },
        {
          "output_type": "stream",
          "name": "stdout",
          "text": [
            "108.133\n"
          ]
        },
        {
          "output_type": "stream",
          "name": "stderr",
          "text": [
            "Train: 100%|██████████| 813/813 [00:23<00:00, 35.07it/s]\n",
            "Eval : 100%|██████████| 63/63 [00:01<00:00, 35.28it/s]\n",
            "Epoch 397\n"
          ]
        },
        {
          "output_type": "stream",
          "name": "stdout",
          "text": [
            "108.286\n"
          ]
        },
        {
          "output_type": "stream",
          "name": "stderr",
          "text": [
            "Train: 100%|██████████| 813/813 [00:28<00:00, 28.16it/s]\n",
            "Eval : 100%|██████████| 63/63 [00:01<00:00, 35.08it/s]\n",
            "Epoch 398\n"
          ]
        },
        {
          "output_type": "stream",
          "name": "stdout",
          "text": [
            "108.286\n"
          ]
        },
        {
          "output_type": "stream",
          "name": "stderr",
          "text": [
            "Train: 100%|██████████| 813/813 [00:23<00:00, 35.34it/s]\n",
            "Eval : 100%|██████████| 63/63 [00:01<00:00, 34.81it/s]\n",
            "Epoch 399\n"
          ]
        },
        {
          "output_type": "stream",
          "name": "stdout",
          "text": [
            "107.704\n"
          ]
        },
        {
          "output_type": "stream",
          "name": "stderr",
          "text": [
            "Train: 100%|██████████| 813/813 [00:29<00:00, 27.93it/s]\n",
            "Eval : 100%|██████████| 63/63 [00:01<00:00, 35.78it/s]\n",
            "Epoch 400\n"
          ]
        },
        {
          "output_type": "stream",
          "name": "stdout",
          "text": [
            "107.704\n"
          ]
        },
        {
          "output_type": "stream",
          "name": "stderr",
          "text": [
            "Train: 100%|██████████| 813/813 [00:23<00:00, 35.21it/s]\n",
            "Eval : 100%|██████████| 63/63 [00:01<00:00, 36.01it/s]\n",
            "Epoch 401\n"
          ]
        },
        {
          "output_type": "stream",
          "name": "stdout",
          "text": [
            "108.084\n"
          ]
        },
        {
          "output_type": "stream",
          "name": "stderr",
          "text": [
            "Train: 100%|██████████| 813/813 [00:28<00:00, 28.08it/s]\n",
            "Eval : 100%|██████████| 63/63 [00:01<00:00, 37.05it/s]\n",
            "Epoch 402\n"
          ]
        },
        {
          "output_type": "stream",
          "name": "stdout",
          "text": [
            "108.084\n"
          ]
        },
        {
          "output_type": "stream",
          "name": "stderr",
          "text": [
            "Train: 100%|██████████| 813/813 [00:23<00:00, 35.09it/s]\n",
            "Eval : 100%|██████████| 63/63 [00:01<00:00, 36.35it/s]\n",
            "Epoch 403\n"
          ]
        },
        {
          "output_type": "stream",
          "name": "stdout",
          "text": [
            "107.911\n"
          ]
        },
        {
          "output_type": "stream",
          "name": "stderr",
          "text": [
            "Train: 100%|██████████| 813/813 [00:29<00:00, 27.99it/s]\n",
            "Eval : 100%|██████████| 63/63 [00:01<00:00, 36.83it/s]\n",
            "Epoch 404\n"
          ]
        },
        {
          "output_type": "stream",
          "name": "stdout",
          "text": [
            "107.911\n"
          ]
        },
        {
          "output_type": "stream",
          "name": "stderr",
          "text": [
            "Train: 100%|██████████| 813/813 [00:23<00:00, 35.11it/s]\n",
            "Eval : 100%|██████████| 63/63 [00:01<00:00, 36.32it/s]\n",
            "Epoch 405\n"
          ]
        },
        {
          "output_type": "stream",
          "name": "stdout",
          "text": [
            "107.886\n"
          ]
        },
        {
          "output_type": "stream",
          "name": "stderr",
          "text": [
            "Train: 100%|██████████| 813/813 [00:29<00:00, 27.71it/s]\n",
            "Eval : 100%|██████████| 63/63 [00:01<00:00, 35.33it/s]\n",
            "Epoch 406\n"
          ]
        },
        {
          "output_type": "stream",
          "name": "stdout",
          "text": [
            "107.886\n"
          ]
        },
        {
          "output_type": "stream",
          "name": "stderr",
          "text": [
            "Train: 100%|██████████| 813/813 [00:23<00:00, 35.05it/s]\n",
            "Eval : 100%|██████████| 63/63 [00:01<00:00, 36.17it/s]\n",
            "Epoch 407\n"
          ]
        },
        {
          "output_type": "stream",
          "name": "stdout",
          "text": [
            "108.208\n"
          ]
        },
        {
          "output_type": "stream",
          "name": "stderr",
          "text": [
            "Train: 100%|██████████| 813/813 [00:28<00:00, 28.06it/s]\n",
            "Eval : 100%|██████████| 63/63 [00:01<00:00, 35.64it/s]\n",
            "Epoch 408\n"
          ]
        },
        {
          "output_type": "stream",
          "name": "stdout",
          "text": [
            "108.208\n"
          ]
        },
        {
          "output_type": "stream",
          "name": "stderr",
          "text": [
            "Train: 100%|██████████| 813/813 [00:23<00:00, 35.22it/s]\n",
            "Eval : 100%|██████████| 63/63 [00:01<00:00, 35.14it/s]\n",
            "Epoch 409\n"
          ]
        },
        {
          "output_type": "stream",
          "name": "stdout",
          "text": [
            "107.694\n"
          ]
        },
        {
          "output_type": "stream",
          "name": "stderr",
          "text": [
            "Train: 100%|██████████| 813/813 [00:29<00:00, 27.87it/s]\n",
            "Eval : 100%|██████████| 63/63 [00:01<00:00, 35.85it/s]\n",
            "Epoch 410\n"
          ]
        },
        {
          "output_type": "stream",
          "name": "stdout",
          "text": [
            "107.694\n"
          ]
        },
        {
          "output_type": "stream",
          "name": "stderr",
          "text": [
            "Train: 100%|██████████| 813/813 [00:23<00:00, 35.10it/s]\n",
            "Eval : 100%|██████████| 63/63 [00:01<00:00, 35.38it/s]\n",
            "Epoch 411\n"
          ]
        },
        {
          "output_type": "stream",
          "name": "stdout",
          "text": [
            "107.9\n"
          ]
        },
        {
          "output_type": "stream",
          "name": "stderr",
          "text": [
            "Train: 100%|██████████| 813/813 [00:29<00:00, 27.80it/s]\n",
            "Eval : 100%|██████████| 63/63 [00:01<00:00, 36.34it/s]\n",
            "Epoch 412\n"
          ]
        },
        {
          "output_type": "stream",
          "name": "stdout",
          "text": [
            "107.9\n"
          ]
        },
        {
          "output_type": "stream",
          "name": "stderr",
          "text": [
            "Train: 100%|██████████| 813/813 [00:23<00:00, 35.14it/s]\n",
            "Eval : 100%|██████████| 63/63 [00:01<00:00, 35.97it/s]\n",
            "Epoch 413\n"
          ]
        },
        {
          "output_type": "stream",
          "name": "stdout",
          "text": [
            "107.628\n"
          ]
        },
        {
          "output_type": "stream",
          "name": "stderr",
          "text": [
            "Train: 100%|██████████| 813/813 [00:29<00:00, 27.82it/s]\n",
            "Eval : 100%|██████████| 63/63 [00:01<00:00, 35.12it/s]\n",
            "Epoch 414\n"
          ]
        },
        {
          "output_type": "stream",
          "name": "stdout",
          "text": [
            "107.628\n"
          ]
        },
        {
          "output_type": "stream",
          "name": "stderr",
          "text": [
            "Train: 100%|██████████| 813/813 [00:23<00:00, 34.85it/s]\n",
            "Eval : 100%|██████████| 63/63 [00:01<00:00, 35.91it/s]\n",
            "Epoch 415\n"
          ]
        },
        {
          "output_type": "stream",
          "name": "stdout",
          "text": [
            "108.125\n"
          ]
        },
        {
          "output_type": "stream",
          "name": "stderr",
          "text": [
            "Train: 100%|██████████| 813/813 [00:29<00:00, 27.69it/s]\n",
            "Eval : 100%|██████████| 63/63 [00:01<00:00, 35.90it/s]\n",
            "Epoch 416\n"
          ]
        },
        {
          "output_type": "stream",
          "name": "stdout",
          "text": [
            "108.125\n"
          ]
        },
        {
          "output_type": "stream",
          "name": "stderr",
          "text": [
            "Train: 100%|██████████| 813/813 [00:23<00:00, 35.24it/s]\n",
            "Eval : 100%|██████████| 63/63 [00:01<00:00, 34.57it/s]\n",
            "Epoch 417\n"
          ]
        },
        {
          "output_type": "stream",
          "name": "stdout",
          "text": [
            "107.937\n"
          ]
        },
        {
          "output_type": "stream",
          "name": "stderr",
          "text": [
            "Train: 100%|██████████| 813/813 [00:28<00:00, 28.27it/s]\n",
            "Eval : 100%|██████████| 63/63 [00:01<00:00, 35.91it/s]\n",
            "Epoch 418\n"
          ]
        },
        {
          "output_type": "stream",
          "name": "stdout",
          "text": [
            "107.937\n"
          ]
        },
        {
          "output_type": "stream",
          "name": "stderr",
          "text": [
            "Train: 100%|██████████| 813/813 [00:23<00:00, 34.80it/s]\n",
            "Eval : 100%|██████████| 63/63 [00:01<00:00, 35.84it/s]\n",
            "Epoch 419\n"
          ]
        },
        {
          "output_type": "stream",
          "name": "stdout",
          "text": [
            "108.443\n"
          ]
        },
        {
          "output_type": "stream",
          "name": "stderr",
          "text": [
            "Train: 100%|██████████| 813/813 [00:28<00:00, 28.23it/s]\n",
            "Eval : 100%|██████████| 63/63 [00:01<00:00, 36.67it/s]\n",
            "Epoch 420\n"
          ]
        },
        {
          "output_type": "stream",
          "name": "stdout",
          "text": [
            "108.443\n"
          ]
        },
        {
          "output_type": "stream",
          "name": "stderr",
          "text": [
            "Train: 100%|██████████| 813/813 [00:22<00:00, 35.35it/s]\n",
            "Eval : 100%|██████████| 63/63 [00:01<00:00, 35.01it/s]\n",
            "Epoch 421\n"
          ]
        },
        {
          "output_type": "stream",
          "name": "stdout",
          "text": [
            "108.263\n"
          ]
        },
        {
          "output_type": "stream",
          "name": "stderr",
          "text": [
            "Train: 100%|██████████| 813/813 [00:28<00:00, 28.05it/s]\n",
            "Eval : 100%|██████████| 63/63 [00:01<00:00, 35.17it/s]\n",
            "Epoch 422\n"
          ]
        },
        {
          "output_type": "stream",
          "name": "stdout",
          "text": [
            "108.263\n"
          ]
        },
        {
          "output_type": "stream",
          "name": "stderr",
          "text": [
            "Train: 100%|██████████| 813/813 [00:23<00:00, 35.17it/s]\n",
            "Eval : 100%|██████████| 63/63 [00:01<00:00, 35.76it/s]\n",
            "Epoch 423\n"
          ]
        },
        {
          "output_type": "stream",
          "name": "stdout",
          "text": [
            "108.731\n"
          ]
        },
        {
          "output_type": "stream",
          "name": "stderr",
          "text": [
            "Train: 100%|██████████| 813/813 [00:29<00:00, 27.97it/s]\n",
            "Eval : 100%|██████████| 63/63 [00:01<00:00, 36.38it/s]\n",
            "Epoch 424\n"
          ]
        },
        {
          "output_type": "stream",
          "name": "stdout",
          "text": [
            "108.731\n"
          ]
        },
        {
          "output_type": "stream",
          "name": "stderr",
          "text": [
            "Train: 100%|██████████| 813/813 [00:23<00:00, 34.91it/s]\n",
            "Eval : 100%|██████████| 63/63 [00:01<00:00, 36.42it/s]\n",
            "Epoch 425\n"
          ]
        },
        {
          "output_type": "stream",
          "name": "stdout",
          "text": [
            "107.431\n"
          ]
        },
        {
          "output_type": "stream",
          "name": "stderr",
          "text": [
            "Train: 100%|██████████| 813/813 [00:28<00:00, 28.23it/s]\n",
            "Eval : 100%|██████████| 63/63 [00:01<00:00, 35.34it/s]\n",
            "Epoch 426\n"
          ]
        },
        {
          "output_type": "stream",
          "name": "stdout",
          "text": [
            "107.431\n"
          ]
        },
        {
          "output_type": "stream",
          "name": "stderr",
          "text": [
            "Train: 100%|██████████| 813/813 [00:23<00:00, 34.90it/s]\n",
            "Eval : 100%|██████████| 63/63 [00:01<00:00, 36.85it/s]\n",
            "Epoch 427\n"
          ]
        },
        {
          "output_type": "stream",
          "name": "stdout",
          "text": [
            "108.661\n"
          ]
        },
        {
          "output_type": "stream",
          "name": "stderr",
          "text": [
            "Train: 100%|██████████| 813/813 [00:28<00:00, 28.04it/s]\n",
            "Eval : 100%|██████████| 63/63 [00:01<00:00, 36.47it/s]\n",
            "Epoch 428\n"
          ]
        },
        {
          "output_type": "stream",
          "name": "stdout",
          "text": [
            "108.661\n"
          ]
        },
        {
          "output_type": "stream",
          "name": "stderr",
          "text": [
            "Train: 100%|██████████| 813/813 [00:23<00:00, 34.89it/s]\n",
            "Eval : 100%|██████████| 63/63 [00:01<00:00, 35.70it/s]\n",
            "Epoch 429\n"
          ]
        },
        {
          "output_type": "stream",
          "name": "stdout",
          "text": [
            "107.77\n"
          ]
        },
        {
          "output_type": "stream",
          "name": "stderr",
          "text": [
            "Train: 100%|██████████| 813/813 [00:29<00:00, 27.80it/s]\n",
            "Eval : 100%|██████████| 63/63 [00:01<00:00, 35.93it/s]\n",
            "Epoch 430\n"
          ]
        },
        {
          "output_type": "stream",
          "name": "stdout",
          "text": [
            "107.77\n"
          ]
        },
        {
          "output_type": "stream",
          "name": "stderr",
          "text": [
            "Train: 100%|██████████| 813/813 [00:23<00:00, 34.75it/s]\n",
            "Eval : 100%|██████████| 63/63 [00:01<00:00, 35.89it/s]\n",
            "Epoch 431\n"
          ]
        },
        {
          "output_type": "stream",
          "name": "stdout",
          "text": [
            "107.9\n"
          ]
        },
        {
          "output_type": "stream",
          "name": "stderr",
          "text": [
            "Train: 100%|██████████| 813/813 [00:29<00:00, 27.76it/s]\n",
            "Eval : 100%|██████████| 63/63 [00:01<00:00, 36.43it/s]\n",
            "Epoch 432\n"
          ]
        },
        {
          "output_type": "stream",
          "name": "stdout",
          "text": [
            "107.9\n"
          ]
        },
        {
          "output_type": "stream",
          "name": "stderr",
          "text": [
            "Train: 100%|██████████| 813/813 [00:22<00:00, 35.37it/s]\n",
            "Eval : 100%|██████████| 63/63 [00:01<00:00, 35.53it/s]\n",
            "Epoch 433\n"
          ]
        },
        {
          "output_type": "stream",
          "name": "stdout",
          "text": [
            "107.495\n"
          ]
        },
        {
          "output_type": "stream",
          "name": "stderr",
          "text": [
            "Train: 100%|██████████| 813/813 [00:28<00:00, 28.04it/s]\n",
            "Eval : 100%|██████████| 63/63 [00:01<00:00, 36.56it/s]\n",
            "Epoch 434\n"
          ]
        },
        {
          "output_type": "stream",
          "name": "stdout",
          "text": [
            "107.495\n"
          ]
        },
        {
          "output_type": "stream",
          "name": "stderr",
          "text": [
            "Train: 100%|██████████| 813/813 [00:23<00:00, 35.06it/s]\n",
            "Eval : 100%|██████████| 63/63 [00:01<00:00, 35.98it/s]\n",
            "Epoch 435\n"
          ]
        },
        {
          "output_type": "stream",
          "name": "stdout",
          "text": [
            "107.802\n"
          ]
        },
        {
          "output_type": "stream",
          "name": "stderr",
          "text": [
            "Train: 100%|██████████| 813/813 [00:29<00:00, 28.01it/s]\n",
            "Eval : 100%|██████████| 63/63 [00:01<00:00, 35.86it/s]\n",
            "Epoch 436\n"
          ]
        },
        {
          "output_type": "stream",
          "name": "stdout",
          "text": [
            "107.802\n"
          ]
        },
        {
          "output_type": "stream",
          "name": "stderr",
          "text": [
            "Train: 100%|██████████| 813/813 [00:22<00:00, 35.38it/s]\n",
            "Eval : 100%|██████████| 63/63 [00:01<00:00, 35.91it/s]\n",
            "Epoch 437\n"
          ]
        },
        {
          "output_type": "stream",
          "name": "stdout",
          "text": [
            "107.269\n"
          ]
        },
        {
          "output_type": "stream",
          "name": "stderr",
          "text": [
            "Train: 100%|██████████| 813/813 [00:29<00:00, 27.89it/s]\n",
            "Eval : 100%|██████████| 63/63 [00:01<00:00, 35.98it/s]\n",
            "Epoch 438\n"
          ]
        },
        {
          "output_type": "stream",
          "name": "stdout",
          "text": [
            "107.269\n"
          ]
        },
        {
          "output_type": "stream",
          "name": "stderr",
          "text": [
            "Train: 100%|██████████| 813/813 [00:23<00:00, 35.06it/s]\n",
            "Eval : 100%|██████████| 63/63 [00:01<00:00, 35.07it/s]\n",
            "Epoch 439\n"
          ]
        },
        {
          "output_type": "stream",
          "name": "stdout",
          "text": [
            "108.372\n"
          ]
        },
        {
          "output_type": "stream",
          "name": "stderr",
          "text": [
            "Train: 100%|██████████| 813/813 [00:29<00:00, 27.64it/s]\n",
            "Eval : 100%|██████████| 63/63 [00:01<00:00, 36.70it/s]\n",
            "Epoch 440\n"
          ]
        },
        {
          "output_type": "stream",
          "name": "stdout",
          "text": [
            "108.372\n"
          ]
        },
        {
          "output_type": "stream",
          "name": "stderr",
          "text": [
            "Train: 100%|██████████| 813/813 [00:23<00:00, 35.12it/s]\n",
            "Eval : 100%|██████████| 63/63 [00:01<00:00, 36.47it/s]\n",
            "Epoch 441\n"
          ]
        },
        {
          "output_type": "stream",
          "name": "stdout",
          "text": [
            "107.436\n"
          ]
        },
        {
          "output_type": "stream",
          "name": "stderr",
          "text": [
            "Train: 100%|██████████| 813/813 [00:29<00:00, 27.96it/s]\n",
            "Eval : 100%|██████████| 63/63 [00:01<00:00, 34.82it/s]\n",
            "Epoch 442\n"
          ]
        },
        {
          "output_type": "stream",
          "name": "stdout",
          "text": [
            "107.436\n"
          ]
        },
        {
          "output_type": "stream",
          "name": "stderr",
          "text": [
            "Train: 100%|██████████| 813/813 [00:23<00:00, 35.30it/s]\n",
            "Eval : 100%|██████████| 63/63 [00:01<00:00, 35.81it/s]\n",
            "Epoch 443\n"
          ]
        },
        {
          "output_type": "stream",
          "name": "stdout",
          "text": [
            "108.698\n"
          ]
        },
        {
          "output_type": "stream",
          "name": "stderr",
          "text": [
            "Train: 100%|██████████| 813/813 [00:28<00:00, 28.13it/s]\n",
            "Eval : 100%|██████████| 63/63 [00:01<00:00, 35.46it/s]\n",
            "Epoch 444\n"
          ]
        },
        {
          "output_type": "stream",
          "name": "stdout",
          "text": [
            "108.698\n"
          ]
        },
        {
          "output_type": "stream",
          "name": "stderr",
          "text": [
            "Train: 100%|██████████| 813/813 [00:23<00:00, 35.05it/s]\n",
            "Eval : 100%|██████████| 63/63 [00:01<00:00, 36.43it/s]\n",
            "Epoch 445\n"
          ]
        },
        {
          "output_type": "stream",
          "name": "stdout",
          "text": [
            "107.579\n"
          ]
        },
        {
          "output_type": "stream",
          "name": "stderr",
          "text": [
            "Train: 100%|██████████| 813/813 [00:29<00:00, 27.94it/s]\n",
            "Eval : 100%|██████████| 63/63 [00:01<00:00, 35.65it/s]\n",
            "Epoch 446\n"
          ]
        },
        {
          "output_type": "stream",
          "name": "stdout",
          "text": [
            "107.579\n"
          ]
        },
        {
          "output_type": "stream",
          "name": "stderr",
          "text": [
            "Train: 100%|██████████| 813/813 [00:23<00:00, 34.84it/s]\n",
            "Eval : 100%|██████████| 63/63 [00:01<00:00, 36.58it/s]\n",
            "Epoch 447\n"
          ]
        },
        {
          "output_type": "stream",
          "name": "stdout",
          "text": [
            "108.39\n"
          ]
        },
        {
          "output_type": "stream",
          "name": "stderr",
          "text": [
            "Train: 100%|██████████| 813/813 [00:28<00:00, 28.30it/s]\n",
            "Eval : 100%|██████████| 63/63 [00:01<00:00, 35.56it/s]\n",
            "Epoch 448\n"
          ]
        },
        {
          "output_type": "stream",
          "name": "stdout",
          "text": [
            "108.39\n"
          ]
        },
        {
          "output_type": "stream",
          "name": "stderr",
          "text": [
            "Train: 100%|██████████| 813/813 [00:23<00:00, 35.01it/s]\n",
            "Eval : 100%|██████████| 63/63 [00:01<00:00, 36.14it/s]\n",
            "Epoch 449\n"
          ]
        },
        {
          "output_type": "stream",
          "name": "stdout",
          "text": [
            "107.142\n"
          ]
        },
        {
          "output_type": "stream",
          "name": "stderr",
          "text": [
            "Train: 100%|██████████| 813/813 [00:28<00:00, 28.20it/s]\n",
            "Eval : 100%|██████████| 63/63 [00:01<00:00, 36.59it/s]\n",
            "Epoch 450\n"
          ]
        },
        {
          "output_type": "stream",
          "name": "stdout",
          "text": [
            "107.142\n"
          ]
        },
        {
          "output_type": "stream",
          "name": "stderr",
          "text": [
            "Train: 100%|██████████| 813/813 [00:23<00:00, 34.77it/s]\n",
            "Eval : 100%|██████████| 63/63 [00:01<00:00, 36.51it/s]\n",
            "Epoch 451\n"
          ]
        },
        {
          "output_type": "stream",
          "name": "stdout",
          "text": [
            "108.34\n"
          ]
        },
        {
          "output_type": "stream",
          "name": "stderr",
          "text": [
            "Train: 100%|██████████| 813/813 [00:29<00:00, 28.02it/s]\n",
            "Eval : 100%|██████████| 63/63 [00:01<00:00, 35.97it/s]\n",
            "Epoch 452\n"
          ]
        },
        {
          "output_type": "stream",
          "name": "stdout",
          "text": [
            "108.34\n"
          ]
        },
        {
          "output_type": "stream",
          "name": "stderr",
          "text": [
            "Train: 100%|██████████| 813/813 [00:23<00:00, 35.07it/s]\n",
            "Eval : 100%|██████████| 63/63 [00:01<00:00, 35.72it/s]\n",
            "Epoch 453\n"
          ]
        },
        {
          "output_type": "stream",
          "name": "stdout",
          "text": [
            "107.563\n"
          ]
        },
        {
          "output_type": "stream",
          "name": "stderr",
          "text": [
            "Train: 100%|██████████| 813/813 [00:28<00:00, 28.22it/s]\n",
            "Eval : 100%|██████████| 63/63 [00:01<00:00, 36.02it/s]\n",
            "Epoch 454\n"
          ]
        },
        {
          "output_type": "stream",
          "name": "stdout",
          "text": [
            "107.563\n"
          ]
        },
        {
          "output_type": "stream",
          "name": "stderr",
          "text": [
            "Train: 100%|██████████| 813/813 [00:23<00:00, 34.93it/s]\n",
            "Eval : 100%|██████████| 63/63 [00:01<00:00, 35.87it/s]\n",
            "Epoch 455\n"
          ]
        },
        {
          "output_type": "stream",
          "name": "stdout",
          "text": [
            "107.589\n"
          ]
        },
        {
          "output_type": "stream",
          "name": "stderr",
          "text": [
            "Train: 100%|██████████| 813/813 [00:28<00:00, 28.23it/s]\n",
            "Eval : 100%|██████████| 63/63 [00:01<00:00, 35.66it/s]\n",
            "Epoch 456\n"
          ]
        },
        {
          "output_type": "stream",
          "name": "stdout",
          "text": [
            "107.589\n"
          ]
        },
        {
          "output_type": "stream",
          "name": "stderr",
          "text": [
            "Train: 100%|██████████| 813/813 [00:23<00:00, 35.05it/s]\n",
            "Eval : 100%|██████████| 63/63 [00:01<00:00, 35.48it/s]\n",
            "Epoch 457\n"
          ]
        },
        {
          "output_type": "stream",
          "name": "stdout",
          "text": [
            "108.245\n"
          ]
        },
        {
          "output_type": "stream",
          "name": "stderr",
          "text": [
            "Train: 100%|██████████| 813/813 [00:29<00:00, 27.91it/s]\n",
            "Eval : 100%|██████████| 63/63 [00:01<00:00, 36.03it/s]\n",
            "Epoch 458\n"
          ]
        },
        {
          "output_type": "stream",
          "name": "stdout",
          "text": [
            "108.245\n"
          ]
        },
        {
          "output_type": "stream",
          "name": "stderr",
          "text": [
            "Train: 100%|██████████| 813/813 [00:23<00:00, 34.96it/s]\n",
            "Eval : 100%|██████████| 63/63 [00:01<00:00, 34.42it/s]\n",
            "Epoch 459\n"
          ]
        },
        {
          "output_type": "stream",
          "name": "stdout",
          "text": [
            "107.413\n"
          ]
        },
        {
          "output_type": "stream",
          "name": "stderr",
          "text": [
            "Train: 100%|██████████| 813/813 [00:29<00:00, 27.59it/s]\n",
            "Eval : 100%|██████████| 63/63 [00:01<00:00, 36.41it/s]\n",
            "Epoch 460\n"
          ]
        },
        {
          "output_type": "stream",
          "name": "stdout",
          "text": [
            "107.413\n"
          ]
        },
        {
          "output_type": "stream",
          "name": "stderr",
          "text": [
            "Train: 100%|██████████| 813/813 [00:23<00:00, 35.02it/s]\n",
            "Eval : 100%|██████████| 63/63 [00:01<00:00, 35.73it/s]\n",
            "Epoch 461\n"
          ]
        },
        {
          "output_type": "stream",
          "name": "stdout",
          "text": [
            "108.161\n"
          ]
        },
        {
          "output_type": "stream",
          "name": "stderr",
          "text": [
            "Train: 100%|██████████| 813/813 [00:29<00:00, 27.64it/s]\n",
            "Eval : 100%|██████████| 63/63 [00:01<00:00, 36.64it/s]\n",
            "Epoch 462\n"
          ]
        },
        {
          "output_type": "stream",
          "name": "stdout",
          "text": [
            "108.161\n"
          ]
        },
        {
          "output_type": "stream",
          "name": "stderr",
          "text": [
            "Train: 100%|██████████| 813/813 [00:23<00:00, 35.25it/s]\n",
            "Eval : 100%|██████████| 63/63 [00:01<00:00, 36.61it/s]\n",
            "Epoch 463\n"
          ]
        },
        {
          "output_type": "stream",
          "name": "stdout",
          "text": [
            "108.046\n"
          ]
        },
        {
          "output_type": "stream",
          "name": "stderr",
          "text": [
            "Train: 100%|██████████| 813/813 [00:29<00:00, 27.76it/s]\n",
            "Eval : 100%|██████████| 63/63 [00:01<00:00, 36.11it/s]\n",
            "Epoch 464\n"
          ]
        },
        {
          "output_type": "stream",
          "name": "stdout",
          "text": [
            "108.046\n"
          ]
        },
        {
          "output_type": "stream",
          "name": "stderr",
          "text": [
            "Train: 100%|██████████| 813/813 [00:23<00:00, 35.21it/s]\n",
            "Eval : 100%|██████████| 63/63 [00:01<00:00, 36.19it/s]\n",
            "Epoch 465\n"
          ]
        },
        {
          "output_type": "stream",
          "name": "stdout",
          "text": [
            "107.629\n"
          ]
        },
        {
          "output_type": "stream",
          "name": "stderr",
          "text": [
            "Train: 100%|██████████| 813/813 [00:28<00:00, 28.06it/s]\n",
            "Eval : 100%|██████████| 63/63 [00:01<00:00, 34.88it/s]\n",
            "Epoch 466\n"
          ]
        },
        {
          "output_type": "stream",
          "name": "stdout",
          "text": [
            "107.629\n"
          ]
        },
        {
          "output_type": "stream",
          "name": "stderr",
          "text": [
            "Train: 100%|██████████| 813/813 [00:23<00:00, 35.19it/s]\n",
            "Eval : 100%|██████████| 63/63 [00:01<00:00, 36.07it/s]\n",
            "Epoch 467\n"
          ]
        },
        {
          "output_type": "stream",
          "name": "stdout",
          "text": [
            "108.783\n"
          ]
        },
        {
          "output_type": "stream",
          "name": "stderr",
          "text": [
            "Train: 100%|██████████| 813/813 [00:29<00:00, 28.00it/s]\n",
            "Eval : 100%|██████████| 63/63 [00:01<00:00, 36.39it/s]\n",
            "Epoch 468\n"
          ]
        },
        {
          "output_type": "stream",
          "name": "stdout",
          "text": [
            "108.783\n"
          ]
        },
        {
          "output_type": "stream",
          "name": "stderr",
          "text": [
            "Train: 100%|██████████| 813/813 [00:22<00:00, 35.60it/s]\n",
            "Eval : 100%|██████████| 63/63 [00:01<00:00, 35.86it/s]\n",
            "Epoch 469\n"
          ]
        },
        {
          "output_type": "stream",
          "name": "stdout",
          "text": [
            "107.416\n"
          ]
        },
        {
          "output_type": "stream",
          "name": "stderr",
          "text": [
            "Train: 100%|██████████| 813/813 [00:28<00:00, 28.09it/s]\n",
            "Eval : 100%|██████████| 63/63 [00:01<00:00, 35.37it/s]\n",
            "Epoch 470\n"
          ]
        },
        {
          "output_type": "stream",
          "name": "stdout",
          "text": [
            "107.416\n"
          ]
        },
        {
          "output_type": "stream",
          "name": "stderr",
          "text": [
            "Train: 100%|██████████| 813/813 [00:22<00:00, 35.53it/s]\n",
            "Eval : 100%|██████████| 63/63 [00:01<00:00, 35.93it/s]\n",
            "Epoch 471\n"
          ]
        },
        {
          "output_type": "stream",
          "name": "stdout",
          "text": [
            "108.009\n"
          ]
        },
        {
          "output_type": "stream",
          "name": "stderr",
          "text": [
            "Train: 100%|██████████| 813/813 [00:28<00:00, 28.10it/s]\n",
            "Eval : 100%|██████████| 63/63 [00:01<00:00, 35.76it/s]\n",
            "Epoch 472\n"
          ]
        },
        {
          "output_type": "stream",
          "name": "stdout",
          "text": [
            "108.009\n"
          ]
        },
        {
          "output_type": "stream",
          "name": "stderr",
          "text": [
            "Train: 100%|██████████| 813/813 [00:23<00:00, 35.08it/s]\n",
            "Eval : 100%|██████████| 63/63 [00:01<00:00, 36.89it/s]\n",
            "Epoch 473\n"
          ]
        },
        {
          "output_type": "stream",
          "name": "stdout",
          "text": [
            "107.257\n"
          ]
        },
        {
          "output_type": "stream",
          "name": "stderr",
          "text": [
            "Train: 100%|██████████| 813/813 [00:28<00:00, 28.39it/s]\n",
            "Eval : 100%|██████████| 63/63 [00:01<00:00, 36.13it/s]\n",
            "Epoch 474\n"
          ]
        },
        {
          "output_type": "stream",
          "name": "stdout",
          "text": [
            "107.257\n"
          ]
        },
        {
          "output_type": "stream",
          "name": "stderr",
          "text": [
            "Train: 100%|██████████| 813/813 [00:23<00:00, 35.04it/s]\n",
            "Eval : 100%|██████████| 63/63 [00:01<00:00, 36.73it/s]\n",
            "Epoch 475\n"
          ]
        },
        {
          "output_type": "stream",
          "name": "stdout",
          "text": [
            "107.627\n"
          ]
        },
        {
          "output_type": "stream",
          "name": "stderr",
          "text": [
            "Train: 100%|██████████| 813/813 [00:28<00:00, 28.22it/s]\n",
            "Eval : 100%|██████████| 63/63 [00:01<00:00, 36.31it/s]\n",
            "Epoch 476\n"
          ]
        },
        {
          "output_type": "stream",
          "name": "stdout",
          "text": [
            "107.627\n"
          ]
        },
        {
          "output_type": "stream",
          "name": "stderr",
          "text": [
            "Train: 100%|██████████| 813/813 [00:23<00:00, 34.72it/s]\n",
            "Eval : 100%|██████████| 63/63 [00:01<00:00, 35.97it/s]\n",
            "Epoch 477\n"
          ]
        },
        {
          "output_type": "stream",
          "name": "stdout",
          "text": [
            "107.427\n"
          ]
        },
        {
          "output_type": "stream",
          "name": "stderr",
          "text": [
            "Train: 100%|██████████| 813/813 [00:29<00:00, 28.00it/s]\n",
            "Eval : 100%|██████████| 63/63 [00:01<00:00, 36.51it/s]\n",
            "Epoch 478\n"
          ]
        },
        {
          "output_type": "stream",
          "name": "stdout",
          "text": [
            "107.427\n"
          ]
        },
        {
          "output_type": "stream",
          "name": "stderr",
          "text": [
            "Train: 100%|██████████| 813/813 [00:23<00:00, 34.81it/s]\n",
            "Eval : 100%|██████████| 63/63 [00:01<00:00, 35.67it/s]\n",
            "Epoch 479\n"
          ]
        },
        {
          "output_type": "stream",
          "name": "stdout",
          "text": [
            "108.005\n"
          ]
        },
        {
          "output_type": "stream",
          "name": "stderr",
          "text": [
            "Train: 100%|██████████| 813/813 [00:29<00:00, 28.01it/s]\n",
            "Eval : 100%|██████████| 63/63 [00:01<00:00, 36.37it/s]\n",
            "Epoch 480\n"
          ]
        },
        {
          "output_type": "stream",
          "name": "stdout",
          "text": [
            "108.005\n"
          ]
        },
        {
          "output_type": "stream",
          "name": "stderr",
          "text": [
            "Train: 100%|██████████| 813/813 [00:23<00:00, 35.10it/s]\n",
            "Eval : 100%|██████████| 63/63 [00:01<00:00, 35.86it/s]\n",
            "Epoch 481\n"
          ]
        },
        {
          "output_type": "stream",
          "name": "stdout",
          "text": [
            "108.149\n"
          ]
        },
        {
          "output_type": "stream",
          "name": "stderr",
          "text": [
            "Train: 100%|██████████| 813/813 [00:28<00:00, 28.23it/s]\n",
            "Eval : 100%|██████████| 63/63 [00:01<00:00, 36.04it/s]\n",
            "Epoch 482\n"
          ]
        },
        {
          "output_type": "stream",
          "name": "stdout",
          "text": [
            "108.149\n"
          ]
        },
        {
          "output_type": "stream",
          "name": "stderr",
          "text": [
            "Train: 100%|██████████| 813/813 [00:22<00:00, 35.48it/s]\n",
            "Eval : 100%|██████████| 63/63 [00:01<00:00, 34.37it/s]\n",
            "Epoch 483\n"
          ]
        },
        {
          "output_type": "stream",
          "name": "stdout",
          "text": [
            "108.163\n"
          ]
        },
        {
          "output_type": "stream",
          "name": "stderr",
          "text": [
            "Train: 100%|██████████| 813/813 [00:29<00:00, 27.92it/s]\n",
            "Eval : 100%|██████████| 63/63 [00:01<00:00, 35.60it/s]\n",
            "Epoch 484\n"
          ]
        },
        {
          "output_type": "stream",
          "name": "stdout",
          "text": [
            "108.163\n"
          ]
        },
        {
          "output_type": "stream",
          "name": "stderr",
          "text": [
            "Train: 100%|██████████| 813/813 [00:22<00:00, 35.37it/s]\n",
            "Eval : 100%|██████████| 63/63 [00:01<00:00, 35.82it/s]\n",
            "Epoch 485\n"
          ]
        },
        {
          "output_type": "stream",
          "name": "stdout",
          "text": [
            "107.003\n"
          ]
        },
        {
          "output_type": "stream",
          "name": "stderr",
          "text": [
            "Train: 100%|██████████| 813/813 [00:28<00:00, 28.20it/s]\n",
            "Eval : 100%|██████████| 63/63 [00:01<00:00, 36.95it/s]\n",
            "Epoch 486\n"
          ]
        },
        {
          "output_type": "stream",
          "name": "stdout",
          "text": [
            "107.003\n"
          ]
        },
        {
          "output_type": "stream",
          "name": "stderr",
          "text": [
            "Train: 100%|██████████| 813/813 [00:22<00:00, 35.46it/s]\n",
            "Eval : 100%|██████████| 63/63 [00:01<00:00, 35.95it/s]\n",
            "Epoch 487\n"
          ]
        },
        {
          "output_type": "stream",
          "name": "stdout",
          "text": [
            "107.639\n"
          ]
        },
        {
          "output_type": "stream",
          "name": "stderr",
          "text": [
            "Train: 100%|██████████| 813/813 [00:29<00:00, 27.87it/s]\n",
            "Eval : 100%|██████████| 63/63 [00:01<00:00, 36.61it/s]\n",
            "Epoch 488\n"
          ]
        },
        {
          "output_type": "stream",
          "name": "stdout",
          "text": [
            "107.639\n"
          ]
        },
        {
          "output_type": "stream",
          "name": "stderr",
          "text": [
            "Train: 100%|██████████| 813/813 [00:23<00:00, 35.32it/s]\n",
            "Eval : 100%|██████████| 63/63 [00:01<00:00, 36.33it/s]\n",
            "Epoch 489\n"
          ]
        },
        {
          "output_type": "stream",
          "name": "stdout",
          "text": [
            "107.469\n"
          ]
        },
        {
          "output_type": "stream",
          "name": "stderr",
          "text": [
            "Train: 100%|██████████| 813/813 [00:28<00:00, 28.08it/s]\n",
            "Eval : 100%|██████████| 63/63 [00:01<00:00, 36.98it/s]\n",
            "Epoch 490\n"
          ]
        },
        {
          "output_type": "stream",
          "name": "stdout",
          "text": [
            "107.469\n"
          ]
        },
        {
          "output_type": "stream",
          "name": "stderr",
          "text": [
            "Train: 100%|██████████| 813/813 [00:23<00:00, 35.34it/s]\n",
            "Eval : 100%|██████████| 63/63 [00:01<00:00, 36.33it/s]\n",
            "Epoch 491\n"
          ]
        },
        {
          "output_type": "stream",
          "name": "stdout",
          "text": [
            "108.637\n"
          ]
        },
        {
          "output_type": "stream",
          "name": "stderr",
          "text": [
            "Train: 100%|██████████| 813/813 [00:29<00:00, 27.82it/s]\n",
            "Eval : 100%|██████████| 63/63 [00:01<00:00, 36.01it/s]\n",
            "Epoch 492\n"
          ]
        },
        {
          "output_type": "stream",
          "name": "stdout",
          "text": [
            "108.637\n"
          ]
        },
        {
          "output_type": "stream",
          "name": "stderr",
          "text": [
            "Train: 100%|██████████| 813/813 [00:22<00:00, 35.37it/s]\n",
            "Eval : 100%|██████████| 63/63 [00:01<00:00, 36.44it/s]\n",
            "Epoch 493\n"
          ]
        },
        {
          "output_type": "stream",
          "name": "stdout",
          "text": [
            "108.12\n"
          ]
        },
        {
          "output_type": "stream",
          "name": "stderr",
          "text": [
            "Train: 100%|██████████| 813/813 [00:29<00:00, 27.97it/s]\n",
            "Eval : 100%|██████████| 63/63 [00:01<00:00, 35.75it/s]\n",
            "Epoch 494\n"
          ]
        },
        {
          "output_type": "stream",
          "name": "stdout",
          "text": [
            "108.12\n"
          ]
        },
        {
          "output_type": "stream",
          "name": "stderr",
          "text": [
            "Train: 100%|██████████| 813/813 [00:23<00:00, 35.31it/s]\n",
            "Eval : 100%|██████████| 63/63 [00:01<00:00, 36.31it/s]\n",
            "Epoch 495\n"
          ]
        },
        {
          "output_type": "stream",
          "name": "stdout",
          "text": [
            "108.072\n"
          ]
        },
        {
          "output_type": "stream",
          "name": "stderr",
          "text": [
            "Train: 100%|██████████| 813/813 [00:29<00:00, 27.97it/s]\n",
            "Eval : 100%|██████████| 63/63 [00:01<00:00, 35.25it/s]\n",
            "Epoch 496\n"
          ]
        },
        {
          "output_type": "stream",
          "name": "stdout",
          "text": [
            "108.072\n"
          ]
        },
        {
          "output_type": "stream",
          "name": "stderr",
          "text": [
            "Train: 100%|██████████| 813/813 [00:23<00:00, 35.31it/s]\n",
            "Eval : 100%|██████████| 63/63 [00:01<00:00, 34.83it/s]\n",
            "Epoch 497\n"
          ]
        },
        {
          "output_type": "stream",
          "name": "stdout",
          "text": [
            "108.8\n"
          ]
        },
        {
          "output_type": "stream",
          "name": "stderr",
          "text": [
            "Train: 100%|██████████| 813/813 [00:29<00:00, 27.94it/s]\n",
            "Eval : 100%|██████████| 63/63 [00:01<00:00, 34.40it/s]\n",
            "Epoch 498\n"
          ]
        },
        {
          "output_type": "stream",
          "name": "stdout",
          "text": [
            "108.8\n"
          ]
        },
        {
          "output_type": "stream",
          "name": "stderr",
          "text": [
            "Train: 100%|██████████| 813/813 [00:23<00:00, 34.92it/s]\n",
            "Eval : 100%|██████████| 63/63 [00:01<00:00, 36.09it/s]\n",
            "Epoch 499\n"
          ]
        },
        {
          "output_type": "stream",
          "name": "stdout",
          "text": [
            "108.126\n"
          ]
        },
        {
          "output_type": "stream",
          "name": "stderr",
          "text": [
            "Train: 100%|██████████| 813/813 [00:29<00:00, 28.02it/s]\n",
            "Eval : 100%|██████████| 63/63 [00:01<00:00, 36.38it/s]\n",
            "Epoch 500\n"
          ]
        },
        {
          "output_type": "stream",
          "name": "stdout",
          "text": [
            "108.126\n"
          ]
        },
        {
          "output_type": "stream",
          "name": "stderr",
          "text": [
            "Train: 100%|██████████| 813/813 [00:23<00:00, 34.86it/s]\n",
            "Eval : 100%|██████████| 63/63 [00:01<00:00, 36.80it/s]\n",
            "Epoch 501\n"
          ]
        },
        {
          "output_type": "stream",
          "name": "stdout",
          "text": [
            "108.83\n"
          ]
        },
        {
          "output_type": "stream",
          "name": "stderr",
          "text": [
            "Train: 100%|██████████| 813/813 [00:29<00:00, 27.69it/s]\n",
            "Eval : 100%|██████████| 63/63 [00:01<00:00, 35.49it/s]\n",
            "Epoch 502\n"
          ]
        },
        {
          "output_type": "stream",
          "name": "stdout",
          "text": [
            "108.83\n"
          ]
        },
        {
          "output_type": "stream",
          "name": "stderr",
          "text": [
            "Train: 100%|██████████| 813/813 [00:23<00:00, 34.86it/s]\n",
            "Eval : 100%|██████████| 63/63 [00:01<00:00, 36.33it/s]\n",
            "Epoch 503\n"
          ]
        },
        {
          "output_type": "stream",
          "name": "stdout",
          "text": [
            "107.647\n"
          ]
        },
        {
          "output_type": "stream",
          "name": "stderr",
          "text": [
            "Train: 100%|██████████| 813/813 [00:28<00:00, 28.33it/s]\n",
            "Eval : 100%|██████████| 63/63 [00:01<00:00, 34.13it/s]\n",
            "Epoch 504\n"
          ]
        },
        {
          "output_type": "stream",
          "name": "stdout",
          "text": [
            "107.647\n"
          ]
        },
        {
          "output_type": "stream",
          "name": "stderr",
          "text": [
            "Train: 100%|██████████| 813/813 [00:23<00:00, 34.69it/s]\n",
            "Eval : 100%|██████████| 63/63 [00:01<00:00, 35.84it/s]\n",
            "Epoch 505\n"
          ]
        },
        {
          "output_type": "stream",
          "name": "stdout",
          "text": [
            "108.833\n"
          ]
        },
        {
          "output_type": "stream",
          "name": "stderr",
          "text": [
            "Train: 100%|██████████| 813/813 [00:29<00:00, 27.91it/s]\n",
            "Eval : 100%|██████████| 63/63 [00:01<00:00, 35.45it/s]\n",
            "Epoch 506\n"
          ]
        },
        {
          "output_type": "stream",
          "name": "stdout",
          "text": [
            "108.833\n"
          ]
        },
        {
          "output_type": "stream",
          "name": "stderr",
          "text": [
            "Train: 100%|██████████| 813/813 [00:23<00:00, 35.10it/s]\n",
            "Eval : 100%|██████████| 63/63 [00:01<00:00, 33.80it/s]\n",
            "Epoch 507\n"
          ]
        },
        {
          "output_type": "stream",
          "name": "stdout",
          "text": [
            "107.445\n"
          ]
        },
        {
          "output_type": "stream",
          "name": "stderr",
          "text": [
            "Train: 100%|██████████| 813/813 [00:28<00:00, 28.18it/s]\n",
            "Eval : 100%|██████████| 63/63 [00:01<00:00, 36.71it/s]\n",
            "Epoch 508\n"
          ]
        },
        {
          "output_type": "stream",
          "name": "stdout",
          "text": [
            "107.445\n"
          ]
        },
        {
          "output_type": "stream",
          "name": "stderr",
          "text": [
            "Train: 100%|██████████| 813/813 [00:23<00:00, 35.31it/s]\n",
            "Eval : 100%|██████████| 63/63 [00:01<00:00, 35.76it/s]\n",
            "Epoch 509\n"
          ]
        },
        {
          "output_type": "stream",
          "name": "stdout",
          "text": [
            "107.544\n"
          ]
        },
        {
          "output_type": "stream",
          "name": "stderr",
          "text": [
            "Train: 100%|██████████| 813/813 [00:29<00:00, 27.99it/s]\n",
            "Eval : 100%|██████████| 63/63 [00:01<00:00, 36.73it/s]\n",
            "Epoch 510\n"
          ]
        },
        {
          "output_type": "stream",
          "name": "stdout",
          "text": [
            "107.544\n"
          ]
        },
        {
          "output_type": "stream",
          "name": "stderr",
          "text": [
            "Train: 100%|██████████| 813/813 [00:22<00:00, 35.53it/s]\n",
            "Eval : 100%|██████████| 63/63 [00:01<00:00, 35.14it/s]\n",
            "Epoch 511\n"
          ]
        },
        {
          "output_type": "stream",
          "name": "stdout",
          "text": [
            "106.993\n"
          ]
        },
        {
          "output_type": "stream",
          "name": "stderr",
          "text": [
            "Train: 100%|██████████| 813/813 [00:28<00:00, 28.07it/s]\n",
            "Eval : 100%|██████████| 63/63 [00:01<00:00, 36.30it/s]\n",
            "Epoch 512\n"
          ]
        },
        {
          "output_type": "stream",
          "name": "stdout",
          "text": [
            "106.993\n"
          ]
        },
        {
          "output_type": "stream",
          "name": "stderr",
          "text": [
            "Train: 100%|██████████| 813/813 [00:22<00:00, 35.37it/s]\n",
            "Eval : 100%|██████████| 63/63 [00:01<00:00, 37.02it/s]\n",
            "Epoch 513\n"
          ]
        },
        {
          "output_type": "stream",
          "name": "stdout",
          "text": [
            "108.979\n"
          ]
        },
        {
          "output_type": "stream",
          "name": "stderr",
          "text": [
            "Train: 100%|██████████| 813/813 [00:29<00:00, 27.88it/s]\n",
            "Eval : 100%|██████████| 63/63 [00:01<00:00, 36.02it/s]\n",
            "Epoch 514\n"
          ]
        },
        {
          "output_type": "stream",
          "name": "stdout",
          "text": [
            "108.979\n"
          ]
        },
        {
          "output_type": "stream",
          "name": "stderr",
          "text": [
            "Train: 100%|██████████| 813/813 [00:23<00:00, 35.32it/s]\n",
            "Eval : 100%|██████████| 63/63 [00:01<00:00, 36.03it/s]\n",
            "Epoch 515\n"
          ]
        },
        {
          "output_type": "stream",
          "name": "stdout",
          "text": [
            "107.854\n"
          ]
        },
        {
          "output_type": "stream",
          "name": "stderr",
          "text": [
            "Train: 100%|██████████| 813/813 [00:28<00:00, 28.24it/s]\n",
            "Eval : 100%|██████████| 63/63 [00:01<00:00, 36.32it/s]\n",
            "Epoch 516\n"
          ]
        },
        {
          "output_type": "stream",
          "name": "stdout",
          "text": [
            "107.854\n"
          ]
        },
        {
          "output_type": "stream",
          "name": "stderr",
          "text": [
            "Train: 100%|██████████| 813/813 [00:22<00:00, 35.41it/s]\n",
            "Eval : 100%|██████████| 63/63 [00:01<00:00, 35.57it/s]\n",
            "Epoch 517\n"
          ]
        },
        {
          "output_type": "stream",
          "name": "stdout",
          "text": [
            "108.356\n"
          ]
        },
        {
          "output_type": "stream",
          "name": "stderr",
          "text": [
            "Train: 100%|██████████| 813/813 [00:29<00:00, 27.77it/s]\n",
            "Eval : 100%|██████████| 63/63 [00:01<00:00, 36.65it/s]\n",
            "Epoch 518\n"
          ]
        },
        {
          "output_type": "stream",
          "name": "stdout",
          "text": [
            "108.356\n"
          ]
        },
        {
          "output_type": "stream",
          "name": "stderr",
          "text": [
            "Train: 100%|██████████| 813/813 [00:22<00:00, 35.67it/s]\n",
            "Eval : 100%|██████████| 63/63 [00:01<00:00, 35.78it/s]\n",
            "Epoch 519\n"
          ]
        },
        {
          "output_type": "stream",
          "name": "stdout",
          "text": [
            "107.987\n"
          ]
        },
        {
          "output_type": "stream",
          "name": "stderr",
          "text": [
            "Train: 100%|██████████| 813/813 [00:28<00:00, 28.07it/s]\n",
            "Eval : 100%|██████████| 63/63 [00:01<00:00, 34.41it/s]\n",
            "Epoch 520\n"
          ]
        },
        {
          "output_type": "stream",
          "name": "stdout",
          "text": [
            "107.987\n"
          ]
        },
        {
          "output_type": "stream",
          "name": "stderr",
          "text": [
            "Train: 100%|██████████| 813/813 [00:23<00:00, 35.32it/s]\n",
            "Eval : 100%|██████████| 63/63 [00:01<00:00, 36.22it/s]\n",
            "Epoch 521\n"
          ]
        },
        {
          "output_type": "stream",
          "name": "stdout",
          "text": [
            "108.022\n"
          ]
        },
        {
          "output_type": "stream",
          "name": "stderr",
          "text": [
            "Train: 100%|██████████| 813/813 [00:29<00:00, 27.78it/s]\n",
            "Eval : 100%|██████████| 63/63 [00:01<00:00, 36.00it/s]\n",
            "Epoch 522\n"
          ]
        },
        {
          "output_type": "stream",
          "name": "stdout",
          "text": [
            "108.022\n"
          ]
        },
        {
          "output_type": "stream",
          "name": "stderr",
          "text": [
            "Train: 100%|██████████| 813/813 [00:23<00:00, 35.17it/s]\n",
            "Eval : 100%|██████████| 63/63 [00:01<00:00, 35.98it/s]\n",
            "Epoch 523\n"
          ]
        },
        {
          "output_type": "stream",
          "name": "stdout",
          "text": [
            "108.195\n"
          ]
        },
        {
          "output_type": "stream",
          "name": "stderr",
          "text": [
            "Train: 100%|██████████| 813/813 [00:28<00:00, 28.25it/s]\n",
            "Eval : 100%|██████████| 63/63 [00:01<00:00, 36.41it/s]\n",
            "Epoch 524\n"
          ]
        },
        {
          "output_type": "stream",
          "name": "stdout",
          "text": [
            "108.195\n"
          ]
        },
        {
          "output_type": "stream",
          "name": "stderr",
          "text": [
            "Train: 100%|██████████| 813/813 [00:23<00:00, 35.25it/s]\n",
            "Eval : 100%|██████████| 63/63 [00:01<00:00, 35.99it/s]\n",
            "Epoch 525\n"
          ]
        },
        {
          "output_type": "stream",
          "name": "stdout",
          "text": [
            "108.225\n"
          ]
        },
        {
          "output_type": "stream",
          "name": "stderr",
          "text": [
            "Train: 100%|██████████| 813/813 [00:29<00:00, 27.92it/s]\n",
            "Eval : 100%|██████████| 63/63 [00:01<00:00, 35.29it/s]\n",
            "Epoch 526\n"
          ]
        },
        {
          "output_type": "stream",
          "name": "stdout",
          "text": [
            "108.225\n"
          ]
        },
        {
          "output_type": "stream",
          "name": "stderr",
          "text": [
            "Train: 100%|██████████| 813/813 [00:23<00:00, 35.19it/s]\n",
            "Eval : 100%|██████████| 63/63 [00:01<00:00, 36.26it/s]\n",
            "Epoch 527\n"
          ]
        },
        {
          "output_type": "stream",
          "name": "stdout",
          "text": [
            "107.63\n"
          ]
        },
        {
          "output_type": "stream",
          "name": "stderr",
          "text": [
            "Train: 100%|██████████| 813/813 [00:28<00:00, 28.15it/s]\n",
            "Eval : 100%|██████████| 63/63 [00:01<00:00, 36.16it/s]\n",
            "Epoch 528\n"
          ]
        },
        {
          "output_type": "stream",
          "name": "stdout",
          "text": [
            "107.63\n"
          ]
        },
        {
          "output_type": "stream",
          "name": "stderr",
          "text": [
            "Train: 100%|██████████| 813/813 [00:23<00:00, 34.36it/s]\n",
            "Eval : 100%|██████████| 63/63 [00:01<00:00, 35.53it/s]\n",
            "Epoch 529\n"
          ]
        },
        {
          "output_type": "stream",
          "name": "stdout",
          "text": [
            "108.227\n"
          ]
        },
        {
          "output_type": "stream",
          "name": "stderr",
          "text": [
            "Train: 100%|██████████| 813/813 [00:29<00:00, 27.89it/s]\n",
            "Eval : 100%|██████████| 63/63 [00:01<00:00, 35.60it/s]\n",
            "Epoch 530\n"
          ]
        },
        {
          "output_type": "stream",
          "name": "stdout",
          "text": [
            "108.227\n"
          ]
        },
        {
          "output_type": "stream",
          "name": "stderr",
          "text": [
            "Train: 100%|██████████| 813/813 [00:23<00:00, 35.00it/s]\n",
            "Eval : 100%|██████████| 63/63 [00:01<00:00, 35.34it/s]\n",
            "Epoch 531\n"
          ]
        },
        {
          "output_type": "stream",
          "name": "stdout",
          "text": [
            "107.233\n"
          ]
        },
        {
          "output_type": "stream",
          "name": "stderr",
          "text": [
            "Train: 100%|██████████| 813/813 [00:28<00:00, 28.09it/s]\n",
            "Eval : 100%|██████████| 63/63 [00:01<00:00, 35.92it/s]\n",
            "Epoch 532\n"
          ]
        },
        {
          "output_type": "stream",
          "name": "stdout",
          "text": [
            "107.233\n"
          ]
        },
        {
          "output_type": "stream",
          "name": "stderr",
          "text": [
            "Train: 100%|██████████| 813/813 [00:23<00:00, 35.07it/s]\n",
            "Eval : 100%|██████████| 63/63 [00:01<00:00, 36.65it/s]\n",
            "Epoch 533\n"
          ]
        },
        {
          "output_type": "stream",
          "name": "stdout",
          "text": [
            "107.213\n"
          ]
        },
        {
          "output_type": "stream",
          "name": "stderr",
          "text": [
            "Train: 100%|██████████| 813/813 [00:28<00:00, 28.26it/s]\n",
            "Eval : 100%|██████████| 63/63 [00:01<00:00, 36.59it/s]\n",
            "Epoch 534\n"
          ]
        },
        {
          "output_type": "stream",
          "name": "stdout",
          "text": [
            "107.213\n"
          ]
        },
        {
          "output_type": "stream",
          "name": "stderr",
          "text": [
            "Train: 100%|██████████| 813/813 [00:23<00:00, 35.09it/s]\n",
            "Eval : 100%|██████████| 63/63 [00:01<00:00, 36.21it/s]\n",
            "Epoch 535\n"
          ]
        },
        {
          "output_type": "stream",
          "name": "stdout",
          "text": [
            "107.516\n"
          ]
        },
        {
          "output_type": "stream",
          "name": "stderr",
          "text": [
            "Train: 100%|██████████| 813/813 [00:28<00:00, 28.19it/s]\n",
            "Eval : 100%|██████████| 63/63 [00:01<00:00, 35.49it/s]\n",
            "Epoch 536\n"
          ]
        },
        {
          "output_type": "stream",
          "name": "stdout",
          "text": [
            "107.516\n"
          ]
        },
        {
          "output_type": "stream",
          "name": "stderr",
          "text": [
            "Train: 100%|██████████| 813/813 [00:23<00:00, 35.09it/s]\n",
            "Eval : 100%|██████████| 63/63 [00:01<00:00, 36.46it/s]\n",
            "Epoch 537\n"
          ]
        },
        {
          "output_type": "stream",
          "name": "stdout",
          "text": [
            "108.664\n"
          ]
        },
        {
          "output_type": "stream",
          "name": "stderr",
          "text": [
            "Train: 100%|██████████| 813/813 [00:29<00:00, 27.95it/s]\n",
            "Eval : 100%|██████████| 63/63 [00:01<00:00, 36.64it/s]\n",
            "Epoch 538\n"
          ]
        },
        {
          "output_type": "stream",
          "name": "stdout",
          "text": [
            "108.664\n"
          ]
        },
        {
          "output_type": "stream",
          "name": "stderr",
          "text": [
            "Train: 100%|██████████| 813/813 [00:22<00:00, 35.71it/s]\n",
            "Eval : 100%|██████████| 63/63 [00:01<00:00, 34.87it/s]\n",
            "Epoch 539\n"
          ]
        },
        {
          "output_type": "stream",
          "name": "stdout",
          "text": [
            "106.922\n"
          ]
        },
        {
          "output_type": "stream",
          "name": "stderr",
          "text": [
            "Train: 100%|██████████| 813/813 [00:29<00:00, 27.71it/s]\n",
            "Eval : 100%|██████████| 63/63 [00:01<00:00, 35.58it/s]\n",
            "Epoch 540\n"
          ]
        },
        {
          "output_type": "stream",
          "name": "stdout",
          "text": [
            "106.922\n"
          ]
        },
        {
          "output_type": "stream",
          "name": "stderr",
          "text": [
            "Train: 100%|██████████| 813/813 [00:23<00:00, 35.14it/s]\n",
            "Eval : 100%|██████████| 63/63 [00:01<00:00, 36.63it/s]\n",
            "Epoch 541\n"
          ]
        },
        {
          "output_type": "stream",
          "name": "stdout",
          "text": [
            "108.338\n"
          ]
        },
        {
          "output_type": "stream",
          "name": "stderr",
          "text": [
            "Train: 100%|██████████| 813/813 [00:29<00:00, 27.63it/s]\n",
            "Eval : 100%|██████████| 63/63 [00:01<00:00, 34.87it/s]\n",
            "Epoch 542\n"
          ]
        },
        {
          "output_type": "stream",
          "name": "stdout",
          "text": [
            "108.338\n"
          ]
        },
        {
          "output_type": "stream",
          "name": "stderr",
          "text": [
            "Train: 100%|██████████| 813/813 [00:23<00:00, 34.79it/s]\n",
            "Eval : 100%|██████████| 63/63 [00:01<00:00, 36.04it/s]\n",
            "Epoch 543\n"
          ]
        },
        {
          "output_type": "stream",
          "name": "stdout",
          "text": [
            "106.877\n"
          ]
        },
        {
          "output_type": "stream",
          "name": "stderr",
          "text": [
            "Train: 100%|██████████| 813/813 [00:29<00:00, 27.75it/s]\n",
            "Eval : 100%|██████████| 63/63 [00:01<00:00, 35.77it/s]\n",
            "Epoch 544\n"
          ]
        },
        {
          "output_type": "stream",
          "name": "stdout",
          "text": [
            "106.877\n"
          ]
        },
        {
          "output_type": "stream",
          "name": "stderr",
          "text": [
            "Train: 100%|██████████| 813/813 [00:23<00:00, 35.00it/s]\n",
            "Eval : 100%|██████████| 63/63 [00:01<00:00, 35.24it/s]\n",
            "Epoch 545\n"
          ]
        },
        {
          "output_type": "stream",
          "name": "stdout",
          "text": [
            "108.052\n"
          ]
        },
        {
          "output_type": "stream",
          "name": "stderr",
          "text": [
            "Train: 100%|██████████| 813/813 [00:29<00:00, 27.94it/s]\n",
            "Eval : 100%|██████████| 63/63 [00:01<00:00, 35.40it/s]\n",
            "Epoch 546\n"
          ]
        },
        {
          "output_type": "stream",
          "name": "stdout",
          "text": [
            "108.052\n"
          ]
        },
        {
          "output_type": "stream",
          "name": "stderr",
          "text": [
            "Train: 100%|██████████| 813/813 [00:23<00:00, 34.90it/s]\n",
            "Eval : 100%|██████████| 63/63 [00:01<00:00, 35.76it/s]\n",
            "Epoch 547\n"
          ]
        },
        {
          "output_type": "stream",
          "name": "stdout",
          "text": [
            "108.143\n"
          ]
        },
        {
          "output_type": "stream",
          "name": "stderr",
          "text": [
            "Train: 100%|██████████| 813/813 [00:29<00:00, 27.69it/s]\n",
            "Eval : 100%|██████████| 63/63 [00:01<00:00, 36.00it/s]\n",
            "Epoch 548\n"
          ]
        },
        {
          "output_type": "stream",
          "name": "stdout",
          "text": [
            "108.143\n"
          ]
        },
        {
          "output_type": "stream",
          "name": "stderr",
          "text": [
            "Train: 100%|██████████| 813/813 [00:23<00:00, 34.56it/s]\n",
            "Eval : 100%|██████████| 63/63 [00:01<00:00, 36.68it/s]\n",
            "Epoch 549\n"
          ]
        },
        {
          "output_type": "stream",
          "name": "stdout",
          "text": [
            "108.388\n"
          ]
        },
        {
          "output_type": "stream",
          "name": "stderr",
          "text": [
            "Train: 100%|██████████| 813/813 [00:29<00:00, 27.76it/s]\n",
            "Eval : 100%|██████████| 63/63 [00:01<00:00, 35.16it/s]\n",
            "Epoch 550\n"
          ]
        },
        {
          "output_type": "stream",
          "name": "stdout",
          "text": [
            "108.388\n"
          ]
        },
        {
          "output_type": "stream",
          "name": "stderr",
          "text": [
            "Train: 100%|██████████| 813/813 [00:23<00:00, 34.39it/s]\n",
            "Eval : 100%|██████████| 63/63 [00:01<00:00, 36.43it/s]\n",
            "Epoch 551\n"
          ]
        },
        {
          "output_type": "stream",
          "name": "stdout",
          "text": [
            "107.969\n"
          ]
        },
        {
          "output_type": "stream",
          "name": "stderr",
          "text": [
            "Train: 100%|██████████| 813/813 [00:29<00:00, 27.78it/s]\n",
            "Eval : 100%|██████████| 63/63 [00:01<00:00, 35.60it/s]\n",
            "Epoch 552\n"
          ]
        },
        {
          "output_type": "stream",
          "name": "stdout",
          "text": [
            "107.969\n"
          ]
        },
        {
          "output_type": "stream",
          "name": "stderr",
          "text": [
            "Train: 100%|██████████| 813/813 [00:23<00:00, 34.68it/s]\n",
            "Eval : 100%|██████████| 63/63 [00:01<00:00, 34.52it/s]\n",
            "Epoch 553\n"
          ]
        },
        {
          "output_type": "stream",
          "name": "stdout",
          "text": [
            "108.386\n"
          ]
        },
        {
          "output_type": "stream",
          "name": "stderr",
          "text": [
            "Train: 100%|██████████| 813/813 [00:29<00:00, 27.82it/s]\n",
            "Eval : 100%|██████████| 63/63 [00:01<00:00, 35.94it/s]\n",
            "Epoch 554\n"
          ]
        },
        {
          "output_type": "stream",
          "name": "stdout",
          "text": [
            "108.386\n"
          ]
        },
        {
          "output_type": "stream",
          "name": "stderr",
          "text": [
            "Train: 100%|██████████| 813/813 [00:23<00:00, 34.79it/s]\n",
            "Eval : 100%|██████████| 63/63 [00:01<00:00, 35.43it/s]\n",
            "Epoch 555\n"
          ]
        },
        {
          "output_type": "stream",
          "name": "stdout",
          "text": [
            "107.993\n"
          ]
        },
        {
          "output_type": "stream",
          "name": "stderr",
          "text": [
            "Train: 100%|██████████| 813/813 [00:29<00:00, 27.95it/s]\n",
            "Eval : 100%|██████████| 63/63 [00:01<00:00, 35.45it/s]\n",
            "Epoch 556\n"
          ]
        },
        {
          "output_type": "stream",
          "name": "stdout",
          "text": [
            "107.993\n"
          ]
        },
        {
          "output_type": "stream",
          "name": "stderr",
          "text": [
            "Train: 100%|██████████| 813/813 [00:23<00:00, 34.92it/s]\n",
            "Eval : 100%|██████████| 63/63 [00:01<00:00, 34.98it/s]\n",
            "Epoch 557\n"
          ]
        },
        {
          "output_type": "stream",
          "name": "stdout",
          "text": [
            "108.208\n"
          ]
        },
        {
          "output_type": "stream",
          "name": "stderr",
          "text": [
            "Train: 100%|██████████| 813/813 [00:29<00:00, 27.73it/s]\n",
            "Eval : 100%|██████████| 63/63 [00:01<00:00, 36.12it/s]\n",
            "Epoch 558\n"
          ]
        },
        {
          "output_type": "stream",
          "name": "stdout",
          "text": [
            "108.208\n"
          ]
        },
        {
          "output_type": "stream",
          "name": "stderr",
          "text": [
            "Train: 100%|██████████| 813/813 [00:23<00:00, 34.76it/s]\n",
            "Eval : 100%|██████████| 63/63 [00:01<00:00, 36.47it/s]\n",
            "Epoch 559\n"
          ]
        },
        {
          "output_type": "stream",
          "name": "stdout",
          "text": [
            "108.117\n"
          ]
        },
        {
          "output_type": "stream",
          "name": "stderr",
          "text": [
            "Train: 100%|██████████| 813/813 [00:29<00:00, 27.53it/s]\n",
            "Eval : 100%|██████████| 63/63 [00:01<00:00, 35.31it/s]\n",
            "Epoch 560\n"
          ]
        },
        {
          "output_type": "stream",
          "name": "stdout",
          "text": [
            "108.117\n"
          ]
        },
        {
          "output_type": "stream",
          "name": "stderr",
          "text": [
            "Train: 100%|██████████| 813/813 [00:23<00:00, 34.65it/s]\n",
            "Eval : 100%|██████████| 63/63 [00:01<00:00, 35.81it/s]\n",
            "Epoch 561\n"
          ]
        },
        {
          "output_type": "stream",
          "name": "stdout",
          "text": [
            "108.218\n"
          ]
        },
        {
          "output_type": "stream",
          "name": "stderr",
          "text": [
            "Train: 100%|██████████| 813/813 [00:29<00:00, 27.28it/s]\n",
            "Eval : 100%|██████████| 63/63 [00:01<00:00, 35.28it/s]\n",
            "Epoch 562\n"
          ]
        },
        {
          "output_type": "stream",
          "name": "stdout",
          "text": [
            "108.218\n"
          ]
        },
        {
          "output_type": "stream",
          "name": "stderr",
          "text": [
            "Train: 100%|██████████| 813/813 [00:23<00:00, 34.68it/s]\n",
            "Eval : 100%|██████████| 63/63 [00:01<00:00, 35.24it/s]\n",
            "Epoch 563\n"
          ]
        },
        {
          "output_type": "stream",
          "name": "stdout",
          "text": [
            "108.247\n"
          ]
        },
        {
          "output_type": "stream",
          "name": "stderr",
          "text": [
            "Train: 100%|██████████| 813/813 [00:29<00:00, 27.60it/s]\n",
            "Eval : 100%|██████████| 63/63 [00:01<00:00, 35.29it/s]\n",
            "Epoch 564\n"
          ]
        },
        {
          "output_type": "stream",
          "name": "stdout",
          "text": [
            "108.247\n"
          ]
        },
        {
          "output_type": "stream",
          "name": "stderr",
          "text": [
            "Train: 100%|██████████| 813/813 [00:23<00:00, 34.52it/s]\n",
            "Eval : 100%|██████████| 63/63 [00:01<00:00, 34.44it/s]\n",
            "Epoch 565\n"
          ]
        },
        {
          "output_type": "stream",
          "name": "stdout",
          "text": [
            "109.015\n"
          ]
        },
        {
          "output_type": "stream",
          "name": "stderr",
          "text": [
            "Train: 100%|██████████| 813/813 [00:29<00:00, 27.45it/s]\n",
            "Eval : 100%|██████████| 63/63 [00:01<00:00, 35.98it/s]\n",
            "Epoch 566\n"
          ]
        },
        {
          "output_type": "stream",
          "name": "stdout",
          "text": [
            "109.015\n"
          ]
        },
        {
          "output_type": "stream",
          "name": "stderr",
          "text": [
            "Train: 100%|██████████| 813/813 [00:23<00:00, 34.64it/s]\n",
            "Eval : 100%|██████████| 63/63 [00:01<00:00, 36.01it/s]\n",
            "Epoch 567\n"
          ]
        },
        {
          "output_type": "stream",
          "name": "stdout",
          "text": [
            "107.597\n"
          ]
        },
        {
          "output_type": "stream",
          "name": "stderr",
          "text": [
            "Train: 100%|██████████| 813/813 [00:29<00:00, 27.47it/s]\n",
            "Eval : 100%|██████████| 63/63 [00:01<00:00, 36.50it/s]\n",
            "Epoch 568\n"
          ]
        },
        {
          "output_type": "stream",
          "name": "stdout",
          "text": [
            "107.597\n"
          ]
        },
        {
          "output_type": "stream",
          "name": "stderr",
          "text": [
            "Train: 100%|██████████| 813/813 [00:23<00:00, 34.68it/s]\n",
            "Eval : 100%|██████████| 63/63 [00:01<00:00, 36.41it/s]\n",
            "Epoch 569\n"
          ]
        },
        {
          "output_type": "stream",
          "name": "stdout",
          "text": [
            "109.546\n"
          ]
        },
        {
          "output_type": "stream",
          "name": "stderr",
          "text": [
            "Train: 100%|██████████| 813/813 [00:29<00:00, 27.28it/s]\n",
            "Eval : 100%|██████████| 63/63 [00:01<00:00, 34.77it/s]\n",
            "Epoch 570\n"
          ]
        },
        {
          "output_type": "stream",
          "name": "stdout",
          "text": [
            "109.546\n"
          ]
        },
        {
          "output_type": "stream",
          "name": "stderr",
          "text": [
            "Train: 100%|██████████| 813/813 [00:23<00:00, 34.88it/s]\n",
            "Eval : 100%|██████████| 63/63 [00:01<00:00, 34.75it/s]\n",
            "Epoch 571\n"
          ]
        },
        {
          "output_type": "stream",
          "name": "stdout",
          "text": [
            "107.429\n"
          ]
        },
        {
          "output_type": "stream",
          "name": "stderr",
          "text": [
            "Train: 100%|██████████| 813/813 [00:29<00:00, 27.74it/s]\n",
            "Eval : 100%|██████████| 63/63 [00:01<00:00, 35.70it/s]\n",
            "Epoch 572\n"
          ]
        },
        {
          "output_type": "stream",
          "name": "stdout",
          "text": [
            "107.429\n"
          ]
        },
        {
          "output_type": "stream",
          "name": "stderr",
          "text": [
            "Train: 100%|██████████| 813/813 [00:23<00:00, 34.69it/s]\n",
            "Eval : 100%|██████████| 63/63 [00:01<00:00, 35.23it/s]\n",
            "Epoch 573\n"
          ]
        },
        {
          "output_type": "stream",
          "name": "stdout",
          "text": [
            "108.238\n"
          ]
        },
        {
          "output_type": "stream",
          "name": "stderr",
          "text": [
            "Train: 100%|██████████| 813/813 [00:29<00:00, 27.70it/s]\n",
            "Eval : 100%|██████████| 63/63 [00:01<00:00, 34.84it/s]\n",
            "Epoch 574\n"
          ]
        },
        {
          "output_type": "stream",
          "name": "stdout",
          "text": [
            "108.238\n"
          ]
        },
        {
          "output_type": "stream",
          "name": "stderr",
          "text": [
            "Train: 100%|██████████| 813/813 [00:23<00:00, 34.61it/s]\n",
            "Eval : 100%|██████████| 63/63 [00:01<00:00, 35.08it/s]\n",
            "Epoch 575\n"
          ]
        },
        {
          "output_type": "stream",
          "name": "stdout",
          "text": [
            "107.789\n"
          ]
        },
        {
          "output_type": "stream",
          "name": "stderr",
          "text": [
            "Train: 100%|██████████| 813/813 [00:29<00:00, 27.59it/s]\n",
            "Eval : 100%|██████████| 63/63 [00:01<00:00, 36.29it/s]\n",
            "Epoch 576\n"
          ]
        },
        {
          "output_type": "stream",
          "name": "stdout",
          "text": [
            "107.789\n"
          ]
        },
        {
          "output_type": "stream",
          "name": "stderr",
          "text": [
            "Train: 100%|██████████| 813/813 [00:23<00:00, 34.73it/s]\n",
            "Eval : 100%|██████████| 63/63 [00:01<00:00, 36.00it/s]\n",
            "Epoch 577\n"
          ]
        },
        {
          "output_type": "stream",
          "name": "stdout",
          "text": [
            "108.89\n"
          ]
        },
        {
          "output_type": "stream",
          "name": "stderr",
          "text": [
            "Train: 100%|██████████| 813/813 [00:29<00:00, 27.64it/s]\n",
            "Eval : 100%|██████████| 63/63 [00:01<00:00, 36.16it/s]\n",
            "Epoch 578\n"
          ]
        },
        {
          "output_type": "stream",
          "name": "stdout",
          "text": [
            "108.89\n"
          ]
        },
        {
          "output_type": "stream",
          "name": "stderr",
          "text": [
            "Train: 100%|██████████| 813/813 [00:23<00:00, 35.18it/s]\n",
            "Eval : 100%|██████████| 63/63 [00:01<00:00, 36.35it/s]\n",
            "Epoch 579\n"
          ]
        },
        {
          "output_type": "stream",
          "name": "stdout",
          "text": [
            "107.643\n"
          ]
        },
        {
          "output_type": "stream",
          "name": "stderr",
          "text": [
            "Train: 100%|██████████| 813/813 [00:29<00:00, 28.03it/s]\n",
            "Eval : 100%|██████████| 63/63 [00:01<00:00, 35.78it/s]\n",
            "Epoch 580\n"
          ]
        },
        {
          "output_type": "stream",
          "name": "stdout",
          "text": [
            "107.643\n"
          ]
        },
        {
          "output_type": "stream",
          "name": "stderr",
          "text": [
            "Train: 100%|██████████| 813/813 [00:23<00:00, 34.83it/s]\n",
            "Eval : 100%|██████████| 63/63 [00:01<00:00, 36.01it/s]\n",
            "Epoch 581\n"
          ]
        },
        {
          "output_type": "stream",
          "name": "stdout",
          "text": [
            "108.205\n"
          ]
        },
        {
          "output_type": "stream",
          "name": "stderr",
          "text": [
            "Train: 100%|██████████| 813/813 [00:28<00:00, 28.05it/s]\n",
            "Eval : 100%|██████████| 63/63 [00:01<00:00, 35.36it/s]\n",
            "Epoch 582\n"
          ]
        },
        {
          "output_type": "stream",
          "name": "stdout",
          "text": [
            "108.205\n"
          ]
        },
        {
          "output_type": "stream",
          "name": "stderr",
          "text": [
            "Train: 100%|██████████| 813/813 [00:23<00:00, 34.86it/s]\n",
            "Eval : 100%|██████████| 63/63 [00:01<00:00, 35.81it/s]\n",
            "Epoch 583\n"
          ]
        },
        {
          "output_type": "stream",
          "name": "stdout",
          "text": [
            "108.054\n"
          ]
        },
        {
          "output_type": "stream",
          "name": "stderr",
          "text": [
            "Train: 100%|██████████| 813/813 [00:29<00:00, 27.70it/s]\n",
            "Eval : 100%|██████████| 63/63 [00:01<00:00, 36.53it/s]\n",
            "Epoch 584\n"
          ]
        },
        {
          "output_type": "stream",
          "name": "stdout",
          "text": [
            "108.054\n"
          ]
        },
        {
          "output_type": "stream",
          "name": "stderr",
          "text": [
            "Train: 100%|██████████| 813/813 [00:23<00:00, 35.03it/s]\n",
            "Eval : 100%|██████████| 63/63 [00:01<00:00, 33.79it/s]\n",
            "Epoch 585\n"
          ]
        },
        {
          "output_type": "stream",
          "name": "stdout",
          "text": [
            "108.319\n"
          ]
        },
        {
          "output_type": "stream",
          "name": "stderr",
          "text": [
            "Train: 100%|██████████| 813/813 [00:29<00:00, 27.82it/s]\n",
            "Eval : 100%|██████████| 63/63 [00:01<00:00, 36.56it/s]\n",
            "Epoch 586\n"
          ]
        },
        {
          "output_type": "stream",
          "name": "stdout",
          "text": [
            "108.319\n"
          ]
        },
        {
          "output_type": "stream",
          "name": "stderr",
          "text": [
            "Train: 100%|██████████| 813/813 [00:23<00:00, 35.18it/s]\n",
            "Eval : 100%|██████████| 63/63 [00:01<00:00, 35.91it/s]\n",
            "Epoch 587\n"
          ]
        },
        {
          "output_type": "stream",
          "name": "stdout",
          "text": [
            "108.583\n"
          ]
        },
        {
          "output_type": "stream",
          "name": "stderr",
          "text": [
            "Train: 100%|██████████| 813/813 [00:29<00:00, 27.53it/s]\n",
            "Eval : 100%|██████████| 63/63 [00:01<00:00, 36.15it/s]\n",
            "Epoch 588\n"
          ]
        },
        {
          "output_type": "stream",
          "name": "stdout",
          "text": [
            "108.583\n"
          ]
        },
        {
          "output_type": "stream",
          "name": "stderr",
          "text": [
            "Train: 100%|██████████| 813/813 [00:22<00:00, 35.63it/s]\n",
            "Eval : 100%|██████████| 63/63 [00:01<00:00, 35.68it/s]\n",
            "Epoch 589\n"
          ]
        },
        {
          "output_type": "stream",
          "name": "stdout",
          "text": [
            "108.109\n"
          ]
        },
        {
          "output_type": "stream",
          "name": "stderr",
          "text": [
            "Train: 100%|██████████| 813/813 [00:28<00:00, 28.09it/s]\n",
            "Eval : 100%|██████████| 63/63 [00:01<00:00, 35.27it/s]\n",
            "Epoch 590\n"
          ]
        },
        {
          "output_type": "stream",
          "name": "stdout",
          "text": [
            "108.109\n"
          ]
        },
        {
          "output_type": "stream",
          "name": "stderr",
          "text": [
            "Train: 100%|██████████| 813/813 [00:23<00:00, 35.00it/s]\n",
            "Eval : 100%|██████████| 63/63 [00:01<00:00, 35.66it/s]\n",
            "Epoch 591\n"
          ]
        },
        {
          "output_type": "stream",
          "name": "stdout",
          "text": [
            "108.455\n"
          ]
        },
        {
          "output_type": "stream",
          "name": "stderr",
          "text": [
            "Train: 100%|██████████| 813/813 [00:28<00:00, 28.10it/s]\n",
            "Eval : 100%|██████████| 63/63 [00:01<00:00, 36.64it/s]\n",
            "Epoch 592\n"
          ]
        },
        {
          "output_type": "stream",
          "name": "stdout",
          "text": [
            "108.455\n"
          ]
        },
        {
          "output_type": "stream",
          "name": "stderr",
          "text": [
            "Train: 100%|██████████| 813/813 [00:23<00:00, 35.21it/s]\n",
            "Eval : 100%|██████████| 63/63 [00:01<00:00, 35.63it/s]\n",
            "Epoch 593\n"
          ]
        },
        {
          "output_type": "stream",
          "name": "stdout",
          "text": [
            "107.906\n"
          ]
        },
        {
          "output_type": "stream",
          "name": "stderr",
          "text": [
            "Train: 100%|██████████| 813/813 [00:29<00:00, 27.94it/s]\n",
            "Eval : 100%|██████████| 63/63 [00:01<00:00, 36.38it/s]\n",
            "Epoch 594\n"
          ]
        },
        {
          "output_type": "stream",
          "name": "stdout",
          "text": [
            "107.906\n"
          ]
        },
        {
          "output_type": "stream",
          "name": "stderr",
          "text": [
            "Train: 100%|██████████| 813/813 [00:23<00:00, 34.75it/s]\n",
            "Eval : 100%|██████████| 63/63 [00:01<00:00, 35.10it/s]\n",
            "Epoch 595\n"
          ]
        },
        {
          "output_type": "stream",
          "name": "stdout",
          "text": [
            "108.718\n"
          ]
        },
        {
          "output_type": "stream",
          "name": "stderr",
          "text": [
            "Train: 100%|██████████| 813/813 [00:29<00:00, 27.70it/s]\n",
            "Eval : 100%|██████████| 63/63 [00:01<00:00, 36.57it/s]\n",
            "Epoch 596\n"
          ]
        },
        {
          "output_type": "stream",
          "name": "stdout",
          "text": [
            "108.718\n"
          ]
        },
        {
          "output_type": "stream",
          "name": "stderr",
          "text": [
            "Train: 100%|██████████| 813/813 [00:23<00:00, 35.08it/s]\n",
            "Eval : 100%|██████████| 63/63 [00:01<00:00, 36.43it/s]\n",
            "Epoch 597\n"
          ]
        },
        {
          "output_type": "stream",
          "name": "stdout",
          "text": [
            "107.893\n"
          ]
        },
        {
          "output_type": "stream",
          "name": "stderr",
          "text": [
            "Train: 100%|██████████| 813/813 [00:28<00:00, 28.13it/s]\n",
            "Eval : 100%|██████████| 63/63 [00:01<00:00, 35.98it/s]\n",
            "Epoch 598\n"
          ]
        },
        {
          "output_type": "stream",
          "name": "stdout",
          "text": [
            "107.893\n"
          ]
        },
        {
          "output_type": "stream",
          "name": "stderr",
          "text": [
            "Train: 100%|██████████| 813/813 [00:23<00:00, 35.04it/s]\n",
            "Eval : 100%|██████████| 63/63 [00:01<00:00, 35.67it/s]\n",
            "Epoch 599\n"
          ]
        },
        {
          "output_type": "stream",
          "name": "stdout",
          "text": [
            "108.55\n"
          ]
        },
        {
          "output_type": "stream",
          "name": "stderr",
          "text": [
            "Train: 100%|██████████| 813/813 [00:29<00:00, 28.00it/s]\n",
            "Eval : 100%|██████████| 63/63 [00:01<00:00, 34.58it/s]\n",
            "Epoch 600\n"
          ]
        },
        {
          "output_type": "stream",
          "name": "stdout",
          "text": [
            "108.55\n"
          ]
        },
        {
          "output_type": "stream",
          "name": "stderr",
          "text": [
            "Train: 100%|██████████| 813/813 [00:23<00:00, 35.34it/s]\n",
            "Eval : 100%|██████████| 63/63 [00:01<00:00, 35.43it/s]\n",
            "Epoch 601\n"
          ]
        },
        {
          "output_type": "stream",
          "name": "stdout",
          "text": [
            "107.998\n"
          ]
        },
        {
          "output_type": "stream",
          "name": "stderr",
          "text": [
            "Train: 100%|██████████| 813/813 [00:28<00:00, 28.30it/s]\n",
            "Eval : 100%|██████████| 63/63 [00:01<00:00, 36.26it/s]\n",
            "Epoch 602\n"
          ]
        },
        {
          "output_type": "stream",
          "name": "stdout",
          "text": [
            "107.998\n"
          ]
        },
        {
          "output_type": "stream",
          "name": "stderr",
          "text": [
            "Train: 100%|██████████| 813/813 [00:23<00:00, 34.75it/s]\n",
            "Eval : 100%|██████████| 63/63 [00:01<00:00, 35.85it/s]\n",
            "Epoch 603\n"
          ]
        },
        {
          "output_type": "stream",
          "name": "stdout",
          "text": [
            "107.787\n"
          ]
        },
        {
          "output_type": "stream",
          "name": "stderr",
          "text": [
            "Train: 100%|██████████| 813/813 [00:28<00:00, 28.13it/s]\n",
            "Eval : 100%|██████████| 63/63 [00:01<00:00, 36.40it/s]\n",
            "Epoch 604\n"
          ]
        },
        {
          "output_type": "stream",
          "name": "stdout",
          "text": [
            "107.787\n"
          ]
        },
        {
          "output_type": "stream",
          "name": "stderr",
          "text": [
            "Train: 100%|██████████| 813/813 [00:23<00:00, 35.10it/s]\n",
            "Eval : 100%|██████████| 63/63 [00:01<00:00, 35.76it/s]\n",
            "Epoch 605\n"
          ]
        },
        {
          "output_type": "stream",
          "name": "stdout",
          "text": [
            "108.524\n"
          ]
        },
        {
          "output_type": "stream",
          "name": "stderr",
          "text": [
            "Train: 100%|██████████| 813/813 [00:28<00:00, 28.13it/s]\n",
            "Eval : 100%|██████████| 63/63 [00:01<00:00, 36.43it/s]\n",
            "Epoch 606\n"
          ]
        },
        {
          "output_type": "stream",
          "name": "stdout",
          "text": [
            "108.524\n"
          ]
        },
        {
          "output_type": "stream",
          "name": "stderr",
          "text": [
            "Train: 100%|██████████| 813/813 [00:23<00:00, 35.13it/s]\n",
            "Eval : 100%|██████████| 63/63 [00:01<00:00, 36.71it/s]\n",
            "Epoch 607\n"
          ]
        },
        {
          "output_type": "stream",
          "name": "stdout",
          "text": [
            "107.283\n"
          ]
        },
        {
          "output_type": "stream",
          "name": "stderr",
          "text": [
            "Train: 100%|██████████| 813/813 [00:28<00:00, 28.33it/s]\n",
            "Eval : 100%|██████████| 63/63 [00:01<00:00, 36.31it/s]\n",
            "Epoch 608\n"
          ]
        },
        {
          "output_type": "stream",
          "name": "stdout",
          "text": [
            "107.283\n"
          ]
        },
        {
          "output_type": "stream",
          "name": "stderr",
          "text": [
            "Train: 100%|██████████| 813/813 [00:23<00:00, 35.17it/s]\n",
            "Eval : 100%|██████████| 63/63 [00:01<00:00, 36.09it/s]\n",
            "Epoch 609\n"
          ]
        },
        {
          "output_type": "stream",
          "name": "stdout",
          "text": [
            "108.152\n"
          ]
        },
        {
          "output_type": "stream",
          "name": "stderr",
          "text": [
            "Train: 100%|██████████| 813/813 [00:29<00:00, 27.98it/s]\n",
            "Eval : 100%|██████████| 63/63 [00:01<00:00, 36.38it/s]\n",
            "Epoch 610\n"
          ]
        },
        {
          "output_type": "stream",
          "name": "stdout",
          "text": [
            "108.152\n"
          ]
        },
        {
          "output_type": "stream",
          "name": "stderr",
          "text": [
            "Train: 100%|██████████| 813/813 [00:23<00:00, 35.16it/s]\n",
            "Eval : 100%|██████████| 63/63 [00:01<00:00, 34.69it/s]\n",
            "Epoch 611\n"
          ]
        },
        {
          "output_type": "stream",
          "name": "stdout",
          "text": [
            "108.213\n"
          ]
        },
        {
          "output_type": "stream",
          "name": "stderr",
          "text": [
            "Train: 100%|██████████| 813/813 [00:29<00:00, 27.87it/s]\n",
            "Eval : 100%|██████████| 63/63 [00:01<00:00, 35.93it/s]\n",
            "Epoch 612\n"
          ]
        },
        {
          "output_type": "stream",
          "name": "stdout",
          "text": [
            "108.213\n"
          ]
        },
        {
          "output_type": "stream",
          "name": "stderr",
          "text": [
            "Train: 100%|██████████| 813/813 [00:23<00:00, 35.32it/s]\n",
            "Eval : 100%|██████████| 63/63 [00:01<00:00, 35.62it/s]\n",
            "Epoch 613\n"
          ]
        },
        {
          "output_type": "stream",
          "name": "stdout",
          "text": [
            "107.654\n"
          ]
        },
        {
          "output_type": "stream",
          "name": "stderr",
          "text": [
            "Train: 100%|██████████| 813/813 [00:28<00:00, 28.06it/s]\n",
            "Eval : 100%|██████████| 63/63 [00:01<00:00, 36.50it/s]\n",
            "Epoch 614\n"
          ]
        },
        {
          "output_type": "stream",
          "name": "stdout",
          "text": [
            "107.654\n"
          ]
        },
        {
          "output_type": "stream",
          "name": "stderr",
          "text": [
            "Train: 100%|██████████| 813/813 [00:23<00:00, 35.35it/s]\n",
            "Eval : 100%|██████████| 63/63 [00:01<00:00, 36.38it/s]\n",
            "Epoch 615\n"
          ]
        },
        {
          "output_type": "stream",
          "name": "stdout",
          "text": [
            "107.999\n"
          ]
        },
        {
          "output_type": "stream",
          "name": "stderr",
          "text": [
            "Train: 100%|██████████| 813/813 [00:29<00:00, 27.73it/s]\n",
            "Eval : 100%|██████████| 63/63 [00:01<00:00, 36.09it/s]\n",
            "Epoch 616\n"
          ]
        },
        {
          "output_type": "stream",
          "name": "stdout",
          "text": [
            "107.999\n"
          ]
        },
        {
          "output_type": "stream",
          "name": "stderr",
          "text": [
            "Train: 100%|██████████| 813/813 [00:23<00:00, 35.30it/s]\n",
            "Eval : 100%|██████████| 63/63 [00:01<00:00, 36.18it/s]\n",
            "Epoch 617\n"
          ]
        },
        {
          "output_type": "stream",
          "name": "stdout",
          "text": [
            "107.517\n"
          ]
        },
        {
          "output_type": "stream",
          "name": "stderr",
          "text": [
            "Train: 100%|██████████| 813/813 [00:28<00:00, 28.05it/s]\n",
            "Eval : 100%|██████████| 63/63 [00:01<00:00, 36.01it/s]\n",
            "Epoch 618\n"
          ]
        },
        {
          "output_type": "stream",
          "name": "stdout",
          "text": [
            "107.517\n"
          ]
        },
        {
          "output_type": "stream",
          "name": "stderr",
          "text": [
            "Train: 100%|██████████| 813/813 [00:23<00:00, 35.08it/s]\n",
            "Eval : 100%|██████████| 63/63 [00:01<00:00, 36.30it/s]\n",
            "Epoch 619\n"
          ]
        },
        {
          "output_type": "stream",
          "name": "stdout",
          "text": [
            "107.84\n"
          ]
        },
        {
          "output_type": "stream",
          "name": "stderr",
          "text": [
            "Train: 100%|██████████| 813/813 [00:29<00:00, 28.01it/s]\n",
            "Eval : 100%|██████████| 63/63 [00:01<00:00, 35.86it/s]\n",
            "Epoch 620\n"
          ]
        },
        {
          "output_type": "stream",
          "name": "stdout",
          "text": [
            "107.84\n"
          ]
        },
        {
          "output_type": "stream",
          "name": "stderr",
          "text": [
            "Train: 100%|██████████| 813/813 [00:23<00:00, 35.05it/s]\n",
            "Eval : 100%|██████████| 63/63 [00:01<00:00, 36.21it/s]\n",
            "Epoch 621\n"
          ]
        },
        {
          "output_type": "stream",
          "name": "stdout",
          "text": [
            "108.232\n"
          ]
        },
        {
          "output_type": "stream",
          "name": "stderr",
          "text": [
            "Train: 100%|██████████| 813/813 [00:28<00:00, 28.20it/s]\n",
            "Eval : 100%|██████████| 63/63 [00:01<00:00, 36.74it/s]\n",
            "Epoch 622\n"
          ]
        },
        {
          "output_type": "stream",
          "name": "stdout",
          "text": [
            "108.232\n"
          ]
        },
        {
          "output_type": "stream",
          "name": "stderr",
          "text": [
            "Train: 100%|██████████| 813/813 [00:23<00:00, 35.13it/s]\n",
            "Eval : 100%|██████████| 63/63 [00:01<00:00, 35.83it/s]\n",
            "Epoch 623\n"
          ]
        },
        {
          "output_type": "stream",
          "name": "stdout",
          "text": [
            "108.807\n"
          ]
        },
        {
          "output_type": "stream",
          "name": "stderr",
          "text": [
            "Train: 100%|██████████| 813/813 [00:28<00:00, 28.30it/s]\n",
            "Eval : 100%|██████████| 63/63 [00:01<00:00, 36.09it/s]\n",
            "Epoch 624\n"
          ]
        },
        {
          "output_type": "stream",
          "name": "stdout",
          "text": [
            "108.807\n"
          ]
        },
        {
          "output_type": "stream",
          "name": "stderr",
          "text": [
            "Train: 100%|██████████| 813/813 [00:23<00:00, 35.05it/s]\n",
            "Eval : 100%|██████████| 63/63 [00:01<00:00, 36.20it/s]\n",
            "Epoch 625\n"
          ]
        },
        {
          "output_type": "stream",
          "name": "stdout",
          "text": [
            "108.193\n"
          ]
        },
        {
          "output_type": "stream",
          "name": "stderr",
          "text": [
            "Train: 100%|██████████| 813/813 [00:28<00:00, 28.04it/s]\n",
            "Eval : 100%|██████████| 63/63 [00:01<00:00, 36.60it/s]\n",
            "Epoch 626\n"
          ]
        },
        {
          "output_type": "stream",
          "name": "stdout",
          "text": [
            "108.193\n"
          ]
        },
        {
          "output_type": "stream",
          "name": "stderr",
          "text": [
            "Train: 100%|██████████| 813/813 [00:23<00:00, 34.83it/s]\n",
            "Eval : 100%|██████████| 63/63 [00:01<00:00, 36.30it/s]\n",
            "Epoch 627\n"
          ]
        },
        {
          "output_type": "stream",
          "name": "stdout",
          "text": [
            "108.446\n"
          ]
        },
        {
          "output_type": "stream",
          "name": "stderr",
          "text": [
            "Train: 100%|██████████| 813/813 [00:28<00:00, 28.04it/s]\n",
            "Eval : 100%|██████████| 63/63 [00:01<00:00, 35.75it/s]\n",
            "Epoch 628\n"
          ]
        },
        {
          "output_type": "stream",
          "name": "stdout",
          "text": [
            "108.446\n"
          ]
        },
        {
          "output_type": "stream",
          "name": "stderr",
          "text": [
            "Train: 100%|██████████| 813/813 [00:23<00:00, 34.97it/s]\n",
            "Eval : 100%|██████████| 63/63 [00:01<00:00, 35.53it/s]\n",
            "Epoch 629\n"
          ]
        },
        {
          "output_type": "stream",
          "name": "stdout",
          "text": [
            "107.409\n"
          ]
        },
        {
          "output_type": "stream",
          "name": "stderr",
          "text": [
            "Train: 100%|██████████| 813/813 [00:28<00:00, 28.21it/s]\n",
            "Eval : 100%|██████████| 63/63 [00:01<00:00, 36.54it/s]\n",
            "Epoch 630\n"
          ]
        },
        {
          "output_type": "stream",
          "name": "stdout",
          "text": [
            "107.409\n"
          ]
        },
        {
          "output_type": "stream",
          "name": "stderr",
          "text": [
            "Train: 100%|██████████| 813/813 [00:23<00:00, 34.94it/s]\n",
            "Eval : 100%|██████████| 63/63 [00:01<00:00, 35.45it/s]\n",
            "Epoch 631\n"
          ]
        },
        {
          "output_type": "stream",
          "name": "stdout",
          "text": [
            "108.52\n"
          ]
        },
        {
          "output_type": "stream",
          "name": "stderr",
          "text": [
            "Train: 100%|██████████| 813/813 [00:29<00:00, 27.91it/s]\n",
            "Eval : 100%|██████████| 63/63 [00:01<00:00, 36.62it/s]\n",
            "Epoch 632\n"
          ]
        },
        {
          "output_type": "stream",
          "name": "stdout",
          "text": [
            "108.52\n"
          ]
        },
        {
          "output_type": "stream",
          "name": "stderr",
          "text": [
            "Train: 100%|██████████| 813/813 [00:23<00:00, 35.26it/s]\n",
            "Eval : 100%|██████████| 63/63 [00:01<00:00, 35.92it/s]\n",
            "Epoch 633\n"
          ]
        },
        {
          "output_type": "stream",
          "name": "stdout",
          "text": [
            "107.729\n"
          ]
        },
        {
          "output_type": "stream",
          "name": "stderr",
          "text": [
            "Train: 100%|██████████| 813/813 [00:29<00:00, 28.00it/s]\n",
            "Eval : 100%|██████████| 63/63 [00:01<00:00, 36.44it/s]\n",
            "Epoch 634\n"
          ]
        },
        {
          "output_type": "stream",
          "name": "stdout",
          "text": [
            "107.729\n"
          ]
        },
        {
          "output_type": "stream",
          "name": "stderr",
          "text": [
            "Train: 100%|██████████| 813/813 [00:23<00:00, 35.25it/s]\n",
            "Eval : 100%|██████████| 63/63 [00:01<00:00, 35.51it/s]\n",
            "Epoch 635\n"
          ]
        },
        {
          "output_type": "stream",
          "name": "stdout",
          "text": [
            "108.354\n"
          ]
        },
        {
          "output_type": "stream",
          "name": "stderr",
          "text": [
            "Train: 100%|██████████| 813/813 [00:29<00:00, 27.63it/s]\n",
            "Eval : 100%|██████████| 63/63 [00:01<00:00, 35.70it/s]\n",
            "Epoch 636\n"
          ]
        },
        {
          "output_type": "stream",
          "name": "stdout",
          "text": [
            "108.354\n"
          ]
        },
        {
          "output_type": "stream",
          "name": "stderr",
          "text": [
            "Train: 100%|██████████| 813/813 [00:22<00:00, 35.49it/s]\n",
            "Eval : 100%|██████████| 63/63 [00:01<00:00, 36.88it/s]\n",
            "Epoch 637\n"
          ]
        },
        {
          "output_type": "stream",
          "name": "stdout",
          "text": [
            "107.679\n"
          ]
        },
        {
          "output_type": "stream",
          "name": "stderr",
          "text": [
            "Train: 100%|██████████| 813/813 [00:29<00:00, 28.02it/s]\n",
            "Eval : 100%|██████████| 63/63 [00:01<00:00, 36.06it/s]\n",
            "Epoch 638\n"
          ]
        },
        {
          "output_type": "stream",
          "name": "stdout",
          "text": [
            "107.679\n"
          ]
        },
        {
          "output_type": "stream",
          "name": "stderr",
          "text": [
            "Train: 100%|██████████| 813/813 [00:23<00:00, 35.28it/s]\n",
            "Eval : 100%|██████████| 63/63 [00:01<00:00, 35.87it/s]\n",
            "Epoch 639\n"
          ]
        },
        {
          "output_type": "stream",
          "name": "stdout",
          "text": [
            "108.022\n"
          ]
        },
        {
          "output_type": "stream",
          "name": "stderr",
          "text": [
            "Train: 100%|██████████| 813/813 [00:29<00:00, 27.77it/s]\n",
            "Eval : 100%|██████████| 63/63 [00:01<00:00, 36.40it/s]\n",
            "Epoch 640\n"
          ]
        },
        {
          "output_type": "stream",
          "name": "stdout",
          "text": [
            "108.022\n"
          ]
        },
        {
          "output_type": "stream",
          "name": "stderr",
          "text": [
            "Train: 100%|██████████| 813/813 [00:22<00:00, 35.40it/s]\n",
            "Eval : 100%|██████████| 63/63 [00:01<00:00, 35.68it/s]\n",
            "Epoch 641\n"
          ]
        },
        {
          "output_type": "stream",
          "name": "stdout",
          "text": [
            "108.108\n"
          ]
        },
        {
          "output_type": "stream",
          "name": "stderr",
          "text": [
            "Train: 100%|██████████| 813/813 [00:29<00:00, 28.01it/s]\n",
            "Eval : 100%|██████████| 63/63 [00:01<00:00, 35.52it/s]\n",
            "Epoch 642\n"
          ]
        },
        {
          "output_type": "stream",
          "name": "stdout",
          "text": [
            "108.108\n"
          ]
        },
        {
          "output_type": "stream",
          "name": "stderr",
          "text": [
            "Train: 100%|██████████| 813/813 [00:23<00:00, 35.05it/s]\n",
            "Eval : 100%|██████████| 63/63 [00:01<00:00, 35.90it/s]\n",
            "Epoch 643\n"
          ]
        },
        {
          "output_type": "stream",
          "name": "stdout",
          "text": [
            "108.054\n"
          ]
        },
        {
          "output_type": "stream",
          "name": "stderr",
          "text": [
            "Train: 100%|██████████| 813/813 [00:29<00:00, 27.54it/s]\n",
            "Eval : 100%|██████████| 63/63 [00:01<00:00, 35.48it/s]\n",
            "Epoch 644\n"
          ]
        },
        {
          "output_type": "stream",
          "name": "stdout",
          "text": [
            "108.054\n"
          ]
        },
        {
          "output_type": "stream",
          "name": "stderr",
          "text": [
            "Train: 100%|██████████| 813/813 [00:23<00:00, 35.25it/s]\n",
            "Eval : 100%|██████████| 63/63 [00:01<00:00, 36.21it/s]\n",
            "Epoch 645\n"
          ]
        },
        {
          "output_type": "stream",
          "name": "stdout",
          "text": [
            "108.479\n"
          ]
        },
        {
          "output_type": "stream",
          "name": "stderr",
          "text": [
            "Train: 100%|██████████| 813/813 [00:28<00:00, 28.10it/s]\n",
            "Eval : 100%|██████████| 63/63 [00:01<00:00, 36.08it/s]\n",
            "Epoch 646\n"
          ]
        },
        {
          "output_type": "stream",
          "name": "stdout",
          "text": [
            "108.479\n"
          ]
        },
        {
          "output_type": "stream",
          "name": "stderr",
          "text": [
            "Train: 100%|██████████| 813/813 [00:23<00:00, 35.01it/s]\n",
            "Eval : 100%|██████████| 63/63 [00:01<00:00, 36.51it/s]\n",
            "Epoch 647\n"
          ]
        },
        {
          "output_type": "stream",
          "name": "stdout",
          "text": [
            "107.542\n"
          ]
        },
        {
          "output_type": "stream",
          "name": "stderr",
          "text": [
            "Train: 100%|██████████| 813/813 [00:29<00:00, 27.95it/s]\n",
            "Eval : 100%|██████████| 63/63 [00:01<00:00, 34.84it/s]\n",
            "Epoch 648\n"
          ]
        },
        {
          "output_type": "stream",
          "name": "stdout",
          "text": [
            "107.542\n"
          ]
        },
        {
          "output_type": "stream",
          "name": "stderr",
          "text": [
            "Train: 100%|██████████| 813/813 [00:23<00:00, 34.87it/s]\n",
            "Eval : 100%|██████████| 63/63 [00:01<00:00, 35.79it/s]\n",
            "Epoch 649\n"
          ]
        },
        {
          "output_type": "stream",
          "name": "stdout",
          "text": [
            "107.749\n"
          ]
        },
        {
          "output_type": "stream",
          "name": "stderr",
          "text": [
            "Train: 100%|██████████| 813/813 [00:28<00:00, 28.13it/s]\n",
            "Eval : 100%|██████████| 63/63 [00:01<00:00, 36.23it/s]\n",
            "Epoch 650\n"
          ]
        },
        {
          "output_type": "stream",
          "name": "stdout",
          "text": [
            "107.749\n"
          ]
        },
        {
          "output_type": "stream",
          "name": "stderr",
          "text": [
            "Train: 100%|██████████| 813/813 [00:23<00:00, 34.72it/s]\n",
            "Eval : 100%|██████████| 63/63 [00:01<00:00, 36.24it/s]\n",
            "Epoch 651\n"
          ]
        },
        {
          "output_type": "stream",
          "name": "stdout",
          "text": [
            "108.148\n"
          ]
        },
        {
          "output_type": "stream",
          "name": "stderr",
          "text": [
            "Train: 100%|██████████| 813/813 [00:29<00:00, 27.94it/s]\n",
            "Eval : 100%|██████████| 63/63 [00:01<00:00, 36.24it/s]\n",
            "Epoch 652\n"
          ]
        },
        {
          "output_type": "stream",
          "name": "stdout",
          "text": [
            "108.148\n"
          ]
        },
        {
          "output_type": "stream",
          "name": "stderr",
          "text": [
            "Train: 100%|██████████| 813/813 [00:23<00:00, 35.05it/s]\n",
            "Eval : 100%|██████████| 63/63 [00:01<00:00, 36.40it/s]\n",
            "Epoch 653\n"
          ]
        },
        {
          "output_type": "stream",
          "name": "stdout",
          "text": [
            "108.242\n"
          ]
        },
        {
          "output_type": "stream",
          "name": "stderr",
          "text": [
            "Train: 100%|██████████| 813/813 [00:28<00:00, 28.17it/s]\n",
            "Eval : 100%|██████████| 63/63 [00:01<00:00, 36.59it/s]\n",
            "Epoch 654\n"
          ]
        },
        {
          "output_type": "stream",
          "name": "stdout",
          "text": [
            "108.242\n"
          ]
        },
        {
          "output_type": "stream",
          "name": "stderr",
          "text": [
            "Train: 100%|██████████| 813/813 [00:23<00:00, 34.59it/s]\n",
            "Eval : 100%|██████████| 63/63 [00:01<00:00, 34.04it/s]\n",
            "Epoch 655\n"
          ]
        },
        {
          "output_type": "stream",
          "name": "stdout",
          "text": [
            "108.592\n"
          ]
        },
        {
          "output_type": "stream",
          "name": "stderr",
          "text": [
            "Train: 100%|██████████| 813/813 [00:29<00:00, 27.84it/s]\n",
            "Eval : 100%|██████████| 63/63 [00:01<00:00, 34.89it/s]\n",
            "Epoch 656\n"
          ]
        },
        {
          "output_type": "stream",
          "name": "stdout",
          "text": [
            "108.592\n"
          ]
        },
        {
          "output_type": "stream",
          "name": "stderr",
          "text": [
            "Train: 100%|██████████| 813/813 [00:23<00:00, 34.97it/s]\n",
            "Eval : 100%|██████████| 63/63 [00:01<00:00, 35.84it/s]\n",
            "Epoch 657\n"
          ]
        },
        {
          "output_type": "stream",
          "name": "stdout",
          "text": [
            "108.031\n"
          ]
        },
        {
          "output_type": "stream",
          "name": "stderr",
          "text": [
            "Train: 100%|██████████| 813/813 [00:28<00:00, 28.07it/s]\n",
            "Eval : 100%|██████████| 63/63 [00:01<00:00, 36.25it/s]\n",
            "Epoch 658\n"
          ]
        },
        {
          "output_type": "stream",
          "name": "stdout",
          "text": [
            "108.031\n"
          ]
        },
        {
          "output_type": "stream",
          "name": "stderr",
          "text": [
            "Train: 100%|██████████| 813/813 [00:23<00:00, 35.11it/s]\n",
            "Eval : 100%|██████████| 63/63 [00:01<00:00, 35.32it/s]\n",
            "Epoch 659\n"
          ]
        },
        {
          "output_type": "stream",
          "name": "stdout",
          "text": [
            "108.597\n"
          ]
        },
        {
          "output_type": "stream",
          "name": "stderr",
          "text": [
            "Train: 100%|██████████| 813/813 [00:29<00:00, 27.87it/s]\n",
            "Eval : 100%|██████████| 63/63 [00:01<00:00, 36.05it/s]\n",
            "Epoch 660\n"
          ]
        },
        {
          "output_type": "stream",
          "name": "stdout",
          "text": [
            "108.597\n"
          ]
        },
        {
          "output_type": "stream",
          "name": "stderr",
          "text": [
            "Train: 100%|██████████| 813/813 [00:22<00:00, 35.53it/s]\n",
            "Eval : 100%|██████████| 63/63 [00:01<00:00, 35.98it/s]\n",
            "Epoch 661\n"
          ]
        },
        {
          "output_type": "stream",
          "name": "stdout",
          "text": [
            "107.747\n"
          ]
        },
        {
          "output_type": "stream",
          "name": "stderr",
          "text": [
            "Train: 100%|██████████| 813/813 [00:29<00:00, 27.84it/s]\n",
            "Eval : 100%|██████████| 63/63 [00:01<00:00, 36.41it/s]\n",
            "Epoch 662\n"
          ]
        },
        {
          "output_type": "stream",
          "name": "stdout",
          "text": [
            "107.747\n"
          ]
        },
        {
          "output_type": "stream",
          "name": "stderr",
          "text": [
            "Train: 100%|██████████| 813/813 [00:22<00:00, 35.39it/s]\n",
            "Eval : 100%|██████████| 63/63 [00:01<00:00, 36.08it/s]\n",
            "Epoch 663\n"
          ]
        },
        {
          "output_type": "stream",
          "name": "stdout",
          "text": [
            "107.687\n"
          ]
        },
        {
          "output_type": "stream",
          "name": "stderr",
          "text": [
            "Train: 100%|██████████| 813/813 [00:28<00:00, 28.07it/s]\n",
            "Eval : 100%|██████████| 63/63 [00:01<00:00, 35.84it/s]\n",
            "Epoch 664\n"
          ]
        },
        {
          "output_type": "stream",
          "name": "stdout",
          "text": [
            "107.687\n"
          ]
        },
        {
          "output_type": "stream",
          "name": "stderr",
          "text": [
            "Train: 100%|██████████| 813/813 [00:22<00:00, 35.67it/s]\n",
            "Eval : 100%|██████████| 63/63 [00:01<00:00, 36.80it/s]\n",
            "Epoch 665\n"
          ]
        },
        {
          "output_type": "stream",
          "name": "stdout",
          "text": [
            "108.08\n"
          ]
        },
        {
          "output_type": "stream",
          "name": "stderr",
          "text": [
            "Train: 100%|██████████| 813/813 [00:29<00:00, 28.00it/s]\n",
            "Eval : 100%|██████████| 63/63 [00:01<00:00, 35.44it/s]\n",
            "Epoch 666\n"
          ]
        },
        {
          "output_type": "stream",
          "name": "stdout",
          "text": [
            "108.08\n"
          ]
        },
        {
          "output_type": "stream",
          "name": "stderr",
          "text": [
            "Train: 100%|██████████| 813/813 [00:23<00:00, 35.16it/s]\n",
            "Eval : 100%|██████████| 63/63 [00:01<00:00, 35.96it/s]\n",
            "Epoch 667\n"
          ]
        },
        {
          "output_type": "stream",
          "name": "stdout",
          "text": [
            "107.584\n"
          ]
        },
        {
          "output_type": "stream",
          "name": "stderr",
          "text": [
            "Train: 100%|██████████| 813/813 [00:29<00:00, 27.96it/s]\n",
            "Eval : 100%|██████████| 63/63 [00:01<00:00, 36.67it/s]\n",
            "Epoch 668\n"
          ]
        },
        {
          "output_type": "stream",
          "name": "stdout",
          "text": [
            "107.584\n"
          ]
        },
        {
          "output_type": "stream",
          "name": "stderr",
          "text": [
            "Train: 100%|██████████| 813/813 [00:23<00:00, 35.34it/s]\n",
            "Eval : 100%|██████████| 63/63 [00:01<00:00, 35.83it/s]\n",
            "Epoch 669\n"
          ]
        },
        {
          "output_type": "stream",
          "name": "stdout",
          "text": [
            "107.057\n"
          ]
        },
        {
          "output_type": "stream",
          "name": "stderr",
          "text": [
            "Train: 100%|██████████| 813/813 [00:28<00:00, 28.28it/s]\n",
            "Eval : 100%|██████████| 63/63 [00:01<00:00, 35.91it/s]\n",
            "Epoch 670\n"
          ]
        },
        {
          "output_type": "stream",
          "name": "stdout",
          "text": [
            "107.057\n"
          ]
        },
        {
          "output_type": "stream",
          "name": "stderr",
          "text": [
            "Train: 100%|██████████| 813/813 [00:23<00:00, 35.09it/s]\n",
            "Eval : 100%|██████████| 63/63 [00:01<00:00, 36.43it/s]\n",
            "Epoch 671\n"
          ]
        },
        {
          "output_type": "stream",
          "name": "stdout",
          "text": [
            "107.975\n"
          ]
        },
        {
          "output_type": "stream",
          "name": "stderr",
          "text": [
            "Train: 100%|██████████| 813/813 [00:29<00:00, 27.89it/s]\n",
            "Eval : 100%|██████████| 63/63 [00:01<00:00, 34.78it/s]\n",
            "Epoch 672\n"
          ]
        },
        {
          "output_type": "stream",
          "name": "stdout",
          "text": [
            "107.975\n"
          ]
        },
        {
          "output_type": "stream",
          "name": "stderr",
          "text": [
            "Train: 100%|██████████| 813/813 [00:23<00:00, 35.00it/s]\n",
            "Eval : 100%|██████████| 63/63 [00:01<00:00, 36.16it/s]\n",
            "Epoch 673\n"
          ]
        },
        {
          "output_type": "stream",
          "name": "stdout",
          "text": [
            "106.49\n"
          ]
        },
        {
          "output_type": "stream",
          "name": "stderr",
          "text": [
            "Train: 100%|██████████| 813/813 [00:28<00:00, 28.24it/s]\n",
            "Eval : 100%|██████████| 63/63 [00:01<00:00, 35.69it/s]\n",
            "Epoch 674\n"
          ]
        },
        {
          "output_type": "stream",
          "name": "stdout",
          "text": [
            "106.49\n"
          ]
        },
        {
          "output_type": "stream",
          "name": "stderr",
          "text": [
            "Train: 100%|██████████| 813/813 [00:23<00:00, 34.87it/s]\n",
            "Eval : 100%|██████████| 63/63 [00:01<00:00, 34.58it/s]\n",
            "Epoch 675\n"
          ]
        },
        {
          "output_type": "stream",
          "name": "stdout",
          "text": [
            "108.505\n"
          ]
        },
        {
          "output_type": "stream",
          "name": "stderr",
          "text": [
            "Train: 100%|██████████| 813/813 [00:28<00:00, 28.23it/s]\n",
            "Eval : 100%|██████████| 63/63 [00:01<00:00, 35.85it/s]\n",
            "Epoch 676\n"
          ]
        },
        {
          "output_type": "stream",
          "name": "stdout",
          "text": [
            "108.505\n"
          ]
        },
        {
          "output_type": "stream",
          "name": "stderr",
          "text": [
            "Train: 100%|██████████| 813/813 [00:23<00:00, 34.90it/s]\n",
            "Eval : 100%|██████████| 63/63 [00:01<00:00, 35.52it/s]\n",
            "Epoch 677\n"
          ]
        },
        {
          "output_type": "stream",
          "name": "stdout",
          "text": [
            "107.172\n"
          ]
        },
        {
          "output_type": "stream",
          "name": "stderr",
          "text": [
            "Train: 100%|██████████| 813/813 [00:28<00:00, 28.10it/s]\n",
            "Eval : 100%|██████████| 63/63 [00:01<00:00, 35.47it/s]\n",
            "Epoch 678\n"
          ]
        },
        {
          "output_type": "stream",
          "name": "stdout",
          "text": [
            "107.172\n"
          ]
        },
        {
          "output_type": "stream",
          "name": "stderr",
          "text": [
            "Train: 100%|██████████| 813/813 [00:23<00:00, 34.84it/s]\n",
            "Eval : 100%|██████████| 63/63 [00:01<00:00, 35.54it/s]\n",
            "Epoch 679\n"
          ]
        },
        {
          "output_type": "stream",
          "name": "stdout",
          "text": [
            "108.403\n"
          ]
        },
        {
          "output_type": "stream",
          "name": "stderr",
          "text": [
            "Train: 100%|██████████| 813/813 [00:28<00:00, 28.26it/s]\n",
            "Eval : 100%|██████████| 63/63 [00:01<00:00, 36.58it/s]\n",
            "Epoch 680\n"
          ]
        },
        {
          "output_type": "stream",
          "name": "stdout",
          "text": [
            "108.403\n"
          ]
        },
        {
          "output_type": "stream",
          "name": "stderr",
          "text": [
            "Train: 100%|██████████| 813/813 [00:23<00:00, 34.80it/s]\n",
            "Eval : 100%|██████████| 63/63 [00:01<00:00, 36.21it/s]\n",
            "Epoch 681\n"
          ]
        },
        {
          "output_type": "stream",
          "name": "stdout",
          "text": [
            "108.014\n"
          ]
        },
        {
          "output_type": "stream",
          "name": "stderr",
          "text": [
            "Train: 100%|██████████| 813/813 [00:29<00:00, 27.92it/s]\n",
            "Eval : 100%|██████████| 63/63 [00:01<00:00, 36.70it/s]\n",
            "Epoch 682\n"
          ]
        },
        {
          "output_type": "stream",
          "name": "stdout",
          "text": [
            "108.014\n"
          ]
        },
        {
          "output_type": "stream",
          "name": "stderr",
          "text": [
            "Train: 100%|██████████| 813/813 [00:23<00:00, 35.04it/s]\n",
            "Eval : 100%|██████████| 63/63 [00:01<00:00, 35.50it/s]\n",
            "Epoch 683\n"
          ]
        },
        {
          "output_type": "stream",
          "name": "stdout",
          "text": [
            "109.107\n"
          ]
        },
        {
          "output_type": "stream",
          "name": "stderr",
          "text": [
            "Train: 100%|██████████| 813/813 [00:29<00:00, 27.82it/s]\n",
            "Eval : 100%|██████████| 63/63 [00:01<00:00, 34.80it/s]\n",
            "Epoch 684\n"
          ]
        },
        {
          "output_type": "stream",
          "name": "stdout",
          "text": [
            "109.107\n"
          ]
        },
        {
          "output_type": "stream",
          "name": "stderr",
          "text": [
            "Train: 100%|██████████| 813/813 [00:23<00:00, 34.95it/s]\n",
            "Eval : 100%|██████████| 63/63 [00:01<00:00, 35.97it/s]\n",
            "Epoch 685\n"
          ]
        },
        {
          "output_type": "stream",
          "name": "stdout",
          "text": [
            "107.973\n"
          ]
        },
        {
          "output_type": "stream",
          "name": "stderr",
          "text": [
            "Train: 100%|██████████| 813/813 [00:29<00:00, 27.99it/s]\n",
            "Eval : 100%|██████████| 63/63 [00:01<00:00, 35.98it/s]\n",
            "Epoch 686\n"
          ]
        },
        {
          "output_type": "stream",
          "name": "stdout",
          "text": [
            "107.973\n"
          ]
        },
        {
          "output_type": "stream",
          "name": "stderr",
          "text": [
            "Train: 100%|██████████| 813/813 [00:23<00:00, 35.03it/s]\n",
            "Eval : 100%|██████████| 63/63 [00:01<00:00, 36.02it/s]\n",
            "Epoch 687\n"
          ]
        },
        {
          "output_type": "stream",
          "name": "stdout",
          "text": [
            "108.702\n"
          ]
        },
        {
          "output_type": "stream",
          "name": "stderr",
          "text": [
            "Train: 100%|██████████| 813/813 [00:29<00:00, 27.84it/s]\n",
            "Eval : 100%|██████████| 63/63 [00:01<00:00, 35.92it/s]\n",
            "Epoch 688\n"
          ]
        },
        {
          "output_type": "stream",
          "name": "stdout",
          "text": [
            "108.702\n"
          ]
        },
        {
          "output_type": "stream",
          "name": "stderr",
          "text": [
            "Train: 100%|██████████| 813/813 [00:22<00:00, 35.51it/s]\n",
            "Eval : 100%|██████████| 63/63 [00:01<00:00, 35.96it/s]\n",
            "Epoch 689\n"
          ]
        },
        {
          "output_type": "stream",
          "name": "stdout",
          "text": [
            "107.533\n"
          ]
        },
        {
          "output_type": "stream",
          "name": "stderr",
          "text": [
            "Train: 100%|██████████| 813/813 [00:29<00:00, 27.77it/s]\n",
            "Eval : 100%|██████████| 63/63 [00:01<00:00, 36.59it/s]\n",
            "Epoch 690\n"
          ]
        },
        {
          "output_type": "stream",
          "name": "stdout",
          "text": [
            "107.533\n"
          ]
        },
        {
          "output_type": "stream",
          "name": "stderr",
          "text": [
            "Train: 100%|██████████| 813/813 [00:23<00:00, 35.32it/s]\n",
            "Eval : 100%|██████████| 63/63 [00:01<00:00, 36.46it/s]\n",
            "Epoch 691\n"
          ]
        },
        {
          "output_type": "stream",
          "name": "stdout",
          "text": [
            "107.747\n"
          ]
        },
        {
          "output_type": "stream",
          "name": "stderr",
          "text": [
            "Train: 100%|██████████| 813/813 [00:29<00:00, 27.91it/s]\n",
            "Eval : 100%|██████████| 63/63 [00:01<00:00, 37.31it/s]\n",
            "Epoch 692\n"
          ]
        },
        {
          "output_type": "stream",
          "name": "stdout",
          "text": [
            "107.747\n"
          ]
        },
        {
          "output_type": "stream",
          "name": "stderr",
          "text": [
            "Train: 100%|██████████| 813/813 [00:23<00:00, 35.22it/s]\n",
            "Eval : 100%|██████████| 63/63 [00:01<00:00, 36.33it/s]\n",
            "Epoch 693\n"
          ]
        },
        {
          "output_type": "stream",
          "name": "stdout",
          "text": [
            "108.196\n"
          ]
        },
        {
          "output_type": "stream",
          "name": "stderr",
          "text": [
            "Train: 100%|██████████| 813/813 [00:29<00:00, 27.80it/s]\n",
            "Eval : 100%|██████████| 63/63 [00:01<00:00, 36.11it/s]\n",
            "Epoch 694\n"
          ]
        },
        {
          "output_type": "stream",
          "name": "stdout",
          "text": [
            "108.196\n"
          ]
        },
        {
          "output_type": "stream",
          "name": "stderr",
          "text": [
            "Train: 100%|██████████| 813/813 [00:22<00:00, 35.49it/s]\n",
            "Eval : 100%|██████████| 63/63 [00:01<00:00, 36.38it/s]\n",
            "Epoch 695\n"
          ]
        },
        {
          "output_type": "stream",
          "name": "stdout",
          "text": [
            "107.762\n"
          ]
        },
        {
          "output_type": "stream",
          "name": "stderr",
          "text": [
            "Train: 100%|██████████| 813/813 [00:29<00:00, 27.94it/s]\n",
            "Eval : 100%|██████████| 63/63 [00:01<00:00, 36.15it/s]\n",
            "Epoch 696\n"
          ]
        },
        {
          "output_type": "stream",
          "name": "stdout",
          "text": [
            "107.762\n"
          ]
        },
        {
          "output_type": "stream",
          "name": "stderr",
          "text": [
            "Train: 100%|██████████| 813/813 [00:23<00:00, 35.22it/s]\n",
            "Eval : 100%|██████████| 63/63 [00:01<00:00, 35.66it/s]\n",
            "Epoch 697\n"
          ]
        },
        {
          "output_type": "stream",
          "name": "stdout",
          "text": [
            "108.412\n"
          ]
        },
        {
          "output_type": "stream",
          "name": "stderr",
          "text": [
            "Train: 100%|██████████| 813/813 [00:29<00:00, 27.95it/s]\n",
            "Eval : 100%|██████████| 63/63 [00:01<00:00, 35.63it/s]\n",
            "Epoch 698\n"
          ]
        },
        {
          "output_type": "stream",
          "name": "stdout",
          "text": [
            "108.412\n"
          ]
        },
        {
          "output_type": "stream",
          "name": "stderr",
          "text": [
            "Train: 100%|██████████| 813/813 [00:23<00:00, 34.95it/s]\n",
            "Eval : 100%|██████████| 63/63 [00:01<00:00, 34.93it/s]\n",
            "Epoch 699\n"
          ]
        },
        {
          "output_type": "stream",
          "name": "stdout",
          "text": [
            "108.326\n"
          ]
        },
        {
          "output_type": "stream",
          "name": "stderr",
          "text": [
            "Train: 100%|██████████| 813/813 [00:29<00:00, 27.99it/s]\n",
            "Eval : 100%|██████████| 63/63 [00:01<00:00, 35.50it/s]\n",
            "Epoch 700\n"
          ]
        },
        {
          "output_type": "stream",
          "name": "stdout",
          "text": [
            "108.326\n"
          ]
        },
        {
          "output_type": "stream",
          "name": "stderr",
          "text": [
            "Train: 100%|██████████| 813/813 [00:23<00:00, 34.77it/s]\n",
            "Eval : 100%|██████████| 63/63 [00:01<00:00, 36.04it/s]\n",
            "Epoch 701\n"
          ]
        },
        {
          "output_type": "stream",
          "name": "stdout",
          "text": [
            "108.879\n"
          ]
        },
        {
          "output_type": "stream",
          "name": "stderr",
          "text": [
            "Train: 100%|██████████| 813/813 [00:29<00:00, 28.03it/s]\n",
            "Eval : 100%|██████████| 63/63 [00:01<00:00, 36.27it/s]\n",
            "Epoch 702\n"
          ]
        },
        {
          "output_type": "stream",
          "name": "stdout",
          "text": [
            "108.879\n"
          ]
        },
        {
          "output_type": "stream",
          "name": "stderr",
          "text": [
            "Train: 100%|██████████| 813/813 [00:23<00:00, 35.06it/s]\n",
            "Eval : 100%|██████████| 63/63 [00:01<00:00, 36.50it/s]\n",
            "Epoch 703\n"
          ]
        },
        {
          "output_type": "stream",
          "name": "stdout",
          "text": [
            "107.889\n"
          ]
        },
        {
          "output_type": "stream",
          "name": "stderr",
          "text": [
            "Train: 100%|██████████| 813/813 [00:28<00:00, 28.13it/s]\n",
            "Eval : 100%|██████████| 63/63 [00:01<00:00, 35.75it/s]\n",
            "Epoch 704\n"
          ]
        },
        {
          "output_type": "stream",
          "name": "stdout",
          "text": [
            "107.889\n"
          ]
        },
        {
          "output_type": "stream",
          "name": "stderr",
          "text": [
            "Train: 100%|██████████| 813/813 [00:23<00:00, 35.09it/s]\n",
            "Eval : 100%|██████████| 63/63 [00:01<00:00, 37.08it/s]\n",
            "Epoch 705\n"
          ]
        },
        {
          "output_type": "stream",
          "name": "stdout",
          "text": [
            "109.138\n"
          ]
        },
        {
          "output_type": "stream",
          "name": "stderr",
          "text": [
            "Train: 100%|██████████| 813/813 [00:28<00:00, 28.18it/s]\n",
            "Eval : 100%|██████████| 63/63 [00:01<00:00, 36.52it/s]\n",
            "Epoch 706\n"
          ]
        },
        {
          "output_type": "stream",
          "name": "stdout",
          "text": [
            "109.138\n"
          ]
        },
        {
          "output_type": "stream",
          "name": "stderr",
          "text": [
            "Train: 100%|██████████| 813/813 [00:23<00:00, 35.20it/s]\n",
            "Eval : 100%|██████████| 63/63 [00:01<00:00, 36.57it/s]\n",
            "Epoch 707\n"
          ]
        },
        {
          "output_type": "stream",
          "name": "stdout",
          "text": [
            "107.582\n"
          ]
        },
        {
          "output_type": "stream",
          "name": "stderr",
          "text": [
            "Train: 100%|██████████| 813/813 [00:28<00:00, 28.63it/s]\n",
            "Eval : 100%|██████████| 63/63 [00:01<00:00, 37.25it/s]\n",
            "Epoch 708\n"
          ]
        },
        {
          "output_type": "stream",
          "name": "stdout",
          "text": [
            "107.582\n"
          ]
        },
        {
          "output_type": "stream",
          "name": "stderr",
          "text": [
            "Train: 100%|██████████| 813/813 [00:22<00:00, 35.94it/s]\n",
            "Eval : 100%|██████████| 63/63 [00:01<00:00, 35.91it/s]\n",
            "Epoch 709\n"
          ]
        },
        {
          "output_type": "stream",
          "name": "stdout",
          "text": [
            "108.068\n"
          ]
        },
        {
          "output_type": "stream",
          "name": "stderr",
          "text": [
            "Train: 100%|██████████| 813/813 [00:28<00:00, 28.46it/s]\n",
            "Eval : 100%|██████████| 63/63 [00:01<00:00, 36.50it/s]\n",
            "Epoch 710\n"
          ]
        },
        {
          "output_type": "stream",
          "name": "stdout",
          "text": [
            "108.068\n"
          ]
        },
        {
          "output_type": "stream",
          "name": "stderr",
          "text": [
            "Train: 100%|██████████| 813/813 [00:22<00:00, 36.14it/s]\n",
            "Eval : 100%|██████████| 63/63 [00:01<00:00, 36.99it/s]\n",
            "Epoch 711\n"
          ]
        },
        {
          "output_type": "stream",
          "name": "stdout",
          "text": [
            "108.028\n"
          ]
        },
        {
          "output_type": "stream",
          "name": "stderr",
          "text": [
            "Train: 100%|██████████| 813/813 [00:28<00:00, 28.76it/s]\n",
            "Eval : 100%|██████████| 63/63 [00:01<00:00, 37.48it/s]\n",
            "Epoch 712\n"
          ]
        },
        {
          "output_type": "stream",
          "name": "stdout",
          "text": [
            "108.028\n"
          ]
        },
        {
          "output_type": "stream",
          "name": "stderr",
          "text": [
            "Train: 100%|██████████| 813/813 [00:22<00:00, 36.30it/s]\n",
            "Eval : 100%|██████████| 63/63 [00:01<00:00, 36.25it/s]\n",
            "Epoch 713\n"
          ]
        },
        {
          "output_type": "stream",
          "name": "stdout",
          "text": [
            "108.724\n"
          ]
        },
        {
          "output_type": "stream",
          "name": "stderr",
          "text": [
            "Train: 100%|██████████| 813/813 [00:28<00:00, 28.77it/s]\n",
            "Eval : 100%|██████████| 63/63 [00:01<00:00, 37.25it/s]\n",
            "Epoch 714\n"
          ]
        },
        {
          "output_type": "stream",
          "name": "stdout",
          "text": [
            "108.724\n"
          ]
        },
        {
          "output_type": "stream",
          "name": "stderr",
          "text": [
            "Train: 100%|██████████| 813/813 [00:22<00:00, 36.14it/s]\n",
            "Eval : 100%|██████████| 63/63 [00:01<00:00, 36.77it/s]\n",
            "Epoch 715\n"
          ]
        },
        {
          "output_type": "stream",
          "name": "stdout",
          "text": [
            "108.14\n"
          ]
        },
        {
          "output_type": "stream",
          "name": "stderr",
          "text": [
            "Train: 100%|██████████| 813/813 [00:28<00:00, 28.58it/s]\n",
            "Eval : 100%|██████████| 63/63 [00:01<00:00, 36.93it/s]\n",
            "Epoch 716\n"
          ]
        },
        {
          "output_type": "stream",
          "name": "stdout",
          "text": [
            "108.14\n"
          ]
        },
        {
          "output_type": "stream",
          "name": "stderr",
          "text": [
            "Train: 100%|██████████| 813/813 [00:22<00:00, 35.97it/s]\n",
            "Eval : 100%|██████████| 63/63 [00:01<00:00, 36.98it/s]\n",
            "Epoch 717\n"
          ]
        },
        {
          "output_type": "stream",
          "name": "stdout",
          "text": [
            "107.772\n"
          ]
        },
        {
          "output_type": "stream",
          "name": "stderr",
          "text": [
            "Train: 100%|██████████| 813/813 [00:28<00:00, 28.57it/s]\n",
            "Eval : 100%|██████████| 63/63 [00:01<00:00, 37.26it/s]\n",
            "Epoch 718\n"
          ]
        },
        {
          "output_type": "stream",
          "name": "stdout",
          "text": [
            "107.772\n"
          ]
        },
        {
          "output_type": "stream",
          "name": "stderr",
          "text": [
            "Train: 100%|██████████| 813/813 [00:22<00:00, 35.87it/s]\n",
            "Eval : 100%|██████████| 63/63 [00:01<00:00, 37.03it/s]\n",
            "Epoch 719\n"
          ]
        },
        {
          "output_type": "stream",
          "name": "stdout",
          "text": [
            "108.858\n"
          ]
        },
        {
          "output_type": "stream",
          "name": "stderr",
          "text": [
            "Train: 100%|██████████| 813/813 [00:28<00:00, 28.61it/s]\n",
            "Eval : 100%|██████████| 63/63 [00:01<00:00, 36.93it/s]\n",
            "Epoch 720\n"
          ]
        },
        {
          "output_type": "stream",
          "name": "stdout",
          "text": [
            "108.858\n"
          ]
        },
        {
          "output_type": "stream",
          "name": "stderr",
          "text": [
            "Train: 100%|██████████| 813/813 [00:22<00:00, 36.19it/s]\n",
            "Eval : 100%|██████████| 63/63 [00:01<00:00, 36.82it/s]\n",
            "Epoch 721\n"
          ]
        },
        {
          "output_type": "stream",
          "name": "stdout",
          "text": [
            "108.719\n"
          ]
        },
        {
          "output_type": "stream",
          "name": "stderr",
          "text": [
            "Train: 100%|██████████| 813/813 [00:28<00:00, 28.68it/s]\n",
            "Eval : 100%|██████████| 63/63 [00:01<00:00, 37.00it/s]\n",
            "Epoch 722\n"
          ]
        },
        {
          "output_type": "stream",
          "name": "stdout",
          "text": [
            "108.719\n"
          ]
        },
        {
          "output_type": "stream",
          "name": "stderr",
          "text": [
            "Train: 100%|██████████| 813/813 [00:22<00:00, 35.66it/s]\n",
            "Eval : 100%|██████████| 63/63 [00:01<00:00, 36.29it/s]\n",
            "Epoch 723\n"
          ]
        },
        {
          "output_type": "stream",
          "name": "stdout",
          "text": [
            "107.41\n"
          ]
        },
        {
          "output_type": "stream",
          "name": "stderr",
          "text": [
            "Train: 100%|██████████| 813/813 [00:28<00:00, 28.51it/s]\n",
            "Eval : 100%|██████████| 63/63 [00:01<00:00, 35.17it/s]\n",
            "Epoch 724\n"
          ]
        },
        {
          "output_type": "stream",
          "name": "stdout",
          "text": [
            "107.41\n"
          ]
        },
        {
          "output_type": "stream",
          "name": "stderr",
          "text": [
            "Train: 100%|██████████| 813/813 [00:23<00:00, 34.46it/s]\n",
            "Eval : 100%|██████████| 63/63 [00:01<00:00, 35.48it/s]\n",
            "Epoch 725\n"
          ]
        },
        {
          "output_type": "stream",
          "name": "stdout",
          "text": [
            "108.9\n"
          ]
        },
        {
          "output_type": "stream",
          "name": "stderr",
          "text": [
            "Train: 100%|██████████| 813/813 [00:29<00:00, 27.17it/s]\n",
            "Eval : 100%|██████████| 63/63 [00:01<00:00, 35.25it/s]\n",
            "Epoch 726\n"
          ]
        },
        {
          "output_type": "stream",
          "name": "stdout",
          "text": [
            "108.9\n"
          ]
        },
        {
          "output_type": "stream",
          "name": "stderr",
          "text": [
            "Train: 100%|██████████| 813/813 [00:22<00:00, 35.40it/s]\n",
            "Eval : 100%|██████████| 63/63 [00:01<00:00, 36.52it/s]\n",
            "Epoch 727\n"
          ]
        },
        {
          "output_type": "stream",
          "name": "stdout",
          "text": [
            "107.526\n"
          ]
        },
        {
          "output_type": "stream",
          "name": "stderr",
          "text": [
            "Train: 100%|██████████| 813/813 [00:28<00:00, 28.41it/s]\n",
            "Eval : 100%|██████████| 63/63 [00:01<00:00, 36.48it/s]\n",
            "Epoch 728\n"
          ]
        },
        {
          "output_type": "stream",
          "name": "stdout",
          "text": [
            "107.526\n"
          ]
        },
        {
          "output_type": "stream",
          "name": "stderr",
          "text": [
            "Train: 100%|██████████| 813/813 [00:23<00:00, 35.24it/s]\n",
            "Eval : 100%|██████████| 63/63 [00:01<00:00, 35.85it/s]\n",
            "Epoch 729\n"
          ]
        },
        {
          "output_type": "stream",
          "name": "stdout",
          "text": [
            "108.653\n"
          ]
        },
        {
          "output_type": "stream",
          "name": "stderr",
          "text": [
            "Train: 100%|██████████| 813/813 [00:28<00:00, 28.34it/s]\n",
            "Eval : 100%|██████████| 63/63 [00:01<00:00, 36.51it/s]\n",
            "Epoch 730\n"
          ]
        },
        {
          "output_type": "stream",
          "name": "stdout",
          "text": [
            "108.653\n"
          ]
        },
        {
          "output_type": "stream",
          "name": "stderr",
          "text": [
            "Train: 100%|██████████| 813/813 [00:22<00:00, 35.40it/s]\n",
            "Eval : 100%|██████████| 63/63 [00:01<00:00, 36.69it/s]\n",
            "Epoch 731\n"
          ]
        },
        {
          "output_type": "stream",
          "name": "stdout",
          "text": [
            "108.006\n"
          ]
        },
        {
          "output_type": "stream",
          "name": "stderr",
          "text": [
            "Train: 100%|██████████| 813/813 [00:28<00:00, 28.35it/s]\n",
            "Eval : 100%|██████████| 63/63 [00:01<00:00, 37.22it/s]\n",
            "Epoch 732\n"
          ]
        },
        {
          "output_type": "stream",
          "name": "stdout",
          "text": [
            "108.006\n"
          ]
        },
        {
          "output_type": "stream",
          "name": "stderr",
          "text": [
            "Train: 100%|██████████| 813/813 [00:22<00:00, 35.67it/s]\n",
            "Eval : 100%|██████████| 63/63 [00:01<00:00, 36.17it/s]\n",
            "Epoch 733\n"
          ]
        },
        {
          "output_type": "stream",
          "name": "stdout",
          "text": [
            "108.627\n"
          ]
        },
        {
          "output_type": "stream",
          "name": "stderr",
          "text": [
            "Train: 100%|██████████| 813/813 [00:28<00:00, 28.42it/s]\n",
            "Eval : 100%|██████████| 63/63 [00:01<00:00, 36.89it/s]\n",
            "Epoch 734\n"
          ]
        },
        {
          "output_type": "stream",
          "name": "stdout",
          "text": [
            "108.627\n"
          ]
        },
        {
          "output_type": "stream",
          "name": "stderr",
          "text": [
            "Train: 100%|██████████| 813/813 [00:22<00:00, 35.50it/s]\n",
            "Eval : 100%|██████████| 63/63 [00:01<00:00, 36.53it/s]\n",
            "Epoch 735\n"
          ]
        },
        {
          "output_type": "stream",
          "name": "stdout",
          "text": [
            "107.402\n"
          ]
        },
        {
          "output_type": "stream",
          "name": "stderr",
          "text": [
            "Train: 100%|██████████| 813/813 [00:28<00:00, 28.34it/s]\n",
            "Eval : 100%|██████████| 63/63 [00:01<00:00, 36.89it/s]\n",
            "Epoch 736\n"
          ]
        },
        {
          "output_type": "stream",
          "name": "stdout",
          "text": [
            "107.402\n"
          ]
        },
        {
          "output_type": "stream",
          "name": "stderr",
          "text": [
            "Train: 100%|██████████| 813/813 [00:22<00:00, 35.73it/s]\n",
            "Eval : 100%|██████████| 63/63 [00:01<00:00, 35.90it/s]\n",
            "Epoch 737\n"
          ]
        },
        {
          "output_type": "stream",
          "name": "stdout",
          "text": [
            "107.993\n"
          ]
        },
        {
          "output_type": "stream",
          "name": "stderr",
          "text": [
            "Train: 100%|██████████| 813/813 [00:28<00:00, 28.15it/s]\n",
            "Eval : 100%|██████████| 63/63 [00:01<00:00, 36.54it/s]\n",
            "Epoch 738\n"
          ]
        },
        {
          "output_type": "stream",
          "name": "stdout",
          "text": [
            "107.993\n"
          ]
        },
        {
          "output_type": "stream",
          "name": "stderr",
          "text": [
            "Train: 100%|██████████| 813/813 [00:22<00:00, 35.35it/s]\n",
            "Eval : 100%|██████████| 63/63 [00:01<00:00, 36.03it/s]\n",
            "Epoch 739\n"
          ]
        },
        {
          "output_type": "stream",
          "name": "stdout",
          "text": [
            "108.778\n"
          ]
        },
        {
          "output_type": "stream",
          "name": "stderr",
          "text": [
            "Train: 100%|██████████| 813/813 [00:29<00:00, 27.89it/s]\n",
            "Eval : 100%|██████████| 63/63 [00:01<00:00, 35.22it/s]\n",
            "Epoch 740\n"
          ]
        },
        {
          "output_type": "stream",
          "name": "stdout",
          "text": [
            "108.778\n"
          ]
        },
        {
          "output_type": "stream",
          "name": "stderr",
          "text": [
            "Train: 100%|██████████| 813/813 [00:23<00:00, 35.21it/s]\n",
            "Eval : 100%|██████████| 63/63 [00:01<00:00, 37.16it/s]\n",
            "Epoch 741\n"
          ]
        },
        {
          "output_type": "stream",
          "name": "stdout",
          "text": [
            "108.563\n"
          ]
        },
        {
          "output_type": "stream",
          "name": "stderr",
          "text": [
            "Train: 100%|██████████| 813/813 [00:28<00:00, 28.14it/s]\n",
            "Eval : 100%|██████████| 63/63 [00:01<00:00, 35.68it/s]\n",
            "Epoch 742\n"
          ]
        },
        {
          "output_type": "stream",
          "name": "stdout",
          "text": [
            "108.563\n"
          ]
        },
        {
          "output_type": "stream",
          "name": "stderr",
          "text": [
            "Train: 100%|██████████| 813/813 [00:22<00:00, 35.52it/s]\n",
            "Eval : 100%|██████████| 63/63 [00:01<00:00, 36.37it/s]\n",
            "Epoch 743\n"
          ]
        },
        {
          "output_type": "stream",
          "name": "stdout",
          "text": [
            "107.741\n"
          ]
        },
        {
          "output_type": "stream",
          "name": "stderr",
          "text": [
            "Train: 100%|██████████| 813/813 [00:28<00:00, 28.39it/s]\n",
            "Eval : 100%|██████████| 63/63 [00:01<00:00, 36.39it/s]\n",
            "Epoch 744\n"
          ]
        },
        {
          "output_type": "stream",
          "name": "stdout",
          "text": [
            "107.741\n"
          ]
        },
        {
          "output_type": "stream",
          "name": "stderr",
          "text": [
            "Train: 100%|██████████| 813/813 [00:23<00:00, 35.09it/s]\n",
            "Eval : 100%|██████████| 63/63 [00:01<00:00, 36.63it/s]\n",
            "Epoch 745\n"
          ]
        },
        {
          "output_type": "stream",
          "name": "stdout",
          "text": [
            "108.981\n"
          ]
        },
        {
          "output_type": "stream",
          "name": "stderr",
          "text": [
            "Train: 100%|██████████| 813/813 [00:29<00:00, 27.77it/s]\n",
            "Eval : 100%|██████████| 63/63 [00:01<00:00, 36.12it/s]\n",
            "Epoch 746\n"
          ]
        },
        {
          "output_type": "stream",
          "name": "stdout",
          "text": [
            "108.981\n"
          ]
        },
        {
          "output_type": "stream",
          "name": "stderr",
          "text": [
            "Train: 100%|██████████| 813/813 [00:23<00:00, 34.86it/s]\n",
            "Eval : 100%|██████████| 63/63 [00:01<00:00, 35.44it/s]\n",
            "Epoch 747\n"
          ]
        },
        {
          "output_type": "stream",
          "name": "stdout",
          "text": [
            "108.156\n"
          ]
        },
        {
          "output_type": "stream",
          "name": "stderr",
          "text": [
            "Train: 100%|██████████| 813/813 [00:29<00:00, 27.92it/s]\n",
            "Eval : 100%|██████████| 63/63 [00:01<00:00, 35.96it/s]\n",
            "Epoch 748\n"
          ]
        },
        {
          "output_type": "stream",
          "name": "stdout",
          "text": [
            "108.156\n"
          ]
        },
        {
          "output_type": "stream",
          "name": "stderr",
          "text": [
            "Train: 100%|██████████| 813/813 [00:23<00:00, 34.00it/s]\n",
            "Eval : 100%|██████████| 63/63 [00:01<00:00, 35.32it/s]\n",
            "Epoch 749\n"
          ]
        },
        {
          "output_type": "stream",
          "name": "stdout",
          "text": [
            "109.134\n"
          ]
        },
        {
          "output_type": "stream",
          "name": "stderr",
          "text": [
            "Train: 100%|██████████| 813/813 [00:29<00:00, 27.73it/s]\n",
            "Eval : 100%|██████████| 63/63 [00:01<00:00, 36.02it/s]\n",
            "Epoch 750\n"
          ]
        },
        {
          "output_type": "stream",
          "name": "stdout",
          "text": [
            "109.134\n"
          ]
        },
        {
          "output_type": "stream",
          "name": "stderr",
          "text": [
            "Train: 100%|██████████| 813/813 [00:23<00:00, 34.65it/s]\n",
            "Eval : 100%|██████████| 63/63 [00:01<00:00, 35.34it/s]\n",
            "Epoch 751\n"
          ]
        },
        {
          "output_type": "stream",
          "name": "stdout",
          "text": [
            "107.859\n"
          ]
        },
        {
          "output_type": "stream",
          "name": "stderr",
          "text": [
            "Train: 100%|██████████| 813/813 [00:29<00:00, 27.71it/s]\n",
            "Eval : 100%|██████████| 63/63 [00:01<00:00, 35.29it/s]\n",
            "Epoch 752\n"
          ]
        },
        {
          "output_type": "stream",
          "name": "stdout",
          "text": [
            "107.859\n"
          ]
        },
        {
          "output_type": "stream",
          "name": "stderr",
          "text": [
            "Train: 100%|██████████| 813/813 [00:23<00:00, 34.86it/s]\n",
            "Eval : 100%|██████████| 63/63 [00:01<00:00, 35.68it/s]\n",
            "Epoch 753\n"
          ]
        },
        {
          "output_type": "stream",
          "name": "stdout",
          "text": [
            "109.151\n"
          ]
        },
        {
          "output_type": "stream",
          "name": "stderr",
          "text": [
            "Train: 100%|██████████| 813/813 [00:29<00:00, 27.99it/s]\n",
            "Eval : 100%|██████████| 63/63 [00:01<00:00, 36.04it/s]\n",
            "Epoch 754\n"
          ]
        },
        {
          "output_type": "stream",
          "name": "stdout",
          "text": [
            "109.151\n"
          ]
        },
        {
          "output_type": "stream",
          "name": "stderr",
          "text": [
            "Train: 100%|██████████| 813/813 [00:23<00:00, 35.31it/s]\n",
            "Eval : 100%|██████████| 63/63 [00:01<00:00, 36.11it/s]\n",
            "Epoch 755\n"
          ]
        },
        {
          "output_type": "stream",
          "name": "stdout",
          "text": [
            "107.68\n"
          ]
        },
        {
          "output_type": "stream",
          "name": "stderr",
          "text": [
            "Train: 100%|██████████| 813/813 [00:29<00:00, 27.86it/s]\n",
            "Eval : 100%|██████████| 63/63 [00:01<00:00, 35.66it/s]\n",
            "Epoch 756\n"
          ]
        },
        {
          "output_type": "stream",
          "name": "stdout",
          "text": [
            "107.68\n"
          ]
        },
        {
          "output_type": "stream",
          "name": "stderr",
          "text": [
            "Train: 100%|██████████| 813/813 [00:23<00:00, 35.03it/s]\n",
            "Eval : 100%|██████████| 63/63 [00:01<00:00, 36.60it/s]\n",
            "Epoch 757\n"
          ]
        },
        {
          "output_type": "stream",
          "name": "stdout",
          "text": [
            "108.309\n"
          ]
        },
        {
          "output_type": "stream",
          "name": "stderr",
          "text": [
            "Train: 100%|██████████| 813/813 [00:29<00:00, 27.79it/s]\n",
            "Eval : 100%|██████████| 63/63 [00:01<00:00, 36.62it/s]\n",
            "Epoch 758\n"
          ]
        },
        {
          "output_type": "stream",
          "name": "stdout",
          "text": [
            "108.309\n"
          ]
        },
        {
          "output_type": "stream",
          "name": "stderr",
          "text": [
            "Train: 100%|██████████| 813/813 [00:24<00:00, 33.79it/s]\n",
            "Eval : 100%|██████████| 63/63 [00:01<00:00, 34.31it/s]\n",
            "Epoch 759\n"
          ]
        },
        {
          "output_type": "stream",
          "name": "stdout",
          "text": [
            "108.351\n"
          ]
        },
        {
          "output_type": "stream",
          "name": "stderr",
          "text": [
            "Train: 100%|██████████| 813/813 [00:30<00:00, 26.26it/s]\n",
            "Eval : 100%|██████████| 63/63 [00:01<00:00, 35.56it/s]\n",
            "Epoch 760\n"
          ]
        },
        {
          "output_type": "stream",
          "name": "stdout",
          "text": [
            "108.351\n"
          ]
        },
        {
          "output_type": "stream",
          "name": "stderr",
          "text": [
            "Train: 100%|██████████| 813/813 [00:23<00:00, 34.19it/s]\n",
            "Eval : 100%|██████████| 63/63 [00:01<00:00, 35.91it/s]\n",
            "Epoch 761\n"
          ]
        },
        {
          "output_type": "stream",
          "name": "stdout",
          "text": [
            "109.176\n"
          ]
        },
        {
          "output_type": "stream",
          "name": "stderr",
          "text": [
            "Train: 100%|██████████| 813/813 [00:29<00:00, 27.46it/s]\n",
            "Eval : 100%|██████████| 63/63 [00:01<00:00, 36.07it/s]\n",
            "Epoch 762\n"
          ]
        },
        {
          "output_type": "stream",
          "name": "stdout",
          "text": [
            "109.176\n"
          ]
        },
        {
          "output_type": "stream",
          "name": "stderr",
          "text": [
            "Train: 100%|██████████| 813/813 [00:23<00:00, 34.29it/s]\n",
            "Eval : 100%|██████████| 63/63 [00:01<00:00, 34.21it/s]\n",
            "Epoch 763\n"
          ]
        },
        {
          "output_type": "stream",
          "name": "stdout",
          "text": [
            "107.394\n"
          ]
        },
        {
          "output_type": "stream",
          "name": "stderr",
          "text": [
            "Train: 100%|██████████| 813/813 [00:29<00:00, 27.97it/s]\n",
            "Eval : 100%|██████████| 63/63 [00:01<00:00, 36.46it/s]\n",
            "Epoch 764\n"
          ]
        },
        {
          "output_type": "stream",
          "name": "stdout",
          "text": [
            "107.394\n"
          ]
        },
        {
          "output_type": "stream",
          "name": "stderr",
          "text": [
            "Train: 100%|██████████| 813/813 [00:23<00:00, 35.26it/s]\n",
            "Eval : 100%|██████████| 63/63 [00:01<00:00, 36.07it/s]\n",
            "Epoch 765\n"
          ]
        },
        {
          "output_type": "stream",
          "name": "stdout",
          "text": [
            "109.14\n"
          ]
        },
        {
          "output_type": "stream",
          "name": "stderr",
          "text": [
            "Train: 100%|██████████| 813/813 [00:29<00:00, 27.95it/s]\n",
            "Eval : 100%|██████████| 63/63 [00:01<00:00, 35.99it/s]\n",
            "Epoch 766\n"
          ]
        },
        {
          "output_type": "stream",
          "name": "stdout",
          "text": [
            "109.14\n"
          ]
        },
        {
          "output_type": "stream",
          "name": "stderr",
          "text": [
            "Train: 100%|██████████| 813/813 [00:22<00:00, 35.35it/s]\n",
            "Eval : 100%|██████████| 63/63 [00:01<00:00, 35.67it/s]\n",
            "Epoch 767\n"
          ]
        },
        {
          "output_type": "stream",
          "name": "stdout",
          "text": [
            "107.629\n"
          ]
        },
        {
          "output_type": "stream",
          "name": "stderr",
          "text": [
            "Train: 100%|██████████| 813/813 [00:28<00:00, 28.20it/s]\n",
            "Eval : 100%|██████████| 63/63 [00:01<00:00, 34.67it/s]\n",
            "Epoch 768\n"
          ]
        },
        {
          "output_type": "stream",
          "name": "stdout",
          "text": [
            "107.629\n"
          ]
        },
        {
          "output_type": "stream",
          "name": "stderr",
          "text": [
            "Train: 100%|██████████| 813/813 [00:22<00:00, 35.38it/s]\n",
            "Eval : 100%|██████████| 63/63 [00:01<00:00, 36.84it/s]\n",
            "Epoch 769\n"
          ]
        },
        {
          "output_type": "stream",
          "name": "stdout",
          "text": [
            "108.658\n"
          ]
        },
        {
          "output_type": "stream",
          "name": "stderr",
          "text": [
            "Train: 100%|██████████| 813/813 [00:28<00:00, 28.10it/s]\n",
            "Eval : 100%|██████████| 63/63 [00:01<00:00, 37.22it/s]\n",
            "Epoch 770\n"
          ]
        },
        {
          "output_type": "stream",
          "name": "stdout",
          "text": [
            "108.658\n"
          ]
        },
        {
          "output_type": "stream",
          "name": "stderr",
          "text": [
            "Train: 100%|██████████| 813/813 [00:22<00:00, 35.47it/s]\n",
            "Eval : 100%|██████████| 63/63 [00:01<00:00, 36.63it/s]\n",
            "Epoch 771\n"
          ]
        },
        {
          "output_type": "stream",
          "name": "stdout",
          "text": [
            "107.901\n"
          ]
        },
        {
          "output_type": "stream",
          "name": "stderr",
          "text": [
            "Train: 100%|██████████| 813/813 [00:29<00:00, 27.98it/s]\n",
            "Eval : 100%|██████████| 63/63 [00:01<00:00, 36.99it/s]\n",
            "Epoch 772\n"
          ]
        },
        {
          "output_type": "stream",
          "name": "stdout",
          "text": [
            "107.901\n"
          ]
        },
        {
          "output_type": "stream",
          "name": "stderr",
          "text": [
            "Train: 100%|██████████| 813/813 [00:22<00:00, 35.38it/s]\n",
            "Eval : 100%|██████████| 63/63 [00:01<00:00, 35.16it/s]\n",
            "Epoch 773\n"
          ]
        },
        {
          "output_type": "stream",
          "name": "stdout",
          "text": [
            "109.05\n"
          ]
        },
        {
          "output_type": "stream",
          "name": "stderr",
          "text": [
            "Train: 100%|██████████| 813/813 [00:28<00:00, 28.05it/s]\n",
            "Eval : 100%|██████████| 63/63 [00:01<00:00, 35.62it/s]\n",
            "Epoch 774\n"
          ]
        },
        {
          "output_type": "stream",
          "name": "stdout",
          "text": [
            "109.05\n"
          ]
        },
        {
          "output_type": "stream",
          "name": "stderr",
          "text": [
            "Train: 100%|██████████| 813/813 [00:23<00:00, 35.20it/s]\n",
            "Eval : 100%|██████████| 63/63 [00:01<00:00, 37.06it/s]\n",
            "Epoch 775\n"
          ]
        },
        {
          "output_type": "stream",
          "name": "stdout",
          "text": [
            "107.708\n"
          ]
        },
        {
          "output_type": "stream",
          "name": "stderr",
          "text": [
            "Train: 100%|██████████| 813/813 [00:28<00:00, 28.16it/s]\n",
            "Eval : 100%|██████████| 63/63 [00:01<00:00, 35.65it/s]\n",
            "Epoch 776\n"
          ]
        },
        {
          "output_type": "stream",
          "name": "stdout",
          "text": [
            "107.708\n"
          ]
        },
        {
          "output_type": "stream",
          "name": "stderr",
          "text": [
            "Train: 100%|██████████| 813/813 [00:23<00:00, 35.15it/s]\n",
            "Eval : 100%|██████████| 63/63 [00:01<00:00, 36.70it/s]\n",
            "Epoch 777\n"
          ]
        },
        {
          "output_type": "stream",
          "name": "stdout",
          "text": [
            "109.222\n"
          ]
        },
        {
          "output_type": "stream",
          "name": "stderr",
          "text": [
            "Train: 100%|██████████| 813/813 [00:29<00:00, 27.95it/s]\n",
            "Eval : 100%|██████████| 63/63 [00:01<00:00, 36.57it/s]\n",
            "Epoch 778\n"
          ]
        },
        {
          "output_type": "stream",
          "name": "stdout",
          "text": [
            "109.222\n"
          ]
        },
        {
          "output_type": "stream",
          "name": "stderr",
          "text": [
            "Train: 100%|██████████| 813/813 [00:22<00:00, 35.48it/s]\n",
            "Eval : 100%|██████████| 63/63 [00:01<00:00, 35.13it/s]\n",
            "Epoch 779\n"
          ]
        },
        {
          "output_type": "stream",
          "name": "stdout",
          "text": [
            "107.522\n"
          ]
        },
        {
          "output_type": "stream",
          "name": "stderr",
          "text": [
            "Train: 100%|██████████| 813/813 [00:29<00:00, 27.93it/s]\n",
            "Eval : 100%|██████████| 63/63 [00:01<00:00, 34.93it/s]\n",
            "Epoch 780\n"
          ]
        },
        {
          "output_type": "stream",
          "name": "stdout",
          "text": [
            "107.522\n"
          ]
        },
        {
          "output_type": "stream",
          "name": "stderr",
          "text": [
            "Train: 100%|██████████| 813/813 [00:23<00:00, 35.15it/s]\n",
            "Eval : 100%|██████████| 63/63 [00:01<00:00, 35.67it/s]\n",
            "Epoch 781\n"
          ]
        },
        {
          "output_type": "stream",
          "name": "stdout",
          "text": [
            "107.171\n"
          ]
        },
        {
          "output_type": "stream",
          "name": "stderr",
          "text": [
            "Train: 100%|██████████| 813/813 [00:29<00:00, 27.84it/s]\n",
            "Eval : 100%|██████████| 63/63 [00:01<00:00, 36.04it/s]\n",
            "Epoch 782\n"
          ]
        },
        {
          "output_type": "stream",
          "name": "stdout",
          "text": [
            "107.171\n"
          ]
        },
        {
          "output_type": "stream",
          "name": "stderr",
          "text": [
            "Train: 100%|██████████| 813/813 [00:23<00:00, 35.01it/s]\n",
            "Eval : 100%|██████████| 63/63 [00:01<00:00, 35.41it/s]\n",
            "Epoch 783\n"
          ]
        },
        {
          "output_type": "stream",
          "name": "stdout",
          "text": [
            "107.619\n"
          ]
        },
        {
          "output_type": "stream",
          "name": "stderr",
          "text": [
            "Train: 100%|██████████| 813/813 [00:29<00:00, 27.96it/s]\n",
            "Eval : 100%|██████████| 63/63 [00:01<00:00, 34.34it/s]\n",
            "Epoch 784\n"
          ]
        },
        {
          "output_type": "stream",
          "name": "stdout",
          "text": [
            "107.619\n"
          ]
        },
        {
          "output_type": "stream",
          "name": "stderr",
          "text": [
            "Train: 100%|██████████| 813/813 [00:23<00:00, 34.31it/s]\n",
            "Eval : 100%|██████████| 63/63 [00:01<00:00, 36.15it/s]\n",
            "Epoch 785\n"
          ]
        },
        {
          "output_type": "stream",
          "name": "stdout",
          "text": [
            "107.228\n"
          ]
        },
        {
          "output_type": "stream",
          "name": "stderr",
          "text": [
            "Train: 100%|██████████| 813/813 [00:29<00:00, 27.17it/s]\n",
            "Eval : 100%|██████████| 63/63 [00:01<00:00, 34.27it/s]\n",
            "Epoch 786\n"
          ]
        },
        {
          "output_type": "stream",
          "name": "stdout",
          "text": [
            "107.228\n"
          ]
        },
        {
          "output_type": "stream",
          "name": "stderr",
          "text": [
            "Train: 100%|██████████| 813/813 [00:24<00:00, 33.39it/s]\n",
            "Eval : 100%|██████████| 63/63 [00:01<00:00, 34.99it/s]\n",
            "Epoch 787\n"
          ]
        },
        {
          "output_type": "stream",
          "name": "stdout",
          "text": [
            "107.656\n"
          ]
        },
        {
          "output_type": "stream",
          "name": "stderr",
          "text": [
            "Train: 100%|██████████| 813/813 [00:30<00:00, 26.82it/s]\n",
            "Eval : 100%|██████████| 63/63 [00:01<00:00, 35.06it/s]\n",
            "Epoch 788\n"
          ]
        },
        {
          "output_type": "stream",
          "name": "stdout",
          "text": [
            "107.656\n"
          ]
        },
        {
          "output_type": "stream",
          "name": "stderr",
          "text": [
            "Train: 100%|██████████| 813/813 [00:24<00:00, 33.82it/s]\n",
            "Eval : 100%|██████████| 63/63 [00:01<00:00, 35.28it/s]\n",
            "Epoch 789\n"
          ]
        },
        {
          "output_type": "stream",
          "name": "stdout",
          "text": [
            "108.676\n"
          ]
        },
        {
          "output_type": "stream",
          "name": "stderr",
          "text": [
            "Train: 100%|██████████| 813/813 [00:30<00:00, 27.02it/s]\n",
            "Eval : 100%|██████████| 63/63 [00:01<00:00, 35.43it/s]\n",
            "Epoch 790\n"
          ]
        },
        {
          "output_type": "stream",
          "name": "stdout",
          "text": [
            "108.676\n"
          ]
        },
        {
          "output_type": "stream",
          "name": "stderr",
          "text": [
            "Train: 100%|██████████| 813/813 [00:24<00:00, 33.60it/s]\n",
            "Eval : 100%|██████████| 63/63 [00:01<00:00, 34.53it/s]\n",
            "Epoch 791\n"
          ]
        },
        {
          "output_type": "stream",
          "name": "stdout",
          "text": [
            "106.071\n"
          ]
        },
        {
          "output_type": "stream",
          "name": "stderr",
          "text": [
            "Train: 100%|██████████| 813/813 [00:30<00:00, 26.96it/s]\n",
            "Eval : 100%|██████████| 63/63 [00:01<00:00, 35.33it/s]\n",
            "Epoch 792\n"
          ]
        },
        {
          "output_type": "stream",
          "name": "stdout",
          "text": [
            "106.071\n"
          ]
        },
        {
          "output_type": "stream",
          "name": "stderr",
          "text": [
            "Train: 100%|██████████| 813/813 [00:24<00:00, 33.65it/s]\n",
            "Eval : 100%|██████████| 63/63 [00:01<00:00, 35.17it/s]\n",
            "Epoch 793\n"
          ]
        },
        {
          "output_type": "stream",
          "name": "stdout",
          "text": [
            "108.395\n"
          ]
        },
        {
          "output_type": "stream",
          "name": "stderr",
          "text": [
            "Train: 100%|██████████| 813/813 [00:30<00:00, 26.98it/s]\n",
            "Eval : 100%|██████████| 63/63 [00:01<00:00, 34.78it/s]\n",
            "Epoch 794\n"
          ]
        },
        {
          "output_type": "stream",
          "name": "stdout",
          "text": [
            "108.395\n"
          ]
        },
        {
          "output_type": "stream",
          "name": "stderr",
          "text": [
            "Train: 100%|██████████| 813/813 [00:24<00:00, 33.63it/s]\n",
            "Eval : 100%|██████████| 63/63 [00:01<00:00, 34.55it/s]\n",
            "Epoch 795\n"
          ]
        },
        {
          "output_type": "stream",
          "name": "stdout",
          "text": [
            "106.9\n"
          ]
        },
        {
          "output_type": "stream",
          "name": "stderr",
          "text": [
            "Train: 100%|██████████| 813/813 [00:30<00:00, 26.82it/s]\n",
            "Eval : 100%|██████████| 63/63 [00:01<00:00, 35.31it/s]\n",
            "Epoch 796\n"
          ]
        },
        {
          "output_type": "stream",
          "name": "stdout",
          "text": [
            "106.9\n"
          ]
        },
        {
          "output_type": "stream",
          "name": "stderr",
          "text": [
            "Train: 100%|██████████| 813/813 [00:24<00:00, 33.52it/s]\n",
            "Eval : 100%|██████████| 63/63 [00:01<00:00, 34.98it/s]\n",
            "Epoch 797\n"
          ]
        },
        {
          "output_type": "stream",
          "name": "stdout",
          "text": [
            "108.581\n"
          ]
        },
        {
          "output_type": "stream",
          "name": "stderr",
          "text": [
            "Train: 100%|██████████| 813/813 [00:30<00:00, 26.71it/s]\n",
            "Eval : 100%|██████████| 63/63 [00:01<00:00, 34.56it/s]\n",
            "Epoch 798\n"
          ]
        },
        {
          "output_type": "stream",
          "name": "stdout",
          "text": [
            "108.581\n"
          ]
        },
        {
          "output_type": "stream",
          "name": "stderr",
          "text": [
            "Train: 100%|██████████| 813/813 [00:24<00:00, 33.71it/s]\n",
            "Eval : 100%|██████████| 63/63 [00:01<00:00, 34.77it/s]\n",
            "Epoch 799\n"
          ]
        },
        {
          "output_type": "stream",
          "name": "stdout",
          "text": [
            "108.383\n"
          ]
        },
        {
          "output_type": "stream",
          "name": "stderr",
          "text": [
            "Train: 100%|██████████| 813/813 [00:30<00:00, 26.75it/s]\n",
            "Eval : 100%|██████████| 63/63 [00:01<00:00, 34.26it/s]\n",
            "Epoch 800\n"
          ]
        },
        {
          "output_type": "stream",
          "name": "stdout",
          "text": [
            "108.383\n"
          ]
        },
        {
          "output_type": "stream",
          "name": "stderr",
          "text": [
            "Train: 100%|██████████| 813/813 [00:24<00:00, 33.63it/s]\n",
            "Eval : 100%|██████████| 63/63 [00:01<00:00, 34.61it/s]\n",
            "Epoch 801\n"
          ]
        },
        {
          "output_type": "stream",
          "name": "stdout",
          "text": [
            "108.064\n"
          ]
        },
        {
          "output_type": "stream",
          "name": "stderr",
          "text": [
            "Train: 100%|██████████| 813/813 [00:30<00:00, 27.07it/s]\n",
            "Eval : 100%|██████████| 63/63 [00:01<00:00, 34.68it/s]\n",
            "Epoch 802\n"
          ]
        },
        {
          "output_type": "stream",
          "name": "stdout",
          "text": [
            "108.064\n"
          ]
        },
        {
          "output_type": "stream",
          "name": "stderr",
          "text": [
            "Train: 100%|██████████| 813/813 [00:24<00:00, 33.43it/s]\n",
            "Eval : 100%|██████████| 63/63 [00:01<00:00, 34.62it/s]\n",
            "Epoch 803\n"
          ]
        },
        {
          "output_type": "stream",
          "name": "stdout",
          "text": [
            "108.327\n"
          ]
        },
        {
          "output_type": "stream",
          "name": "stderr",
          "text": [
            "Train: 100%|██████████| 813/813 [00:30<00:00, 27.07it/s]\n",
            "Eval : 100%|██████████| 63/63 [00:01<00:00, 34.38it/s]\n",
            "Epoch 804\n"
          ]
        },
        {
          "output_type": "stream",
          "name": "stdout",
          "text": [
            "108.327\n"
          ]
        },
        {
          "output_type": "stream",
          "name": "stderr",
          "text": [
            "Train: 100%|██████████| 813/813 [00:24<00:00, 33.46it/s]\n",
            "Eval : 100%|██████████| 63/63 [00:01<00:00, 34.40it/s]\n",
            "Epoch 805\n"
          ]
        },
        {
          "output_type": "stream",
          "name": "stdout",
          "text": [
            "109.402\n"
          ]
        },
        {
          "output_type": "stream",
          "name": "stderr",
          "text": [
            "Train: 100%|██████████| 813/813 [00:30<00:00, 26.53it/s]\n",
            "Eval : 100%|██████████| 63/63 [00:01<00:00, 34.42it/s]\n",
            "Epoch 806\n"
          ]
        },
        {
          "output_type": "stream",
          "name": "stdout",
          "text": [
            "109.402\n"
          ]
        },
        {
          "output_type": "stream",
          "name": "stderr",
          "text": [
            "Train: 100%|██████████| 813/813 [00:24<00:00, 33.56it/s]\n",
            "Eval : 100%|██████████| 63/63 [00:01<00:00, 34.20it/s]\n",
            "Epoch 807\n"
          ]
        },
        {
          "output_type": "stream",
          "name": "stdout",
          "text": [
            "108.775\n"
          ]
        },
        {
          "output_type": "stream",
          "name": "stderr",
          "text": [
            "Train: 100%|██████████| 813/813 [00:30<00:00, 26.72it/s]\n",
            "Eval : 100%|██████████| 63/63 [00:01<00:00, 35.20it/s]\n",
            "Epoch 808\n"
          ]
        },
        {
          "output_type": "stream",
          "name": "stdout",
          "text": [
            "108.775\n"
          ]
        },
        {
          "output_type": "stream",
          "name": "stderr",
          "text": [
            "Train: 100%|██████████| 813/813 [00:24<00:00, 33.75it/s]\n",
            "Eval : 100%|██████████| 63/63 [00:01<00:00, 33.70it/s]\n",
            "Epoch 809\n"
          ]
        },
        {
          "output_type": "stream",
          "name": "stdout",
          "text": [
            "108.503\n"
          ]
        },
        {
          "output_type": "stream",
          "name": "stderr",
          "text": [
            "Train: 100%|██████████| 813/813 [00:30<00:00, 27.01it/s]\n",
            "Eval : 100%|██████████| 63/63 [00:01<00:00, 34.38it/s]\n",
            "Epoch 810\n"
          ]
        },
        {
          "output_type": "stream",
          "name": "stdout",
          "text": [
            "108.503\n"
          ]
        },
        {
          "output_type": "stream",
          "name": "stderr",
          "text": [
            "Train: 100%|██████████| 813/813 [00:24<00:00, 33.40it/s]\n",
            "Eval : 100%|██████████| 63/63 [00:01<00:00, 34.18it/s]\n",
            "Epoch 811\n"
          ]
        },
        {
          "output_type": "stream",
          "name": "stdout",
          "text": [
            "106.557\n"
          ]
        },
        {
          "output_type": "stream",
          "name": "stderr",
          "text": [
            "Train: 100%|██████████| 813/813 [00:30<00:00, 26.44it/s]\n",
            "Eval : 100%|██████████| 63/63 [00:01<00:00, 34.48it/s]\n",
            "Epoch 812\n"
          ]
        },
        {
          "output_type": "stream",
          "name": "stdout",
          "text": [
            "106.557\n"
          ]
        },
        {
          "output_type": "stream",
          "name": "stderr",
          "text": [
            "Train: 100%|██████████| 813/813 [00:24<00:00, 33.33it/s]\n",
            "Eval : 100%|██████████| 63/63 [00:01<00:00, 34.48it/s]\n",
            "Epoch 813\n"
          ]
        },
        {
          "output_type": "stream",
          "name": "stdout",
          "text": [
            "109.132\n"
          ]
        },
        {
          "output_type": "stream",
          "name": "stderr",
          "text": [
            "Train: 100%|██████████| 813/813 [00:30<00:00, 26.69it/s]\n",
            "Eval : 100%|██████████| 63/63 [00:01<00:00, 34.64it/s]\n",
            "Epoch 814\n"
          ]
        },
        {
          "output_type": "stream",
          "name": "stdout",
          "text": [
            "109.132\n"
          ]
        },
        {
          "output_type": "stream",
          "name": "stderr",
          "text": [
            "Train: 100%|██████████| 813/813 [00:24<00:00, 33.36it/s]\n",
            "Eval : 100%|██████████| 63/63 [00:01<00:00, 34.71it/s]\n",
            "Epoch 815\n"
          ]
        },
        {
          "output_type": "stream",
          "name": "stdout",
          "text": [
            "107.727\n"
          ]
        },
        {
          "output_type": "stream",
          "name": "stderr",
          "text": [
            "Train: 100%|██████████| 813/813 [00:30<00:00, 26.56it/s]\n",
            "Eval : 100%|██████████| 63/63 [00:01<00:00, 34.52it/s]\n",
            "Epoch 816\n"
          ]
        },
        {
          "output_type": "stream",
          "name": "stdout",
          "text": [
            "107.727\n"
          ]
        },
        {
          "output_type": "stream",
          "name": "stderr",
          "text": [
            "Train: 100%|██████████| 813/813 [00:24<00:00, 32.82it/s]\n",
            "Eval : 100%|██████████| 63/63 [00:01<00:00, 34.11it/s]\n",
            "Epoch 817\n"
          ]
        },
        {
          "output_type": "stream",
          "name": "stdout",
          "text": [
            "109.163\n"
          ]
        },
        {
          "output_type": "stream",
          "name": "stderr",
          "text": [
            "Train: 100%|██████████| 813/813 [00:30<00:00, 26.52it/s]\n",
            "Eval : 100%|██████████| 63/63 [00:01<00:00, 34.59it/s]\n",
            "Epoch 818\n"
          ]
        },
        {
          "output_type": "stream",
          "name": "stdout",
          "text": [
            "109.163\n"
          ]
        },
        {
          "output_type": "stream",
          "name": "stderr",
          "text": [
            "Train: 100%|██████████| 813/813 [00:24<00:00, 33.11it/s]\n",
            "Eval : 100%|██████████| 63/63 [00:01<00:00, 35.10it/s]\n",
            "Epoch 819\n"
          ]
        },
        {
          "output_type": "stream",
          "name": "stdout",
          "text": [
            "108.179\n"
          ]
        },
        {
          "output_type": "stream",
          "name": "stderr",
          "text": [
            "Train: 100%|██████████| 813/813 [00:30<00:00, 26.41it/s]\n",
            "Eval : 100%|██████████| 63/63 [00:01<00:00, 34.42it/s]\n",
            "Epoch 820\n"
          ]
        },
        {
          "output_type": "stream",
          "name": "stdout",
          "text": [
            "108.179\n"
          ]
        },
        {
          "output_type": "stream",
          "name": "stderr",
          "text": [
            "Train: 100%|██████████| 813/813 [00:24<00:00, 33.37it/s]\n",
            "Eval : 100%|██████████| 63/63 [00:01<00:00, 34.52it/s]\n",
            "Epoch 821\n"
          ]
        },
        {
          "output_type": "stream",
          "name": "stdout",
          "text": [
            "107.91\n"
          ]
        },
        {
          "output_type": "stream",
          "name": "stderr",
          "text": [
            "Train: 100%|██████████| 813/813 [00:30<00:00, 26.81it/s]\n",
            "Eval : 100%|██████████| 63/63 [00:01<00:00, 35.60it/s]\n",
            "Epoch 822\n"
          ]
        },
        {
          "output_type": "stream",
          "name": "stdout",
          "text": [
            "107.91\n"
          ]
        },
        {
          "output_type": "stream",
          "name": "stderr",
          "text": [
            "Train: 100%|██████████| 813/813 [00:23<00:00, 33.95it/s]\n",
            "Eval : 100%|██████████| 63/63 [00:01<00:00, 34.52it/s]\n",
            "Epoch 823\n"
          ]
        },
        {
          "output_type": "stream",
          "name": "stdout",
          "text": [
            "108.404\n"
          ]
        },
        {
          "output_type": "stream",
          "name": "stderr",
          "text": [
            "Train: 100%|██████████| 813/813 [00:30<00:00, 27.04it/s]\n",
            "Eval : 100%|██████████| 63/63 [00:01<00:00, 34.56it/s]\n",
            "Epoch 824\n"
          ]
        },
        {
          "output_type": "stream",
          "name": "stdout",
          "text": [
            "108.404\n"
          ]
        },
        {
          "output_type": "stream",
          "name": "stderr",
          "text": [
            "Train: 100%|██████████| 813/813 [00:24<00:00, 33.82it/s]\n",
            "Eval : 100%|██████████| 63/63 [00:01<00:00, 34.15it/s]\n",
            "Epoch 825\n"
          ]
        },
        {
          "output_type": "stream",
          "name": "stdout",
          "text": [
            "107.485\n"
          ]
        },
        {
          "output_type": "stream",
          "name": "stderr",
          "text": [
            "Train: 100%|██████████| 813/813 [00:30<00:00, 26.92it/s]\n",
            "Eval : 100%|██████████| 63/63 [00:01<00:00, 35.23it/s]\n",
            "Epoch 826\n"
          ]
        },
        {
          "output_type": "stream",
          "name": "stdout",
          "text": [
            "107.485\n"
          ]
        },
        {
          "output_type": "stream",
          "name": "stderr",
          "text": [
            "Train: 100%|██████████| 813/813 [00:23<00:00, 34.07it/s]\n",
            "Eval : 100%|██████████| 63/63 [00:01<00:00, 34.89it/s]\n",
            "Epoch 827\n"
          ]
        },
        {
          "output_type": "stream",
          "name": "stdout",
          "text": [
            "108.017\n"
          ]
        },
        {
          "output_type": "stream",
          "name": "stderr",
          "text": [
            "Train: 100%|██████████| 813/813 [00:30<00:00, 27.07it/s]\n",
            "Eval : 100%|██████████| 63/63 [00:01<00:00, 34.73it/s]\n",
            "Epoch 828\n"
          ]
        },
        {
          "output_type": "stream",
          "name": "stdout",
          "text": [
            "108.017\n"
          ]
        },
        {
          "output_type": "stream",
          "name": "stderr",
          "text": [
            "Train: 100%|██████████| 813/813 [00:23<00:00, 34.06it/s]\n",
            "Eval : 100%|██████████| 63/63 [00:01<00:00, 35.10it/s]\n",
            "Epoch 829\n"
          ]
        },
        {
          "output_type": "stream",
          "name": "stdout",
          "text": [
            "107.877\n"
          ]
        },
        {
          "output_type": "stream",
          "name": "stderr",
          "text": [
            "Train: 100%|██████████| 813/813 [00:30<00:00, 27.09it/s]\n",
            "Eval : 100%|██████████| 63/63 [00:01<00:00, 35.18it/s]\n",
            "Epoch 830\n"
          ]
        },
        {
          "output_type": "stream",
          "name": "stdout",
          "text": [
            "107.877\n"
          ]
        },
        {
          "output_type": "stream",
          "name": "stderr",
          "text": [
            "Train: 100%|██████████| 813/813 [00:23<00:00, 34.18it/s]\n",
            "Eval : 100%|██████████| 63/63 [00:01<00:00, 35.54it/s]\n",
            "Epoch 831\n"
          ]
        },
        {
          "output_type": "stream",
          "name": "stdout",
          "text": [
            "107.764\n"
          ]
        },
        {
          "output_type": "stream",
          "name": "stderr",
          "text": [
            "Train: 100%|██████████| 813/813 [00:30<00:00, 26.96it/s]\n",
            "Eval : 100%|██████████| 63/63 [00:01<00:00, 34.44it/s]\n",
            "Epoch 832\n"
          ]
        },
        {
          "output_type": "stream",
          "name": "stdout",
          "text": [
            "107.764\n"
          ]
        },
        {
          "output_type": "stream",
          "name": "stderr",
          "text": [
            "Train: 100%|██████████| 813/813 [00:23<00:00, 34.01it/s]\n",
            "Eval : 100%|██████████| 63/63 [00:01<00:00, 35.08it/s]\n",
            "Epoch 833\n"
          ]
        },
        {
          "output_type": "stream",
          "name": "stdout",
          "text": [
            "107.147\n"
          ]
        },
        {
          "output_type": "stream",
          "name": "stderr",
          "text": [
            "Train: 100%|██████████| 813/813 [00:30<00:00, 27.07it/s]\n",
            "Eval : 100%|██████████| 63/63 [00:01<00:00, 35.59it/s]\n",
            "Epoch 834\n"
          ]
        },
        {
          "output_type": "stream",
          "name": "stdout",
          "text": [
            "107.147\n"
          ]
        },
        {
          "output_type": "stream",
          "name": "stderr",
          "text": [
            "Train: 100%|██████████| 813/813 [00:23<00:00, 33.92it/s]\n",
            "Eval : 100%|██████████| 63/63 [00:01<00:00, 34.22it/s]\n",
            "Epoch 835\n"
          ]
        },
        {
          "output_type": "stream",
          "name": "stdout",
          "text": [
            "108.914\n"
          ]
        },
        {
          "output_type": "stream",
          "name": "stderr",
          "text": [
            "Train: 100%|██████████| 813/813 [00:30<00:00, 27.05it/s]\n",
            "Eval : 100%|██████████| 63/63 [00:01<00:00, 35.14it/s]\n",
            "Epoch 836\n"
          ]
        },
        {
          "output_type": "stream",
          "name": "stdout",
          "text": [
            "108.914\n"
          ]
        },
        {
          "output_type": "stream",
          "name": "stderr",
          "text": [
            "Train: 100%|██████████| 813/813 [00:24<00:00, 33.60it/s]\n",
            "Eval : 100%|██████████| 63/63 [00:01<00:00, 35.33it/s]\n",
            "Epoch 837\n"
          ]
        },
        {
          "output_type": "stream",
          "name": "stdout",
          "text": [
            "107.761\n"
          ]
        },
        {
          "output_type": "stream",
          "name": "stderr",
          "text": [
            "Train: 100%|██████████| 813/813 [00:30<00:00, 26.83it/s]\n",
            "Eval : 100%|██████████| 63/63 [00:01<00:00, 34.75it/s]\n",
            "Epoch 838\n"
          ]
        },
        {
          "output_type": "stream",
          "name": "stdout",
          "text": [
            "107.761\n"
          ]
        },
        {
          "output_type": "stream",
          "name": "stderr",
          "text": [
            "Train: 100%|██████████| 813/813 [00:24<00:00, 33.71it/s]\n",
            "Eval : 100%|██████████| 63/63 [00:01<00:00, 35.17it/s]\n",
            "Epoch 839\n"
          ]
        },
        {
          "output_type": "stream",
          "name": "stdout",
          "text": [
            "107.892\n"
          ]
        },
        {
          "output_type": "stream",
          "name": "stderr",
          "text": [
            "Train: 100%|██████████| 813/813 [00:30<00:00, 26.98it/s]\n",
            "Eval : 100%|██████████| 63/63 [00:01<00:00, 35.14it/s]\n",
            "Epoch 840\n"
          ]
        },
        {
          "output_type": "stream",
          "name": "stdout",
          "text": [
            "107.892\n"
          ]
        },
        {
          "output_type": "stream",
          "name": "stderr",
          "text": [
            "Train: 100%|██████████| 813/813 [00:23<00:00, 33.98it/s]\n",
            "Eval : 100%|██████████| 63/63 [00:01<00:00, 34.55it/s]\n",
            "Epoch 841\n"
          ]
        },
        {
          "output_type": "stream",
          "name": "stdout",
          "text": [
            "108.372\n"
          ]
        },
        {
          "output_type": "stream",
          "name": "stderr",
          "text": [
            "Train: 100%|██████████| 813/813 [00:30<00:00, 26.90it/s]\n",
            "Eval : 100%|██████████| 63/63 [00:01<00:00, 34.74it/s]\n",
            "Epoch 842\n"
          ]
        },
        {
          "output_type": "stream",
          "name": "stdout",
          "text": [
            "108.372\n"
          ]
        },
        {
          "output_type": "stream",
          "name": "stderr",
          "text": [
            "Train: 100%|██████████| 813/813 [00:23<00:00, 33.89it/s]\n",
            "Eval : 100%|██████████| 63/63 [00:01<00:00, 35.24it/s]\n",
            "Epoch 843\n"
          ]
        },
        {
          "output_type": "stream",
          "name": "stdout",
          "text": [
            "108.19\n"
          ]
        },
        {
          "output_type": "stream",
          "name": "stderr",
          "text": [
            "Train: 100%|██████████| 813/813 [00:30<00:00, 27.04it/s]\n",
            "Eval : 100%|██████████| 63/63 [00:01<00:00, 34.01it/s]\n",
            "Epoch 844\n"
          ]
        },
        {
          "output_type": "stream",
          "name": "stdout",
          "text": [
            "108.19\n"
          ]
        },
        {
          "output_type": "stream",
          "name": "stderr",
          "text": [
            "Train: 100%|██████████| 813/813 [00:23<00:00, 33.93it/s]\n",
            "Eval : 100%|██████████| 63/63 [00:01<00:00, 35.42it/s]\n",
            "Epoch 845\n"
          ]
        },
        {
          "output_type": "stream",
          "name": "stdout",
          "text": [
            "108.313\n"
          ]
        },
        {
          "output_type": "stream",
          "name": "stderr",
          "text": [
            "Train: 100%|██████████| 813/813 [00:29<00:00, 27.20it/s]\n",
            "Eval : 100%|██████████| 63/63 [00:01<00:00, 34.97it/s]\n",
            "Epoch 846\n"
          ]
        },
        {
          "output_type": "stream",
          "name": "stdout",
          "text": [
            "108.313\n"
          ]
        },
        {
          "output_type": "stream",
          "name": "stderr",
          "text": [
            "Train: 100%|██████████| 813/813 [00:24<00:00, 33.59it/s]\n",
            "Eval : 100%|██████████| 63/63 [00:01<00:00, 35.00it/s]\n",
            "Epoch 847\n"
          ]
        },
        {
          "output_type": "stream",
          "name": "stdout",
          "text": [
            "108.509\n"
          ]
        },
        {
          "output_type": "stream",
          "name": "stderr",
          "text": [
            "Train: 100%|██████████| 813/813 [00:30<00:00, 27.04it/s]\n",
            "Eval : 100%|██████████| 63/63 [00:01<00:00, 34.83it/s]\n",
            "Epoch 848\n"
          ]
        },
        {
          "output_type": "stream",
          "name": "stdout",
          "text": [
            "108.509\n"
          ]
        },
        {
          "output_type": "stream",
          "name": "stderr",
          "text": [
            "Train: 100%|██████████| 813/813 [00:24<00:00, 33.34it/s]\n",
            "Eval : 100%|██████████| 63/63 [00:01<00:00, 35.18it/s]\n",
            "Epoch 849\n"
          ]
        },
        {
          "output_type": "stream",
          "name": "stdout",
          "text": [
            "107.699\n"
          ]
        },
        {
          "output_type": "stream",
          "name": "stderr",
          "text": [
            "Train: 100%|██████████| 813/813 [00:30<00:00, 26.91it/s]\n",
            "Eval : 100%|██████████| 63/63 [00:01<00:00, 35.62it/s]\n",
            "Epoch 850\n"
          ]
        },
        {
          "output_type": "stream",
          "name": "stdout",
          "text": [
            "107.699\n"
          ]
        },
        {
          "output_type": "stream",
          "name": "stderr",
          "text": [
            "Train: 100%|██████████| 813/813 [00:24<00:00, 33.78it/s]\n",
            "Eval : 100%|██████████| 63/63 [00:01<00:00, 35.24it/s]\n",
            "Epoch 851\n"
          ]
        },
        {
          "output_type": "stream",
          "name": "stdout",
          "text": [
            "107.325\n"
          ]
        },
        {
          "output_type": "stream",
          "name": "stderr",
          "text": [
            "Train: 100%|██████████| 813/813 [00:29<00:00, 27.68it/s]\n",
            "Eval : 100%|██████████| 63/63 [00:01<00:00, 36.91it/s]\n",
            "Epoch 852\n"
          ]
        },
        {
          "output_type": "stream",
          "name": "stdout",
          "text": [
            "107.325\n"
          ]
        },
        {
          "output_type": "stream",
          "name": "stderr",
          "text": [
            "Train: 100%|██████████| 813/813 [00:22<00:00, 35.37it/s]\n",
            "Eval : 100%|██████████| 63/63 [00:01<00:00, 36.50it/s]\n",
            "Epoch 853\n"
          ]
        },
        {
          "output_type": "stream",
          "name": "stdout",
          "text": [
            "108.653\n"
          ]
        },
        {
          "output_type": "stream",
          "name": "stderr",
          "text": [
            "Train: 100%|██████████| 813/813 [00:28<00:00, 28.48it/s]\n",
            "Eval : 100%|██████████| 63/63 [00:01<00:00, 36.81it/s]\n",
            "Epoch 854\n"
          ]
        },
        {
          "output_type": "stream",
          "name": "stdout",
          "text": [
            "108.653\n"
          ]
        },
        {
          "output_type": "stream",
          "name": "stderr",
          "text": [
            "Train: 100%|██████████| 813/813 [00:22<00:00, 35.55it/s]\n",
            "Eval : 100%|██████████| 63/63 [00:01<00:00, 36.04it/s]\n",
            "Epoch 855\n"
          ]
        },
        {
          "output_type": "stream",
          "name": "stdout",
          "text": [
            "108.434\n"
          ]
        },
        {
          "output_type": "stream",
          "name": "stderr",
          "text": [
            "Train: 100%|██████████| 813/813 [00:28<00:00, 28.50it/s]\n",
            "Eval : 100%|██████████| 63/63 [00:01<00:00, 36.60it/s]\n",
            "Epoch 856\n"
          ]
        },
        {
          "output_type": "stream",
          "name": "stdout",
          "text": [
            "108.434\n"
          ]
        },
        {
          "output_type": "stream",
          "name": "stderr",
          "text": [
            "Train: 100%|██████████| 813/813 [00:23<00:00, 35.29it/s]\n",
            "Eval : 100%|██████████| 63/63 [00:01<00:00, 36.89it/s]\n",
            "Epoch 857\n"
          ]
        },
        {
          "output_type": "stream",
          "name": "stdout",
          "text": [
            "108.197\n"
          ]
        },
        {
          "output_type": "stream",
          "name": "stderr",
          "text": [
            "Train: 100%|██████████| 813/813 [00:29<00:00, 27.95it/s]\n",
            "Eval : 100%|██████████| 63/63 [00:01<00:00, 36.21it/s]\n",
            "Epoch 858\n"
          ]
        },
        {
          "output_type": "stream",
          "name": "stdout",
          "text": [
            "108.197\n"
          ]
        },
        {
          "output_type": "stream",
          "name": "stderr",
          "text": [
            "Train: 100%|██████████| 813/813 [00:23<00:00, 34.96it/s]\n",
            "Eval : 100%|██████████| 63/63 [00:01<00:00, 34.89it/s]\n",
            "Epoch 859\n"
          ]
        },
        {
          "output_type": "stream",
          "name": "stdout",
          "text": [
            "108.066\n"
          ]
        },
        {
          "output_type": "stream",
          "name": "stderr",
          "text": [
            "Train: 100%|██████████| 813/813 [00:28<00:00, 28.38it/s]\n",
            "Eval : 100%|██████████| 63/63 [00:01<00:00, 36.43it/s]\n",
            "Epoch 860\n"
          ]
        },
        {
          "output_type": "stream",
          "name": "stdout",
          "text": [
            "108.066\n"
          ]
        },
        {
          "output_type": "stream",
          "name": "stderr",
          "text": [
            "Train: 100%|██████████| 813/813 [00:22<00:00, 35.62it/s]\n",
            "Eval : 100%|██████████| 63/63 [00:01<00:00, 36.77it/s]\n",
            "Epoch 861\n"
          ]
        },
        {
          "output_type": "stream",
          "name": "stdout",
          "text": [
            "108.204\n"
          ]
        },
        {
          "output_type": "stream",
          "name": "stderr",
          "text": [
            "Train: 100%|██████████| 813/813 [00:28<00:00, 28.10it/s]\n",
            "Eval : 100%|██████████| 63/63 [00:01<00:00, 36.44it/s]\n",
            "Epoch 862\n"
          ]
        },
        {
          "output_type": "stream",
          "name": "stdout",
          "text": [
            "108.204\n"
          ]
        },
        {
          "output_type": "stream",
          "name": "stderr",
          "text": [
            "Train: 100%|██████████| 813/813 [00:22<00:00, 35.95it/s]\n",
            "Eval : 100%|██████████| 63/63 [00:01<00:00, 36.55it/s]\n",
            "Epoch 863\n"
          ]
        },
        {
          "output_type": "stream",
          "name": "stdout",
          "text": [
            "107.913\n"
          ]
        },
        {
          "output_type": "stream",
          "name": "stderr",
          "text": [
            "Train: 100%|██████████| 813/813 [00:28<00:00, 28.57it/s]\n",
            "Eval : 100%|██████████| 63/63 [00:01<00:00, 36.56it/s]\n",
            "Epoch 864\n"
          ]
        },
        {
          "output_type": "stream",
          "name": "stdout",
          "text": [
            "107.913\n"
          ]
        },
        {
          "output_type": "stream",
          "name": "stderr",
          "text": [
            "Train: 100%|██████████| 813/813 [00:22<00:00, 35.49it/s]\n",
            "Eval : 100%|██████████| 63/63 [00:01<00:00, 36.31it/s]\n",
            "Epoch 865\n"
          ]
        },
        {
          "output_type": "stream",
          "name": "stdout",
          "text": [
            "107.912\n"
          ]
        },
        {
          "output_type": "stream",
          "name": "stderr",
          "text": [
            "Train: 100%|██████████| 813/813 [00:28<00:00, 28.23it/s]\n",
            "Eval : 100%|██████████| 63/63 [00:01<00:00, 36.77it/s]\n",
            "Epoch 866\n"
          ]
        },
        {
          "output_type": "stream",
          "name": "stdout",
          "text": [
            "107.912\n"
          ]
        },
        {
          "output_type": "stream",
          "name": "stderr",
          "text": [
            "Train: 100%|██████████| 813/813 [00:22<00:00, 35.68it/s]\n",
            "Eval : 100%|██████████| 63/63 [00:01<00:00, 36.70it/s]\n",
            "Epoch 867\n"
          ]
        },
        {
          "output_type": "stream",
          "name": "stdout",
          "text": [
            "108.545\n"
          ]
        },
        {
          "output_type": "stream",
          "name": "stderr",
          "text": [
            "Train: 100%|██████████| 813/813 [00:28<00:00, 28.26it/s]\n",
            "Eval : 100%|██████████| 63/63 [00:01<00:00, 36.95it/s]\n",
            "Epoch 868\n"
          ]
        },
        {
          "output_type": "stream",
          "name": "stdout",
          "text": [
            "108.545\n"
          ]
        },
        {
          "output_type": "stream",
          "name": "stderr",
          "text": [
            "Train: 100%|██████████| 813/813 [00:22<00:00, 35.74it/s]\n",
            "Eval : 100%|██████████| 63/63 [00:01<00:00, 35.94it/s]\n",
            "Epoch 869\n"
          ]
        },
        {
          "output_type": "stream",
          "name": "stdout",
          "text": [
            "107.478\n"
          ]
        },
        {
          "output_type": "stream",
          "name": "stderr",
          "text": [
            "Train: 100%|██████████| 813/813 [00:28<00:00, 28.14it/s]\n",
            "Eval : 100%|██████████| 63/63 [00:01<00:00, 35.03it/s]\n",
            "Epoch 870\n"
          ]
        },
        {
          "output_type": "stream",
          "name": "stdout",
          "text": [
            "107.478\n"
          ]
        },
        {
          "output_type": "stream",
          "name": "stderr",
          "text": [
            "Train: 100%|██████████| 813/813 [00:22<00:00, 35.39it/s]\n",
            "Eval : 100%|██████████| 63/63 [00:01<00:00, 36.52it/s]\n",
            "Epoch 871\n"
          ]
        },
        {
          "output_type": "stream",
          "name": "stdout",
          "text": [
            "107.421\n"
          ]
        },
        {
          "output_type": "stream",
          "name": "stderr",
          "text": [
            "Train: 100%|██████████| 813/813 [00:28<00:00, 28.10it/s]\n",
            "Eval : 100%|██████████| 63/63 [00:01<00:00, 36.02it/s]\n",
            "Epoch 872\n"
          ]
        },
        {
          "output_type": "stream",
          "name": "stdout",
          "text": [
            "107.421\n"
          ]
        },
        {
          "output_type": "stream",
          "name": "stderr",
          "text": [
            "Train: 100%|██████████| 813/813 [00:23<00:00, 35.35it/s]\n",
            "Eval : 100%|██████████| 63/63 [00:01<00:00, 36.40it/s]\n",
            "Epoch 873\n"
          ]
        },
        {
          "output_type": "stream",
          "name": "stdout",
          "text": [
            "108.084\n"
          ]
        },
        {
          "output_type": "stream",
          "name": "stderr",
          "text": [
            "Train: 100%|██████████| 813/813 [00:28<00:00, 28.13it/s]\n",
            "Eval : 100%|██████████| 63/63 [00:01<00:00, 34.98it/s]\n",
            "Epoch 874\n"
          ]
        },
        {
          "output_type": "stream",
          "name": "stdout",
          "text": [
            "108.084\n"
          ]
        },
        {
          "output_type": "stream",
          "name": "stderr",
          "text": [
            "Train: 100%|██████████| 813/813 [00:23<00:00, 34.00it/s]\n",
            "Eval : 100%|██████████| 63/63 [00:01<00:00, 35.41it/s]\n",
            "Epoch 875\n"
          ]
        },
        {
          "output_type": "stream",
          "name": "stdout",
          "text": [
            "107.513\n"
          ]
        },
        {
          "output_type": "stream",
          "name": "stderr",
          "text": [
            "Train: 100%|██████████| 813/813 [00:29<00:00, 28.02it/s]\n",
            "Eval : 100%|██████████| 63/63 [00:01<00:00, 35.40it/s]\n",
            "Epoch 876\n"
          ]
        },
        {
          "output_type": "stream",
          "name": "stdout",
          "text": [
            "107.513\n"
          ]
        },
        {
          "output_type": "stream",
          "name": "stderr",
          "text": [
            "Train: 100%|██████████| 813/813 [00:23<00:00, 34.43it/s]\n",
            "Eval : 100%|██████████| 63/63 [00:01<00:00, 36.91it/s]\n",
            "Epoch 877\n"
          ]
        },
        {
          "output_type": "stream",
          "name": "stdout",
          "text": [
            "107.836\n"
          ]
        },
        {
          "output_type": "stream",
          "name": "stderr",
          "text": [
            "Train: 100%|██████████| 813/813 [00:28<00:00, 28.18it/s]\n",
            "Eval : 100%|██████████| 63/63 [00:01<00:00, 36.53it/s]\n",
            "Epoch 878\n"
          ]
        },
        {
          "output_type": "stream",
          "name": "stdout",
          "text": [
            "107.836\n"
          ]
        },
        {
          "output_type": "stream",
          "name": "stderr",
          "text": [
            "Train: 100%|██████████| 813/813 [00:23<00:00, 34.71it/s]\n",
            "Eval : 100%|██████████| 63/63 [00:01<00:00, 35.19it/s]\n",
            "Epoch 879\n"
          ]
        },
        {
          "output_type": "stream",
          "name": "stdout",
          "text": [
            "107.818\n"
          ]
        },
        {
          "output_type": "stream",
          "name": "stderr",
          "text": [
            "Train: 100%|██████████| 813/813 [00:29<00:00, 27.61it/s]\n",
            "Eval : 100%|██████████| 63/63 [00:01<00:00, 36.02it/s]\n",
            "Epoch 880\n"
          ]
        },
        {
          "output_type": "stream",
          "name": "stdout",
          "text": [
            "107.818\n"
          ]
        },
        {
          "output_type": "stream",
          "name": "stderr",
          "text": [
            "Train: 100%|██████████| 813/813 [00:23<00:00, 34.78it/s]\n",
            "Eval : 100%|██████████| 63/63 [00:01<00:00, 36.24it/s]\n",
            "Epoch 881\n"
          ]
        },
        {
          "output_type": "stream",
          "name": "stdout",
          "text": [
            "108.174\n"
          ]
        },
        {
          "output_type": "stream",
          "name": "stderr",
          "text": [
            "Train: 100%|██████████| 813/813 [00:29<00:00, 27.80it/s]\n",
            "Eval : 100%|██████████| 63/63 [00:01<00:00, 35.71it/s]\n",
            "Epoch 882\n"
          ]
        },
        {
          "output_type": "stream",
          "name": "stdout",
          "text": [
            "108.174\n"
          ]
        },
        {
          "output_type": "stream",
          "name": "stderr",
          "text": [
            "Train: 100%|██████████| 813/813 [00:23<00:00, 34.53it/s]\n",
            "Eval : 100%|██████████| 63/63 [00:01<00:00, 35.48it/s]\n",
            "Epoch 883\n"
          ]
        },
        {
          "output_type": "stream",
          "name": "stdout",
          "text": [
            "107.572\n"
          ]
        },
        {
          "output_type": "stream",
          "name": "stderr",
          "text": [
            "Train: 100%|██████████| 813/813 [00:29<00:00, 27.77it/s]\n",
            "Eval : 100%|██████████| 63/63 [00:01<00:00, 34.75it/s]\n",
            "Epoch 884\n"
          ]
        },
        {
          "output_type": "stream",
          "name": "stdout",
          "text": [
            "107.572\n"
          ]
        },
        {
          "output_type": "stream",
          "name": "stderr",
          "text": [
            "Train: 100%|██████████| 813/813 [00:24<00:00, 33.47it/s]\n",
            "Eval : 100%|██████████| 63/63 [00:01<00:00, 34.88it/s]\n",
            "Epoch 885\n"
          ]
        },
        {
          "output_type": "stream",
          "name": "stdout",
          "text": [
            "108.167\n"
          ]
        },
        {
          "output_type": "stream",
          "name": "stderr",
          "text": [
            "Train: 100%|██████████| 813/813 [00:29<00:00, 27.53it/s]\n",
            "Eval : 100%|██████████| 63/63 [00:01<00:00, 35.61it/s]\n",
            "Epoch 886\n"
          ]
        },
        {
          "output_type": "stream",
          "name": "stdout",
          "text": [
            "108.167\n"
          ]
        },
        {
          "output_type": "stream",
          "name": "stderr",
          "text": [
            "Train: 100%|██████████| 813/813 [00:23<00:00, 34.75it/s]\n",
            "Eval : 100%|██████████| 63/63 [00:01<00:00, 34.64it/s]\n",
            "Epoch 887\n"
          ]
        },
        {
          "output_type": "stream",
          "name": "stdout",
          "text": [
            "107.654\n"
          ]
        },
        {
          "output_type": "stream",
          "name": "stderr",
          "text": [
            "Train: 100%|██████████| 813/813 [00:29<00:00, 27.66it/s]\n",
            "Eval : 100%|██████████| 63/63 [00:01<00:00, 34.53it/s]\n",
            "Epoch 888\n"
          ]
        },
        {
          "output_type": "stream",
          "name": "stdout",
          "text": [
            "107.654\n"
          ]
        },
        {
          "output_type": "stream",
          "name": "stderr",
          "text": [
            "Train: 100%|██████████| 813/813 [00:23<00:00, 34.57it/s]\n",
            "Eval : 100%|██████████| 63/63 [00:01<00:00, 34.84it/s]\n",
            "Epoch 889\n"
          ]
        },
        {
          "output_type": "stream",
          "name": "stdout",
          "text": [
            "108.025\n"
          ]
        },
        {
          "output_type": "stream",
          "name": "stderr",
          "text": [
            "Train: 100%|██████████| 813/813 [00:29<00:00, 27.73it/s]\n",
            "Eval : 100%|██████████| 63/63 [00:01<00:00, 35.65it/s]\n",
            "Epoch 890\n"
          ]
        },
        {
          "output_type": "stream",
          "name": "stdout",
          "text": [
            "108.025\n"
          ]
        },
        {
          "output_type": "stream",
          "name": "stderr",
          "text": [
            "Train: 100%|██████████| 813/813 [00:23<00:00, 35.31it/s]\n",
            "Eval : 100%|██████████| 63/63 [00:01<00:00, 35.58it/s]\n",
            "Epoch 891\n"
          ]
        },
        {
          "output_type": "stream",
          "name": "stdout",
          "text": [
            "108.127\n"
          ]
        },
        {
          "output_type": "stream",
          "name": "stderr",
          "text": [
            "Train: 100%|██████████| 813/813 [00:28<00:00, 28.21it/s]\n",
            "Eval : 100%|██████████| 63/63 [00:01<00:00, 36.87it/s]\n",
            "Epoch 892\n"
          ]
        },
        {
          "output_type": "stream",
          "name": "stdout",
          "text": [
            "108.127\n"
          ]
        },
        {
          "output_type": "stream",
          "name": "stderr",
          "text": [
            "Train: 100%|██████████| 813/813 [00:23<00:00, 35.16it/s]\n",
            "Eval : 100%|██████████| 63/63 [00:01<00:00, 35.34it/s]\n",
            "Epoch 893\n"
          ]
        },
        {
          "output_type": "stream",
          "name": "stdout",
          "text": [
            "107.47\n"
          ]
        },
        {
          "output_type": "stream",
          "name": "stderr",
          "text": [
            "Train: 100%|██████████| 813/813 [00:29<00:00, 27.83it/s]\n",
            "Eval : 100%|██████████| 63/63 [00:01<00:00, 36.51it/s]\n",
            "Epoch 894\n"
          ]
        },
        {
          "output_type": "stream",
          "name": "stdout",
          "text": [
            "107.47\n"
          ]
        },
        {
          "output_type": "stream",
          "name": "stderr",
          "text": [
            "Train: 100%|██████████| 813/813 [00:23<00:00, 35.16it/s]\n",
            "Eval : 100%|██████████| 63/63 [00:01<00:00, 36.08it/s]\n",
            "Epoch 895\n"
          ]
        },
        {
          "output_type": "stream",
          "name": "stdout",
          "text": [
            "107.881\n"
          ]
        },
        {
          "output_type": "stream",
          "name": "stderr",
          "text": [
            "Train: 100%|██████████| 813/813 [00:29<00:00, 27.86it/s]\n",
            "Eval : 100%|██████████| 63/63 [00:01<00:00, 36.51it/s]\n",
            "Epoch 896\n"
          ]
        },
        {
          "output_type": "stream",
          "name": "stdout",
          "text": [
            "107.881\n"
          ]
        },
        {
          "output_type": "stream",
          "name": "stderr",
          "text": [
            "Train: 100%|██████████| 813/813 [00:23<00:00, 35.21it/s]\n",
            "Eval : 100%|██████████| 63/63 [00:01<00:00, 35.91it/s]\n",
            "Epoch 897\n"
          ]
        },
        {
          "output_type": "stream",
          "name": "stdout",
          "text": [
            "107.348\n"
          ]
        },
        {
          "output_type": "stream",
          "name": "stderr",
          "text": [
            "Train: 100%|██████████| 813/813 [00:29<00:00, 27.97it/s]\n",
            "Eval : 100%|██████████| 63/63 [00:01<00:00, 35.93it/s]\n",
            "Epoch 898\n"
          ]
        },
        {
          "output_type": "stream",
          "name": "stdout",
          "text": [
            "107.348\n"
          ]
        },
        {
          "output_type": "stream",
          "name": "stderr",
          "text": [
            "Train: 100%|██████████| 813/813 [00:23<00:00, 35.15it/s]\n",
            "Eval : 100%|██████████| 63/63 [00:01<00:00, 36.25it/s]\n",
            "Epoch 899\n"
          ]
        },
        {
          "output_type": "stream",
          "name": "stdout",
          "text": [
            "108.522\n"
          ]
        },
        {
          "output_type": "stream",
          "name": "stderr",
          "text": [
            "Train: 100%|██████████| 813/813 [00:29<00:00, 27.47it/s]\n",
            "Eval : 100%|██████████| 63/63 [00:01<00:00, 35.34it/s]\n",
            "Epoch 900\n"
          ]
        },
        {
          "output_type": "stream",
          "name": "stdout",
          "text": [
            "108.522\n"
          ]
        },
        {
          "output_type": "stream",
          "name": "stderr",
          "text": [
            "Train: 100%|██████████| 813/813 [00:23<00:00, 34.93it/s]\n",
            "Eval : 100%|██████████| 63/63 [00:01<00:00, 36.28it/s]\n",
            "Epoch 901\n"
          ]
        },
        {
          "output_type": "stream",
          "name": "stdout",
          "text": [
            "108.215\n"
          ]
        },
        {
          "output_type": "stream",
          "name": "stderr",
          "text": [
            "Train: 100%|██████████| 813/813 [00:29<00:00, 27.78it/s]\n",
            "Eval : 100%|██████████| 63/63 [00:01<00:00, 36.46it/s]\n",
            "Epoch 902\n"
          ]
        },
        {
          "output_type": "stream",
          "name": "stdout",
          "text": [
            "108.215\n"
          ]
        },
        {
          "output_type": "stream",
          "name": "stderr",
          "text": [
            "Train: 100%|██████████| 813/813 [00:22<00:00, 35.40it/s]\n",
            "Eval : 100%|██████████| 63/63 [00:01<00:00, 36.26it/s]\n",
            "Epoch 903\n"
          ]
        },
        {
          "output_type": "stream",
          "name": "stdout",
          "text": [
            "108.503\n"
          ]
        },
        {
          "output_type": "stream",
          "name": "stderr",
          "text": [
            "Train: 100%|██████████| 813/813 [00:28<00:00, 28.31it/s]\n",
            "Eval : 100%|██████████| 63/63 [00:01<00:00, 35.29it/s]\n",
            "Epoch 904\n"
          ]
        },
        {
          "output_type": "stream",
          "name": "stdout",
          "text": [
            "108.503\n"
          ]
        },
        {
          "output_type": "stream",
          "name": "stderr",
          "text": [
            "Train: 100%|██████████| 813/813 [00:23<00:00, 35.13it/s]\n",
            "Eval : 100%|██████████| 63/63 [00:01<00:00, 36.75it/s]\n",
            "Epoch 905\n"
          ]
        },
        {
          "output_type": "stream",
          "name": "stdout",
          "text": [
            "108.677\n"
          ]
        },
        {
          "output_type": "stream",
          "name": "stderr",
          "text": [
            "Train: 100%|██████████| 813/813 [00:28<00:00, 28.19it/s]\n",
            "Eval : 100%|██████████| 63/63 [00:01<00:00, 37.29it/s]\n",
            "Epoch 906\n"
          ]
        },
        {
          "output_type": "stream",
          "name": "stdout",
          "text": [
            "108.677\n"
          ]
        },
        {
          "output_type": "stream",
          "name": "stderr",
          "text": [
            "Train: 100%|██████████| 813/813 [00:22<00:00, 35.35it/s]\n",
            "Eval : 100%|██████████| 63/63 [00:01<00:00, 36.08it/s]\n",
            "Epoch 907\n"
          ]
        },
        {
          "output_type": "stream",
          "name": "stdout",
          "text": [
            "107.38\n"
          ]
        },
        {
          "output_type": "stream",
          "name": "stderr",
          "text": [
            "Train: 100%|██████████| 813/813 [00:28<00:00, 28.12it/s]\n",
            "Eval : 100%|██████████| 63/63 [00:01<00:00, 36.36it/s]\n",
            "Epoch 908\n"
          ]
        },
        {
          "output_type": "stream",
          "name": "stdout",
          "text": [
            "107.38\n"
          ]
        },
        {
          "output_type": "stream",
          "name": "stderr",
          "text": [
            "Train: 100%|██████████| 813/813 [00:23<00:00, 35.28it/s]\n",
            "Eval : 100%|██████████| 63/63 [00:01<00:00, 34.19it/s]\n",
            "Epoch 909\n"
          ]
        },
        {
          "output_type": "stream",
          "name": "stdout",
          "text": [
            "109.395\n"
          ]
        },
        {
          "output_type": "stream",
          "name": "stderr",
          "text": [
            "Train: 100%|██████████| 813/813 [00:28<00:00, 28.11it/s]\n",
            "Eval : 100%|██████████| 63/63 [00:01<00:00, 35.92it/s]\n",
            "Epoch 910\n"
          ]
        },
        {
          "output_type": "stream",
          "name": "stdout",
          "text": [
            "109.395\n"
          ]
        },
        {
          "output_type": "stream",
          "name": "stderr",
          "text": [
            "Train: 100%|██████████| 813/813 [00:23<00:00, 35.26it/s]\n",
            "Eval : 100%|██████████| 63/63 [00:01<00:00, 36.37it/s]\n",
            "Epoch 911\n"
          ]
        },
        {
          "output_type": "stream",
          "name": "stdout",
          "text": [
            "107.088\n"
          ]
        },
        {
          "output_type": "stream",
          "name": "stderr",
          "text": [
            "Train: 100%|██████████| 813/813 [00:28<00:00, 28.20it/s]\n",
            "Eval : 100%|██████████| 63/63 [00:01<00:00, 36.76it/s]\n",
            "Epoch 912\n"
          ]
        },
        {
          "output_type": "stream",
          "name": "stdout",
          "text": [
            "107.088\n"
          ]
        },
        {
          "output_type": "stream",
          "name": "stderr",
          "text": [
            "Train: 100%|██████████| 813/813 [00:23<00:00, 34.85it/s]\n",
            "Eval : 100%|██████████| 63/63 [00:01<00:00, 35.35it/s]\n",
            "Epoch 913\n"
          ]
        },
        {
          "output_type": "stream",
          "name": "stdout",
          "text": [
            "108.753\n"
          ]
        },
        {
          "output_type": "stream",
          "name": "stderr",
          "text": [
            "Train: 100%|██████████| 813/813 [00:29<00:00, 27.92it/s]\n",
            "Eval : 100%|██████████| 63/63 [00:01<00:00, 36.69it/s]\n",
            "Epoch 914\n"
          ]
        },
        {
          "output_type": "stream",
          "name": "stdout",
          "text": [
            "108.753\n"
          ]
        },
        {
          "output_type": "stream",
          "name": "stderr",
          "text": [
            "Train: 100%|██████████| 813/813 [00:23<00:00, 35.24it/s]\n",
            "Eval : 100%|██████████| 63/63 [00:01<00:00, 35.35it/s]\n",
            "Epoch 915\n"
          ]
        },
        {
          "output_type": "stream",
          "name": "stdout",
          "text": [
            "107.433\n"
          ]
        },
        {
          "output_type": "stream",
          "name": "stderr",
          "text": [
            "Train: 100%|██████████| 813/813 [00:28<00:00, 28.13it/s]\n",
            "Eval : 100%|██████████| 63/63 [00:01<00:00, 36.29it/s]\n",
            "Epoch 916\n"
          ]
        },
        {
          "output_type": "stream",
          "name": "stdout",
          "text": [
            "107.433\n"
          ]
        },
        {
          "output_type": "stream",
          "name": "stderr",
          "text": [
            "Train: 100%|██████████| 813/813 [00:23<00:00, 35.31it/s]\n",
            "Eval : 100%|██████████| 63/63 [00:01<00:00, 35.36it/s]\n",
            "Epoch 917\n"
          ]
        },
        {
          "output_type": "stream",
          "name": "stdout",
          "text": [
            "107.53\n"
          ]
        },
        {
          "output_type": "stream",
          "name": "stderr",
          "text": [
            "Train: 100%|██████████| 813/813 [00:28<00:00, 28.20it/s]\n",
            "Eval : 100%|██████████| 63/63 [00:01<00:00, 36.37it/s]\n",
            "Epoch 918\n"
          ]
        },
        {
          "output_type": "stream",
          "name": "stdout",
          "text": [
            "107.53\n"
          ]
        },
        {
          "output_type": "stream",
          "name": "stderr",
          "text": [
            "Train: 100%|██████████| 813/813 [00:23<00:00, 35.21it/s]\n",
            "Eval : 100%|██████████| 63/63 [00:01<00:00, 36.32it/s]\n",
            "Epoch 919\n"
          ]
        },
        {
          "output_type": "stream",
          "name": "stdout",
          "text": [
            "107.703\n"
          ]
        },
        {
          "output_type": "stream",
          "name": "stderr",
          "text": [
            "Train: 100%|██████████| 813/813 [00:28<00:00, 28.19it/s]\n",
            "Eval : 100%|██████████| 63/63 [00:01<00:00, 36.04it/s]\n",
            "Epoch 920\n"
          ]
        },
        {
          "output_type": "stream",
          "name": "stdout",
          "text": [
            "107.703\n"
          ]
        },
        {
          "output_type": "stream",
          "name": "stderr",
          "text": [
            "Train: 100%|██████████| 813/813 [00:22<00:00, 35.44it/s]\n",
            "Eval : 100%|██████████| 63/63 [00:01<00:00, 36.62it/s]\n",
            "Epoch 921\n"
          ]
        },
        {
          "output_type": "stream",
          "name": "stdout",
          "text": [
            "108.019\n"
          ]
        },
        {
          "output_type": "stream",
          "name": "stderr",
          "text": [
            "Train: 100%|██████████| 813/813 [00:28<00:00, 28.45it/s]\n",
            "Eval : 100%|██████████| 63/63 [00:01<00:00, 35.32it/s]\n",
            "Epoch 922\n"
          ]
        },
        {
          "output_type": "stream",
          "name": "stdout",
          "text": [
            "108.019\n"
          ]
        },
        {
          "output_type": "stream",
          "name": "stderr",
          "text": [
            "Train: 100%|██████████| 813/813 [00:23<00:00, 35.19it/s]\n",
            "Eval : 100%|██████████| 63/63 [00:01<00:00, 35.06it/s]\n",
            "Epoch 923\n"
          ]
        },
        {
          "output_type": "stream",
          "name": "stdout",
          "text": [
            "108.321\n"
          ]
        },
        {
          "output_type": "stream",
          "name": "stderr",
          "text": [
            "Train: 100%|██████████| 813/813 [00:28<00:00, 28.19it/s]\n",
            "Eval : 100%|██████████| 63/63 [00:01<00:00, 36.19it/s]\n",
            "Epoch 924\n"
          ]
        },
        {
          "output_type": "stream",
          "name": "stdout",
          "text": [
            "108.321\n"
          ]
        },
        {
          "output_type": "stream",
          "name": "stderr",
          "text": [
            "Train: 100%|██████████| 813/813 [00:23<00:00, 35.06it/s]\n",
            "Eval : 100%|██████████| 63/63 [00:01<00:00, 36.34it/s]\n",
            "Epoch 925\n"
          ]
        },
        {
          "output_type": "stream",
          "name": "stdout",
          "text": [
            "107.864\n"
          ]
        },
        {
          "output_type": "stream",
          "name": "stderr",
          "text": [
            "Train: 100%|██████████| 813/813 [00:29<00:00, 27.96it/s]\n",
            "Eval : 100%|██████████| 63/63 [00:01<00:00, 35.71it/s]\n",
            "Epoch 926\n"
          ]
        },
        {
          "output_type": "stream",
          "name": "stdout",
          "text": [
            "107.864\n"
          ]
        },
        {
          "output_type": "stream",
          "name": "stderr",
          "text": [
            "Train: 100%|██████████| 813/813 [00:23<00:00, 34.96it/s]\n",
            "Eval : 100%|██████████| 63/63 [00:01<00:00, 36.38it/s]\n",
            "Epoch 927\n"
          ]
        },
        {
          "output_type": "stream",
          "name": "stdout",
          "text": [
            "108.188\n"
          ]
        },
        {
          "output_type": "stream",
          "name": "stderr",
          "text": [
            "Train: 100%|██████████| 813/813 [00:29<00:00, 28.03it/s]\n",
            "Eval : 100%|██████████| 63/63 [00:01<00:00, 35.59it/s]\n",
            "Epoch 928\n"
          ]
        },
        {
          "output_type": "stream",
          "name": "stdout",
          "text": [
            "108.188\n"
          ]
        },
        {
          "output_type": "stream",
          "name": "stderr",
          "text": [
            "Train: 100%|██████████| 813/813 [00:22<00:00, 35.42it/s]\n",
            "Eval : 100%|██████████| 63/63 [00:01<00:00, 36.37it/s]\n",
            "Epoch 929\n"
          ]
        },
        {
          "output_type": "stream",
          "name": "stdout",
          "text": [
            "107.519\n"
          ]
        },
        {
          "output_type": "stream",
          "name": "stderr",
          "text": [
            "Train: 100%|██████████| 813/813 [00:28<00:00, 28.19it/s]\n",
            "Eval : 100%|██████████| 63/63 [00:01<00:00, 36.57it/s]\n",
            "Epoch 930\n"
          ]
        },
        {
          "output_type": "stream",
          "name": "stdout",
          "text": [
            "107.519\n"
          ]
        },
        {
          "output_type": "stream",
          "name": "stderr",
          "text": [
            "Train: 100%|██████████| 813/813 [00:23<00:00, 35.04it/s]\n",
            "Eval : 100%|██████████| 63/63 [00:01<00:00, 36.49it/s]\n",
            "Epoch 931\n"
          ]
        },
        {
          "output_type": "stream",
          "name": "stdout",
          "text": [
            "108.849\n"
          ]
        },
        {
          "output_type": "stream",
          "name": "stderr",
          "text": [
            "Train: 100%|██████████| 813/813 [00:29<00:00, 28.03it/s]\n",
            "Eval : 100%|██████████| 63/63 [00:01<00:00, 36.41it/s]\n",
            "Epoch 932\n"
          ]
        },
        {
          "output_type": "stream",
          "name": "stdout",
          "text": [
            "108.849\n"
          ]
        },
        {
          "output_type": "stream",
          "name": "stderr",
          "text": [
            "Train: 100%|██████████| 813/813 [00:23<00:00, 35.28it/s]\n",
            "Eval : 100%|██████████| 63/63 [00:01<00:00, 35.86it/s]\n",
            "Epoch 933\n"
          ]
        },
        {
          "output_type": "stream",
          "name": "stdout",
          "text": [
            "107.413\n"
          ]
        },
        {
          "output_type": "stream",
          "name": "stderr",
          "text": [
            "Train: 100%|██████████| 813/813 [00:29<00:00, 27.90it/s]\n",
            "Eval : 100%|██████████| 63/63 [00:01<00:00, 36.91it/s]\n",
            "Epoch 934\n"
          ]
        },
        {
          "output_type": "stream",
          "name": "stdout",
          "text": [
            "107.413\n"
          ]
        },
        {
          "output_type": "stream",
          "name": "stderr",
          "text": [
            "Train: 100%|██████████| 813/813 [00:23<00:00, 34.87it/s]\n",
            "Eval : 100%|██████████| 63/63 [00:01<00:00, 35.82it/s]\n",
            "Epoch 935\n"
          ]
        },
        {
          "output_type": "stream",
          "name": "stdout",
          "text": [
            "109.375\n"
          ]
        },
        {
          "output_type": "stream",
          "name": "stderr",
          "text": [
            "Train: 100%|██████████| 813/813 [00:29<00:00, 27.55it/s]\n",
            "Eval : 100%|██████████| 63/63 [00:01<00:00, 35.80it/s]\n",
            "Epoch 936\n"
          ]
        },
        {
          "output_type": "stream",
          "name": "stdout",
          "text": [
            "109.375\n"
          ]
        },
        {
          "output_type": "stream",
          "name": "stderr",
          "text": [
            "Train: 100%|██████████| 813/813 [00:23<00:00, 35.05it/s]\n",
            "Eval : 100%|██████████| 63/63 [00:01<00:00, 36.01it/s]\n",
            "Epoch 937\n"
          ]
        },
        {
          "output_type": "stream",
          "name": "stdout",
          "text": [
            "106.657\n"
          ]
        },
        {
          "output_type": "stream",
          "name": "stderr",
          "text": [
            "Train: 100%|██████████| 813/813 [00:29<00:00, 27.82it/s]\n",
            "Eval : 100%|██████████| 63/63 [00:01<00:00, 36.63it/s]\n",
            "Epoch 938\n"
          ]
        },
        {
          "output_type": "stream",
          "name": "stdout",
          "text": [
            "106.657\n"
          ]
        },
        {
          "output_type": "stream",
          "name": "stderr",
          "text": [
            "Train: 100%|██████████| 813/813 [00:23<00:00, 35.10it/s]\n",
            "Eval : 100%|██████████| 63/63 [00:01<00:00, 36.45it/s]\n",
            "Epoch 939\n"
          ]
        },
        {
          "output_type": "stream",
          "name": "stdout",
          "text": [
            "108.271\n"
          ]
        },
        {
          "output_type": "stream",
          "name": "stderr",
          "text": [
            "Train: 100%|██████████| 813/813 [00:28<00:00, 28.13it/s]\n",
            "Eval : 100%|██████████| 63/63 [00:01<00:00, 36.73it/s]\n",
            "Epoch 940\n"
          ]
        },
        {
          "output_type": "stream",
          "name": "stdout",
          "text": [
            "108.271\n"
          ]
        },
        {
          "output_type": "stream",
          "name": "stderr",
          "text": [
            "Train: 100%|██████████| 813/813 [00:23<00:00, 35.32it/s]\n",
            "Eval : 100%|██████████| 63/63 [00:01<00:00, 34.69it/s]\n",
            "Epoch 941\n"
          ]
        },
        {
          "output_type": "stream",
          "name": "stdout",
          "text": [
            "107.068\n"
          ]
        },
        {
          "output_type": "stream",
          "name": "stderr",
          "text": [
            "Train: 100%|██████████| 813/813 [00:28<00:00, 28.23it/s]\n",
            "Eval : 100%|██████████| 63/63 [00:01<00:00, 36.27it/s]\n",
            "Epoch 942\n"
          ]
        },
        {
          "output_type": "stream",
          "name": "stdout",
          "text": [
            "107.068\n"
          ]
        },
        {
          "output_type": "stream",
          "name": "stderr",
          "text": [
            "Train: 100%|██████████| 813/813 [00:23<00:00, 35.34it/s]\n",
            "Eval : 100%|██████████| 63/63 [00:01<00:00, 35.62it/s]\n",
            "Epoch 943\n"
          ]
        },
        {
          "output_type": "stream",
          "name": "stdout",
          "text": [
            "108.324\n"
          ]
        },
        {
          "output_type": "stream",
          "name": "stderr",
          "text": [
            "Train: 100%|██████████| 813/813 [00:29<00:00, 27.99it/s]\n",
            "Eval : 100%|██████████| 63/63 [00:01<00:00, 35.99it/s]\n",
            "Epoch 944\n"
          ]
        },
        {
          "output_type": "stream",
          "name": "stdout",
          "text": [
            "108.324\n"
          ]
        },
        {
          "output_type": "stream",
          "name": "stderr",
          "text": [
            "Train: 100%|██████████| 813/813 [00:22<00:00, 35.43it/s]\n",
            "Eval : 100%|██████████| 63/63 [00:01<00:00, 35.93it/s]\n",
            "Epoch 945\n"
          ]
        },
        {
          "output_type": "stream",
          "name": "stdout",
          "text": [
            "106.444\n"
          ]
        },
        {
          "output_type": "stream",
          "name": "stderr",
          "text": [
            "Train: 100%|██████████| 813/813 [00:29<00:00, 28.03it/s]\n",
            "Eval : 100%|██████████| 63/63 [00:01<00:00, 35.49it/s]\n",
            "Epoch 946\n"
          ]
        },
        {
          "output_type": "stream",
          "name": "stdout",
          "text": [
            "106.444\n"
          ]
        },
        {
          "output_type": "stream",
          "name": "stderr",
          "text": [
            "Train: 100%|██████████| 813/813 [00:23<00:00, 35.29it/s]\n",
            "Eval : 100%|██████████| 63/63 [00:01<00:00, 36.06it/s]\n",
            "Epoch 947\n"
          ]
        },
        {
          "output_type": "stream",
          "name": "stdout",
          "text": [
            "108.659\n"
          ]
        },
        {
          "output_type": "stream",
          "name": "stderr",
          "text": [
            "Train: 100%|██████████| 813/813 [00:28<00:00, 28.22it/s]\n",
            "Eval : 100%|██████████| 63/63 [00:01<00:00, 37.08it/s]\n",
            "Epoch 948\n"
          ]
        },
        {
          "output_type": "stream",
          "name": "stdout",
          "text": [
            "108.659\n"
          ]
        },
        {
          "output_type": "stream",
          "name": "stderr",
          "text": [
            "Train: 100%|██████████| 813/813 [00:22<00:00, 35.40it/s]\n",
            "Eval : 100%|██████████| 63/63 [00:01<00:00, 36.30it/s]\n",
            "Epoch 949\n"
          ]
        },
        {
          "output_type": "stream",
          "name": "stdout",
          "text": [
            "106.519\n"
          ]
        },
        {
          "output_type": "stream",
          "name": "stderr",
          "text": [
            "Train: 100%|██████████| 813/813 [00:29<00:00, 27.76it/s]\n",
            "Eval : 100%|██████████| 63/63 [00:01<00:00, 36.92it/s]\n",
            "Epoch 950\n"
          ]
        },
        {
          "output_type": "stream",
          "name": "stdout",
          "text": [
            "106.519\n"
          ]
        },
        {
          "output_type": "stream",
          "name": "stderr",
          "text": [
            "Train: 100%|██████████| 813/813 [00:23<00:00, 35.16it/s]\n",
            "Eval : 100%|██████████| 63/63 [00:01<00:00, 35.18it/s]\n",
            "Epoch 951\n"
          ]
        },
        {
          "output_type": "stream",
          "name": "stdout",
          "text": [
            "108.238\n"
          ]
        },
        {
          "output_type": "stream",
          "name": "stderr",
          "text": [
            "Train: 100%|██████████| 813/813 [00:28<00:00, 28.21it/s]\n",
            "Eval : 100%|██████████| 63/63 [00:01<00:00, 36.92it/s]\n",
            "Epoch 952\n"
          ]
        },
        {
          "output_type": "stream",
          "name": "stdout",
          "text": [
            "108.238\n"
          ]
        },
        {
          "output_type": "stream",
          "name": "stderr",
          "text": [
            "Train: 100%|██████████| 813/813 [00:22<00:00, 35.47it/s]\n",
            "Eval : 100%|██████████| 63/63 [00:01<00:00, 37.10it/s]\n",
            "Epoch 953\n"
          ]
        },
        {
          "output_type": "stream",
          "name": "stdout",
          "text": [
            "108.422\n"
          ]
        },
        {
          "output_type": "stream",
          "name": "stderr",
          "text": [
            "Train: 100%|██████████| 813/813 [00:28<00:00, 28.31it/s]\n",
            "Eval : 100%|██████████| 63/63 [00:01<00:00, 36.51it/s]\n",
            "Epoch 954\n"
          ]
        },
        {
          "output_type": "stream",
          "name": "stdout",
          "text": [
            "108.422\n"
          ]
        },
        {
          "output_type": "stream",
          "name": "stderr",
          "text": [
            "Train: 100%|██████████| 813/813 [00:23<00:00, 35.31it/s]\n",
            "Eval : 100%|██████████| 63/63 [00:01<00:00, 36.23it/s]\n",
            "Epoch 955\n"
          ]
        },
        {
          "output_type": "stream",
          "name": "stdout",
          "text": [
            "108.474\n"
          ]
        },
        {
          "output_type": "stream",
          "name": "stderr",
          "text": [
            "Train: 100%|██████████| 813/813 [00:28<00:00, 28.31it/s]\n",
            "Eval : 100%|██████████| 63/63 [00:01<00:00, 37.00it/s]\n",
            "Epoch 956\n"
          ]
        },
        {
          "output_type": "stream",
          "name": "stdout",
          "text": [
            "108.474\n"
          ]
        },
        {
          "output_type": "stream",
          "name": "stderr",
          "text": [
            "Train: 100%|██████████| 813/813 [00:22<00:00, 35.72it/s]\n",
            "Eval : 100%|██████████| 63/63 [00:01<00:00, 35.61it/s]\n",
            "Epoch 957\n"
          ]
        },
        {
          "output_type": "stream",
          "name": "stdout",
          "text": [
            "107.317\n"
          ]
        },
        {
          "output_type": "stream",
          "name": "stderr",
          "text": [
            "Train: 100%|██████████| 813/813 [00:28<00:00, 28.20it/s]\n",
            "Eval : 100%|██████████| 63/63 [00:01<00:00, 35.33it/s]\n",
            "Epoch 958\n"
          ]
        },
        {
          "output_type": "stream",
          "name": "stdout",
          "text": [
            "107.317\n"
          ]
        },
        {
          "output_type": "stream",
          "name": "stderr",
          "text": [
            "Train: 100%|██████████| 813/813 [00:22<00:00, 35.48it/s]\n",
            "Eval : 100%|██████████| 63/63 [00:01<00:00, 36.53it/s]\n",
            "Epoch 959\n"
          ]
        },
        {
          "output_type": "stream",
          "name": "stdout",
          "text": [
            "108.268\n"
          ]
        },
        {
          "output_type": "stream",
          "name": "stderr",
          "text": [
            "Train: 100%|██████████| 813/813 [00:28<00:00, 28.16it/s]\n",
            "Eval : 100%|██████████| 63/63 [00:01<00:00, 35.18it/s]\n",
            "Epoch 960\n"
          ]
        },
        {
          "output_type": "stream",
          "name": "stdout",
          "text": [
            "108.268\n"
          ]
        },
        {
          "output_type": "stream",
          "name": "stderr",
          "text": [
            "Train: 100%|██████████| 813/813 [00:22<00:00, 35.41it/s]\n",
            "Eval : 100%|██████████| 63/63 [00:01<00:00, 36.62it/s]\n",
            "Epoch 961\n"
          ]
        },
        {
          "output_type": "stream",
          "name": "stdout",
          "text": [
            "108.094\n"
          ]
        },
        {
          "output_type": "stream",
          "name": "stderr",
          "text": [
            "Train: 100%|██████████| 813/813 [00:28<00:00, 28.37it/s]\n",
            "Eval : 100%|██████████| 63/63 [00:01<00:00, 36.70it/s]\n",
            "Epoch 962\n"
          ]
        },
        {
          "output_type": "stream",
          "name": "stdout",
          "text": [
            "108.094\n"
          ]
        },
        {
          "output_type": "stream",
          "name": "stderr",
          "text": [
            "Train: 100%|██████████| 813/813 [00:22<00:00, 35.47it/s]\n",
            "Eval : 100%|██████████| 63/63 [00:01<00:00, 36.73it/s]\n",
            "Epoch 963\n"
          ]
        },
        {
          "output_type": "stream",
          "name": "stdout",
          "text": [
            "108.492\n"
          ]
        },
        {
          "output_type": "stream",
          "name": "stderr",
          "text": [
            "Train: 100%|██████████| 813/813 [00:29<00:00, 27.94it/s]\n",
            "Eval : 100%|██████████| 63/63 [00:01<00:00, 36.07it/s]\n",
            "Epoch 964\n"
          ]
        },
        {
          "output_type": "stream",
          "name": "stdout",
          "text": [
            "108.492\n"
          ]
        },
        {
          "output_type": "stream",
          "name": "stderr",
          "text": [
            "Train: 100%|██████████| 813/813 [00:22<00:00, 35.56it/s]\n",
            "Eval : 100%|██████████| 63/63 [00:01<00:00, 36.34it/s]\n",
            "Epoch 965\n"
          ]
        },
        {
          "output_type": "stream",
          "name": "stdout",
          "text": [
            "107.289\n"
          ]
        },
        {
          "output_type": "stream",
          "name": "stderr",
          "text": [
            "Train: 100%|██████████| 813/813 [00:28<00:00, 28.41it/s]\n",
            "Eval : 100%|██████████| 63/63 [00:01<00:00, 36.11it/s]\n",
            "Epoch 966\n"
          ]
        },
        {
          "output_type": "stream",
          "name": "stdout",
          "text": [
            "107.289\n"
          ]
        },
        {
          "output_type": "stream",
          "name": "stderr",
          "text": [
            "Train: 100%|██████████| 813/813 [00:23<00:00, 35.32it/s]\n",
            "Eval : 100%|██████████| 63/63 [00:01<00:00, 35.82it/s]\n",
            "Epoch 967\n"
          ]
        },
        {
          "output_type": "stream",
          "name": "stdout",
          "text": [
            "108.515\n"
          ]
        },
        {
          "output_type": "stream",
          "name": "stderr",
          "text": [
            "Train: 100%|██████████| 813/813 [00:28<00:00, 28.23it/s]\n",
            "Eval : 100%|██████████| 63/63 [00:01<00:00, 36.05it/s]\n",
            "Epoch 968\n"
          ]
        },
        {
          "output_type": "stream",
          "name": "stdout",
          "text": [
            "108.515\n"
          ]
        },
        {
          "output_type": "stream",
          "name": "stderr",
          "text": [
            "Train: 100%|██████████| 813/813 [00:22<00:00, 35.49it/s]\n",
            "Eval : 100%|██████████| 63/63 [00:01<00:00, 36.08it/s]\n",
            "Epoch 969\n"
          ]
        },
        {
          "output_type": "stream",
          "name": "stdout",
          "text": [
            "107.669\n"
          ]
        },
        {
          "output_type": "stream",
          "name": "stderr",
          "text": [
            "Train: 100%|██████████| 813/813 [00:28<00:00, 28.32it/s]\n",
            "Eval : 100%|██████████| 63/63 [00:01<00:00, 36.35it/s]\n",
            "Epoch 970\n"
          ]
        },
        {
          "output_type": "stream",
          "name": "stdout",
          "text": [
            "107.669\n"
          ]
        },
        {
          "output_type": "stream",
          "name": "stderr",
          "text": [
            "Train: 100%|██████████| 813/813 [00:22<00:00, 35.61it/s]\n",
            "Eval : 100%|██████████| 63/63 [00:01<00:00, 36.24it/s]\n",
            "Epoch 971\n"
          ]
        },
        {
          "output_type": "stream",
          "name": "stdout",
          "text": [
            "108.399\n"
          ]
        },
        {
          "output_type": "stream",
          "name": "stderr",
          "text": [
            "Train: 100%|██████████| 813/813 [00:28<00:00, 28.23it/s]\n",
            "Eval : 100%|██████████| 63/63 [00:01<00:00, 36.60it/s]\n",
            "Epoch 972\n"
          ]
        },
        {
          "output_type": "stream",
          "name": "stdout",
          "text": [
            "108.399\n"
          ]
        },
        {
          "output_type": "stream",
          "name": "stderr",
          "text": [
            "Train: 100%|██████████| 813/813 [00:22<00:00, 35.61it/s]\n",
            "Eval : 100%|██████████| 63/63 [00:01<00:00, 36.59it/s]\n",
            "Epoch 973\n"
          ]
        },
        {
          "output_type": "stream",
          "name": "stdout",
          "text": [
            "107.936\n"
          ]
        },
        {
          "output_type": "stream",
          "name": "stderr",
          "text": [
            "Train: 100%|██████████| 813/813 [00:28<00:00, 28.06it/s]\n",
            "Eval : 100%|██████████| 63/63 [00:01<00:00, 36.47it/s]\n",
            "Epoch 974\n"
          ]
        },
        {
          "output_type": "stream",
          "name": "stdout",
          "text": [
            "107.936\n"
          ]
        },
        {
          "output_type": "stream",
          "name": "stderr",
          "text": [
            "Train: 100%|██████████| 813/813 [00:23<00:00, 35.13it/s]\n",
            "Eval : 100%|██████████| 63/63 [00:01<00:00, 36.05it/s]\n",
            "Epoch 975\n"
          ]
        },
        {
          "output_type": "stream",
          "name": "stdout",
          "text": [
            "108.129\n"
          ]
        },
        {
          "output_type": "stream",
          "name": "stderr",
          "text": [
            "Train: 100%|██████████| 813/813 [00:28<00:00, 28.19it/s]\n",
            "Eval : 100%|██████████| 63/63 [00:01<00:00, 36.39it/s]\n",
            "Epoch 976\n"
          ]
        },
        {
          "output_type": "stream",
          "name": "stdout",
          "text": [
            "108.129\n"
          ]
        },
        {
          "output_type": "stream",
          "name": "stderr",
          "text": [
            "Train: 100%|██████████| 813/813 [00:22<00:00, 35.35it/s]\n",
            "Eval : 100%|██████████| 63/63 [00:01<00:00, 36.61it/s]\n",
            "Epoch 977\n"
          ]
        },
        {
          "output_type": "stream",
          "name": "stdout",
          "text": [
            "108.185\n"
          ]
        },
        {
          "output_type": "stream",
          "name": "stderr",
          "text": [
            "Train: 100%|██████████| 813/813 [00:29<00:00, 28.03it/s]\n",
            "Eval : 100%|██████████| 63/63 [00:01<00:00, 36.41it/s]\n",
            "Epoch 978\n"
          ]
        },
        {
          "output_type": "stream",
          "name": "stdout",
          "text": [
            "108.185\n"
          ]
        },
        {
          "output_type": "stream",
          "name": "stderr",
          "text": [
            "Train: 100%|██████████| 813/813 [00:22<00:00, 35.59it/s]\n",
            "Eval : 100%|██████████| 63/63 [00:01<00:00, 35.77it/s]\n",
            "Epoch 979\n"
          ]
        },
        {
          "output_type": "stream",
          "name": "stdout",
          "text": [
            "107.862\n"
          ]
        },
        {
          "output_type": "stream",
          "name": "stderr",
          "text": [
            "Train: 100%|██████████| 813/813 [00:28<00:00, 28.16it/s]\n",
            "Eval : 100%|██████████| 63/63 [00:01<00:00, 36.50it/s]\n",
            "Epoch 980\n"
          ]
        },
        {
          "output_type": "stream",
          "name": "stdout",
          "text": [
            "107.862\n"
          ]
        },
        {
          "output_type": "stream",
          "name": "stderr",
          "text": [
            "Train: 100%|██████████| 813/813 [00:22<00:00, 35.59it/s]\n",
            "Eval : 100%|██████████| 63/63 [00:01<00:00, 36.12it/s]\n",
            "Epoch 981\n"
          ]
        },
        {
          "output_type": "stream",
          "name": "stdout",
          "text": [
            "107.487\n"
          ]
        },
        {
          "output_type": "stream",
          "name": "stderr",
          "text": [
            "Train: 100%|██████████| 813/813 [00:28<00:00, 28.21it/s]\n",
            "Eval : 100%|██████████| 63/63 [00:01<00:00, 36.26it/s]\n",
            "Epoch 982\n"
          ]
        },
        {
          "output_type": "stream",
          "name": "stdout",
          "text": [
            "107.487\n"
          ]
        },
        {
          "output_type": "stream",
          "name": "stderr",
          "text": [
            "Train: 100%|██████████| 813/813 [00:22<00:00, 35.46it/s]\n",
            "Eval : 100%|██████████| 63/63 [00:01<00:00, 36.98it/s]\n",
            "Epoch 983\n"
          ]
        },
        {
          "output_type": "stream",
          "name": "stdout",
          "text": [
            "107.797\n"
          ]
        },
        {
          "output_type": "stream",
          "name": "stderr",
          "text": [
            "Train: 100%|██████████| 813/813 [00:28<00:00, 28.28it/s]\n",
            "Eval : 100%|██████████| 63/63 [00:01<00:00, 35.21it/s]\n",
            "Epoch 984\n"
          ]
        },
        {
          "output_type": "stream",
          "name": "stdout",
          "text": [
            "107.797\n"
          ]
        },
        {
          "output_type": "stream",
          "name": "stderr",
          "text": [
            "Train: 100%|██████████| 813/813 [00:22<00:00, 35.40it/s]\n",
            "Eval : 100%|██████████| 63/63 [00:01<00:00, 36.48it/s]\n",
            "Epoch 985\n"
          ]
        },
        {
          "output_type": "stream",
          "name": "stdout",
          "text": [
            "107.866\n"
          ]
        },
        {
          "output_type": "stream",
          "name": "stderr",
          "text": [
            "Train: 100%|██████████| 813/813 [00:28<00:00, 28.19it/s]\n",
            "Eval : 100%|██████████| 63/63 [00:01<00:00, 35.63it/s]\n",
            "Epoch 986\n"
          ]
        },
        {
          "output_type": "stream",
          "name": "stdout",
          "text": [
            "107.866\n"
          ]
        },
        {
          "output_type": "stream",
          "name": "stderr",
          "text": [
            "Train: 100%|██████████| 813/813 [00:23<00:00, 35.20it/s]\n",
            "Eval : 100%|██████████| 63/63 [00:01<00:00, 35.87it/s]\n",
            "Epoch 987\n"
          ]
        },
        {
          "output_type": "stream",
          "name": "stdout",
          "text": [
            "107.923\n"
          ]
        },
        {
          "output_type": "stream",
          "name": "stderr",
          "text": [
            "Train: 100%|██████████| 813/813 [00:28<00:00, 28.13it/s]\n",
            "Eval : 100%|██████████| 63/63 [00:01<00:00, 36.76it/s]\n",
            "Epoch 988\n"
          ]
        },
        {
          "output_type": "stream",
          "name": "stdout",
          "text": [
            "107.923\n"
          ]
        },
        {
          "output_type": "stream",
          "name": "stderr",
          "text": [
            "Train: 100%|██████████| 813/813 [00:23<00:00, 35.25it/s]\n",
            "Eval : 100%|██████████| 63/63 [00:01<00:00, 36.23it/s]\n",
            "Epoch 989\n"
          ]
        },
        {
          "output_type": "stream",
          "name": "stdout",
          "text": [
            "107.89\n"
          ]
        },
        {
          "output_type": "stream",
          "name": "stderr",
          "text": [
            "Train: 100%|██████████| 813/813 [00:28<00:00, 28.07it/s]\n",
            "Eval : 100%|██████████| 63/63 [00:01<00:00, 36.15it/s]\n",
            "Epoch 990\n"
          ]
        },
        {
          "output_type": "stream",
          "name": "stdout",
          "text": [
            "107.89\n"
          ]
        },
        {
          "output_type": "stream",
          "name": "stderr",
          "text": [
            "Train: 100%|██████████| 813/813 [00:22<00:00, 35.38it/s]\n",
            "Eval : 100%|██████████| 63/63 [00:01<00:00, 35.22it/s]\n",
            "Epoch 991\n"
          ]
        },
        {
          "output_type": "stream",
          "name": "stdout",
          "text": [
            "107.24\n"
          ]
        },
        {
          "output_type": "stream",
          "name": "stderr",
          "text": [
            "Train: 100%|██████████| 813/813 [00:28<00:00, 28.34it/s]\n",
            "Eval : 100%|██████████| 63/63 [00:01<00:00, 35.08it/s]\n",
            "Epoch 992\n"
          ]
        },
        {
          "output_type": "stream",
          "name": "stdout",
          "text": [
            "107.24\n"
          ]
        },
        {
          "output_type": "stream",
          "name": "stderr",
          "text": [
            "Train: 100%|██████████| 813/813 [00:23<00:00, 35.21it/s]\n",
            "Eval : 100%|██████████| 63/63 [00:01<00:00, 35.75it/s]\n",
            "Epoch 993\n"
          ]
        },
        {
          "output_type": "stream",
          "name": "stdout",
          "text": [
            "108.251\n"
          ]
        },
        {
          "output_type": "stream",
          "name": "stderr",
          "text": [
            "Train: 100%|██████████| 813/813 [00:28<00:00, 28.10it/s]\n",
            "Eval : 100%|██████████| 63/63 [00:01<00:00, 35.94it/s]\n",
            "Epoch 994\n"
          ]
        },
        {
          "output_type": "stream",
          "name": "stdout",
          "text": [
            "108.251\n"
          ]
        },
        {
          "output_type": "stream",
          "name": "stderr",
          "text": [
            "Train: 100%|██████████| 813/813 [00:22<00:00, 35.35it/s]\n",
            "Eval : 100%|██████████| 63/63 [00:01<00:00, 35.90it/s]\n",
            "Epoch 995\n"
          ]
        },
        {
          "output_type": "stream",
          "name": "stdout",
          "text": [
            "108.461\n"
          ]
        },
        {
          "output_type": "stream",
          "name": "stderr",
          "text": [
            "Train: 100%|██████████| 813/813 [00:28<00:00, 28.16it/s]\n",
            "Eval : 100%|██████████| 63/63 [00:01<00:00, 36.21it/s]\n",
            "Epoch 996\n"
          ]
        },
        {
          "output_type": "stream",
          "name": "stdout",
          "text": [
            "108.461\n"
          ]
        },
        {
          "output_type": "stream",
          "name": "stderr",
          "text": [
            "Train: 100%|██████████| 813/813 [00:22<00:00, 35.59it/s]\n",
            "Eval : 100%|██████████| 63/63 [00:01<00:00, 36.55it/s]\n",
            "Epoch 997\n"
          ]
        },
        {
          "output_type": "stream",
          "name": "stdout",
          "text": [
            "107.586\n"
          ]
        },
        {
          "output_type": "stream",
          "name": "stderr",
          "text": [
            "Train: 100%|██████████| 813/813 [00:28<00:00, 28.21it/s]\n",
            "Eval : 100%|██████████| 63/63 [00:01<00:00, 35.86it/s]\n",
            "Epoch 998\n"
          ]
        },
        {
          "output_type": "stream",
          "name": "stdout",
          "text": [
            "107.586\n"
          ]
        },
        {
          "output_type": "stream",
          "name": "stderr",
          "text": [
            "Train: 100%|██████████| 813/813 [00:23<00:00, 35.33it/s]\n",
            "Eval : 100%|██████████| 63/63 [00:01<00:00, 36.30it/s]\n",
            "Epoch 999\n"
          ]
        },
        {
          "output_type": "stream",
          "name": "stdout",
          "text": [
            "108.953\n"
          ]
        },
        {
          "output_type": "stream",
          "name": "stderr",
          "text": [
            "Train: 100%|██████████| 813/813 [00:28<00:00, 28.10it/s]\n",
            "Eval : 100%|██████████| 63/63 [00:01<00:00, 36.95it/s]\n",
            "Epoch 1000\n"
          ]
        },
        {
          "output_type": "stream",
          "name": "stdout",
          "text": [
            "108.953\n"
          ]
        },
        {
          "output_type": "stream",
          "name": "stderr",
          "text": [
            "Train: 100%|██████████| 813/813 [00:22<00:00, 35.57it/s]\n",
            "Eval : 100%|██████████| 63/63 [00:01<00:00, 36.68it/s]\n",
            "Epoch 1001\n"
          ]
        },
        {
          "output_type": "stream",
          "name": "stdout",
          "text": [
            "107.206\n"
          ]
        },
        {
          "output_type": "stream",
          "name": "stderr",
          "text": [
            "Train: 100%|██████████| 813/813 [00:28<00:00, 28.09it/s]\n",
            "Eval : 100%|██████████| 63/63 [00:01<00:00, 36.49it/s]\n",
            "Epoch 1002\n"
          ]
        },
        {
          "output_type": "stream",
          "name": "stdout",
          "text": [
            "107.206\n"
          ]
        },
        {
          "output_type": "stream",
          "name": "stderr",
          "text": [
            "Train: 100%|██████████| 813/813 [00:23<00:00, 34.90it/s]\n",
            "Eval : 100%|██████████| 63/63 [00:01<00:00, 35.84it/s]\n",
            "Epoch 1003\n"
          ]
        },
        {
          "output_type": "stream",
          "name": "stdout",
          "text": [
            "108.163\n"
          ]
        },
        {
          "output_type": "stream",
          "name": "stderr",
          "text": [
            "Train: 100%|██████████| 813/813 [00:28<00:00, 28.27it/s]\n",
            "Eval : 100%|██████████| 63/63 [00:01<00:00, 35.84it/s]\n",
            "Epoch 1004\n"
          ]
        },
        {
          "output_type": "stream",
          "name": "stdout",
          "text": [
            "108.163\n"
          ]
        },
        {
          "output_type": "stream",
          "name": "stderr",
          "text": [
            "Train: 100%|██████████| 813/813 [00:23<00:00, 34.45it/s]\n",
            "Eval : 100%|██████████| 63/63 [00:01<00:00, 35.37it/s]\n",
            "Epoch 1005\n"
          ]
        },
        {
          "output_type": "stream",
          "name": "stdout",
          "text": [
            "107.444\n"
          ]
        },
        {
          "output_type": "stream",
          "name": "stderr",
          "text": [
            "Train: 100%|██████████| 813/813 [00:29<00:00, 27.12it/s]\n",
            "Eval : 100%|██████████| 63/63 [00:01<00:00, 35.45it/s]\n",
            "Epoch 1006\n"
          ]
        },
        {
          "output_type": "stream",
          "name": "stdout",
          "text": [
            "107.444\n"
          ]
        },
        {
          "output_type": "stream",
          "name": "stderr",
          "text": [
            "Train: 100%|██████████| 813/813 [00:23<00:00, 34.40it/s]\n",
            "Eval : 100%|██████████| 63/63 [00:01<00:00, 34.51it/s]\n",
            "Epoch 1007\n"
          ]
        },
        {
          "output_type": "stream",
          "name": "stdout",
          "text": [
            "108.485\n"
          ]
        },
        {
          "output_type": "stream",
          "name": "stderr",
          "text": [
            "Train: 100%|██████████| 813/813 [00:29<00:00, 27.22it/s]\n",
            "Eval : 100%|██████████| 63/63 [00:01<00:00, 35.40it/s]\n",
            "Epoch 1008\n"
          ]
        },
        {
          "output_type": "stream",
          "name": "stdout",
          "text": [
            "108.485\n"
          ]
        },
        {
          "output_type": "stream",
          "name": "stderr",
          "text": [
            "Train: 100%|██████████| 813/813 [00:23<00:00, 34.45it/s]\n",
            "Eval : 100%|██████████| 63/63 [00:01<00:00, 35.28it/s]\n",
            "Epoch 1009\n"
          ]
        },
        {
          "output_type": "stream",
          "name": "stdout",
          "text": [
            "107.768\n"
          ]
        },
        {
          "output_type": "stream",
          "name": "stderr",
          "text": [
            "Train: 100%|██████████| 813/813 [00:29<00:00, 27.34it/s]\n",
            "Eval : 100%|██████████| 63/63 [00:01<00:00, 35.71it/s]\n",
            "Epoch 1010\n"
          ]
        },
        {
          "output_type": "stream",
          "name": "stdout",
          "text": [
            "107.768\n"
          ]
        },
        {
          "output_type": "stream",
          "name": "stderr",
          "text": [
            "Train: 100%|██████████| 813/813 [00:23<00:00, 34.04it/s]\n",
            "Eval : 100%|██████████| 63/63 [00:01<00:00, 35.26it/s]\n",
            "Epoch 1011\n"
          ]
        },
        {
          "output_type": "stream",
          "name": "stdout",
          "text": [
            "107.944\n"
          ]
        },
        {
          "output_type": "stream",
          "name": "stderr",
          "text": [
            "Train: 100%|██████████| 813/813 [00:30<00:00, 27.08it/s]\n",
            "Eval : 100%|██████████| 63/63 [00:01<00:00, 35.23it/s]\n",
            "Epoch 1012\n"
          ]
        },
        {
          "output_type": "stream",
          "name": "stdout",
          "text": [
            "107.944\n"
          ]
        },
        {
          "output_type": "stream",
          "name": "stderr",
          "text": [
            "Train: 100%|██████████| 813/813 [00:23<00:00, 34.30it/s]\n",
            "Eval : 100%|██████████| 63/63 [00:01<00:00, 35.71it/s]\n",
            "Epoch 1013\n"
          ]
        },
        {
          "output_type": "stream",
          "name": "stdout",
          "text": [
            "107.17\n"
          ]
        },
        {
          "output_type": "stream",
          "name": "stderr",
          "text": [
            "Train: 100%|██████████| 813/813 [00:29<00:00, 27.31it/s]\n",
            "Eval : 100%|██████████| 63/63 [00:01<00:00, 34.35it/s]\n",
            "Epoch 1014\n"
          ]
        },
        {
          "output_type": "stream",
          "name": "stdout",
          "text": [
            "107.17\n"
          ]
        },
        {
          "output_type": "stream",
          "name": "stderr",
          "text": [
            "Train: 100%|██████████| 813/813 [00:23<00:00, 34.16it/s]\n",
            "Eval : 100%|██████████| 63/63 [00:01<00:00, 35.54it/s]\n",
            "Epoch 1015\n"
          ]
        },
        {
          "output_type": "stream",
          "name": "stdout",
          "text": [
            "107.793\n"
          ]
        },
        {
          "output_type": "stream",
          "name": "stderr",
          "text": [
            "Train: 100%|██████████| 813/813 [00:29<00:00, 27.17it/s]\n",
            "Eval : 100%|██████████| 63/63 [00:01<00:00, 36.59it/s]\n",
            "Epoch 1016\n"
          ]
        },
        {
          "output_type": "stream",
          "name": "stdout",
          "text": [
            "107.793\n"
          ]
        },
        {
          "output_type": "stream",
          "name": "stderr",
          "text": [
            "Train: 100%|██████████| 813/813 [00:23<00:00, 35.12it/s]\n",
            "Eval : 100%|██████████| 63/63 [00:01<00:00, 35.12it/s]\n",
            "Epoch 1017\n"
          ]
        },
        {
          "output_type": "stream",
          "name": "stdout",
          "text": [
            "107.746\n"
          ]
        },
        {
          "output_type": "stream",
          "name": "stderr",
          "text": [
            "Train: 100%|██████████| 813/813 [00:29<00:00, 27.43it/s]\n",
            "Eval : 100%|██████████| 63/63 [00:01<00:00, 34.57it/s]\n",
            "Epoch 1018\n"
          ]
        },
        {
          "output_type": "stream",
          "name": "stdout",
          "text": [
            "107.746\n"
          ]
        },
        {
          "output_type": "stream",
          "name": "stderr",
          "text": [
            "Train: 100%|██████████| 813/813 [00:23<00:00, 34.18it/s]\n",
            "Eval : 100%|██████████| 63/63 [00:01<00:00, 35.85it/s]\n",
            "Epoch 1019\n"
          ]
        },
        {
          "output_type": "stream",
          "name": "stdout",
          "text": [
            "107.727\n"
          ]
        },
        {
          "output_type": "stream",
          "name": "stderr",
          "text": [
            "Train: 100%|██████████| 813/813 [00:29<00:00, 27.83it/s]\n",
            "Eval : 100%|██████████| 63/63 [00:01<00:00, 34.91it/s]\n",
            "Epoch 1020\n"
          ]
        },
        {
          "output_type": "stream",
          "name": "stdout",
          "text": [
            "107.727\n"
          ]
        },
        {
          "output_type": "stream",
          "name": "stderr",
          "text": [
            "Train: 100%|██████████| 813/813 [00:23<00:00, 33.97it/s]\n",
            "Eval : 100%|██████████| 63/63 [00:01<00:00, 34.99it/s]\n",
            "Epoch 1021\n"
          ]
        },
        {
          "output_type": "stream",
          "name": "stdout",
          "text": [
            "107.861\n"
          ]
        },
        {
          "output_type": "stream",
          "name": "stderr",
          "text": [
            "Train: 100%|██████████| 813/813 [00:29<00:00, 27.53it/s]\n",
            "Eval : 100%|██████████| 63/63 [00:01<00:00, 35.23it/s]\n",
            "Epoch 1022\n"
          ]
        },
        {
          "output_type": "stream",
          "name": "stdout",
          "text": [
            "107.861\n"
          ]
        },
        {
          "output_type": "stream",
          "name": "stderr",
          "text": [
            "Train: 100%|██████████| 813/813 [00:23<00:00, 34.15it/s]\n",
            "Eval : 100%|██████████| 63/63 [00:01<00:00, 35.08it/s]\n",
            "Epoch 1023\n"
          ]
        },
        {
          "output_type": "stream",
          "name": "stdout",
          "text": [
            "108.198\n"
          ]
        },
        {
          "output_type": "stream",
          "name": "stderr",
          "text": [
            "Train: 100%|██████████| 813/813 [00:29<00:00, 27.27it/s]\n",
            "Eval : 100%|██████████| 63/63 [00:01<00:00, 35.64it/s]\n",
            "Epoch 1024\n"
          ]
        },
        {
          "output_type": "stream",
          "name": "stdout",
          "text": [
            "108.198\n"
          ]
        },
        {
          "output_type": "stream",
          "name": "stderr",
          "text": [
            "Train: 100%|██████████| 813/813 [00:23<00:00, 34.60it/s]\n",
            "Eval : 100%|██████████| 63/63 [00:01<00:00, 35.64it/s]\n",
            "Epoch 1025\n"
          ]
        },
        {
          "output_type": "stream",
          "name": "stdout",
          "text": [
            "108.789\n"
          ]
        },
        {
          "output_type": "stream",
          "name": "stderr",
          "text": [
            "Train: 100%|██████████| 813/813 [00:29<00:00, 27.44it/s]\n",
            "Eval : 100%|██████████| 63/63 [00:01<00:00, 36.05it/s]\n",
            "Epoch 1026\n"
          ]
        },
        {
          "output_type": "stream",
          "name": "stdout",
          "text": [
            "108.789\n"
          ]
        },
        {
          "output_type": "stream",
          "name": "stderr",
          "text": [
            "Train: 100%|██████████| 813/813 [00:24<00:00, 33.79it/s]\n",
            "Eval : 100%|██████████| 63/63 [00:01<00:00, 35.07it/s]\n",
            "Epoch 1027\n"
          ]
        },
        {
          "output_type": "stream",
          "name": "stdout",
          "text": [
            "108.254\n"
          ]
        },
        {
          "output_type": "stream",
          "name": "stderr",
          "text": [
            "Train: 100%|██████████| 813/813 [00:29<00:00, 27.27it/s]\n",
            "Eval : 100%|██████████| 63/63 [00:01<00:00, 35.85it/s]\n",
            "Epoch 1028\n"
          ]
        },
        {
          "output_type": "stream",
          "name": "stdout",
          "text": [
            "108.254\n"
          ]
        },
        {
          "output_type": "stream",
          "name": "stderr",
          "text": [
            "Train: 100%|██████████| 813/813 [00:23<00:00, 35.04it/s]\n",
            "Eval : 100%|██████████| 63/63 [00:01<00:00, 36.86it/s]\n",
            "Epoch 1029\n"
          ]
        },
        {
          "output_type": "stream",
          "name": "stdout",
          "text": [
            "106.88\n"
          ]
        },
        {
          "output_type": "stream",
          "name": "stderr",
          "text": [
            "Train: 100%|██████████| 813/813 [00:29<00:00, 27.65it/s]\n",
            "Eval : 100%|██████████| 63/63 [00:01<00:00, 35.46it/s]\n",
            "Epoch 1030\n"
          ]
        },
        {
          "output_type": "stream",
          "name": "stdout",
          "text": [
            "106.88\n"
          ]
        },
        {
          "output_type": "stream",
          "name": "stderr",
          "text": [
            "Train: 100%|██████████| 813/813 [00:23<00:00, 34.37it/s]\n",
            "Eval : 100%|██████████| 63/63 [00:01<00:00, 33.05it/s]\n",
            "Epoch 1031\n"
          ]
        },
        {
          "output_type": "stream",
          "name": "stdout",
          "text": [
            "108.2\n"
          ]
        },
        {
          "output_type": "stream",
          "name": "stderr",
          "text": [
            "Train: 100%|██████████| 813/813 [00:29<00:00, 27.35it/s]\n",
            "Eval : 100%|██████████| 63/63 [00:01<00:00, 36.86it/s]\n",
            "Epoch 1032\n"
          ]
        },
        {
          "output_type": "stream",
          "name": "stdout",
          "text": [
            "108.2\n"
          ]
        },
        {
          "output_type": "stream",
          "name": "stderr",
          "text": [
            "Train: 100%|██████████| 813/813 [00:23<00:00, 34.77it/s]\n",
            "Eval : 100%|██████████| 63/63 [00:01<00:00, 35.53it/s]\n",
            "Epoch 1033\n"
          ]
        },
        {
          "output_type": "stream",
          "name": "stdout",
          "text": [
            "107.887\n"
          ]
        },
        {
          "output_type": "stream",
          "name": "stderr",
          "text": [
            "Train: 100%|██████████| 813/813 [00:29<00:00, 27.57it/s]\n",
            "Eval : 100%|██████████| 63/63 [00:01<00:00, 34.91it/s]\n",
            "Epoch 1034\n"
          ]
        },
        {
          "output_type": "stream",
          "name": "stdout",
          "text": [
            "107.887\n"
          ]
        },
        {
          "output_type": "stream",
          "name": "stderr",
          "text": [
            "Train: 100%|██████████| 813/813 [00:24<00:00, 33.41it/s]\n",
            "Eval : 100%|██████████| 63/63 [00:01<00:00, 34.22it/s]\n",
            "Epoch 1035\n"
          ]
        },
        {
          "output_type": "stream",
          "name": "stdout",
          "text": [
            "108.089\n"
          ]
        },
        {
          "output_type": "stream",
          "name": "stderr",
          "text": [
            "Train: 100%|██████████| 813/813 [00:29<00:00, 27.13it/s]\n",
            "Eval : 100%|██████████| 63/63 [00:01<00:00, 35.60it/s]\n",
            "Epoch 1036\n"
          ]
        },
        {
          "output_type": "stream",
          "name": "stdout",
          "text": [
            "108.089\n"
          ]
        },
        {
          "output_type": "stream",
          "name": "stderr",
          "text": [
            "Train: 100%|██████████| 813/813 [00:23<00:00, 34.94it/s]\n",
            "Eval : 100%|██████████| 63/63 [00:01<00:00, 36.29it/s]\n",
            "Epoch 1037\n"
          ]
        },
        {
          "output_type": "stream",
          "name": "stdout",
          "text": [
            "108.401\n"
          ]
        },
        {
          "output_type": "stream",
          "name": "stderr",
          "text": [
            "Train: 100%|██████████| 813/813 [00:29<00:00, 27.22it/s]\n",
            "Eval : 100%|██████████| 63/63 [00:01<00:00, 35.47it/s]\n",
            "Epoch 1038\n"
          ]
        },
        {
          "output_type": "stream",
          "name": "stdout",
          "text": [
            "108.401\n"
          ]
        },
        {
          "output_type": "stream",
          "name": "stderr",
          "text": [
            "Train: 100%|██████████| 813/813 [00:23<00:00, 34.24it/s]\n",
            "Eval : 100%|██████████| 63/63 [00:01<00:00, 36.14it/s]\n",
            "Epoch 1039\n"
          ]
        },
        {
          "output_type": "stream",
          "name": "stdout",
          "text": [
            "109.251\n"
          ]
        },
        {
          "output_type": "stream",
          "name": "stderr",
          "text": [
            "Train: 100%|██████████| 813/813 [00:30<00:00, 27.04it/s]\n",
            "Eval : 100%|██████████| 63/63 [00:01<00:00, 35.54it/s]\n",
            "Epoch 1040\n"
          ]
        },
        {
          "output_type": "stream",
          "name": "stdout",
          "text": [
            "109.251\n"
          ]
        },
        {
          "output_type": "stream",
          "name": "stderr",
          "text": [
            "Train: 100%|██████████| 813/813 [00:23<00:00, 34.29it/s]\n",
            "Eval : 100%|██████████| 63/63 [00:01<00:00, 36.38it/s]\n",
            "Epoch 1041\n"
          ]
        },
        {
          "output_type": "stream",
          "name": "stdout",
          "text": [
            "107.974\n"
          ]
        },
        {
          "output_type": "stream",
          "name": "stderr",
          "text": [
            "Train: 100%|██████████| 813/813 [00:29<00:00, 27.32it/s]\n",
            "Eval : 100%|██████████| 63/63 [00:01<00:00, 34.94it/s]\n",
            "Epoch 1042\n"
          ]
        },
        {
          "output_type": "stream",
          "name": "stdout",
          "text": [
            "107.974\n"
          ]
        },
        {
          "output_type": "stream",
          "name": "stderr",
          "text": [
            "Train: 100%|██████████| 813/813 [00:23<00:00, 34.52it/s]\n",
            "Eval : 100%|██████████| 63/63 [00:01<00:00, 35.21it/s]\n",
            "Epoch 1043\n"
          ]
        },
        {
          "output_type": "stream",
          "name": "stdout",
          "text": [
            "108.483\n"
          ]
        },
        {
          "output_type": "stream",
          "name": "stderr",
          "text": [
            "Train: 100%|██████████| 813/813 [00:29<00:00, 27.60it/s]\n",
            "Eval : 100%|██████████| 63/63 [00:01<00:00, 35.37it/s]\n",
            "Epoch 1044\n"
          ]
        },
        {
          "output_type": "stream",
          "name": "stdout",
          "text": [
            "108.483\n"
          ]
        },
        {
          "output_type": "stream",
          "name": "stderr",
          "text": [
            "Train: 100%|██████████| 813/813 [00:23<00:00, 34.33it/s]\n",
            "Eval : 100%|██████████| 63/63 [00:01<00:00, 36.27it/s]\n",
            "Epoch 1045\n"
          ]
        },
        {
          "output_type": "stream",
          "name": "stdout",
          "text": [
            "108.012\n"
          ]
        },
        {
          "output_type": "stream",
          "name": "stderr",
          "text": [
            "Train: 100%|██████████| 813/813 [00:29<00:00, 27.59it/s]\n",
            "Eval : 100%|██████████| 63/63 [00:01<00:00, 35.39it/s]\n",
            "Epoch 1046\n"
          ]
        },
        {
          "output_type": "stream",
          "name": "stdout",
          "text": [
            "108.012\n"
          ]
        },
        {
          "output_type": "stream",
          "name": "stderr",
          "text": [
            "Train: 100%|██████████| 813/813 [00:23<00:00, 34.36it/s]\n",
            "Eval : 100%|██████████| 63/63 [00:01<00:00, 35.04it/s]\n",
            "Epoch 1047\n"
          ]
        },
        {
          "output_type": "stream",
          "name": "stdout",
          "text": [
            "108.78\n"
          ]
        },
        {
          "output_type": "stream",
          "name": "stderr",
          "text": [
            "Train: 100%|██████████| 813/813 [00:29<00:00, 27.29it/s]\n",
            "Eval : 100%|██████████| 63/63 [00:01<00:00, 35.92it/s]\n",
            "Epoch 1048\n"
          ]
        },
        {
          "output_type": "stream",
          "name": "stdout",
          "text": [
            "108.78\n"
          ]
        },
        {
          "output_type": "stream",
          "name": "stderr",
          "text": [
            "Train: 100%|██████████| 813/813 [00:23<00:00, 34.12it/s]\n",
            "Eval : 100%|██████████| 63/63 [00:01<00:00, 35.19it/s]\n",
            "Epoch 1049\n"
          ]
        },
        {
          "output_type": "stream",
          "name": "stdout",
          "text": [
            "107.509\n"
          ]
        },
        {
          "output_type": "stream",
          "name": "stderr",
          "text": [
            "Train: 100%|██████████| 813/813 [00:29<00:00, 27.67it/s]\n",
            "Eval : 100%|██████████| 63/63 [00:01<00:00, 35.92it/s]\n",
            "Epoch 1050\n"
          ]
        },
        {
          "output_type": "stream",
          "name": "stdout",
          "text": [
            "107.509\n"
          ]
        },
        {
          "output_type": "stream",
          "name": "stderr",
          "text": [
            "Train: 100%|██████████| 813/813 [00:23<00:00, 34.46it/s]\n",
            "Eval : 100%|██████████| 63/63 [00:01<00:00, 35.67it/s]\n",
            "Epoch 1051\n"
          ]
        },
        {
          "output_type": "stream",
          "name": "stdout",
          "text": [
            "108.521\n"
          ]
        },
        {
          "output_type": "stream",
          "name": "stderr",
          "text": [
            "Train: 100%|██████████| 813/813 [00:29<00:00, 27.42it/s]\n",
            "Eval : 100%|██████████| 63/63 [00:01<00:00, 34.76it/s]\n",
            "Epoch 1052\n"
          ]
        },
        {
          "output_type": "stream",
          "name": "stdout",
          "text": [
            "108.521\n"
          ]
        },
        {
          "output_type": "stream",
          "name": "stderr",
          "text": [
            "Train: 100%|██████████| 813/813 [00:23<00:00, 34.32it/s]\n",
            "Eval : 100%|██████████| 63/63 [00:01<00:00, 35.18it/s]\n",
            "Epoch 1053\n"
          ]
        },
        {
          "output_type": "stream",
          "name": "stdout",
          "text": [
            "107.454\n"
          ]
        },
        {
          "output_type": "stream",
          "name": "stderr",
          "text": [
            "Train: 100%|██████████| 813/813 [00:28<00:00, 28.18it/s]\n",
            "Eval : 100%|██████████| 63/63 [00:01<00:00, 35.61it/s]\n",
            "Epoch 1054\n"
          ]
        },
        {
          "output_type": "stream",
          "name": "stdout",
          "text": [
            "107.454\n"
          ]
        },
        {
          "output_type": "stream",
          "name": "stderr",
          "text": [
            "Train: 100%|██████████| 813/813 [00:23<00:00, 34.17it/s]\n",
            "Eval : 100%|██████████| 63/63 [00:01<00:00, 35.40it/s]\n",
            "Epoch 1055\n"
          ]
        },
        {
          "output_type": "stream",
          "name": "stdout",
          "text": [
            "108.293\n"
          ]
        },
        {
          "output_type": "stream",
          "name": "stderr",
          "text": [
            "Train: 100%|██████████| 813/813 [00:29<00:00, 27.34it/s]\n",
            "Eval : 100%|██████████| 63/63 [00:01<00:00, 35.81it/s]\n",
            "Epoch 1056\n"
          ]
        },
        {
          "output_type": "stream",
          "name": "stdout",
          "text": [
            "108.293\n"
          ]
        },
        {
          "output_type": "stream",
          "name": "stderr",
          "text": [
            "Train: 100%|██████████| 813/813 [00:23<00:00, 34.12it/s]\n",
            "Eval : 100%|██████████| 63/63 [00:01<00:00, 35.08it/s]\n",
            "Epoch 1057\n"
          ]
        },
        {
          "output_type": "stream",
          "name": "stdout",
          "text": [
            "107.645\n"
          ]
        },
        {
          "output_type": "stream",
          "name": "stderr",
          "text": [
            "Train: 100%|██████████| 813/813 [00:29<00:00, 27.95it/s]\n",
            "Eval : 100%|██████████| 63/63 [00:01<00:00, 35.53it/s]\n",
            "Epoch 1058\n"
          ]
        },
        {
          "output_type": "stream",
          "name": "stdout",
          "text": [
            "107.645\n"
          ]
        },
        {
          "output_type": "stream",
          "name": "stderr",
          "text": [
            "Train: 100%|██████████| 813/813 [00:23<00:00, 34.44it/s]\n",
            "Eval : 100%|██████████| 63/63 [00:01<00:00, 35.52it/s]\n",
            "Epoch 1059\n"
          ]
        },
        {
          "output_type": "stream",
          "name": "stdout",
          "text": [
            "107.854\n"
          ]
        },
        {
          "output_type": "stream",
          "name": "stderr",
          "text": [
            "Train: 100%|██████████| 813/813 [00:29<00:00, 27.29it/s]\n",
            "Eval : 100%|██████████| 63/63 [00:01<00:00, 35.34it/s]\n",
            "Epoch 1060\n"
          ]
        },
        {
          "output_type": "stream",
          "name": "stdout",
          "text": [
            "107.854\n"
          ]
        },
        {
          "output_type": "stream",
          "name": "stderr",
          "text": [
            "Train: 100%|██████████| 813/813 [00:23<00:00, 34.23it/s]\n",
            "Eval : 100%|██████████| 63/63 [00:01<00:00, 35.63it/s]\n",
            "Epoch 1061\n"
          ]
        },
        {
          "output_type": "stream",
          "name": "stdout",
          "text": [
            "108.252\n"
          ]
        },
        {
          "output_type": "stream",
          "name": "stderr",
          "text": [
            "Train: 100%|██████████| 813/813 [00:29<00:00, 27.33it/s]\n",
            "Eval : 100%|██████████| 63/63 [00:01<00:00, 34.72it/s]\n",
            "Epoch 1062\n"
          ]
        },
        {
          "output_type": "stream",
          "name": "stdout",
          "text": [
            "108.252\n"
          ]
        },
        {
          "output_type": "stream",
          "name": "stderr",
          "text": [
            "Train: 100%|██████████| 813/813 [00:23<00:00, 34.02it/s]\n",
            "Eval : 100%|██████████| 63/63 [00:01<00:00, 35.26it/s]\n",
            "Epoch 1063\n"
          ]
        },
        {
          "output_type": "stream",
          "name": "stdout",
          "text": [
            "107.857\n"
          ]
        },
        {
          "output_type": "stream",
          "name": "stderr",
          "text": [
            "Train: 100%|██████████| 813/813 [00:29<00:00, 27.28it/s]\n",
            "Eval : 100%|██████████| 63/63 [00:01<00:00, 36.02it/s]\n",
            "Epoch 1064\n"
          ]
        },
        {
          "output_type": "stream",
          "name": "stdout",
          "text": [
            "107.857\n"
          ]
        },
        {
          "output_type": "stream",
          "name": "stderr",
          "text": [
            "Train: 100%|██████████| 813/813 [00:23<00:00, 34.40it/s]\n",
            "Eval : 100%|██████████| 63/63 [00:01<00:00, 34.69it/s]\n",
            "Epoch 1065\n"
          ]
        },
        {
          "output_type": "stream",
          "name": "stdout",
          "text": [
            "107.387\n"
          ]
        },
        {
          "output_type": "stream",
          "name": "stderr",
          "text": [
            "Train: 100%|██████████| 813/813 [00:29<00:00, 27.51it/s]\n",
            "Eval : 100%|██████████| 63/63 [00:01<00:00, 35.84it/s]\n",
            "Epoch 1066\n"
          ]
        },
        {
          "output_type": "stream",
          "name": "stdout",
          "text": [
            "107.387\n"
          ]
        },
        {
          "output_type": "stream",
          "name": "stderr",
          "text": [
            "Train: 100%|██████████| 813/813 [00:23<00:00, 34.99it/s]\n",
            "Eval : 100%|██████████| 63/63 [00:01<00:00, 34.94it/s]\n",
            "Epoch 1067\n"
          ]
        },
        {
          "output_type": "stream",
          "name": "stdout",
          "text": [
            "108.122\n"
          ]
        },
        {
          "output_type": "stream",
          "name": "stderr",
          "text": [
            "Train: 100%|██████████| 813/813 [00:29<00:00, 27.43it/s]\n",
            "Eval : 100%|██████████| 63/63 [00:01<00:00, 35.41it/s]\n",
            "Epoch 1068\n"
          ]
        },
        {
          "output_type": "stream",
          "name": "stdout",
          "text": [
            "108.122\n"
          ]
        },
        {
          "output_type": "stream",
          "name": "stderr",
          "text": [
            "Train: 100%|██████████| 813/813 [00:23<00:00, 34.47it/s]\n",
            "Eval : 100%|██████████| 63/63 [00:01<00:00, 35.63it/s]\n",
            "Epoch 1069\n"
          ]
        },
        {
          "output_type": "stream",
          "name": "stdout",
          "text": [
            "107.127\n"
          ]
        },
        {
          "output_type": "stream",
          "name": "stderr",
          "text": [
            "Train: 100%|██████████| 813/813 [00:28<00:00, 28.04it/s]\n",
            "Eval : 100%|██████████| 63/63 [00:01<00:00, 36.55it/s]\n",
            "Epoch 1070\n"
          ]
        },
        {
          "output_type": "stream",
          "name": "stdout",
          "text": [
            "107.127\n"
          ]
        },
        {
          "output_type": "stream",
          "name": "stderr",
          "text": [
            "Train: 100%|██████████| 813/813 [00:23<00:00, 34.52it/s]\n",
            "Eval : 100%|██████████| 63/63 [00:01<00:00, 35.23it/s]\n",
            "Epoch 1071\n"
          ]
        },
        {
          "output_type": "stream",
          "name": "stdout",
          "text": [
            "108.978\n"
          ]
        },
        {
          "output_type": "stream",
          "name": "stderr",
          "text": [
            "Train: 100%|██████████| 813/813 [00:29<00:00, 27.44it/s]\n",
            "Eval : 100%|██████████| 63/63 [00:01<00:00, 36.10it/s]\n",
            "Epoch 1072\n"
          ]
        },
        {
          "output_type": "stream",
          "name": "stdout",
          "text": [
            "108.978\n"
          ]
        },
        {
          "output_type": "stream",
          "name": "stderr",
          "text": [
            "Train: 100%|██████████| 813/813 [00:23<00:00, 34.72it/s]\n",
            "Eval : 100%|██████████| 63/63 [00:01<00:00, 36.87it/s]\n",
            "Epoch 1073\n"
          ]
        },
        {
          "output_type": "stream",
          "name": "stdout",
          "text": [
            "108.265\n"
          ]
        },
        {
          "output_type": "stream",
          "name": "stderr",
          "text": [
            "Train: 100%|██████████| 813/813 [00:29<00:00, 27.16it/s]\n",
            "Eval : 100%|██████████| 63/63 [00:01<00:00, 35.96it/s]\n",
            "Epoch 1074\n"
          ]
        },
        {
          "output_type": "stream",
          "name": "stdout",
          "text": [
            "108.265\n"
          ]
        },
        {
          "output_type": "stream",
          "name": "stderr",
          "text": [
            "Train: 100%|██████████| 813/813 [00:23<00:00, 34.42it/s]\n",
            "Eval : 100%|██████████| 63/63 [00:01<00:00, 35.74it/s]\n",
            "Epoch 1075\n"
          ]
        },
        {
          "output_type": "stream",
          "name": "stdout",
          "text": [
            "108.571\n"
          ]
        },
        {
          "output_type": "stream",
          "name": "stderr",
          "text": [
            "Train: 100%|██████████| 813/813 [00:29<00:00, 27.54it/s]\n",
            "Eval : 100%|██████████| 63/63 [00:01<00:00, 35.79it/s]\n",
            "Epoch 1076\n"
          ]
        },
        {
          "output_type": "stream",
          "name": "stdout",
          "text": [
            "108.571\n"
          ]
        },
        {
          "output_type": "stream",
          "name": "stderr",
          "text": [
            "Train: 100%|██████████| 813/813 [00:23<00:00, 34.79it/s]\n",
            "Eval : 100%|██████████| 63/63 [00:01<00:00, 35.46it/s]\n",
            "Epoch 1077\n"
          ]
        },
        {
          "output_type": "stream",
          "name": "stdout",
          "text": [
            "107.973\n"
          ]
        },
        {
          "output_type": "stream",
          "name": "stderr",
          "text": [
            "Train: 100%|██████████| 813/813 [00:29<00:00, 27.18it/s]\n",
            "Eval : 100%|██████████| 63/63 [00:01<00:00, 35.78it/s]\n",
            "Epoch 1078\n"
          ]
        },
        {
          "output_type": "stream",
          "name": "stdout",
          "text": [
            "107.973\n"
          ]
        },
        {
          "output_type": "stream",
          "name": "stderr",
          "text": [
            "Train: 100%|██████████| 813/813 [00:23<00:00, 34.56it/s]\n",
            "Eval : 100%|██████████| 63/63 [00:01<00:00, 35.79it/s]\n",
            "Epoch 1079\n"
          ]
        },
        {
          "output_type": "stream",
          "name": "stdout",
          "text": [
            "107.823\n"
          ]
        },
        {
          "output_type": "stream",
          "name": "stderr",
          "text": [
            "Train: 100%|██████████| 813/813 [00:29<00:00, 27.88it/s]\n",
            "Eval : 100%|██████████| 63/63 [00:01<00:00, 36.39it/s]\n",
            "Epoch 1080\n"
          ]
        },
        {
          "output_type": "stream",
          "name": "stdout",
          "text": [
            "107.823\n"
          ]
        },
        {
          "output_type": "stream",
          "name": "stderr",
          "text": [
            "Train: 100%|██████████| 813/813 [00:23<00:00, 35.06it/s]\n",
            "Eval : 100%|██████████| 63/63 [00:01<00:00, 35.56it/s]\n",
            "Epoch 1081\n"
          ]
        },
        {
          "output_type": "stream",
          "name": "stdout",
          "text": [
            "107.575\n"
          ]
        },
        {
          "output_type": "stream",
          "name": "stderr",
          "text": [
            "Train: 100%|██████████| 813/813 [00:29<00:00, 27.26it/s]\n",
            "Eval : 100%|██████████| 63/63 [00:01<00:00, 35.30it/s]\n",
            "Epoch 1082\n"
          ]
        },
        {
          "output_type": "stream",
          "name": "stdout",
          "text": [
            "107.575\n"
          ]
        },
        {
          "output_type": "stream",
          "name": "stderr",
          "text": [
            "Train: 100%|██████████| 813/813 [00:23<00:00, 34.61it/s]\n",
            "Eval : 100%|██████████| 63/63 [00:01<00:00, 35.65it/s]\n",
            "Epoch 1083\n"
          ]
        },
        {
          "output_type": "stream",
          "name": "stdout",
          "text": [
            "108.328\n"
          ]
        },
        {
          "output_type": "stream",
          "name": "stderr",
          "text": [
            "Train: 100%|██████████| 813/813 [00:29<00:00, 27.85it/s]\n",
            "Eval : 100%|██████████| 63/63 [00:01<00:00, 35.74it/s]\n",
            "Epoch 1084\n"
          ]
        },
        {
          "output_type": "stream",
          "name": "stdout",
          "text": [
            "108.328\n"
          ]
        },
        {
          "output_type": "stream",
          "name": "stderr",
          "text": [
            "Train: 100%|██████████| 813/813 [00:23<00:00, 35.31it/s]\n",
            "Eval : 100%|██████████| 63/63 [00:01<00:00, 36.77it/s]\n",
            "Epoch 1085\n"
          ]
        },
        {
          "output_type": "stream",
          "name": "stdout",
          "text": [
            "108.119\n"
          ]
        },
        {
          "output_type": "stream",
          "name": "stderr",
          "text": [
            "Train: 100%|██████████| 813/813 [00:28<00:00, 28.76it/s]\n",
            "Eval : 100%|██████████| 63/63 [00:01<00:00, 36.88it/s]\n",
            "Epoch 1086\n"
          ]
        },
        {
          "output_type": "stream",
          "name": "stdout",
          "text": [
            "108.119\n"
          ]
        },
        {
          "output_type": "stream",
          "name": "stderr",
          "text": [
            "Train: 100%|██████████| 813/813 [00:22<00:00, 35.76it/s]\n",
            "Eval : 100%|██████████| 63/63 [00:01<00:00, 36.46it/s]\n",
            "Epoch 1087\n"
          ]
        },
        {
          "output_type": "stream",
          "name": "stdout",
          "text": [
            "107.567\n"
          ]
        },
        {
          "output_type": "stream",
          "name": "stderr",
          "text": [
            "Train: 100%|██████████| 813/813 [00:28<00:00, 28.70it/s]\n",
            "Eval : 100%|██████████| 63/63 [00:01<00:00, 36.56it/s]\n",
            "Epoch 1088\n"
          ]
        },
        {
          "output_type": "stream",
          "name": "stdout",
          "text": [
            "107.567\n"
          ]
        },
        {
          "output_type": "stream",
          "name": "stderr",
          "text": [
            "Train: 100%|██████████| 813/813 [00:22<00:00, 35.63it/s]\n",
            "Eval : 100%|██████████| 63/63 [00:01<00:00, 37.20it/s]\n",
            "Epoch 1089\n"
          ]
        },
        {
          "output_type": "stream",
          "name": "stdout",
          "text": [
            "107.878\n"
          ]
        },
        {
          "output_type": "stream",
          "name": "stderr",
          "text": [
            "Train: 100%|██████████| 813/813 [00:28<00:00, 28.44it/s]\n",
            "Eval : 100%|██████████| 63/63 [00:01<00:00, 36.77it/s]\n",
            "Epoch 1090\n"
          ]
        },
        {
          "output_type": "stream",
          "name": "stdout",
          "text": [
            "107.878\n"
          ]
        },
        {
          "output_type": "stream",
          "name": "stderr",
          "text": [
            "Train: 100%|██████████| 813/813 [00:22<00:00, 35.62it/s]\n",
            "Eval : 100%|██████████| 63/63 [00:01<00:00, 36.70it/s]\n",
            "Epoch 1091\n"
          ]
        },
        {
          "output_type": "stream",
          "name": "stdout",
          "text": [
            "108.062\n"
          ]
        },
        {
          "output_type": "stream",
          "name": "stderr",
          "text": [
            "Train: 100%|██████████| 813/813 [00:28<00:00, 28.62it/s]\n",
            "Eval : 100%|██████████| 63/63 [00:01<00:00, 36.94it/s]\n",
            "Epoch 1092\n"
          ]
        },
        {
          "output_type": "stream",
          "name": "stdout",
          "text": [
            "108.062\n"
          ]
        },
        {
          "output_type": "stream",
          "name": "stderr",
          "text": [
            "Train: 100%|██████████| 813/813 [00:23<00:00, 35.27it/s]\n",
            "Eval : 100%|██████████| 63/63 [00:01<00:00, 35.98it/s]\n",
            "Epoch 1093\n"
          ]
        },
        {
          "output_type": "stream",
          "name": "stdout",
          "text": [
            "107.454\n"
          ]
        },
        {
          "output_type": "stream",
          "name": "stderr",
          "text": [
            "Train: 100%|██████████| 813/813 [00:28<00:00, 28.28it/s]\n",
            "Eval : 100%|██████████| 63/63 [00:01<00:00, 36.53it/s]\n",
            "Epoch 1094\n"
          ]
        },
        {
          "output_type": "stream",
          "name": "stdout",
          "text": [
            "107.454\n"
          ]
        },
        {
          "output_type": "stream",
          "name": "stderr",
          "text": [
            "Train: 100%|██████████| 813/813 [00:22<00:00, 35.77it/s]\n",
            "Eval : 100%|██████████| 63/63 [00:01<00:00, 37.32it/s]\n",
            "Epoch 1095\n"
          ]
        },
        {
          "output_type": "stream",
          "name": "stdout",
          "text": [
            "107.431\n"
          ]
        },
        {
          "output_type": "stream",
          "name": "stderr",
          "text": [
            "Train: 100%|██████████| 813/813 [00:28<00:00, 28.56it/s]\n",
            "Eval : 100%|██████████| 63/63 [00:01<00:00, 36.85it/s]\n",
            "Epoch 1096\n"
          ]
        },
        {
          "output_type": "stream",
          "name": "stdout",
          "text": [
            "107.431\n"
          ]
        },
        {
          "output_type": "stream",
          "name": "stderr",
          "text": [
            "Train: 100%|██████████| 813/813 [00:22<00:00, 35.97it/s]\n",
            "Eval : 100%|██████████| 63/63 [00:01<00:00, 36.57it/s]\n",
            "Epoch 1097\n"
          ]
        },
        {
          "output_type": "stream",
          "name": "stdout",
          "text": [
            "108.108\n"
          ]
        },
        {
          "output_type": "stream",
          "name": "stderr",
          "text": [
            "Train: 100%|██████████| 813/813 [00:28<00:00, 28.83it/s]\n",
            "Eval : 100%|██████████| 63/63 [00:01<00:00, 36.32it/s]\n",
            "Epoch 1098\n"
          ]
        },
        {
          "output_type": "stream",
          "name": "stdout",
          "text": [
            "108.108\n"
          ]
        },
        {
          "output_type": "stream",
          "name": "stderr",
          "text": [
            "Train: 100%|██████████| 813/813 [00:22<00:00, 36.10it/s]\n",
            "Eval : 100%|██████████| 63/63 [00:01<00:00, 37.14it/s]\n",
            "Epoch 1099\n"
          ]
        },
        {
          "output_type": "stream",
          "name": "stdout",
          "text": [
            "108.057\n"
          ]
        },
        {
          "output_type": "stream",
          "name": "stderr",
          "text": [
            "Train: 100%|██████████| 813/813 [00:28<00:00, 28.73it/s]\n",
            "Eval : 100%|██████████| 63/63 [00:01<00:00, 37.40it/s]\n",
            "Epoch 1100\n"
          ]
        },
        {
          "output_type": "stream",
          "name": "stdout",
          "text": [
            "108.057\n"
          ]
        },
        {
          "output_type": "stream",
          "name": "stderr",
          "text": [
            "Train: 100%|██████████| 813/813 [00:22<00:00, 36.29it/s]\n",
            "Eval : 100%|██████████| 63/63 [00:01<00:00, 37.03it/s]\n",
            "Epoch 1101\n"
          ]
        },
        {
          "output_type": "stream",
          "name": "stdout",
          "text": [
            "106.548\n"
          ]
        },
        {
          "output_type": "stream",
          "name": "stderr",
          "text": [
            "Train: 100%|██████████| 813/813 [00:28<00:00, 28.59it/s]\n",
            "Eval : 100%|██████████| 63/63 [00:01<00:00, 36.63it/s]\n",
            "Epoch 1102\n"
          ]
        },
        {
          "output_type": "stream",
          "name": "stdout",
          "text": [
            "106.548\n"
          ]
        },
        {
          "output_type": "stream",
          "name": "stderr",
          "text": [
            "Train: 100%|██████████| 813/813 [00:22<00:00, 36.13it/s]\n",
            "Eval : 100%|██████████| 63/63 [00:01<00:00, 36.53it/s]\n",
            "Epoch 1103\n"
          ]
        },
        {
          "output_type": "stream",
          "name": "stdout",
          "text": [
            "108.197\n"
          ]
        },
        {
          "output_type": "stream",
          "name": "stderr",
          "text": [
            "Train: 100%|██████████| 813/813 [00:28<00:00, 28.55it/s]\n",
            "Eval : 100%|██████████| 63/63 [00:01<00:00, 36.50it/s]\n",
            "Epoch 1104\n"
          ]
        },
        {
          "output_type": "stream",
          "name": "stdout",
          "text": [
            "108.197\n"
          ]
        },
        {
          "output_type": "stream",
          "name": "stderr",
          "text": [
            "Train: 100%|██████████| 813/813 [00:22<00:00, 35.92it/s]\n",
            "Eval : 100%|██████████| 63/63 [00:01<00:00, 37.12it/s]\n",
            "Epoch 1105\n"
          ]
        },
        {
          "output_type": "stream",
          "name": "stdout",
          "text": [
            "107.622\n"
          ]
        },
        {
          "output_type": "stream",
          "name": "stderr",
          "text": [
            "Train: 100%|██████████| 813/813 [00:28<00:00, 28.65it/s]\n",
            "Eval : 100%|██████████| 63/63 [00:01<00:00, 37.07it/s]\n",
            "Epoch 1106\n"
          ]
        },
        {
          "output_type": "stream",
          "name": "stdout",
          "text": [
            "107.622\n"
          ]
        },
        {
          "output_type": "stream",
          "name": "stderr",
          "text": [
            "Train: 100%|██████████| 813/813 [00:22<00:00, 36.02it/s]\n",
            "Eval : 100%|██████████| 63/63 [00:01<00:00, 36.97it/s]\n",
            "Epoch 1107\n"
          ]
        },
        {
          "output_type": "stream",
          "name": "stdout",
          "text": [
            "108.145\n"
          ]
        },
        {
          "output_type": "stream",
          "name": "stderr",
          "text": [
            "Train: 100%|██████████| 813/813 [00:28<00:00, 28.66it/s]\n",
            "Eval : 100%|██████████| 63/63 [00:01<00:00, 36.74it/s]\n",
            "Epoch 1108\n"
          ]
        },
        {
          "output_type": "stream",
          "name": "stdout",
          "text": [
            "108.145\n"
          ]
        },
        {
          "output_type": "stream",
          "name": "stderr",
          "text": [
            "Train: 100%|██████████| 813/813 [00:22<00:00, 36.00it/s]\n",
            "Eval : 100%|██████████| 63/63 [00:01<00:00, 36.90it/s]\n",
            "Epoch 1109\n"
          ]
        },
        {
          "output_type": "stream",
          "name": "stdout",
          "text": [
            "107.364\n"
          ]
        },
        {
          "output_type": "stream",
          "name": "stderr",
          "text": [
            "Train: 100%|██████████| 813/813 [00:28<00:00, 28.82it/s]\n",
            "Eval : 100%|██████████| 63/63 [00:01<00:00, 36.96it/s]\n",
            "Epoch 1110\n"
          ]
        },
        {
          "output_type": "stream",
          "name": "stdout",
          "text": [
            "107.364\n"
          ]
        },
        {
          "output_type": "stream",
          "name": "stderr",
          "text": [
            "Train: 100%|██████████| 813/813 [00:22<00:00, 35.68it/s]\n",
            "Eval : 100%|██████████| 63/63 [00:01<00:00, 37.30it/s]\n",
            "Epoch 1111\n"
          ]
        },
        {
          "output_type": "stream",
          "name": "stdout",
          "text": [
            "107.992\n"
          ]
        },
        {
          "output_type": "stream",
          "name": "stderr",
          "text": [
            "Train: 100%|██████████| 813/813 [00:28<00:00, 28.64it/s]\n",
            "Eval : 100%|██████████| 63/63 [00:01<00:00, 37.68it/s]\n",
            "Epoch 1112\n"
          ]
        },
        {
          "output_type": "stream",
          "name": "stdout",
          "text": [
            "107.992\n"
          ]
        },
        {
          "output_type": "stream",
          "name": "stderr",
          "text": [
            "Train: 100%|██████████| 813/813 [00:22<00:00, 35.97it/s]\n",
            "Eval : 100%|██████████| 63/63 [00:01<00:00, 36.67it/s]\n",
            "Epoch 1113\n"
          ]
        },
        {
          "output_type": "stream",
          "name": "stdout",
          "text": [
            "107.778\n"
          ]
        },
        {
          "output_type": "stream",
          "name": "stderr",
          "text": [
            "Train: 100%|██████████| 813/813 [00:28<00:00, 28.48it/s]\n",
            "Eval : 100%|██████████| 63/63 [00:01<00:00, 37.22it/s]\n",
            "Epoch 1114\n"
          ]
        },
        {
          "output_type": "stream",
          "name": "stdout",
          "text": [
            "107.778\n"
          ]
        },
        {
          "output_type": "stream",
          "name": "stderr",
          "text": [
            "Train: 100%|██████████| 813/813 [00:22<00:00, 35.85it/s]\n",
            "Eval : 100%|██████████| 63/63 [00:01<00:00, 36.95it/s]\n",
            "Epoch 1115\n"
          ]
        },
        {
          "output_type": "stream",
          "name": "stdout",
          "text": [
            "108.464\n"
          ]
        },
        {
          "output_type": "stream",
          "name": "stderr",
          "text": [
            "Train: 100%|██████████| 813/813 [00:28<00:00, 28.49it/s]\n",
            "Eval : 100%|██████████| 63/63 [00:01<00:00, 37.51it/s]\n",
            "Epoch 1116\n"
          ]
        },
        {
          "output_type": "stream",
          "name": "stdout",
          "text": [
            "108.464\n"
          ]
        },
        {
          "output_type": "stream",
          "name": "stderr",
          "text": [
            "Train: 100%|██████████| 813/813 [00:22<00:00, 35.87it/s]\n",
            "Eval : 100%|██████████| 63/63 [00:01<00:00, 36.46it/s]\n",
            "Epoch 1117\n"
          ]
        },
        {
          "output_type": "stream",
          "name": "stdout",
          "text": [
            "108.014\n"
          ]
        },
        {
          "output_type": "stream",
          "name": "stderr",
          "text": [
            "Train: 100%|██████████| 813/813 [00:28<00:00, 28.55it/s]\n",
            "Eval : 100%|██████████| 63/63 [00:01<00:00, 37.02it/s]\n",
            "Epoch 1118\n"
          ]
        },
        {
          "output_type": "stream",
          "name": "stdout",
          "text": [
            "108.014\n"
          ]
        },
        {
          "output_type": "stream",
          "name": "stderr",
          "text": [
            "Train: 100%|██████████| 813/813 [00:22<00:00, 35.86it/s]\n",
            "Eval : 100%|██████████| 63/63 [00:01<00:00, 36.32it/s]\n",
            "Epoch 1119\n"
          ]
        },
        {
          "output_type": "stream",
          "name": "stdout",
          "text": [
            "107.797\n"
          ]
        },
        {
          "output_type": "stream",
          "name": "stderr",
          "text": [
            "Train: 100%|██████████| 813/813 [00:28<00:00, 28.35it/s]\n",
            "Eval : 100%|██████████| 63/63 [00:01<00:00, 36.70it/s]\n",
            "Epoch 1120\n"
          ]
        },
        {
          "output_type": "stream",
          "name": "stdout",
          "text": [
            "107.797\n"
          ]
        },
        {
          "output_type": "stream",
          "name": "stderr",
          "text": [
            "Train: 100%|██████████| 813/813 [00:22<00:00, 36.21it/s]\n",
            "Eval : 100%|██████████| 63/63 [00:01<00:00, 36.38it/s]\n",
            "Epoch 1121\n"
          ]
        },
        {
          "output_type": "stream",
          "name": "stdout",
          "text": [
            "107.406\n"
          ]
        },
        {
          "output_type": "stream",
          "name": "stderr",
          "text": [
            "Train: 100%|██████████| 813/813 [00:28<00:00, 28.62it/s]\n",
            "Eval : 100%|██████████| 63/63 [00:01<00:00, 36.47it/s]\n",
            "Epoch 1122\n"
          ]
        },
        {
          "output_type": "stream",
          "name": "stdout",
          "text": [
            "107.406\n"
          ]
        },
        {
          "output_type": "stream",
          "name": "stderr",
          "text": [
            "Train: 100%|██████████| 813/813 [00:22<00:00, 35.92it/s]\n",
            "Eval : 100%|██████████| 63/63 [00:01<00:00, 37.20it/s]\n",
            "Epoch 1123\n"
          ]
        },
        {
          "output_type": "stream",
          "name": "stdout",
          "text": [
            "108.449\n"
          ]
        },
        {
          "output_type": "stream",
          "name": "stderr",
          "text": [
            "Train: 100%|██████████| 813/813 [00:28<00:00, 28.22it/s]\n",
            "Eval : 100%|██████████| 63/63 [00:01<00:00, 33.03it/s]\n",
            "Epoch 1124\n"
          ]
        },
        {
          "output_type": "stream",
          "name": "stdout",
          "text": [
            "108.449\n"
          ]
        },
        {
          "output_type": "stream",
          "name": "stderr",
          "text": [
            "Train: 100%|██████████| 813/813 [00:23<00:00, 34.45it/s]\n",
            "Eval : 100%|██████████| 63/63 [00:01<00:00, 35.26it/s]\n",
            "Epoch 1125\n"
          ]
        },
        {
          "output_type": "stream",
          "name": "stdout",
          "text": [
            "108.176\n"
          ]
        },
        {
          "output_type": "stream",
          "name": "stderr",
          "text": [
            "Train: 100%|██████████| 813/813 [00:28<00:00, 28.09it/s]\n",
            "Eval : 100%|██████████| 63/63 [00:01<00:00, 36.63it/s]\n",
            "Epoch 1126\n"
          ]
        },
        {
          "output_type": "stream",
          "name": "stdout",
          "text": [
            "108.176\n"
          ]
        },
        {
          "output_type": "stream",
          "name": "stderr",
          "text": [
            "Train: 100%|██████████| 813/813 [00:23<00:00, 35.20it/s]\n",
            "Eval : 100%|██████████| 63/63 [00:01<00:00, 36.45it/s]\n",
            "Epoch 1127\n"
          ]
        },
        {
          "output_type": "stream",
          "name": "stdout",
          "text": [
            "109.232\n"
          ]
        },
        {
          "output_type": "stream",
          "name": "stderr",
          "text": [
            "Train: 100%|██████████| 813/813 [00:28<00:00, 28.05it/s]\n",
            "Eval : 100%|██████████| 63/63 [00:01<00:00, 36.82it/s]\n",
            "Epoch 1128\n"
          ]
        },
        {
          "output_type": "stream",
          "name": "stdout",
          "text": [
            "109.232\n"
          ]
        },
        {
          "output_type": "stream",
          "name": "stderr",
          "text": [
            "Train: 100%|██████████| 813/813 [00:22<00:00, 35.48it/s]\n",
            "Eval : 100%|██████████| 63/63 [00:01<00:00, 36.64it/s]\n",
            "Epoch 1129\n"
          ]
        },
        {
          "output_type": "stream",
          "name": "stdout",
          "text": [
            "107.851\n"
          ]
        },
        {
          "output_type": "stream",
          "name": "stderr",
          "text": [
            "Train: 100%|██████████| 813/813 [00:28<00:00, 28.45it/s]\n",
            "Eval : 100%|██████████| 63/63 [00:01<00:00, 36.76it/s]\n",
            "Epoch 1130\n"
          ]
        },
        {
          "output_type": "stream",
          "name": "stdout",
          "text": [
            "107.851\n"
          ]
        },
        {
          "output_type": "stream",
          "name": "stderr",
          "text": [
            "Train: 100%|██████████| 813/813 [00:22<00:00, 35.37it/s]\n",
            "Eval : 100%|██████████| 63/63 [00:01<00:00, 35.24it/s]\n",
            "Epoch 1131\n"
          ]
        },
        {
          "output_type": "stream",
          "name": "stdout",
          "text": [
            "108.474\n"
          ]
        },
        {
          "output_type": "stream",
          "name": "stderr",
          "text": [
            "Train: 100%|██████████| 813/813 [00:28<00:00, 28.10it/s]\n",
            "Eval : 100%|██████████| 63/63 [00:01<00:00, 35.30it/s]\n",
            "Epoch 1132\n"
          ]
        },
        {
          "output_type": "stream",
          "name": "stdout",
          "text": [
            "108.474\n"
          ]
        },
        {
          "output_type": "stream",
          "name": "stderr",
          "text": [
            "Train: 100%|██████████| 813/813 [00:22<00:00, 35.55it/s]\n",
            "Eval : 100%|██████████| 63/63 [00:01<00:00, 35.59it/s]\n",
            "Epoch 1133\n"
          ]
        },
        {
          "output_type": "stream",
          "name": "stdout",
          "text": [
            "108.189\n"
          ]
        },
        {
          "output_type": "stream",
          "name": "stderr",
          "text": [
            "Train: 100%|██████████| 813/813 [00:28<00:00, 28.21it/s]\n",
            "Eval : 100%|██████████| 63/63 [00:01<00:00, 35.29it/s]\n",
            "Epoch 1134\n"
          ]
        },
        {
          "output_type": "stream",
          "name": "stdout",
          "text": [
            "108.189\n"
          ]
        },
        {
          "output_type": "stream",
          "name": "stderr",
          "text": [
            "Train: 100%|██████████| 813/813 [00:23<00:00, 35.05it/s]\n",
            "Eval : 100%|██████████| 63/63 [00:01<00:00, 36.81it/s]\n",
            "Epoch 1135\n"
          ]
        },
        {
          "output_type": "stream",
          "name": "stdout",
          "text": [
            "108.693\n"
          ]
        },
        {
          "output_type": "stream",
          "name": "stderr",
          "text": [
            "Train: 100%|██████████| 813/813 [00:28<00:00, 28.23it/s]\n",
            "Eval : 100%|██████████| 63/63 [00:01<00:00, 36.71it/s]\n",
            "Epoch 1136\n"
          ]
        },
        {
          "output_type": "stream",
          "name": "stdout",
          "text": [
            "108.693\n"
          ]
        },
        {
          "output_type": "stream",
          "name": "stderr",
          "text": [
            "Train: 100%|██████████| 813/813 [00:22<00:00, 35.45it/s]\n",
            "Eval : 100%|██████████| 63/63 [00:01<00:00, 36.80it/s]\n",
            "Epoch 1137\n"
          ]
        },
        {
          "output_type": "stream",
          "name": "stdout",
          "text": [
            "107.939\n"
          ]
        },
        {
          "output_type": "stream",
          "name": "stderr",
          "text": [
            "Train: 100%|██████████| 813/813 [00:28<00:00, 28.31it/s]\n",
            "Eval : 100%|██████████| 63/63 [00:01<00:00, 36.76it/s]\n",
            "Epoch 1138\n"
          ]
        },
        {
          "output_type": "stream",
          "name": "stdout",
          "text": [
            "107.939\n"
          ]
        },
        {
          "output_type": "stream",
          "name": "stderr",
          "text": [
            "Train: 100%|██████████| 813/813 [00:22<00:00, 35.44it/s]\n",
            "Eval : 100%|██████████| 63/63 [00:01<00:00, 36.61it/s]\n",
            "Epoch 1139\n"
          ]
        },
        {
          "output_type": "stream",
          "name": "stdout",
          "text": [
            "108.019\n"
          ]
        },
        {
          "output_type": "stream",
          "name": "stderr",
          "text": [
            "Train: 100%|██████████| 813/813 [00:28<00:00, 28.18it/s]\n",
            "Eval : 100%|██████████| 63/63 [00:01<00:00, 36.46it/s]\n",
            "Epoch 1140\n"
          ]
        },
        {
          "output_type": "stream",
          "name": "stdout",
          "text": [
            "108.019\n"
          ]
        },
        {
          "output_type": "stream",
          "name": "stderr",
          "text": [
            "Train: 100%|██████████| 813/813 [00:22<00:00, 35.46it/s]\n",
            "Eval : 100%|██████████| 63/63 [00:01<00:00, 36.62it/s]\n",
            "Epoch 1141\n"
          ]
        },
        {
          "output_type": "stream",
          "name": "stdout",
          "text": [
            "108.168\n"
          ]
        },
        {
          "output_type": "stream",
          "name": "stderr",
          "text": [
            "Train: 100%|██████████| 813/813 [00:28<00:00, 28.38it/s]\n",
            "Eval : 100%|██████████| 63/63 [00:01<00:00, 36.82it/s]\n",
            "Epoch 1142\n"
          ]
        },
        {
          "output_type": "stream",
          "name": "stdout",
          "text": [
            "108.168\n"
          ]
        },
        {
          "output_type": "stream",
          "name": "stderr",
          "text": [
            "Train: 100%|██████████| 813/813 [00:22<00:00, 35.53it/s]\n",
            "Eval : 100%|██████████| 63/63 [00:01<00:00, 36.20it/s]\n",
            "Epoch 1143\n"
          ]
        },
        {
          "output_type": "stream",
          "name": "stdout",
          "text": [
            "107.586\n"
          ]
        },
        {
          "output_type": "stream",
          "name": "stderr",
          "text": [
            "Train: 100%|██████████| 813/813 [00:28<00:00, 28.22it/s]\n",
            "Eval : 100%|██████████| 63/63 [00:01<00:00, 36.93it/s]\n",
            "Epoch 1144\n"
          ]
        },
        {
          "output_type": "stream",
          "name": "stdout",
          "text": [
            "107.586\n"
          ]
        },
        {
          "output_type": "stream",
          "name": "stderr",
          "text": [
            "Train: 100%|██████████| 813/813 [00:22<00:00, 35.77it/s]\n",
            "Eval : 100%|██████████| 63/63 [00:01<00:00, 35.54it/s]\n",
            "Epoch 1145\n"
          ]
        },
        {
          "output_type": "stream",
          "name": "stdout",
          "text": [
            "108.104\n"
          ]
        },
        {
          "output_type": "stream",
          "name": "stderr",
          "text": [
            "Train: 100%|██████████| 813/813 [00:28<00:00, 28.26it/s]\n",
            "Eval : 100%|██████████| 63/63 [00:01<00:00, 35.40it/s]\n",
            "Epoch 1146\n"
          ]
        },
        {
          "output_type": "stream",
          "name": "stdout",
          "text": [
            "108.104\n"
          ]
        },
        {
          "output_type": "stream",
          "name": "stderr",
          "text": [
            "Train: 100%|██████████| 813/813 [00:22<00:00, 35.52it/s]\n",
            "Eval : 100%|██████████| 63/63 [00:01<00:00, 36.50it/s]\n",
            "Epoch 1147\n"
          ]
        },
        {
          "output_type": "stream",
          "name": "stdout",
          "text": [
            "108.442\n"
          ]
        },
        {
          "output_type": "stream",
          "name": "stderr",
          "text": [
            "Train: 100%|██████████| 813/813 [00:28<00:00, 28.22it/s]\n",
            "Eval : 100%|██████████| 63/63 [00:01<00:00, 36.54it/s]\n",
            "Epoch 1148\n"
          ]
        },
        {
          "output_type": "stream",
          "name": "stdout",
          "text": [
            "108.442\n"
          ]
        },
        {
          "output_type": "stream",
          "name": "stderr",
          "text": [
            "Train: 100%|██████████| 813/813 [00:22<00:00, 35.41it/s]\n",
            "Eval : 100%|██████████| 63/63 [00:01<00:00, 36.10it/s]\n",
            "Epoch 1149\n"
          ]
        },
        {
          "output_type": "stream",
          "name": "stdout",
          "text": [
            "107.468\n"
          ]
        },
        {
          "output_type": "stream",
          "name": "stderr",
          "text": [
            "Train: 100%|██████████| 813/813 [00:28<00:00, 28.36it/s]\n",
            "Eval : 100%|██████████| 63/63 [00:01<00:00, 36.27it/s]\n",
            "Epoch 1150\n"
          ]
        },
        {
          "output_type": "stream",
          "name": "stdout",
          "text": [
            "107.468\n"
          ]
        },
        {
          "output_type": "stream",
          "name": "stderr",
          "text": [
            "Train: 100%|██████████| 813/813 [00:22<00:00, 35.70it/s]\n",
            "Eval : 100%|██████████| 63/63 [00:01<00:00, 35.83it/s]\n",
            "Epoch 1151\n"
          ]
        },
        {
          "output_type": "stream",
          "name": "stdout",
          "text": [
            "108.163\n"
          ]
        },
        {
          "output_type": "stream",
          "name": "stderr",
          "text": [
            "Train: 100%|██████████| 813/813 [00:28<00:00, 28.51it/s]\n",
            "Eval : 100%|██████████| 63/63 [00:01<00:00, 36.02it/s]\n",
            "Epoch 1152\n"
          ]
        },
        {
          "output_type": "stream",
          "name": "stdout",
          "text": [
            "108.163\n"
          ]
        },
        {
          "output_type": "stream",
          "name": "stderr",
          "text": [
            "Train: 100%|██████████| 813/813 [00:22<00:00, 35.58it/s]\n",
            "Eval : 100%|██████████| 63/63 [00:01<00:00, 36.57it/s]\n",
            "Epoch 1153\n"
          ]
        },
        {
          "output_type": "stream",
          "name": "stdout",
          "text": [
            "107.782\n"
          ]
        },
        {
          "output_type": "stream",
          "name": "stderr",
          "text": [
            "Train: 100%|██████████| 813/813 [00:28<00:00, 28.39it/s]\n",
            "Eval : 100%|██████████| 63/63 [00:01<00:00, 36.57it/s]\n",
            "Epoch 1154\n"
          ]
        },
        {
          "output_type": "stream",
          "name": "stdout",
          "text": [
            "107.782\n"
          ]
        },
        {
          "output_type": "stream",
          "name": "stderr",
          "text": [
            "Train: 100%|██████████| 813/813 [00:22<00:00, 35.50it/s]\n",
            "Eval : 100%|██████████| 63/63 [00:01<00:00, 36.06it/s]\n",
            "Epoch 1155\n"
          ]
        },
        {
          "output_type": "stream",
          "name": "stdout",
          "text": [
            "107.731\n"
          ]
        },
        {
          "output_type": "stream",
          "name": "stderr",
          "text": [
            "Train: 100%|██████████| 813/813 [00:28<00:00, 28.44it/s]\n",
            "Eval : 100%|██████████| 63/63 [00:01<00:00, 36.88it/s]\n",
            "Epoch 1156\n"
          ]
        },
        {
          "output_type": "stream",
          "name": "stdout",
          "text": [
            "107.731\n"
          ]
        },
        {
          "output_type": "stream",
          "name": "stderr",
          "text": [
            "Train: 100%|██████████| 813/813 [00:22<00:00, 35.59it/s]\n",
            "Eval : 100%|██████████| 63/63 [00:01<00:00, 36.15it/s]\n",
            "Epoch 1157\n"
          ]
        },
        {
          "output_type": "stream",
          "name": "stdout",
          "text": [
            "108.131\n"
          ]
        },
        {
          "output_type": "stream",
          "name": "stderr",
          "text": [
            "Train: 100%|██████████| 813/813 [00:28<00:00, 28.20it/s]\n",
            "Eval : 100%|██████████| 63/63 [00:01<00:00, 35.56it/s]\n",
            "Epoch 1158\n"
          ]
        },
        {
          "output_type": "stream",
          "name": "stdout",
          "text": [
            "108.131\n"
          ]
        },
        {
          "output_type": "stream",
          "name": "stderr",
          "text": [
            "Train: 100%|██████████| 813/813 [00:22<00:00, 35.58it/s]\n",
            "Eval : 100%|██████████| 63/63 [00:01<00:00, 36.95it/s]\n",
            "Epoch 1159\n"
          ]
        },
        {
          "output_type": "stream",
          "name": "stdout",
          "text": [
            "107.946\n"
          ]
        },
        {
          "output_type": "stream",
          "name": "stderr",
          "text": [
            "Train: 100%|██████████| 813/813 [00:28<00:00, 28.39it/s]\n",
            "Eval : 100%|██████████| 63/63 [00:01<00:00, 36.90it/s]\n",
            "Epoch 1160\n"
          ]
        },
        {
          "output_type": "stream",
          "name": "stdout",
          "text": [
            "107.946\n"
          ]
        },
        {
          "output_type": "stream",
          "name": "stderr",
          "text": [
            "Train: 100%|██████████| 813/813 [00:22<00:00, 35.42it/s]\n",
            "Eval : 100%|██████████| 63/63 [00:01<00:00, 35.90it/s]\n",
            "Epoch 1161\n"
          ]
        },
        {
          "output_type": "stream",
          "name": "stdout",
          "text": [
            "107.844\n"
          ]
        },
        {
          "output_type": "stream",
          "name": "stderr",
          "text": [
            "Train: 100%|██████████| 813/813 [00:28<00:00, 28.41it/s]\n",
            "Eval : 100%|██████████| 63/63 [00:01<00:00, 36.03it/s]\n",
            "Epoch 1162\n"
          ]
        },
        {
          "output_type": "stream",
          "name": "stdout",
          "text": [
            "107.844\n"
          ]
        },
        {
          "output_type": "stream",
          "name": "stderr",
          "text": [
            "Train: 100%|██████████| 813/813 [00:22<00:00, 35.78it/s]\n",
            "Eval : 100%|██████████| 63/63 [00:01<00:00, 36.40it/s]\n",
            "Epoch 1163\n"
          ]
        },
        {
          "output_type": "stream",
          "name": "stdout",
          "text": [
            "107.949\n"
          ]
        },
        {
          "output_type": "stream",
          "name": "stderr",
          "text": [
            "Train: 100%|██████████| 813/813 [00:28<00:00, 28.41it/s]\n",
            "Eval : 100%|██████████| 63/63 [00:01<00:00, 36.10it/s]\n",
            "Epoch 1164\n"
          ]
        },
        {
          "output_type": "stream",
          "name": "stdout",
          "text": [
            "107.949\n"
          ]
        },
        {
          "output_type": "stream",
          "name": "stderr",
          "text": [
            "Train: 100%|██████████| 813/813 [00:22<00:00, 35.53it/s]\n",
            "Eval : 100%|██████████| 63/63 [00:01<00:00, 36.15it/s]\n",
            "Epoch 1165\n"
          ]
        },
        {
          "output_type": "stream",
          "name": "stdout",
          "text": [
            "106.864\n"
          ]
        },
        {
          "output_type": "stream",
          "name": "stderr",
          "text": [
            "Train: 100%|██████████| 813/813 [00:28<00:00, 28.32it/s]\n",
            "Eval : 100%|██████████| 63/63 [00:01<00:00, 36.33it/s]\n",
            "Epoch 1166\n"
          ]
        },
        {
          "output_type": "stream",
          "name": "stdout",
          "text": [
            "106.864\n"
          ]
        },
        {
          "output_type": "stream",
          "name": "stderr",
          "text": [
            "Train: 100%|██████████| 813/813 [00:22<00:00, 35.53it/s]\n",
            "Eval : 100%|██████████| 63/63 [00:01<00:00, 36.70it/s]\n",
            "Epoch 1167\n"
          ]
        },
        {
          "output_type": "stream",
          "name": "stdout",
          "text": [
            "108.07\n"
          ]
        },
        {
          "output_type": "stream",
          "name": "stderr",
          "text": [
            "Train: 100%|██████████| 813/813 [00:28<00:00, 28.39it/s]\n",
            "Eval : 100%|██████████| 63/63 [00:01<00:00, 35.31it/s]\n",
            "Epoch 1168\n"
          ]
        },
        {
          "output_type": "stream",
          "name": "stdout",
          "text": [
            "108.07\n"
          ]
        },
        {
          "output_type": "stream",
          "name": "stderr",
          "text": [
            "Train: 100%|██████████| 813/813 [00:22<00:00, 35.76it/s]\n",
            "Eval : 100%|██████████| 63/63 [00:01<00:00, 35.03it/s]\n",
            "Epoch 1169\n"
          ]
        },
        {
          "output_type": "stream",
          "name": "stdout",
          "text": [
            "107.242\n"
          ]
        },
        {
          "output_type": "stream",
          "name": "stderr",
          "text": [
            "Train: 100%|██████████| 813/813 [00:28<00:00, 28.37it/s]\n",
            "Eval : 100%|██████████| 63/63 [00:01<00:00, 36.46it/s]\n",
            "Epoch 1170\n"
          ]
        },
        {
          "output_type": "stream",
          "name": "stdout",
          "text": [
            "107.242\n"
          ]
        },
        {
          "output_type": "stream",
          "name": "stderr",
          "text": [
            "Train: 100%|██████████| 813/813 [00:22<00:00, 35.39it/s]\n",
            "Eval : 100%|██████████| 63/63 [00:01<00:00, 35.77it/s]\n",
            "Epoch 1171\n"
          ]
        },
        {
          "output_type": "stream",
          "name": "stdout",
          "text": [
            "107.74\n"
          ]
        },
        {
          "output_type": "stream",
          "name": "stderr",
          "text": [
            "Train: 100%|██████████| 813/813 [00:29<00:00, 27.71it/s]\n",
            "Eval : 100%|██████████| 63/63 [00:01<00:00, 35.66it/s]\n",
            "Epoch 1172\n"
          ]
        },
        {
          "output_type": "stream",
          "name": "stdout",
          "text": [
            "107.74\n"
          ]
        },
        {
          "output_type": "stream",
          "name": "stderr",
          "text": [
            "Train: 100%|██████████| 813/813 [00:23<00:00, 35.29it/s]\n",
            "Eval : 100%|██████████| 63/63 [00:01<00:00, 36.38it/s]\n",
            "Epoch 1173\n"
          ]
        },
        {
          "output_type": "stream",
          "name": "stdout",
          "text": [
            "107.37\n"
          ]
        },
        {
          "output_type": "stream",
          "name": "stderr",
          "text": [
            "Train: 100%|██████████| 813/813 [00:28<00:00, 28.24it/s]\n",
            "Eval : 100%|██████████| 63/63 [00:01<00:00, 36.12it/s]\n",
            "Epoch 1174\n"
          ]
        },
        {
          "output_type": "stream",
          "name": "stdout",
          "text": [
            "107.37\n"
          ]
        },
        {
          "output_type": "stream",
          "name": "stderr",
          "text": [
            "Train: 100%|██████████| 813/813 [00:23<00:00, 35.12it/s]\n",
            "Eval : 100%|██████████| 63/63 [00:01<00:00, 36.57it/s]\n",
            "Epoch 1175\n"
          ]
        },
        {
          "output_type": "stream",
          "name": "stdout",
          "text": [
            "109.035\n"
          ]
        },
        {
          "output_type": "stream",
          "name": "stderr",
          "text": [
            "Train: 100%|██████████| 813/813 [00:28<00:00, 28.11it/s]\n",
            "Eval : 100%|██████████| 63/63 [00:01<00:00, 36.37it/s]\n",
            "Epoch 1176\n"
          ]
        },
        {
          "output_type": "stream",
          "name": "stdout",
          "text": [
            "109.035\n"
          ]
        },
        {
          "output_type": "stream",
          "name": "stderr",
          "text": [
            "Train: 100%|██████████| 813/813 [00:22<00:00, 35.53it/s]\n",
            "Eval : 100%|██████████| 63/63 [00:01<00:00, 36.40it/s]\n",
            "Epoch 1177\n"
          ]
        },
        {
          "output_type": "stream",
          "name": "stdout",
          "text": [
            "107.183\n"
          ]
        },
        {
          "output_type": "stream",
          "name": "stderr",
          "text": [
            "Train: 100%|██████████| 813/813 [00:28<00:00, 28.32it/s]\n",
            "Eval : 100%|██████████| 63/63 [00:01<00:00, 36.64it/s]\n",
            "Epoch 1178\n"
          ]
        },
        {
          "output_type": "stream",
          "name": "stdout",
          "text": [
            "107.183\n"
          ]
        },
        {
          "output_type": "stream",
          "name": "stderr",
          "text": [
            "Train: 100%|██████████| 813/813 [00:22<00:00, 35.43it/s]\n",
            "Eval : 100%|██████████| 63/63 [00:01<00:00, 35.55it/s]\n",
            "Epoch 1179\n"
          ]
        },
        {
          "output_type": "stream",
          "name": "stdout",
          "text": [
            "108.447\n"
          ]
        },
        {
          "output_type": "stream",
          "name": "stderr",
          "text": [
            "Train: 100%|██████████| 813/813 [00:28<00:00, 28.07it/s]\n",
            "Eval : 100%|██████████| 63/63 [00:01<00:00, 36.85it/s]\n",
            "Epoch 1180\n"
          ]
        },
        {
          "output_type": "stream",
          "name": "stdout",
          "text": [
            "108.447\n"
          ]
        },
        {
          "output_type": "stream",
          "name": "stderr",
          "text": [
            "Train: 100%|██████████| 813/813 [00:22<00:00, 35.73it/s]\n",
            "Eval : 100%|██████████| 63/63 [00:01<00:00, 35.54it/s]\n",
            "Epoch 1181\n"
          ]
        },
        {
          "output_type": "stream",
          "name": "stdout",
          "text": [
            "107.528\n"
          ]
        },
        {
          "output_type": "stream",
          "name": "stderr",
          "text": [
            "Train: 100%|██████████| 813/813 [00:28<00:00, 28.26it/s]\n",
            "Eval : 100%|██████████| 63/63 [00:01<00:00, 35.53it/s]\n",
            "Epoch 1182\n"
          ]
        },
        {
          "output_type": "stream",
          "name": "stdout",
          "text": [
            "107.528\n"
          ]
        },
        {
          "output_type": "stream",
          "name": "stderr",
          "text": [
            "Train: 100%|██████████| 813/813 [00:22<00:00, 35.43it/s]\n",
            "Eval : 100%|██████████| 63/63 [00:01<00:00, 35.39it/s]\n",
            "Epoch 1183\n"
          ]
        },
        {
          "output_type": "stream",
          "name": "stdout",
          "text": [
            "108.601\n"
          ]
        },
        {
          "output_type": "stream",
          "name": "stderr",
          "text": [
            "Train: 100%|██████████| 813/813 [00:28<00:00, 28.30it/s]\n",
            "Eval : 100%|██████████| 63/63 [00:01<00:00, 36.15it/s]\n",
            "Epoch 1184\n"
          ]
        },
        {
          "output_type": "stream",
          "name": "stdout",
          "text": [
            "108.601\n"
          ]
        },
        {
          "output_type": "stream",
          "name": "stderr",
          "text": [
            "Train: 100%|██████████| 813/813 [00:22<00:00, 35.67it/s]\n",
            "Eval : 100%|██████████| 63/63 [00:01<00:00, 36.49it/s]\n",
            "Epoch 1185\n"
          ]
        },
        {
          "output_type": "stream",
          "name": "stdout",
          "text": [
            "106.652\n"
          ]
        },
        {
          "output_type": "stream",
          "name": "stderr",
          "text": [
            "Train: 100%|██████████| 813/813 [00:28<00:00, 28.27it/s]\n",
            "Eval : 100%|██████████| 63/63 [00:01<00:00, 36.66it/s]\n",
            "Epoch 1186\n"
          ]
        },
        {
          "output_type": "stream",
          "name": "stdout",
          "text": [
            "106.652\n"
          ]
        },
        {
          "output_type": "stream",
          "name": "stderr",
          "text": [
            "Train: 100%|██████████| 813/813 [00:23<00:00, 35.29it/s]\n",
            "Eval : 100%|██████████| 63/63 [00:01<00:00, 35.80it/s]\n",
            "Epoch 1187\n"
          ]
        },
        {
          "output_type": "stream",
          "name": "stdout",
          "text": [
            "108.339\n"
          ]
        },
        {
          "output_type": "stream",
          "name": "stderr",
          "text": [
            "Train: 100%|██████████| 813/813 [00:29<00:00, 27.93it/s]\n",
            "Eval : 100%|██████████| 63/63 [00:01<00:00, 36.76it/s]\n",
            "Epoch 1188\n"
          ]
        },
        {
          "output_type": "stream",
          "name": "stdout",
          "text": [
            "108.339\n"
          ]
        },
        {
          "output_type": "stream",
          "name": "stderr",
          "text": [
            "Train: 100%|██████████| 813/813 [00:22<00:00, 35.49it/s]\n",
            "Eval : 100%|██████████| 63/63 [00:01<00:00, 36.84it/s]\n",
            "Epoch 1189\n"
          ]
        },
        {
          "output_type": "stream",
          "name": "stdout",
          "text": [
            "107.324\n"
          ]
        },
        {
          "output_type": "stream",
          "name": "stderr",
          "text": [
            "Train: 100%|██████████| 813/813 [00:28<00:00, 28.40it/s]\n",
            "Eval : 100%|██████████| 63/63 [00:01<00:00, 35.68it/s]\n",
            "Epoch 1190\n"
          ]
        },
        {
          "output_type": "stream",
          "name": "stdout",
          "text": [
            "107.324\n"
          ]
        },
        {
          "output_type": "stream",
          "name": "stderr",
          "text": [
            "Train: 100%|██████████| 813/813 [00:22<00:00, 35.55it/s]\n",
            "Eval : 100%|██████████| 63/63 [00:01<00:00, 35.82it/s]\n",
            "Epoch 1191\n"
          ]
        },
        {
          "output_type": "stream",
          "name": "stdout",
          "text": [
            "108.387\n"
          ]
        },
        {
          "output_type": "stream",
          "name": "stderr",
          "text": [
            "Train: 100%|██████████| 813/813 [00:28<00:00, 28.50it/s]\n",
            "Eval : 100%|██████████| 63/63 [00:01<00:00, 36.67it/s]\n",
            "Epoch 1192\n"
          ]
        },
        {
          "output_type": "stream",
          "name": "stdout",
          "text": [
            "108.387\n"
          ]
        },
        {
          "output_type": "stream",
          "name": "stderr",
          "text": [
            "Train: 100%|██████████| 813/813 [00:22<00:00, 35.36it/s]\n",
            "Eval : 100%|██████████| 63/63 [00:01<00:00, 36.21it/s]\n",
            "Epoch 1193\n"
          ]
        },
        {
          "output_type": "stream",
          "name": "stdout",
          "text": [
            "106.394\n"
          ]
        },
        {
          "output_type": "stream",
          "name": "stderr",
          "text": [
            "Train: 100%|██████████| 813/813 [00:28<00:00, 28.52it/s]\n",
            "Eval : 100%|██████████| 63/63 [00:01<00:00, 36.45it/s]\n",
            "Epoch 1194\n"
          ]
        },
        {
          "output_type": "stream",
          "name": "stdout",
          "text": [
            "106.394\n"
          ]
        },
        {
          "output_type": "stream",
          "name": "stderr",
          "text": [
            "Train: 100%|██████████| 813/813 [00:23<00:00, 35.29it/s]\n",
            "Eval : 100%|██████████| 63/63 [00:01<00:00, 35.46it/s]\n",
            "Epoch 1195\n"
          ]
        },
        {
          "output_type": "stream",
          "name": "stdout",
          "text": [
            "108.831\n"
          ]
        },
        {
          "output_type": "stream",
          "name": "stderr",
          "text": [
            "Train: 100%|██████████| 813/813 [00:28<00:00, 28.17it/s]\n",
            "Eval : 100%|██████████| 63/63 [00:01<00:00, 36.33it/s]\n",
            "Epoch 1196\n"
          ]
        },
        {
          "output_type": "stream",
          "name": "stdout",
          "text": [
            "108.831\n"
          ]
        },
        {
          "output_type": "stream",
          "name": "stderr",
          "text": [
            "Train: 100%|██████████| 813/813 [00:22<00:00, 35.38it/s]\n",
            "Eval : 100%|██████████| 63/63 [00:01<00:00, 36.87it/s]\n",
            "Epoch 1197\n"
          ]
        },
        {
          "output_type": "stream",
          "name": "stdout",
          "text": [
            "106.107\n"
          ]
        },
        {
          "output_type": "stream",
          "name": "stderr",
          "text": [
            "Train: 100%|██████████| 813/813 [00:28<00:00, 28.39it/s]\n",
            "Eval : 100%|██████████| 63/63 [00:01<00:00, 37.10it/s]\n",
            "Epoch 1198\n"
          ]
        },
        {
          "output_type": "stream",
          "name": "stdout",
          "text": [
            "106.107\n"
          ]
        },
        {
          "output_type": "stream",
          "name": "stderr",
          "text": [
            "Train: 100%|██████████| 813/813 [00:23<00:00, 35.21it/s]\n",
            "Eval : 100%|██████████| 63/63 [00:01<00:00, 36.79it/s]\n",
            "Epoch 1199\n"
          ]
        },
        {
          "output_type": "stream",
          "name": "stdout",
          "text": [
            "108.494\n"
          ]
        },
        {
          "output_type": "stream",
          "name": "stderr",
          "text": [
            "Train: 100%|██████████| 813/813 [00:28<00:00, 28.37it/s]\n",
            "Eval : 100%|██████████| 63/63 [00:01<00:00, 36.45it/s]\n",
            "Epoch 1200\n"
          ]
        },
        {
          "output_type": "stream",
          "name": "stdout",
          "text": [
            "108.494\n"
          ]
        },
        {
          "output_type": "stream",
          "name": "stderr",
          "text": [
            "Train: 100%|██████████| 813/813 [00:22<00:00, 35.80it/s]\n",
            "Eval : 100%|██████████| 63/63 [00:01<00:00, 35.41it/s]\n",
            "Epoch 1201\n"
          ]
        },
        {
          "output_type": "stream",
          "name": "stdout",
          "text": [
            "105.878\n"
          ]
        },
        {
          "output_type": "stream",
          "name": "stderr",
          "text": [
            "Train: 100%|██████████| 813/813 [00:28<00:00, 28.39it/s]\n",
            "Eval : 100%|██████████| 63/63 [00:01<00:00, 35.82it/s]\n",
            "Epoch 1202\n"
          ]
        },
        {
          "output_type": "stream",
          "name": "stdout",
          "text": [
            "105.878\n"
          ]
        },
        {
          "output_type": "stream",
          "name": "stderr",
          "text": [
            "Train: 100%|██████████| 813/813 [00:22<00:00, 35.39it/s]\n",
            "Eval : 100%|██████████| 63/63 [00:01<00:00, 36.46it/s]\n",
            "Epoch 1203\n"
          ]
        },
        {
          "output_type": "stream",
          "name": "stdout",
          "text": [
            "108.072\n"
          ]
        },
        {
          "output_type": "stream",
          "name": "stderr",
          "text": [
            "Train: 100%|██████████| 813/813 [00:28<00:00, 28.15it/s]\n",
            "Eval : 100%|██████████| 63/63 [00:01<00:00, 36.40it/s]\n",
            "Epoch 1204\n"
          ]
        },
        {
          "output_type": "stream",
          "name": "stdout",
          "text": [
            "108.072\n"
          ]
        },
        {
          "output_type": "stream",
          "name": "stderr",
          "text": [
            "Train: 100%|██████████| 813/813 [00:22<00:00, 35.61it/s]\n",
            "Eval : 100%|██████████| 63/63 [00:01<00:00, 36.54it/s]\n",
            "Epoch 1205\n"
          ]
        },
        {
          "output_type": "stream",
          "name": "stdout",
          "text": [
            "107.216\n"
          ]
        },
        {
          "output_type": "stream",
          "name": "stderr",
          "text": [
            "Train: 100%|██████████| 813/813 [00:28<00:00, 28.33it/s]\n",
            "Eval : 100%|██████████| 63/63 [00:01<00:00, 36.97it/s]\n",
            "Epoch 1206\n"
          ]
        },
        {
          "output_type": "stream",
          "name": "stdout",
          "text": [
            "107.216\n"
          ]
        },
        {
          "output_type": "stream",
          "name": "stderr",
          "text": [
            "Train: 100%|██████████| 813/813 [00:22<00:00, 35.62it/s]\n",
            "Eval : 100%|██████████| 63/63 [00:01<00:00, 36.78it/s]\n",
            "Epoch 1207\n"
          ]
        },
        {
          "output_type": "stream",
          "name": "stdout",
          "text": [
            "107.49\n"
          ]
        },
        {
          "output_type": "stream",
          "name": "stderr",
          "text": [
            "Train: 100%|██████████| 813/813 [00:28<00:00, 28.23it/s]\n",
            "Eval : 100%|██████████| 63/63 [00:01<00:00, 35.87it/s]\n",
            "Epoch 1208\n"
          ]
        },
        {
          "output_type": "stream",
          "name": "stdout",
          "text": [
            "107.49\n"
          ]
        },
        {
          "output_type": "stream",
          "name": "stderr",
          "text": [
            "Train: 100%|██████████| 813/813 [00:22<00:00, 35.93it/s]\n",
            "Eval : 100%|██████████| 63/63 [00:01<00:00, 36.87it/s]\n",
            "Epoch 1209\n"
          ]
        },
        {
          "output_type": "stream",
          "name": "stdout",
          "text": [
            "107.569\n"
          ]
        },
        {
          "output_type": "stream",
          "name": "stderr",
          "text": [
            "Train: 100%|██████████| 813/813 [00:28<00:00, 28.41it/s]\n",
            "Eval : 100%|██████████| 63/63 [00:01<00:00, 35.65it/s]\n",
            "Epoch 1210\n"
          ]
        },
        {
          "output_type": "stream",
          "name": "stdout",
          "text": [
            "107.569\n"
          ]
        },
        {
          "output_type": "stream",
          "name": "stderr",
          "text": [
            "Train: 100%|██████████| 813/813 [00:22<00:00, 35.42it/s]\n",
            "Eval : 100%|██████████| 63/63 [00:01<00:00, 36.84it/s]\n",
            "Epoch 1211\n"
          ]
        },
        {
          "output_type": "stream",
          "name": "stdout",
          "text": [
            "107.586\n"
          ]
        },
        {
          "output_type": "stream",
          "name": "stderr",
          "text": [
            "Train: 100%|██████████| 813/813 [00:28<00:00, 28.30it/s]\n",
            "Eval : 100%|██████████| 63/63 [00:01<00:00, 36.19it/s]\n",
            "Epoch 1212\n"
          ]
        },
        {
          "output_type": "stream",
          "name": "stdout",
          "text": [
            "107.586\n"
          ]
        },
        {
          "output_type": "stream",
          "name": "stderr",
          "text": [
            "Train: 100%|██████████| 813/813 [00:22<00:00, 35.77it/s]\n",
            "Eval : 100%|██████████| 63/63 [00:01<00:00, 36.52it/s]\n",
            "Epoch 1213\n"
          ]
        },
        {
          "output_type": "stream",
          "name": "stdout",
          "text": [
            "106.832\n"
          ]
        },
        {
          "output_type": "stream",
          "name": "stderr",
          "text": [
            "Train: 100%|██████████| 813/813 [00:28<00:00, 28.49it/s]\n",
            "Eval : 100%|██████████| 63/63 [00:01<00:00, 36.22it/s]\n",
            "Epoch 1214\n"
          ]
        },
        {
          "output_type": "stream",
          "name": "stdout",
          "text": [
            "106.832\n"
          ]
        },
        {
          "output_type": "stream",
          "name": "stderr",
          "text": [
            "Train: 100%|██████████| 813/813 [00:22<00:00, 35.42it/s]\n",
            "Eval : 100%|██████████| 63/63 [00:01<00:00, 36.24it/s]\n",
            "Epoch 1215\n"
          ]
        },
        {
          "output_type": "stream",
          "name": "stdout",
          "text": [
            "107.53\n"
          ]
        },
        {
          "output_type": "stream",
          "name": "stderr",
          "text": [
            "Train: 100%|██████████| 813/813 [00:28<00:00, 28.28it/s]\n",
            "Eval : 100%|██████████| 63/63 [00:01<00:00, 36.95it/s]\n",
            "Epoch 1216\n"
          ]
        },
        {
          "output_type": "stream",
          "name": "stdout",
          "text": [
            "107.53\n"
          ]
        },
        {
          "output_type": "stream",
          "name": "stderr",
          "text": [
            "Train: 100%|██████████| 813/813 [00:23<00:00, 35.13it/s]\n",
            "Eval : 100%|██████████| 63/63 [00:01<00:00, 37.02it/s]\n",
            "Epoch 1217\n"
          ]
        },
        {
          "output_type": "stream",
          "name": "stdout",
          "text": [
            "107.018\n"
          ]
        },
        {
          "output_type": "stream",
          "name": "stderr",
          "text": [
            "Train: 100%|██████████| 813/813 [00:28<00:00, 28.53it/s]\n",
            "Eval : 100%|██████████| 63/63 [00:01<00:00, 35.79it/s]\n",
            "Epoch 1218\n"
          ]
        },
        {
          "output_type": "stream",
          "name": "stdout",
          "text": [
            "107.018\n"
          ]
        },
        {
          "output_type": "stream",
          "name": "stderr",
          "text": [
            "Train: 100%|██████████| 813/813 [00:22<00:00, 35.37it/s]\n",
            "Eval : 100%|██████████| 63/63 [00:01<00:00, 34.83it/s]\n",
            "Epoch 1219\n"
          ]
        },
        {
          "output_type": "stream",
          "name": "stdout",
          "text": [
            "107.158\n"
          ]
        },
        {
          "output_type": "stream",
          "name": "stderr",
          "text": [
            "Train: 100%|██████████| 813/813 [00:28<00:00, 28.29it/s]\n",
            "Eval : 100%|██████████| 63/63 [00:01<00:00, 37.12it/s]\n",
            "Epoch 1220\n"
          ]
        },
        {
          "output_type": "stream",
          "name": "stdout",
          "text": [
            "107.158\n"
          ]
        },
        {
          "output_type": "stream",
          "name": "stderr",
          "text": [
            "Train: 100%|██████████| 813/813 [00:22<00:00, 35.63it/s]\n",
            "Eval : 100%|██████████| 63/63 [00:01<00:00, 36.61it/s]\n",
            "Epoch 1221\n"
          ]
        },
        {
          "output_type": "stream",
          "name": "stdout",
          "text": [
            "106.793\n"
          ]
        },
        {
          "output_type": "stream",
          "name": "stderr",
          "text": [
            "Train: 100%|██████████| 813/813 [00:28<00:00, 28.40it/s]\n",
            "Eval : 100%|██████████| 63/63 [00:01<00:00, 36.76it/s]\n",
            "Epoch 1222\n"
          ]
        },
        {
          "output_type": "stream",
          "name": "stdout",
          "text": [
            "106.793\n"
          ]
        },
        {
          "output_type": "stream",
          "name": "stderr",
          "text": [
            "Train: 100%|██████████| 813/813 [00:22<00:00, 35.47it/s]\n",
            "Eval : 100%|██████████| 63/63 [00:01<00:00, 36.79it/s]\n",
            "Epoch 1223\n"
          ]
        },
        {
          "output_type": "stream",
          "name": "stdout",
          "text": [
            "107.297\n"
          ]
        },
        {
          "output_type": "stream",
          "name": "stderr",
          "text": [
            "Train: 100%|██████████| 813/813 [00:28<00:00, 28.10it/s]\n",
            "Eval : 100%|██████████| 63/63 [00:01<00:00, 36.55it/s]\n",
            "Epoch 1224\n"
          ]
        },
        {
          "output_type": "stream",
          "name": "stdout",
          "text": [
            "107.297\n"
          ]
        },
        {
          "output_type": "stream",
          "name": "stderr",
          "text": [
            "Train: 100%|██████████| 813/813 [00:22<00:00, 35.52it/s]\n",
            "Eval : 100%|██████████| 63/63 [00:01<00:00, 36.63it/s]\n",
            "Epoch 1225\n"
          ]
        },
        {
          "output_type": "stream",
          "name": "stdout",
          "text": [
            "106.828\n"
          ]
        },
        {
          "output_type": "stream",
          "name": "stderr",
          "text": [
            "Train: 100%|██████████| 813/813 [00:28<00:00, 28.20it/s]\n",
            "Eval : 100%|██████████| 63/63 [00:01<00:00, 37.15it/s]\n",
            "Epoch 1226\n"
          ]
        },
        {
          "output_type": "stream",
          "name": "stdout",
          "text": [
            "106.828\n"
          ]
        },
        {
          "output_type": "stream",
          "name": "stderr",
          "text": [
            "Train: 100%|██████████| 813/813 [00:22<00:00, 35.57it/s]\n",
            "Eval : 100%|██████████| 63/63 [00:01<00:00, 36.63it/s]\n",
            "Epoch 1227\n"
          ]
        },
        {
          "output_type": "stream",
          "name": "stdout",
          "text": [
            "106.552\n"
          ]
        },
        {
          "output_type": "stream",
          "name": "stderr",
          "text": [
            "Train: 100%|██████████| 813/813 [00:29<00:00, 27.99it/s]\n",
            "Eval : 100%|██████████| 63/63 [00:01<00:00, 36.71it/s]\n",
            "Epoch 1228\n"
          ]
        },
        {
          "output_type": "stream",
          "name": "stdout",
          "text": [
            "106.552\n"
          ]
        },
        {
          "output_type": "stream",
          "name": "stderr",
          "text": [
            "Train: 100%|██████████| 813/813 [00:22<00:00, 35.70it/s]\n",
            "Eval : 100%|██████████| 63/63 [00:01<00:00, 36.53it/s]\n",
            "Epoch 1229\n"
          ]
        },
        {
          "output_type": "stream",
          "name": "stdout",
          "text": [
            "107.378\n"
          ]
        },
        {
          "output_type": "stream",
          "name": "stderr",
          "text": [
            "Train: 100%|██████████| 813/813 [00:28<00:00, 28.32it/s]\n",
            "Eval : 100%|██████████| 63/63 [00:01<00:00, 36.60it/s]\n",
            "Epoch 1230\n"
          ]
        },
        {
          "output_type": "stream",
          "name": "stdout",
          "text": [
            "107.378\n"
          ]
        },
        {
          "output_type": "stream",
          "name": "stderr",
          "text": [
            "Train: 100%|██████████| 813/813 [00:22<00:00, 35.65it/s]\n",
            "Eval : 100%|██████████| 63/63 [00:01<00:00, 35.91it/s]\n",
            "Epoch 1231\n"
          ]
        },
        {
          "output_type": "stream",
          "name": "stdout",
          "text": [
            "108.12\n"
          ]
        },
        {
          "output_type": "stream",
          "name": "stderr",
          "text": [
            "Train: 100%|██████████| 813/813 [00:28<00:00, 28.19it/s]\n",
            "Eval : 100%|██████████| 63/63 [00:01<00:00, 35.98it/s]\n",
            "Epoch 1232\n"
          ]
        },
        {
          "output_type": "stream",
          "name": "stdout",
          "text": [
            "108.12\n"
          ]
        },
        {
          "output_type": "stream",
          "name": "stderr",
          "text": [
            "Train: 100%|██████████| 813/813 [00:22<00:00, 35.70it/s]\n",
            "Eval : 100%|██████████| 63/63 [00:01<00:00, 36.50it/s]\n",
            "Epoch 1233\n"
          ]
        },
        {
          "output_type": "stream",
          "name": "stdout",
          "text": [
            "106.327\n"
          ]
        },
        {
          "output_type": "stream",
          "name": "stderr",
          "text": [
            "Train: 100%|██████████| 813/813 [00:28<00:00, 28.18it/s]\n",
            "Eval : 100%|██████████| 63/63 [00:01<00:00, 35.82it/s]\n",
            "Epoch 1234\n"
          ]
        },
        {
          "output_type": "stream",
          "name": "stdout",
          "text": [
            "106.327\n"
          ]
        },
        {
          "output_type": "stream",
          "name": "stderr",
          "text": [
            "Train: 100%|██████████| 813/813 [00:22<00:00, 35.43it/s]\n",
            "Eval : 100%|██████████| 63/63 [00:01<00:00, 36.27it/s]\n",
            "Epoch 1235\n"
          ]
        },
        {
          "output_type": "stream",
          "name": "stdout",
          "text": [
            "108.3\n"
          ]
        },
        {
          "output_type": "stream",
          "name": "stderr",
          "text": [
            "Train: 100%|██████████| 813/813 [00:28<00:00, 28.47it/s]\n",
            "Eval : 100%|██████████| 63/63 [00:01<00:00, 36.14it/s]\n",
            "Epoch 1236\n"
          ]
        },
        {
          "output_type": "stream",
          "name": "stdout",
          "text": [
            "108.3\n"
          ]
        },
        {
          "output_type": "stream",
          "name": "stderr",
          "text": [
            "Train: 100%|██████████| 813/813 [00:23<00:00, 35.26it/s]\n",
            "Eval : 100%|██████████| 63/63 [00:01<00:00, 36.45it/s]\n",
            "Epoch 1237\n"
          ]
        },
        {
          "output_type": "stream",
          "name": "stdout",
          "text": [
            "107.164\n"
          ]
        },
        {
          "output_type": "stream",
          "name": "stderr",
          "text": [
            "Train: 100%|██████████| 813/813 [00:28<00:00, 28.33it/s]\n",
            "Eval : 100%|██████████| 63/63 [00:01<00:00, 36.52it/s]\n",
            "Epoch 1238\n"
          ]
        },
        {
          "output_type": "stream",
          "name": "stdout",
          "text": [
            "107.164\n"
          ]
        },
        {
          "output_type": "stream",
          "name": "stderr",
          "text": [
            "Train: 100%|██████████| 813/813 [00:22<00:00, 35.59it/s]\n",
            "Eval : 100%|██████████| 63/63 [00:01<00:00, 36.75it/s]\n",
            "Epoch 1239\n"
          ]
        },
        {
          "output_type": "stream",
          "name": "stdout",
          "text": [
            "107.102\n"
          ]
        },
        {
          "output_type": "stream",
          "name": "stderr",
          "text": [
            "Train: 100%|██████████| 813/813 [00:28<00:00, 28.49it/s]\n",
            "Eval : 100%|██████████| 63/63 [00:01<00:00, 36.81it/s]\n",
            "Epoch 1240\n"
          ]
        },
        {
          "output_type": "stream",
          "name": "stdout",
          "text": [
            "107.102\n"
          ]
        },
        {
          "output_type": "stream",
          "name": "stderr",
          "text": [
            "Train: 100%|██████████| 813/813 [00:22<00:00, 35.47it/s]\n",
            "Eval : 100%|██████████| 63/63 [00:01<00:00, 36.22it/s]\n",
            "Epoch 1241\n"
          ]
        },
        {
          "output_type": "stream",
          "name": "stdout",
          "text": [
            "107.534\n"
          ]
        },
        {
          "output_type": "stream",
          "name": "stderr",
          "text": [
            "Train: 100%|██████████| 813/813 [00:28<00:00, 28.59it/s]\n",
            "Eval : 100%|██████████| 63/63 [00:01<00:00, 36.20it/s]\n",
            "Epoch 1242\n"
          ]
        },
        {
          "output_type": "stream",
          "name": "stdout",
          "text": [
            "107.534\n"
          ]
        },
        {
          "output_type": "stream",
          "name": "stderr",
          "text": [
            "Train: 100%|██████████| 813/813 [00:23<00:00, 35.20it/s]\n",
            "Eval : 100%|██████████| 63/63 [00:01<00:00, 36.40it/s]\n",
            "Epoch 1243\n"
          ]
        },
        {
          "output_type": "stream",
          "name": "stdout",
          "text": [
            "108.52\n"
          ]
        },
        {
          "output_type": "stream",
          "name": "stderr",
          "text": [
            "Train: 100%|██████████| 813/813 [00:28<00:00, 28.44it/s]\n",
            "Eval : 100%|██████████| 63/63 [00:01<00:00, 36.87it/s]\n",
            "Epoch 1244\n"
          ]
        },
        {
          "output_type": "stream",
          "name": "stdout",
          "text": [
            "108.52\n"
          ]
        },
        {
          "output_type": "stream",
          "name": "stderr",
          "text": [
            "Train: 100%|██████████| 813/813 [00:22<00:00, 35.69it/s]\n",
            "Eval : 100%|██████████| 63/63 [00:01<00:00, 36.48it/s]\n",
            "Epoch 1245\n"
          ]
        },
        {
          "output_type": "stream",
          "name": "stdout",
          "text": [
            "107.631\n"
          ]
        },
        {
          "output_type": "stream",
          "name": "stderr",
          "text": [
            "Train: 100%|██████████| 813/813 [00:28<00:00, 28.14it/s]\n",
            "Eval : 100%|██████████| 63/63 [00:01<00:00, 36.14it/s]\n",
            "Epoch 1246\n"
          ]
        },
        {
          "output_type": "stream",
          "name": "stdout",
          "text": [
            "107.631\n"
          ]
        },
        {
          "output_type": "stream",
          "name": "stderr",
          "text": [
            "Train: 100%|██████████| 813/813 [00:23<00:00, 35.32it/s]\n",
            "Eval : 100%|██████████| 63/63 [00:01<00:00, 36.19it/s]\n",
            "Epoch 1247\n"
          ]
        },
        {
          "output_type": "stream",
          "name": "stdout",
          "text": [
            "108.104\n"
          ]
        },
        {
          "output_type": "stream",
          "name": "stderr",
          "text": [
            "Train: 100%|██████████| 813/813 [00:29<00:00, 27.93it/s]\n",
            "Eval : 100%|██████████| 63/63 [00:01<00:00, 36.71it/s]\n",
            "Epoch 1248\n"
          ]
        },
        {
          "output_type": "stream",
          "name": "stdout",
          "text": [
            "108.104\n"
          ]
        },
        {
          "output_type": "stream",
          "name": "stderr",
          "text": [
            "Train: 100%|██████████| 813/813 [00:23<00:00, 35.16it/s]\n",
            "Eval : 100%|██████████| 63/63 [00:01<00:00, 35.21it/s]\n",
            "Epoch 1249\n"
          ]
        },
        {
          "output_type": "stream",
          "name": "stdout",
          "text": [
            "107.312\n"
          ]
        },
        {
          "output_type": "stream",
          "name": "stderr",
          "text": [
            "Train: 100%|██████████| 813/813 [00:28<00:00, 28.09it/s]\n",
            "Eval : 100%|██████████| 63/63 [00:01<00:00, 35.98it/s]\n",
            "Epoch 1250\n"
          ]
        },
        {
          "output_type": "stream",
          "name": "stdout",
          "text": [
            "107.312\n"
          ]
        },
        {
          "output_type": "stream",
          "name": "stderr",
          "text": [
            "Train: 100%|██████████| 813/813 [00:22<00:00, 35.35it/s]\n",
            "Eval : 100%|██████████| 63/63 [00:01<00:00, 35.26it/s]\n",
            "Epoch 1251\n"
          ]
        },
        {
          "output_type": "stream",
          "name": "stdout",
          "text": [
            "108.487\n"
          ]
        },
        {
          "output_type": "stream",
          "name": "stderr",
          "text": [
            "Train: 100%|██████████| 813/813 [00:29<00:00, 28.03it/s]\n",
            "Eval : 100%|██████████| 63/63 [00:01<00:00, 35.22it/s]\n",
            "Epoch 1252\n"
          ]
        },
        {
          "output_type": "stream",
          "name": "stdout",
          "text": [
            "108.487\n"
          ]
        },
        {
          "output_type": "stream",
          "name": "stderr",
          "text": [
            "Train: 100%|██████████| 813/813 [00:22<00:00, 35.53it/s]\n",
            "Eval : 100%|██████████| 63/63 [00:01<00:00, 36.78it/s]\n",
            "Epoch 1253\n"
          ]
        },
        {
          "output_type": "stream",
          "name": "stdout",
          "text": [
            "107.664\n"
          ]
        },
        {
          "output_type": "stream",
          "name": "stderr",
          "text": [
            "Train: 100%|██████████| 813/813 [00:28<00:00, 28.08it/s]\n",
            "Eval : 100%|██████████| 63/63 [00:01<00:00, 34.93it/s]\n",
            "Epoch 1254\n"
          ]
        },
        {
          "output_type": "stream",
          "name": "stdout",
          "text": [
            "107.664\n"
          ]
        },
        {
          "output_type": "stream",
          "name": "stderr",
          "text": [
            "Train: 100%|██████████| 813/813 [00:22<00:00, 35.53it/s]\n",
            "Eval : 100%|██████████| 63/63 [00:01<00:00, 36.29it/s]\n",
            "Epoch 1255\n"
          ]
        },
        {
          "output_type": "stream",
          "name": "stdout",
          "text": [
            "107.391\n"
          ]
        },
        {
          "output_type": "stream",
          "name": "stderr",
          "text": [
            "Train: 100%|██████████| 813/813 [00:28<00:00, 28.23it/s]\n",
            "Eval : 100%|██████████| 63/63 [00:01<00:00, 36.63it/s]\n",
            "Epoch 1256\n"
          ]
        },
        {
          "output_type": "stream",
          "name": "stdout",
          "text": [
            "107.391\n"
          ]
        },
        {
          "output_type": "stream",
          "name": "stderr",
          "text": [
            "Train: 100%|██████████| 813/813 [00:22<00:00, 35.87it/s]\n",
            "Eval : 100%|██████████| 63/63 [00:01<00:00, 36.62it/s]\n",
            "Epoch 1257\n"
          ]
        },
        {
          "output_type": "stream",
          "name": "stdout",
          "text": [
            "108.44\n"
          ]
        },
        {
          "output_type": "stream",
          "name": "stderr",
          "text": [
            "Train: 100%|██████████| 813/813 [00:28<00:00, 28.50it/s]\n",
            "Eval : 100%|██████████| 63/63 [00:01<00:00, 35.11it/s]\n",
            "Epoch 1258\n"
          ]
        },
        {
          "output_type": "stream",
          "name": "stdout",
          "text": [
            "108.44\n"
          ]
        },
        {
          "output_type": "stream",
          "name": "stderr",
          "text": [
            "Train: 100%|██████████| 813/813 [00:22<00:00, 35.38it/s]\n",
            "Eval : 100%|██████████| 63/63 [00:01<00:00, 36.18it/s]\n",
            "Epoch 1259\n"
          ]
        },
        {
          "output_type": "stream",
          "name": "stdout",
          "text": [
            "107.505\n"
          ]
        },
        {
          "output_type": "stream",
          "name": "stderr",
          "text": [
            "Train: 100%|██████████| 813/813 [00:28<00:00, 28.10it/s]\n",
            "Eval : 100%|██████████| 63/63 [00:01<00:00, 36.52it/s]\n",
            "Epoch 1260\n"
          ]
        },
        {
          "output_type": "stream",
          "name": "stdout",
          "text": [
            "107.505\n"
          ]
        },
        {
          "output_type": "stream",
          "name": "stderr",
          "text": [
            "Train: 100%|██████████| 813/813 [00:23<00:00, 35.07it/s]\n",
            "Eval : 100%|██████████| 63/63 [00:01<00:00, 35.39it/s]\n",
            "Epoch 1261\n"
          ]
        },
        {
          "output_type": "stream",
          "name": "stdout",
          "text": [
            "108.557\n"
          ]
        },
        {
          "output_type": "stream",
          "name": "stderr",
          "text": [
            "Train: 100%|██████████| 813/813 [00:29<00:00, 27.90it/s]\n",
            "Eval : 100%|██████████| 63/63 [00:01<00:00, 36.31it/s]\n",
            "Epoch 1262\n"
          ]
        },
        {
          "output_type": "stream",
          "name": "stdout",
          "text": [
            "108.557\n"
          ]
        },
        {
          "output_type": "stream",
          "name": "stderr",
          "text": [
            "Train: 100%|██████████| 813/813 [00:23<00:00, 35.09it/s]\n",
            "Eval : 100%|██████████| 63/63 [00:01<00:00, 36.87it/s]\n",
            "Epoch 1263\n"
          ]
        },
        {
          "output_type": "stream",
          "name": "stdout",
          "text": [
            "107.505\n"
          ]
        },
        {
          "output_type": "stream",
          "name": "stderr",
          "text": [
            "Train: 100%|██████████| 813/813 [00:28<00:00, 28.46it/s]\n",
            "Eval : 100%|██████████| 63/63 [00:01<00:00, 36.17it/s]\n",
            "Epoch 1264\n"
          ]
        },
        {
          "output_type": "stream",
          "name": "stdout",
          "text": [
            "107.505\n"
          ]
        },
        {
          "output_type": "stream",
          "name": "stderr",
          "text": [
            "Train: 100%|██████████| 813/813 [00:23<00:00, 35.24it/s]\n",
            "Eval : 100%|██████████| 63/63 [00:01<00:00, 36.49it/s]\n",
            "Epoch 1265\n"
          ]
        },
        {
          "output_type": "stream",
          "name": "stdout",
          "text": [
            "108.913\n"
          ]
        },
        {
          "output_type": "stream",
          "name": "stderr",
          "text": [
            "Train: 100%|██████████| 813/813 [00:28<00:00, 28.28it/s]\n",
            "Eval : 100%|██████████| 63/63 [00:01<00:00, 37.00it/s]\n",
            "Epoch 1266\n"
          ]
        },
        {
          "output_type": "stream",
          "name": "stdout",
          "text": [
            "108.913\n"
          ]
        },
        {
          "output_type": "stream",
          "name": "stderr",
          "text": [
            "Train: 100%|██████████| 813/813 [00:23<00:00, 35.16it/s]\n",
            "Eval : 100%|██████████| 63/63 [00:01<00:00, 35.16it/s]\n",
            "Epoch 1267\n"
          ]
        },
        {
          "output_type": "stream",
          "name": "stdout",
          "text": [
            "106.529\n"
          ]
        },
        {
          "output_type": "stream",
          "name": "stderr",
          "text": [
            "Train: 100%|██████████| 813/813 [00:28<00:00, 28.38it/s]\n",
            "Eval : 100%|██████████| 63/63 [00:01<00:00, 37.03it/s]\n",
            "Epoch 1268\n"
          ]
        },
        {
          "output_type": "stream",
          "name": "stdout",
          "text": [
            "106.529\n"
          ]
        },
        {
          "output_type": "stream",
          "name": "stderr",
          "text": [
            "Train: 100%|██████████| 813/813 [00:22<00:00, 35.49it/s]\n",
            "Eval : 100%|██████████| 63/63 [00:01<00:00, 36.39it/s]\n",
            "Epoch 1269\n"
          ]
        },
        {
          "output_type": "stream",
          "name": "stdout",
          "text": [
            "108.655\n"
          ]
        },
        {
          "output_type": "stream",
          "name": "stderr",
          "text": [
            "Train: 100%|██████████| 813/813 [00:28<00:00, 28.38it/s]\n",
            "Eval : 100%|██████████| 63/63 [00:01<00:00, 36.73it/s]\n",
            "Epoch 1270\n"
          ]
        },
        {
          "output_type": "stream",
          "name": "stdout",
          "text": [
            "108.655\n"
          ]
        },
        {
          "output_type": "stream",
          "name": "stderr",
          "text": [
            "Train: 100%|██████████| 813/813 [00:22<00:00, 35.71it/s]\n",
            "Eval : 100%|██████████| 63/63 [00:01<00:00, 35.49it/s]\n",
            "Epoch 1271\n"
          ]
        },
        {
          "output_type": "stream",
          "name": "stdout",
          "text": [
            "107.145\n"
          ]
        },
        {
          "output_type": "stream",
          "name": "stderr",
          "text": [
            "Train: 100%|██████████| 813/813 [00:28<00:00, 28.21it/s]\n",
            "Eval : 100%|██████████| 63/63 [00:01<00:00, 35.88it/s]\n",
            "Epoch 1272\n"
          ]
        },
        {
          "output_type": "stream",
          "name": "stdout",
          "text": [
            "107.145\n"
          ]
        },
        {
          "output_type": "stream",
          "name": "stderr",
          "text": [
            "Train: 100%|██████████| 813/813 [00:22<00:00, 35.47it/s]\n",
            "Eval : 100%|██████████| 63/63 [00:01<00:00, 35.83it/s]\n",
            "Epoch 1273\n"
          ]
        },
        {
          "output_type": "stream",
          "name": "stdout",
          "text": [
            "108.321\n"
          ]
        },
        {
          "output_type": "stream",
          "name": "stderr",
          "text": [
            "Train: 100%|██████████| 813/813 [00:28<00:00, 28.21it/s]\n",
            "Eval : 100%|██████████| 63/63 [00:01<00:00, 36.57it/s]\n",
            "Epoch 1274\n"
          ]
        },
        {
          "output_type": "stream",
          "name": "stdout",
          "text": [
            "108.321\n"
          ]
        },
        {
          "output_type": "stream",
          "name": "stderr",
          "text": [
            "Train: 100%|██████████| 813/813 [00:22<00:00, 35.48it/s]\n",
            "Eval : 100%|██████████| 63/63 [00:01<00:00, 36.12it/s]\n",
            "Epoch 1275\n"
          ]
        },
        {
          "output_type": "stream",
          "name": "stdout",
          "text": [
            "107.317\n"
          ]
        },
        {
          "output_type": "stream",
          "name": "stderr",
          "text": [
            "Train: 100%|██████████| 813/813 [00:29<00:00, 27.62it/s]\n",
            "Eval : 100%|██████████| 63/63 [00:01<00:00, 32.95it/s]\n",
            "Epoch 1276\n"
          ]
        },
        {
          "output_type": "stream",
          "name": "stdout",
          "text": [
            "107.317\n"
          ]
        },
        {
          "output_type": "stream",
          "name": "stderr",
          "text": [
            "Train: 100%|██████████| 813/813 [00:24<00:00, 33.06it/s]\n",
            "Eval : 100%|██████████| 63/63 [00:01<00:00, 33.71it/s]\n",
            "Epoch 1277\n"
          ]
        },
        {
          "output_type": "stream",
          "name": "stdout",
          "text": [
            "108.009\n"
          ]
        },
        {
          "output_type": "stream",
          "name": "stderr",
          "text": [
            "Train: 100%|██████████| 813/813 [00:29<00:00, 27.60it/s]\n",
            "Eval : 100%|██████████| 63/63 [00:01<00:00, 36.53it/s]\n",
            "Epoch 1278\n"
          ]
        },
        {
          "output_type": "stream",
          "name": "stdout",
          "text": [
            "108.009\n"
          ]
        },
        {
          "output_type": "stream",
          "name": "stderr",
          "text": [
            "Train: 100%|██████████| 813/813 [00:23<00:00, 35.34it/s]\n",
            "Eval : 100%|██████████| 63/63 [00:01<00:00, 36.77it/s]\n",
            "Epoch 1279\n"
          ]
        },
        {
          "output_type": "stream",
          "name": "stdout",
          "text": [
            "108.127\n"
          ]
        },
        {
          "output_type": "stream",
          "name": "stderr",
          "text": [
            "Train: 100%|██████████| 813/813 [00:28<00:00, 28.09it/s]\n",
            "Eval : 100%|██████████| 63/63 [00:01<00:00, 35.79it/s]\n",
            "Epoch 1280\n"
          ]
        },
        {
          "output_type": "stream",
          "name": "stdout",
          "text": [
            "108.127\n"
          ]
        },
        {
          "output_type": "stream",
          "name": "stderr",
          "text": [
            "Train: 100%|██████████| 813/813 [00:22<00:00, 35.55it/s]\n",
            "Eval : 100%|██████████| 63/63 [00:01<00:00, 36.11it/s]\n",
            "Epoch 1281\n"
          ]
        },
        {
          "output_type": "stream",
          "name": "stdout",
          "text": [
            "108.227\n"
          ]
        },
        {
          "output_type": "stream",
          "name": "stderr",
          "text": [
            "Train: 100%|██████████| 813/813 [00:28<00:00, 28.26it/s]\n",
            "Eval : 100%|██████████| 63/63 [00:01<00:00, 36.53it/s]\n",
            "Epoch 1282\n"
          ]
        },
        {
          "output_type": "stream",
          "name": "stdout",
          "text": [
            "108.227\n"
          ]
        },
        {
          "output_type": "stream",
          "name": "stderr",
          "text": [
            "Train: 100%|██████████| 813/813 [00:22<00:00, 35.62it/s]\n",
            "Eval : 100%|██████████| 63/63 [00:01<00:00, 35.71it/s]\n",
            "Epoch 1283\n"
          ]
        },
        {
          "output_type": "stream",
          "name": "stdout",
          "text": [
            "108.715\n"
          ]
        },
        {
          "output_type": "stream",
          "name": "stderr",
          "text": [
            "Train: 100%|██████████| 813/813 [00:28<00:00, 28.05it/s]\n",
            "Eval : 100%|██████████| 63/63 [00:01<00:00, 35.50it/s]\n",
            "Epoch 1284\n"
          ]
        },
        {
          "output_type": "stream",
          "name": "stdout",
          "text": [
            "108.715\n"
          ]
        },
        {
          "output_type": "stream",
          "name": "stderr",
          "text": [
            "Train: 100%|██████████| 813/813 [00:22<00:00, 35.62it/s]\n",
            "Eval : 100%|██████████| 63/63 [00:01<00:00, 36.48it/s]\n",
            "Epoch 1285\n"
          ]
        },
        {
          "output_type": "stream",
          "name": "stdout",
          "text": [
            "107.612\n"
          ]
        },
        {
          "output_type": "stream",
          "name": "stderr",
          "text": [
            "Train: 100%|██████████| 813/813 [00:28<00:00, 28.35it/s]\n",
            "Eval : 100%|██████████| 63/63 [00:01<00:00, 36.85it/s]\n",
            "Epoch 1286\n"
          ]
        },
        {
          "output_type": "stream",
          "name": "stdout",
          "text": [
            "107.612\n"
          ]
        },
        {
          "output_type": "stream",
          "name": "stderr",
          "text": [
            "Train: 100%|██████████| 813/813 [00:23<00:00, 35.11it/s]\n",
            "Eval : 100%|██████████| 63/63 [00:01<00:00, 36.06it/s]\n",
            "Epoch 1287\n"
          ]
        },
        {
          "output_type": "stream",
          "name": "stdout",
          "text": [
            "109.138\n"
          ]
        },
        {
          "output_type": "stream",
          "name": "stderr",
          "text": [
            "Train: 100%|██████████| 813/813 [00:28<00:00, 28.25it/s]\n",
            "Eval : 100%|██████████| 63/63 [00:01<00:00, 36.85it/s]\n",
            "Epoch 1288\n"
          ]
        },
        {
          "output_type": "stream",
          "name": "stdout",
          "text": [
            "109.138\n"
          ]
        },
        {
          "output_type": "stream",
          "name": "stderr",
          "text": [
            "Train: 100%|██████████| 813/813 [00:22<00:00, 35.38it/s]\n",
            "Eval : 100%|██████████| 63/63 [00:01<00:00, 36.66it/s]\n",
            "Epoch 1289\n"
          ]
        },
        {
          "output_type": "stream",
          "name": "stdout",
          "text": [
            "107.41\n"
          ]
        },
        {
          "output_type": "stream",
          "name": "stderr",
          "text": [
            "Train: 100%|██████████| 813/813 [00:28<00:00, 28.37it/s]\n",
            "Eval : 100%|██████████| 63/63 [00:01<00:00, 36.53it/s]\n",
            "Epoch 1290\n"
          ]
        },
        {
          "output_type": "stream",
          "name": "stdout",
          "text": [
            "107.41\n"
          ]
        },
        {
          "output_type": "stream",
          "name": "stderr",
          "text": [
            "Train: 100%|██████████| 813/813 [00:23<00:00, 35.32it/s]\n",
            "Eval : 100%|██████████| 63/63 [00:01<00:00, 36.03it/s]\n",
            "Epoch 1291\n"
          ]
        },
        {
          "output_type": "stream",
          "name": "stdout",
          "text": [
            "108.902\n"
          ]
        },
        {
          "output_type": "stream",
          "name": "stderr",
          "text": [
            "Train: 100%|██████████| 813/813 [00:28<00:00, 28.25it/s]\n",
            "Eval : 100%|██████████| 63/63 [00:01<00:00, 35.98it/s]\n",
            "Epoch 1292\n"
          ]
        },
        {
          "output_type": "stream",
          "name": "stdout",
          "text": [
            "108.902\n"
          ]
        },
        {
          "output_type": "stream",
          "name": "stderr",
          "text": [
            "Train: 100%|██████████| 813/813 [00:22<00:00, 35.52it/s]\n",
            "Eval : 100%|██████████| 63/63 [00:01<00:00, 36.75it/s]\n",
            "Epoch 1293\n"
          ]
        },
        {
          "output_type": "stream",
          "name": "stdout",
          "text": [
            "107.657\n"
          ]
        },
        {
          "output_type": "stream",
          "name": "stderr",
          "text": [
            "Train: 100%|██████████| 813/813 [00:28<00:00, 28.32it/s]\n",
            "Eval : 100%|██████████| 63/63 [00:01<00:00, 37.10it/s]\n",
            "Epoch 1294\n"
          ]
        },
        {
          "output_type": "stream",
          "name": "stdout",
          "text": [
            "107.657\n"
          ]
        },
        {
          "output_type": "stream",
          "name": "stderr",
          "text": [
            "Train: 100%|██████████| 813/813 [00:22<00:00, 35.38it/s]\n",
            "Eval : 100%|██████████| 63/63 [00:01<00:00, 35.59it/s]\n",
            "Epoch 1295\n"
          ]
        },
        {
          "output_type": "stream",
          "name": "stdout",
          "text": [
            "108.561\n"
          ]
        },
        {
          "output_type": "stream",
          "name": "stderr",
          "text": [
            "Train: 100%|██████████| 813/813 [00:29<00:00, 27.99it/s]\n",
            "Eval : 100%|██████████| 63/63 [00:01<00:00, 37.10it/s]\n",
            "Epoch 1296\n"
          ]
        },
        {
          "output_type": "stream",
          "name": "stdout",
          "text": [
            "108.561\n"
          ]
        },
        {
          "output_type": "stream",
          "name": "stderr",
          "text": [
            "Train: 100%|██████████| 813/813 [00:22<00:00, 35.70it/s]\n",
            "Eval : 100%|██████████| 63/63 [00:01<00:00, 36.15it/s]\n",
            "Epoch 1297\n"
          ]
        },
        {
          "output_type": "stream",
          "name": "stdout",
          "text": [
            "107.887\n"
          ]
        },
        {
          "output_type": "stream",
          "name": "stderr",
          "text": [
            "Train: 100%|██████████| 813/813 [00:28<00:00, 28.24it/s]\n",
            "Eval : 100%|██████████| 63/63 [00:01<00:00, 36.27it/s]\n",
            "Epoch 1298\n"
          ]
        },
        {
          "output_type": "stream",
          "name": "stdout",
          "text": [
            "107.887\n"
          ]
        },
        {
          "output_type": "stream",
          "name": "stderr",
          "text": [
            "Train: 100%|██████████| 813/813 [00:22<00:00, 35.70it/s]\n",
            "Eval : 100%|██████████| 63/63 [00:01<00:00, 36.99it/s]\n",
            "Epoch 1299\n"
          ]
        },
        {
          "output_type": "stream",
          "name": "stdout",
          "text": [
            "108.607\n"
          ]
        },
        {
          "output_type": "stream",
          "name": "stderr",
          "text": [
            "Train: 100%|██████████| 813/813 [00:28<00:00, 28.29it/s]\n",
            "Eval : 100%|██████████| 63/63 [00:01<00:00, 36.93it/s]\n",
            "Epoch 1300\n"
          ]
        },
        {
          "output_type": "stream",
          "name": "stdout",
          "text": [
            "108.607\n"
          ]
        },
        {
          "output_type": "stream",
          "name": "stderr",
          "text": [
            "Train: 100%|██████████| 813/813 [00:22<00:00, 35.66it/s]\n",
            "Eval : 100%|██████████| 63/63 [00:01<00:00, 36.49it/s]\n",
            "Epoch 1301\n"
          ]
        },
        {
          "output_type": "stream",
          "name": "stdout",
          "text": [
            "107.974\n"
          ]
        },
        {
          "output_type": "stream",
          "name": "stderr",
          "text": [
            "Train: 100%|██████████| 813/813 [00:29<00:00, 27.87it/s]\n",
            "Eval : 100%|██████████| 63/63 [00:01<00:00, 36.01it/s]\n",
            "Epoch 1302\n"
          ]
        },
        {
          "output_type": "stream",
          "name": "stdout",
          "text": [
            "107.974\n"
          ]
        },
        {
          "output_type": "stream",
          "name": "stderr",
          "text": [
            "Train: 100%|██████████| 813/813 [00:22<00:00, 35.74it/s]\n",
            "Eval : 100%|██████████| 63/63 [00:01<00:00, 36.51it/s]\n",
            "Epoch 1303\n"
          ]
        },
        {
          "output_type": "stream",
          "name": "stdout",
          "text": [
            "108.697\n"
          ]
        },
        {
          "output_type": "stream",
          "name": "stderr",
          "text": [
            "Train: 100%|██████████| 813/813 [00:28<00:00, 28.29it/s]\n",
            "Eval : 100%|██████████| 63/63 [00:01<00:00, 36.80it/s]\n",
            "Epoch 1304\n"
          ]
        },
        {
          "output_type": "stream",
          "name": "stdout",
          "text": [
            "108.697\n"
          ]
        },
        {
          "output_type": "stream",
          "name": "stderr",
          "text": [
            "Train: 100%|██████████| 813/813 [00:22<00:00, 35.37it/s]\n",
            "Eval : 100%|██████████| 63/63 [00:01<00:00, 36.72it/s]\n",
            "Epoch 1305\n"
          ]
        },
        {
          "output_type": "stream",
          "name": "stdout",
          "text": [
            "108.023\n"
          ]
        },
        {
          "output_type": "stream",
          "name": "stderr",
          "text": [
            "Train: 100%|██████████| 813/813 [00:28<00:00, 28.14it/s]\n",
            "Eval : 100%|██████████| 63/63 [00:01<00:00, 36.38it/s]\n",
            "Epoch 1306\n"
          ]
        },
        {
          "output_type": "stream",
          "name": "stdout",
          "text": [
            "108.023\n"
          ]
        },
        {
          "output_type": "stream",
          "name": "stderr",
          "text": [
            "Train: 100%|██████████| 813/813 [00:23<00:00, 35.24it/s]\n",
            "Eval : 100%|██████████| 63/63 [00:01<00:00, 36.34it/s]\n",
            "Epoch 1307\n"
          ]
        },
        {
          "output_type": "stream",
          "name": "stdout",
          "text": [
            "108.048\n"
          ]
        },
        {
          "output_type": "stream",
          "name": "stderr",
          "text": [
            "Train: 100%|██████████| 813/813 [00:28<00:00, 28.19it/s]\n",
            "Eval : 100%|██████████| 63/63 [00:01<00:00, 36.75it/s]\n",
            "Epoch 1308\n"
          ]
        },
        {
          "output_type": "stream",
          "name": "stdout",
          "text": [
            "108.048\n"
          ]
        },
        {
          "output_type": "stream",
          "name": "stderr",
          "text": [
            "Train: 100%|██████████| 813/813 [00:22<00:00, 35.39it/s]\n",
            "Eval : 100%|██████████| 63/63 [00:01<00:00, 36.57it/s]\n",
            "Epoch 1309\n"
          ]
        },
        {
          "output_type": "stream",
          "name": "stdout",
          "text": [
            "108.867\n"
          ]
        },
        {
          "output_type": "stream",
          "name": "stderr",
          "text": [
            "Train: 100%|██████████| 813/813 [00:28<00:00, 28.22it/s]\n",
            "Eval : 100%|██████████| 63/63 [00:01<00:00, 35.99it/s]\n",
            "Epoch 1310\n"
          ]
        },
        {
          "output_type": "stream",
          "name": "stdout",
          "text": [
            "108.867\n"
          ]
        },
        {
          "output_type": "stream",
          "name": "stderr",
          "text": [
            "Train: 100%|██████████| 813/813 [00:23<00:00, 35.29it/s]\n",
            "Eval : 100%|██████████| 63/63 [00:01<00:00, 36.02it/s]\n",
            "Epoch 1311\n"
          ]
        },
        {
          "output_type": "stream",
          "name": "stdout",
          "text": [
            "107.498\n"
          ]
        },
        {
          "output_type": "stream",
          "name": "stderr",
          "text": [
            "Train: 100%|██████████| 813/813 [00:28<00:00, 28.50it/s]\n",
            "Eval : 100%|██████████| 63/63 [00:01<00:00, 37.00it/s]\n",
            "Epoch 1312\n"
          ]
        },
        {
          "output_type": "stream",
          "name": "stdout",
          "text": [
            "107.498\n"
          ]
        },
        {
          "output_type": "stream",
          "name": "stderr",
          "text": [
            "Train: 100%|██████████| 813/813 [00:22<00:00, 35.80it/s]\n",
            "Eval : 100%|██████████| 63/63 [00:01<00:00, 35.88it/s]\n",
            "Epoch 1313\n"
          ]
        },
        {
          "output_type": "stream",
          "name": "stdout",
          "text": [
            "108.784\n"
          ]
        },
        {
          "output_type": "stream",
          "name": "stderr",
          "text": [
            "Train: 100%|██████████| 813/813 [00:28<00:00, 28.60it/s]\n",
            "Eval : 100%|██████████| 63/63 [00:01<00:00, 37.22it/s]\n",
            "Epoch 1314\n"
          ]
        },
        {
          "output_type": "stream",
          "name": "stdout",
          "text": [
            "108.784\n"
          ]
        },
        {
          "output_type": "stream",
          "name": "stderr",
          "text": [
            "Train: 100%|██████████| 813/813 [00:22<00:00, 35.98it/s]\n",
            "Eval : 100%|██████████| 63/63 [00:01<00:00, 37.28it/s]\n",
            "Epoch 1315\n"
          ]
        },
        {
          "output_type": "stream",
          "name": "stdout",
          "text": [
            "107.24\n"
          ]
        },
        {
          "output_type": "stream",
          "name": "stderr",
          "text": [
            "Train: 100%|██████████| 813/813 [00:28<00:00, 28.42it/s]\n",
            "Eval : 100%|██████████| 63/63 [00:01<00:00, 37.32it/s]\n",
            "Epoch 1316\n"
          ]
        },
        {
          "output_type": "stream",
          "name": "stdout",
          "text": [
            "107.24\n"
          ]
        },
        {
          "output_type": "stream",
          "name": "stderr",
          "text": [
            "Train: 100%|██████████| 813/813 [00:22<00:00, 35.95it/s]\n",
            "Eval : 100%|██████████| 63/63 [00:01<00:00, 37.13it/s]\n",
            "Epoch 1317\n"
          ]
        },
        {
          "output_type": "stream",
          "name": "stdout",
          "text": [
            "108.404\n"
          ]
        },
        {
          "output_type": "stream",
          "name": "stderr",
          "text": [
            "Train: 100%|██████████| 813/813 [00:28<00:00, 28.64it/s]\n",
            "Eval : 100%|██████████| 63/63 [00:01<00:00, 37.27it/s]\n",
            "Epoch 1318\n"
          ]
        },
        {
          "output_type": "stream",
          "name": "stdout",
          "text": [
            "108.404\n"
          ]
        },
        {
          "output_type": "stream",
          "name": "stderr",
          "text": [
            "Train: 100%|██████████| 813/813 [00:22<00:00, 35.68it/s]\n",
            "Eval : 100%|██████████| 63/63 [00:01<00:00, 36.98it/s]\n",
            "Epoch 1319\n"
          ]
        },
        {
          "output_type": "stream",
          "name": "stdout",
          "text": [
            "108.467\n"
          ]
        },
        {
          "output_type": "stream",
          "name": "stderr",
          "text": [
            "Train: 100%|██████████| 813/813 [00:28<00:00, 28.35it/s]\n",
            "Eval : 100%|██████████| 63/63 [00:01<00:00, 37.13it/s]\n",
            "Epoch 1320\n"
          ]
        },
        {
          "output_type": "stream",
          "name": "stdout",
          "text": [
            "108.467\n"
          ]
        },
        {
          "output_type": "stream",
          "name": "stderr",
          "text": [
            "Train: 100%|██████████| 813/813 [00:22<00:00, 36.10it/s]\n",
            "Eval : 100%|██████████| 63/63 [00:01<00:00, 35.54it/s]\n",
            "Epoch 1321\n"
          ]
        },
        {
          "output_type": "stream",
          "name": "stdout",
          "text": [
            "107.734\n"
          ]
        },
        {
          "output_type": "stream",
          "name": "stderr",
          "text": [
            "Train: 100%|██████████| 813/813 [00:28<00:00, 28.48it/s]\n",
            "Eval : 100%|██████████| 63/63 [00:01<00:00, 36.38it/s]\n",
            "Epoch 1322\n"
          ]
        },
        {
          "output_type": "stream",
          "name": "stdout",
          "text": [
            "107.734\n"
          ]
        },
        {
          "output_type": "stream",
          "name": "stderr",
          "text": [
            "Train: 100%|██████████| 813/813 [00:22<00:00, 35.82it/s]\n",
            "Eval : 100%|██████████| 63/63 [00:01<00:00, 37.40it/s]\n",
            "Epoch 1323\n"
          ]
        },
        {
          "output_type": "stream",
          "name": "stdout",
          "text": [
            "109.08\n"
          ]
        },
        {
          "output_type": "stream",
          "name": "stderr",
          "text": [
            "Train: 100%|██████████| 813/813 [00:28<00:00, 28.30it/s]\n",
            "Eval : 100%|██████████| 63/63 [00:01<00:00, 36.04it/s]\n",
            "Epoch 1324\n"
          ]
        },
        {
          "output_type": "stream",
          "name": "stdout",
          "text": [
            "109.08\n"
          ]
        },
        {
          "output_type": "stream",
          "name": "stderr",
          "text": [
            "Train: 100%|██████████| 813/813 [00:22<00:00, 35.98it/s]\n",
            "Eval : 100%|██████████| 63/63 [00:01<00:00, 37.08it/s]\n",
            "Epoch 1325\n"
          ]
        },
        {
          "output_type": "stream",
          "name": "stdout",
          "text": [
            "107.781\n"
          ]
        },
        {
          "output_type": "stream",
          "name": "stderr",
          "text": [
            "Train: 100%|██████████| 813/813 [00:28<00:00, 28.56it/s]\n",
            "Eval : 100%|██████████| 63/63 [00:01<00:00, 37.37it/s]\n",
            "Epoch 1326\n"
          ]
        },
        {
          "output_type": "stream",
          "name": "stdout",
          "text": [
            "107.781\n"
          ]
        },
        {
          "output_type": "stream",
          "name": "stderr",
          "text": [
            "Train: 100%|██████████| 813/813 [00:22<00:00, 35.75it/s]\n",
            "Eval : 100%|██████████| 63/63 [00:01<00:00, 37.14it/s]\n",
            "Epoch 1327\n"
          ]
        },
        {
          "output_type": "stream",
          "name": "stdout",
          "text": [
            "107.877\n"
          ]
        },
        {
          "output_type": "stream",
          "name": "stderr",
          "text": [
            "Train: 100%|██████████| 813/813 [00:28<00:00, 28.55it/s]\n",
            "Eval : 100%|██████████| 63/63 [00:01<00:00, 36.76it/s]\n",
            "Epoch 1328\n"
          ]
        },
        {
          "output_type": "stream",
          "name": "stdout",
          "text": [
            "107.877\n"
          ]
        },
        {
          "output_type": "stream",
          "name": "stderr",
          "text": [
            "Train: 100%|██████████| 813/813 [00:22<00:00, 35.78it/s]\n",
            "Eval : 100%|██████████| 63/63 [00:01<00:00, 36.74it/s]\n",
            "Epoch 1329\n"
          ]
        },
        {
          "output_type": "stream",
          "name": "stdout",
          "text": [
            "107.629\n"
          ]
        },
        {
          "output_type": "stream",
          "name": "stderr",
          "text": [
            "Train: 100%|██████████| 813/813 [00:28<00:00, 28.63it/s]\n",
            "Eval : 100%|██████████| 63/63 [00:01<00:00, 37.01it/s]\n",
            "Epoch 1330\n"
          ]
        },
        {
          "output_type": "stream",
          "name": "stdout",
          "text": [
            "107.629\n"
          ]
        },
        {
          "output_type": "stream",
          "name": "stderr",
          "text": [
            "Train: 100%|██████████| 813/813 [00:22<00:00, 35.64it/s]\n",
            "Eval : 100%|██████████| 63/63 [00:01<00:00, 35.99it/s]\n",
            "Epoch 1331\n"
          ]
        },
        {
          "output_type": "stream",
          "name": "stdout",
          "text": [
            "108.521\n"
          ]
        },
        {
          "output_type": "stream",
          "name": "stderr",
          "text": [
            "Train: 100%|██████████| 813/813 [00:28<00:00, 28.43it/s]\n",
            "Eval : 100%|██████████| 63/63 [00:01<00:00, 36.70it/s]\n",
            "Epoch 1332\n"
          ]
        },
        {
          "output_type": "stream",
          "name": "stdout",
          "text": [
            "108.521\n"
          ]
        },
        {
          "output_type": "stream",
          "name": "stderr",
          "text": [
            "Train: 100%|██████████| 813/813 [00:22<00:00, 35.63it/s]\n",
            "Eval : 100%|██████████| 63/63 [00:01<00:00, 36.42it/s]\n",
            "Epoch 1333\n"
          ]
        },
        {
          "output_type": "stream",
          "name": "stdout",
          "text": [
            "108.176\n"
          ]
        },
        {
          "output_type": "stream",
          "name": "stderr",
          "text": [
            "Train: 100%|██████████| 813/813 [00:28<00:00, 28.49it/s]\n",
            "Eval : 100%|██████████| 63/63 [00:01<00:00, 36.41it/s]\n",
            "Epoch 1334\n"
          ]
        },
        {
          "output_type": "stream",
          "name": "stdout",
          "text": [
            "108.176\n"
          ]
        },
        {
          "output_type": "stream",
          "name": "stderr",
          "text": [
            "Train: 100%|██████████| 813/813 [00:22<00:00, 35.69it/s]\n",
            "Eval : 100%|██████████| 63/63 [00:01<00:00, 36.00it/s]\n",
            "Epoch 1335\n"
          ]
        },
        {
          "output_type": "stream",
          "name": "stdout",
          "text": [
            "108.787\n"
          ]
        },
        {
          "output_type": "stream",
          "name": "stderr",
          "text": [
            "Train: 100%|██████████| 813/813 [00:28<00:00, 28.44it/s]\n",
            "Eval : 100%|██████████| 63/63 [00:01<00:00, 36.64it/s]\n",
            "Epoch 1336\n"
          ]
        },
        {
          "output_type": "stream",
          "name": "stdout",
          "text": [
            "108.787\n"
          ]
        },
        {
          "output_type": "stream",
          "name": "stderr",
          "text": [
            "Train: 100%|██████████| 813/813 [00:22<00:00, 35.74it/s]\n",
            "Eval : 100%|██████████| 63/63 [00:01<00:00, 36.76it/s]\n",
            "Epoch 1337\n"
          ]
        },
        {
          "output_type": "stream",
          "name": "stdout",
          "text": [
            "107.741\n"
          ]
        },
        {
          "output_type": "stream",
          "name": "stderr",
          "text": [
            "Train: 100%|██████████| 813/813 [00:28<00:00, 28.46it/s]\n",
            "Eval : 100%|██████████| 63/63 [00:01<00:00, 37.09it/s]\n",
            "Epoch 1338\n"
          ]
        },
        {
          "output_type": "stream",
          "name": "stdout",
          "text": [
            "107.741\n"
          ]
        },
        {
          "output_type": "stream",
          "name": "stderr",
          "text": [
            "Train: 100%|██████████| 813/813 [00:22<00:00, 35.75it/s]\n",
            "Eval : 100%|██████████| 63/63 [00:01<00:00, 36.58it/s]\n",
            "Epoch 1339\n"
          ]
        },
        {
          "output_type": "stream",
          "name": "stdout",
          "text": [
            "108.451\n"
          ]
        },
        {
          "output_type": "stream",
          "name": "stderr",
          "text": [
            "Train: 100%|██████████| 813/813 [00:28<00:00, 28.31it/s]\n",
            "Eval : 100%|██████████| 63/63 [00:01<00:00, 37.31it/s]\n",
            "Epoch 1340\n"
          ]
        },
        {
          "output_type": "stream",
          "name": "stdout",
          "text": [
            "108.451\n"
          ]
        },
        {
          "output_type": "stream",
          "name": "stderr",
          "text": [
            "Train: 100%|██████████| 813/813 [00:22<00:00, 35.93it/s]\n",
            "Eval : 100%|██████████| 63/63 [00:01<00:00, 36.62it/s]\n",
            "Epoch 1341\n"
          ]
        },
        {
          "output_type": "stream",
          "name": "stdout",
          "text": [
            "107.59\n"
          ]
        },
        {
          "output_type": "stream",
          "name": "stderr",
          "text": [
            "Train: 100%|██████████| 813/813 [00:28<00:00, 28.73it/s]\n",
            "Eval : 100%|██████████| 63/63 [00:01<00:00, 36.94it/s]\n",
            "Epoch 1342\n"
          ]
        },
        {
          "output_type": "stream",
          "name": "stdout",
          "text": [
            "107.59\n"
          ]
        },
        {
          "output_type": "stream",
          "name": "stderr",
          "text": [
            "Train: 100%|██████████| 813/813 [00:22<00:00, 35.55it/s]\n",
            "Eval : 100%|██████████| 63/63 [00:01<00:00, 36.35it/s]\n",
            "Epoch 1343\n"
          ]
        },
        {
          "output_type": "stream",
          "name": "stdout",
          "text": [
            "109.526\n"
          ]
        },
        {
          "output_type": "stream",
          "name": "stderr",
          "text": [
            "Train: 100%|██████████| 813/813 [00:28<00:00, 28.15it/s]\n",
            "Eval : 100%|██████████| 63/63 [00:01<00:00, 36.87it/s]\n",
            "Epoch 1344\n"
          ]
        },
        {
          "output_type": "stream",
          "name": "stdout",
          "text": [
            "109.526\n"
          ]
        },
        {
          "output_type": "stream",
          "name": "stderr",
          "text": [
            "Train: 100%|██████████| 813/813 [00:22<00:00, 35.96it/s]\n",
            "Eval : 100%|██████████| 63/63 [00:01<00:00, 37.25it/s]\n",
            "Epoch 1345\n"
          ]
        },
        {
          "output_type": "stream",
          "name": "stdout",
          "text": [
            "108.004\n"
          ]
        },
        {
          "output_type": "stream",
          "name": "stderr",
          "text": [
            "Train: 100%|██████████| 813/813 [00:28<00:00, 28.47it/s]\n",
            "Eval : 100%|██████████| 63/63 [00:01<00:00, 36.72it/s]\n",
            "Epoch 1346\n"
          ]
        },
        {
          "output_type": "stream",
          "name": "stdout",
          "text": [
            "108.004\n"
          ]
        },
        {
          "output_type": "stream",
          "name": "stderr",
          "text": [
            "Train: 100%|██████████| 813/813 [00:22<00:00, 35.84it/s]\n",
            "Eval : 100%|██████████| 63/63 [00:01<00:00, 37.05it/s]\n",
            "Epoch 1347\n"
          ]
        },
        {
          "output_type": "stream",
          "name": "stdout",
          "text": [
            "108.772\n"
          ]
        },
        {
          "output_type": "stream",
          "name": "stderr",
          "text": [
            "Train: 100%|██████████| 813/813 [00:28<00:00, 28.48it/s]\n",
            "Eval : 100%|██████████| 63/63 [00:01<00:00, 35.75it/s]\n",
            "Epoch 1348\n"
          ]
        },
        {
          "output_type": "stream",
          "name": "stdout",
          "text": [
            "108.772\n"
          ]
        },
        {
          "output_type": "stream",
          "name": "stderr",
          "text": [
            "Train: 100%|██████████| 813/813 [00:22<00:00, 35.76it/s]\n",
            "Eval : 100%|██████████| 63/63 [00:01<00:00, 37.06it/s]\n",
            "Epoch 1349\n"
          ]
        },
        {
          "output_type": "stream",
          "name": "stdout",
          "text": [
            "108.346\n"
          ]
        },
        {
          "output_type": "stream",
          "name": "stderr",
          "text": [
            "Train: 100%|██████████| 813/813 [00:28<00:00, 28.61it/s]\n",
            "Eval : 100%|██████████| 63/63 [00:01<00:00, 36.79it/s]\n",
            "Epoch 1350\n"
          ]
        },
        {
          "output_type": "stream",
          "name": "stdout",
          "text": [
            "108.346\n"
          ]
        },
        {
          "output_type": "stream",
          "name": "stderr",
          "text": [
            "Train: 100%|██████████| 813/813 [00:22<00:00, 35.78it/s]\n",
            "Eval : 100%|██████████| 63/63 [00:01<00:00, 37.20it/s]\n",
            "Epoch 1351\n"
          ]
        },
        {
          "output_type": "stream",
          "name": "stdout",
          "text": [
            "108.32\n"
          ]
        },
        {
          "output_type": "stream",
          "name": "stderr",
          "text": [
            "Train: 100%|██████████| 813/813 [00:28<00:00, 28.40it/s]\n",
            "Eval : 100%|██████████| 63/63 [00:01<00:00, 37.20it/s]\n",
            "Epoch 1352\n"
          ]
        },
        {
          "output_type": "stream",
          "name": "stdout",
          "text": [
            "108.32\n"
          ]
        },
        {
          "output_type": "stream",
          "name": "stderr",
          "text": [
            "Train: 100%|██████████| 813/813 [00:22<00:00, 35.82it/s]\n",
            "Eval : 100%|██████████| 63/63 [00:01<00:00, 37.14it/s]\n",
            "Epoch 1353\n"
          ]
        },
        {
          "output_type": "stream",
          "name": "stdout",
          "text": [
            "108.011\n"
          ]
        },
        {
          "output_type": "stream",
          "name": "stderr",
          "text": [
            "Train: 100%|██████████| 813/813 [00:28<00:00, 28.68it/s]\n",
            "Eval : 100%|██████████| 63/63 [00:01<00:00, 37.04it/s]\n",
            "Epoch 1354\n"
          ]
        },
        {
          "output_type": "stream",
          "name": "stdout",
          "text": [
            "108.011\n"
          ]
        },
        {
          "output_type": "stream",
          "name": "stderr",
          "text": [
            "Train: 100%|██████████| 813/813 [00:22<00:00, 35.87it/s]\n",
            "Eval : 100%|██████████| 63/63 [00:01<00:00, 36.40it/s]\n",
            "Epoch 1355\n"
          ]
        },
        {
          "output_type": "stream",
          "name": "stdout",
          "text": [
            "107.494\n"
          ]
        },
        {
          "output_type": "stream",
          "name": "stderr",
          "text": [
            "Train: 100%|██████████| 813/813 [00:28<00:00, 28.57it/s]\n",
            "Eval : 100%|██████████| 63/63 [00:01<00:00, 35.11it/s]\n",
            "Epoch 1356\n"
          ]
        },
        {
          "output_type": "stream",
          "name": "stdout",
          "text": [
            "107.494\n"
          ]
        },
        {
          "output_type": "stream",
          "name": "stderr",
          "text": [
            "Train: 100%|██████████| 813/813 [00:22<00:00, 35.99it/s]\n",
            "Eval : 100%|██████████| 63/63 [00:01<00:00, 35.53it/s]\n",
            "Epoch 1357\n"
          ]
        },
        {
          "output_type": "stream",
          "name": "stdout",
          "text": [
            "107.767\n"
          ]
        },
        {
          "output_type": "stream",
          "name": "stderr",
          "text": [
            "Train: 100%|██████████| 813/813 [00:28<00:00, 28.40it/s]\n",
            "Eval : 100%|██████████| 63/63 [00:01<00:00, 37.10it/s]\n",
            "Epoch 1358\n"
          ]
        },
        {
          "output_type": "stream",
          "name": "stdout",
          "text": [
            "107.767\n"
          ]
        },
        {
          "output_type": "stream",
          "name": "stderr",
          "text": [
            "Train: 100%|██████████| 813/813 [00:22<00:00, 35.82it/s]\n",
            "Eval : 100%|██████████| 63/63 [00:01<00:00, 36.52it/s]\n",
            "Epoch 1359\n"
          ]
        },
        {
          "output_type": "stream",
          "name": "stdout",
          "text": [
            "108.505\n"
          ]
        },
        {
          "output_type": "stream",
          "name": "stderr",
          "text": [
            "Train: 100%|██████████| 813/813 [00:28<00:00, 28.44it/s]\n",
            "Eval : 100%|██████████| 63/63 [00:01<00:00, 36.35it/s]\n",
            "Epoch 1360\n"
          ]
        },
        {
          "output_type": "stream",
          "name": "stdout",
          "text": [
            "108.505\n"
          ]
        },
        {
          "output_type": "stream",
          "name": "stderr",
          "text": [
            "Train: 100%|██████████| 813/813 [00:22<00:00, 35.72it/s]\n",
            "Eval : 100%|██████████| 63/63 [00:01<00:00, 36.59it/s]\n",
            "Epoch 1361\n"
          ]
        },
        {
          "output_type": "stream",
          "name": "stdout",
          "text": [
            "107.908\n"
          ]
        },
        {
          "output_type": "stream",
          "name": "stderr",
          "text": [
            "Train: 100%|██████████| 813/813 [00:28<00:00, 28.60it/s]\n",
            "Eval : 100%|██████████| 63/63 [00:01<00:00, 36.91it/s]\n",
            "Epoch 1362\n"
          ]
        },
        {
          "output_type": "stream",
          "name": "stdout",
          "text": [
            "107.908\n"
          ]
        },
        {
          "output_type": "stream",
          "name": "stderr",
          "text": [
            "Train: 100%|██████████| 813/813 [00:22<00:00, 35.94it/s]\n",
            "Eval : 100%|██████████| 63/63 [00:01<00:00, 36.78it/s]\n",
            "Epoch 1363\n"
          ]
        },
        {
          "output_type": "stream",
          "name": "stdout",
          "text": [
            "107.698\n"
          ]
        },
        {
          "output_type": "stream",
          "name": "stderr",
          "text": [
            "Train: 100%|██████████| 813/813 [00:28<00:00, 28.54it/s]\n",
            "Eval : 100%|██████████| 63/63 [00:01<00:00, 37.14it/s]\n",
            "Epoch 1364\n"
          ]
        },
        {
          "output_type": "stream",
          "name": "stdout",
          "text": [
            "107.698\n"
          ]
        },
        {
          "output_type": "stream",
          "name": "stderr",
          "text": [
            "Train: 100%|██████████| 813/813 [00:22<00:00, 35.85it/s]\n",
            "Eval : 100%|██████████| 63/63 [00:01<00:00, 36.54it/s]\n",
            "Epoch 1365\n"
          ]
        },
        {
          "output_type": "stream",
          "name": "stdout",
          "text": [
            "107.313\n"
          ]
        },
        {
          "output_type": "stream",
          "name": "stderr",
          "text": [
            "Train: 100%|██████████| 813/813 [00:28<00:00, 28.49it/s]\n",
            "Eval : 100%|██████████| 63/63 [00:01<00:00, 35.33it/s]\n",
            "Epoch 1366\n"
          ]
        },
        {
          "output_type": "stream",
          "name": "stdout",
          "text": [
            "107.313\n"
          ]
        },
        {
          "output_type": "stream",
          "name": "stderr",
          "text": [
            "Train: 100%|██████████| 813/813 [00:22<00:00, 35.70it/s]\n",
            "Eval : 100%|██████████| 63/63 [00:01<00:00, 36.29it/s]\n",
            "Epoch 1367\n"
          ]
        },
        {
          "output_type": "stream",
          "name": "stdout",
          "text": [
            "108.313\n"
          ]
        },
        {
          "output_type": "stream",
          "name": "stderr",
          "text": [
            "Train: 100%|██████████| 813/813 [00:28<00:00, 28.34it/s]\n",
            "Eval : 100%|██████████| 63/63 [00:01<00:00, 37.05it/s]\n",
            "Epoch 1368\n"
          ]
        },
        {
          "output_type": "stream",
          "name": "stdout",
          "text": [
            "108.313\n"
          ]
        },
        {
          "output_type": "stream",
          "name": "stderr",
          "text": [
            "Train: 100%|██████████| 813/813 [00:22<00:00, 35.74it/s]\n",
            "Eval : 100%|██████████| 63/63 [00:01<00:00, 37.40it/s]\n",
            "Epoch 1369\n"
          ]
        },
        {
          "output_type": "stream",
          "name": "stdout",
          "text": [
            "108.076\n"
          ]
        },
        {
          "output_type": "stream",
          "name": "stderr",
          "text": [
            "Train: 100%|██████████| 813/813 [00:28<00:00, 28.30it/s]\n",
            "Eval : 100%|██████████| 63/63 [00:01<00:00, 36.87it/s]\n",
            "Epoch 1370\n"
          ]
        },
        {
          "output_type": "stream",
          "name": "stdout",
          "text": [
            "108.076\n"
          ]
        },
        {
          "output_type": "stream",
          "name": "stderr",
          "text": [
            "Train: 100%|██████████| 813/813 [00:22<00:00, 35.52it/s]\n",
            "Eval : 100%|██████████| 63/63 [00:01<00:00, 36.82it/s]\n",
            "Epoch 1371\n"
          ]
        },
        {
          "output_type": "stream",
          "name": "stdout",
          "text": [
            "108.111\n"
          ]
        },
        {
          "output_type": "stream",
          "name": "stderr",
          "text": [
            "Train: 100%|██████████| 813/813 [00:28<00:00, 28.31it/s]\n",
            "Eval : 100%|██████████| 63/63 [00:01<00:00, 36.62it/s]\n",
            "Epoch 1372\n"
          ]
        },
        {
          "output_type": "stream",
          "name": "stdout",
          "text": [
            "108.111\n"
          ]
        },
        {
          "output_type": "stream",
          "name": "stderr",
          "text": [
            "Train: 100%|██████████| 813/813 [00:22<00:00, 35.74it/s]\n",
            "Eval : 100%|██████████| 63/63 [00:01<00:00, 37.60it/s]\n",
            "Epoch 1373\n"
          ]
        },
        {
          "output_type": "stream",
          "name": "stdout",
          "text": [
            "108.326\n"
          ]
        },
        {
          "output_type": "stream",
          "name": "stderr",
          "text": [
            "Train: 100%|██████████| 813/813 [00:28<00:00, 28.60it/s]\n",
            "Eval : 100%|██████████| 63/63 [00:01<00:00, 37.04it/s]\n",
            "Epoch 1374\n"
          ]
        },
        {
          "output_type": "stream",
          "name": "stdout",
          "text": [
            "108.326\n"
          ]
        },
        {
          "output_type": "stream",
          "name": "stderr",
          "text": [
            "Train: 100%|██████████| 813/813 [00:22<00:00, 35.53it/s]\n",
            "Eval : 100%|██████████| 63/63 [00:01<00:00, 35.45it/s]\n",
            "Epoch 1375\n"
          ]
        },
        {
          "output_type": "stream",
          "name": "stdout",
          "text": [
            "107.605\n"
          ]
        },
        {
          "output_type": "stream",
          "name": "stderr",
          "text": [
            "Train: 100%|██████████| 813/813 [00:28<00:00, 28.43it/s]\n",
            "Eval : 100%|██████████| 63/63 [00:01<00:00, 36.84it/s]\n",
            "Epoch 1376\n"
          ]
        },
        {
          "output_type": "stream",
          "name": "stdout",
          "text": [
            "107.605\n"
          ]
        },
        {
          "output_type": "stream",
          "name": "stderr",
          "text": [
            "Train: 100%|██████████| 813/813 [00:22<00:00, 35.82it/s]\n",
            "Eval : 100%|██████████| 63/63 [00:01<00:00, 36.46it/s]\n",
            "Epoch 1377\n"
          ]
        },
        {
          "output_type": "stream",
          "name": "stdout",
          "text": [
            "107.113\n"
          ]
        },
        {
          "output_type": "stream",
          "name": "stderr",
          "text": [
            "Train: 100%|██████████| 813/813 [00:28<00:00, 28.32it/s]\n",
            "Eval : 100%|██████████| 63/63 [00:01<00:00, 36.27it/s]\n",
            "Epoch 1378\n"
          ]
        },
        {
          "output_type": "stream",
          "name": "stdout",
          "text": [
            "107.113\n"
          ]
        },
        {
          "output_type": "stream",
          "name": "stderr",
          "text": [
            "Train: 100%|██████████| 813/813 [00:22<00:00, 35.88it/s]\n",
            "Eval : 100%|██████████| 63/63 [00:01<00:00, 35.42it/s]\n",
            "Epoch 1379\n"
          ]
        },
        {
          "output_type": "stream",
          "name": "stdout",
          "text": [
            "107.349\n"
          ]
        },
        {
          "output_type": "stream",
          "name": "stderr",
          "text": [
            "Train: 100%|██████████| 813/813 [00:29<00:00, 27.90it/s]\n",
            "Eval : 100%|██████████| 63/63 [00:01<00:00, 36.34it/s]\n",
            "Epoch 1380\n"
          ]
        },
        {
          "output_type": "stream",
          "name": "stdout",
          "text": [
            "107.349\n"
          ]
        },
        {
          "output_type": "stream",
          "name": "stderr",
          "text": [
            "Train: 100%|██████████| 813/813 [00:23<00:00, 35.24it/s]\n",
            "Eval : 100%|██████████| 63/63 [00:01<00:00, 35.91it/s]\n",
            "Epoch 1381\n"
          ]
        },
        {
          "output_type": "stream",
          "name": "stdout",
          "text": [
            "107.77\n"
          ]
        },
        {
          "output_type": "stream",
          "name": "stderr",
          "text": [
            "Train: 100%|██████████| 813/813 [00:28<00:00, 28.19it/s]\n",
            "Eval : 100%|██████████| 63/63 [00:01<00:00, 36.82it/s]\n",
            "Epoch 1382\n"
          ]
        },
        {
          "output_type": "stream",
          "name": "stdout",
          "text": [
            "107.77\n"
          ]
        },
        {
          "output_type": "stream",
          "name": "stderr",
          "text": [
            "Train: 100%|██████████| 813/813 [00:22<00:00, 35.57it/s]\n",
            "Eval : 100%|██████████| 63/63 [00:01<00:00, 36.40it/s]\n",
            "Epoch 1383\n"
          ]
        },
        {
          "output_type": "stream",
          "name": "stdout",
          "text": [
            "107.278\n"
          ]
        },
        {
          "output_type": "stream",
          "name": "stderr",
          "text": [
            "Train: 100%|██████████| 813/813 [00:28<00:00, 28.24it/s]\n",
            "Eval : 100%|██████████| 63/63 [00:01<00:00, 36.50it/s]\n",
            "Epoch 1384\n"
          ]
        },
        {
          "output_type": "stream",
          "name": "stdout",
          "text": [
            "107.278\n"
          ]
        },
        {
          "output_type": "stream",
          "name": "stderr",
          "text": [
            "Train: 100%|██████████| 813/813 [00:23<00:00, 35.32it/s]\n",
            "Eval : 100%|██████████| 63/63 [00:01<00:00, 36.93it/s]\n",
            "Epoch 1385\n"
          ]
        },
        {
          "output_type": "stream",
          "name": "stdout",
          "text": [
            "108.72\n"
          ]
        },
        {
          "output_type": "stream",
          "name": "stderr",
          "text": [
            "Train: 100%|██████████| 813/813 [00:28<00:00, 28.09it/s]\n",
            "Eval : 100%|██████████| 63/63 [00:01<00:00, 36.69it/s]\n",
            "Epoch 1386\n"
          ]
        },
        {
          "output_type": "stream",
          "name": "stdout",
          "text": [
            "108.72\n"
          ]
        },
        {
          "output_type": "stream",
          "name": "stderr",
          "text": [
            "Train: 100%|██████████| 813/813 [00:22<00:00, 35.62it/s]\n",
            "Eval : 100%|██████████| 63/63 [00:01<00:00, 36.42it/s]\n",
            "Epoch 1387\n"
          ]
        },
        {
          "output_type": "stream",
          "name": "stdout",
          "text": [
            "108.438\n"
          ]
        },
        {
          "output_type": "stream",
          "name": "stderr",
          "text": [
            "Train: 100%|██████████| 813/813 [00:28<00:00, 28.63it/s]\n",
            "Eval : 100%|██████████| 63/63 [00:01<00:00, 36.04it/s]\n",
            "Epoch 1388\n"
          ]
        },
        {
          "output_type": "stream",
          "name": "stdout",
          "text": [
            "108.438\n"
          ]
        },
        {
          "output_type": "stream",
          "name": "stderr",
          "text": [
            "Train: 100%|██████████| 813/813 [00:22<00:00, 35.51it/s]\n",
            "Eval : 100%|██████████| 63/63 [00:01<00:00, 36.51it/s]\n",
            "Epoch 1389\n"
          ]
        },
        {
          "output_type": "stream",
          "name": "stdout",
          "text": [
            "108.208\n"
          ]
        },
        {
          "output_type": "stream",
          "name": "stderr",
          "text": [
            "Train: 100%|██████████| 813/813 [00:28<00:00, 28.18it/s]\n",
            "Eval : 100%|██████████| 63/63 [00:01<00:00, 36.41it/s]\n",
            "Epoch 1390\n"
          ]
        },
        {
          "output_type": "stream",
          "name": "stdout",
          "text": [
            "108.208\n"
          ]
        },
        {
          "output_type": "stream",
          "name": "stderr",
          "text": [
            "Train: 100%|██████████| 813/813 [00:22<00:00, 35.65it/s]\n",
            "Eval : 100%|██████████| 63/63 [00:01<00:00, 35.59it/s]\n",
            "Epoch 1391\n"
          ]
        },
        {
          "output_type": "stream",
          "name": "stdout",
          "text": [
            "108.386\n"
          ]
        },
        {
          "output_type": "stream",
          "name": "stderr",
          "text": [
            "Train: 100%|██████████| 813/813 [00:28<00:00, 28.64it/s]\n",
            "Eval : 100%|██████████| 63/63 [00:01<00:00, 36.81it/s]\n",
            "Epoch 1392\n"
          ]
        },
        {
          "output_type": "stream",
          "name": "stdout",
          "text": [
            "108.386\n"
          ]
        },
        {
          "output_type": "stream",
          "name": "stderr",
          "text": [
            "Train: 100%|██████████| 813/813 [00:22<00:00, 35.52it/s]\n",
            "Eval : 100%|██████████| 63/63 [00:01<00:00, 36.67it/s]\n",
            "Epoch 1393\n"
          ]
        },
        {
          "output_type": "stream",
          "name": "stdout",
          "text": [
            "107.515\n"
          ]
        },
        {
          "output_type": "stream",
          "name": "stderr",
          "text": [
            "Train: 100%|██████████| 813/813 [00:28<00:00, 28.36it/s]\n",
            "Eval : 100%|██████████| 63/63 [00:01<00:00, 36.83it/s]\n",
            "Epoch 1394\n"
          ]
        },
        {
          "output_type": "stream",
          "name": "stdout",
          "text": [
            "107.515\n"
          ]
        },
        {
          "output_type": "stream",
          "name": "stderr",
          "text": [
            "Train: 100%|██████████| 813/813 [00:22<00:00, 35.46it/s]\n",
            "Eval : 100%|██████████| 63/63 [00:01<00:00, 36.25it/s]\n",
            "Epoch 1395\n"
          ]
        },
        {
          "output_type": "stream",
          "name": "stdout",
          "text": [
            "107.593\n"
          ]
        },
        {
          "output_type": "stream",
          "name": "stderr",
          "text": [
            "Train: 100%|██████████| 813/813 [00:28<00:00, 28.30it/s]\n",
            "Eval : 100%|██████████| 63/63 [00:01<00:00, 36.19it/s]\n",
            "Epoch 1396\n"
          ]
        },
        {
          "output_type": "stream",
          "name": "stdout",
          "text": [
            "107.593\n"
          ]
        },
        {
          "output_type": "stream",
          "name": "stderr",
          "text": [
            "Train: 100%|██████████| 813/813 [00:23<00:00, 35.30it/s]\n",
            "Eval : 100%|██████████| 63/63 [00:01<00:00, 34.34it/s]\n",
            "Epoch 1397\n"
          ]
        },
        {
          "output_type": "stream",
          "name": "stdout",
          "text": [
            "108.776\n"
          ]
        },
        {
          "output_type": "stream",
          "name": "stderr",
          "text": [
            "Train: 100%|██████████| 813/813 [00:28<00:00, 28.06it/s]\n",
            "Eval : 100%|██████████| 63/63 [00:01<00:00, 36.09it/s]\n",
            "Epoch 1398\n"
          ]
        },
        {
          "output_type": "stream",
          "name": "stdout",
          "text": [
            "108.776\n"
          ]
        },
        {
          "output_type": "stream",
          "name": "stderr",
          "text": [
            "Train: 100%|██████████| 813/813 [00:22<00:00, 35.68it/s]\n",
            "Eval : 100%|██████████| 63/63 [00:01<00:00, 36.81it/s]\n",
            "Epoch 1399\n"
          ]
        },
        {
          "output_type": "stream",
          "name": "stdout",
          "text": [
            "107.379\n"
          ]
        },
        {
          "output_type": "stream",
          "name": "stderr",
          "text": [
            "Train: 100%|██████████| 813/813 [00:28<00:00, 28.17it/s]\n",
            "Eval : 100%|██████████| 63/63 [00:01<00:00, 36.49it/s]\n",
            "Epoch 1400\n"
          ]
        },
        {
          "output_type": "stream",
          "name": "stdout",
          "text": [
            "107.379\n"
          ]
        },
        {
          "output_type": "stream",
          "name": "stderr",
          "text": [
            "Train: 100%|██████████| 813/813 [00:22<00:00, 35.70it/s]\n",
            "Eval : 100%|██████████| 63/63 [00:01<00:00, 37.03it/s]\n",
            "Epoch 1401\n"
          ]
        },
        {
          "output_type": "stream",
          "name": "stdout",
          "text": [
            "108.392\n"
          ]
        },
        {
          "output_type": "stream",
          "name": "stderr",
          "text": [
            "Train: 100%|██████████| 813/813 [00:28<00:00, 28.20it/s]\n",
            "Eval : 100%|██████████| 63/63 [00:01<00:00, 36.64it/s]\n",
            "Epoch 1402\n"
          ]
        },
        {
          "output_type": "stream",
          "name": "stdout",
          "text": [
            "108.392\n"
          ]
        },
        {
          "output_type": "stream",
          "name": "stderr",
          "text": [
            "Train: 100%|██████████| 813/813 [00:22<00:00, 35.74it/s]\n",
            "Eval : 100%|██████████| 63/63 [00:01<00:00, 36.70it/s]\n",
            "Epoch 1403\n"
          ]
        },
        {
          "output_type": "stream",
          "name": "stdout",
          "text": [
            "107.598\n"
          ]
        },
        {
          "output_type": "stream",
          "name": "stderr",
          "text": [
            "Train: 100%|██████████| 813/813 [00:28<00:00, 28.50it/s]\n",
            "Eval : 100%|██████████| 63/63 [00:01<00:00, 34.59it/s]\n",
            "Epoch 1404\n"
          ]
        },
        {
          "output_type": "stream",
          "name": "stdout",
          "text": [
            "107.598\n"
          ]
        },
        {
          "output_type": "stream",
          "name": "stderr",
          "text": [
            "Train: 100%|██████████| 813/813 [00:22<00:00, 35.82it/s]\n",
            "Eval : 100%|██████████| 63/63 [00:01<00:00, 37.19it/s]\n",
            "Epoch 1405\n"
          ]
        },
        {
          "output_type": "stream",
          "name": "stdout",
          "text": [
            "108.076\n"
          ]
        },
        {
          "output_type": "stream",
          "name": "stderr",
          "text": [
            "Train: 100%|██████████| 813/813 [00:28<00:00, 28.52it/s]\n",
            "Eval : 100%|██████████| 63/63 [00:01<00:00, 37.13it/s]\n",
            "Epoch 1406\n"
          ]
        },
        {
          "output_type": "stream",
          "name": "stdout",
          "text": [
            "108.076\n"
          ]
        },
        {
          "output_type": "stream",
          "name": "stderr",
          "text": [
            "Train: 100%|██████████| 813/813 [00:22<00:00, 35.89it/s]\n",
            "Eval : 100%|██████████| 63/63 [00:01<00:00, 36.96it/s]\n",
            "Epoch 1407\n"
          ]
        },
        {
          "output_type": "stream",
          "name": "stdout",
          "text": [
            "107.712\n"
          ]
        },
        {
          "output_type": "stream",
          "name": "stderr",
          "text": [
            "Train: 100%|██████████| 813/813 [00:28<00:00, 28.56it/s]\n",
            "Eval : 100%|██████████| 63/63 [00:01<00:00, 36.06it/s]\n",
            "Epoch 1408\n"
          ]
        },
        {
          "output_type": "stream",
          "name": "stdout",
          "text": [
            "107.712\n"
          ]
        },
        {
          "output_type": "stream",
          "name": "stderr",
          "text": [
            "Train: 100%|██████████| 813/813 [00:22<00:00, 35.61it/s]\n",
            "Eval : 100%|██████████| 63/63 [00:01<00:00, 36.66it/s]\n",
            "Epoch 1409\n"
          ]
        },
        {
          "output_type": "stream",
          "name": "stdout",
          "text": [
            "107.953\n"
          ]
        },
        {
          "output_type": "stream",
          "name": "stderr",
          "text": [
            "Train: 100%|██████████| 813/813 [00:28<00:00, 28.60it/s]\n",
            "Eval : 100%|██████████| 63/63 [00:01<00:00, 36.95it/s]\n",
            "Epoch 1410\n"
          ]
        },
        {
          "output_type": "stream",
          "name": "stdout",
          "text": [
            "107.953\n"
          ]
        },
        {
          "output_type": "stream",
          "name": "stderr",
          "text": [
            "Train: 100%|██████████| 813/813 [00:22<00:00, 35.56it/s]\n",
            "Eval : 100%|██████████| 63/63 [00:01<00:00, 36.74it/s]\n",
            "Epoch 1411\n"
          ]
        },
        {
          "output_type": "stream",
          "name": "stdout",
          "text": [
            "108.046\n"
          ]
        },
        {
          "output_type": "stream",
          "name": "stderr",
          "text": [
            "Train: 100%|██████████| 813/813 [00:28<00:00, 28.89it/s]\n",
            "Eval : 100%|██████████| 63/63 [00:01<00:00, 37.02it/s]\n",
            "Epoch 1412\n"
          ]
        },
        {
          "output_type": "stream",
          "name": "stdout",
          "text": [
            "108.046\n"
          ]
        },
        {
          "output_type": "stream",
          "name": "stderr",
          "text": [
            "Train: 100%|██████████| 813/813 [00:22<00:00, 35.41it/s]\n",
            "Eval : 100%|██████████| 63/63 [00:01<00:00, 36.20it/s]\n",
            "Epoch 1413\n"
          ]
        },
        {
          "output_type": "stream",
          "name": "stdout",
          "text": [
            "108.52\n"
          ]
        },
        {
          "output_type": "stream",
          "name": "stderr",
          "text": [
            "Train: 100%|██████████| 813/813 [00:28<00:00, 28.49it/s]\n",
            "Eval : 100%|██████████| 63/63 [00:01<00:00, 36.89it/s]\n",
            "Epoch 1414\n"
          ]
        },
        {
          "output_type": "stream",
          "name": "stdout",
          "text": [
            "108.52\n"
          ]
        },
        {
          "output_type": "stream",
          "name": "stderr",
          "text": [
            "Train: 100%|██████████| 813/813 [00:22<00:00, 35.77it/s]\n",
            "Eval : 100%|██████████| 63/63 [00:01<00:00, 36.74it/s]\n",
            "Epoch 1415\n"
          ]
        },
        {
          "output_type": "stream",
          "name": "stdout",
          "text": [
            "108.316\n"
          ]
        },
        {
          "output_type": "stream",
          "name": "stderr",
          "text": [
            "Train: 100%|██████████| 813/813 [00:28<00:00, 28.61it/s]\n",
            "Eval : 100%|██████████| 63/63 [00:01<00:00, 37.07it/s]\n",
            "Epoch 1416\n"
          ]
        },
        {
          "output_type": "stream",
          "name": "stdout",
          "text": [
            "108.316\n"
          ]
        },
        {
          "output_type": "stream",
          "name": "stderr",
          "text": [
            "Train: 100%|██████████| 813/813 [00:22<00:00, 35.61it/s]\n",
            "Eval : 100%|██████████| 63/63 [00:01<00:00, 36.49it/s]\n",
            "Epoch 1417\n"
          ]
        },
        {
          "output_type": "stream",
          "name": "stdout",
          "text": [
            "108.066\n"
          ]
        },
        {
          "output_type": "stream",
          "name": "stderr",
          "text": [
            "Train: 100%|██████████| 813/813 [00:28<00:00, 28.53it/s]\n",
            "Eval : 100%|██████████| 63/63 [00:01<00:00, 37.11it/s]\n",
            "Epoch 1418\n"
          ]
        },
        {
          "output_type": "stream",
          "name": "stdout",
          "text": [
            "108.066\n"
          ]
        },
        {
          "output_type": "stream",
          "name": "stderr",
          "text": [
            "Train: 100%|██████████| 813/813 [00:22<00:00, 35.77it/s]\n",
            "Eval : 100%|██████████| 63/63 [00:01<00:00, 36.37it/s]\n",
            "Epoch 1419\n"
          ]
        },
        {
          "output_type": "stream",
          "name": "stdout",
          "text": [
            "108.207\n"
          ]
        },
        {
          "output_type": "stream",
          "name": "stderr",
          "text": [
            "Train: 100%|██████████| 813/813 [00:28<00:00, 28.11it/s]\n",
            "Eval : 100%|██████████| 63/63 [00:01<00:00, 36.95it/s]\n",
            "Epoch 1420\n"
          ]
        },
        {
          "output_type": "stream",
          "name": "stdout",
          "text": [
            "108.207\n"
          ]
        },
        {
          "output_type": "stream",
          "name": "stderr",
          "text": [
            "Train: 100%|██████████| 813/813 [00:22<00:00, 35.86it/s]\n",
            "Eval : 100%|██████████| 63/63 [00:01<00:00, 36.82it/s]\n",
            "Epoch 1421\n"
          ]
        },
        {
          "output_type": "stream",
          "name": "stdout",
          "text": [
            "107.968\n"
          ]
        },
        {
          "output_type": "stream",
          "name": "stderr",
          "text": [
            "Train: 100%|██████████| 813/813 [00:28<00:00, 28.48it/s]\n",
            "Eval : 100%|██████████| 63/63 [00:01<00:00, 37.50it/s]\n",
            "Epoch 1422\n"
          ]
        },
        {
          "output_type": "stream",
          "name": "stdout",
          "text": [
            "107.968\n"
          ]
        },
        {
          "output_type": "stream",
          "name": "stderr",
          "text": [
            "Train: 100%|██████████| 813/813 [00:22<00:00, 35.79it/s]\n",
            "Eval : 100%|██████████| 63/63 [00:01<00:00, 36.26it/s]\n",
            "Epoch 1423\n"
          ]
        },
        {
          "output_type": "stream",
          "name": "stdout",
          "text": [
            "108.237\n"
          ]
        },
        {
          "output_type": "stream",
          "name": "stderr",
          "text": [
            "Train: 100%|██████████| 813/813 [00:28<00:00, 28.29it/s]\n",
            "Eval : 100%|██████████| 63/63 [00:01<00:00, 36.85it/s]\n",
            "Epoch 1424\n"
          ]
        },
        {
          "output_type": "stream",
          "name": "stdout",
          "text": [
            "108.237\n"
          ]
        },
        {
          "output_type": "stream",
          "name": "stderr",
          "text": [
            "Train: 100%|██████████| 813/813 [00:22<00:00, 35.73it/s]\n",
            "Eval : 100%|██████████| 63/63 [00:01<00:00, 35.67it/s]\n",
            "Epoch 1425\n"
          ]
        },
        {
          "output_type": "stream",
          "name": "stdout",
          "text": [
            "107.639\n"
          ]
        },
        {
          "output_type": "stream",
          "name": "stderr",
          "text": [
            "Train: 100%|██████████| 813/813 [00:28<00:00, 28.35it/s]\n",
            "Eval : 100%|██████████| 63/63 [00:01<00:00, 36.84it/s]\n",
            "Epoch 1426\n"
          ]
        },
        {
          "output_type": "stream",
          "name": "stdout",
          "text": [
            "107.639\n"
          ]
        },
        {
          "output_type": "stream",
          "name": "stderr",
          "text": [
            "Train: 100%|██████████| 813/813 [00:22<00:00, 35.85it/s]\n",
            "Eval : 100%|██████████| 63/63 [00:01<00:00, 36.64it/s]\n",
            "Epoch 1427\n"
          ]
        },
        {
          "output_type": "stream",
          "name": "stdout",
          "text": [
            "107.702\n"
          ]
        },
        {
          "output_type": "stream",
          "name": "stderr",
          "text": [
            "Train: 100%|██████████| 813/813 [00:28<00:00, 28.25it/s]\n",
            "Eval : 100%|██████████| 63/63 [00:01<00:00, 36.21it/s]\n",
            "Epoch 1428\n"
          ]
        },
        {
          "output_type": "stream",
          "name": "stdout",
          "text": [
            "107.702\n"
          ]
        },
        {
          "output_type": "stream",
          "name": "stderr",
          "text": [
            "Train: 100%|██████████| 813/813 [00:22<00:00, 35.80it/s]\n",
            "Eval : 100%|██████████| 63/63 [00:01<00:00, 36.93it/s]\n",
            "Epoch 1429\n"
          ]
        },
        {
          "output_type": "stream",
          "name": "stdout",
          "text": [
            "108.179\n"
          ]
        },
        {
          "output_type": "stream",
          "name": "stderr",
          "text": [
            "Train: 100%|██████████| 813/813 [00:28<00:00, 28.55it/s]\n",
            "Eval : 100%|██████████| 63/63 [00:01<00:00, 36.66it/s]\n",
            "Epoch 1430\n"
          ]
        },
        {
          "output_type": "stream",
          "name": "stdout",
          "text": [
            "108.179\n"
          ]
        },
        {
          "output_type": "stream",
          "name": "stderr",
          "text": [
            "Train: 100%|██████████| 813/813 [00:22<00:00, 35.38it/s]\n",
            "Eval : 100%|██████████| 63/63 [00:01<00:00, 36.51it/s]\n",
            "Epoch 1431\n"
          ]
        },
        {
          "output_type": "stream",
          "name": "stdout",
          "text": [
            "107.484\n"
          ]
        },
        {
          "output_type": "stream",
          "name": "stderr",
          "text": [
            "Train: 100%|██████████| 813/813 [00:28<00:00, 28.35it/s]\n",
            "Eval : 100%|██████████| 63/63 [00:01<00:00, 36.83it/s]\n",
            "Epoch 1432\n"
          ]
        },
        {
          "output_type": "stream",
          "name": "stdout",
          "text": [
            "107.484\n"
          ]
        },
        {
          "output_type": "stream",
          "name": "stderr",
          "text": [
            "Train: 100%|██████████| 813/813 [00:23<00:00, 34.84it/s]\n",
            "Eval : 100%|██████████| 63/63 [00:01<00:00, 36.79it/s]\n",
            "Epoch 1433\n"
          ]
        },
        {
          "output_type": "stream",
          "name": "stdout",
          "text": [
            "107.631\n"
          ]
        },
        {
          "output_type": "stream",
          "name": "stderr",
          "text": [
            "Train: 100%|██████████| 813/813 [00:28<00:00, 28.44it/s]\n",
            "Eval : 100%|██████████| 63/63 [00:01<00:00, 36.76it/s]\n",
            "Epoch 1434\n"
          ]
        },
        {
          "output_type": "stream",
          "name": "stdout",
          "text": [
            "107.631\n"
          ]
        },
        {
          "output_type": "stream",
          "name": "stderr",
          "text": [
            "Train: 100%|██████████| 813/813 [00:23<00:00, 35.31it/s]\n",
            "Eval : 100%|██████████| 63/63 [00:01<00:00, 36.74it/s]\n",
            "Epoch 1435\n"
          ]
        },
        {
          "output_type": "stream",
          "name": "stdout",
          "text": [
            "106.945\n"
          ]
        },
        {
          "output_type": "stream",
          "name": "stderr",
          "text": [
            "Train: 100%|██████████| 813/813 [00:28<00:00, 28.52it/s]\n",
            "Eval : 100%|██████████| 63/63 [00:01<00:00, 36.48it/s]\n",
            "Epoch 1436\n"
          ]
        },
        {
          "output_type": "stream",
          "name": "stdout",
          "text": [
            "106.945\n"
          ]
        },
        {
          "output_type": "stream",
          "name": "stderr",
          "text": [
            "Train: 100%|██████████| 813/813 [00:22<00:00, 35.54it/s]\n",
            "Eval : 100%|██████████| 63/63 [00:01<00:00, 36.65it/s]\n",
            "Epoch 1437\n"
          ]
        },
        {
          "output_type": "stream",
          "name": "stdout",
          "text": [
            "107.941\n"
          ]
        },
        {
          "output_type": "stream",
          "name": "stderr",
          "text": [
            "Train: 100%|██████████| 813/813 [00:28<00:00, 28.74it/s]\n",
            "Eval : 100%|██████████| 63/63 [00:01<00:00, 36.73it/s]\n",
            "Epoch 1438\n"
          ]
        },
        {
          "output_type": "stream",
          "name": "stdout",
          "text": [
            "107.941\n"
          ]
        },
        {
          "output_type": "stream",
          "name": "stderr",
          "text": [
            "Train: 100%|██████████| 813/813 [00:22<00:00, 35.75it/s]\n",
            "Eval : 100%|██████████| 63/63 [00:01<00:00, 36.66it/s]\n",
            "Epoch 1439\n"
          ]
        },
        {
          "output_type": "stream",
          "name": "stdout",
          "text": [
            "108.375\n"
          ]
        },
        {
          "output_type": "stream",
          "name": "stderr",
          "text": [
            "Train: 100%|██████████| 813/813 [00:28<00:00, 28.35it/s]\n",
            "Eval : 100%|██████████| 63/63 [00:01<00:00, 36.89it/s]\n",
            "Epoch 1440\n"
          ]
        },
        {
          "output_type": "stream",
          "name": "stdout",
          "text": [
            "108.375\n"
          ]
        },
        {
          "output_type": "stream",
          "name": "stderr",
          "text": [
            "Train: 100%|██████████| 813/813 [00:22<00:00, 35.86it/s]\n",
            "Eval : 100%|██████████| 63/63 [00:01<00:00, 37.04it/s]\n",
            "Epoch 1441\n"
          ]
        },
        {
          "output_type": "stream",
          "name": "stdout",
          "text": [
            "107.486\n"
          ]
        },
        {
          "output_type": "stream",
          "name": "stderr",
          "text": [
            "Train: 100%|██████████| 813/813 [00:28<00:00, 28.51it/s]\n",
            "Eval : 100%|██████████| 63/63 [00:01<00:00, 35.92it/s]\n",
            "Epoch 1442\n"
          ]
        },
        {
          "output_type": "stream",
          "name": "stdout",
          "text": [
            "107.486\n"
          ]
        },
        {
          "output_type": "stream",
          "name": "stderr",
          "text": [
            "Train: 100%|██████████| 813/813 [00:22<00:00, 35.59it/s]\n",
            "Eval : 100%|██████████| 63/63 [00:01<00:00, 36.79it/s]\n",
            "Epoch 1443\n"
          ]
        },
        {
          "output_type": "stream",
          "name": "stdout",
          "text": [
            "108.831\n"
          ]
        },
        {
          "output_type": "stream",
          "name": "stderr",
          "text": [
            "Train: 100%|██████████| 813/813 [00:28<00:00, 28.42it/s]\n",
            "Eval : 100%|██████████| 63/63 [00:01<00:00, 36.96it/s]\n",
            "Epoch 1444\n"
          ]
        },
        {
          "output_type": "stream",
          "name": "stdout",
          "text": [
            "108.831\n"
          ]
        },
        {
          "output_type": "stream",
          "name": "stderr",
          "text": [
            "Train: 100%|██████████| 813/813 [00:22<00:00, 35.86it/s]\n",
            "Eval : 100%|██████████| 63/63 [00:01<00:00, 36.12it/s]\n",
            "Epoch 1445\n"
          ]
        },
        {
          "output_type": "stream",
          "name": "stdout",
          "text": [
            "108.271\n"
          ]
        },
        {
          "output_type": "stream",
          "name": "stderr",
          "text": [
            "Train: 100%|██████████| 813/813 [00:28<00:00, 28.24it/s]\n",
            "Eval : 100%|██████████| 63/63 [00:01<00:00, 35.81it/s]\n",
            "Epoch 1446\n"
          ]
        },
        {
          "output_type": "stream",
          "name": "stdout",
          "text": [
            "108.271\n"
          ]
        },
        {
          "output_type": "stream",
          "name": "stderr",
          "text": [
            "Train: 100%|██████████| 813/813 [00:22<00:00, 35.77it/s]\n",
            "Eval : 100%|██████████| 63/63 [00:01<00:00, 35.97it/s]\n",
            "Epoch 1447\n"
          ]
        },
        {
          "output_type": "stream",
          "name": "stdout",
          "text": [
            "108.239\n"
          ]
        },
        {
          "output_type": "stream",
          "name": "stderr",
          "text": [
            "Train: 100%|██████████| 813/813 [00:28<00:00, 28.33it/s]\n",
            "Eval : 100%|██████████| 63/63 [00:01<00:00, 36.63it/s]\n",
            "Epoch 1448\n"
          ]
        },
        {
          "output_type": "stream",
          "name": "stdout",
          "text": [
            "108.239\n"
          ]
        },
        {
          "output_type": "stream",
          "name": "stderr",
          "text": [
            "Train: 100%|██████████| 813/813 [00:22<00:00, 35.54it/s]\n",
            "Eval : 100%|██████████| 63/63 [00:01<00:00, 35.87it/s]\n",
            "Epoch 1449\n"
          ]
        },
        {
          "output_type": "stream",
          "name": "stdout",
          "text": [
            "108.477\n"
          ]
        },
        {
          "output_type": "stream",
          "name": "stderr",
          "text": [
            "Train: 100%|██████████| 813/813 [00:29<00:00, 28.02it/s]\n",
            "Eval : 100%|██████████| 63/63 [00:01<00:00, 36.34it/s]\n",
            "Epoch 1450\n"
          ]
        },
        {
          "output_type": "stream",
          "name": "stdout",
          "text": [
            "108.477\n"
          ]
        },
        {
          "output_type": "stream",
          "name": "stderr",
          "text": [
            "Train: 100%|██████████| 813/813 [00:22<00:00, 35.75it/s]\n",
            "Eval : 100%|██████████| 63/63 [00:01<00:00, 36.87it/s]\n",
            "Epoch 1451\n"
          ]
        },
        {
          "output_type": "stream",
          "name": "stdout",
          "text": [
            "107.736\n"
          ]
        },
        {
          "output_type": "stream",
          "name": "stderr",
          "text": [
            "Train: 100%|██████████| 813/813 [00:28<00:00, 28.46it/s]\n",
            "Eval : 100%|██████████| 63/63 [00:01<00:00, 35.86it/s]\n",
            "Epoch 1452\n"
          ]
        },
        {
          "output_type": "stream",
          "name": "stdout",
          "text": [
            "107.736\n"
          ]
        },
        {
          "output_type": "stream",
          "name": "stderr",
          "text": [
            "Train: 100%|██████████| 813/813 [00:22<00:00, 35.48it/s]\n",
            "Eval : 100%|██████████| 63/63 [00:01<00:00, 36.88it/s]\n",
            "Epoch 1453\n"
          ]
        },
        {
          "output_type": "stream",
          "name": "stdout",
          "text": [
            "107.559\n"
          ]
        },
        {
          "output_type": "stream",
          "name": "stderr",
          "text": [
            "Train: 100%|██████████| 813/813 [00:28<00:00, 28.50it/s]\n",
            "Eval : 100%|██████████| 63/63 [00:01<00:00, 36.89it/s]\n",
            "Epoch 1454\n"
          ]
        },
        {
          "output_type": "stream",
          "name": "stdout",
          "text": [
            "107.559\n"
          ]
        },
        {
          "output_type": "stream",
          "name": "stderr",
          "text": [
            "Train: 100%|██████████| 813/813 [00:22<00:00, 35.44it/s]\n",
            "Eval : 100%|██████████| 63/63 [00:01<00:00, 36.56it/s]\n",
            "Epoch 1455\n"
          ]
        },
        {
          "output_type": "stream",
          "name": "stdout",
          "text": [
            "108.279\n"
          ]
        },
        {
          "output_type": "stream",
          "name": "stderr",
          "text": [
            "Train: 100%|██████████| 813/813 [00:28<00:00, 28.63it/s]\n",
            "Eval : 100%|██████████| 63/63 [00:01<00:00, 36.89it/s]\n",
            "Epoch 1456\n"
          ]
        },
        {
          "output_type": "stream",
          "name": "stdout",
          "text": [
            "108.279\n"
          ]
        },
        {
          "output_type": "stream",
          "name": "stderr",
          "text": [
            "Train: 100%|██████████| 813/813 [00:22<00:00, 35.42it/s]\n",
            "Eval : 100%|██████████| 63/63 [00:01<00:00, 37.07it/s]\n",
            "Epoch 1457\n"
          ]
        },
        {
          "output_type": "stream",
          "name": "stdout",
          "text": [
            "107.866\n"
          ]
        },
        {
          "output_type": "stream",
          "name": "stderr",
          "text": [
            "Train: 100%|██████████| 813/813 [00:28<00:00, 28.15it/s]\n",
            "Eval : 100%|██████████| 63/63 [00:01<00:00, 36.40it/s]\n",
            "Epoch 1458\n"
          ]
        },
        {
          "output_type": "stream",
          "name": "stdout",
          "text": [
            "107.866\n"
          ]
        },
        {
          "output_type": "stream",
          "name": "stderr",
          "text": [
            "Train: 100%|██████████| 813/813 [00:22<00:00, 35.51it/s]\n",
            "Eval : 100%|██████████| 63/63 [00:01<00:00, 36.08it/s]\n",
            "Epoch 1459\n"
          ]
        },
        {
          "output_type": "stream",
          "name": "stdout",
          "text": [
            "108.296\n"
          ]
        },
        {
          "output_type": "stream",
          "name": "stderr",
          "text": [
            "Train: 100%|██████████| 813/813 [00:28<00:00, 28.52it/s]\n",
            "Eval : 100%|██████████| 63/63 [00:01<00:00, 35.69it/s]\n",
            "Epoch 1460\n"
          ]
        },
        {
          "output_type": "stream",
          "name": "stdout",
          "text": [
            "108.296\n"
          ]
        },
        {
          "output_type": "stream",
          "name": "stderr",
          "text": [
            "Train: 100%|██████████| 813/813 [00:23<00:00, 35.35it/s]\n",
            "Eval : 100%|██████████| 63/63 [00:01<00:00, 35.70it/s]\n",
            "Epoch 1461\n"
          ]
        },
        {
          "output_type": "stream",
          "name": "stdout",
          "text": [
            "108.204\n"
          ]
        },
        {
          "output_type": "stream",
          "name": "stderr",
          "text": [
            "Train: 100%|██████████| 813/813 [00:28<00:00, 28.38it/s]\n",
            "Eval : 100%|██████████| 63/63 [00:01<00:00, 36.36it/s]\n",
            "Epoch 1462\n"
          ]
        },
        {
          "output_type": "stream",
          "name": "stdout",
          "text": [
            "108.204\n"
          ]
        },
        {
          "output_type": "stream",
          "name": "stderr",
          "text": [
            "Train: 100%|██████████| 813/813 [00:22<00:00, 35.76it/s]\n",
            "Eval : 100%|██████████| 63/63 [00:01<00:00, 36.70it/s]\n",
            "Epoch 1463\n"
          ]
        },
        {
          "output_type": "stream",
          "name": "stdout",
          "text": [
            "108.401\n"
          ]
        },
        {
          "output_type": "stream",
          "name": "stderr",
          "text": [
            "Train: 100%|██████████| 813/813 [00:28<00:00, 28.07it/s]\n",
            "Eval : 100%|██████████| 63/63 [00:01<00:00, 36.35it/s]\n",
            "Epoch 1464\n"
          ]
        },
        {
          "output_type": "stream",
          "name": "stdout",
          "text": [
            "108.401\n"
          ]
        },
        {
          "output_type": "stream",
          "name": "stderr",
          "text": [
            "Train: 100%|██████████| 813/813 [00:22<00:00, 35.67it/s]\n",
            "Eval : 100%|██████████| 63/63 [00:01<00:00, 36.91it/s]\n",
            "Epoch 1465\n"
          ]
        },
        {
          "output_type": "stream",
          "name": "stdout",
          "text": [
            "107.537\n"
          ]
        },
        {
          "output_type": "stream",
          "name": "stderr",
          "text": [
            "Train: 100%|██████████| 813/813 [00:28<00:00, 28.38it/s]\n",
            "Eval : 100%|██████████| 63/63 [00:01<00:00, 36.85it/s]\n",
            "Epoch 1466\n"
          ]
        },
        {
          "output_type": "stream",
          "name": "stdout",
          "text": [
            "107.537\n"
          ]
        },
        {
          "output_type": "stream",
          "name": "stderr",
          "text": [
            "Train: 100%|██████████| 813/813 [00:22<00:00, 35.83it/s]\n",
            "Eval : 100%|██████████| 63/63 [00:01<00:00, 36.92it/s]\n",
            "Epoch 1467\n"
          ]
        },
        {
          "output_type": "stream",
          "name": "stdout",
          "text": [
            "108.138\n"
          ]
        },
        {
          "output_type": "stream",
          "name": "stderr",
          "text": [
            "Train: 100%|██████████| 813/813 [00:28<00:00, 28.48it/s]\n",
            "Eval : 100%|██████████| 63/63 [00:01<00:00, 36.60it/s]\n",
            "Epoch 1468\n"
          ]
        },
        {
          "output_type": "stream",
          "name": "stdout",
          "text": [
            "108.138\n"
          ]
        },
        {
          "output_type": "stream",
          "name": "stderr",
          "text": [
            "Train: 100%|██████████| 813/813 [00:22<00:00, 35.73it/s]\n",
            "Eval : 100%|██████████| 63/63 [00:01<00:00, 36.15it/s]\n",
            "Epoch 1469\n"
          ]
        },
        {
          "output_type": "stream",
          "name": "stdout",
          "text": [
            "107.965\n"
          ]
        },
        {
          "output_type": "stream",
          "name": "stderr",
          "text": [
            "Train: 100%|██████████| 813/813 [00:28<00:00, 28.47it/s]\n",
            "Eval : 100%|██████████| 63/63 [00:01<00:00, 36.63it/s]\n",
            "Epoch 1470\n"
          ]
        },
        {
          "output_type": "stream",
          "name": "stdout",
          "text": [
            "107.965\n"
          ]
        },
        {
          "output_type": "stream",
          "name": "stderr",
          "text": [
            "Train: 100%|██████████| 813/813 [00:22<00:00, 35.79it/s]\n",
            "Eval : 100%|██████████| 63/63 [00:01<00:00, 36.04it/s]\n",
            "Epoch 1471\n"
          ]
        },
        {
          "output_type": "stream",
          "name": "stdout",
          "text": [
            "107.622\n"
          ]
        },
        {
          "output_type": "stream",
          "name": "stderr",
          "text": [
            "Train: 100%|██████████| 813/813 [00:28<00:00, 28.33it/s]\n",
            "Eval : 100%|██████████| 63/63 [00:01<00:00, 36.25it/s]\n",
            "Epoch 1472\n"
          ]
        },
        {
          "output_type": "stream",
          "name": "stdout",
          "text": [
            "107.622\n"
          ]
        },
        {
          "output_type": "stream",
          "name": "stderr",
          "text": [
            "Train: 100%|██████████| 813/813 [00:22<00:00, 35.69it/s]\n",
            "Eval : 100%|██████████| 63/63 [00:01<00:00, 36.84it/s]\n",
            "Epoch 1473\n"
          ]
        },
        {
          "output_type": "stream",
          "name": "stdout",
          "text": [
            "107.927\n"
          ]
        },
        {
          "output_type": "stream",
          "name": "stderr",
          "text": [
            "Train: 100%|██████████| 813/813 [00:28<00:00, 28.43it/s]\n",
            "Eval : 100%|██████████| 63/63 [00:01<00:00, 36.46it/s]\n",
            "Epoch 1474\n"
          ]
        },
        {
          "output_type": "stream",
          "name": "stdout",
          "text": [
            "107.927\n"
          ]
        },
        {
          "output_type": "stream",
          "name": "stderr",
          "text": [
            "Train: 100%|██████████| 813/813 [00:22<00:00, 35.51it/s]\n",
            "Eval : 100%|██████████| 63/63 [00:01<00:00, 36.66it/s]\n",
            "Epoch 1475\n"
          ]
        },
        {
          "output_type": "stream",
          "name": "stdout",
          "text": [
            "108.853\n"
          ]
        },
        {
          "output_type": "stream",
          "name": "stderr",
          "text": [
            "Train: 100%|██████████| 813/813 [00:28<00:00, 28.20it/s]\n",
            "Eval : 100%|██████████| 63/63 [00:01<00:00, 36.88it/s]\n",
            "Epoch 1476\n"
          ]
        },
        {
          "output_type": "stream",
          "name": "stdout",
          "text": [
            "108.853\n"
          ]
        },
        {
          "output_type": "stream",
          "name": "stderr",
          "text": [
            "Train: 100%|██████████| 813/813 [00:22<00:00, 35.38it/s]\n",
            "Eval : 100%|██████████| 63/63 [00:01<00:00, 36.13it/s]\n",
            "Epoch 1477\n"
          ]
        },
        {
          "output_type": "stream",
          "name": "stdout",
          "text": [
            "108.455\n"
          ]
        },
        {
          "output_type": "stream",
          "name": "stderr",
          "text": [
            "Train: 100%|██████████| 813/813 [00:28<00:00, 28.70it/s]\n",
            "Eval : 100%|██████████| 63/63 [00:01<00:00, 36.57it/s]\n",
            "Epoch 1478\n"
          ]
        },
        {
          "output_type": "stream",
          "name": "stdout",
          "text": [
            "108.455\n"
          ]
        },
        {
          "output_type": "stream",
          "name": "stderr",
          "text": [
            "Train: 100%|██████████| 813/813 [00:22<00:00, 35.40it/s]\n",
            "Eval : 100%|██████████| 63/63 [00:01<00:00, 36.43it/s]\n",
            "Epoch 1479\n"
          ]
        },
        {
          "output_type": "stream",
          "name": "stdout",
          "text": [
            "108.389\n"
          ]
        },
        {
          "output_type": "stream",
          "name": "stderr",
          "text": [
            "Train: 100%|██████████| 813/813 [00:28<00:00, 28.32it/s]\n",
            "Eval : 100%|██████████| 63/63 [00:01<00:00, 36.46it/s]\n",
            "Epoch 1480\n"
          ]
        },
        {
          "output_type": "stream",
          "name": "stdout",
          "text": [
            "108.389\n"
          ]
        },
        {
          "output_type": "stream",
          "name": "stderr",
          "text": [
            "Train: 100%|██████████| 813/813 [00:22<00:00, 35.38it/s]\n",
            "Eval : 100%|██████████| 63/63 [00:01<00:00, 36.53it/s]\n",
            "Epoch 1481\n"
          ]
        },
        {
          "output_type": "stream",
          "name": "stdout",
          "text": [
            "108.408\n"
          ]
        },
        {
          "output_type": "stream",
          "name": "stderr",
          "text": [
            "Train: 100%|██████████| 813/813 [00:28<00:00, 28.41it/s]\n",
            "Eval : 100%|██████████| 63/63 [00:01<00:00, 36.63it/s]\n",
            "Epoch 1482\n"
          ]
        },
        {
          "output_type": "stream",
          "name": "stdout",
          "text": [
            "108.408\n"
          ]
        },
        {
          "output_type": "stream",
          "name": "stderr",
          "text": [
            "Train: 100%|██████████| 813/813 [00:22<00:00, 35.78it/s]\n",
            "Eval : 100%|██████████| 63/63 [00:01<00:00, 35.77it/s]\n",
            "Epoch 1483\n"
          ]
        },
        {
          "output_type": "stream",
          "name": "stdout",
          "text": [
            "107.614\n"
          ]
        },
        {
          "output_type": "stream",
          "name": "stderr",
          "text": [
            "Train: 100%|██████████| 813/813 [00:28<00:00, 28.15it/s]\n",
            "Eval : 100%|██████████| 63/63 [00:01<00:00, 36.05it/s]\n",
            "Epoch 1484\n"
          ]
        },
        {
          "output_type": "stream",
          "name": "stdout",
          "text": [
            "107.614\n"
          ]
        },
        {
          "output_type": "stream",
          "name": "stderr",
          "text": [
            "Train: 100%|██████████| 813/813 [00:23<00:00, 34.23it/s]\n",
            "Eval : 100%|██████████| 63/63 [00:01<00:00, 35.29it/s]\n",
            "Epoch 1485\n"
          ]
        },
        {
          "output_type": "stream",
          "name": "stdout",
          "text": [
            "108.301\n"
          ]
        },
        {
          "output_type": "stream",
          "name": "stderr",
          "text": [
            "Train: 100%|██████████| 813/813 [00:29<00:00, 27.35it/s]\n",
            "Eval : 100%|██████████| 63/63 [00:01<00:00, 36.63it/s]\n",
            "Epoch 1486\n"
          ]
        },
        {
          "output_type": "stream",
          "name": "stdout",
          "text": [
            "108.301\n"
          ]
        },
        {
          "output_type": "stream",
          "name": "stderr",
          "text": [
            "Train: 100%|██████████| 813/813 [00:23<00:00, 35.03it/s]\n",
            "Eval : 100%|██████████| 63/63 [00:01<00:00, 34.50it/s]\n",
            "Epoch 1487\n"
          ]
        },
        {
          "output_type": "stream",
          "name": "stdout",
          "text": [
            "108.278\n"
          ]
        },
        {
          "output_type": "stream",
          "name": "stderr",
          "text": [
            "Train: 100%|██████████| 813/813 [00:29<00:00, 27.87it/s]\n",
            "Eval : 100%|██████████| 63/63 [00:01<00:00, 36.39it/s]\n",
            "Epoch 1488\n"
          ]
        },
        {
          "output_type": "stream",
          "name": "stdout",
          "text": [
            "108.278\n"
          ]
        },
        {
          "output_type": "stream",
          "name": "stderr",
          "text": [
            "Train: 100%|██████████| 813/813 [00:22<00:00, 35.37it/s]\n",
            "Eval : 100%|██████████| 63/63 [00:01<00:00, 36.30it/s]\n",
            "Epoch 1489\n"
          ]
        },
        {
          "output_type": "stream",
          "name": "stdout",
          "text": [
            "107.52\n"
          ]
        },
        {
          "output_type": "stream",
          "name": "stderr",
          "text": [
            "Train: 100%|██████████| 813/813 [00:28<00:00, 28.10it/s]\n",
            "Eval : 100%|██████████| 63/63 [00:01<00:00, 36.22it/s]\n",
            "Epoch 1490\n"
          ]
        },
        {
          "output_type": "stream",
          "name": "stdout",
          "text": [
            "107.52\n"
          ]
        },
        {
          "output_type": "stream",
          "name": "stderr",
          "text": [
            "Train: 100%|██████████| 813/813 [00:22<00:00, 35.37it/s]\n",
            "Eval : 100%|██████████| 63/63 [00:01<00:00, 36.94it/s]\n",
            "Epoch 1491\n"
          ]
        },
        {
          "output_type": "stream",
          "name": "stdout",
          "text": [
            "107.859\n"
          ]
        },
        {
          "output_type": "stream",
          "name": "stderr",
          "text": [
            "Train: 100%|██████████| 813/813 [00:28<00:00, 28.07it/s]\n",
            "Eval : 100%|██████████| 63/63 [00:01<00:00, 35.48it/s]\n",
            "Epoch 1492\n"
          ]
        },
        {
          "output_type": "stream",
          "name": "stdout",
          "text": [
            "107.859\n"
          ]
        },
        {
          "output_type": "stream",
          "name": "stderr",
          "text": [
            "Train: 100%|██████████| 813/813 [00:22<00:00, 35.50it/s]\n",
            "Eval : 100%|██████████| 63/63 [00:01<00:00, 36.39it/s]\n",
            "Epoch 1493\n"
          ]
        },
        {
          "output_type": "stream",
          "name": "stdout",
          "text": [
            "108.38\n"
          ]
        },
        {
          "output_type": "stream",
          "name": "stderr",
          "text": [
            "Train: 100%|██████████| 813/813 [00:28<00:00, 28.11it/s]\n",
            "Eval : 100%|██████████| 63/63 [00:01<00:00, 35.75it/s]\n",
            "Epoch 1494\n"
          ]
        },
        {
          "output_type": "stream",
          "name": "stdout",
          "text": [
            "108.38\n"
          ]
        },
        {
          "output_type": "stream",
          "name": "stderr",
          "text": [
            "Train: 100%|██████████| 813/813 [00:23<00:00, 34.27it/s]\n",
            "Eval : 100%|██████████| 63/63 [00:01<00:00, 36.25it/s]\n",
            "Epoch 1495\n"
          ]
        },
        {
          "output_type": "stream",
          "name": "stdout",
          "text": [
            "108.731\n"
          ]
        },
        {
          "output_type": "stream",
          "name": "stderr",
          "text": [
            "Train: 100%|██████████| 813/813 [00:29<00:00, 27.94it/s]\n",
            "Eval : 100%|██████████| 63/63 [00:01<00:00, 35.91it/s]\n",
            "Epoch 1496\n"
          ]
        },
        {
          "output_type": "stream",
          "name": "stdout",
          "text": [
            "108.731\n"
          ]
        },
        {
          "output_type": "stream",
          "name": "stderr",
          "text": [
            "Train: 100%|██████████| 813/813 [00:22<00:00, 35.44it/s]\n",
            "Eval : 100%|██████████| 63/63 [00:01<00:00, 36.25it/s]\n",
            "Epoch 1497\n"
          ]
        },
        {
          "output_type": "stream",
          "name": "stdout",
          "text": [
            "107.955\n"
          ]
        },
        {
          "output_type": "stream",
          "name": "stderr",
          "text": [
            "Train: 100%|██████████| 813/813 [00:29<00:00, 27.93it/s]\n",
            "Eval : 100%|██████████| 63/63 [00:01<00:00, 35.70it/s]\n",
            "Epoch 1498\n"
          ]
        },
        {
          "output_type": "stream",
          "name": "stdout",
          "text": [
            "107.955\n"
          ]
        },
        {
          "output_type": "stream",
          "name": "stderr",
          "text": [
            "Train: 100%|██████████| 813/813 [00:23<00:00, 34.96it/s]\n",
            "Eval : 100%|██████████| 63/63 [00:01<00:00, 36.70it/s]\n",
            "Epoch 1499\n"
          ]
        },
        {
          "output_type": "stream",
          "name": "stdout",
          "text": [
            "108.442\n"
          ]
        },
        {
          "output_type": "stream",
          "name": "stderr",
          "text": [
            "Train: 100%|██████████| 813/813 [00:28<00:00, 28.16it/s]\n",
            "Eval : 100%|██████████| 63/63 [00:01<00:00, 36.28it/s]\n",
            "Epoch 1500\n"
          ]
        },
        {
          "output_type": "stream",
          "name": "stdout",
          "text": [
            "108.442\n"
          ]
        },
        {
          "output_type": "stream",
          "name": "stderr",
          "text": [
            "Train: 100%|██████████| 813/813 [00:23<00:00, 35.35it/s]\n",
            "Eval : 100%|██████████| 63/63 [00:01<00:00, 36.08it/s]\n",
            "Epoch 1501\n"
          ]
        },
        {
          "output_type": "stream",
          "name": "stdout",
          "text": [
            "107.936\n"
          ]
        },
        {
          "output_type": "stream",
          "name": "stderr",
          "text": [
            "Train: 100%|██████████| 813/813 [00:28<00:00, 28.31it/s]\n",
            "Eval : 100%|██████████| 63/63 [00:01<00:00, 35.42it/s]\n",
            "Epoch 1502\n"
          ]
        },
        {
          "output_type": "stream",
          "name": "stdout",
          "text": [
            "107.936\n"
          ]
        },
        {
          "output_type": "stream",
          "name": "stderr",
          "text": [
            "Train: 100%|██████████| 813/813 [00:23<00:00, 35.27it/s]\n",
            "Eval : 100%|██████████| 63/63 [00:01<00:00, 36.40it/s]\n",
            "Epoch 1503\n"
          ]
        },
        {
          "output_type": "stream",
          "name": "stdout",
          "text": [
            "108.003\n"
          ]
        },
        {
          "output_type": "stream",
          "name": "stderr",
          "text": [
            "Train: 100%|██████████| 813/813 [00:28<00:00, 28.16it/s]\n",
            "Eval : 100%|██████████| 63/63 [00:01<00:00, 36.14it/s]\n",
            "Epoch 1504\n"
          ]
        },
        {
          "output_type": "stream",
          "name": "stdout",
          "text": [
            "108.003\n"
          ]
        },
        {
          "output_type": "stream",
          "name": "stderr",
          "text": [
            "Train: 100%|██████████| 813/813 [00:23<00:00, 35.33it/s]\n",
            "Eval : 100%|██████████| 63/63 [00:01<00:00, 35.41it/s]\n",
            "Epoch 1505\n"
          ]
        },
        {
          "output_type": "stream",
          "name": "stdout",
          "text": [
            "107.671\n"
          ]
        },
        {
          "output_type": "stream",
          "name": "stderr",
          "text": [
            "Train: 100%|██████████| 813/813 [00:28<00:00, 28.42it/s]\n",
            "Eval : 100%|██████████| 63/63 [00:01<00:00, 35.85it/s]\n",
            "Epoch 1506\n"
          ]
        },
        {
          "output_type": "stream",
          "name": "stdout",
          "text": [
            "107.671\n"
          ]
        },
        {
          "output_type": "stream",
          "name": "stderr",
          "text": [
            "Train: 100%|██████████| 813/813 [00:23<00:00, 34.96it/s]\n",
            "Eval : 100%|██████████| 63/63 [00:01<00:00, 35.42it/s]\n",
            "Epoch 1507\n"
          ]
        },
        {
          "output_type": "stream",
          "name": "stdout",
          "text": [
            "108.523\n"
          ]
        },
        {
          "output_type": "stream",
          "name": "stderr",
          "text": [
            "Train: 100%|██████████| 813/813 [00:28<00:00, 28.11it/s]\n",
            "Eval : 100%|██████████| 63/63 [00:01<00:00, 35.78it/s]\n",
            "Epoch 1508\n"
          ]
        },
        {
          "output_type": "stream",
          "name": "stdout",
          "text": [
            "108.523\n"
          ]
        },
        {
          "output_type": "stream",
          "name": "stderr",
          "text": [
            "Train: 100%|██████████| 813/813 [00:23<00:00, 35.31it/s]\n",
            "Eval : 100%|██████████| 63/63 [00:01<00:00, 36.18it/s]\n",
            "Epoch 1509\n"
          ]
        },
        {
          "output_type": "stream",
          "name": "stdout",
          "text": [
            "108.022\n"
          ]
        },
        {
          "output_type": "stream",
          "name": "stderr",
          "text": [
            "Train: 100%|██████████| 813/813 [00:29<00:00, 27.98it/s]\n",
            "Eval : 100%|██████████| 63/63 [00:01<00:00, 35.89it/s]\n",
            "Epoch 1510\n"
          ]
        },
        {
          "output_type": "stream",
          "name": "stdout",
          "text": [
            "108.022\n"
          ]
        },
        {
          "output_type": "stream",
          "name": "stderr",
          "text": [
            "Train: 100%|██████████| 813/813 [00:23<00:00, 35.24it/s]\n",
            "Eval : 100%|██████████| 63/63 [00:01<00:00, 35.96it/s]\n",
            "Epoch 1511\n"
          ]
        },
        {
          "output_type": "stream",
          "name": "stdout",
          "text": [
            "107.609\n"
          ]
        },
        {
          "output_type": "stream",
          "name": "stderr",
          "text": [
            "Train: 100%|██████████| 813/813 [00:28<00:00, 28.31it/s]\n",
            "Eval : 100%|██████████| 63/63 [00:01<00:00, 36.36it/s]\n",
            "Epoch 1512\n"
          ]
        },
        {
          "output_type": "stream",
          "name": "stdout",
          "text": [
            "107.609\n"
          ]
        },
        {
          "output_type": "stream",
          "name": "stderr",
          "text": [
            "Train: 100%|██████████| 813/813 [00:23<00:00, 35.31it/s]\n",
            "Eval : 100%|██████████| 63/63 [00:01<00:00, 36.58it/s]\n",
            "Epoch 1513\n"
          ]
        },
        {
          "output_type": "stream",
          "name": "stdout",
          "text": [
            "107.967\n"
          ]
        },
        {
          "output_type": "stream",
          "name": "stderr",
          "text": [
            "Train: 100%|██████████| 813/813 [00:28<00:00, 28.06it/s]\n",
            "Eval : 100%|██████████| 63/63 [00:01<00:00, 35.81it/s]\n",
            "Epoch 1514\n"
          ]
        },
        {
          "output_type": "stream",
          "name": "stdout",
          "text": [
            "107.967\n"
          ]
        },
        {
          "output_type": "stream",
          "name": "stderr",
          "text": [
            "Train: 100%|██████████| 813/813 [00:22<00:00, 35.60it/s]\n",
            "Eval : 100%|██████████| 63/63 [00:01<00:00, 35.61it/s]\n",
            "Epoch 1515\n"
          ]
        },
        {
          "output_type": "stream",
          "name": "stdout",
          "text": [
            "107.742\n"
          ]
        },
        {
          "output_type": "stream",
          "name": "stderr",
          "text": [
            "Train: 100%|██████████| 813/813 [00:28<00:00, 28.20it/s]\n",
            "Eval : 100%|██████████| 63/63 [00:01<00:00, 35.81it/s]\n",
            "Epoch 1516\n"
          ]
        },
        {
          "output_type": "stream",
          "name": "stdout",
          "text": [
            "107.742\n"
          ]
        },
        {
          "output_type": "stream",
          "name": "stderr",
          "text": [
            "Train: 100%|██████████| 813/813 [00:22<00:00, 35.35it/s]\n",
            "Eval : 100%|██████████| 63/63 [00:01<00:00, 36.25it/s]\n",
            "Epoch 1517\n"
          ]
        },
        {
          "output_type": "stream",
          "name": "stdout",
          "text": [
            "108.127\n"
          ]
        },
        {
          "output_type": "stream",
          "name": "stderr",
          "text": [
            "Train: 100%|██████████| 813/813 [00:29<00:00, 28.02it/s]\n",
            "Eval : 100%|██████████| 63/63 [00:01<00:00, 36.10it/s]\n",
            "Epoch 1518\n"
          ]
        },
        {
          "output_type": "stream",
          "name": "stdout",
          "text": [
            "108.127\n"
          ]
        },
        {
          "output_type": "stream",
          "name": "stderr",
          "text": [
            "Train: 100%|██████████| 813/813 [00:23<00:00, 35.32it/s]\n",
            "Eval : 100%|██████████| 63/63 [00:01<00:00, 36.55it/s]\n",
            "Epoch 1519\n"
          ]
        },
        {
          "output_type": "stream",
          "name": "stdout",
          "text": [
            "108.844\n"
          ]
        },
        {
          "output_type": "stream",
          "name": "stderr",
          "text": [
            "Train: 100%|██████████| 813/813 [00:28<00:00, 28.12it/s]\n",
            "Eval : 100%|██████████| 63/63 [00:01<00:00, 36.10it/s]\n",
            "Epoch 1520\n"
          ]
        },
        {
          "output_type": "stream",
          "name": "stdout",
          "text": [
            "108.844\n"
          ]
        },
        {
          "output_type": "stream",
          "name": "stderr",
          "text": [
            "Train: 100%|██████████| 813/813 [00:23<00:00, 35.23it/s]\n",
            "Eval : 100%|██████████| 63/63 [00:01<00:00, 36.53it/s]\n",
            "Epoch 1521\n"
          ]
        },
        {
          "output_type": "stream",
          "name": "stdout",
          "text": [
            "108.138\n"
          ]
        },
        {
          "output_type": "stream",
          "name": "stderr",
          "text": [
            "Train: 100%|██████████| 813/813 [00:28<00:00, 28.14it/s]\n",
            "Eval : 100%|██████████| 63/63 [00:01<00:00, 36.54it/s]\n",
            "Epoch 1522\n"
          ]
        },
        {
          "output_type": "stream",
          "name": "stdout",
          "text": [
            "108.138\n"
          ]
        },
        {
          "output_type": "stream",
          "name": "stderr",
          "text": [
            "Train: 100%|██████████| 813/813 [00:23<00:00, 35.18it/s]\n",
            "Eval : 100%|██████████| 63/63 [00:01<00:00, 36.06it/s]\n",
            "Epoch 1523\n"
          ]
        },
        {
          "output_type": "stream",
          "name": "stdout",
          "text": [
            "107.971\n"
          ]
        },
        {
          "output_type": "stream",
          "name": "stderr",
          "text": [
            "Train: 100%|██████████| 813/813 [00:28<00:00, 28.08it/s]\n",
            "Eval : 100%|██████████| 63/63 [00:01<00:00, 36.08it/s]\n",
            "Epoch 1524\n"
          ]
        },
        {
          "output_type": "stream",
          "name": "stdout",
          "text": [
            "107.971\n"
          ]
        },
        {
          "output_type": "stream",
          "name": "stderr",
          "text": [
            "Train: 100%|██████████| 813/813 [00:23<00:00, 35.26it/s]\n",
            "Eval : 100%|██████████| 63/63 [00:01<00:00, 35.23it/s]\n",
            "Epoch 1525\n"
          ]
        },
        {
          "output_type": "stream",
          "name": "stdout",
          "text": [
            "108.021\n"
          ]
        },
        {
          "output_type": "stream",
          "name": "stderr",
          "text": [
            "Train: 100%|██████████| 813/813 [00:28<00:00, 28.14it/s]\n",
            "Eval : 100%|██████████| 63/63 [00:01<00:00, 36.49it/s]\n",
            "Epoch 1526\n"
          ]
        },
        {
          "output_type": "stream",
          "name": "stdout",
          "text": [
            "108.021\n"
          ]
        },
        {
          "output_type": "stream",
          "name": "stderr",
          "text": [
            "Train: 100%|██████████| 813/813 [00:22<00:00, 35.37it/s]\n",
            "Eval : 100%|██████████| 63/63 [00:01<00:00, 36.31it/s]\n",
            "Epoch 1527\n"
          ]
        },
        {
          "output_type": "stream",
          "name": "stdout",
          "text": [
            "108.737\n"
          ]
        },
        {
          "output_type": "stream",
          "name": "stderr",
          "text": [
            "Train: 100%|██████████| 813/813 [00:28<00:00, 28.18it/s]\n",
            "Eval : 100%|██████████| 63/63 [00:01<00:00, 36.48it/s]\n",
            "Epoch 1528\n"
          ]
        },
        {
          "output_type": "stream",
          "name": "stdout",
          "text": [
            "108.737\n"
          ]
        },
        {
          "output_type": "stream",
          "name": "stderr",
          "text": [
            "Train: 100%|██████████| 813/813 [00:23<00:00, 35.00it/s]\n",
            "Eval : 100%|██████████| 63/63 [00:01<00:00, 36.20it/s]\n",
            "Epoch 1529\n"
          ]
        },
        {
          "output_type": "stream",
          "name": "stdout",
          "text": [
            "108.109\n"
          ]
        },
        {
          "output_type": "stream",
          "name": "stderr",
          "text": [
            "Train: 100%|██████████| 813/813 [00:29<00:00, 28.01it/s]\n",
            "Eval : 100%|██████████| 63/63 [00:01<00:00, 36.14it/s]\n",
            "Epoch 1530\n"
          ]
        },
        {
          "output_type": "stream",
          "name": "stdout",
          "text": [
            "108.109\n"
          ]
        },
        {
          "output_type": "stream",
          "name": "stderr",
          "text": [
            "Train: 100%|██████████| 813/813 [00:23<00:00, 34.89it/s]\n",
            "Eval : 100%|██████████| 63/63 [00:01<00:00, 34.94it/s]\n",
            "Epoch 1531\n"
          ]
        },
        {
          "output_type": "stream",
          "name": "stdout",
          "text": [
            "108.238\n"
          ]
        },
        {
          "output_type": "stream",
          "name": "stderr",
          "text": [
            "Train: 100%|██████████| 813/813 [00:29<00:00, 27.76it/s]\n",
            "Eval : 100%|██████████| 63/63 [00:01<00:00, 36.67it/s]\n",
            "Epoch 1532\n"
          ]
        },
        {
          "output_type": "stream",
          "name": "stdout",
          "text": [
            "108.238\n"
          ]
        },
        {
          "output_type": "stream",
          "name": "stderr",
          "text": [
            "Train: 100%|██████████| 813/813 [00:23<00:00, 35.16it/s]\n",
            "Eval : 100%|██████████| 63/63 [00:01<00:00, 36.19it/s]\n",
            "Epoch 1533\n"
          ]
        },
        {
          "output_type": "stream",
          "name": "stdout",
          "text": [
            "109.237\n"
          ]
        },
        {
          "output_type": "stream",
          "name": "stderr",
          "text": [
            "Train: 100%|██████████| 813/813 [00:29<00:00, 27.80it/s]\n",
            "Eval : 100%|██████████| 63/63 [00:01<00:00, 36.01it/s]\n",
            "Epoch 1534\n"
          ]
        },
        {
          "output_type": "stream",
          "name": "stdout",
          "text": [
            "109.237\n"
          ]
        },
        {
          "output_type": "stream",
          "name": "stderr",
          "text": [
            "Train: 100%|██████████| 813/813 [00:23<00:00, 35.32it/s]\n",
            "Eval : 100%|██████████| 63/63 [00:01<00:00, 36.00it/s]\n",
            "Epoch 1535\n"
          ]
        },
        {
          "output_type": "stream",
          "name": "stdout",
          "text": [
            "108.217\n"
          ]
        },
        {
          "output_type": "stream",
          "name": "stderr",
          "text": [
            "Train: 100%|██████████| 813/813 [00:28<00:00, 28.26it/s]\n",
            "Eval : 100%|██████████| 63/63 [00:01<00:00, 36.57it/s]\n",
            "Epoch 1536\n"
          ]
        },
        {
          "output_type": "stream",
          "name": "stdout",
          "text": [
            "108.217\n"
          ]
        },
        {
          "output_type": "stream",
          "name": "stderr",
          "text": [
            "Train: 100%|██████████| 813/813 [00:23<00:00, 35.19it/s]\n",
            "Eval : 100%|██████████| 63/63 [00:01<00:00, 36.81it/s]\n",
            "Epoch 1537\n"
          ]
        },
        {
          "output_type": "stream",
          "name": "stdout",
          "text": [
            "108.283\n"
          ]
        },
        {
          "output_type": "stream",
          "name": "stderr",
          "text": [
            "Train: 100%|██████████| 813/813 [00:28<00:00, 28.19it/s]\n",
            "Eval : 100%|██████████| 63/63 [00:01<00:00, 35.43it/s]\n",
            "Epoch 1538\n"
          ]
        },
        {
          "output_type": "stream",
          "name": "stdout",
          "text": [
            "108.283\n"
          ]
        },
        {
          "output_type": "stream",
          "name": "stderr",
          "text": [
            "Train: 100%|██████████| 813/813 [00:23<00:00, 35.20it/s]\n",
            "Eval : 100%|██████████| 63/63 [00:01<00:00, 36.48it/s]\n",
            "Epoch 1539\n"
          ]
        },
        {
          "output_type": "stream",
          "name": "stdout",
          "text": [
            "107.808\n"
          ]
        },
        {
          "output_type": "stream",
          "name": "stderr",
          "text": [
            "Train: 100%|██████████| 813/813 [00:28<00:00, 28.20it/s]\n",
            "Eval : 100%|██████████| 63/63 [00:01<00:00, 36.51it/s]\n",
            "Epoch 1540\n"
          ]
        },
        {
          "output_type": "stream",
          "name": "stdout",
          "text": [
            "107.808\n"
          ]
        },
        {
          "output_type": "stream",
          "name": "stderr",
          "text": [
            "Train: 100%|██████████| 813/813 [00:23<00:00, 35.05it/s]\n",
            "Eval : 100%|██████████| 63/63 [00:01<00:00, 35.19it/s]\n",
            "Epoch 1541\n"
          ]
        },
        {
          "output_type": "stream",
          "name": "stdout",
          "text": [
            "108.526\n"
          ]
        },
        {
          "output_type": "stream",
          "name": "stderr",
          "text": [
            "Train: 100%|██████████| 813/813 [00:29<00:00, 27.81it/s]\n",
            "Eval : 100%|██████████| 63/63 [00:01<00:00, 37.04it/s]\n",
            "Epoch 1542\n"
          ]
        },
        {
          "output_type": "stream",
          "name": "stdout",
          "text": [
            "108.526\n"
          ]
        },
        {
          "output_type": "stream",
          "name": "stderr",
          "text": [
            "Train: 100%|██████████| 813/813 [00:23<00:00, 35.35it/s]\n",
            "Eval : 100%|██████████| 63/63 [00:01<00:00, 36.15it/s]\n",
            "Epoch 1543\n"
          ]
        },
        {
          "output_type": "stream",
          "name": "stdout",
          "text": [
            "108.809\n"
          ]
        },
        {
          "output_type": "stream",
          "name": "stderr",
          "text": [
            "Train: 100%|██████████| 813/813 [00:28<00:00, 28.20it/s]\n",
            "Eval : 100%|██████████| 63/63 [00:01<00:00, 35.57it/s]\n",
            "Epoch 1544\n"
          ]
        },
        {
          "output_type": "stream",
          "name": "stdout",
          "text": [
            "108.809\n"
          ]
        },
        {
          "output_type": "stream",
          "name": "stderr",
          "text": [
            "Train: 100%|██████████| 813/813 [00:23<00:00, 35.23it/s]\n",
            "Eval : 100%|██████████| 63/63 [00:01<00:00, 35.63it/s]\n",
            "Epoch 1545\n"
          ]
        },
        {
          "output_type": "stream",
          "name": "stdout",
          "text": [
            "107.089\n"
          ]
        },
        {
          "output_type": "stream",
          "name": "stderr",
          "text": [
            "Train: 100%|██████████| 813/813 [00:28<00:00, 28.08it/s]\n",
            "Eval : 100%|██████████| 63/63 [00:01<00:00, 36.32it/s]\n",
            "Epoch 1546\n"
          ]
        },
        {
          "output_type": "stream",
          "name": "stdout",
          "text": [
            "107.089\n"
          ]
        },
        {
          "output_type": "stream",
          "name": "stderr",
          "text": [
            "Train: 100%|██████████| 813/813 [00:23<00:00, 35.27it/s]\n",
            "Eval : 100%|██████████| 63/63 [00:01<00:00, 36.46it/s]\n",
            "Epoch 1547\n"
          ]
        },
        {
          "output_type": "stream",
          "name": "stdout",
          "text": [
            "108.151\n"
          ]
        },
        {
          "output_type": "stream",
          "name": "stderr",
          "text": [
            "Train: 100%|██████████| 813/813 [00:28<00:00, 28.23it/s]\n",
            "Eval : 100%|██████████| 63/63 [00:01<00:00, 35.98it/s]\n",
            "Epoch 1548\n"
          ]
        },
        {
          "output_type": "stream",
          "name": "stdout",
          "text": [
            "108.151\n"
          ]
        },
        {
          "output_type": "stream",
          "name": "stderr",
          "text": [
            "Train: 100%|██████████| 813/813 [00:23<00:00, 35.12it/s]\n",
            "Eval : 100%|██████████| 63/63 [00:01<00:00, 35.78it/s]\n",
            "Epoch 1549\n"
          ]
        },
        {
          "output_type": "stream",
          "name": "stdout",
          "text": [
            "107.532\n"
          ]
        },
        {
          "output_type": "stream",
          "name": "stderr",
          "text": [
            "Train: 100%|██████████| 813/813 [00:29<00:00, 27.99it/s]\n",
            "Eval : 100%|██████████| 63/63 [00:01<00:00, 36.66it/s]\n",
            "Epoch 1550\n"
          ]
        },
        {
          "output_type": "stream",
          "name": "stdout",
          "text": [
            "107.532\n"
          ]
        },
        {
          "output_type": "stream",
          "name": "stderr",
          "text": [
            "Train: 100%|██████████| 813/813 [00:22<00:00, 35.38it/s]\n",
            "Eval : 100%|██████████| 63/63 [00:01<00:00, 36.74it/s]\n",
            "Epoch 1551\n"
          ]
        },
        {
          "output_type": "stream",
          "name": "stdout",
          "text": [
            "108.195\n"
          ]
        },
        {
          "output_type": "stream",
          "name": "stderr",
          "text": [
            "Train: 100%|██████████| 813/813 [00:28<00:00, 28.37it/s]\n",
            "Eval : 100%|██████████| 63/63 [00:01<00:00, 36.54it/s]\n",
            "Epoch 1552\n"
          ]
        },
        {
          "output_type": "stream",
          "name": "stdout",
          "text": [
            "108.195\n"
          ]
        },
        {
          "output_type": "stream",
          "name": "stderr",
          "text": [
            "Train: 100%|██████████| 813/813 [00:23<00:00, 35.27it/s]\n",
            "Eval : 100%|██████████| 63/63 [00:01<00:00, 36.85it/s]\n",
            "Epoch 1553\n"
          ]
        },
        {
          "output_type": "stream",
          "name": "stdout",
          "text": [
            "108.217\n"
          ]
        },
        {
          "output_type": "stream",
          "name": "stderr",
          "text": [
            "Train: 100%|██████████| 813/813 [00:29<00:00, 27.91it/s]\n",
            "Eval : 100%|██████████| 63/63 [00:01<00:00, 35.90it/s]\n",
            "Epoch 1554\n"
          ]
        },
        {
          "output_type": "stream",
          "name": "stdout",
          "text": [
            "108.217\n"
          ]
        },
        {
          "output_type": "stream",
          "name": "stderr",
          "text": [
            "Train: 100%|██████████| 813/813 [00:22<00:00, 35.52it/s]\n",
            "Eval : 100%|██████████| 63/63 [00:01<00:00, 34.71it/s]\n",
            "Epoch 1555\n"
          ]
        },
        {
          "output_type": "stream",
          "name": "stdout",
          "text": [
            "108.49\n"
          ]
        },
        {
          "output_type": "stream",
          "name": "stderr",
          "text": [
            "Train: 100%|██████████| 813/813 [00:28<00:00, 28.37it/s]\n",
            "Eval : 100%|██████████| 63/63 [00:01<00:00, 34.95it/s]\n",
            "Epoch 1556\n"
          ]
        },
        {
          "output_type": "stream",
          "name": "stdout",
          "text": [
            "108.49\n"
          ]
        },
        {
          "output_type": "stream",
          "name": "stderr",
          "text": [
            "Train: 100%|██████████| 813/813 [00:22<00:00, 35.42it/s]\n",
            "Eval : 100%|██████████| 63/63 [00:01<00:00, 36.51it/s]\n",
            "Epoch 1557\n"
          ]
        },
        {
          "output_type": "stream",
          "name": "stdout",
          "text": [
            "108.414\n"
          ]
        },
        {
          "output_type": "stream",
          "name": "stderr",
          "text": [
            "Train: 100%|██████████| 813/813 [00:29<00:00, 27.91it/s]\n",
            "Eval : 100%|██████████| 63/63 [00:01<00:00, 36.00it/s]\n",
            "Epoch 1558\n"
          ]
        },
        {
          "output_type": "stream",
          "name": "stdout",
          "text": [
            "108.414\n"
          ]
        },
        {
          "output_type": "stream",
          "name": "stderr",
          "text": [
            "Train: 100%|██████████| 813/813 [00:22<00:00, 35.53it/s]\n",
            "Eval : 100%|██████████| 63/63 [00:01<00:00, 36.90it/s]\n",
            "Epoch 1559\n"
          ]
        },
        {
          "output_type": "stream",
          "name": "stdout",
          "text": [
            "108.257\n"
          ]
        },
        {
          "output_type": "stream",
          "name": "stderr",
          "text": [
            "Train: 100%|██████████| 813/813 [00:28<00:00, 28.29it/s]\n",
            "Eval : 100%|██████████| 63/63 [00:01<00:00, 36.29it/s]\n",
            "Epoch 1560\n"
          ]
        },
        {
          "output_type": "stream",
          "name": "stdout",
          "text": [
            "108.257\n"
          ]
        },
        {
          "output_type": "stream",
          "name": "stderr",
          "text": [
            "Train: 100%|██████████| 813/813 [00:23<00:00, 35.18it/s]\n",
            "Eval : 100%|██████████| 63/63 [00:01<00:00, 36.42it/s]\n",
            "Epoch 1561\n"
          ]
        },
        {
          "output_type": "stream",
          "name": "stdout",
          "text": [
            "109.747\n"
          ]
        },
        {
          "output_type": "stream",
          "name": "stderr",
          "text": [
            "Train: 100%|██████████| 813/813 [00:29<00:00, 27.86it/s]\n",
            "Eval : 100%|██████████| 63/63 [00:01<00:00, 36.36it/s]\n",
            "Epoch 1562\n"
          ]
        },
        {
          "output_type": "stream",
          "name": "stdout",
          "text": [
            "109.747\n"
          ]
        },
        {
          "output_type": "stream",
          "name": "stderr",
          "text": [
            "Train: 100%|██████████| 813/813 [00:23<00:00, 34.97it/s]\n",
            "Eval : 100%|██████████| 63/63 [00:01<00:00, 35.86it/s]\n",
            "Epoch 1563\n"
          ]
        },
        {
          "output_type": "stream",
          "name": "stdout",
          "text": [
            "108.779\n"
          ]
        },
        {
          "output_type": "stream",
          "name": "stderr",
          "text": [
            "Train: 100%|██████████| 813/813 [00:28<00:00, 28.45it/s]\n",
            "Eval : 100%|██████████| 63/63 [00:01<00:00, 35.84it/s]\n",
            "Epoch 1564\n"
          ]
        },
        {
          "output_type": "stream",
          "name": "stdout",
          "text": [
            "108.779\n"
          ]
        },
        {
          "output_type": "stream",
          "name": "stderr",
          "text": [
            "Train: 100%|██████████| 813/813 [00:23<00:00, 35.15it/s]\n",
            "Eval : 100%|██████████| 63/63 [00:01<00:00, 36.11it/s]\n",
            "Epoch 1565\n"
          ]
        },
        {
          "output_type": "stream",
          "name": "stdout",
          "text": [
            "107.97\n"
          ]
        },
        {
          "output_type": "stream",
          "name": "stderr",
          "text": [
            "Train: 100%|██████████| 813/813 [00:29<00:00, 27.96it/s]\n",
            "Eval : 100%|██████████| 63/63 [00:01<00:00, 36.32it/s]\n",
            "Epoch 1566\n"
          ]
        },
        {
          "output_type": "stream",
          "name": "stdout",
          "text": [
            "107.97\n"
          ]
        },
        {
          "output_type": "stream",
          "name": "stderr",
          "text": [
            "Train: 100%|██████████| 813/813 [00:23<00:00, 35.25it/s]\n",
            "Eval : 100%|██████████| 63/63 [00:01<00:00, 36.24it/s]\n",
            "Epoch 1567\n"
          ]
        },
        {
          "output_type": "stream",
          "name": "stdout",
          "text": [
            "108.269\n"
          ]
        },
        {
          "output_type": "stream",
          "name": "stderr",
          "text": [
            "Train: 100%|██████████| 813/813 [00:28<00:00, 28.32it/s]\n",
            "Eval : 100%|██████████| 63/63 [00:01<00:00, 34.62it/s]\n",
            "Epoch 1568\n"
          ]
        },
        {
          "output_type": "stream",
          "name": "stdout",
          "text": [
            "108.269\n"
          ]
        },
        {
          "output_type": "stream",
          "name": "stderr",
          "text": [
            "Train: 100%|██████████| 813/813 [00:23<00:00, 35.24it/s]\n",
            "Eval : 100%|██████████| 63/63 [00:01<00:00, 36.52it/s]\n",
            "Epoch 1569\n"
          ]
        },
        {
          "output_type": "stream",
          "name": "stdout",
          "text": [
            "108.747\n"
          ]
        },
        {
          "output_type": "stream",
          "name": "stderr",
          "text": [
            "Train: 100%|██████████| 813/813 [00:28<00:00, 28.16it/s]\n",
            "Eval : 100%|██████████| 63/63 [00:01<00:00, 36.46it/s]\n",
            "Epoch 1570\n"
          ]
        },
        {
          "output_type": "stream",
          "name": "stdout",
          "text": [
            "108.747\n"
          ]
        },
        {
          "output_type": "stream",
          "name": "stderr",
          "text": [
            "Train: 100%|██████████| 813/813 [00:22<00:00, 35.51it/s]\n",
            "Eval : 100%|██████████| 63/63 [00:01<00:00, 35.83it/s]\n",
            "Epoch 1571\n"
          ]
        },
        {
          "output_type": "stream",
          "name": "stdout",
          "text": [
            "107.841\n"
          ]
        },
        {
          "output_type": "stream",
          "name": "stderr",
          "text": [
            "Train: 100%|██████████| 813/813 [00:28<00:00, 28.33it/s]\n",
            "Eval : 100%|██████████| 63/63 [00:01<00:00, 36.85it/s]\n",
            "Epoch 1572\n"
          ]
        },
        {
          "output_type": "stream",
          "name": "stdout",
          "text": [
            "107.841\n"
          ]
        },
        {
          "output_type": "stream",
          "name": "stderr",
          "text": [
            "Train: 100%|██████████| 813/813 [00:23<00:00, 35.24it/s]\n",
            "Eval : 100%|██████████| 63/63 [00:01<00:00, 36.46it/s]\n",
            "Epoch 1573\n"
          ]
        },
        {
          "output_type": "stream",
          "name": "stdout",
          "text": [
            "107.897\n"
          ]
        },
        {
          "output_type": "stream",
          "name": "stderr",
          "text": [
            "Train: 100%|██████████| 813/813 [00:28<00:00, 28.13it/s]\n",
            "Eval : 100%|██████████| 63/63 [00:01<00:00, 36.83it/s]\n",
            "Epoch 1574\n"
          ]
        },
        {
          "output_type": "stream",
          "name": "stdout",
          "text": [
            "107.897\n"
          ]
        },
        {
          "output_type": "stream",
          "name": "stderr",
          "text": [
            "Train: 100%|██████████| 813/813 [00:22<00:00, 35.47it/s]\n",
            "Eval : 100%|██████████| 63/63 [00:01<00:00, 36.78it/s]\n",
            "Epoch 1575\n"
          ]
        },
        {
          "output_type": "stream",
          "name": "stdout",
          "text": [
            "108.307\n"
          ]
        },
        {
          "output_type": "stream",
          "name": "stderr",
          "text": [
            "Train: 100%|██████████| 813/813 [00:28<00:00, 28.23it/s]\n",
            "Eval : 100%|██████████| 63/63 [00:01<00:00, 37.05it/s]\n",
            "Epoch 1576\n"
          ]
        },
        {
          "output_type": "stream",
          "name": "stdout",
          "text": [
            "108.307\n"
          ]
        },
        {
          "output_type": "stream",
          "name": "stderr",
          "text": [
            "Train: 100%|██████████| 813/813 [00:23<00:00, 35.04it/s]\n",
            "Eval : 100%|██████████| 63/63 [00:01<00:00, 36.68it/s]\n",
            "Epoch 1577\n"
          ]
        },
        {
          "output_type": "stream",
          "name": "stdout",
          "text": [
            "107.881\n"
          ]
        },
        {
          "output_type": "stream",
          "name": "stderr",
          "text": [
            "Train: 100%|██████████| 813/813 [00:28<00:00, 28.18it/s]\n",
            "Eval : 100%|██████████| 63/63 [00:01<00:00, 36.91it/s]\n",
            "Epoch 1578\n"
          ]
        },
        {
          "output_type": "stream",
          "name": "stdout",
          "text": [
            "107.881\n"
          ]
        },
        {
          "output_type": "stream",
          "name": "stderr",
          "text": [
            "Train: 100%|██████████| 813/813 [00:22<00:00, 35.75it/s]\n",
            "Eval : 100%|██████████| 63/63 [00:01<00:00, 36.79it/s]\n",
            "Epoch 1579\n"
          ]
        },
        {
          "output_type": "stream",
          "name": "stdout",
          "text": [
            "107.583\n"
          ]
        },
        {
          "output_type": "stream",
          "name": "stderr",
          "text": [
            "Train: 100%|██████████| 813/813 [00:28<00:00, 28.13it/s]\n",
            "Eval : 100%|██████████| 63/63 [00:01<00:00, 36.69it/s]\n",
            "Epoch 1580\n"
          ]
        },
        {
          "output_type": "stream",
          "name": "stdout",
          "text": [
            "107.583\n"
          ]
        },
        {
          "output_type": "stream",
          "name": "stderr",
          "text": [
            "Train: 100%|██████████| 813/813 [00:22<00:00, 35.42it/s]\n",
            "Eval : 100%|██████████| 63/63 [00:01<00:00, 36.28it/s]\n",
            "Epoch 1581\n"
          ]
        },
        {
          "output_type": "stream",
          "name": "stdout",
          "text": [
            "109.03\n"
          ]
        },
        {
          "output_type": "stream",
          "name": "stderr",
          "text": [
            "Train: 100%|██████████| 813/813 [00:28<00:00, 28.15it/s]\n",
            "Eval : 100%|██████████| 63/63 [00:01<00:00, 35.27it/s]\n",
            "Epoch 1582\n"
          ]
        },
        {
          "output_type": "stream",
          "name": "stdout",
          "text": [
            "109.03\n"
          ]
        },
        {
          "output_type": "stream",
          "name": "stderr",
          "text": [
            "Train: 100%|██████████| 813/813 [00:22<00:00, 35.55it/s]\n",
            "Eval : 100%|██████████| 63/63 [00:01<00:00, 36.10it/s]\n",
            "Epoch 1583\n"
          ]
        },
        {
          "output_type": "stream",
          "name": "stdout",
          "text": [
            "106.908\n"
          ]
        },
        {
          "output_type": "stream",
          "name": "stderr",
          "text": [
            "Train: 100%|██████████| 813/813 [00:28<00:00, 28.53it/s]\n",
            "Eval : 100%|██████████| 63/63 [00:01<00:00, 36.73it/s]\n",
            "Epoch 1584\n"
          ]
        },
        {
          "output_type": "stream",
          "name": "stdout",
          "text": [
            "106.908\n"
          ]
        },
        {
          "output_type": "stream",
          "name": "stderr",
          "text": [
            "Train: 100%|██████████| 813/813 [00:23<00:00, 35.29it/s]\n",
            "Eval : 100%|██████████| 63/63 [00:01<00:00, 36.77it/s]\n",
            "Epoch 1585\n"
          ]
        },
        {
          "output_type": "stream",
          "name": "stdout",
          "text": [
            "108.549\n"
          ]
        },
        {
          "output_type": "stream",
          "name": "stderr",
          "text": [
            "Train: 100%|██████████| 813/813 [00:28<00:00, 28.15it/s]\n",
            "Eval : 100%|██████████| 63/63 [00:01<00:00, 35.91it/s]\n",
            "Epoch 1586\n"
          ]
        },
        {
          "output_type": "stream",
          "name": "stdout",
          "text": [
            "108.549\n"
          ]
        },
        {
          "output_type": "stream",
          "name": "stderr",
          "text": [
            "Train: 100%|██████████| 813/813 [00:22<00:00, 35.38it/s]\n",
            "Eval : 100%|██████████| 63/63 [00:01<00:00, 36.24it/s]\n",
            "Epoch 1587\n"
          ]
        },
        {
          "output_type": "stream",
          "name": "stdout",
          "text": [
            "108.1\n"
          ]
        },
        {
          "output_type": "stream",
          "name": "stderr",
          "text": [
            "Train: 100%|██████████| 813/813 [00:28<00:00, 28.12it/s]\n",
            "Eval : 100%|██████████| 63/63 [00:01<00:00, 36.75it/s]\n",
            "Epoch 1588\n"
          ]
        },
        {
          "output_type": "stream",
          "name": "stdout",
          "text": [
            "108.1\n"
          ]
        },
        {
          "output_type": "stream",
          "name": "stderr",
          "text": [
            "Train: 100%|██████████| 813/813 [00:22<00:00, 35.35it/s]\n",
            "Eval : 100%|██████████| 63/63 [00:01<00:00, 36.28it/s]\n",
            "Epoch 1589\n"
          ]
        },
        {
          "output_type": "stream",
          "name": "stdout",
          "text": [
            "108.45\n"
          ]
        },
        {
          "output_type": "stream",
          "name": "stderr",
          "text": [
            "Train: 100%|██████████| 813/813 [00:28<00:00, 28.13it/s]\n",
            "Eval : 100%|██████████| 63/63 [00:01<00:00, 35.70it/s]\n",
            "Epoch 1590\n"
          ]
        },
        {
          "output_type": "stream",
          "name": "stdout",
          "text": [
            "108.45\n"
          ]
        },
        {
          "output_type": "stream",
          "name": "stderr",
          "text": [
            "Train: 100%|██████████| 813/813 [00:22<00:00, 35.44it/s]\n",
            "Eval : 100%|██████████| 63/63 [00:01<00:00, 36.60it/s]\n",
            "Epoch 1591\n"
          ]
        },
        {
          "output_type": "stream",
          "name": "stdout",
          "text": [
            "107.66\n"
          ]
        },
        {
          "output_type": "stream",
          "name": "stderr",
          "text": [
            "Train: 100%|██████████| 813/813 [00:28<00:00, 28.39it/s]\n",
            "Eval : 100%|██████████| 63/63 [00:01<00:00, 36.42it/s]\n",
            "Epoch 1592\n"
          ]
        },
        {
          "output_type": "stream",
          "name": "stdout",
          "text": [
            "107.66\n"
          ]
        },
        {
          "output_type": "stream",
          "name": "stderr",
          "text": [
            "Train: 100%|██████████| 813/813 [00:23<00:00, 35.19it/s]\n",
            "Eval : 100%|██████████| 63/63 [00:01<00:00, 35.72it/s]\n",
            "Epoch 1593\n"
          ]
        },
        {
          "output_type": "stream",
          "name": "stdout",
          "text": [
            "108.321\n"
          ]
        },
        {
          "output_type": "stream",
          "name": "stderr",
          "text": [
            "Train: 100%|██████████| 813/813 [00:28<00:00, 28.38it/s]\n",
            "Eval : 100%|██████████| 63/63 [00:01<00:00, 36.22it/s]\n",
            "Epoch 1594\n"
          ]
        },
        {
          "output_type": "stream",
          "name": "stdout",
          "text": [
            "108.321\n"
          ]
        },
        {
          "output_type": "stream",
          "name": "stderr",
          "text": [
            "Train: 100%|██████████| 813/813 [00:23<00:00, 35.31it/s]\n",
            "Eval : 100%|██████████| 63/63 [00:01<00:00, 36.22it/s]\n",
            "Epoch 1595\n"
          ]
        },
        {
          "output_type": "stream",
          "name": "stdout",
          "text": [
            "107.648\n"
          ]
        },
        {
          "output_type": "stream",
          "name": "stderr",
          "text": [
            "Train: 100%|██████████| 813/813 [00:28<00:00, 28.34it/s]\n",
            "Eval : 100%|██████████| 63/63 [00:01<00:00, 36.64it/s]\n",
            "Epoch 1596\n"
          ]
        },
        {
          "output_type": "stream",
          "name": "stdout",
          "text": [
            "107.648\n"
          ]
        },
        {
          "output_type": "stream",
          "name": "stderr",
          "text": [
            "Train: 100%|██████████| 813/813 [00:22<00:00, 35.37it/s]\n",
            "Eval : 100%|██████████| 63/63 [00:01<00:00, 36.12it/s]\n",
            "Epoch 1597\n"
          ]
        },
        {
          "output_type": "stream",
          "name": "stdout",
          "text": [
            "108.923\n"
          ]
        },
        {
          "output_type": "stream",
          "name": "stderr",
          "text": [
            "Train: 100%|██████████| 813/813 [00:28<00:00, 28.13it/s]\n",
            "Eval : 100%|██████████| 63/63 [00:01<00:00, 36.35it/s]\n",
            "Epoch 1598\n"
          ]
        },
        {
          "output_type": "stream",
          "name": "stdout",
          "text": [
            "108.923\n"
          ]
        },
        {
          "output_type": "stream",
          "name": "stderr",
          "text": [
            "Train: 100%|██████████| 813/813 [00:23<00:00, 35.13it/s]\n",
            "Eval : 100%|██████████| 63/63 [00:01<00:00, 35.41it/s]\n",
            "Epoch 1599\n"
          ]
        },
        {
          "output_type": "stream",
          "name": "stdout",
          "text": [
            "107.941\n"
          ]
        },
        {
          "output_type": "stream",
          "name": "stderr",
          "text": [
            "Train: 100%|██████████| 813/813 [00:28<00:00, 28.07it/s]\n",
            "Eval : 100%|██████████| 63/63 [00:01<00:00, 35.88it/s]\n",
            "Epoch 1600\n"
          ]
        },
        {
          "output_type": "stream",
          "name": "stdout",
          "text": [
            "107.941\n"
          ]
        },
        {
          "output_type": "stream",
          "name": "stderr",
          "text": [
            "Train: 100%|██████████| 813/813 [00:23<00:00, 35.33it/s]\n",
            "Eval : 100%|██████████| 63/63 [00:01<00:00, 34.95it/s]\n",
            "Epoch 1601\n"
          ]
        },
        {
          "output_type": "stream",
          "name": "stdout",
          "text": [
            "108.403\n"
          ]
        },
        {
          "output_type": "stream",
          "name": "stderr",
          "text": [
            "Train: 100%|██████████| 813/813 [00:28<00:00, 28.04it/s]\n",
            "Eval : 100%|██████████| 63/63 [00:01<00:00, 36.55it/s]\n",
            "Epoch 1602\n"
          ]
        },
        {
          "output_type": "stream",
          "name": "stdout",
          "text": [
            "108.403\n"
          ]
        },
        {
          "output_type": "stream",
          "name": "stderr",
          "text": [
            "Train: 100%|██████████| 813/813 [00:22<00:00, 35.36it/s]\n",
            "Eval : 100%|██████████| 63/63 [00:01<00:00, 36.29it/s]\n",
            "Epoch 1603\n"
          ]
        },
        {
          "output_type": "stream",
          "name": "stdout",
          "text": [
            "108.102\n"
          ]
        },
        {
          "output_type": "stream",
          "name": "stderr",
          "text": [
            "Train: 100%|██████████| 813/813 [00:29<00:00, 27.85it/s]\n",
            "Eval : 100%|██████████| 63/63 [00:01<00:00, 36.34it/s]\n",
            "Epoch 1604\n"
          ]
        },
        {
          "output_type": "stream",
          "name": "stdout",
          "text": [
            "108.102\n"
          ]
        },
        {
          "output_type": "stream",
          "name": "stderr",
          "text": [
            "Train: 100%|██████████| 813/813 [00:22<00:00, 35.47it/s]\n",
            "Eval : 100%|██████████| 63/63 [00:01<00:00, 36.40it/s]\n",
            "Epoch 1605\n"
          ]
        },
        {
          "output_type": "stream",
          "name": "stdout",
          "text": [
            "108.383\n"
          ]
        },
        {
          "output_type": "stream",
          "name": "stderr",
          "text": [
            "Train: 100%|██████████| 813/813 [00:28<00:00, 28.11it/s]\n",
            "Eval : 100%|██████████| 63/63 [00:01<00:00, 36.47it/s]\n",
            "Epoch 1606\n"
          ]
        },
        {
          "output_type": "stream",
          "name": "stdout",
          "text": [
            "108.383\n"
          ]
        },
        {
          "output_type": "stream",
          "name": "stderr",
          "text": [
            "Train: 100%|██████████| 813/813 [00:22<00:00, 35.55it/s]\n",
            "Eval : 100%|██████████| 63/63 [00:01<00:00, 36.34it/s]\n",
            "Epoch 1607\n"
          ]
        },
        {
          "output_type": "stream",
          "name": "stdout",
          "text": [
            "107.227\n"
          ]
        },
        {
          "output_type": "stream",
          "name": "stderr",
          "text": [
            "Train: 100%|██████████| 813/813 [00:28<00:00, 28.33it/s]\n",
            "Eval : 100%|██████████| 63/63 [00:01<00:00, 35.45it/s]\n",
            "Epoch 1608\n"
          ]
        },
        {
          "output_type": "stream",
          "name": "stdout",
          "text": [
            "107.227\n"
          ]
        },
        {
          "output_type": "stream",
          "name": "stderr",
          "text": [
            "Train: 100%|██████████| 813/813 [00:22<00:00, 35.49it/s]\n",
            "Eval : 100%|██████████| 63/63 [00:01<00:00, 35.54it/s]\n",
            "Epoch 1609\n"
          ]
        },
        {
          "output_type": "stream",
          "name": "stdout",
          "text": [
            "108.159\n"
          ]
        },
        {
          "output_type": "stream",
          "name": "stderr",
          "text": [
            "Train: 100%|██████████| 813/813 [00:29<00:00, 27.94it/s]\n",
            "Eval : 100%|██████████| 63/63 [00:01<00:00, 35.80it/s]\n",
            "Epoch 1610\n"
          ]
        },
        {
          "output_type": "stream",
          "name": "stdout",
          "text": [
            "108.159\n"
          ]
        },
        {
          "output_type": "stream",
          "name": "stderr",
          "text": [
            "Train: 100%|██████████| 813/813 [00:22<00:00, 35.39it/s]\n",
            "Eval : 100%|██████████| 63/63 [00:01<00:00, 35.79it/s]\n",
            "Epoch 1611\n"
          ]
        },
        {
          "output_type": "stream",
          "name": "stdout",
          "text": [
            "107.532\n"
          ]
        },
        {
          "output_type": "stream",
          "name": "stderr",
          "text": [
            "Train: 100%|██████████| 813/813 [00:28<00:00, 28.33it/s]\n",
            "Eval : 100%|██████████| 63/63 [00:01<00:00, 36.40it/s]\n",
            "Epoch 1612\n"
          ]
        },
        {
          "output_type": "stream",
          "name": "stdout",
          "text": [
            "107.532\n"
          ]
        },
        {
          "output_type": "stream",
          "name": "stderr",
          "text": [
            "Train: 100%|██████████| 813/813 [00:23<00:00, 35.27it/s]\n",
            "Eval : 100%|██████████| 63/63 [00:01<00:00, 36.53it/s]\n",
            "Epoch 1613\n"
          ]
        },
        {
          "output_type": "stream",
          "name": "stdout",
          "text": [
            "108.117\n"
          ]
        },
        {
          "output_type": "stream",
          "name": "stderr",
          "text": [
            "Train: 100%|██████████| 813/813 [00:28<00:00, 28.33it/s]\n",
            "Eval : 100%|██████████| 63/63 [00:01<00:00, 35.79it/s]\n",
            "Epoch 1614\n"
          ]
        },
        {
          "output_type": "stream",
          "name": "stdout",
          "text": [
            "108.117\n"
          ]
        },
        {
          "output_type": "stream",
          "name": "stderr",
          "text": [
            "Train: 100%|██████████| 813/813 [00:23<00:00, 35.14it/s]\n",
            "Eval : 100%|██████████| 63/63 [00:01<00:00, 35.52it/s]\n",
            "Epoch 1615\n"
          ]
        },
        {
          "output_type": "stream",
          "name": "stdout",
          "text": [
            "107.852\n"
          ]
        },
        {
          "output_type": "stream",
          "name": "stderr",
          "text": [
            "Train: 100%|██████████| 813/813 [00:28<00:00, 28.15it/s]\n",
            "Eval : 100%|██████████| 63/63 [00:01<00:00, 36.51it/s]\n",
            "Epoch 1616\n"
          ]
        },
        {
          "output_type": "stream",
          "name": "stdout",
          "text": [
            "107.852\n"
          ]
        },
        {
          "output_type": "stream",
          "name": "stderr",
          "text": [
            "Train: 100%|██████████| 813/813 [00:23<00:00, 35.26it/s]\n",
            "Eval : 100%|██████████| 63/63 [00:01<00:00, 36.69it/s]\n",
            "Epoch 1617\n"
          ]
        },
        {
          "output_type": "stream",
          "name": "stdout",
          "text": [
            "107.624\n"
          ]
        },
        {
          "output_type": "stream",
          "name": "stderr",
          "text": [
            "Train: 100%|██████████| 813/813 [00:28<00:00, 28.33it/s]\n",
            "Eval : 100%|██████████| 63/63 [00:01<00:00, 36.42it/s]\n",
            "Epoch 1618\n"
          ]
        },
        {
          "output_type": "stream",
          "name": "stdout",
          "text": [
            "107.624\n"
          ]
        },
        {
          "output_type": "stream",
          "name": "stderr",
          "text": [
            "Train: 100%|██████████| 813/813 [00:22<00:00, 35.45it/s]\n",
            "Eval : 100%|██████████| 63/63 [00:01<00:00, 36.25it/s]\n",
            "Epoch 1619\n"
          ]
        },
        {
          "output_type": "stream",
          "name": "stdout",
          "text": [
            "107.89\n"
          ]
        },
        {
          "output_type": "stream",
          "name": "stderr",
          "text": [
            "Train: 100%|██████████| 813/813 [00:28<00:00, 28.43it/s]\n",
            "Eval : 100%|██████████| 63/63 [00:01<00:00, 36.18it/s]\n",
            "Epoch 1620\n"
          ]
        },
        {
          "output_type": "stream",
          "name": "stdout",
          "text": [
            "107.89\n"
          ]
        },
        {
          "output_type": "stream",
          "name": "stderr",
          "text": [
            "Train: 100%|██████████| 813/813 [00:22<00:00, 35.47it/s]\n",
            "Eval : 100%|██████████| 63/63 [00:01<00:00, 36.75it/s]\n",
            "Epoch 1621\n"
          ]
        },
        {
          "output_type": "stream",
          "name": "stdout",
          "text": [
            "108.865\n"
          ]
        },
        {
          "output_type": "stream",
          "name": "stderr",
          "text": [
            "Train: 100%|██████████| 813/813 [00:28<00:00, 28.20it/s]\n",
            "Eval : 100%|██████████| 63/63 [00:01<00:00, 36.30it/s]\n",
            "Epoch 1622\n"
          ]
        },
        {
          "output_type": "stream",
          "name": "stdout",
          "text": [
            "108.865\n"
          ]
        },
        {
          "output_type": "stream",
          "name": "stderr",
          "text": [
            "Train: 100%|██████████| 813/813 [00:22<00:00, 35.47it/s]\n",
            "Eval : 100%|██████████| 63/63 [00:01<00:00, 36.47it/s]\n",
            "Epoch 1623\n"
          ]
        },
        {
          "output_type": "stream",
          "name": "stdout",
          "text": [
            "107.388\n"
          ]
        },
        {
          "output_type": "stream",
          "name": "stderr",
          "text": [
            "Train: 100%|██████████| 813/813 [00:28<00:00, 28.13it/s]\n",
            "Eval : 100%|██████████| 63/63 [00:01<00:00, 36.14it/s]\n",
            "Epoch 1624\n"
          ]
        },
        {
          "output_type": "stream",
          "name": "stdout",
          "text": [
            "107.388\n"
          ]
        },
        {
          "output_type": "stream",
          "name": "stderr",
          "text": [
            "Train: 100%|██████████| 813/813 [00:22<00:00, 35.37it/s]\n",
            "Eval : 100%|██████████| 63/63 [00:01<00:00, 36.76it/s]\n",
            "Epoch 1625\n"
          ]
        },
        {
          "output_type": "stream",
          "name": "stdout",
          "text": [
            "108.775\n"
          ]
        },
        {
          "output_type": "stream",
          "name": "stderr",
          "text": [
            "Train: 100%|██████████| 813/813 [00:29<00:00, 28.00it/s]\n",
            "Eval : 100%|██████████| 63/63 [00:01<00:00, 36.07it/s]\n",
            "Epoch 1626\n"
          ]
        },
        {
          "output_type": "stream",
          "name": "stdout",
          "text": [
            "108.775\n"
          ]
        },
        {
          "output_type": "stream",
          "name": "stderr",
          "text": [
            "Train: 100%|██████████| 813/813 [00:22<00:00, 35.49it/s]\n",
            "Eval : 100%|██████████| 63/63 [00:01<00:00, 36.16it/s]\n",
            "Epoch 1627\n"
          ]
        },
        {
          "output_type": "stream",
          "name": "stdout",
          "text": [
            "107.545\n"
          ]
        },
        {
          "output_type": "stream",
          "name": "stderr",
          "text": [
            "Train: 100%|██████████| 813/813 [00:28<00:00, 28.12it/s]\n",
            "Eval : 100%|██████████| 63/63 [00:01<00:00, 36.95it/s]\n",
            "Epoch 1628\n"
          ]
        },
        {
          "output_type": "stream",
          "name": "stdout",
          "text": [
            "107.545\n"
          ]
        },
        {
          "output_type": "stream",
          "name": "stderr",
          "text": [
            "Train: 100%|██████████| 813/813 [00:23<00:00, 35.28it/s]\n",
            "Eval : 100%|██████████| 63/63 [00:01<00:00, 35.17it/s]\n",
            "Epoch 1629\n"
          ]
        },
        {
          "output_type": "stream",
          "name": "stdout",
          "text": [
            "109.417\n"
          ]
        },
        {
          "output_type": "stream",
          "name": "stderr",
          "text": [
            "Train: 100%|██████████| 813/813 [00:29<00:00, 27.89it/s]\n",
            "Eval : 100%|██████████| 63/63 [00:01<00:00, 36.01it/s]\n",
            "Epoch 1630\n"
          ]
        },
        {
          "output_type": "stream",
          "name": "stdout",
          "text": [
            "109.417\n"
          ]
        },
        {
          "output_type": "stream",
          "name": "stderr",
          "text": [
            "Train: 100%|██████████| 813/813 [00:23<00:00, 35.31it/s]\n",
            "Eval : 100%|██████████| 63/63 [00:01<00:00, 35.57it/s]\n",
            "Epoch 1631\n"
          ]
        },
        {
          "output_type": "stream",
          "name": "stdout",
          "text": [
            "107.392\n"
          ]
        },
        {
          "output_type": "stream",
          "name": "stderr",
          "text": [
            "Train: 100%|██████████| 813/813 [00:29<00:00, 27.74it/s]\n",
            "Eval : 100%|██████████| 63/63 [00:01<00:00, 36.25it/s]\n",
            "Epoch 1632\n"
          ]
        },
        {
          "output_type": "stream",
          "name": "stdout",
          "text": [
            "107.392\n"
          ]
        },
        {
          "output_type": "stream",
          "name": "stderr",
          "text": [
            "Train: 100%|██████████| 813/813 [00:23<00:00, 35.22it/s]\n",
            "Eval : 100%|██████████| 63/63 [00:01<00:00, 36.60it/s]\n",
            "Epoch 1633\n"
          ]
        },
        {
          "output_type": "stream",
          "name": "stdout",
          "text": [
            "108.775\n"
          ]
        },
        {
          "output_type": "stream",
          "name": "stderr",
          "text": [
            "Train: 100%|██████████| 813/813 [00:29<00:00, 27.98it/s]\n",
            "Eval : 100%|██████████| 63/63 [00:01<00:00, 35.67it/s]\n",
            "Epoch 1634\n"
          ]
        },
        {
          "output_type": "stream",
          "name": "stdout",
          "text": [
            "108.775\n"
          ]
        },
        {
          "output_type": "stream",
          "name": "stderr",
          "text": [
            "Train: 100%|██████████| 813/813 [00:22<00:00, 35.57it/s]\n",
            "Eval : 100%|██████████| 63/63 [00:01<00:00, 36.39it/s]\n",
            "Epoch 1635\n"
          ]
        },
        {
          "output_type": "stream",
          "name": "stdout",
          "text": [
            "108.248\n"
          ]
        },
        {
          "output_type": "stream",
          "name": "stderr",
          "text": [
            "Train: 100%|██████████| 813/813 [00:28<00:00, 28.35it/s]\n",
            "Eval : 100%|██████████| 63/63 [00:01<00:00, 35.67it/s]\n",
            "Epoch 1636\n"
          ]
        },
        {
          "output_type": "stream",
          "name": "stdout",
          "text": [
            "108.248\n"
          ]
        },
        {
          "output_type": "stream",
          "name": "stderr",
          "text": [
            "Train: 100%|██████████| 813/813 [00:23<00:00, 35.27it/s]\n",
            "Eval : 100%|██████████| 63/63 [00:01<00:00, 36.28it/s]\n",
            "Epoch 1637\n"
          ]
        },
        {
          "output_type": "stream",
          "name": "stdout",
          "text": [
            "109.03\n"
          ]
        },
        {
          "output_type": "stream",
          "name": "stderr",
          "text": [
            "Train: 100%|██████████| 813/813 [00:28<00:00, 28.22it/s]\n",
            "Eval : 100%|██████████| 63/63 [00:01<00:00, 36.44it/s]\n",
            "Epoch 1638\n"
          ]
        },
        {
          "output_type": "stream",
          "name": "stdout",
          "text": [
            "109.03\n"
          ]
        },
        {
          "output_type": "stream",
          "name": "stderr",
          "text": [
            "Train: 100%|██████████| 813/813 [00:23<00:00, 35.08it/s]\n",
            "Eval : 100%|██████████| 63/63 [00:01<00:00, 36.21it/s]\n",
            "Epoch 1639\n"
          ]
        },
        {
          "output_type": "stream",
          "name": "stdout",
          "text": [
            "106.968\n"
          ]
        },
        {
          "output_type": "stream",
          "name": "stderr",
          "text": [
            "Train: 100%|██████████| 813/813 [00:28<00:00, 28.15it/s]\n",
            "Eval : 100%|██████████| 63/63 [00:01<00:00, 36.67it/s]\n",
            "Epoch 1640\n"
          ]
        },
        {
          "output_type": "stream",
          "name": "stdout",
          "text": [
            "106.968\n"
          ]
        },
        {
          "output_type": "stream",
          "name": "stderr",
          "text": [
            "Train: 100%|██████████| 813/813 [00:22<00:00, 35.40it/s]\n",
            "Eval : 100%|██████████| 63/63 [00:01<00:00, 36.57it/s]\n",
            "Epoch 1641\n"
          ]
        },
        {
          "output_type": "stream",
          "name": "stdout",
          "text": [
            "108.817\n"
          ]
        },
        {
          "output_type": "stream",
          "name": "stderr",
          "text": [
            "Train: 100%|██████████| 813/813 [00:28<00:00, 28.31it/s]\n",
            "Eval : 100%|██████████| 63/63 [00:01<00:00, 36.65it/s]\n",
            "Epoch 1642\n"
          ]
        },
        {
          "output_type": "stream",
          "name": "stdout",
          "text": [
            "108.817\n"
          ]
        },
        {
          "output_type": "stream",
          "name": "stderr",
          "text": [
            "Train: 100%|██████████| 813/813 [00:22<00:00, 35.37it/s]\n",
            "Eval : 100%|██████████| 63/63 [00:01<00:00, 36.50it/s]\n",
            "Epoch 1643\n"
          ]
        },
        {
          "output_type": "stream",
          "name": "stdout",
          "text": [
            "107.054\n"
          ]
        },
        {
          "output_type": "stream",
          "name": "stderr",
          "text": [
            "Train: 100%|██████████| 813/813 [00:28<00:00, 28.23it/s]\n",
            "Eval : 100%|██████████| 63/63 [00:01<00:00, 35.74it/s]\n",
            "Epoch 1644\n"
          ]
        },
        {
          "output_type": "stream",
          "name": "stdout",
          "text": [
            "107.054\n"
          ]
        },
        {
          "output_type": "stream",
          "name": "stderr",
          "text": [
            "Train: 100%|██████████| 813/813 [00:23<00:00, 35.17it/s]\n",
            "Eval : 100%|██████████| 63/63 [00:01<00:00, 35.70it/s]\n",
            "Epoch 1645\n"
          ]
        },
        {
          "output_type": "stream",
          "name": "stdout",
          "text": [
            "108.703\n"
          ]
        },
        {
          "output_type": "stream",
          "name": "stderr",
          "text": [
            "Train: 100%|██████████| 813/813 [00:28<00:00, 28.45it/s]\n",
            "Eval : 100%|██████████| 63/63 [00:01<00:00, 36.53it/s]\n",
            "Epoch 1646\n"
          ]
        },
        {
          "output_type": "stream",
          "name": "stdout",
          "text": [
            "108.703\n"
          ]
        },
        {
          "output_type": "stream",
          "name": "stderr",
          "text": [
            "Train: 100%|██████████| 813/813 [00:22<00:00, 35.79it/s]\n",
            "Eval : 100%|██████████| 63/63 [00:01<00:00, 36.16it/s]\n",
            "Epoch 1647\n"
          ]
        },
        {
          "output_type": "stream",
          "name": "stdout",
          "text": [
            "108.103\n"
          ]
        },
        {
          "output_type": "stream",
          "name": "stderr",
          "text": [
            "Train: 100%|██████████| 813/813 [00:28<00:00, 28.24it/s]\n",
            "Eval : 100%|██████████| 63/63 [00:01<00:00, 36.85it/s]\n",
            "Epoch 1648\n"
          ]
        },
        {
          "output_type": "stream",
          "name": "stdout",
          "text": [
            "108.103\n"
          ]
        },
        {
          "output_type": "stream",
          "name": "stderr",
          "text": [
            "Train: 100%|██████████| 813/813 [00:22<00:00, 35.56it/s]\n",
            "Eval : 100%|██████████| 63/63 [00:01<00:00, 36.55it/s]\n",
            "Epoch 1649\n"
          ]
        },
        {
          "output_type": "stream",
          "name": "stdout",
          "text": [
            "108.942\n"
          ]
        },
        {
          "output_type": "stream",
          "name": "stderr",
          "text": [
            "Train: 100%|██████████| 813/813 [00:28<00:00, 28.12it/s]\n",
            "Eval : 100%|██████████| 63/63 [00:01<00:00, 36.05it/s]\n",
            "Epoch 1650\n"
          ]
        },
        {
          "output_type": "stream",
          "name": "stdout",
          "text": [
            "108.942\n"
          ]
        },
        {
          "output_type": "stream",
          "name": "stderr",
          "text": [
            "Train: 100%|██████████| 813/813 [00:22<00:00, 35.70it/s]\n",
            "Eval : 100%|██████████| 63/63 [00:01<00:00, 36.65it/s]\n",
            "Epoch 1651\n"
          ]
        },
        {
          "output_type": "stream",
          "name": "stdout",
          "text": [
            "108.405\n"
          ]
        },
        {
          "output_type": "stream",
          "name": "stderr",
          "text": [
            "Train: 100%|██████████| 813/813 [00:28<00:00, 28.42it/s]\n",
            "Eval : 100%|██████████| 63/63 [00:01<00:00, 36.72it/s]\n",
            "Epoch 1652\n"
          ]
        },
        {
          "output_type": "stream",
          "name": "stdout",
          "text": [
            "108.405\n"
          ]
        },
        {
          "output_type": "stream",
          "name": "stderr",
          "text": [
            "Train: 100%|██████████| 813/813 [00:23<00:00, 35.25it/s]\n",
            "Eval : 100%|██████████| 63/63 [00:01<00:00, 36.72it/s]\n",
            "Epoch 1653\n"
          ]
        },
        {
          "output_type": "stream",
          "name": "stdout",
          "text": [
            "108.544\n"
          ]
        },
        {
          "output_type": "stream",
          "name": "stderr",
          "text": [
            "Train: 100%|██████████| 813/813 [00:28<00:00, 28.30it/s]\n",
            "Eval : 100%|██████████| 63/63 [00:01<00:00, 37.09it/s]\n",
            "Epoch 1654\n"
          ]
        },
        {
          "output_type": "stream",
          "name": "stdout",
          "text": [
            "108.544\n"
          ]
        },
        {
          "output_type": "stream",
          "name": "stderr",
          "text": [
            "Train: 100%|██████████| 813/813 [00:22<00:00, 35.82it/s]\n",
            "Eval : 100%|██████████| 63/63 [00:01<00:00, 36.76it/s]\n",
            "Epoch 1655\n"
          ]
        },
        {
          "output_type": "stream",
          "name": "stdout",
          "text": [
            "107.991\n"
          ]
        },
        {
          "output_type": "stream",
          "name": "stderr",
          "text": [
            "Train: 100%|██████████| 813/813 [00:28<00:00, 28.56it/s]\n",
            "Eval : 100%|██████████| 63/63 [00:01<00:00, 36.89it/s]\n",
            "Epoch 1656\n"
          ]
        },
        {
          "output_type": "stream",
          "name": "stdout",
          "text": [
            "107.991\n"
          ]
        },
        {
          "output_type": "stream",
          "name": "stderr",
          "text": [
            "Train: 100%|██████████| 813/813 [00:22<00:00, 35.76it/s]\n",
            "Eval : 100%|██████████| 63/63 [00:01<00:00, 36.85it/s]\n",
            "Epoch 1657\n"
          ]
        },
        {
          "output_type": "stream",
          "name": "stdout",
          "text": [
            "106.938\n"
          ]
        },
        {
          "output_type": "stream",
          "name": "stderr",
          "text": [
            "Train: 100%|██████████| 813/813 [00:28<00:00, 28.41it/s]\n",
            "Eval : 100%|██████████| 63/63 [00:01<00:00, 35.72it/s]\n",
            "Epoch 1658\n"
          ]
        },
        {
          "output_type": "stream",
          "name": "stdout",
          "text": [
            "106.938\n"
          ]
        },
        {
          "output_type": "stream",
          "name": "stderr",
          "text": [
            "Train: 100%|██████████| 813/813 [00:22<00:00, 35.83it/s]\n",
            "Eval : 100%|██████████| 63/63 [00:01<00:00, 36.29it/s]\n",
            "Epoch 1659\n"
          ]
        },
        {
          "output_type": "stream",
          "name": "stdout",
          "text": [
            "108.405\n"
          ]
        },
        {
          "output_type": "stream",
          "name": "stderr",
          "text": [
            "Train: 100%|██████████| 813/813 [00:28<00:00, 28.31it/s]\n",
            "Eval : 100%|██████████| 63/63 [00:01<00:00, 36.00it/s]\n",
            "Epoch 1660\n"
          ]
        },
        {
          "output_type": "stream",
          "name": "stdout",
          "text": [
            "108.405\n"
          ]
        },
        {
          "output_type": "stream",
          "name": "stderr",
          "text": [
            "Train: 100%|██████████| 813/813 [00:23<00:00, 34.85it/s]\n",
            "Eval : 100%|██████████| 63/63 [00:01<00:00, 36.38it/s]\n",
            "Epoch 1661\n"
          ]
        },
        {
          "output_type": "stream",
          "name": "stdout",
          "text": [
            "107.854\n"
          ]
        },
        {
          "output_type": "stream",
          "name": "stderr",
          "text": [
            "Train: 100%|██████████| 813/813 [00:29<00:00, 27.65it/s]\n",
            "Eval : 100%|██████████| 63/63 [00:01<00:00, 36.46it/s]\n",
            "Epoch 1662\n"
          ]
        },
        {
          "output_type": "stream",
          "name": "stdout",
          "text": [
            "107.854\n"
          ]
        },
        {
          "output_type": "stream",
          "name": "stderr",
          "text": [
            "Train: 100%|██████████| 813/813 [00:23<00:00, 35.06it/s]\n",
            "Eval : 100%|██████████| 63/63 [00:01<00:00, 36.65it/s]\n",
            "Epoch 1663\n"
          ]
        },
        {
          "output_type": "stream",
          "name": "stdout",
          "text": [
            "107.277\n"
          ]
        },
        {
          "output_type": "stream",
          "name": "stderr",
          "text": [
            "Train: 100%|██████████| 813/813 [00:29<00:00, 27.61it/s]\n",
            "Eval : 100%|██████████| 63/63 [00:01<00:00, 35.30it/s]\n",
            "Epoch 1664\n"
          ]
        },
        {
          "output_type": "stream",
          "name": "stdout",
          "text": [
            "107.277\n"
          ]
        },
        {
          "output_type": "stream",
          "name": "stderr",
          "text": [
            "Train: 100%|██████████| 813/813 [00:23<00:00, 34.59it/s]\n",
            "Eval : 100%|██████████| 63/63 [00:01<00:00, 35.77it/s]\n",
            "Epoch 1665\n"
          ]
        },
        {
          "output_type": "stream",
          "name": "stdout",
          "text": [
            "108.257\n"
          ]
        },
        {
          "output_type": "stream",
          "name": "stderr",
          "text": [
            "Train: 100%|██████████| 813/813 [00:29<00:00, 27.67it/s]\n",
            "Eval : 100%|██████████| 63/63 [00:01<00:00, 35.50it/s]\n",
            "Epoch 1666\n"
          ]
        },
        {
          "output_type": "stream",
          "name": "stdout",
          "text": [
            "108.257\n"
          ]
        },
        {
          "output_type": "stream",
          "name": "stderr",
          "text": [
            "Train: 100%|██████████| 813/813 [00:23<00:00, 34.64it/s]\n",
            "Eval : 100%|██████████| 63/63 [00:01<00:00, 35.99it/s]\n",
            "Epoch 1667\n"
          ]
        },
        {
          "output_type": "stream",
          "name": "stdout",
          "text": [
            "107.216\n"
          ]
        },
        {
          "output_type": "stream",
          "name": "stderr",
          "text": [
            "Train: 100%|██████████| 813/813 [00:29<00:00, 27.99it/s]\n",
            "Eval : 100%|██████████| 63/63 [00:01<00:00, 36.06it/s]\n",
            "Epoch 1668\n"
          ]
        },
        {
          "output_type": "stream",
          "name": "stdout",
          "text": [
            "107.216\n"
          ]
        },
        {
          "output_type": "stream",
          "name": "stderr",
          "text": [
            "Train: 100%|██████████| 813/813 [00:23<00:00, 34.70it/s]\n",
            "Eval : 100%|██████████| 63/63 [00:01<00:00, 35.10it/s]\n",
            "Epoch 1669\n"
          ]
        },
        {
          "output_type": "stream",
          "name": "stdout",
          "text": [
            "108.016\n"
          ]
        },
        {
          "output_type": "stream",
          "name": "stderr",
          "text": [
            "Train: 100%|██████████| 813/813 [00:29<00:00, 27.86it/s]\n",
            "Eval : 100%|██████████| 63/63 [00:01<00:00, 36.18it/s]\n",
            "Epoch 1670\n"
          ]
        },
        {
          "output_type": "stream",
          "name": "stdout",
          "text": [
            "108.016\n"
          ]
        },
        {
          "output_type": "stream",
          "name": "stderr",
          "text": [
            "Train: 100%|██████████| 813/813 [00:23<00:00, 35.10it/s]\n",
            "Eval : 100%|██████████| 63/63 [00:01<00:00, 35.35it/s]\n",
            "Epoch 1671\n"
          ]
        },
        {
          "output_type": "stream",
          "name": "stdout",
          "text": [
            "106.332\n"
          ]
        },
        {
          "output_type": "stream",
          "name": "stderr",
          "text": [
            "Train: 100%|██████████| 813/813 [00:29<00:00, 27.73it/s]\n",
            "Eval : 100%|██████████| 63/63 [00:01<00:00, 34.38it/s]\n",
            "Epoch 1672\n"
          ]
        },
        {
          "output_type": "stream",
          "name": "stdout",
          "text": [
            "106.332\n"
          ]
        },
        {
          "output_type": "stream",
          "name": "stderr",
          "text": [
            "Train: 100%|██████████| 813/813 [00:24<00:00, 33.73it/s]\n",
            "Eval : 100%|██████████| 63/63 [00:01<00:00, 33.29it/s]\n",
            "Epoch 1673\n"
          ]
        },
        {
          "output_type": "stream",
          "name": "stdout",
          "text": [
            "108.447\n"
          ]
        },
        {
          "output_type": "stream",
          "name": "stderr",
          "text": [
            "Train: 100%|██████████| 813/813 [00:29<00:00, 27.71it/s]\n",
            "Eval : 100%|██████████| 63/63 [00:01<00:00, 34.96it/s]\n",
            "Epoch 1674\n"
          ]
        },
        {
          "output_type": "stream",
          "name": "stdout",
          "text": [
            "108.447\n"
          ]
        },
        {
          "output_type": "stream",
          "name": "stderr",
          "text": [
            "Train: 100%|██████████| 813/813 [00:22<00:00, 35.50it/s]\n",
            "Eval : 100%|██████████| 63/63 [00:01<00:00, 36.66it/s]\n",
            "Epoch 1675\n"
          ]
        },
        {
          "output_type": "stream",
          "name": "stdout",
          "text": [
            "107.514\n"
          ]
        },
        {
          "output_type": "stream",
          "name": "stderr",
          "text": [
            "Train: 100%|██████████| 813/813 [00:28<00:00, 28.28it/s]\n",
            "Eval : 100%|██████████| 63/63 [00:01<00:00, 34.85it/s]\n",
            "Epoch 1676\n"
          ]
        },
        {
          "output_type": "stream",
          "name": "stdout",
          "text": [
            "107.514\n"
          ]
        },
        {
          "output_type": "stream",
          "name": "stderr",
          "text": [
            "Train: 100%|██████████| 813/813 [00:23<00:00, 34.98it/s]\n",
            "Eval : 100%|██████████| 63/63 [00:01<00:00, 35.69it/s]\n",
            "Epoch 1677\n"
          ]
        },
        {
          "output_type": "stream",
          "name": "stdout",
          "text": [
            "108.827\n"
          ]
        },
        {
          "output_type": "stream",
          "name": "stderr",
          "text": [
            "Train: 100%|██████████| 813/813 [00:29<00:00, 27.55it/s]\n",
            "Eval : 100%|██████████| 63/63 [00:01<00:00, 35.45it/s]\n",
            "Epoch 1678\n"
          ]
        },
        {
          "output_type": "stream",
          "name": "stdout",
          "text": [
            "108.827\n"
          ]
        },
        {
          "output_type": "stream",
          "name": "stderr",
          "text": [
            "Train: 100%|██████████| 813/813 [00:23<00:00, 35.23it/s]\n",
            "Eval : 100%|██████████| 63/63 [00:01<00:00, 36.16it/s]\n",
            "Epoch 1679\n"
          ]
        },
        {
          "output_type": "stream",
          "name": "stdout",
          "text": [
            "107.732\n"
          ]
        },
        {
          "output_type": "stream",
          "name": "stderr",
          "text": [
            "Train: 100%|██████████| 813/813 [00:28<00:00, 28.22it/s]\n",
            "Eval : 100%|██████████| 63/63 [00:01<00:00, 36.56it/s]\n",
            "Epoch 1680\n"
          ]
        },
        {
          "output_type": "stream",
          "name": "stdout",
          "text": [
            "107.732\n"
          ]
        },
        {
          "output_type": "stream",
          "name": "stderr",
          "text": [
            "Train: 100%|██████████| 813/813 [00:23<00:00, 35.23it/s]\n",
            "Eval : 100%|██████████| 63/63 [00:01<00:00, 36.48it/s]\n",
            "Epoch 1681\n"
          ]
        },
        {
          "output_type": "stream",
          "name": "stdout",
          "text": [
            "107.81\n"
          ]
        },
        {
          "output_type": "stream",
          "name": "stderr",
          "text": [
            "Train: 100%|██████████| 813/813 [00:29<00:00, 28.01it/s]\n",
            "Eval : 100%|██████████| 63/63 [00:01<00:00, 36.62it/s]\n",
            "Epoch 1682\n"
          ]
        },
        {
          "output_type": "stream",
          "name": "stdout",
          "text": [
            "107.81\n"
          ]
        },
        {
          "output_type": "stream",
          "name": "stderr",
          "text": [
            "Train: 100%|██████████| 813/813 [00:22<00:00, 35.35it/s]\n",
            "Eval : 100%|██████████| 63/63 [00:01<00:00, 34.83it/s]\n",
            "Epoch 1683\n"
          ]
        },
        {
          "output_type": "stream",
          "name": "stdout",
          "text": [
            "107.495\n"
          ]
        },
        {
          "output_type": "stream",
          "name": "stderr",
          "text": [
            "Train: 100%|██████████| 813/813 [00:28<00:00, 28.07it/s]\n",
            "Eval : 100%|██████████| 63/63 [00:01<00:00, 34.08it/s]\n",
            "Epoch 1684\n"
          ]
        },
        {
          "output_type": "stream",
          "name": "stdout",
          "text": [
            "107.495\n"
          ]
        },
        {
          "output_type": "stream",
          "name": "stderr",
          "text": [
            "Train: 100%|██████████| 813/813 [00:23<00:00, 35.31it/s]\n",
            "Eval : 100%|██████████| 63/63 [00:01<00:00, 36.17it/s]\n",
            "Epoch 1685\n"
          ]
        },
        {
          "output_type": "stream",
          "name": "stdout",
          "text": [
            "106.488\n"
          ]
        },
        {
          "output_type": "stream",
          "name": "stderr",
          "text": [
            "Train: 100%|██████████| 813/813 [00:28<00:00, 28.13it/s]\n",
            "Eval : 100%|██████████| 63/63 [00:01<00:00, 36.40it/s]\n",
            "Epoch 1686\n"
          ]
        },
        {
          "output_type": "stream",
          "name": "stdout",
          "text": [
            "106.488\n"
          ]
        },
        {
          "output_type": "stream",
          "name": "stderr",
          "text": [
            "Train: 100%|██████████| 813/813 [00:23<00:00, 35.28it/s]\n",
            "Eval : 100%|██████████| 63/63 [00:01<00:00, 36.58it/s]\n",
            "Epoch 1687\n"
          ]
        },
        {
          "output_type": "stream",
          "name": "stdout",
          "text": [
            "106.817\n"
          ]
        },
        {
          "output_type": "stream",
          "name": "stderr",
          "text": [
            "Train: 100%|██████████| 813/813 [00:28<00:00, 28.09it/s]\n",
            "Eval : 100%|██████████| 63/63 [00:01<00:00, 36.22it/s]\n",
            "Epoch 1688\n"
          ]
        },
        {
          "output_type": "stream",
          "name": "stdout",
          "text": [
            "106.817\n"
          ]
        },
        {
          "output_type": "stream",
          "name": "stderr",
          "text": [
            "Train: 100%|██████████| 813/813 [00:23<00:00, 35.09it/s]\n",
            "Eval : 100%|██████████| 63/63 [00:01<00:00, 36.41it/s]\n",
            "Epoch 1689\n"
          ]
        },
        {
          "output_type": "stream",
          "name": "stdout",
          "text": [
            "108.905\n"
          ]
        },
        {
          "output_type": "stream",
          "name": "stderr",
          "text": [
            "Train: 100%|██████████| 813/813 [00:28<00:00, 28.26it/s]\n",
            "Eval : 100%|██████████| 63/63 [00:01<00:00, 36.95it/s]\n",
            "Epoch 1690\n"
          ]
        },
        {
          "output_type": "stream",
          "name": "stdout",
          "text": [
            "108.905\n"
          ]
        },
        {
          "output_type": "stream",
          "name": "stderr",
          "text": [
            "Train: 100%|██████████| 813/813 [00:23<00:00, 35.06it/s]\n",
            "Eval : 100%|██████████| 63/63 [00:01<00:00, 35.81it/s]\n",
            "Epoch 1691\n"
          ]
        },
        {
          "output_type": "stream",
          "name": "stdout",
          "text": [
            "105.968\n"
          ]
        },
        {
          "output_type": "stream",
          "name": "stderr",
          "text": [
            "Train: 100%|██████████| 813/813 [00:28<00:00, 28.18it/s]\n",
            "Eval : 100%|██████████| 63/63 [00:01<00:00, 35.24it/s]\n",
            "Epoch 1692\n"
          ]
        },
        {
          "output_type": "stream",
          "name": "stdout",
          "text": [
            "105.968\n"
          ]
        },
        {
          "output_type": "stream",
          "name": "stderr",
          "text": [
            "Train: 100%|██████████| 813/813 [00:23<00:00, 34.74it/s]\n",
            "Eval : 100%|██████████| 63/63 [00:01<00:00, 35.98it/s]\n",
            "Epoch 1693\n"
          ]
        },
        {
          "output_type": "stream",
          "name": "stdout",
          "text": [
            "107.952\n"
          ]
        },
        {
          "output_type": "stream",
          "name": "stderr",
          "text": [
            "Train: 100%|██████████| 813/813 [00:28<00:00, 28.16it/s]\n",
            "Eval : 100%|██████████| 63/63 [00:01<00:00, 36.65it/s]\n",
            "Epoch 1694\n"
          ]
        },
        {
          "output_type": "stream",
          "name": "stdout",
          "text": [
            "107.952\n"
          ]
        },
        {
          "output_type": "stream",
          "name": "stderr",
          "text": [
            "Train: 100%|██████████| 813/813 [00:22<00:00, 35.48it/s]\n",
            "Eval : 100%|██████████| 63/63 [00:01<00:00, 35.92it/s]\n",
            "Epoch 1695\n"
          ]
        },
        {
          "output_type": "stream",
          "name": "stdout",
          "text": [
            "107.323\n"
          ]
        },
        {
          "output_type": "stream",
          "name": "stderr",
          "text": [
            "Train: 100%|██████████| 813/813 [00:28<00:00, 28.25it/s]\n",
            "Eval : 100%|██████████| 63/63 [00:01<00:00, 36.68it/s]\n",
            "Epoch 1696\n"
          ]
        },
        {
          "output_type": "stream",
          "name": "stdout",
          "text": [
            "107.323\n"
          ]
        },
        {
          "output_type": "stream",
          "name": "stderr",
          "text": [
            "Train: 100%|██████████| 813/813 [00:23<00:00, 35.33it/s]\n",
            "Eval : 100%|██████████| 63/63 [00:01<00:00, 35.89it/s]\n",
            "Epoch 1697\n"
          ]
        },
        {
          "output_type": "stream",
          "name": "stdout",
          "text": [
            "107.546\n"
          ]
        },
        {
          "output_type": "stream",
          "name": "stderr",
          "text": [
            "Train: 100%|██████████| 813/813 [00:28<00:00, 28.19it/s]\n",
            "Eval : 100%|██████████| 63/63 [00:01<00:00, 35.38it/s]\n",
            "Epoch 1698\n"
          ]
        },
        {
          "output_type": "stream",
          "name": "stdout",
          "text": [
            "107.546\n"
          ]
        },
        {
          "output_type": "stream",
          "name": "stderr",
          "text": [
            "Train: 100%|██████████| 813/813 [00:22<00:00, 35.56it/s]\n",
            "Eval : 100%|██████████| 63/63 [00:01<00:00, 36.70it/s]\n",
            "Epoch 1699\n"
          ]
        },
        {
          "output_type": "stream",
          "name": "stdout",
          "text": [
            "107.507\n"
          ]
        },
        {
          "output_type": "stream",
          "name": "stderr",
          "text": [
            "Train: 100%|██████████| 813/813 [00:28<00:00, 28.18it/s]\n",
            "Eval : 100%|██████████| 63/63 [00:01<00:00, 36.77it/s]\n",
            "Epoch 1700\n"
          ]
        },
        {
          "output_type": "stream",
          "name": "stdout",
          "text": [
            "107.507\n"
          ]
        },
        {
          "output_type": "stream",
          "name": "stderr",
          "text": [
            "Train: 100%|██████████| 813/813 [00:22<00:00, 35.41it/s]\n",
            "Eval : 100%|██████████| 63/63 [00:01<00:00, 35.53it/s]\n",
            "Epoch 1701\n"
          ]
        },
        {
          "output_type": "stream",
          "name": "stdout",
          "text": [
            "107.289\n"
          ]
        },
        {
          "output_type": "stream",
          "name": "stderr",
          "text": [
            "Train: 100%|██████████| 813/813 [00:29<00:00, 28.03it/s]\n",
            "Eval : 100%|██████████| 63/63 [00:01<00:00, 36.73it/s]\n",
            "Epoch 1702\n"
          ]
        },
        {
          "output_type": "stream",
          "name": "stdout",
          "text": [
            "107.289\n"
          ]
        },
        {
          "output_type": "stream",
          "name": "stderr",
          "text": [
            "Train: 100%|██████████| 813/813 [00:23<00:00, 35.25it/s]\n",
            "Eval : 100%|██████████| 63/63 [00:01<00:00, 35.48it/s]\n",
            "Epoch 1703\n"
          ]
        },
        {
          "output_type": "stream",
          "name": "stdout",
          "text": [
            "107.26\n"
          ]
        },
        {
          "output_type": "stream",
          "name": "stderr",
          "text": [
            "Train: 100%|██████████| 813/813 [00:29<00:00, 28.00it/s]\n",
            "Eval : 100%|██████████| 63/63 [00:01<00:00, 36.26it/s]\n",
            "Epoch 1704\n"
          ]
        },
        {
          "output_type": "stream",
          "name": "stdout",
          "text": [
            "107.26\n"
          ]
        },
        {
          "output_type": "stream",
          "name": "stderr",
          "text": [
            "Train: 100%|██████████| 813/813 [00:22<00:00, 35.55it/s]\n",
            "Eval : 100%|██████████| 63/63 [00:01<00:00, 36.58it/s]\n",
            "Epoch 1705\n"
          ]
        },
        {
          "output_type": "stream",
          "name": "stdout",
          "text": [
            "108.93\n"
          ]
        },
        {
          "output_type": "stream",
          "name": "stderr",
          "text": [
            "Train: 100%|██████████| 813/813 [00:28<00:00, 28.08it/s]\n",
            "Eval : 100%|██████████| 63/63 [00:01<00:00, 36.51it/s]\n",
            "Epoch 1706\n"
          ]
        },
        {
          "output_type": "stream",
          "name": "stdout",
          "text": [
            "108.93\n"
          ]
        },
        {
          "output_type": "stream",
          "name": "stderr",
          "text": [
            "Train: 100%|██████████| 813/813 [00:22<00:00, 35.40it/s]\n",
            "Eval : 100%|██████████| 63/63 [00:01<00:00, 36.48it/s]\n",
            "Epoch 1707\n"
          ]
        },
        {
          "output_type": "stream",
          "name": "stdout",
          "text": [
            "107.565\n"
          ]
        },
        {
          "output_type": "stream",
          "name": "stderr",
          "text": [
            "Train: 100%|██████████| 813/813 [00:28<00:00, 28.05it/s]\n",
            "Eval : 100%|██████████| 63/63 [00:01<00:00, 36.01it/s]\n",
            "Epoch 1708\n"
          ]
        },
        {
          "output_type": "stream",
          "name": "stdout",
          "text": [
            "107.565\n"
          ]
        },
        {
          "output_type": "stream",
          "name": "stderr",
          "text": [
            "Train: 100%|██████████| 813/813 [00:23<00:00, 35.05it/s]\n",
            "Eval : 100%|██████████| 63/63 [00:01<00:00, 36.38it/s]\n",
            "Epoch 1709\n"
          ]
        },
        {
          "output_type": "stream",
          "name": "stdout",
          "text": [
            "107.518\n"
          ]
        },
        {
          "output_type": "stream",
          "name": "stderr",
          "text": [
            "Train: 100%|██████████| 813/813 [00:29<00:00, 28.03it/s]\n",
            "Eval : 100%|██████████| 63/63 [00:01<00:00, 36.60it/s]\n",
            "Epoch 1710\n"
          ]
        },
        {
          "output_type": "stream",
          "name": "stdout",
          "text": [
            "107.518\n"
          ]
        },
        {
          "output_type": "stream",
          "name": "stderr",
          "text": [
            "Train: 100%|██████████| 813/813 [00:23<00:00, 35.26it/s]\n",
            "Eval : 100%|██████████| 63/63 [00:01<00:00, 35.74it/s]\n",
            "Epoch 1711\n"
          ]
        },
        {
          "output_type": "stream",
          "name": "stdout",
          "text": [
            "107.284\n"
          ]
        },
        {
          "output_type": "stream",
          "name": "stderr",
          "text": [
            "Train: 100%|██████████| 813/813 [00:28<00:00, 28.30it/s]\n",
            "Eval : 100%|██████████| 63/63 [00:01<00:00, 36.42it/s]\n",
            "Epoch 1712\n"
          ]
        },
        {
          "output_type": "stream",
          "name": "stdout",
          "text": [
            "107.284\n"
          ]
        },
        {
          "output_type": "stream",
          "name": "stderr",
          "text": [
            "Train: 100%|██████████| 813/813 [00:22<00:00, 35.47it/s]\n",
            "Eval : 100%|██████████| 63/63 [00:01<00:00, 37.24it/s]\n",
            "Epoch 1713\n"
          ]
        },
        {
          "output_type": "stream",
          "name": "stdout",
          "text": [
            "107.847\n"
          ]
        },
        {
          "output_type": "stream",
          "name": "stderr",
          "text": [
            "Train: 100%|██████████| 813/813 [00:28<00:00, 28.21it/s]\n",
            "Eval : 100%|██████████| 63/63 [00:01<00:00, 37.09it/s]\n",
            "Epoch 1714\n"
          ]
        },
        {
          "output_type": "stream",
          "name": "stdout",
          "text": [
            "107.847\n"
          ]
        },
        {
          "output_type": "stream",
          "name": "stderr",
          "text": [
            "Train: 100%|██████████| 813/813 [00:23<00:00, 35.20it/s]\n",
            "Eval : 100%|██████████| 63/63 [00:01<00:00, 37.04it/s]\n",
            "Epoch 1715\n"
          ]
        },
        {
          "output_type": "stream",
          "name": "stdout",
          "text": [
            "107.111\n"
          ]
        },
        {
          "output_type": "stream",
          "name": "stderr",
          "text": [
            "Train: 100%|██████████| 813/813 [00:28<00:00, 28.30it/s]\n",
            "Eval : 100%|██████████| 63/63 [00:01<00:00, 36.57it/s]\n",
            "Epoch 1716\n"
          ]
        },
        {
          "output_type": "stream",
          "name": "stdout",
          "text": [
            "107.111\n"
          ]
        },
        {
          "output_type": "stream",
          "name": "stderr",
          "text": [
            "Train: 100%|██████████| 813/813 [00:23<00:00, 35.21it/s]\n",
            "Eval : 100%|██████████| 63/63 [00:01<00:00, 36.19it/s]\n",
            "Epoch 1717\n"
          ]
        },
        {
          "output_type": "stream",
          "name": "stdout",
          "text": [
            "108.011\n"
          ]
        },
        {
          "output_type": "stream",
          "name": "stderr",
          "text": [
            "Train: 100%|██████████| 813/813 [00:28<00:00, 28.34it/s]\n",
            "Eval : 100%|██████████| 63/63 [00:01<00:00, 36.37it/s]\n",
            "Epoch 1718\n"
          ]
        },
        {
          "output_type": "stream",
          "name": "stdout",
          "text": [
            "108.011\n"
          ]
        },
        {
          "output_type": "stream",
          "name": "stderr",
          "text": [
            "Train: 100%|██████████| 813/813 [00:23<00:00, 35.30it/s]\n",
            "Eval : 100%|██████████| 63/63 [00:01<00:00, 36.52it/s]\n",
            "Epoch 1719\n"
          ]
        },
        {
          "output_type": "stream",
          "name": "stdout",
          "text": [
            "107.884\n"
          ]
        },
        {
          "output_type": "stream",
          "name": "stderr",
          "text": [
            "Train: 100%|██████████| 813/813 [00:29<00:00, 27.78it/s]\n",
            "Eval : 100%|██████████| 63/63 [00:01<00:00, 35.77it/s]\n",
            "Epoch 1720\n"
          ]
        },
        {
          "output_type": "stream",
          "name": "stdout",
          "text": [
            "107.884\n"
          ]
        },
        {
          "output_type": "stream",
          "name": "stderr",
          "text": [
            "Train: 100%|██████████| 813/813 [00:23<00:00, 35.25it/s]\n",
            "Eval : 100%|██████████| 63/63 [00:01<00:00, 36.47it/s]\n",
            "Epoch 1721\n"
          ]
        },
        {
          "output_type": "stream",
          "name": "stdout",
          "text": [
            "108.562\n"
          ]
        },
        {
          "output_type": "stream",
          "name": "stderr",
          "text": [
            "Train: 100%|██████████| 813/813 [00:28<00:00, 28.41it/s]\n",
            "Eval : 100%|██████████| 63/63 [00:01<00:00, 35.98it/s]\n",
            "Epoch 1722\n"
          ]
        },
        {
          "output_type": "stream",
          "name": "stdout",
          "text": [
            "108.562\n"
          ]
        },
        {
          "output_type": "stream",
          "name": "stderr",
          "text": [
            "Train: 100%|██████████| 813/813 [00:23<00:00, 34.92it/s]\n",
            "Eval : 100%|██████████| 63/63 [00:01<00:00, 35.82it/s]\n",
            "Epoch 1723\n"
          ]
        },
        {
          "output_type": "stream",
          "name": "stdout",
          "text": [
            "108.158\n"
          ]
        },
        {
          "output_type": "stream",
          "name": "stderr",
          "text": [
            "Train: 100%|██████████| 813/813 [00:28<00:00, 28.12it/s]\n",
            "Eval : 100%|██████████| 63/63 [00:01<00:00, 36.34it/s]\n",
            "Epoch 1724\n"
          ]
        },
        {
          "output_type": "stream",
          "name": "stdout",
          "text": [
            "108.158\n"
          ]
        },
        {
          "output_type": "stream",
          "name": "stderr",
          "text": [
            "Train: 100%|██████████| 813/813 [00:22<00:00, 35.46it/s]\n",
            "Eval : 100%|██████████| 63/63 [00:01<00:00, 35.72it/s]\n",
            "Epoch 1725\n"
          ]
        },
        {
          "output_type": "stream",
          "name": "stdout",
          "text": [
            "107.867\n"
          ]
        },
        {
          "output_type": "stream",
          "name": "stderr",
          "text": [
            "Train: 100%|██████████| 813/813 [00:28<00:00, 28.20it/s]\n",
            "Eval : 100%|██████████| 63/63 [00:01<00:00, 36.17it/s]\n",
            "Epoch 1726\n"
          ]
        },
        {
          "output_type": "stream",
          "name": "stdout",
          "text": [
            "107.867\n"
          ]
        },
        {
          "output_type": "stream",
          "name": "stderr",
          "text": [
            "Train: 100%|██████████| 813/813 [00:22<00:00, 35.42it/s]\n",
            "Eval : 100%|██████████| 63/63 [00:01<00:00, 35.30it/s]\n",
            "Epoch 1727\n"
          ]
        },
        {
          "output_type": "stream",
          "name": "stdout",
          "text": [
            "108.074\n"
          ]
        },
        {
          "output_type": "stream",
          "name": "stderr",
          "text": [
            "Train: 100%|██████████| 813/813 [00:28<00:00, 28.05it/s]\n",
            "Eval : 100%|██████████| 63/63 [00:01<00:00, 36.86it/s]\n",
            "Epoch 1728\n"
          ]
        },
        {
          "output_type": "stream",
          "name": "stdout",
          "text": [
            "108.074\n"
          ]
        },
        {
          "output_type": "stream",
          "name": "stderr",
          "text": [
            "Train: 100%|██████████| 813/813 [00:23<00:00, 35.25it/s]\n",
            "Eval : 100%|██████████| 63/63 [00:01<00:00, 36.81it/s]\n",
            "Epoch 1729\n"
          ]
        },
        {
          "output_type": "stream",
          "name": "stdout",
          "text": [
            "108.257\n"
          ]
        },
        {
          "output_type": "stream",
          "name": "stderr",
          "text": [
            "Train: 100%|██████████| 813/813 [00:29<00:00, 27.90it/s]\n",
            "Eval : 100%|██████████| 63/63 [00:01<00:00, 36.32it/s]\n",
            "Epoch 1730\n"
          ]
        },
        {
          "output_type": "stream",
          "name": "stdout",
          "text": [
            "108.257\n"
          ]
        },
        {
          "output_type": "stream",
          "name": "stderr",
          "text": [
            "Train: 100%|██████████| 813/813 [00:22<00:00, 35.79it/s]\n",
            "Eval : 100%|██████████| 63/63 [00:01<00:00, 36.08it/s]\n",
            "Epoch 1731\n"
          ]
        },
        {
          "output_type": "stream",
          "name": "stdout",
          "text": [
            "108.076\n"
          ]
        },
        {
          "output_type": "stream",
          "name": "stderr",
          "text": [
            "Train: 100%|██████████| 813/813 [00:28<00:00, 28.20it/s]\n",
            "Eval : 100%|██████████| 63/63 [00:01<00:00, 36.43it/s]\n",
            "Epoch 1732\n"
          ]
        },
        {
          "output_type": "stream",
          "name": "stdout",
          "text": [
            "108.076\n"
          ]
        },
        {
          "output_type": "stream",
          "name": "stderr",
          "text": [
            "Train: 100%|██████████| 813/813 [00:22<00:00, 35.35it/s]\n",
            "Eval : 100%|██████████| 63/63 [00:01<00:00, 36.20it/s]\n",
            "Epoch 1733\n"
          ]
        },
        {
          "output_type": "stream",
          "name": "stdout",
          "text": [
            "108.445\n"
          ]
        },
        {
          "output_type": "stream",
          "name": "stderr",
          "text": [
            "Train: 100%|██████████| 813/813 [00:29<00:00, 27.85it/s]\n",
            "Eval : 100%|██████████| 63/63 [00:01<00:00, 36.25it/s]\n",
            "Epoch 1734\n"
          ]
        },
        {
          "output_type": "stream",
          "name": "stdout",
          "text": [
            "108.445\n"
          ]
        },
        {
          "output_type": "stream",
          "name": "stderr",
          "text": [
            "Train: 100%|██████████| 813/813 [00:23<00:00, 35.32it/s]\n",
            "Eval : 100%|██████████| 63/63 [00:01<00:00, 36.21it/s]\n",
            "Epoch 1735\n"
          ]
        },
        {
          "output_type": "stream",
          "name": "stdout",
          "text": [
            "107.457\n"
          ]
        },
        {
          "output_type": "stream",
          "name": "stderr",
          "text": [
            "Train: 100%|██████████| 813/813 [00:28<00:00, 28.28it/s]\n",
            "Eval : 100%|██████████| 63/63 [00:01<00:00, 35.51it/s]\n",
            "Epoch 1736\n"
          ]
        },
        {
          "output_type": "stream",
          "name": "stdout",
          "text": [
            "107.457\n"
          ]
        },
        {
          "output_type": "stream",
          "name": "stderr",
          "text": [
            "Train: 100%|██████████| 813/813 [00:23<00:00, 35.17it/s]\n",
            "Eval : 100%|██████████| 63/63 [00:01<00:00, 35.99it/s]\n",
            "Epoch 1737\n"
          ]
        },
        {
          "output_type": "stream",
          "name": "stdout",
          "text": [
            "109.047\n"
          ]
        },
        {
          "output_type": "stream",
          "name": "stderr",
          "text": [
            "Train: 100%|██████████| 813/813 [00:29<00:00, 27.96it/s]\n",
            "Eval : 100%|██████████| 63/63 [00:01<00:00, 35.03it/s]\n",
            "Epoch 1738\n"
          ]
        },
        {
          "output_type": "stream",
          "name": "stdout",
          "text": [
            "109.047\n"
          ]
        },
        {
          "output_type": "stream",
          "name": "stderr",
          "text": [
            "Train: 100%|██████████| 813/813 [00:23<00:00, 35.20it/s]\n",
            "Eval : 100%|██████████| 63/63 [00:01<00:00, 36.04it/s]\n",
            "Epoch 1739\n"
          ]
        },
        {
          "output_type": "stream",
          "name": "stdout",
          "text": [
            "108.074\n"
          ]
        },
        {
          "output_type": "stream",
          "name": "stderr",
          "text": [
            "Train: 100%|██████████| 813/813 [00:29<00:00, 28.00it/s]\n",
            "Eval : 100%|██████████| 63/63 [00:01<00:00, 36.72it/s]\n",
            "Epoch 1740\n"
          ]
        },
        {
          "output_type": "stream",
          "name": "stdout",
          "text": [
            "108.074\n"
          ]
        },
        {
          "output_type": "stream",
          "name": "stderr",
          "text": [
            "Train: 100%|██████████| 813/813 [00:23<00:00, 35.07it/s]\n",
            "Eval : 100%|██████████| 63/63 [00:01<00:00, 35.39it/s]\n",
            "Epoch 1741\n"
          ]
        },
        {
          "output_type": "stream",
          "name": "stdout",
          "text": [
            "108.618\n"
          ]
        },
        {
          "output_type": "stream",
          "name": "stderr",
          "text": [
            "Train: 100%|██████████| 813/813 [00:29<00:00, 28.03it/s]\n",
            "Eval : 100%|██████████| 63/63 [00:01<00:00, 35.55it/s]\n",
            "Epoch 1742\n"
          ]
        },
        {
          "output_type": "stream",
          "name": "stdout",
          "text": [
            "108.618\n"
          ]
        },
        {
          "output_type": "stream",
          "name": "stderr",
          "text": [
            "Train: 100%|██████████| 813/813 [00:22<00:00, 35.49it/s]\n",
            "Eval : 100%|██████████| 63/63 [00:01<00:00, 36.29it/s]\n",
            "Epoch 1743\n"
          ]
        },
        {
          "output_type": "stream",
          "name": "stdout",
          "text": [
            "107.922\n"
          ]
        },
        {
          "output_type": "stream",
          "name": "stderr",
          "text": [
            "Train: 100%|██████████| 813/813 [00:29<00:00, 28.01it/s]\n",
            "Eval : 100%|██████████| 63/63 [00:01<00:00, 36.43it/s]\n",
            "Epoch 1744\n"
          ]
        },
        {
          "output_type": "stream",
          "name": "stdout",
          "text": [
            "107.922\n"
          ]
        },
        {
          "output_type": "stream",
          "name": "stderr",
          "text": [
            "Train: 100%|██████████| 813/813 [00:23<00:00, 35.02it/s]\n",
            "Eval : 100%|██████████| 63/63 [00:01<00:00, 35.75it/s]\n",
            "Epoch 1745\n"
          ]
        },
        {
          "output_type": "stream",
          "name": "stdout",
          "text": [
            "108.756\n"
          ]
        },
        {
          "output_type": "stream",
          "name": "stderr",
          "text": [
            "Train: 100%|██████████| 813/813 [00:29<00:00, 27.91it/s]\n",
            "Eval : 100%|██████████| 63/63 [00:01<00:00, 36.09it/s]\n",
            "Epoch 1746\n"
          ]
        },
        {
          "output_type": "stream",
          "name": "stdout",
          "text": [
            "108.756\n"
          ]
        },
        {
          "output_type": "stream",
          "name": "stderr",
          "text": [
            "Train: 100%|██████████| 813/813 [00:23<00:00, 35.30it/s]\n",
            "Eval : 100%|██████████| 63/63 [00:01<00:00, 36.41it/s]\n",
            "Epoch 1747\n"
          ]
        },
        {
          "output_type": "stream",
          "name": "stdout",
          "text": [
            "107.823\n"
          ]
        },
        {
          "output_type": "stream",
          "name": "stderr",
          "text": [
            "Train: 100%|██████████| 813/813 [00:28<00:00, 28.39it/s]\n",
            "Eval : 100%|██████████| 63/63 [00:01<00:00, 36.70it/s]\n",
            "Epoch 1748\n"
          ]
        },
        {
          "output_type": "stream",
          "name": "stdout",
          "text": [
            "107.823\n"
          ]
        },
        {
          "output_type": "stream",
          "name": "stderr",
          "text": [
            "Train: 100%|██████████| 813/813 [00:22<00:00, 35.40it/s]\n",
            "Eval : 100%|██████████| 63/63 [00:01<00:00, 35.33it/s]\n",
            "Epoch 1749\n"
          ]
        },
        {
          "output_type": "stream",
          "name": "stdout",
          "text": [
            "108.751\n"
          ]
        },
        {
          "output_type": "stream",
          "name": "stderr",
          "text": [
            "Train: 100%|██████████| 813/813 [00:28<00:00, 28.15it/s]\n",
            "Eval : 100%|██████████| 63/63 [00:01<00:00, 36.89it/s]\n",
            "Epoch 1750\n"
          ]
        },
        {
          "output_type": "stream",
          "name": "stdout",
          "text": [
            "108.751\n"
          ]
        },
        {
          "output_type": "stream",
          "name": "stderr",
          "text": [
            "Train: 100%|██████████| 813/813 [00:23<00:00, 35.27it/s]\n",
            "Eval : 100%|██████████| 63/63 [00:01<00:00, 35.73it/s]\n",
            "Epoch 1751\n"
          ]
        },
        {
          "output_type": "stream",
          "name": "stdout",
          "text": [
            "108.212\n"
          ]
        },
        {
          "output_type": "stream",
          "name": "stderr",
          "text": [
            "Train: 100%|██████████| 813/813 [00:29<00:00, 27.99it/s]\n",
            "Eval : 100%|██████████| 63/63 [00:01<00:00, 35.86it/s]\n",
            "Epoch 1752\n"
          ]
        },
        {
          "output_type": "stream",
          "name": "stdout",
          "text": [
            "108.212\n"
          ]
        },
        {
          "output_type": "stream",
          "name": "stderr",
          "text": [
            "Train: 100%|██████████| 813/813 [00:23<00:00, 35.13it/s]\n",
            "Eval : 100%|██████████| 63/63 [00:01<00:00, 36.17it/s]\n",
            "Epoch 1753\n"
          ]
        },
        {
          "output_type": "stream",
          "name": "stdout",
          "text": [
            "109.649\n"
          ]
        },
        {
          "output_type": "stream",
          "name": "stderr",
          "text": [
            "Train: 100%|██████████| 813/813 [00:28<00:00, 28.15it/s]\n",
            "Eval : 100%|██████████| 63/63 [00:01<00:00, 36.16it/s]\n",
            "Epoch 1754\n"
          ]
        },
        {
          "output_type": "stream",
          "name": "stdout",
          "text": [
            "109.649\n"
          ]
        },
        {
          "output_type": "stream",
          "name": "stderr",
          "text": [
            "Train: 100%|██████████| 813/813 [00:23<00:00, 35.35it/s]\n",
            "Eval : 100%|██████████| 63/63 [00:01<00:00, 35.81it/s]\n",
            "Epoch 1755\n"
          ]
        },
        {
          "output_type": "stream",
          "name": "stdout",
          "text": [
            "107.49\n"
          ]
        },
        {
          "output_type": "stream",
          "name": "stderr",
          "text": [
            "Train: 100%|██████████| 813/813 [00:29<00:00, 27.80it/s]\n",
            "Eval : 100%|██████████| 63/63 [00:01<00:00, 36.63it/s]\n",
            "Epoch 1756\n"
          ]
        },
        {
          "output_type": "stream",
          "name": "stdout",
          "text": [
            "107.49\n"
          ]
        },
        {
          "output_type": "stream",
          "name": "stderr",
          "text": [
            "Train: 100%|██████████| 813/813 [00:22<00:00, 35.46it/s]\n",
            "Eval : 100%|██████████| 63/63 [00:01<00:00, 36.02it/s]\n",
            "Epoch 1757\n"
          ]
        },
        {
          "output_type": "stream",
          "name": "stdout",
          "text": [
            "108.442\n"
          ]
        },
        {
          "output_type": "stream",
          "name": "stderr",
          "text": [
            "Train: 100%|██████████| 813/813 [00:28<00:00, 28.09it/s]\n",
            "Eval : 100%|██████████| 63/63 [00:01<00:00, 36.54it/s]\n",
            "Epoch 1758\n"
          ]
        },
        {
          "output_type": "stream",
          "name": "stdout",
          "text": [
            "108.442\n"
          ]
        },
        {
          "output_type": "stream",
          "name": "stderr",
          "text": [
            "Train: 100%|██████████| 813/813 [00:22<00:00, 35.46it/s]\n",
            "Eval : 100%|██████████| 63/63 [00:01<00:00, 36.22it/s]\n",
            "Epoch 1759\n"
          ]
        },
        {
          "output_type": "stream",
          "name": "stdout",
          "text": [
            "108.577\n"
          ]
        },
        {
          "output_type": "stream",
          "name": "stderr",
          "text": [
            "Train: 100%|██████████| 813/813 [00:28<00:00, 28.23it/s]\n",
            "Eval : 100%|██████████| 63/63 [00:01<00:00, 36.09it/s]\n",
            "Epoch 1760\n"
          ]
        },
        {
          "output_type": "stream",
          "name": "stdout",
          "text": [
            "108.577\n"
          ]
        },
        {
          "output_type": "stream",
          "name": "stderr",
          "text": [
            "Train: 100%|██████████| 813/813 [00:23<00:00, 35.24it/s]\n",
            "Eval : 100%|██████████| 63/63 [00:01<00:00, 37.15it/s]\n",
            "Epoch 1761\n"
          ]
        },
        {
          "output_type": "stream",
          "name": "stdout",
          "text": [
            "107.692\n"
          ]
        },
        {
          "output_type": "stream",
          "name": "stderr",
          "text": [
            "Train: 100%|██████████| 813/813 [00:28<00:00, 28.27it/s]\n",
            "Eval : 100%|██████████| 63/63 [00:01<00:00, 37.01it/s]\n",
            "Epoch 1762\n"
          ]
        },
        {
          "output_type": "stream",
          "name": "stdout",
          "text": [
            "107.692\n"
          ]
        },
        {
          "output_type": "stream",
          "name": "stderr",
          "text": [
            "Train: 100%|██████████| 813/813 [00:23<00:00, 35.27it/s]\n",
            "Eval : 100%|██████████| 63/63 [00:01<00:00, 36.25it/s]\n",
            "Epoch 1763\n"
          ]
        },
        {
          "output_type": "stream",
          "name": "stdout",
          "text": [
            "107.585\n"
          ]
        },
        {
          "output_type": "stream",
          "name": "stderr",
          "text": [
            "Train: 100%|██████████| 813/813 [00:29<00:00, 27.85it/s]\n",
            "Eval : 100%|██████████| 63/63 [00:01<00:00, 36.54it/s]\n",
            "Epoch 1764\n"
          ]
        },
        {
          "output_type": "stream",
          "name": "stdout",
          "text": [
            "107.585\n"
          ]
        },
        {
          "output_type": "stream",
          "name": "stderr",
          "text": [
            "Train: 100%|██████████| 813/813 [00:22<00:00, 35.53it/s]\n",
            "Eval : 100%|██████████| 63/63 [00:01<00:00, 35.22it/s]\n",
            "Epoch 1765\n"
          ]
        },
        {
          "output_type": "stream",
          "name": "stdout",
          "text": [
            "108.098\n"
          ]
        },
        {
          "output_type": "stream",
          "name": "stderr",
          "text": [
            "Train: 100%|██████████| 813/813 [00:28<00:00, 28.31it/s]\n",
            "Eval : 100%|██████████| 63/63 [00:01<00:00, 35.77it/s]\n",
            "Epoch 1766\n"
          ]
        },
        {
          "output_type": "stream",
          "name": "stdout",
          "text": [
            "108.098\n"
          ]
        },
        {
          "output_type": "stream",
          "name": "stderr",
          "text": [
            "Train: 100%|██████████| 813/813 [00:23<00:00, 35.28it/s]\n",
            "Eval : 100%|██████████| 63/63 [00:01<00:00, 35.65it/s]\n",
            "Epoch 1767\n"
          ]
        },
        {
          "output_type": "stream",
          "name": "stdout",
          "text": [
            "107.781\n"
          ]
        },
        {
          "output_type": "stream",
          "name": "stderr",
          "text": [
            "Train: 100%|██████████| 813/813 [00:28<00:00, 28.04it/s]\n",
            "Eval : 100%|██████████| 63/63 [00:01<00:00, 36.31it/s]\n",
            "Epoch 1768\n"
          ]
        },
        {
          "output_type": "stream",
          "name": "stdout",
          "text": [
            "107.781\n"
          ]
        },
        {
          "output_type": "stream",
          "name": "stderr",
          "text": [
            "Train: 100%|██████████| 813/813 [00:22<00:00, 35.52it/s]\n",
            "Eval : 100%|██████████| 63/63 [00:01<00:00, 36.68it/s]\n",
            "Epoch 1769\n"
          ]
        },
        {
          "output_type": "stream",
          "name": "stdout",
          "text": [
            "107.766\n"
          ]
        },
        {
          "output_type": "stream",
          "name": "stderr",
          "text": [
            "Train: 100%|██████████| 813/813 [00:28<00:00, 28.04it/s]\n",
            "Eval : 100%|██████████| 63/63 [00:01<00:00, 36.49it/s]\n",
            "Epoch 1770\n"
          ]
        },
        {
          "output_type": "stream",
          "name": "stdout",
          "text": [
            "107.766\n"
          ]
        },
        {
          "output_type": "stream",
          "name": "stderr",
          "text": [
            "Train: 100%|██████████| 813/813 [00:23<00:00, 35.29it/s]\n",
            "Eval : 100%|██████████| 63/63 [00:01<00:00, 35.87it/s]\n",
            "Epoch 1771\n"
          ]
        },
        {
          "output_type": "stream",
          "name": "stdout",
          "text": [
            "107.661\n"
          ]
        },
        {
          "output_type": "stream",
          "name": "stderr",
          "text": [
            "Train: 100%|██████████| 813/813 [00:28<00:00, 28.11it/s]\n",
            "Eval : 100%|██████████| 63/63 [00:01<00:00, 36.39it/s]\n",
            "Epoch 1772\n"
          ]
        },
        {
          "output_type": "stream",
          "name": "stdout",
          "text": [
            "107.661\n"
          ]
        },
        {
          "output_type": "stream",
          "name": "stderr",
          "text": [
            "Train: 100%|██████████| 813/813 [00:22<00:00, 35.46it/s]\n",
            "Eval : 100%|██████████| 63/63 [00:01<00:00, 36.56it/s]\n",
            "Epoch 1773\n"
          ]
        },
        {
          "output_type": "stream",
          "name": "stdout",
          "text": [
            "107.49\n"
          ]
        },
        {
          "output_type": "stream",
          "name": "stderr",
          "text": [
            "Train: 100%|██████████| 813/813 [00:28<00:00, 28.11it/s]\n",
            "Eval : 100%|██████████| 63/63 [00:01<00:00, 36.24it/s]\n",
            "Epoch 1774\n"
          ]
        },
        {
          "output_type": "stream",
          "name": "stdout",
          "text": [
            "107.49\n"
          ]
        },
        {
          "output_type": "stream",
          "name": "stderr",
          "text": [
            "Train: 100%|██████████| 813/813 [00:23<00:00, 35.14it/s]\n",
            "Eval : 100%|██████████| 63/63 [00:01<00:00, 36.64it/s]\n",
            "Epoch 1775\n"
          ]
        },
        {
          "output_type": "stream",
          "name": "stdout",
          "text": [
            "108.576\n"
          ]
        },
        {
          "output_type": "stream",
          "name": "stderr",
          "text": [
            "Train: 100%|██████████| 813/813 [00:29<00:00, 27.93it/s]\n",
            "Eval : 100%|██████████| 63/63 [00:01<00:00, 36.74it/s]\n",
            "Epoch 1776\n"
          ]
        },
        {
          "output_type": "stream",
          "name": "stdout",
          "text": [
            "108.576\n"
          ]
        },
        {
          "output_type": "stream",
          "name": "stderr",
          "text": [
            "Train: 100%|██████████| 813/813 [00:22<00:00, 35.46it/s]\n",
            "Eval : 100%|██████████| 63/63 [00:01<00:00, 34.97it/s]\n",
            "Epoch 1777\n"
          ]
        },
        {
          "output_type": "stream",
          "name": "stdout",
          "text": [
            "107.638\n"
          ]
        },
        {
          "output_type": "stream",
          "name": "stderr",
          "text": [
            "Train: 100%|██████████| 813/813 [00:28<00:00, 28.32it/s]\n",
            "Eval : 100%|██████████| 63/63 [00:01<00:00, 34.69it/s]\n",
            "Epoch 1778\n"
          ]
        },
        {
          "output_type": "stream",
          "name": "stdout",
          "text": [
            "107.638\n"
          ]
        },
        {
          "output_type": "stream",
          "name": "stderr",
          "text": [
            "Train: 100%|██████████| 813/813 [00:23<00:00, 35.10it/s]\n",
            "Eval : 100%|██████████| 63/63 [00:01<00:00, 36.52it/s]\n",
            "Epoch 1779\n"
          ]
        },
        {
          "output_type": "stream",
          "name": "stdout",
          "text": [
            "109.13\n"
          ]
        },
        {
          "output_type": "stream",
          "name": "stderr",
          "text": [
            "Train: 100%|██████████| 813/813 [00:28<00:00, 28.13it/s]\n",
            "Eval : 100%|██████████| 63/63 [00:01<00:00, 36.53it/s]\n",
            "Epoch 1780\n"
          ]
        },
        {
          "output_type": "stream",
          "name": "stdout",
          "text": [
            "109.13\n"
          ]
        },
        {
          "output_type": "stream",
          "name": "stderr",
          "text": [
            "Train: 100%|██████████| 813/813 [00:22<00:00, 35.60it/s]\n",
            "Eval : 100%|██████████| 63/63 [00:01<00:00, 35.84it/s]\n",
            "Epoch 1781\n"
          ]
        },
        {
          "output_type": "stream",
          "name": "stdout",
          "text": [
            "108.328\n"
          ]
        },
        {
          "output_type": "stream",
          "name": "stderr",
          "text": [
            "Train: 100%|██████████| 813/813 [00:28<00:00, 28.31it/s]\n",
            "Eval : 100%|██████████| 63/63 [00:01<00:00, 36.57it/s]\n",
            "Epoch 1782\n"
          ]
        },
        {
          "output_type": "stream",
          "name": "stdout",
          "text": [
            "108.328\n"
          ]
        },
        {
          "output_type": "stream",
          "name": "stderr",
          "text": [
            "Train: 100%|██████████| 813/813 [00:23<00:00, 34.88it/s]\n",
            "Eval : 100%|██████████| 63/63 [00:01<00:00, 36.27it/s]\n",
            "Epoch 1783\n"
          ]
        },
        {
          "output_type": "stream",
          "name": "stdout",
          "text": [
            "109.079\n"
          ]
        },
        {
          "output_type": "stream",
          "name": "stderr",
          "text": [
            "Train: 100%|██████████| 813/813 [00:29<00:00, 27.80it/s]\n",
            "Eval : 100%|██████████| 63/63 [00:01<00:00, 36.32it/s]\n",
            "Epoch 1784\n"
          ]
        },
        {
          "output_type": "stream",
          "name": "stdout",
          "text": [
            "109.079\n"
          ]
        },
        {
          "output_type": "stream",
          "name": "stderr",
          "text": [
            "Train: 100%|██████████| 813/813 [00:23<00:00, 35.21it/s]\n",
            "Eval : 100%|██████████| 63/63 [00:01<00:00, 35.72it/s]\n",
            "Epoch 1785\n"
          ]
        },
        {
          "output_type": "stream",
          "name": "stdout",
          "text": [
            "108.44\n"
          ]
        },
        {
          "output_type": "stream",
          "name": "stderr",
          "text": [
            "Train: 100%|██████████| 813/813 [00:28<00:00, 28.33it/s]\n",
            "Eval : 100%|██████████| 63/63 [00:01<00:00, 36.49it/s]\n",
            "Epoch 1786\n"
          ]
        },
        {
          "output_type": "stream",
          "name": "stdout",
          "text": [
            "108.44\n"
          ]
        },
        {
          "output_type": "stream",
          "name": "stderr",
          "text": [
            "Train: 100%|██████████| 813/813 [00:23<00:00, 35.30it/s]\n",
            "Eval : 100%|██████████| 63/63 [00:01<00:00, 36.60it/s]\n",
            "Epoch 1787\n"
          ]
        },
        {
          "output_type": "stream",
          "name": "stdout",
          "text": [
            "108.09\n"
          ]
        },
        {
          "output_type": "stream",
          "name": "stderr",
          "text": [
            "Train: 100%|██████████| 813/813 [00:28<00:00, 28.08it/s]\n",
            "Eval : 100%|██████████| 63/63 [00:01<00:00, 36.40it/s]\n",
            "Epoch 1788\n"
          ]
        },
        {
          "output_type": "stream",
          "name": "stdout",
          "text": [
            "108.09\n"
          ]
        },
        {
          "output_type": "stream",
          "name": "stderr",
          "text": [
            "Train: 100%|██████████| 813/813 [00:22<00:00, 35.54it/s]\n",
            "Eval : 100%|██████████| 63/63 [00:01<00:00, 35.64it/s]\n",
            "Epoch 1789\n"
          ]
        },
        {
          "output_type": "stream",
          "name": "stdout",
          "text": [
            "107.963\n"
          ]
        },
        {
          "output_type": "stream",
          "name": "stderr",
          "text": [
            "Train: 100%|██████████| 813/813 [00:28<00:00, 28.08it/s]\n",
            "Eval : 100%|██████████| 63/63 [00:01<00:00, 36.75it/s]\n",
            "Epoch 1790\n"
          ]
        },
        {
          "output_type": "stream",
          "name": "stdout",
          "text": [
            "107.963\n"
          ]
        },
        {
          "output_type": "stream",
          "name": "stderr",
          "text": [
            "Train: 100%|██████████| 813/813 [00:22<00:00, 35.44it/s]\n",
            "Eval : 100%|██████████| 63/63 [00:01<00:00, 36.43it/s]\n",
            "Epoch 1791\n"
          ]
        },
        {
          "output_type": "stream",
          "name": "stdout",
          "text": [
            "107.738\n"
          ]
        },
        {
          "output_type": "stream",
          "name": "stderr",
          "text": [
            "Train: 100%|██████████| 813/813 [00:28<00:00, 28.16it/s]\n",
            "Eval : 100%|██████████| 63/63 [00:01<00:00, 36.23it/s]\n",
            "Epoch 1792\n"
          ]
        },
        {
          "output_type": "stream",
          "name": "stdout",
          "text": [
            "107.738\n"
          ]
        },
        {
          "output_type": "stream",
          "name": "stderr",
          "text": [
            "Train: 100%|██████████| 813/813 [00:22<00:00, 35.51it/s]\n",
            "Eval : 100%|██████████| 63/63 [00:01<00:00, 36.38it/s]\n",
            "Epoch 1793\n"
          ]
        },
        {
          "output_type": "stream",
          "name": "stdout",
          "text": [
            "108.093\n"
          ]
        },
        {
          "output_type": "stream",
          "name": "stderr",
          "text": [
            "Train: 100%|██████████| 813/813 [00:28<00:00, 28.21it/s]\n",
            "Eval : 100%|██████████| 63/63 [00:01<00:00, 36.81it/s]\n",
            "Epoch 1794\n"
          ]
        },
        {
          "output_type": "stream",
          "name": "stdout",
          "text": [
            "108.093\n"
          ]
        },
        {
          "output_type": "stream",
          "name": "stderr",
          "text": [
            "Train: 100%|██████████| 813/813 [00:22<00:00, 35.53it/s]\n",
            "Eval : 100%|██████████| 63/63 [00:01<00:00, 36.58it/s]\n",
            "Epoch 1795\n"
          ]
        },
        {
          "output_type": "stream",
          "name": "stdout",
          "text": [
            "107.847\n"
          ]
        },
        {
          "output_type": "stream",
          "name": "stderr",
          "text": [
            "Train: 100%|██████████| 813/813 [00:28<00:00, 28.06it/s]\n",
            "Eval : 100%|██████████| 63/63 [00:01<00:00, 36.08it/s]\n",
            "Epoch 1796\n"
          ]
        },
        {
          "output_type": "stream",
          "name": "stdout",
          "text": [
            "107.847\n"
          ]
        },
        {
          "output_type": "stream",
          "name": "stderr",
          "text": [
            "Train: 100%|██████████| 813/813 [00:22<00:00, 35.37it/s]\n",
            "Eval : 100%|██████████| 63/63 [00:01<00:00, 36.87it/s]\n",
            "Epoch 1797\n"
          ]
        },
        {
          "output_type": "stream",
          "name": "stdout",
          "text": [
            "107.636\n"
          ]
        },
        {
          "output_type": "stream",
          "name": "stderr",
          "text": [
            "Train: 100%|██████████| 813/813 [00:28<00:00, 28.34it/s]\n",
            "Eval : 100%|██████████| 63/63 [00:01<00:00, 37.04it/s]\n",
            "Epoch 1798\n"
          ]
        },
        {
          "output_type": "stream",
          "name": "stdout",
          "text": [
            "107.636\n"
          ]
        },
        {
          "output_type": "stream",
          "name": "stderr",
          "text": [
            "Train: 100%|██████████| 813/813 [00:22<00:00, 35.38it/s]\n",
            "Eval : 100%|██████████| 63/63 [00:01<00:00, 35.65it/s]\n",
            "Epoch 1799\n"
          ]
        },
        {
          "output_type": "stream",
          "name": "stdout",
          "text": [
            "107.62\n"
          ]
        },
        {
          "output_type": "stream",
          "name": "stderr",
          "text": [
            "Train: 100%|██████████| 813/813 [00:28<00:00, 28.31it/s]\n",
            "Eval : 100%|██████████| 63/63 [00:01<00:00, 36.33it/s]\n",
            "Epoch 1800\n"
          ]
        },
        {
          "output_type": "stream",
          "name": "stdout",
          "text": [
            "107.62\n"
          ]
        },
        {
          "output_type": "stream",
          "name": "stderr",
          "text": [
            "Train: 100%|██████████| 813/813 [00:23<00:00, 35.35it/s]\n",
            "Eval : 100%|██████████| 63/63 [00:01<00:00, 36.52it/s]\n",
            "Epoch 1801\n"
          ]
        },
        {
          "output_type": "stream",
          "name": "stdout",
          "text": [
            "108.004\n"
          ]
        },
        {
          "output_type": "stream",
          "name": "stderr",
          "text": [
            "Train: 100%|██████████| 813/813 [00:28<00:00, 28.30it/s]\n",
            "Eval : 100%|██████████| 63/63 [00:01<00:00, 36.40it/s]\n",
            "Epoch 1802\n"
          ]
        },
        {
          "output_type": "stream",
          "name": "stdout",
          "text": [
            "108.004\n"
          ]
        },
        {
          "output_type": "stream",
          "name": "stderr",
          "text": [
            "Train: 100%|██████████| 813/813 [00:23<00:00, 35.15it/s]\n",
            "Eval : 100%|██████████| 63/63 [00:01<00:00, 36.61it/s]\n",
            "Epoch 1803\n"
          ]
        },
        {
          "output_type": "stream",
          "name": "stdout",
          "text": [
            "107.475\n"
          ]
        },
        {
          "output_type": "stream",
          "name": "stderr",
          "text": [
            "Train: 100%|██████████| 813/813 [00:28<00:00, 28.40it/s]\n",
            "Eval : 100%|██████████| 63/63 [00:01<00:00, 36.52it/s]\n",
            "Epoch 1804\n"
          ]
        },
        {
          "output_type": "stream",
          "name": "stdout",
          "text": [
            "107.475\n"
          ]
        },
        {
          "output_type": "stream",
          "name": "stderr",
          "text": [
            "Train: 100%|██████████| 813/813 [00:23<00:00, 35.31it/s]\n",
            "Eval : 100%|██████████| 63/63 [00:01<00:00, 36.52it/s]\n",
            "Epoch 1805\n"
          ]
        },
        {
          "output_type": "stream",
          "name": "stdout",
          "text": [
            "107.518\n"
          ]
        },
        {
          "output_type": "stream",
          "name": "stderr",
          "text": [
            "Train: 100%|██████████| 813/813 [00:28<00:00, 28.33it/s]\n",
            "Eval : 100%|██████████| 63/63 [00:01<00:00, 36.25it/s]\n",
            "Epoch 1806\n"
          ]
        },
        {
          "output_type": "stream",
          "name": "stdout",
          "text": [
            "107.518\n"
          ]
        },
        {
          "output_type": "stream",
          "name": "stderr",
          "text": [
            "Train: 100%|██████████| 813/813 [00:23<00:00, 35.28it/s]\n",
            "Eval : 100%|██████████| 63/63 [00:01<00:00, 34.96it/s]\n",
            "Epoch 1807\n"
          ]
        },
        {
          "output_type": "stream",
          "name": "stdout",
          "text": [
            "108.107\n"
          ]
        },
        {
          "output_type": "stream",
          "name": "stderr",
          "text": [
            "Train: 100%|██████████| 813/813 [00:28<00:00, 28.26it/s]\n",
            "Eval : 100%|██████████| 63/63 [00:01<00:00, 36.45it/s]\n",
            "Epoch 1808\n"
          ]
        },
        {
          "output_type": "stream",
          "name": "stdout",
          "text": [
            "108.107\n"
          ]
        },
        {
          "output_type": "stream",
          "name": "stderr",
          "text": [
            "Train: 100%|██████████| 813/813 [00:22<00:00, 35.51it/s]\n",
            "Eval : 100%|██████████| 63/63 [00:01<00:00, 36.33it/s]\n",
            "Epoch 1809\n"
          ]
        },
        {
          "output_type": "stream",
          "name": "stdout",
          "text": [
            "107.685\n"
          ]
        },
        {
          "output_type": "stream",
          "name": "stderr",
          "text": [
            "Train: 100%|██████████| 813/813 [00:28<00:00, 28.32it/s]\n",
            "Eval : 100%|██████████| 63/63 [00:01<00:00, 35.70it/s]\n",
            "Epoch 1810\n"
          ]
        },
        {
          "output_type": "stream",
          "name": "stdout",
          "text": [
            "107.685\n"
          ]
        },
        {
          "output_type": "stream",
          "name": "stderr",
          "text": [
            "Train: 100%|██████████| 813/813 [00:22<00:00, 35.37it/s]\n",
            "Eval : 100%|██████████| 63/63 [00:01<00:00, 35.66it/s]\n",
            "Epoch 1811\n"
          ]
        },
        {
          "output_type": "stream",
          "name": "stdout",
          "text": [
            "108.384\n"
          ]
        },
        {
          "output_type": "stream",
          "name": "stderr",
          "text": [
            "Train: 100%|██████████| 813/813 [00:28<00:00, 28.25it/s]\n",
            "Eval : 100%|██████████| 63/63 [00:01<00:00, 36.47it/s]\n",
            "Epoch 1812\n"
          ]
        },
        {
          "output_type": "stream",
          "name": "stdout",
          "text": [
            "108.384\n"
          ]
        },
        {
          "output_type": "stream",
          "name": "stderr",
          "text": [
            "Train: 100%|██████████| 813/813 [00:22<00:00, 35.65it/s]\n",
            "Eval : 100%|██████████| 63/63 [00:01<00:00, 36.86it/s]\n",
            "Epoch 1813\n"
          ]
        },
        {
          "output_type": "stream",
          "name": "stdout",
          "text": [
            "107.553\n"
          ]
        },
        {
          "output_type": "stream",
          "name": "stderr",
          "text": [
            "Train: 100%|██████████| 813/813 [00:28<00:00, 28.27it/s]\n",
            "Eval : 100%|██████████| 63/63 [00:01<00:00, 36.79it/s]\n",
            "Epoch 1814\n"
          ]
        },
        {
          "output_type": "stream",
          "name": "stdout",
          "text": [
            "107.553\n"
          ]
        },
        {
          "output_type": "stream",
          "name": "stderr",
          "text": [
            "Train: 100%|██████████| 813/813 [00:22<00:00, 35.47it/s]\n",
            "Eval : 100%|██████████| 63/63 [00:01<00:00, 36.48it/s]\n",
            "Epoch 1815\n"
          ]
        },
        {
          "output_type": "stream",
          "name": "stdout",
          "text": [
            "108.947\n"
          ]
        },
        {
          "output_type": "stream",
          "name": "stderr",
          "text": [
            "Train: 100%|██████████| 813/813 [00:28<00:00, 28.10it/s]\n",
            "Eval : 100%|██████████| 63/63 [00:01<00:00, 36.74it/s]\n",
            "Epoch 1816\n"
          ]
        },
        {
          "output_type": "stream",
          "name": "stdout",
          "text": [
            "108.947\n"
          ]
        },
        {
          "output_type": "stream",
          "name": "stderr",
          "text": [
            "Train: 100%|██████████| 813/813 [00:23<00:00, 35.33it/s]\n",
            "Eval : 100%|██████████| 63/63 [00:01<00:00, 36.05it/s]\n",
            "Epoch 1817\n"
          ]
        },
        {
          "output_type": "stream",
          "name": "stdout",
          "text": [
            "106.737\n"
          ]
        },
        {
          "output_type": "stream",
          "name": "stderr",
          "text": [
            "Train: 100%|██████████| 813/813 [00:29<00:00, 28.02it/s]\n",
            "Eval : 100%|██████████| 63/63 [00:01<00:00, 36.95it/s]\n",
            "Epoch 1818\n"
          ]
        },
        {
          "output_type": "stream",
          "name": "stdout",
          "text": [
            "106.737\n"
          ]
        },
        {
          "output_type": "stream",
          "name": "stderr",
          "text": [
            "Train: 100%|██████████| 813/813 [00:23<00:00, 34.06it/s]\n",
            "Eval : 100%|██████████| 63/63 [00:01<00:00, 34.39it/s]\n",
            "Epoch 1819\n"
          ]
        },
        {
          "output_type": "stream",
          "name": "stdout",
          "text": [
            "108.099\n"
          ]
        },
        {
          "output_type": "stream",
          "name": "stderr",
          "text": [
            "Train: 100%|██████████| 813/813 [00:30<00:00, 26.65it/s]\n",
            "Eval : 100%|██████████| 63/63 [00:01<00:00, 35.37it/s]\n",
            "Epoch 1820\n"
          ]
        },
        {
          "output_type": "stream",
          "name": "stdout",
          "text": [
            "108.099\n"
          ]
        },
        {
          "output_type": "stream",
          "name": "stderr",
          "text": [
            "Train: 100%|██████████| 813/813 [00:23<00:00, 35.16it/s]\n",
            "Eval : 100%|██████████| 63/63 [00:01<00:00, 36.86it/s]\n",
            "Epoch 1821\n"
          ]
        },
        {
          "output_type": "stream",
          "name": "stdout",
          "text": [
            "107.904\n"
          ]
        },
        {
          "output_type": "stream",
          "name": "stderr",
          "text": [
            "Train: 100%|██████████| 813/813 [00:28<00:00, 28.09it/s]\n",
            "Eval : 100%|██████████| 63/63 [00:01<00:00, 35.21it/s]\n",
            "Epoch 1822\n"
          ]
        },
        {
          "output_type": "stream",
          "name": "stdout",
          "text": [
            "107.904\n"
          ]
        },
        {
          "output_type": "stream",
          "name": "stderr",
          "text": [
            "Train: 100%|██████████| 813/813 [00:23<00:00, 35.14it/s]\n",
            "Eval : 100%|██████████| 63/63 [00:01<00:00, 36.80it/s]\n",
            "Epoch 1823\n"
          ]
        },
        {
          "output_type": "stream",
          "name": "stdout",
          "text": [
            "108.204\n"
          ]
        },
        {
          "output_type": "stream",
          "name": "stderr",
          "text": [
            "Train: 100%|██████████| 813/813 [00:28<00:00, 28.25it/s]\n",
            "Eval : 100%|██████████| 63/63 [00:01<00:00, 36.04it/s]\n",
            "Epoch 1824\n"
          ]
        },
        {
          "output_type": "stream",
          "name": "stdout",
          "text": [
            "108.204\n"
          ]
        },
        {
          "output_type": "stream",
          "name": "stderr",
          "text": [
            "Train: 100%|██████████| 813/813 [00:23<00:00, 35.33it/s]\n",
            "Eval : 100%|██████████| 63/63 [00:01<00:00, 36.69it/s]\n",
            "Epoch 1825\n"
          ]
        },
        {
          "output_type": "stream",
          "name": "stdout",
          "text": [
            "108.396\n"
          ]
        },
        {
          "output_type": "stream",
          "name": "stderr",
          "text": [
            "Train: 100%|██████████| 813/813 [00:28<00:00, 28.07it/s]\n",
            "Eval : 100%|██████████| 63/63 [00:01<00:00, 36.93it/s]\n",
            "Epoch 1826\n"
          ]
        },
        {
          "output_type": "stream",
          "name": "stdout",
          "text": [
            "108.396\n"
          ]
        },
        {
          "output_type": "stream",
          "name": "stderr",
          "text": [
            "Train: 100%|██████████| 813/813 [00:23<00:00, 35.22it/s]\n",
            "Eval : 100%|██████████| 63/63 [00:01<00:00, 36.79it/s]\n",
            "Epoch 1827\n"
          ]
        },
        {
          "output_type": "stream",
          "name": "stdout",
          "text": [
            "108.088\n"
          ]
        },
        {
          "output_type": "stream",
          "name": "stderr",
          "text": [
            "Train: 100%|██████████| 813/813 [00:28<00:00, 28.44it/s]\n",
            "Eval : 100%|██████████| 63/63 [00:01<00:00, 36.79it/s]\n",
            "Epoch 1828\n"
          ]
        },
        {
          "output_type": "stream",
          "name": "stdout",
          "text": [
            "108.088\n"
          ]
        },
        {
          "output_type": "stream",
          "name": "stderr",
          "text": [
            "Train: 100%|██████████| 813/813 [00:23<00:00, 35.20it/s]\n",
            "Eval : 100%|██████████| 63/63 [00:01<00:00, 35.35it/s]\n",
            "Epoch 1829\n"
          ]
        },
        {
          "output_type": "stream",
          "name": "stdout",
          "text": [
            "108.343\n"
          ]
        },
        {
          "output_type": "stream",
          "name": "stderr",
          "text": [
            "Train: 100%|██████████| 813/813 [00:28<00:00, 28.13it/s]\n",
            "Eval : 100%|██████████| 63/63 [00:01<00:00, 36.49it/s]\n",
            "Epoch 1830\n"
          ]
        },
        {
          "output_type": "stream",
          "name": "stdout",
          "text": [
            "108.343\n"
          ]
        },
        {
          "output_type": "stream",
          "name": "stderr",
          "text": [
            "Train: 100%|██████████| 813/813 [00:22<00:00, 35.57it/s]\n",
            "Eval : 100%|██████████| 63/63 [00:01<00:00, 36.63it/s]\n",
            "Epoch 1831\n"
          ]
        },
        {
          "output_type": "stream",
          "name": "stdout",
          "text": [
            "107.805\n"
          ]
        },
        {
          "output_type": "stream",
          "name": "stderr",
          "text": [
            "Train: 100%|██████████| 813/813 [00:28<00:00, 28.63it/s]\n",
            "Eval : 100%|██████████| 63/63 [00:01<00:00, 36.16it/s]\n",
            "Epoch 1832\n"
          ]
        },
        {
          "output_type": "stream",
          "name": "stdout",
          "text": [
            "107.805\n"
          ]
        },
        {
          "output_type": "stream",
          "name": "stderr",
          "text": [
            "Train: 100%|██████████| 813/813 [00:22<00:00, 35.63it/s]\n",
            "Eval : 100%|██████████| 63/63 [00:01<00:00, 35.62it/s]\n",
            "Epoch 1833\n"
          ]
        },
        {
          "output_type": "stream",
          "name": "stdout",
          "text": [
            "108.156\n"
          ]
        },
        {
          "output_type": "stream",
          "name": "stderr",
          "text": [
            "Train: 100%|██████████| 813/813 [00:28<00:00, 28.35it/s]\n",
            "Eval : 100%|██████████| 63/63 [00:01<00:00, 35.89it/s]\n",
            "Epoch 1834\n"
          ]
        },
        {
          "output_type": "stream",
          "name": "stdout",
          "text": [
            "108.156\n"
          ]
        },
        {
          "output_type": "stream",
          "name": "stderr",
          "text": [
            "Train: 100%|██████████| 813/813 [00:22<00:00, 35.40it/s]\n",
            "Eval : 100%|██████████| 63/63 [00:01<00:00, 36.15it/s]\n",
            "Epoch 1835\n"
          ]
        },
        {
          "output_type": "stream",
          "name": "stdout",
          "text": [
            "107.222\n"
          ]
        },
        {
          "output_type": "stream",
          "name": "stderr",
          "text": [
            "Train: 100%|██████████| 813/813 [00:28<00:00, 28.32it/s]\n",
            "Eval : 100%|██████████| 63/63 [00:01<00:00, 36.54it/s]\n",
            "Epoch 1836\n"
          ]
        },
        {
          "output_type": "stream",
          "name": "stdout",
          "text": [
            "107.222\n"
          ]
        },
        {
          "output_type": "stream",
          "name": "stderr",
          "text": [
            "Train: 100%|██████████| 813/813 [00:23<00:00, 35.19it/s]\n",
            "Eval : 100%|██████████| 63/63 [00:01<00:00, 36.65it/s]\n",
            "Epoch 1837\n"
          ]
        },
        {
          "output_type": "stream",
          "name": "stdout",
          "text": [
            "109.034\n"
          ]
        },
        {
          "output_type": "stream",
          "name": "stderr",
          "text": [
            "Train: 100%|██████████| 813/813 [00:29<00:00, 27.94it/s]\n",
            "Eval : 100%|██████████| 63/63 [00:01<00:00, 36.45it/s]\n",
            "Epoch 1838\n"
          ]
        },
        {
          "output_type": "stream",
          "name": "stdout",
          "text": [
            "109.034\n"
          ]
        },
        {
          "output_type": "stream",
          "name": "stderr",
          "text": [
            "Train: 100%|██████████| 813/813 [00:22<00:00, 35.58it/s]\n",
            "Eval : 100%|██████████| 63/63 [00:01<00:00, 36.32it/s]\n",
            "Epoch 1839\n"
          ]
        },
        {
          "output_type": "stream",
          "name": "stdout",
          "text": [
            "107.314\n"
          ]
        },
        {
          "output_type": "stream",
          "name": "stderr",
          "text": [
            "Train: 100%|██████████| 813/813 [00:28<00:00, 28.12it/s]\n",
            "Eval : 100%|██████████| 63/63 [00:01<00:00, 36.27it/s]\n",
            "Epoch 1840\n"
          ]
        },
        {
          "output_type": "stream",
          "name": "stdout",
          "text": [
            "107.314\n"
          ]
        },
        {
          "output_type": "stream",
          "name": "stderr",
          "text": [
            "Train: 100%|██████████| 813/813 [00:23<00:00, 35.31it/s]\n",
            "Eval : 100%|██████████| 63/63 [00:01<00:00, 36.21it/s]\n",
            "Epoch 1841\n"
          ]
        },
        {
          "output_type": "stream",
          "name": "stdout",
          "text": [
            "108.726\n"
          ]
        },
        {
          "output_type": "stream",
          "name": "stderr",
          "text": [
            "Train: 100%|██████████| 813/813 [00:28<00:00, 28.14it/s]\n",
            "Eval : 100%|██████████| 63/63 [00:01<00:00, 36.86it/s]\n",
            "Epoch 1842\n"
          ]
        },
        {
          "output_type": "stream",
          "name": "stdout",
          "text": [
            "108.726\n"
          ]
        },
        {
          "output_type": "stream",
          "name": "stderr",
          "text": [
            "Train: 100%|██████████| 813/813 [00:23<00:00, 35.31it/s]\n",
            "Eval : 100%|██████████| 63/63 [00:01<00:00, 36.01it/s]\n",
            "Epoch 1843\n"
          ]
        },
        {
          "output_type": "stream",
          "name": "stdout",
          "text": [
            "107.426\n"
          ]
        },
        {
          "output_type": "stream",
          "name": "stderr",
          "text": [
            "Train: 100%|██████████| 813/813 [00:28<00:00, 28.07it/s]\n",
            "Eval : 100%|██████████| 63/63 [00:01<00:00, 35.66it/s]\n",
            "Epoch 1844\n"
          ]
        },
        {
          "output_type": "stream",
          "name": "stdout",
          "text": [
            "107.426\n"
          ]
        },
        {
          "output_type": "stream",
          "name": "stderr",
          "text": [
            "Train: 100%|██████████| 813/813 [00:22<00:00, 35.60it/s]\n",
            "Eval : 100%|██████████| 63/63 [00:01<00:00, 36.23it/s]\n",
            "Epoch 1845\n"
          ]
        },
        {
          "output_type": "stream",
          "name": "stdout",
          "text": [
            "109.581\n"
          ]
        },
        {
          "output_type": "stream",
          "name": "stderr",
          "text": [
            "Train: 100%|██████████| 813/813 [00:29<00:00, 27.98it/s]\n",
            "Eval : 100%|██████████| 63/63 [00:01<00:00, 36.99it/s]\n",
            "Epoch 1846\n"
          ]
        },
        {
          "output_type": "stream",
          "name": "stdout",
          "text": [
            "109.581\n"
          ]
        },
        {
          "output_type": "stream",
          "name": "stderr",
          "text": [
            "Train: 100%|██████████| 813/813 [00:22<00:00, 35.82it/s]\n",
            "Eval : 100%|██████████| 63/63 [00:01<00:00, 35.48it/s]\n",
            "Epoch 1847\n"
          ]
        },
        {
          "output_type": "stream",
          "name": "stdout",
          "text": [
            "107.714\n"
          ]
        },
        {
          "output_type": "stream",
          "name": "stderr",
          "text": [
            "Train: 100%|██████████| 813/813 [00:28<00:00, 28.42it/s]\n",
            "Eval : 100%|██████████| 63/63 [00:01<00:00, 35.92it/s]\n",
            "Epoch 1848\n"
          ]
        },
        {
          "output_type": "stream",
          "name": "stdout",
          "text": [
            "107.714\n"
          ]
        },
        {
          "output_type": "stream",
          "name": "stderr",
          "text": [
            "Train: 100%|██████████| 813/813 [00:22<00:00, 35.40it/s]\n",
            "Eval : 100%|██████████| 63/63 [00:01<00:00, 37.04it/s]\n",
            "Epoch 1849\n"
          ]
        },
        {
          "output_type": "stream",
          "name": "stdout",
          "text": [
            "109.237\n"
          ]
        },
        {
          "output_type": "stream",
          "name": "stderr",
          "text": [
            "Train: 100%|██████████| 813/813 [00:28<00:00, 28.46it/s]\n",
            "Eval : 100%|██████████| 63/63 [00:01<00:00, 35.14it/s]\n",
            "Epoch 1850\n"
          ]
        },
        {
          "output_type": "stream",
          "name": "stdout",
          "text": [
            "109.237\n"
          ]
        },
        {
          "output_type": "stream",
          "name": "stderr",
          "text": [
            "Train: 100%|██████████| 813/813 [00:22<00:00, 35.69it/s]\n",
            "Eval : 100%|██████████| 63/63 [00:01<00:00, 37.18it/s]\n",
            "Epoch 1851\n"
          ]
        },
        {
          "output_type": "stream",
          "name": "stdout",
          "text": [
            "107.488\n"
          ]
        },
        {
          "output_type": "stream",
          "name": "stderr",
          "text": [
            "Train: 100%|██████████| 813/813 [00:28<00:00, 28.74it/s]\n",
            "Eval : 100%|██████████| 63/63 [00:01<00:00, 36.53it/s]\n",
            "Epoch 1852\n"
          ]
        },
        {
          "output_type": "stream",
          "name": "stdout",
          "text": [
            "107.488\n"
          ]
        },
        {
          "output_type": "stream",
          "name": "stderr",
          "text": [
            "Train: 100%|██████████| 813/813 [00:22<00:00, 35.60it/s]\n",
            "Eval : 100%|██████████| 63/63 [00:01<00:00, 36.69it/s]\n",
            "Epoch 1853\n"
          ]
        },
        {
          "output_type": "stream",
          "name": "stdout",
          "text": [
            "108.166\n"
          ]
        },
        {
          "output_type": "stream",
          "name": "stderr",
          "text": [
            "Train: 100%|██████████| 813/813 [00:28<00:00, 28.47it/s]\n",
            "Eval : 100%|██████████| 63/63 [00:01<00:00, 37.18it/s]\n",
            "Epoch 1854\n"
          ]
        },
        {
          "output_type": "stream",
          "name": "stdout",
          "text": [
            "108.166\n"
          ]
        },
        {
          "output_type": "stream",
          "name": "stderr",
          "text": [
            "Train: 100%|██████████| 813/813 [00:22<00:00, 35.68it/s]\n",
            "Eval : 100%|██████████| 63/63 [00:01<00:00, 36.64it/s]\n",
            "Epoch 1855\n"
          ]
        },
        {
          "output_type": "stream",
          "name": "stdout",
          "text": [
            "108.572\n"
          ]
        },
        {
          "output_type": "stream",
          "name": "stderr",
          "text": [
            "Train: 100%|██████████| 813/813 [00:28<00:00, 28.66it/s]\n",
            "Eval : 100%|██████████| 63/63 [00:01<00:00, 36.76it/s]\n",
            "Epoch 1856\n"
          ]
        },
        {
          "output_type": "stream",
          "name": "stdout",
          "text": [
            "108.572\n"
          ]
        },
        {
          "output_type": "stream",
          "name": "stderr",
          "text": [
            "Train: 100%|██████████| 813/813 [00:22<00:00, 35.79it/s]\n",
            "Eval : 100%|██████████| 63/63 [00:01<00:00, 36.07it/s]\n",
            "Epoch 1857\n"
          ]
        },
        {
          "output_type": "stream",
          "name": "stdout",
          "text": [
            "107.298\n"
          ]
        },
        {
          "output_type": "stream",
          "name": "stderr",
          "text": [
            "Train: 100%|██████████| 813/813 [00:28<00:00, 28.70it/s]\n",
            "Eval : 100%|██████████| 63/63 [00:01<00:00, 36.32it/s]\n",
            "Epoch 1858\n"
          ]
        },
        {
          "output_type": "stream",
          "name": "stdout",
          "text": [
            "107.298\n"
          ]
        },
        {
          "output_type": "stream",
          "name": "stderr",
          "text": [
            "Train: 100%|██████████| 813/813 [00:22<00:00, 36.02it/s]\n",
            "Eval : 100%|██████████| 63/63 [00:01<00:00, 36.32it/s]\n",
            "Epoch 1859\n"
          ]
        },
        {
          "output_type": "stream",
          "name": "stdout",
          "text": [
            "108.225\n"
          ]
        },
        {
          "output_type": "stream",
          "name": "stderr",
          "text": [
            "Train: 100%|██████████| 813/813 [00:28<00:00, 28.34it/s]\n",
            "Eval : 100%|██████████| 63/63 [00:01<00:00, 35.87it/s]\n",
            "Epoch 1860\n"
          ]
        },
        {
          "output_type": "stream",
          "name": "stdout",
          "text": [
            "108.225\n"
          ]
        },
        {
          "output_type": "stream",
          "name": "stderr",
          "text": [
            "Train: 100%|██████████| 813/813 [00:22<00:00, 35.83it/s]\n",
            "Eval : 100%|██████████| 63/63 [00:01<00:00, 36.73it/s]\n",
            "Epoch 1861\n"
          ]
        },
        {
          "output_type": "stream",
          "name": "stdout",
          "text": [
            "108.466\n"
          ]
        },
        {
          "output_type": "stream",
          "name": "stderr",
          "text": [
            "Train: 100%|██████████| 813/813 [00:28<00:00, 28.37it/s]\n",
            "Eval : 100%|██████████| 63/63 [00:01<00:00, 37.16it/s]\n",
            "Epoch 1862\n"
          ]
        },
        {
          "output_type": "stream",
          "name": "stdout",
          "text": [
            "108.466\n"
          ]
        },
        {
          "output_type": "stream",
          "name": "stderr",
          "text": [
            "Train: 100%|██████████| 813/813 [00:22<00:00, 36.23it/s]\n",
            "Eval : 100%|██████████| 63/63 [00:01<00:00, 36.91it/s]\n",
            "Epoch 1863\n"
          ]
        },
        {
          "output_type": "stream",
          "name": "stdout",
          "text": [
            "107.738\n"
          ]
        },
        {
          "output_type": "stream",
          "name": "stderr",
          "text": [
            "Train: 100%|██████████| 813/813 [00:28<00:00, 28.50it/s]\n",
            "Eval : 100%|██████████| 63/63 [00:01<00:00, 37.20it/s]\n",
            "Epoch 1864\n"
          ]
        },
        {
          "output_type": "stream",
          "name": "stdout",
          "text": [
            "107.738\n"
          ]
        },
        {
          "output_type": "stream",
          "name": "stderr",
          "text": [
            "Train: 100%|██████████| 813/813 [00:22<00:00, 35.61it/s]\n",
            "Eval : 100%|██████████| 63/63 [00:01<00:00, 36.92it/s]\n",
            "Epoch 1865\n"
          ]
        },
        {
          "output_type": "stream",
          "name": "stdout",
          "text": [
            "107.613\n"
          ]
        },
        {
          "output_type": "stream",
          "name": "stderr",
          "text": [
            "Train: 100%|██████████| 813/813 [00:29<00:00, 27.56it/s]\n",
            "Eval : 100%|██████████| 63/63 [00:01<00:00, 35.53it/s]\n",
            "Epoch 1866\n"
          ]
        },
        {
          "output_type": "stream",
          "name": "stdout",
          "text": [
            "107.613\n"
          ]
        },
        {
          "output_type": "stream",
          "name": "stderr",
          "text": [
            "Train: 100%|██████████| 813/813 [00:24<00:00, 33.52it/s]\n",
            "Eval : 100%|██████████| 63/63 [00:01<00:00, 34.79it/s]\n",
            "Epoch 1867\n"
          ]
        },
        {
          "output_type": "stream",
          "name": "stdout",
          "text": [
            "107.993\n"
          ]
        },
        {
          "output_type": "stream",
          "name": "stderr",
          "text": [
            "Train: 100%|██████████| 813/813 [00:29<00:00, 27.19it/s]\n",
            "Eval : 100%|██████████| 63/63 [00:01<00:00, 36.51it/s]\n",
            "Epoch 1868\n"
          ]
        },
        {
          "output_type": "stream",
          "name": "stdout",
          "text": [
            "107.993\n"
          ]
        },
        {
          "output_type": "stream",
          "name": "stderr",
          "text": [
            "Train: 100%|██████████| 813/813 [00:23<00:00, 34.73it/s]\n",
            "Eval : 100%|██████████| 63/63 [00:01<00:00, 34.42it/s]\n",
            "Epoch 1869\n"
          ]
        },
        {
          "output_type": "stream",
          "name": "stdout",
          "text": [
            "107.548\n"
          ]
        },
        {
          "output_type": "stream",
          "name": "stderr",
          "text": [
            "Train: 100%|██████████| 813/813 [00:29<00:00, 27.68it/s]\n",
            "Eval : 100%|██████████| 63/63 [00:01<00:00, 35.40it/s]\n",
            "Epoch 1870\n"
          ]
        },
        {
          "output_type": "stream",
          "name": "stdout",
          "text": [
            "107.548\n"
          ]
        },
        {
          "output_type": "stream",
          "name": "stderr",
          "text": [
            "Train: 100%|██████████| 813/813 [00:24<00:00, 33.78it/s]\n",
            "Eval : 100%|██████████| 63/63 [00:01<00:00, 33.99it/s]\n",
            "Epoch 1871\n"
          ]
        },
        {
          "output_type": "stream",
          "name": "stdout",
          "text": [
            "108.364\n"
          ]
        },
        {
          "output_type": "stream",
          "name": "stderr",
          "text": [
            "Train: 100%|██████████| 813/813 [00:29<00:00, 27.20it/s]\n",
            "Eval : 100%|██████████| 63/63 [00:01<00:00, 33.46it/s]\n",
            "Epoch 1872\n"
          ]
        },
        {
          "output_type": "stream",
          "name": "stdout",
          "text": [
            "108.364\n"
          ]
        },
        {
          "output_type": "stream",
          "name": "stderr",
          "text": [
            "Train: 100%|██████████| 813/813 [00:24<00:00, 32.57it/s]\n",
            "Eval : 100%|██████████| 63/63 [00:01<00:00, 33.02it/s]\n",
            "Epoch 1873\n"
          ]
        },
        {
          "output_type": "stream",
          "name": "stdout",
          "text": [
            "107.202\n"
          ]
        },
        {
          "output_type": "stream",
          "name": "stderr",
          "text": [
            "Train: 100%|██████████| 813/813 [00:31<00:00, 26.11it/s]\n",
            "Eval : 100%|██████████| 63/63 [00:01<00:00, 33.48it/s]\n",
            "Epoch 1874\n"
          ]
        },
        {
          "output_type": "stream",
          "name": "stdout",
          "text": [
            "107.202\n"
          ]
        },
        {
          "output_type": "stream",
          "name": "stderr",
          "text": [
            "Train: 100%|██████████| 813/813 [00:24<00:00, 32.77it/s]\n",
            "Eval : 100%|██████████| 63/63 [00:01<00:00, 34.86it/s]\n",
            "Epoch 1875\n"
          ]
        },
        {
          "output_type": "stream",
          "name": "stdout",
          "text": [
            "108.725\n"
          ]
        },
        {
          "output_type": "stream",
          "name": "stderr",
          "text": [
            "Train: 100%|██████████| 813/813 [00:30<00:00, 26.59it/s]\n",
            "Eval : 100%|██████████| 63/63 [00:01<00:00, 33.93it/s]\n",
            "Epoch 1876\n"
          ]
        },
        {
          "output_type": "stream",
          "name": "stdout",
          "text": [
            "108.725\n"
          ]
        },
        {
          "output_type": "stream",
          "name": "stderr",
          "text": [
            "Train: 100%|██████████| 813/813 [00:23<00:00, 34.11it/s]\n",
            "Eval : 100%|██████████| 63/63 [00:01<00:00, 35.56it/s]\n",
            "Epoch 1877\n"
          ]
        },
        {
          "output_type": "stream",
          "name": "stdout",
          "text": [
            "107.657\n"
          ]
        },
        {
          "output_type": "stream",
          "name": "stderr",
          "text": [
            "Train: 100%|██████████| 813/813 [00:29<00:00, 27.37it/s]\n",
            "Eval : 100%|██████████| 63/63 [00:01<00:00, 33.91it/s]\n",
            "Epoch 1878\n"
          ]
        },
        {
          "output_type": "stream",
          "name": "stdout",
          "text": [
            "107.657\n"
          ]
        },
        {
          "output_type": "stream",
          "name": "stderr",
          "text": [
            "Train: 100%|██████████| 813/813 [00:24<00:00, 33.66it/s]\n",
            "Eval : 100%|██████████| 63/63 [00:01<00:00, 35.26it/s]\n",
            "Epoch 1879\n"
          ]
        },
        {
          "output_type": "stream",
          "name": "stdout",
          "text": [
            "108.26\n"
          ]
        },
        {
          "output_type": "stream",
          "name": "stderr",
          "text": [
            "Train: 100%|██████████| 813/813 [00:29<00:00, 27.28it/s]\n",
            "Eval : 100%|██████████| 63/63 [00:01<00:00, 35.79it/s]\n",
            "Epoch 1880\n"
          ]
        },
        {
          "output_type": "stream",
          "name": "stdout",
          "text": [
            "108.26\n"
          ]
        },
        {
          "output_type": "stream",
          "name": "stderr",
          "text": [
            "Train: 100%|██████████| 813/813 [00:24<00:00, 33.79it/s]\n",
            "Eval : 100%|██████████| 63/63 [00:01<00:00, 35.10it/s]\n",
            "Epoch 1881\n"
          ]
        },
        {
          "output_type": "stream",
          "name": "stdout",
          "text": [
            "107.584\n"
          ]
        },
        {
          "output_type": "stream",
          "name": "stderr",
          "text": [
            "Train: 100%|██████████| 813/813 [00:29<00:00, 27.29it/s]\n",
            "Eval : 100%|██████████| 63/63 [00:01<00:00, 35.01it/s]\n",
            "Epoch 1882\n"
          ]
        },
        {
          "output_type": "stream",
          "name": "stdout",
          "text": [
            "107.584\n"
          ]
        },
        {
          "output_type": "stream",
          "name": "stderr",
          "text": [
            "Train: 100%|██████████| 813/813 [00:24<00:00, 33.86it/s]\n",
            "Eval : 100%|██████████| 63/63 [00:01<00:00, 35.68it/s]\n",
            "Epoch 1883\n"
          ]
        },
        {
          "output_type": "stream",
          "name": "stdout",
          "text": [
            "108.078\n"
          ]
        },
        {
          "output_type": "stream",
          "name": "stderr",
          "text": [
            "Train: 100%|██████████| 813/813 [00:29<00:00, 27.50it/s]\n",
            "Eval : 100%|██████████| 63/63 [00:01<00:00, 35.10it/s]\n",
            "Epoch 1884\n"
          ]
        },
        {
          "output_type": "stream",
          "name": "stdout",
          "text": [
            "108.078\n"
          ]
        },
        {
          "output_type": "stream",
          "name": "stderr",
          "text": [
            "Train: 100%|██████████| 813/813 [00:23<00:00, 34.02it/s]\n",
            "Eval : 100%|██████████| 63/63 [00:01<00:00, 35.15it/s]\n",
            "Epoch 1885\n"
          ]
        },
        {
          "output_type": "stream",
          "name": "stdout",
          "text": [
            "106.766\n"
          ]
        },
        {
          "output_type": "stream",
          "name": "stderr",
          "text": [
            "Train: 100%|██████████| 813/813 [00:29<00:00, 27.35it/s]\n",
            "Eval : 100%|██████████| 63/63 [00:01<00:00, 35.32it/s]\n",
            "Epoch 1886\n"
          ]
        },
        {
          "output_type": "stream",
          "name": "stdout",
          "text": [
            "106.766\n"
          ]
        },
        {
          "output_type": "stream",
          "name": "stderr",
          "text": [
            "Train: 100%|██████████| 813/813 [00:24<00:00, 33.35it/s]\n",
            "Eval : 100%|██████████| 63/63 [00:01<00:00, 35.17it/s]\n",
            "Epoch 1887\n"
          ]
        },
        {
          "output_type": "stream",
          "name": "stdout",
          "text": [
            "108.762\n"
          ]
        },
        {
          "output_type": "stream",
          "name": "stderr",
          "text": [
            "Train: 100%|██████████| 813/813 [00:29<00:00, 27.25it/s]\n",
            "Eval : 100%|██████████| 63/63 [00:01<00:00, 35.08it/s]\n",
            "Epoch 1888\n"
          ]
        },
        {
          "output_type": "stream",
          "name": "stdout",
          "text": [
            "108.762\n"
          ]
        },
        {
          "output_type": "stream",
          "name": "stderr",
          "text": [
            "Train: 100%|██████████| 813/813 [00:23<00:00, 33.94it/s]\n",
            "Eval : 100%|██████████| 63/63 [00:01<00:00, 35.01it/s]\n",
            "Epoch 1889\n"
          ]
        },
        {
          "output_type": "stream",
          "name": "stdout",
          "text": [
            "107.735\n"
          ]
        },
        {
          "output_type": "stream",
          "name": "stderr",
          "text": [
            "Train: 100%|██████████| 813/813 [00:29<00:00, 27.35it/s]\n",
            "Eval : 100%|██████████| 63/63 [00:01<00:00, 35.36it/s]\n",
            "Epoch 1890\n"
          ]
        },
        {
          "output_type": "stream",
          "name": "stdout",
          "text": [
            "107.735\n"
          ]
        },
        {
          "output_type": "stream",
          "name": "stderr",
          "text": [
            "Train: 100%|██████████| 813/813 [00:23<00:00, 33.97it/s]\n",
            "Eval : 100%|██████████| 63/63 [00:01<00:00, 35.12it/s]\n",
            "Epoch 1891\n"
          ]
        },
        {
          "output_type": "stream",
          "name": "stdout",
          "text": [
            "107.332\n"
          ]
        },
        {
          "output_type": "stream",
          "name": "stderr",
          "text": [
            "Train: 100%|██████████| 813/813 [00:30<00:00, 26.77it/s]\n",
            "Eval : 100%|██████████| 63/63 [00:01<00:00, 34.22it/s]\n",
            "Epoch 1892\n"
          ]
        },
        {
          "output_type": "stream",
          "name": "stdout",
          "text": [
            "107.332\n"
          ]
        },
        {
          "output_type": "stream",
          "name": "stderr",
          "text": [
            "Train: 100%|██████████| 813/813 [00:24<00:00, 33.82it/s]\n",
            "Eval : 100%|██████████| 63/63 [00:01<00:00, 33.45it/s]\n",
            "Epoch 1893\n"
          ]
        },
        {
          "output_type": "stream",
          "name": "stdout",
          "text": [
            "108.356\n"
          ]
        },
        {
          "output_type": "stream",
          "name": "stderr",
          "text": [
            "Train: 100%|██████████| 813/813 [00:30<00:00, 26.80it/s]\n",
            "Eval : 100%|██████████| 63/63 [00:01<00:00, 33.55it/s]\n",
            "Epoch 1894\n"
          ]
        },
        {
          "output_type": "stream",
          "name": "stdout",
          "text": [
            "108.356\n"
          ]
        },
        {
          "output_type": "stream",
          "name": "stderr",
          "text": [
            "Train: 100%|██████████| 813/813 [00:24<00:00, 33.58it/s]\n",
            "Eval : 100%|██████████| 63/63 [00:01<00:00, 34.95it/s]\n",
            "Epoch 1895\n"
          ]
        },
        {
          "output_type": "stream",
          "name": "stdout",
          "text": [
            "107.94\n"
          ]
        },
        {
          "output_type": "stream",
          "name": "stderr",
          "text": [
            "Train: 100%|██████████| 813/813 [00:29<00:00, 27.39it/s]\n",
            "Eval : 100%|██████████| 63/63 [00:01<00:00, 35.49it/s]\n",
            "Epoch 1896\n"
          ]
        },
        {
          "output_type": "stream",
          "name": "stdout",
          "text": [
            "107.94\n"
          ]
        },
        {
          "output_type": "stream",
          "name": "stderr",
          "text": [
            "Train: 100%|██████████| 813/813 [00:23<00:00, 33.96it/s]\n",
            "Eval : 100%|██████████| 63/63 [00:01<00:00, 34.87it/s]\n",
            "Epoch 1897\n"
          ]
        },
        {
          "output_type": "stream",
          "name": "stdout",
          "text": [
            "109.294\n"
          ]
        },
        {
          "output_type": "stream",
          "name": "stderr",
          "text": [
            "Train: 100%|██████████| 813/813 [00:30<00:00, 26.82it/s]\n",
            "Eval : 100%|██████████| 63/63 [00:01<00:00, 34.11it/s]\n",
            "Epoch 1898\n"
          ]
        },
        {
          "output_type": "stream",
          "name": "stdout",
          "text": [
            "109.294\n"
          ]
        },
        {
          "output_type": "stream",
          "name": "stderr",
          "text": [
            "Train: 100%|██████████| 813/813 [00:24<00:00, 33.74it/s]\n",
            "Eval : 100%|██████████| 63/63 [00:01<00:00, 34.63it/s]\n",
            "Epoch 1899\n"
          ]
        },
        {
          "output_type": "stream",
          "name": "stdout",
          "text": [
            "107.392\n"
          ]
        },
        {
          "output_type": "stream",
          "name": "stderr",
          "text": [
            "Train: 100%|██████████| 813/813 [00:30<00:00, 26.94it/s]\n",
            "Eval : 100%|██████████| 63/63 [00:01<00:00, 35.41it/s]\n",
            "Epoch 1900\n"
          ]
        },
        {
          "output_type": "stream",
          "name": "stdout",
          "text": [
            "107.392\n"
          ]
        },
        {
          "output_type": "stream",
          "name": "stderr",
          "text": [
            "Train: 100%|██████████| 813/813 [00:23<00:00, 33.90it/s]\n",
            "Eval : 100%|██████████| 63/63 [00:01<00:00, 33.55it/s]\n",
            "Epoch 1901\n"
          ]
        },
        {
          "output_type": "stream",
          "name": "stdout",
          "text": [
            "108.366\n"
          ]
        },
        {
          "output_type": "stream",
          "name": "stderr",
          "text": [
            "Train: 100%|██████████| 813/813 [00:28<00:00, 28.05it/s]\n",
            "Eval : 100%|██████████| 63/63 [00:01<00:00, 35.76it/s]\n",
            "Epoch 1902\n"
          ]
        },
        {
          "output_type": "stream",
          "name": "stdout",
          "text": [
            "108.366\n"
          ]
        },
        {
          "output_type": "stream",
          "name": "stderr",
          "text": [
            "Train: 100%|██████████| 813/813 [00:23<00:00, 34.74it/s]\n",
            "Eval : 100%|██████████| 63/63 [00:01<00:00, 34.36it/s]\n",
            "Epoch 1903\n"
          ]
        },
        {
          "output_type": "stream",
          "name": "stdout",
          "text": [
            "107.423\n"
          ]
        },
        {
          "output_type": "stream",
          "name": "stderr",
          "text": [
            "Train: 100%|██████████| 813/813 [00:29<00:00, 27.19it/s]\n",
            "Eval : 100%|██████████| 63/63 [00:01<00:00, 33.49it/s]\n",
            "Epoch 1904\n"
          ]
        },
        {
          "output_type": "stream",
          "name": "stdout",
          "text": [
            "107.423\n"
          ]
        },
        {
          "output_type": "stream",
          "name": "stderr",
          "text": [
            "Train: 100%|██████████| 813/813 [00:23<00:00, 34.66it/s]\n",
            "Eval : 100%|██████████| 63/63 [00:01<00:00, 35.00it/s]\n",
            "Epoch 1905\n"
          ]
        },
        {
          "output_type": "stream",
          "name": "stdout",
          "text": [
            "106.759\n"
          ]
        },
        {
          "output_type": "stream",
          "name": "stderr",
          "text": [
            "Train: 100%|██████████| 813/813 [00:30<00:00, 26.90it/s]\n",
            "Eval : 100%|██████████| 63/63 [00:01<00:00, 35.05it/s]\n",
            "Epoch 1906\n"
          ]
        },
        {
          "output_type": "stream",
          "name": "stdout",
          "text": [
            "106.759\n"
          ]
        },
        {
          "output_type": "stream",
          "name": "stderr",
          "text": [
            "Train: 100%|██████████| 813/813 [00:23<00:00, 34.13it/s]\n",
            "Eval : 100%|██████████| 63/63 [00:01<00:00, 35.38it/s]\n",
            "Epoch 1907\n"
          ]
        },
        {
          "output_type": "stream",
          "name": "stdout",
          "text": [
            "108.29\n"
          ]
        },
        {
          "output_type": "stream",
          "name": "stderr",
          "text": [
            "Train: 100%|██████████| 813/813 [00:29<00:00, 27.53it/s]\n",
            "Eval : 100%|██████████| 63/63 [00:01<00:00, 34.31it/s]\n",
            "Epoch 1908\n"
          ]
        },
        {
          "output_type": "stream",
          "name": "stdout",
          "text": [
            "108.29\n"
          ]
        },
        {
          "output_type": "stream",
          "name": "stderr",
          "text": [
            "Train: 100%|██████████| 813/813 [00:23<00:00, 35.16it/s]\n",
            "Eval : 100%|██████████| 63/63 [00:01<00:00, 35.22it/s]\n",
            "Epoch 1909\n"
          ]
        },
        {
          "output_type": "stream",
          "name": "stdout",
          "text": [
            "108.279\n"
          ]
        },
        {
          "output_type": "stream",
          "name": "stderr",
          "text": [
            "Train: 100%|██████████| 813/813 [00:29<00:00, 27.26it/s]\n",
            "Eval : 100%|██████████| 63/63 [00:01<00:00, 35.05it/s]\n",
            "Epoch 1910\n"
          ]
        },
        {
          "output_type": "stream",
          "name": "stdout",
          "text": [
            "108.279\n"
          ]
        },
        {
          "output_type": "stream",
          "name": "stderr",
          "text": [
            "Train: 100%|██████████| 813/813 [00:24<00:00, 33.79it/s]\n",
            "Eval : 100%|██████████| 63/63 [00:01<00:00, 33.23it/s]\n",
            "Epoch 1911\n"
          ]
        },
        {
          "output_type": "stream",
          "name": "stdout",
          "text": [
            "106.719\n"
          ]
        },
        {
          "output_type": "stream",
          "name": "stderr",
          "text": [
            "Train: 100%|██████████| 813/813 [00:30<00:00, 26.96it/s]\n",
            "Eval : 100%|██████████| 63/63 [00:01<00:00, 33.97it/s]\n",
            "Epoch 1912\n"
          ]
        },
        {
          "output_type": "stream",
          "name": "stdout",
          "text": [
            "106.719\n"
          ]
        },
        {
          "output_type": "stream",
          "name": "stderr",
          "text": [
            "Train: 100%|██████████| 813/813 [00:23<00:00, 33.91it/s]\n",
            "Eval : 100%|██████████| 63/63 [00:01<00:00, 34.98it/s]\n",
            "Epoch 1913\n"
          ]
        },
        {
          "output_type": "stream",
          "name": "stdout",
          "text": [
            "109.179\n"
          ]
        },
        {
          "output_type": "stream",
          "name": "stderr",
          "text": [
            "Train: 100%|██████████| 813/813 [00:30<00:00, 26.87it/s]\n",
            "Eval : 100%|██████████| 63/63 [00:01<00:00, 35.35it/s]\n",
            "Epoch 1914\n"
          ]
        },
        {
          "output_type": "stream",
          "name": "stdout",
          "text": [
            "109.179\n"
          ]
        },
        {
          "output_type": "stream",
          "name": "stderr",
          "text": [
            "Train: 100%|██████████| 813/813 [00:23<00:00, 34.45it/s]\n",
            "Eval : 100%|██████████| 63/63 [00:01<00:00, 36.00it/s]\n",
            "Epoch 1915\n"
          ]
        },
        {
          "output_type": "stream",
          "name": "stdout",
          "text": [
            "107.677\n"
          ]
        },
        {
          "output_type": "stream",
          "name": "stderr",
          "text": [
            "Train: 100%|██████████| 813/813 [00:29<00:00, 28.00it/s]\n",
            "Eval : 100%|██████████| 63/63 [00:01<00:00, 36.22it/s]\n",
            "Epoch 1916\n"
          ]
        },
        {
          "output_type": "stream",
          "name": "stdout",
          "text": [
            "107.677\n"
          ]
        },
        {
          "output_type": "stream",
          "name": "stderr",
          "text": [
            "Train: 100%|██████████| 813/813 [00:23<00:00, 34.74it/s]\n",
            "Eval : 100%|██████████| 63/63 [00:01<00:00, 35.28it/s]\n",
            "Epoch 1917\n"
          ]
        },
        {
          "output_type": "stream",
          "name": "stdout",
          "text": [
            "107.819\n"
          ]
        },
        {
          "output_type": "stream",
          "name": "stderr",
          "text": [
            "Train: 100%|██████████| 813/813 [00:30<00:00, 27.10it/s]\n",
            "Eval : 100%|██████████| 63/63 [00:01<00:00, 35.30it/s]\n",
            "Epoch 1918\n"
          ]
        },
        {
          "output_type": "stream",
          "name": "stdout",
          "text": [
            "107.819\n"
          ]
        },
        {
          "output_type": "stream",
          "name": "stderr",
          "text": [
            "Train: 100%|██████████| 813/813 [00:23<00:00, 34.02it/s]\n",
            "Eval : 100%|██████████| 63/63 [00:01<00:00, 35.03it/s]\n",
            "Epoch 1919\n"
          ]
        },
        {
          "output_type": "stream",
          "name": "stdout",
          "text": [
            "107.786\n"
          ]
        },
        {
          "output_type": "stream",
          "name": "stderr",
          "text": [
            "Train: 100%|██████████| 813/813 [00:29<00:00, 27.14it/s]\n",
            "Eval : 100%|██████████| 63/63 [00:01<00:00, 33.95it/s]\n",
            "Epoch 1920\n"
          ]
        },
        {
          "output_type": "stream",
          "name": "stdout",
          "text": [
            "107.786\n"
          ]
        },
        {
          "output_type": "stream",
          "name": "stderr",
          "text": [
            "Train: 100%|██████████| 813/813 [00:24<00:00, 33.84it/s]\n",
            "Eval : 100%|██████████| 63/63 [00:01<00:00, 35.01it/s]\n",
            "Epoch 1921\n"
          ]
        },
        {
          "output_type": "stream",
          "name": "stdout",
          "text": [
            "108.148\n"
          ]
        },
        {
          "output_type": "stream",
          "name": "stderr",
          "text": [
            "Train: 100%|██████████| 813/813 [00:29<00:00, 27.64it/s]\n",
            "Eval : 100%|██████████| 63/63 [00:01<00:00, 36.38it/s]\n",
            "Epoch 1922\n"
          ]
        },
        {
          "output_type": "stream",
          "name": "stdout",
          "text": [
            "108.148\n"
          ]
        },
        {
          "output_type": "stream",
          "name": "stderr",
          "text": [
            "Train: 100%|██████████| 813/813 [00:23<00:00, 35.16it/s]\n",
            "Eval : 100%|██████████| 63/63 [00:01<00:00, 35.69it/s]\n",
            "Epoch 1923\n"
          ]
        },
        {
          "output_type": "stream",
          "name": "stdout",
          "text": [
            "107.707\n"
          ]
        },
        {
          "output_type": "stream",
          "name": "stderr",
          "text": [
            "Train: 100%|██████████| 813/813 [00:28<00:00, 28.40it/s]\n",
            "Eval : 100%|██████████| 63/63 [00:01<00:00, 36.32it/s]\n",
            "Epoch 1924\n"
          ]
        },
        {
          "output_type": "stream",
          "name": "stdout",
          "text": [
            "107.707\n"
          ]
        },
        {
          "output_type": "stream",
          "name": "stderr",
          "text": [
            "Train: 100%|██████████| 813/813 [00:23<00:00, 34.77it/s]\n",
            "Eval : 100%|██████████| 63/63 [00:01<00:00, 34.87it/s]\n",
            "Epoch 1925\n"
          ]
        },
        {
          "output_type": "stream",
          "name": "stdout",
          "text": [
            "108.406\n"
          ]
        },
        {
          "output_type": "stream",
          "name": "stderr",
          "text": [
            "Train: 100%|██████████| 813/813 [00:30<00:00, 26.88it/s]\n",
            "Eval : 100%|██████████| 63/63 [00:01<00:00, 34.37it/s]\n",
            "Epoch 1926\n"
          ]
        },
        {
          "output_type": "stream",
          "name": "stdout",
          "text": [
            "108.406\n"
          ]
        },
        {
          "output_type": "stream",
          "name": "stderr",
          "text": [
            "Train: 100%|██████████| 813/813 [00:23<00:00, 34.22it/s]\n",
            "Eval : 100%|██████████| 63/63 [00:01<00:00, 35.11it/s]\n",
            "Epoch 1927\n"
          ]
        },
        {
          "output_type": "stream",
          "name": "stdout",
          "text": [
            "107.222\n"
          ]
        },
        {
          "output_type": "stream",
          "name": "stderr",
          "text": [
            "Train: 100%|██████████| 813/813 [00:29<00:00, 27.31it/s]\n",
            "Eval : 100%|██████████| 63/63 [00:01<00:00, 34.58it/s]\n",
            "Epoch 1928\n"
          ]
        },
        {
          "output_type": "stream",
          "name": "stdout",
          "text": [
            "107.222\n"
          ]
        },
        {
          "output_type": "stream",
          "name": "stderr",
          "text": [
            "Train: 100%|██████████| 813/813 [00:23<00:00, 34.06it/s]\n",
            "Eval : 100%|██████████| 63/63 [00:01<00:00, 34.43it/s]\n",
            "Epoch 1929\n"
          ]
        },
        {
          "output_type": "stream",
          "name": "stdout",
          "text": [
            "109.031\n"
          ]
        },
        {
          "output_type": "stream",
          "name": "stderr",
          "text": [
            "Train: 100%|██████████| 813/813 [00:29<00:00, 27.53it/s]\n",
            "Eval : 100%|██████████| 63/63 [00:01<00:00, 36.12it/s]\n",
            "Epoch 1930\n"
          ]
        },
        {
          "output_type": "stream",
          "name": "stdout",
          "text": [
            "109.031\n"
          ]
        },
        {
          "output_type": "stream",
          "name": "stderr",
          "text": [
            "Train: 100%|██████████| 813/813 [00:23<00:00, 35.18it/s]\n",
            "Eval : 100%|██████████| 63/63 [00:01<00:00, 36.21it/s]\n",
            "Epoch 1931\n"
          ]
        },
        {
          "output_type": "stream",
          "name": "stdout",
          "text": [
            "107.511\n"
          ]
        },
        {
          "output_type": "stream",
          "name": "stderr",
          "text": [
            "Train: 100%|██████████| 813/813 [00:28<00:00, 28.35it/s]\n",
            "Eval : 100%|██████████| 63/63 [00:01<00:00, 36.33it/s]\n",
            "Epoch 1932\n"
          ]
        },
        {
          "output_type": "stream",
          "name": "stdout",
          "text": [
            "107.511\n"
          ]
        },
        {
          "output_type": "stream",
          "name": "stderr",
          "text": [
            "Train: 100%|██████████| 813/813 [00:23<00:00, 35.23it/s]\n",
            "Eval : 100%|██████████| 63/63 [00:01<00:00, 36.64it/s]\n",
            "Epoch 1933\n"
          ]
        },
        {
          "output_type": "stream",
          "name": "stdout",
          "text": [
            "108.596\n"
          ]
        },
        {
          "output_type": "stream",
          "name": "stderr",
          "text": [
            "Train: 100%|██████████| 813/813 [00:28<00:00, 28.20it/s]\n",
            "Eval : 100%|██████████| 63/63 [00:01<00:00, 37.16it/s]\n",
            "Epoch 1934\n"
          ]
        },
        {
          "output_type": "stream",
          "name": "stdout",
          "text": [
            "108.596\n"
          ]
        },
        {
          "output_type": "stream",
          "name": "stderr",
          "text": [
            "Train: 100%|██████████| 813/813 [00:22<00:00, 35.52it/s]\n",
            "Eval : 100%|██████████| 63/63 [00:01<00:00, 36.79it/s]\n",
            "Epoch 1935\n"
          ]
        },
        {
          "output_type": "stream",
          "name": "stdout",
          "text": [
            "107.014\n"
          ]
        },
        {
          "output_type": "stream",
          "name": "stderr",
          "text": [
            "Train: 100%|██████████| 813/813 [00:28<00:00, 28.41it/s]\n",
            "Eval : 100%|██████████| 63/63 [00:01<00:00, 36.65it/s]\n",
            "Epoch 1936\n"
          ]
        },
        {
          "output_type": "stream",
          "name": "stdout",
          "text": [
            "107.014\n"
          ]
        },
        {
          "output_type": "stream",
          "name": "stderr",
          "text": [
            "Train: 100%|██████████| 813/813 [00:23<00:00, 35.04it/s]\n",
            "Eval : 100%|██████████| 63/63 [00:01<00:00, 33.76it/s]\n",
            "Epoch 1937\n"
          ]
        },
        {
          "output_type": "stream",
          "name": "stdout",
          "text": [
            "108.655\n"
          ]
        },
        {
          "output_type": "stream",
          "name": "stderr",
          "text": [
            "Train: 100%|██████████| 813/813 [00:29<00:00, 27.36it/s]\n",
            "Eval : 100%|██████████| 63/63 [00:01<00:00, 35.85it/s]\n",
            "Epoch 1938\n"
          ]
        },
        {
          "output_type": "stream",
          "name": "stdout",
          "text": [
            "108.655\n"
          ]
        },
        {
          "output_type": "stream",
          "name": "stderr",
          "text": [
            "Train: 100%|██████████| 813/813 [00:23<00:00, 34.42it/s]\n",
            "Eval : 100%|██████████| 63/63 [00:01<00:00, 35.05it/s]\n",
            "Epoch 1939\n"
          ]
        },
        {
          "output_type": "stream",
          "name": "stdout",
          "text": [
            "106.897\n"
          ]
        },
        {
          "output_type": "stream",
          "name": "stderr",
          "text": [
            "Train: 100%|██████████| 813/813 [00:29<00:00, 27.36it/s]\n",
            "Eval : 100%|██████████| 63/63 [00:01<00:00, 33.92it/s]\n",
            "Epoch 1940\n"
          ]
        },
        {
          "output_type": "stream",
          "name": "stdout",
          "text": [
            "106.897\n"
          ]
        },
        {
          "output_type": "stream",
          "name": "stderr",
          "text": [
            "Train: 100%|██████████| 813/813 [00:23<00:00, 34.13it/s]\n",
            "Eval : 100%|██████████| 63/63 [00:01<00:00, 36.28it/s]\n",
            "Epoch 1941\n"
          ]
        },
        {
          "output_type": "stream",
          "name": "stdout",
          "text": [
            "108.655\n"
          ]
        },
        {
          "output_type": "stream",
          "name": "stderr",
          "text": [
            "Train: 100%|██████████| 813/813 [00:29<00:00, 27.80it/s]\n",
            "Eval : 100%|██████████| 63/63 [00:01<00:00, 36.39it/s]\n",
            "Epoch 1942\n"
          ]
        },
        {
          "output_type": "stream",
          "name": "stdout",
          "text": [
            "108.655\n"
          ]
        },
        {
          "output_type": "stream",
          "name": "stderr",
          "text": [
            "Train: 100%|██████████| 813/813 [00:23<00:00, 35.10it/s]\n",
            "Eval : 100%|██████████| 63/63 [00:01<00:00, 35.85it/s]\n",
            "Epoch 1943\n"
          ]
        },
        {
          "output_type": "stream",
          "name": "stdout",
          "text": [
            "106.149\n"
          ]
        },
        {
          "output_type": "stream",
          "name": "stderr",
          "text": [
            "Train: 100%|██████████| 813/813 [00:29<00:00, 28.00it/s]\n",
            "Eval : 100%|██████████| 63/63 [00:01<00:00, 35.56it/s]\n",
            "Epoch 1944\n"
          ]
        },
        {
          "output_type": "stream",
          "name": "stdout",
          "text": [
            "106.149\n"
          ]
        },
        {
          "output_type": "stream",
          "name": "stderr",
          "text": [
            "Train: 100%|██████████| 813/813 [00:22<00:00, 35.65it/s]\n",
            "Eval : 100%|██████████| 63/63 [00:01<00:00, 36.43it/s]\n",
            "Epoch 1945\n"
          ]
        },
        {
          "output_type": "stream",
          "name": "stdout",
          "text": [
            "108.341\n"
          ]
        },
        {
          "output_type": "stream",
          "name": "stderr",
          "text": [
            "Train: 100%|██████████| 813/813 [00:28<00:00, 28.32it/s]\n",
            "Eval : 100%|██████████| 63/63 [00:01<00:00, 36.26it/s]\n",
            "Epoch 1946\n"
          ]
        },
        {
          "output_type": "stream",
          "name": "stdout",
          "text": [
            "108.341\n"
          ]
        },
        {
          "output_type": "stream",
          "name": "stderr",
          "text": [
            "Train: 100%|██████████| 813/813 [00:22<00:00, 35.39it/s]\n",
            "Eval : 100%|██████████| 63/63 [00:01<00:00, 36.45it/s]\n",
            "Epoch 1947\n"
          ]
        },
        {
          "output_type": "stream",
          "name": "stdout",
          "text": [
            "107.807\n"
          ]
        },
        {
          "output_type": "stream",
          "name": "stderr",
          "text": [
            "Train: 100%|██████████| 813/813 [00:28<00:00, 28.28it/s]\n",
            "Eval : 100%|██████████| 63/63 [00:01<00:00, 36.80it/s]\n",
            "Epoch 1948\n"
          ]
        },
        {
          "output_type": "stream",
          "name": "stdout",
          "text": [
            "107.807\n"
          ]
        },
        {
          "output_type": "stream",
          "name": "stderr",
          "text": [
            "Train: 100%|██████████| 813/813 [00:22<00:00, 35.38it/s]\n",
            "Eval : 100%|██████████| 63/63 [00:01<00:00, 35.66it/s]\n",
            "Epoch 1949\n"
          ]
        },
        {
          "output_type": "stream",
          "name": "stdout",
          "text": [
            "108.56\n"
          ]
        },
        {
          "output_type": "stream",
          "name": "stderr",
          "text": [
            "Train: 100%|██████████| 813/813 [00:28<00:00, 28.07it/s]\n",
            "Eval : 100%|██████████| 63/63 [00:01<00:00, 35.74it/s]\n",
            "Epoch 1950\n"
          ]
        },
        {
          "output_type": "stream",
          "name": "stdout",
          "text": [
            "108.56\n"
          ]
        },
        {
          "output_type": "stream",
          "name": "stderr",
          "text": [
            "Train: 100%|██████████| 813/813 [00:22<00:00, 35.52it/s]\n",
            "Eval : 100%|██████████| 63/63 [00:01<00:00, 36.59it/s]\n",
            "Epoch 1951\n"
          ]
        },
        {
          "output_type": "stream",
          "name": "stdout",
          "text": [
            "107.998\n"
          ]
        },
        {
          "output_type": "stream",
          "name": "stderr",
          "text": [
            "Train: 100%|██████████| 813/813 [00:29<00:00, 28.02it/s]\n",
            "Eval : 100%|██████████| 63/63 [00:01<00:00, 36.68it/s]\n",
            "Epoch 1952\n"
          ]
        },
        {
          "output_type": "stream",
          "name": "stdout",
          "text": [
            "107.998\n"
          ]
        },
        {
          "output_type": "stream",
          "name": "stderr",
          "text": [
            "Train: 100%|██████████| 813/813 [00:22<00:00, 35.65it/s]\n",
            "Eval : 100%|██████████| 63/63 [00:01<00:00, 35.99it/s]\n",
            "Epoch 1953\n"
          ]
        },
        {
          "output_type": "stream",
          "name": "stdout",
          "text": [
            "109.221\n"
          ]
        },
        {
          "output_type": "stream",
          "name": "stderr",
          "text": [
            "Train: 100%|██████████| 813/813 [00:29<00:00, 27.20it/s]\n",
            "Eval : 100%|██████████| 63/63 [00:01<00:00, 33.81it/s]\n",
            "Epoch 1954\n"
          ]
        },
        {
          "output_type": "stream",
          "name": "stdout",
          "text": [
            "109.221\n"
          ]
        },
        {
          "output_type": "stream",
          "name": "stderr",
          "text": [
            "Train: 100%|██████████| 813/813 [00:23<00:00, 33.91it/s]\n",
            "Eval : 100%|██████████| 63/63 [00:01<00:00, 34.81it/s]\n",
            "Epoch 1955\n"
          ]
        },
        {
          "output_type": "stream",
          "name": "stdout",
          "text": [
            "107.184\n"
          ]
        },
        {
          "output_type": "stream",
          "name": "stderr",
          "text": [
            "Train: 100%|██████████| 813/813 [00:29<00:00, 27.21it/s]\n",
            "Eval : 100%|██████████| 63/63 [00:01<00:00, 35.81it/s]\n",
            "Epoch 1956\n"
          ]
        },
        {
          "output_type": "stream",
          "name": "stdout",
          "text": [
            "107.184\n"
          ]
        },
        {
          "output_type": "stream",
          "name": "stderr",
          "text": [
            "Train: 100%|██████████| 813/813 [00:24<00:00, 33.75it/s]\n",
            "Eval : 100%|██████████| 63/63 [00:01<00:00, 34.84it/s]\n",
            "Epoch 1957\n"
          ]
        },
        {
          "output_type": "stream",
          "name": "stdout",
          "text": [
            "108.344\n"
          ]
        },
        {
          "output_type": "stream",
          "name": "stderr",
          "text": [
            "Train: 100%|██████████| 813/813 [00:29<00:00, 27.13it/s]\n",
            "Eval : 100%|██████████| 63/63 [00:01<00:00, 35.66it/s]\n",
            "Epoch 1958\n"
          ]
        },
        {
          "output_type": "stream",
          "name": "stdout",
          "text": [
            "108.344\n"
          ]
        },
        {
          "output_type": "stream",
          "name": "stderr",
          "text": [
            "Train: 100%|██████████| 813/813 [00:23<00:00, 34.92it/s]\n",
            "Eval : 100%|██████████| 63/63 [00:01<00:00, 36.19it/s]\n",
            "Epoch 1959\n"
          ]
        },
        {
          "output_type": "stream",
          "name": "stdout",
          "text": [
            "108.98\n"
          ]
        },
        {
          "output_type": "stream",
          "name": "stderr",
          "text": [
            "Train: 100%|██████████| 813/813 [00:29<00:00, 27.97it/s]\n",
            "Eval : 100%|██████████| 63/63 [00:01<00:00, 36.10it/s]\n",
            "Epoch 1960\n"
          ]
        },
        {
          "output_type": "stream",
          "name": "stdout",
          "text": [
            "108.98\n"
          ]
        },
        {
          "output_type": "stream",
          "name": "stderr",
          "text": [
            "Train: 100%|██████████| 813/813 [00:23<00:00, 35.13it/s]\n",
            "Eval : 100%|██████████| 63/63 [00:01<00:00, 36.42it/s]\n",
            "Epoch 1961\n"
          ]
        },
        {
          "output_type": "stream",
          "name": "stdout",
          "text": [
            "108.722\n"
          ]
        },
        {
          "output_type": "stream",
          "name": "stderr",
          "text": [
            "Train: 100%|██████████| 813/813 [00:28<00:00, 28.12it/s]\n",
            "Eval : 100%|██████████| 63/63 [00:01<00:00, 36.77it/s]\n",
            "Epoch 1962\n"
          ]
        },
        {
          "output_type": "stream",
          "name": "stdout",
          "text": [
            "108.722\n"
          ]
        },
        {
          "output_type": "stream",
          "name": "stderr",
          "text": [
            "Train: 100%|██████████| 813/813 [00:22<00:00, 35.68it/s]\n",
            "Eval : 100%|██████████| 63/63 [00:01<00:00, 36.49it/s]\n",
            "Epoch 1963\n"
          ]
        },
        {
          "output_type": "stream",
          "name": "stdout",
          "text": [
            "108.732\n"
          ]
        },
        {
          "output_type": "stream",
          "name": "stderr",
          "text": [
            "Train: 100%|██████████| 813/813 [00:28<00:00, 28.46it/s]\n",
            "Eval : 100%|██████████| 63/63 [00:01<00:00, 35.85it/s]\n",
            "Epoch 1964\n"
          ]
        },
        {
          "output_type": "stream",
          "name": "stdout",
          "text": [
            "108.732\n"
          ]
        },
        {
          "output_type": "stream",
          "name": "stderr",
          "text": [
            "Train: 100%|██████████| 813/813 [00:22<00:00, 35.55it/s]\n",
            "Eval : 100%|██████████| 63/63 [00:01<00:00, 35.90it/s]\n",
            "Epoch 1965\n"
          ]
        },
        {
          "output_type": "stream",
          "name": "stdout",
          "text": [
            "107.015\n"
          ]
        },
        {
          "output_type": "stream",
          "name": "stderr",
          "text": [
            "Train: 100%|██████████| 813/813 [00:28<00:00, 28.18it/s]\n",
            "Eval : 100%|██████████| 63/63 [00:01<00:00, 35.41it/s]\n",
            "Epoch 1966\n"
          ]
        },
        {
          "output_type": "stream",
          "name": "stdout",
          "text": [
            "107.015\n"
          ]
        },
        {
          "output_type": "stream",
          "name": "stderr",
          "text": [
            "Train: 100%|██████████| 813/813 [00:23<00:00, 35.19it/s]\n",
            "Eval : 100%|██████████| 63/63 [00:01<00:00, 34.88it/s]\n",
            "Epoch 1967\n"
          ]
        },
        {
          "output_type": "stream",
          "name": "stdout",
          "text": [
            "107.511\n"
          ]
        },
        {
          "output_type": "stream",
          "name": "stderr",
          "text": [
            "Train: 100%|██████████| 813/813 [00:28<00:00, 28.44it/s]\n",
            "Eval : 100%|██████████| 63/63 [00:01<00:00, 36.92it/s]\n",
            "Epoch 1968\n"
          ]
        },
        {
          "output_type": "stream",
          "name": "stdout",
          "text": [
            "107.511\n"
          ]
        },
        {
          "output_type": "stream",
          "name": "stderr",
          "text": [
            "Train: 100%|██████████| 813/813 [00:23<00:00, 35.18it/s]\n",
            "Eval : 100%|██████████| 63/63 [00:01<00:00, 36.06it/s]\n",
            "Epoch 1969\n"
          ]
        },
        {
          "output_type": "stream",
          "name": "stdout",
          "text": [
            "108.033\n"
          ]
        },
        {
          "output_type": "stream",
          "name": "stderr",
          "text": [
            "Train: 100%|██████████| 813/813 [00:29<00:00, 27.85it/s]\n",
            "Eval : 100%|██████████| 63/63 [00:01<00:00, 35.45it/s]\n",
            "Epoch 1970\n"
          ]
        },
        {
          "output_type": "stream",
          "name": "stdout",
          "text": [
            "108.033\n"
          ]
        },
        {
          "output_type": "stream",
          "name": "stderr",
          "text": [
            "Train: 100%|██████████| 813/813 [00:23<00:00, 34.25it/s]\n",
            "Eval : 100%|██████████| 63/63 [00:01<00:00, 34.76it/s]\n",
            "Epoch 1971\n"
          ]
        },
        {
          "output_type": "stream",
          "name": "stdout",
          "text": [
            "107.91\n"
          ]
        },
        {
          "output_type": "stream",
          "name": "stderr",
          "text": [
            "Train: 100%|██████████| 813/813 [00:30<00:00, 26.89it/s]\n",
            "Eval : 100%|██████████| 63/63 [00:01<00:00, 35.35it/s]\n",
            "Epoch 1972\n"
          ]
        },
        {
          "output_type": "stream",
          "name": "stdout",
          "text": [
            "107.91\n"
          ]
        },
        {
          "output_type": "stream",
          "name": "stderr",
          "text": [
            "Train: 100%|██████████| 813/813 [00:24<00:00, 33.70it/s]\n",
            "Eval : 100%|██████████| 63/63 [00:01<00:00, 34.71it/s]\n",
            "Epoch 1973\n"
          ]
        },
        {
          "output_type": "stream",
          "name": "stdout",
          "text": [
            "107.803\n"
          ]
        },
        {
          "output_type": "stream",
          "name": "stderr",
          "text": [
            "Train: 100%|██████████| 813/813 [00:30<00:00, 26.88it/s]\n",
            "Eval : 100%|██████████| 63/63 [00:01<00:00, 34.60it/s]\n",
            "Epoch 1974\n"
          ]
        },
        {
          "output_type": "stream",
          "name": "stdout",
          "text": [
            "107.803\n"
          ]
        },
        {
          "output_type": "stream",
          "name": "stderr",
          "text": [
            "Train: 100%|██████████| 813/813 [00:23<00:00, 34.49it/s]\n",
            "Eval : 100%|██████████| 63/63 [00:01<00:00, 35.71it/s]\n",
            "Epoch 1975\n"
          ]
        },
        {
          "output_type": "stream",
          "name": "stdout",
          "text": [
            "107.887\n"
          ]
        },
        {
          "output_type": "stream",
          "name": "stderr",
          "text": [
            "Train: 100%|██████████| 813/813 [00:28<00:00, 28.22it/s]\n",
            "Eval : 100%|██████████| 63/63 [00:01<00:00, 36.47it/s]\n",
            "Epoch 1976\n"
          ]
        },
        {
          "output_type": "stream",
          "name": "stdout",
          "text": [
            "107.887\n"
          ]
        },
        {
          "output_type": "stream",
          "name": "stderr",
          "text": [
            "Train: 100%|██████████| 813/813 [00:22<00:00, 35.36it/s]\n",
            "Eval : 100%|██████████| 63/63 [00:01<00:00, 35.22it/s]\n",
            "Epoch 1977\n"
          ]
        },
        {
          "output_type": "stream",
          "name": "stdout",
          "text": [
            "107.976\n"
          ]
        },
        {
          "output_type": "stream",
          "name": "stderr",
          "text": [
            "Train: 100%|██████████| 813/813 [00:29<00:00, 27.77it/s]\n",
            "Eval : 100%|██████████| 63/63 [00:01<00:00, 35.46it/s]\n",
            "Epoch 1978\n"
          ]
        },
        {
          "output_type": "stream",
          "name": "stdout",
          "text": [
            "107.976\n"
          ]
        },
        {
          "output_type": "stream",
          "name": "stderr",
          "text": [
            "Train: 100%|██████████| 813/813 [00:22<00:00, 35.43it/s]\n",
            "Eval : 100%|██████████| 63/63 [00:01<00:00, 36.62it/s]\n",
            "Epoch 1979\n"
          ]
        },
        {
          "output_type": "stream",
          "name": "stdout",
          "text": [
            "107.826\n"
          ]
        },
        {
          "output_type": "stream",
          "name": "stderr",
          "text": [
            "Train: 100%|██████████| 813/813 [00:28<00:00, 28.21it/s]\n",
            "Eval : 100%|██████████| 63/63 [00:01<00:00, 36.50it/s]\n",
            "Epoch 1980\n"
          ]
        },
        {
          "output_type": "stream",
          "name": "stdout",
          "text": [
            "107.826\n"
          ]
        },
        {
          "output_type": "stream",
          "name": "stderr",
          "text": [
            "Train: 100%|██████████| 813/813 [00:23<00:00, 35.30it/s]\n",
            "Eval : 100%|██████████| 63/63 [00:01<00:00, 36.56it/s]\n",
            "Epoch 1981\n"
          ]
        },
        {
          "output_type": "stream",
          "name": "stdout",
          "text": [
            "106.855\n"
          ]
        },
        {
          "output_type": "stream",
          "name": "stderr",
          "text": [
            "Train: 100%|██████████| 813/813 [00:28<00:00, 28.04it/s]\n",
            "Eval : 100%|██████████| 63/63 [00:01<00:00, 37.00it/s]\n",
            "Epoch 1982\n"
          ]
        },
        {
          "output_type": "stream",
          "name": "stdout",
          "text": [
            "106.855\n"
          ]
        },
        {
          "output_type": "stream",
          "name": "stderr",
          "text": [
            "Train: 100%|██████████| 813/813 [00:23<00:00, 35.29it/s]\n",
            "Eval : 100%|██████████| 63/63 [00:01<00:00, 36.00it/s]\n",
            "Epoch 1983\n"
          ]
        },
        {
          "output_type": "stream",
          "name": "stdout",
          "text": [
            "107.56\n"
          ]
        },
        {
          "output_type": "stream",
          "name": "stderr",
          "text": [
            "Train: 100%|██████████| 813/813 [00:28<00:00, 28.13it/s]\n",
            "Eval : 100%|██████████| 63/63 [00:01<00:00, 35.16it/s]\n",
            "Epoch 1984\n"
          ]
        },
        {
          "output_type": "stream",
          "name": "stdout",
          "text": [
            "107.56\n"
          ]
        },
        {
          "output_type": "stream",
          "name": "stderr",
          "text": [
            "Train: 100%|██████████| 813/813 [00:22<00:00, 35.67it/s]\n",
            "Eval : 100%|██████████| 63/63 [00:01<00:00, 36.53it/s]\n",
            "Epoch 1985\n"
          ]
        },
        {
          "output_type": "stream",
          "name": "stdout",
          "text": [
            "107.912\n"
          ]
        },
        {
          "output_type": "stream",
          "name": "stderr",
          "text": [
            "Train: 100%|██████████| 813/813 [00:28<00:00, 28.29it/s]\n",
            "Eval : 100%|██████████| 63/63 [00:01<00:00, 36.70it/s]\n",
            "Epoch 1986\n"
          ]
        },
        {
          "output_type": "stream",
          "name": "stdout",
          "text": [
            "107.912\n"
          ]
        },
        {
          "output_type": "stream",
          "name": "stderr",
          "text": [
            "Train: 100%|██████████| 813/813 [00:23<00:00, 35.01it/s]\n",
            "Eval : 100%|██████████| 63/63 [00:01<00:00, 35.79it/s]\n",
            "Epoch 1987\n"
          ]
        },
        {
          "output_type": "stream",
          "name": "stdout",
          "text": [
            "108.304\n"
          ]
        },
        {
          "output_type": "stream",
          "name": "stderr",
          "text": [
            "Train: 100%|██████████| 813/813 [00:29<00:00, 27.72it/s]\n",
            "Eval : 100%|██████████| 63/63 [00:01<00:00, 35.79it/s]\n",
            "Epoch 1988\n"
          ]
        },
        {
          "output_type": "stream",
          "name": "stdout",
          "text": [
            "108.304\n"
          ]
        },
        {
          "output_type": "stream",
          "name": "stderr",
          "text": [
            "Train: 100%|██████████| 813/813 [00:23<00:00, 34.21it/s]\n",
            "Eval : 100%|██████████| 63/63 [00:01<00:00, 34.27it/s]\n",
            "Epoch 1989\n"
          ]
        },
        {
          "output_type": "stream",
          "name": "stdout",
          "text": [
            "108.134\n"
          ]
        },
        {
          "output_type": "stream",
          "name": "stderr",
          "text": [
            "Train: 100%|██████████| 813/813 [00:29<00:00, 27.36it/s]\n",
            "Eval : 100%|██████████| 63/63 [00:01<00:00, 33.83it/s]\n",
            "Epoch 1990\n"
          ]
        },
        {
          "output_type": "stream",
          "name": "stdout",
          "text": [
            "108.134\n"
          ]
        },
        {
          "output_type": "stream",
          "name": "stderr",
          "text": [
            "Train: 100%|██████████| 813/813 [00:23<00:00, 34.39it/s]\n",
            "Eval : 100%|██████████| 63/63 [00:01<00:00, 35.26it/s]\n",
            "Epoch 1991\n"
          ]
        },
        {
          "output_type": "stream",
          "name": "stdout",
          "text": [
            "109.058\n"
          ]
        },
        {
          "output_type": "stream",
          "name": "stderr",
          "text": [
            "Train: 100%|██████████| 813/813 [00:29<00:00, 27.65it/s]\n",
            "Eval : 100%|██████████| 63/63 [00:01<00:00, 35.67it/s]\n",
            "Epoch 1992\n"
          ]
        },
        {
          "output_type": "stream",
          "name": "stdout",
          "text": [
            "109.058\n"
          ]
        },
        {
          "output_type": "stream",
          "name": "stderr",
          "text": [
            "Train: 100%|██████████| 813/813 [00:23<00:00, 34.58it/s]\n",
            "Eval : 100%|██████████| 63/63 [00:01<00:00, 36.20it/s]\n",
            "Epoch 1993\n"
          ]
        },
        {
          "output_type": "stream",
          "name": "stdout",
          "text": [
            "108.138\n"
          ]
        },
        {
          "output_type": "stream",
          "name": "stderr",
          "text": [
            "Train: 100%|██████████| 813/813 [00:28<00:00, 28.09it/s]\n",
            "Eval : 100%|██████████| 63/63 [00:01<00:00, 36.76it/s]\n",
            "Epoch 1994\n"
          ]
        },
        {
          "output_type": "stream",
          "name": "stdout",
          "text": [
            "108.138\n"
          ]
        },
        {
          "output_type": "stream",
          "name": "stderr",
          "text": [
            "Train: 100%|██████████| 813/813 [00:23<00:00, 35.27it/s]\n",
            "Eval : 100%|██████████| 63/63 [00:01<00:00, 36.23it/s]\n",
            "Epoch 1995\n"
          ]
        },
        {
          "output_type": "stream",
          "name": "stdout",
          "text": [
            "107.777\n"
          ]
        },
        {
          "output_type": "stream",
          "name": "stderr",
          "text": [
            "Train: 100%|██████████| 813/813 [00:28<00:00, 28.34it/s]\n",
            "Eval : 100%|██████████| 63/63 [00:01<00:00, 36.22it/s]\n",
            "Epoch 1996\n"
          ]
        },
        {
          "output_type": "stream",
          "name": "stdout",
          "text": [
            "107.777\n"
          ]
        },
        {
          "output_type": "stream",
          "name": "stderr",
          "text": [
            "Train: 100%|██████████| 813/813 [00:23<00:00, 35.20it/s]\n",
            "Eval : 100%|██████████| 63/63 [00:01<00:00, 35.27it/s]\n",
            "Epoch 1997\n"
          ]
        },
        {
          "output_type": "stream",
          "name": "stdout",
          "text": [
            "108.83\n"
          ]
        },
        {
          "output_type": "stream",
          "name": "stderr",
          "text": [
            "Train: 100%|██████████| 813/813 [00:28<00:00, 28.04it/s]\n",
            "Eval : 100%|██████████| 63/63 [00:01<00:00, 36.31it/s]\n",
            "Epoch 1998\n"
          ]
        },
        {
          "output_type": "stream",
          "name": "stdout",
          "text": [
            "108.83\n"
          ]
        },
        {
          "output_type": "stream",
          "name": "stderr",
          "text": [
            "Train: 100%|██████████| 813/813 [00:22<00:00, 35.50it/s]\n",
            "Eval : 100%|██████████| 63/63 [00:01<00:00, 35.52it/s]\n",
            "Epoch 1999\n"
          ]
        },
        {
          "output_type": "stream",
          "name": "stdout",
          "text": [
            "108.114\n"
          ]
        },
        {
          "output_type": "stream",
          "name": "stderr",
          "text": [
            "Train: 100%|██████████| 813/813 [00:28<00:00, 28.19it/s]\n",
            "Eval : 100%|██████████| 63/63 [00:01<00:00, 35.53it/s]\n",
            "Epoch 2000\n"
          ]
        },
        {
          "output_type": "stream",
          "name": "stdout",
          "text": [
            "108.114\n"
          ]
        },
        {
          "output_type": "stream",
          "name": "stderr",
          "text": [
            "Train: 100%|██████████| 813/813 [00:22<00:00, 35.47it/s]\n",
            "Eval : 100%|██████████| 63/63 [00:01<00:00, 35.54it/s]\n"
          ]
        },
        {
          "output_type": "stream",
          "name": "stdout",
          "text": [
            "107.936\n"
          ]
        },
        {
          "output_type": "display_data",
          "data": {
            "text/plain": [
              "VBox(children=(Label(value='0.001 MB of 0.001 MB uploaded\\r'), FloatProgress(value=1.0, max=1.0)))"
            ],
            "application/vnd.jupyter.widget-view+json": {
              "version_major": 2,
              "version_minor": 0,
              "model_id": "bedf92f179254b228c45718a1a4d62cb"
            }
          },
          "metadata": {}
        },
        {
          "output_type": "display_data",
          "data": {
            "text/plain": [
              "<IPython.core.display.HTML object>"
            ],
            "text/html": [
              "<style>\n",
              "    table.wandb td:nth-child(1) { padding: 0 10px; text-align: left ; width: auto;} td:nth-child(2) {text-align: left ; width: 100%}\n",
              "    .wandb-row { display: flex; flex-direction: row; flex-wrap: wrap; justify-content: flex-start; width: 100% }\n",
              "    .wandb-col { display: flex; flex-direction: column; flex-basis: 100%; flex: 1; padding: 10px; }\n",
              "    </style>\n",
              "<div class=\"wandb-row\"><div class=\"wandb-col\"><h3>Run history:</h3><br/><table class=\"wandb\"><tr><td>edit_distance</td><td>▆▄▆▅▄█▃▄▄▃▆▄▄▁▅▅▆▄▃▄▅▄▃▂▁▄▃▂▃▃▄▅▅▄▅▄▅▃▅▄</td></tr></table><br/></div><div class=\"wandb-col\"><h3>Run summary:</h3><br/><table class=\"wandb\"><tr><td>edit_distance</td><td>107.936</td></tr></table><br/></div></div>"
            ]
          },
          "metadata": {}
        },
        {
          "output_type": "display_data",
          "data": {
            "text/plain": [
              "<IPython.core.display.HTML object>"
            ],
            "text/html": [
              " View run <strong style=\"color:#cdcd00\">homework-5</strong> at: <a href='https://wandb.ai/iw/hw5/runs/i6h3tt49' target=\"_blank\">https://wandb.ai/iw/hw5/runs/i6h3tt49</a><br/>Synced 5 W&B file(s), 0 media file(s), 0 artifact file(s) and 0 other file(s)"
            ]
          },
          "metadata": {}
        },
        {
          "output_type": "display_data",
          "data": {
            "text/plain": [
              "<IPython.core.display.HTML object>"
            ],
            "text/html": [
              "Find logs at: <code>./wandb/run-20231124_225145-i6h3tt49/logs</code>"
            ]
          },
          "metadata": {}
        }
      ],
      "source": [
        "print(f\"Training for {num_epochs} epochs\", file=sys.stderr)\n",
        "\n",
        "eval_interval = 1 # evaluation after how many epochs?\n",
        "best_eval_loss = 1e9\n",
        "\n",
        "for epoch in range(epoch_start, num_epochs + 1):\n",
        "    print(f\"Epoch {epoch}\", file=sys.stderr)\n",
        "\n",
        "    model.train()\n",
        "    # The model uses the epoch number to decide which part of the network to train\n",
        "    model.set_num_updates(epoch) # Look at what this function does in the Wav2vec_U class\n",
        "\n",
        "    train_stats = run_model(model, train_dataloader)\n",
        "\n",
        "    if epoch % eval_interval == 0:\n",
        "\n",
        "        model.eval()\n",
        "        with torch.no_grad():\n",
        "            eval_stats = run_model(model, validation_dataloader)\n",
        "            print(eval_stats[\"edit_distance\"])\n",
        "\n",
        "        # TODO: perhaps save your model and optimizer here\n",
        "        # Tip: You can even save the model after every epoch along with the best model.\n",
        "        # This may help to continue training even if the best model is from a very early epoch.\n",
        "\n",
        "\n",
        "\n",
        "        torch.save(model.state_dict(), f\"model_epoch_{epoch}.pt\")\n",
        "        #torch.save(optimizer.state_dict(), f\"optimizer_epoch_{epoch}.pt\")\n",
        "        wandb.log({\"edit_distance\": eval_stats[\"edit_distance\"]})\n",
        "\n",
        "\n",
        "\n",
        "    else:\n",
        "        eval_stats = {}\n",
        "\n",
        "    # TODO: Log training/eval statistics\n",
        "\n",
        "\n",
        "wandb.finish()\n",
        "\n",
        "# V100"
      ],
      "id": "09a4fe6c-a9e4-4c6e-9483-4fc4e1f5d3f9"
    },
    {
      "cell_type": "code",
      "source": [
        "print(eval_stats)"
      ],
      "metadata": {
        "id": "p3vPGgB2nyCl",
        "colab": {
          "base_uri": "https://localhost:8080/"
        },
        "outputId": "72751394-9446-4275-9ad2-6e8e476eda67"
      },
      "id": "p3vPGgB2nyCl",
      "execution_count": null,
      "outputs": [
        {
          "output_type": "stream",
          "name": "stdout",
          "text": [
            "{'edit_distance': 107.936, '_num_chars': 125.089, '_num_pred_chars': 77.321, 'nsentences': 1.0, '_world_size': 0.063, '_lm_score_sum': 0.0, '_kaldi_score_sum': 0.0, '_word_lm_sum': 0.0, '_num_words': 0.0, '_vocab_seen': [0.001, 0.001, 0.001, 0.001, 0.001, 0.001, 0.001, 0.001, 0.001, 0.001, 0.001, 0.001, 0.001, 0.001, 0.001, 0.001, 0.001, 0.001, 0.001, 0.001, 0.001, 0.001, 0.001, 0.001, 0.001, 0.001, 0.001, 0.001, 0.001, 0.001, 0.001, 0.001, 0.001, 0.001, 0.001, 0.001, 0.001, 0.001, 0.001, 0.001, 0.001, 0.001, 0.001, 0.001, 0.001, 0.001, 0.001, 0.001, 0.001, 0.001, 0.001, 0.001, 0.001, 0.001, 0.001, 0.001, 0.001, 0.001, 0.001, 0.0]}\n"
          ]
        }
      ]
    },
    {
      "cell_type": "markdown",
      "metadata": {
        "id": "fa463D7CGwED"
      },
      "source": [
        "# Testing and submission to Kaggle"
      ],
      "id": "fa463D7CGwED"
    },
    {
      "cell_type": "code",
      "execution_count": null,
      "metadata": {
        "id": "4d60ff70-589d-49b4-9445-0587cf538070",
        "colab": {
          "base_uri": "https://localhost:8080/",
          "height": 141
        },
        "outputId": "e109aeca-1e94-45b5-dede-49e95727651f"
      },
      "outputs": [
        {
          "output_type": "error",
          "ename": "SyntaxError",
          "evalue": "ignored",
          "traceback": [
            "\u001b[0;36m  File \u001b[0;32m\"<ipython-input-27-e2d163956868>\"\u001b[0;36m, line \u001b[0;32m2\u001b[0m\n\u001b[0;31m    test_path = # TODO: PathToTest\u001b[0m\n\u001b[0m                ^\u001b[0m\n\u001b[0;31mSyntaxError\u001b[0m\u001b[0;31m:\u001b[0m invalid syntax\n"
          ]
        }
      ],
      "source": [
        "from dataset import extracted_features_dataset\n",
        "test_path = # TODO: PathToTest\n",
        "testset = extracted_features_dataset.ExtractedFeaturesDataset(path=test_path,\n",
        "                                                              split='test')\n",
        "\n",
        "test_dataloader_args = train_dataloader_args.copy()\n",
        "test_dataloader_args[\"shuffle\"] = False\n",
        "test_dataloader_args[\"collate_fn\"] = testset.collater\n",
        "\n",
        "test_dataloader = data.DataLoader(testset, **test_dataloader_args)"
      ],
      "id": "4d60ff70-589d-49b4-9445-0587cf538070"
    },
    {
      "cell_type": "markdown",
      "metadata": {
        "id": "t87M7kvdIGgI"
      },
      "source": [
        "Write the `test_step` function which can be coded very similar to `valid_step` given in `task/unpaired_audio_text.py`"
      ],
      "id": "t87M7kvdIGgI"
    },
    {
      "cell_type": "code",
      "execution_count": null,
      "metadata": {
        "id": "WdfayF0SH9QM"
      },
      "outputs": [],
      "source": [
        "def test_step(self, inputs, model):\n",
        "    sample = inputs\n",
        "\n",
        "    res = model(\n",
        "        **sample[\"net_input\"],\n",
        "        dense_x_only=True,\n",
        "    )\n",
        "\n",
        "    dense_x = res[\"logits\"]\n",
        "    padding_mask = res[\"padding_mask\"]\n",
        "\n",
        "    word_scores = None\n",
        "    if self.compute_word_score is not None:\n",
        "        word_scores = self.compute_word_score(dense_x.cpu(), padding_mask.cpu())\n",
        "\n",
        "    z = dense_x.argmax(-1)\n",
        "    z[padding_mask] = self.target_dictionary.pad()\n",
        "\n",
        "    vocab_seen = torch.zeros(self.num_symbols, dtype=torch.bool)\n",
        "\n",
        "    c_err = 0\n",
        "    c_len = 0\n",
        "    pred_c_len = 0\n",
        "    lm_score_sum = 0\n",
        "\n",
        "    for i, (x, t, id) in enumerate(\n",
        "        zip(\n",
        "            z,\n",
        "            sample[\"target\"] if \"target\" in sample else [None] * len(z),\n",
        "            sample[\"id\"],\n",
        "        )\n",
        "    ):\n",
        "\n",
        "        if t is not None:\n",
        "            t = t[(t >= self.target_dictionary.nspecial)]\n",
        "        x = x[\n",
        "            (x >= self.target_dictionary.nspecial)\n",
        "            & (x < (self.num_symbols + self.target_dictionary.nspecial))\n",
        "        ]\n",
        "        if self.sil_id >= 0:\n",
        "            x = x[x != self.sil_id]\n",
        "\n",
        "        vocab_seen[x - self.target_dictionary.nspecial] = True\n",
        "\n",
        "        pred_units_arr = x\n",
        "        if self.cfg.ctc_eval:\n",
        "            pred_units_arr = pred_units_arr.unique_consecutive()\n",
        "            pred_units_arr = pred_units_arr[pred_units_arr != 0]\n",
        "\n",
        "        if id == 0:\n",
        "            if t is not None:\n",
        "                logger.info(f\"REF: {self.target_dictionary.string(t)}\")\n",
        "            logger.info(f\"HYP: {self.target_dictionary.string(pred_units_arr)}\")\n",
        "\n",
        "            if self.kenlm is not None:\n",
        "                if t is not None:\n",
        "                    ref_lm_s = self.compute_lm_score(\n",
        "                        self.target_dictionary.string(t)\n",
        "                    )\n",
        "                    logger.info(\n",
        "                        f\"LM [REF]: {ref_lm_s}, {math.pow(10, -ref_lm_s / (len(t) + 1))}\"\n",
        "                    )\n",
        "\n",
        "                hyp_lm_s = self.compute_lm_score(\n",
        "                    self.target_dictionary.string(pred_units_arr)\n",
        "                )\n",
        "                logger.info(\n",
        "                    f\"LM [HYP]: {hyp_lm_s}, {math.pow(10, -hyp_lm_s / (len(pred_units_arr) + 1))}\"\n",
        "                )\n",
        "\n",
        "        pred_units_arr = pred_units_arr.tolist()\n",
        "\n",
        "        pred_c_len += len(pred_units_arr)\n",
        "\n",
        "        if t is not None:\n",
        "            t = t.tolist()\n",
        "            c_err += editdistance.eval(pred_units_arr, t)\n",
        "            c_len += len(t)\n",
        "        else:\n",
        "            c_len = pred_c_len\n",
        "\n",
        "        if self.kenlm is not None:\n",
        "            pred_str = self.target_dictionary.string(pred_units_arr)\n",
        "            lm_score = self.compute_lm_score(pred_str)  # Call compute_lm_score on the pred_str\n",
        "            lm_score_sum += lm_score\n",
        "\n",
        "    kaldi_score_sum = 0\n",
        "    word_lm_sum = 0\n",
        "    num_words = 0\n",
        "    if word_scores is not None:\n",
        "        for score, words in word_scores:\n",
        "            kaldi_score_sum += score\n",
        "            num_words += len(words)\n",
        "            if self.word_kenlm is not None:\n",
        "                word_lm_sum += self.kenlm.score(\" \".join(words))\n",
        "\n",
        "    try:\n",
        "        world_size = get_data_parallel_world_size()\n",
        "    except:\n",
        "        world_size = 1\n",
        "\n",
        "    logging_output = {\n",
        "        \"edit_distance\": c_err,\n",
        "        \"_num_chars\": c_len,\n",
        "        \"_num_pred_chars\": pred_c_len,\n",
        "        \"nsentences\": z.size(0),\n",
        "        \"_world_size\": world_size,\n",
        "        \"_lm_score_sum\": lm_score_sum,\n",
        "        \"_kaldi_score_sum\": kaldi_score_sum,\n",
        "        \"_word_lm_sum\": word_lm_sum,\n",
        "        \"_num_words\": num_words,\n",
        "        \"_vocab_seen\": vocab_seen,\n",
        "    }\n",
        "\n",
        "    return logging_output\n"
      ],
      "id": "WdfayF0SH9QM"
    },
    {
      "cell_type": "markdown",
      "metadata": {
        "id": "uo6nr_8tIkI4"
      },
      "source": [
        "Write some code to evaluate and get the results. You are free to write the below cells however you want"
      ],
      "id": "uo6nr_8tIkI4"
    },
    {
      "cell_type": "code",
      "execution_count": null,
      "metadata": {
        "id": "D_F9axpLIh2P"
      },
      "outputs": [],
      "source": [
        "model.eval()\n",
        "results = []\n",
        "\n",
        "for data in tqdm(test_dataloader, desc=\"Test\"):\n",
        "    # TODO\n",
        "    pass"
      ],
      "id": "D_F9axpLIh2P"
    },
    {
      "cell_type": "code",
      "execution_count": null,
      "metadata": {
        "id": "lT2TutVbJOYh"
      },
      "outputs": [],
      "source": [
        "# TODO: Replace the path and get the phoneme_map.json for mapping\n",
        "with open(\"/Path/To/phoneme_map.json\", \"r\") as file:\n",
        "    phon_map = json.load(file)"
      ],
      "id": "lT2TutVbJOYh"
    },
    {
      "cell_type": "code",
      "execution_count": null,
      "metadata": {
        "id": "Y6w0wPUiJcCO"
      },
      "outputs": [],
      "source": [
        "predictions = []\n",
        "\n",
        "for line in results:\n",
        "    # TODO: Map results with phon_map\n",
        "    pass"
      ],
      "id": "Y6w0wPUiJcCO"
    },
    {
      "cell_type": "code",
      "execution_count": null,
      "metadata": {
        "id": "bDnijOksJqMj"
      },
      "outputs": [],
      "source": [
        "# TODO: Make the CSV and submit to kaggle"
      ],
      "id": "bDnijOksJqMj"
    }
  ],
  "metadata": {
    "accelerator": "GPU",
    "colab": {
      "provenance": []
    },
    "kernelspec": {
      "display_name": "Python 3",
      "name": "python3"
    },
    "language_info": {
      "codemirror_mode": {
        "name": "ipython",
        "version": 3
      },
      "file_extension": ".py",
      "mimetype": "text/x-python",
      "name": "python",
      "nbconvert_exporter": "python",
      "pygments_lexer": "ipython3",
      "version": "3.9.7"
    },
    "widgets": {
      "application/vnd.jupyter.widget-state+json": {
        "bedf92f179254b228c45718a1a4d62cb": {
          "model_module": "@jupyter-widgets/controls",
          "model_name": "VBoxModel",
          "model_module_version": "1.5.0",
          "state": {
            "_dom_classes": [],
            "_model_module": "@jupyter-widgets/controls",
            "_model_module_version": "1.5.0",
            "_model_name": "VBoxModel",
            "_view_count": null,
            "_view_module": "@jupyter-widgets/controls",
            "_view_module_version": "1.5.0",
            "_view_name": "VBoxView",
            "box_style": "",
            "children": [
              "IPY_MODEL_1250f2379b7143e0a51dc7eb686f126e",
              "IPY_MODEL_6148d8e43f6b40c3b963a3652d407620"
            ],
            "layout": "IPY_MODEL_352c08d13a514b7588d6b987320efc85"
          }
        },
        "1250f2379b7143e0a51dc7eb686f126e": {
          "model_module": "@jupyter-widgets/controls",
          "model_name": "LabelModel",
          "model_module_version": "1.5.0",
          "state": {
            "_dom_classes": [],
            "_model_module": "@jupyter-widgets/controls",
            "_model_module_version": "1.5.0",
            "_model_name": "LabelModel",
            "_view_count": null,
            "_view_module": "@jupyter-widgets/controls",
            "_view_module_version": "1.5.0",
            "_view_name": "LabelView",
            "description": "",
            "description_tooltip": null,
            "layout": "IPY_MODEL_2edd67ed6b0845939bdd70ca23376897",
            "placeholder": "​",
            "style": "IPY_MODEL_dbd6020756c941139b2a45cec5e55db1",
            "value": "1.820 MB of 1.820 MB uploaded\r"
          }
        },
        "6148d8e43f6b40c3b963a3652d407620": {
          "model_module": "@jupyter-widgets/controls",
          "model_name": "FloatProgressModel",
          "model_module_version": "1.5.0",
          "state": {
            "_dom_classes": [],
            "_model_module": "@jupyter-widgets/controls",
            "_model_module_version": "1.5.0",
            "_model_name": "FloatProgressModel",
            "_view_count": null,
            "_view_module": "@jupyter-widgets/controls",
            "_view_module_version": "1.5.0",
            "_view_name": "ProgressView",
            "bar_style": "",
            "description": "",
            "description_tooltip": null,
            "layout": "IPY_MODEL_376afa6efd2f49a2846ed7a16af09421",
            "max": 1,
            "min": 0,
            "orientation": "horizontal",
            "style": "IPY_MODEL_09f30f53e21248b799090d8549b556e0",
            "value": 1
          }
        },
        "352c08d13a514b7588d6b987320efc85": {
          "model_module": "@jupyter-widgets/base",
          "model_name": "LayoutModel",
          "model_module_version": "1.2.0",
          "state": {
            "_model_module": "@jupyter-widgets/base",
            "_model_module_version": "1.2.0",
            "_model_name": "LayoutModel",
            "_view_count": null,
            "_view_module": "@jupyter-widgets/base",
            "_view_module_version": "1.2.0",
            "_view_name": "LayoutView",
            "align_content": null,
            "align_items": null,
            "align_self": null,
            "border": null,
            "bottom": null,
            "display": null,
            "flex": null,
            "flex_flow": null,
            "grid_area": null,
            "grid_auto_columns": null,
            "grid_auto_flow": null,
            "grid_auto_rows": null,
            "grid_column": null,
            "grid_gap": null,
            "grid_row": null,
            "grid_template_areas": null,
            "grid_template_columns": null,
            "grid_template_rows": null,
            "height": null,
            "justify_content": null,
            "justify_items": null,
            "left": null,
            "margin": null,
            "max_height": null,
            "max_width": null,
            "min_height": null,
            "min_width": null,
            "object_fit": null,
            "object_position": null,
            "order": null,
            "overflow": null,
            "overflow_x": null,
            "overflow_y": null,
            "padding": null,
            "right": null,
            "top": null,
            "visibility": null,
            "width": null
          }
        },
        "2edd67ed6b0845939bdd70ca23376897": {
          "model_module": "@jupyter-widgets/base",
          "model_name": "LayoutModel",
          "model_module_version": "1.2.0",
          "state": {
            "_model_module": "@jupyter-widgets/base",
            "_model_module_version": "1.2.0",
            "_model_name": "LayoutModel",
            "_view_count": null,
            "_view_module": "@jupyter-widgets/base",
            "_view_module_version": "1.2.0",
            "_view_name": "LayoutView",
            "align_content": null,
            "align_items": null,
            "align_self": null,
            "border": null,
            "bottom": null,
            "display": null,
            "flex": null,
            "flex_flow": null,
            "grid_area": null,
            "grid_auto_columns": null,
            "grid_auto_flow": null,
            "grid_auto_rows": null,
            "grid_column": null,
            "grid_gap": null,
            "grid_row": null,
            "grid_template_areas": null,
            "grid_template_columns": null,
            "grid_template_rows": null,
            "height": null,
            "justify_content": null,
            "justify_items": null,
            "left": null,
            "margin": null,
            "max_height": null,
            "max_width": null,
            "min_height": null,
            "min_width": null,
            "object_fit": null,
            "object_position": null,
            "order": null,
            "overflow": null,
            "overflow_x": null,
            "overflow_y": null,
            "padding": null,
            "right": null,
            "top": null,
            "visibility": null,
            "width": null
          }
        },
        "dbd6020756c941139b2a45cec5e55db1": {
          "model_module": "@jupyter-widgets/controls",
          "model_name": "DescriptionStyleModel",
          "model_module_version": "1.5.0",
          "state": {
            "_model_module": "@jupyter-widgets/controls",
            "_model_module_version": "1.5.0",
            "_model_name": "DescriptionStyleModel",
            "_view_count": null,
            "_view_module": "@jupyter-widgets/base",
            "_view_module_version": "1.2.0",
            "_view_name": "StyleView",
            "description_width": ""
          }
        },
        "376afa6efd2f49a2846ed7a16af09421": {
          "model_module": "@jupyter-widgets/base",
          "model_name": "LayoutModel",
          "model_module_version": "1.2.0",
          "state": {
            "_model_module": "@jupyter-widgets/base",
            "_model_module_version": "1.2.0",
            "_model_name": "LayoutModel",
            "_view_count": null,
            "_view_module": "@jupyter-widgets/base",
            "_view_module_version": "1.2.0",
            "_view_name": "LayoutView",
            "align_content": null,
            "align_items": null,
            "align_self": null,
            "border": null,
            "bottom": null,
            "display": null,
            "flex": null,
            "flex_flow": null,
            "grid_area": null,
            "grid_auto_columns": null,
            "grid_auto_flow": null,
            "grid_auto_rows": null,
            "grid_column": null,
            "grid_gap": null,
            "grid_row": null,
            "grid_template_areas": null,
            "grid_template_columns": null,
            "grid_template_rows": null,
            "height": null,
            "justify_content": null,
            "justify_items": null,
            "left": null,
            "margin": null,
            "max_height": null,
            "max_width": null,
            "min_height": null,
            "min_width": null,
            "object_fit": null,
            "object_position": null,
            "order": null,
            "overflow": null,
            "overflow_x": null,
            "overflow_y": null,
            "padding": null,
            "right": null,
            "top": null,
            "visibility": null,
            "width": null
          }
        },
        "09f30f53e21248b799090d8549b556e0": {
          "model_module": "@jupyter-widgets/controls",
          "model_name": "ProgressStyleModel",
          "model_module_version": "1.5.0",
          "state": {
            "_model_module": "@jupyter-widgets/controls",
            "_model_module_version": "1.5.0",
            "_model_name": "ProgressStyleModel",
            "_view_count": null,
            "_view_module": "@jupyter-widgets/base",
            "_view_module_version": "1.2.0",
            "_view_name": "StyleView",
            "bar_color": null,
            "description_width": ""
          }
        }
      }
    }
  },
  "nbformat": 4,
  "nbformat_minor": 5
}
